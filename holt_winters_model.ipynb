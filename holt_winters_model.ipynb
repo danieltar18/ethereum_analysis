{
 "cells": [
  {
   "cell_type": "code",
   "execution_count": 1,
   "id": "b17cdba7",
   "metadata": {},
   "outputs": [],
   "source": [
    "import pandas as pd\n",
    "import numpy as np\n",
    "import matplotlib.pyplot as plt\n",
    "import itertools\n",
    "import seaborn as sns\n",
    "\n",
    "from sklearn.metrics import mean_absolute_percentage_error, mean_absolute_error, mean_squared_error\n",
    "from statsmodels.tsa.holtwinters import ExponentialSmoothing\n",
    "from statsmodels.tsa.seasonal import seasonal_decompose"
   ]
  },
  {
   "cell_type": "code",
   "execution_count": 2,
   "id": "db23844a",
   "metadata": {},
   "outputs": [],
   "source": [
    "import warnings\n",
    "warnings.filterwarnings('ignore')"
   ]
  },
  {
   "cell_type": "code",
   "execution_count": 3,
   "id": "806f9a41",
   "metadata": {},
   "outputs": [],
   "source": [
    "def gridsearch_timeseriessplit(trend_type, seasonal_type, damped_trend, init_method):\n",
    "\n",
    "    root_mean_squared_errors = []\n",
    "    mean_squared_errors = []\n",
    "    mean_absolute_errors = []\n",
    "    mean_absolute_percentage_errors = []\n",
    "\n",
    "    for train_idx, val_idx in tss.split(df_close):\n",
    "        train = df_close.iloc[train_idx]\n",
    "        test = df_close.iloc[val_idx]\n",
    "                       \n",
    "\n",
    "        if seasonal_type != None:\n",
    "\n",
    "            hw = ExponentialSmoothing(\n",
    "                  train['logclose'],\n",
    "                  initialization_method=init_method,\n",
    "                  trend=trend_type,\n",
    "                  damped_trend=damped_trend,\n",
    "                  seasonal=seasonal_type,\n",
    "                  seasonal_periods=14)\n",
    "        else:\n",
    "            hw = ExponentialSmoothing(\n",
    "                  train['logclose'],\n",
    "                  initialization_method=init_method,\n",
    "                  trend=trend_type,\n",
    "                  damped_trend=damped_trend,\n",
    "                  seasonal=seasonal_type)\n",
    "\n",
    "        res_hw = hw.fit()\n",
    "        fcast = res_hw.forecast(len(test))\n",
    "        \n",
    "        rmse = mean_squared_error(test['eth_close'], np.exp(fcast), squared=False)\n",
    "        root_mean_squared_errors.append(rmse)\n",
    "        mse = mean_squared_error(test['eth_close'], np.exp(fcast), squared=True)\n",
    "        mean_squared_errors.append(mse)        \n",
    "        mae = mean_absolute_error(test['eth_close'], np.exp(fcast))\n",
    "        mean_absolute_errors.append(mae)\n",
    "        mape = mean_absolute_percentage_error(test['eth_close'], np.exp(fcast))\n",
    "        mean_absolute_percentage_errors.append(mape)\n",
    "        \n",
    "\n",
    "    #plt.show()\n",
    "\n",
    "    print(\"Tesztelve 5 különböző tanulási/tesztelési adatszetten\")\n",
    "    print(f\"RMSE: {round(np.mean(root_mean_squared_errors), 4)}\")\n",
    "    print(f\"MSE: {round(np.mean(mean_squared_errors), 4)}\")\n",
    "    print(f\"MAE: {round(np.mean(mean_absolute_errors), 4)}\")\n",
    "    print(f\"MAPE: {str(round(np.mean(mean_absolute_percentage_errors)*100, 4))}%\")\n",
    "    return np.mean(root_mean_squared_errors), np.mean(mean_squared_errors), np.mean(mean_absolute_errors), np.mean(mean_absolute_percentage_errors)"
   ]
  },
  {
   "cell_type": "code",
   "execution_count": 4,
   "id": "9ef6b1a0",
   "metadata": {},
   "outputs": [],
   "source": [
    "df = pd.read_csv('training_dataset.csv', index_col='date', parse_dates=True)"
   ]
  },
  {
   "cell_type": "code",
   "execution_count": 5,
   "id": "4ba20830",
   "metadata": {},
   "outputs": [
    {
     "data": {
      "text/html": [
       "<div>\n",
       "<style scoped>\n",
       "    .dataframe tbody tr th:only-of-type {\n",
       "        vertical-align: middle;\n",
       "    }\n",
       "\n",
       "    .dataframe tbody tr th {\n",
       "        vertical-align: top;\n",
       "    }\n",
       "\n",
       "    .dataframe thead th {\n",
       "        text-align: right;\n",
       "    }\n",
       "</style>\n",
       "<table border=\"1\" class=\"dataframe\">\n",
       "  <thead>\n",
       "    <tr style=\"text-align: right;\">\n",
       "      <th></th>\n",
       "      <th>eth_low</th>\n",
       "      <th>eth_high</th>\n",
       "      <th>eth_open</th>\n",
       "      <th>eth_close</th>\n",
       "      <th>eth_volume</th>\n",
       "      <th>month</th>\n",
       "      <th>eth_qav</th>\n",
       "      <th>eth_num_trades</th>\n",
       "      <th>eth_taker_base_vol</th>\n",
       "      <th>eth_taker_quote_vol</th>\n",
       "      <th>...</th>\n",
       "      <th>stochastic_oscillator</th>\n",
       "      <th>ma_12</th>\n",
       "      <th>ma_26</th>\n",
       "      <th>ema_12</th>\n",
       "      <th>ema_26</th>\n",
       "      <th>obv</th>\n",
       "      <th>mfi</th>\n",
       "      <th>upper_band</th>\n",
       "      <th>middle_band</th>\n",
       "      <th>lower_band</th>\n",
       "    </tr>\n",
       "    <tr>\n",
       "      <th>date</th>\n",
       "      <th></th>\n",
       "      <th></th>\n",
       "      <th></th>\n",
       "      <th></th>\n",
       "      <th></th>\n",
       "      <th></th>\n",
       "      <th></th>\n",
       "      <th></th>\n",
       "      <th></th>\n",
       "      <th></th>\n",
       "      <th></th>\n",
       "      <th></th>\n",
       "      <th></th>\n",
       "      <th></th>\n",
       "      <th></th>\n",
       "      <th></th>\n",
       "      <th></th>\n",
       "      <th></th>\n",
       "      <th></th>\n",
       "      <th></th>\n",
       "      <th></th>\n",
       "    </tr>\n",
       "  </thead>\n",
       "  <tbody>\n",
       "    <tr>\n",
       "      <th>2017-09-01</th>\n",
       "      <td>383.18</td>\n",
       "      <td>394.39</td>\n",
       "      <td>386.44</td>\n",
       "      <td>388.46</td>\n",
       "      <td>4198.68434</td>\n",
       "      <td>2017-09-01</td>\n",
       "      <td>1.635228e+06</td>\n",
       "      <td>4124.0</td>\n",
       "      <td>1564.05531</td>\n",
       "      <td>6.096309e+05</td>\n",
       "      <td>...</td>\n",
       "      <td>96.424850</td>\n",
       "      <td>346.524167</td>\n",
       "      <td>338.660000</td>\n",
       "      <td>346.524167</td>\n",
       "      <td>338.660000</td>\n",
       "      <td>1.378006e+06</td>\n",
       "      <td>88.346876</td>\n",
       "      <td>411.653941</td>\n",
       "      <td>341.8790</td>\n",
       "      <td>272.104059</td>\n",
       "    </tr>\n",
       "    <tr>\n",
       "      <th>2017-09-02</th>\n",
       "      <td>320.08</td>\n",
       "      <td>394.32</td>\n",
       "      <td>388.58</td>\n",
       "      <td>343.14</td>\n",
       "      <td>8240.32724</td>\n",
       "      <td>2017-09-01</td>\n",
       "      <td>2.904008e+06</td>\n",
       "      <td>8217.0</td>\n",
       "      <td>2460.66776</td>\n",
       "      <td>8.684873e+05</td>\n",
       "      <td>...</td>\n",
       "      <td>97.629707</td>\n",
       "      <td>348.178333</td>\n",
       "      <td>339.773462</td>\n",
       "      <td>348.178333</td>\n",
       "      <td>339.773462</td>\n",
       "      <td>1.369766e+06</td>\n",
       "      <td>80.426793</td>\n",
       "      <td>411.386517</td>\n",
       "      <td>341.6590</td>\n",
       "      <td>271.931483</td>\n",
       "    </tr>\n",
       "    <tr>\n",
       "      <th>2017-09-03</th>\n",
       "      <td>320.08</td>\n",
       "      <td>367.28</td>\n",
       "      <td>343.56</td>\n",
       "      <td>341.77</td>\n",
       "      <td>5253.62211</td>\n",
       "      <td>2017-09-01</td>\n",
       "      <td>1.801703e+06</td>\n",
       "      <td>6153.0</td>\n",
       "      <td>2240.91753</td>\n",
       "      <td>7.679383e+05</td>\n",
       "      <td>...</td>\n",
       "      <td>79.514749</td>\n",
       "      <td>350.842500</td>\n",
       "      <td>340.706923</td>\n",
       "      <td>350.842500</td>\n",
       "      <td>340.706923</td>\n",
       "      <td>1.364512e+06</td>\n",
       "      <td>74.419284</td>\n",
       "      <td>408.329187</td>\n",
       "      <td>340.1235</td>\n",
       "      <td>271.917813</td>\n",
       "    </tr>\n",
       "    <tr>\n",
       "      <th>2017-09-04</th>\n",
       "      <td>267.94</td>\n",
       "      <td>344.55</td>\n",
       "      <td>339.29</td>\n",
       "      <td>283.77</td>\n",
       "      <td>6737.81061</td>\n",
       "      <td>2017-09-01</td>\n",
       "      <td>2.002446e+06</td>\n",
       "      <td>7403.0</td>\n",
       "      <td>2954.16805</td>\n",
       "      <td>8.770111e+05</td>\n",
       "      <td>...</td>\n",
       "      <td>78.967144</td>\n",
       "      <td>348.178333</td>\n",
       "      <td>339.138077</td>\n",
       "      <td>348.178333</td>\n",
       "      <td>339.138077</td>\n",
       "      <td>1.357774e+06</td>\n",
       "      <td>67.246410</td>\n",
       "      <td>404.443029</td>\n",
       "      <td>335.1070</td>\n",
       "      <td>265.770971</td>\n",
       "    </tr>\n",
       "    <tr>\n",
       "      <th>2017-09-05</th>\n",
       "      <td>235.55</td>\n",
       "      <td>321.52</td>\n",
       "      <td>286.81</td>\n",
       "      <td>312.09</td>\n",
       "      <td>8344.41924</td>\n",
       "      <td>2017-09-01</td>\n",
       "      <td>2.397491e+06</td>\n",
       "      <td>8999.0</td>\n",
       "      <td>4312.97282</td>\n",
       "      <td>1.251959e+06</td>\n",
       "      <td>...</td>\n",
       "      <td>55.783836</td>\n",
       "      <td>347.234167</td>\n",
       "      <td>338.443846</td>\n",
       "      <td>347.234167</td>\n",
       "      <td>338.443846</td>\n",
       "      <td>1.366118e+06</td>\n",
       "      <td>66.412993</td>\n",
       "      <td>396.369992</td>\n",
       "      <td>331.2515</td>\n",
       "      <td>266.133008</td>\n",
       "    </tr>\n",
       "  </tbody>\n",
       "</table>\n",
       "<p>5 rows × 46 columns</p>\n",
       "</div>"
      ],
      "text/plain": [
       "            eth_low  eth_high  eth_open  eth_close  eth_volume       month  \\\n",
       "date                                                                         \n",
       "2017-09-01   383.18    394.39    386.44     388.46  4198.68434  2017-09-01   \n",
       "2017-09-02   320.08    394.32    388.58     343.14  8240.32724  2017-09-01   \n",
       "2017-09-03   320.08    367.28    343.56     341.77  5253.62211  2017-09-01   \n",
       "2017-09-04   267.94    344.55    339.29     283.77  6737.81061  2017-09-01   \n",
       "2017-09-05   235.55    321.52    286.81     312.09  8344.41924  2017-09-01   \n",
       "\n",
       "                 eth_qav  eth_num_trades  eth_taker_base_vol  \\\n",
       "date                                                           \n",
       "2017-09-01  1.635228e+06          4124.0          1564.05531   \n",
       "2017-09-02  2.904008e+06          8217.0          2460.66776   \n",
       "2017-09-03  1.801703e+06          6153.0          2240.91753   \n",
       "2017-09-04  2.002446e+06          7403.0          2954.16805   \n",
       "2017-09-05  2.397491e+06          8999.0          4312.97282   \n",
       "\n",
       "            eth_taker_quote_vol  ...  stochastic_oscillator       ma_12  \\\n",
       "date                             ...                                      \n",
       "2017-09-01         6.096309e+05  ...              96.424850  346.524167   \n",
       "2017-09-02         8.684873e+05  ...              97.629707  348.178333   \n",
       "2017-09-03         7.679383e+05  ...              79.514749  350.842500   \n",
       "2017-09-04         8.770111e+05  ...              78.967144  348.178333   \n",
       "2017-09-05         1.251959e+06  ...              55.783836  347.234167   \n",
       "\n",
       "                 ma_26      ema_12      ema_26           obv        mfi  \\\n",
       "date                                                                      \n",
       "2017-09-01  338.660000  346.524167  338.660000  1.378006e+06  88.346876   \n",
       "2017-09-02  339.773462  348.178333  339.773462  1.369766e+06  80.426793   \n",
       "2017-09-03  340.706923  350.842500  340.706923  1.364512e+06  74.419284   \n",
       "2017-09-04  339.138077  348.178333  339.138077  1.357774e+06  67.246410   \n",
       "2017-09-05  338.443846  347.234167  338.443846  1.366118e+06  66.412993   \n",
       "\n",
       "            upper_band  middle_band  lower_band  \n",
       "date                                             \n",
       "2017-09-01  411.653941     341.8790  272.104059  \n",
       "2017-09-02  411.386517     341.6590  271.931483  \n",
       "2017-09-03  408.329187     340.1235  271.917813  \n",
       "2017-09-04  404.443029     335.1070  265.770971  \n",
       "2017-09-05  396.369992     331.2515  266.133008  \n",
       "\n",
       "[5 rows x 46 columns]"
      ]
     },
     "execution_count": 5,
     "metadata": {},
     "output_type": "execute_result"
    }
   ],
   "source": [
    "df.head()"
   ]
  },
  {
   "cell_type": "code",
   "execution_count": 6,
   "id": "c6490c98",
   "metadata": {},
   "outputs": [],
   "source": [
    "df.index.freq = \"D\""
   ]
  },
  {
   "cell_type": "code",
   "execution_count": 7,
   "id": "c526c238",
   "metadata": {},
   "outputs": [
    {
     "data": {
      "text/plain": [
       "DatetimeIndex(['2017-09-01', '2017-09-02', '2017-09-03', '2017-09-04',\n",
       "               '2017-09-05', '2017-09-06', '2017-09-07', '2017-09-08',\n",
       "               '2017-09-09', '2017-09-10',\n",
       "               ...\n",
       "               '2023-02-26', '2023-02-27', '2023-02-28', '2023-03-01',\n",
       "               '2023-03-02', '2023-03-03', '2023-03-04', '2023-03-05',\n",
       "               '2023-03-06', '2023-03-07'],\n",
       "              dtype='datetime64[ns]', name='date', length=2014, freq='D')"
      ]
     },
     "execution_count": 7,
     "metadata": {},
     "output_type": "execute_result"
    }
   ],
   "source": [
    "df.index"
   ]
  },
  {
   "cell_type": "code",
   "execution_count": 8,
   "id": "560a79bd",
   "metadata": {},
   "outputs": [],
   "source": [
    "df_close = pd.DataFrame(df.eth_close)"
   ]
  },
  {
   "cell_type": "code",
   "execution_count": 9,
   "id": "92e3487e",
   "metadata": {
    "scrolled": false
   },
   "outputs": [
    {
     "data": {
      "text/plain": [
       "<Axes: xlabel='date'>"
      ]
     },
     "execution_count": 9,
     "metadata": {},
     "output_type": "execute_result"
    },
    {
     "data": {
      "image/png": "[encoded data removed]",
      "text/plain": [
       "<Figure size 1000x500 with 1 Axes>"
      ]
     },
     "metadata": {},
     "output_type": "display_data"
    }
   ],
   "source": [
    "df_close.plot(figsize=(10,5))"
   ]
  },
  {
   "cell_type": "code",
   "execution_count": 10,
   "id": "7b700a0a",
   "metadata": {
    "scrolled": false
   },
   "outputs": [
    {
     "data": {
      "image/png": "[encoded data removed]",
      "text/plain": [
       "<Figure size 640x480 with 1 Axes>"
      ]
     },
     "metadata": {},
     "output_type": "display_data"
    },
    {
     "data": {
      "image/png": "[encoded data removed]",
      "text/plain": [
       "<Figure size 640x480 with 1 Axes>"
      ]
     },
     "metadata": {},
     "output_type": "display_data"
    },
    {
     "data": {
      "image/png": "[encoded data removed]",
      "text/plain": [
       "<Figure size 640x480 with 1 Axes>"
      ]
     },
     "metadata": {},
     "output_type": "display_data"
    },
    {
     "data": {
      "image/png": "[encoded data removed]",
      "text/plain": [
       "<Figure size 640x480 with 1 Axes>"
      ]
     },
     "metadata": {},
     "output_type": "display_data"
    },
    {
     "data": {
      "image/png": "[encoded data removed]",
      "text/plain": [
       "<Figure size 640x480 with 1 Axes>"
      ]
     },
     "metadata": {},
     "output_type": "display_data"
    },
    {
     "data": {
      "image/png": "[encoded data removed]",
      "text/plain": [
       "<Figure size 640x480 with 1 Axes>"
      ]
     },
     "metadata": {},
     "output_type": "display_data"
    }
   ],
   "source": [
    "## Choose the appropriate period = 365\n",
    "for period in [2, 3,7,12,14,30]:\n",
    "    result = seasonal_decompose(df.eth_close[pd.to_datetime(\"2023-01-01\"):], period=period)\n",
    "    plt.plot(result.seasonal)\n",
    "    plt.title(f\"Period = {period}\")\n",
    "    plt.show()\n"
   ]
  },
  {
   "cell_type": "code",
   "execution_count": 11,
   "id": "f43dbbbc",
   "metadata": {},
   "outputs": [
    {
     "data": {
      "image/png": "[encoded data removed]",
      "text/plain": [
       "<Figure size 640x480 with 4 Axes>"
      ]
     },
     "metadata": {},
     "output_type": "display_data"
    }
   ],
   "source": [
    "##Only 3 day period shows a possible seasonality\n",
    "seasonality_trend = seasonal_decompose(df_close.eth_close, model=\"multiplicative\", period=14)\n",
    "seasonality_trend.plot()\n",
    "plt.savefig(\"charts/forecast/holt-winter-season-trend-decompose.png\")\n",
    "plt.show()"
   ]
  },
  {
   "cell_type": "code",
   "execution_count": 12,
   "id": "db9a4ed9",
   "metadata": {},
   "outputs": [],
   "source": [
    "df_close[\"logclose\"] = np.log(df_close.eth_close)"
   ]
  },
  {
   "cell_type": "code",
   "execution_count": 13,
   "id": "fbeed04e",
   "metadata": {},
   "outputs": [
    {
     "data": {
      "text/plain": [
       "<Axes: xlabel='date'>"
      ]
     },
     "execution_count": 13,
     "metadata": {},
     "output_type": "execute_result"
    },
    {
     "data": {
      "image/png": "[encoded data removed]",
      "text/plain": [
       "<Figure size 640x480 with 1 Axes>"
      ]
     },
     "metadata": {},
     "output_type": "display_data"
    }
   ],
   "source": [
    "df_close[\"logclose\"].plot()"
   ]
  },
  {
   "cell_type": "code",
   "execution_count": 14,
   "id": "0b30538e",
   "metadata": {
    "scrolled": false
   },
   "outputs": [
    {
     "data": {
      "text/plain": [
       "(2014, 2)"
      ]
     },
     "execution_count": 14,
     "metadata": {},
     "output_type": "execute_result"
    }
   ],
   "source": [
    "df_close.shape"
   ]
  },
  {
   "cell_type": "markdown",
   "id": "aabd3f4b",
   "metadata": {},
   "source": [
    "## Test on Validation set and best options"
   ]
  },
  {
   "cell_type": "markdown",
   "id": "94c2cd48",
   "metadata": {},
   "source": [
    "## Timeseries Split"
   ]
  },
  {
   "cell_type": "markdown",
   "id": "81fd39e1",
   "metadata": {},
   "source": [
    "## 1 DAY"
   ]
  },
  {
   "cell_type": "code",
   "execution_count": 15,
   "id": "7fb53742",
   "metadata": {},
   "outputs": [],
   "source": [
    "from sklearn.model_selection import TimeSeriesSplit\n",
    "\n",
    "tss = TimeSeriesSplit(n_splits=10, test_size=1, gap=0)\n",
    "df_close = df_close.sort_index()"
   ]
  },
  {
   "cell_type": "code",
   "execution_count": 16,
   "id": "2f9fbc39",
   "metadata": {},
   "outputs": [],
   "source": [
    "# Configuration hyperparameters to try\n",
    "trend_type_list = ['add', 'mul']\n",
    "seasonal_type_list = ['add', 'mul', None]\n",
    "damped_trend_list = [True, False]\n",
    "init_method_list = ['estimated', 'heuristic', 'legacy-heuristic']\n",
    "## box-cox not required since log dataset"
   ]
  },
  {
   "cell_type": "code",
   "execution_count": 17,
   "id": "0ed96c92",
   "metadata": {},
   "outputs": [],
   "source": [
    "# Grid Search\n",
    "tuple_of_option_lists = (\n",
    "    trend_type_list,\n",
    "    seasonal_type_list,\n",
    "    damped_trend_list,\n",
    "    init_method_list\n",
    ")"
   ]
  },
  {
   "cell_type": "code",
   "execution_count": 18,
   "id": "f81ea8f9",
   "metadata": {},
   "outputs": [
    {
     "name": "stdout",
     "output_type": "stream",
     "text": [
      "add add True estimated\n",
      "Tesztelve 5 különböző tanulási/tesztelési adatszetten\n",
      "RMSE: 27.3322\n",
      "MSE: 1496.7743\n",
      "MAE: 27.3322\n",
      "MAPE: 1.6999%\n",
      "RMSE: 27.332245737414702, MSE: 1496.7742560945176, MAE: 27.332245737414702, MAPE: 0.01699914436060782\n",
      "Best RMSE so far: 27.332245737414702\n",
      "add add True heuristic\n",
      "Tesztelve 5 különböző tanulási/tesztelési adatszetten\n",
      "RMSE: 27.3322\n",
      "MSE: 1496.7743\n",
      "MAE: 27.3322\n",
      "MAPE: 1.6999%\n",
      "RMSE: 27.332245737414702, MSE: 1496.7742560945176, MAE: 27.332245737414702, MAPE: 0.01699914436060782\n",
      "add add True legacy-heuristic\n",
      "Tesztelve 5 különböző tanulási/tesztelési adatszetten\n",
      "RMSE: 27.3344\n",
      "MSE: 1496.8285\n",
      "MAE: 27.3344\n",
      "MAPE: 1.7001%\n",
      "RMSE: 27.334370436402242, MSE: 1496.8284800904235, MAE: 27.334370436402242, MAPE: 0.01700056480834749\n",
      "add add False estimated\n",
      "Tesztelve 5 különböző tanulási/tesztelési adatszetten\n",
      "RMSE: 27.5798\n",
      "MSE: 1490.423\n",
      "MAE: 27.5798\n",
      "MAPE: 1.7146%\n",
      "RMSE: 27.579785150909014, MSE: 1490.4230294040253, MAE: 27.579785150909014, MAPE: 0.017145525403169364\n",
      "add add False heuristic\n",
      "Tesztelve 5 különböző tanulási/tesztelési adatszetten\n",
      "RMSE: 27.5798\n",
      "MSE: 1490.423\n",
      "MAE: 27.5798\n",
      "MAPE: 1.7146%\n",
      "RMSE: 27.579785150909014, MSE: 1490.4230294040253, MAE: 27.579785150909014, MAPE: 0.017145525403169364\n",
      "add add False legacy-heuristic\n",
      "Tesztelve 5 különböző tanulási/tesztelési adatszetten\n",
      "RMSE: 27.5784\n",
      "MSE: 1491.0183\n",
      "MAE: 27.5784\n",
      "MAPE: 1.7145%\n",
      "RMSE: 27.57840084492607, MSE: 1491.0183186927559, MAE: 27.57840084492607, MAPE: 0.01714478031134637\n",
      "add mul True estimated\n",
      "Tesztelve 5 különböző tanulási/tesztelési adatszetten\n",
      "RMSE: 27.5645\n",
      "MSE: 1491.1234\n",
      "MAE: 27.5645\n",
      "MAPE: 1.7152%\n",
      "RMSE: 27.564498184035596, MSE: 1491.1233793660365, MAE: 27.564498184035596, MAPE: 0.017151889451455134\n",
      "add mul True heuristic\n",
      "Tesztelve 5 különböző tanulási/tesztelési adatszetten\n",
      "RMSE: 27.5645\n",
      "MSE: 1491.1234\n",
      "MAE: 27.5645\n",
      "MAPE: 1.7152%\n",
      "RMSE: 27.564498184035596, MSE: 1491.1233793660365, MAE: 27.564498184035596, MAPE: 0.017151889451455134\n",
      "add mul True legacy-heuristic\n",
      "Tesztelve 5 különböző tanulási/tesztelési adatszetten\n",
      "RMSE: 27.5801\n",
      "MSE: 1491.919\n",
      "MAE: 27.5801\n",
      "MAPE: 1.7162%\n",
      "RMSE: 27.58005382921531, MSE: 1491.9189607326743, MAE: 27.58005382921531, MAPE: 0.01716183398423717\n",
      "add mul False estimated\n",
      "Tesztelve 5 különböző tanulási/tesztelési adatszetten\n",
      "RMSE: 27.8449\n",
      "MSE: 1487.4096\n",
      "MAE: 27.8449\n",
      "MAPE: 1.7319%\n",
      "RMSE: 27.844920103682465, MSE: 1487.409627260657, MAE: 27.844920103682465, MAPE: 0.017318841699344587\n",
      "add mul False heuristic\n",
      "Tesztelve 5 különböző tanulási/tesztelési adatszetten\n",
      "RMSE: 27.8449\n",
      "MSE: 1487.4096\n",
      "MAE: 27.8449\n",
      "MAPE: 1.7319%\n",
      "RMSE: 27.844920103682465, MSE: 1487.409627260657, MAE: 27.844920103682465, MAPE: 0.017318841699344587\n",
      "add mul False legacy-heuristic\n",
      "Tesztelve 5 különböző tanulási/tesztelési adatszetten\n",
      "RMSE: 27.849\n",
      "MSE: 1487.8783\n",
      "MAE: 27.849\n",
      "MAPE: 1.7321%\n",
      "RMSE: 27.849041775187857, MSE: 1487.878325905748, MAE: 27.849041775187857, MAPE: 0.01732149176171025\n",
      "add None True estimated\n",
      "Tesztelve 5 különböző tanulási/tesztelési adatszetten\n",
      "RMSE: 24.404\n",
      "MSE: 1316.0204\n",
      "MAE: 24.404\n",
      "MAPE: 1.5121%\n",
      "RMSE: 24.404002883520842, MSE: 1316.020449847828, MAE: 24.404002883520842, MAPE: 0.015120501325612708\n",
      "Best RMSE so far: 24.404002883520842\n",
      "add None True heuristic\n",
      "Tesztelve 5 különböző tanulási/tesztelési adatszetten\n",
      "RMSE: 24.404\n",
      "MSE: 1316.0204\n",
      "MAE: 24.404\n",
      "MAPE: 1.5121%\n",
      "RMSE: 24.404002883520842, MSE: 1316.020449847828, MAE: 24.404002883520842, MAPE: 0.015120501325612708\n",
      "add None True legacy-heuristic\n",
      "Tesztelve 5 különböző tanulási/tesztelési adatszetten\n",
      "RMSE: 24.4048\n",
      "MSE: 1316.0266\n",
      "MAE: 24.4048\n",
      "MAPE: 1.5121%\n",
      "RMSE: 24.40475266070332, MSE: 1316.0265926252398, MAE: 24.40475266070332, MAPE: 0.015120934215114939\n",
      "add None False estimated\n",
      "Tesztelve 5 különböző tanulási/tesztelési adatszetten\n",
      "RMSE: 25.0756\n",
      "MSE: 1299.4865\n",
      "MAE: 25.0756\n",
      "MAPE: 1.5543%\n",
      "RMSE: 25.07562541743989, MSE: 1299.486508515686, MAE: 25.07562541743989, MAPE: 0.015543228601482453\n",
      "add None False heuristic\n",
      "Tesztelve 5 különböző tanulási/tesztelési adatszetten\n",
      "RMSE: 25.0756\n",
      "MSE: 1299.4865\n",
      "MAE: 25.0756\n",
      "MAPE: 1.5543%\n",
      "RMSE: 25.07562541743989, MSE: 1299.486508515686, MAE: 25.07562541743989, MAPE: 0.015543228601482453\n",
      "add None False legacy-heuristic\n",
      "Tesztelve 5 különböző tanulási/tesztelési adatszetten\n",
      "RMSE: 25.076\n",
      "MSE: 1299.4868\n",
      "MAE: 25.076\n",
      "MAPE: 1.5543%\n",
      "RMSE: 25.075973622322703, MSE: 1299.4868311995986, MAE: 25.075973622322703, MAPE: 0.015543412466097209\n",
      "mul add True estimated\n",
      "Tesztelve 5 különböző tanulási/tesztelési adatszetten\n",
      "RMSE: 27.0273\n",
      "MSE: 1440.733\n",
      "MAE: 27.0273\n",
      "MAPE: 1.681%\n",
      "RMSE: 27.027324029959345, MSE: 1440.7330344693105, MAE: 27.027324029959345, MAPE: 0.016810067804079367\n",
      "mul add True heuristic\n",
      "Tesztelve 5 különböző tanulási/tesztelési adatszetten\n",
      "RMSE: 27.0273\n",
      "MSE: 1440.733\n",
      "MAE: 27.0273\n",
      "MAPE: 1.681%\n",
      "RMSE: 27.027324029959345, MSE: 1440.7330344693105, MAE: 27.027324029959345, MAPE: 0.016810067804079367\n",
      "mul add True legacy-heuristic\n",
      "Tesztelve 5 különböző tanulási/tesztelési adatszetten\n",
      "RMSE: 27.4369\n",
      "MSE: 1496.6912\n",
      "MAE: 27.4369\n",
      "MAPE: 1.7056%\n",
      "RMSE: 27.43689912711675, MSE: 1496.6912080597854, MAE: 27.43689912711675, MAPE: 0.01705620086528464\n",
      "mul add False estimated\n",
      "Tesztelve 5 különböző tanulási/tesztelési adatszetten\n",
      "RMSE: 27.5479\n",
      "MSE: 1489.514\n",
      "MAE: 27.5479\n",
      "MAPE: 1.7125%\n",
      "RMSE: 27.54787154276612, MSE: 1489.5140074739265, MAE: 27.54787154276612, MAPE: 0.017125240799011895\n",
      "mul add False heuristic\n",
      "Tesztelve 5 különböző tanulási/tesztelési adatszetten\n",
      "RMSE: 27.5479\n",
      "MSE: 1489.514\n",
      "MAE: 27.5479\n",
      "MAPE: 1.7125%\n",
      "RMSE: 27.54787154276612, MSE: 1489.5140074739265, MAE: 27.54787154276612, MAPE: 0.017125240799011895\n",
      "mul add False legacy-heuristic\n",
      "Tesztelve 5 különböző tanulási/tesztelési adatszetten\n",
      "RMSE: 27.5497\n",
      "MSE: 1489.2292\n",
      "MAE: 27.5497\n",
      "MAPE: 1.7126%\n",
      "RMSE: 27.549652062663835, MSE: 1489.2291982883419, MAE: 27.549652062663835, MAPE: 0.017126456777955327\n",
      "mul mul True estimated\n",
      "Tesztelve 5 különböző tanulási/tesztelési adatszetten\n",
      "RMSE: 27.5829\n",
      "MSE: 1493.7804\n",
      "MAE: 27.5829\n",
      "MAPE: 1.7164%\n",
      "RMSE: 27.582860850861085, MSE: 1493.7804447197482, MAE: 27.582860850861085, MAPE: 0.017163680059870408\n",
      "mul mul True heuristic\n",
      "Tesztelve 5 különböző tanulási/tesztelési adatszetten\n",
      "RMSE: 27.5829\n",
      "MSE: 1493.7804\n",
      "MAE: 27.5829\n",
      "MAPE: 1.7164%\n",
      "RMSE: 27.582860850861085, MSE: 1493.7804447197482, MAE: 27.582860850861085, MAPE: 0.017163680059870408\n",
      "mul mul True legacy-heuristic\n",
      "Tesztelve 5 különböző tanulási/tesztelési adatszetten\n",
      "RMSE: 27.5753\n",
      "MSE: 1493.4727\n",
      "MAE: 27.5753\n",
      "MAPE: 1.7159%\n",
      "RMSE: 27.575337181435565, MSE: 1493.472704445801, MAE: 27.575337181435565, MAPE: 0.017158917033093378\n",
      "mul mul False estimated\n",
      "Tesztelve 5 különböző tanulási/tesztelési adatszetten\n",
      "RMSE: 27.8176\n",
      "MSE: 1486.6594\n",
      "MAE: 27.8176\n",
      "MAPE: 1.7301%\n",
      "RMSE: 27.817617393806405, MSE: 1486.659421247048, MAE: 27.817617393806405, MAPE: 0.01730142463045614\n",
      "mul mul False heuristic\n",
      "Tesztelve 5 különböző tanulási/tesztelési adatszetten\n",
      "RMSE: 27.8176\n",
      "MSE: 1486.6594\n",
      "MAE: 27.8176\n",
      "MAPE: 1.7301%\n",
      "RMSE: 27.817617393806405, MSE: 1486.659421247048, MAE: 27.817617393806405, MAPE: 0.01730142463045614\n",
      "mul mul False legacy-heuristic\n",
      "Tesztelve 5 különböző tanulási/tesztelési adatszetten\n",
      "RMSE: 27.8172\n",
      "MSE: 1487.1958\n",
      "MAE: 27.8172\n",
      "MAPE: 1.7301%\n",
      "RMSE: 27.817226054078287, MSE: 1487.1958471011355, MAE: 27.817226054078287, MAPE: 0.017301105614644464\n",
      "mul None True estimated\n",
      "Tesztelve 5 különböző tanulási/tesztelési adatszetten\n",
      "RMSE: 24.4073\n",
      "MSE: 1318.1918\n",
      "MAE: 24.4073\n",
      "MAPE: 1.5123%\n",
      "RMSE: 24.407321598429053, MSE: 1318.1918378836049, MAE: 24.407321598429053, MAPE: 0.01512251917130383\n",
      "mul None True heuristic\n",
      "Tesztelve 5 különböző tanulási/tesztelési adatszetten\n",
      "RMSE: 24.4073\n",
      "MSE: 1318.1918\n",
      "MAE: 24.4073\n",
      "MAPE: 1.5123%\n",
      "RMSE: 24.407321598429053, MSE: 1318.1918378836049, MAE: 24.407321598429053, MAPE: 0.01512251917130383\n",
      "mul None True legacy-heuristic\n",
      "Tesztelve 5 különböző tanulási/tesztelési adatszetten\n",
      "RMSE: 24.4075\n",
      "MSE: 1318.2026\n",
      "MAE: 24.4075\n",
      "MAPE: 1.5123%\n",
      "RMSE: 24.407539577979424, MSE: 1318.202607162696, MAE: 24.407539577979424, MAPE: 0.015122661682674607\n",
      "mul None False estimated\n",
      "Tesztelve 5 különböző tanulási/tesztelési adatszetten\n",
      "RMSE: 24.9999\n",
      "MSE: 1298.3146\n",
      "MAE: 24.9999\n",
      "MAPE: 1.5495%\n",
      "RMSE: 24.999934945677886, MSE: 1298.314607884329, MAE: 24.999934945677886, MAPE: 0.015494834951597891\n",
      "mul None False heuristic\n",
      "Tesztelve 5 különböző tanulási/tesztelési adatszetten\n",
      "RMSE: 24.9999\n",
      "MSE: 1298.3146\n",
      "MAE: 24.9999\n",
      "MAPE: 1.5495%\n",
      "RMSE: 24.999934945677886, MSE: 1298.314607884329, MAE: 24.999934945677886, MAPE: 0.015494834951597891\n",
      "mul None False legacy-heuristic\n"
     ]
    },
    {
     "name": "stdout",
     "output_type": "stream",
     "text": [
      "Tesztelve 5 különböző tanulási/tesztelési adatszetten\n",
      "RMSE: 25.0005\n",
      "MSE: 1298.0665\n",
      "MAE: 25.0005\n",
      "MAPE: 1.5495%\n",
      "RMSE: 25.00054548481787, MSE: 1298.0664619921088, MAE: 25.00054548481787, MAPE: 0.015495271545034902\n"
     ]
    }
   ],
   "source": [
    "best_rmse = float('inf')\n",
    "best_options = None\n",
    "\n",
    "for x in itertools.product(*tuple_of_option_lists):\n",
    "    print(*x)\n",
    "    rmse, mse, mae, mape = gridsearch_timeseriessplit(*x)\n",
    "    print(f\"RMSE: {rmse}, MSE: {mse}, MAE: {mae}, MAPE: {mape}\")\n",
    "    \n",
    "    if rmse < best_rmse: ## ha kisebb, akkor jobb az rmse\n",
    "        print(\"Best RMSE so far:\", rmse)\n",
    "        best_rmse = rmse\n",
    "        best_mse = mse\n",
    "        best_mae = mae\n",
    "        best_mape = mape\n",
    "        best_options = x"
   ]
  },
  {
   "cell_type": "code",
   "execution_count": 19,
   "id": "290d442b",
   "metadata": {},
   "outputs": [
    {
     "name": "stdout",
     "output_type": "stream",
     "text": [
      "Legjobb RMSE: 24.404\n",
      "Legjobb MSE: 24.404\n",
      "Legjobb MAE: 24.404\n",
      "Legjobb MAPE: 1.5121\n",
      "Legjobb hiperparaméter-kombináció\n",
      "trend_type: add\n",
      "seasonal_type: None\n",
      "damped_trend: True\n",
      "init_method: estimated\n"
     ]
    }
   ],
   "source": [
    "print(\"Legjobb RMSE:\", round(best_rmse, 4))\n",
    "print(\"Legjobb MSE:\", round(best_rmse, 4))\n",
    "print(\"Legjobb MAE:\", round(best_mae, 4))\n",
    "print(\"Legjobb MAPE:\", round(best_mape*100, 4))\n",
    "\n",
    "\n",
    "trend_type, seasonal_type, damped_trend, init_method = best_options\n",
    "print(\"Legjobb hiperparaméter-kombináció\")\n",
    "print(\"trend_type:\", trend_type)\n",
    "print(\"seasonal_type:\", seasonal_type)\n",
    "print(\"damped_trend:\", damped_trend)\n",
    "print(\"init_method:\", init_method)"
   ]
  },
  {
   "cell_type": "markdown",
   "id": "8b20aac5",
   "metadata": {},
   "source": [
    "## 3 DAY"
   ]
  },
  {
   "cell_type": "code",
   "execution_count": 20,
   "id": "b6e040a8",
   "metadata": {},
   "outputs": [],
   "source": [
    "from sklearn.model_selection import TimeSeriesSplit\n",
    "\n",
    "tss = TimeSeriesSplit(n_splits=10, test_size=3, gap=0)\n",
    "df_close = df_close.sort_index()"
   ]
  },
  {
   "cell_type": "code",
   "execution_count": 21,
   "id": "0c118129",
   "metadata": {},
   "outputs": [],
   "source": [
    "# Configuration hyperparameters to try\n",
    "trend_type_list = ['add', 'mul']\n",
    "seasonal_type_list = ['add', 'mul', None]\n",
    "damped_trend_list = [True, False]\n",
    "init_method_list = ['estimated', 'heuristic', 'legacy-heuristic']\n",
    "## box-cox not required since log dataset"
   ]
  },
  {
   "cell_type": "code",
   "execution_count": 22,
   "id": "68796b2e",
   "metadata": {},
   "outputs": [],
   "source": [
    "# Grid Search\n",
    "tuple_of_option_lists = (\n",
    "    trend_type_list,\n",
    "    seasonal_type_list,\n",
    "    damped_trend_list,\n",
    "    init_method_list\n",
    ")"
   ]
  },
  {
   "cell_type": "code",
   "execution_count": 23,
   "id": "c8d6272f",
   "metadata": {},
   "outputs": [
    {
     "name": "stdout",
     "output_type": "stream",
     "text": [
      "add add True estimated\n",
      "Tesztelve 5 különböző tanulási/tesztelési adatszetten\n",
      "RMSE: 51.4496\n",
      "MSE: 4150.6667\n",
      "MAE: 47.5049\n",
      "MAPE: 2.965%\n",
      "RMSE: 51.449618037626536, MSE: 4150.666673985001, MAE: 47.50488820679841, MAPE: 0.029650351066618473\n",
      "Best RMSE so far: 51.449618037626536\n",
      "add add True heuristic\n",
      "Tesztelve 5 különböző tanulási/tesztelési adatszetten\n",
      "RMSE: 51.4496\n",
      "MSE: 4150.6667\n",
      "MAE: 47.5049\n",
      "MAPE: 2.965%\n",
      "RMSE: 51.449618037626536, MSE: 4150.666673985001, MAE: 47.50488820679841, MAPE: 0.029650351066618473\n",
      "add add True legacy-heuristic\n",
      "Tesztelve 5 különböző tanulási/tesztelési adatszetten\n",
      "RMSE: 51.4342\n",
      "MSE: 4148.4429\n",
      "MAE: 47.4898\n",
      "MAPE: 2.9641%\n",
      "RMSE: 51.43423256898236, MSE: 4148.442945535588, MAE: 47.48976525431519, MAPE: 0.029640885517052247\n",
      "Best RMSE so far: 51.43423256898236\n",
      "add add False estimated\n",
      "Tesztelve 5 különböző tanulási/tesztelési adatszetten\n",
      "RMSE: 51.2164\n",
      "MSE: 4082.1249\n",
      "MAE: 47.133\n",
      "MAPE: 2.9443%\n",
      "RMSE: 51.216378107578905, MSE: 4082.1248839581194, MAE: 47.133029730280875, MAPE: 0.029442584059607126\n",
      "Best RMSE so far: 51.216378107578905\n",
      "add add False heuristic\n",
      "Tesztelve 5 különböző tanulási/tesztelési adatszetten\n",
      "RMSE: 51.2164\n",
      "MSE: 4082.1249\n",
      "MAE: 47.133\n",
      "MAPE: 2.9443%\n",
      "RMSE: 51.216378107578905, MSE: 4082.1248839581194, MAE: 47.133029730280875, MAPE: 0.029442584059607126\n",
      "add add False legacy-heuristic\n",
      "Tesztelve 5 különböző tanulási/tesztelési adatszetten\n",
      "RMSE: 51.2142\n",
      "MSE: 4081.8393\n",
      "MAE: 47.1269\n",
      "MAPE: 2.9439%\n",
      "RMSE: 51.21424424693056, MSE: 4081.839294539971, MAE: 47.12693801872512, MAPE: 0.029438857959906944\n",
      "Best RMSE so far: 51.21424424693056\n",
      "add mul True estimated\n",
      "Tesztelve 5 különböző tanulási/tesztelési adatszetten\n",
      "RMSE: 51.3342\n",
      "MSE: 4112.1774\n",
      "MAE: 47.1239\n",
      "MAPE: 2.9413%\n",
      "RMSE: 51.33421858386856, MSE: 4112.177438874578, MAE: 47.12386463394142, MAPE: 0.02941268825661948\n",
      "add mul True heuristic\n",
      "Tesztelve 5 különböző tanulási/tesztelési adatszetten\n",
      "RMSE: 51.3342\n",
      "MSE: 4112.1774\n",
      "MAE: 47.1239\n",
      "MAPE: 2.9413%\n",
      "RMSE: 51.33421858386856, MSE: 4112.177438874578, MAE: 47.12386463394142, MAPE: 0.02941268825661948\n",
      "add mul True legacy-heuristic\n",
      "Tesztelve 5 különböző tanulási/tesztelési adatszetten\n",
      "RMSE: 51.3361\n",
      "MSE: 4112.3318\n",
      "MAE: 47.1246\n",
      "MAPE: 2.9413%\n",
      "RMSE: 51.336105527377086, MSE: 4112.331771242096, MAE: 47.124623975932124, MAPE: 0.029413180204410895\n",
      "add mul False estimated\n",
      "Tesztelve 5 különböző tanulási/tesztelési adatszetten\n",
      "RMSE: 51.1867\n",
      "MSE: 4044.7554\n",
      "MAE: 46.923\n",
      "MAPE: 2.9312%\n",
      "RMSE: 51.186731605343596, MSE: 4044.7554448492, MAE: 46.9229978299429, MAPE: 0.02931242900464092\n",
      "Best RMSE so far: 51.186731605343596\n",
      "add mul False heuristic\n",
      "Tesztelve 5 különböző tanulási/tesztelési adatszetten\n",
      "RMSE: 51.1867\n",
      "MSE: 4044.7554\n",
      "MAE: 46.923\n",
      "MAPE: 2.9312%\n",
      "RMSE: 51.186731605343596, MSE: 4044.7554448492, MAE: 46.9229978299429, MAPE: 0.02931242900464092\n",
      "add mul False legacy-heuristic\n",
      "Tesztelve 5 különböző tanulási/tesztelési adatszetten\n",
      "RMSE: 51.1877\n",
      "MSE: 4045.1177\n",
      "MAE: 46.9262\n",
      "MAPE: 2.9314%\n",
      "RMSE: 51.18769707426159, MSE: 4045.1177381406997, MAE: 46.92618545072162, MAPE: 0.02931444063695963\n",
      "add None True estimated\n",
      "Tesztelve 5 különböző tanulási/tesztelési adatszetten\n",
      "RMSE: 50.2014\n",
      "MSE: 4208.984\n",
      "MAE: 47.4006\n",
      "MAPE: 2.9582%\n",
      "RMSE: 50.201383548507536, MSE: 4208.983957847475, MAE: 47.400632824744186, MAPE: 0.02958232026612657\n",
      "Best RMSE so far: 50.201383548507536\n",
      "add None True heuristic\n",
      "Tesztelve 5 különböző tanulási/tesztelési adatszetten\n",
      "RMSE: 50.2014\n",
      "MSE: 4208.984\n",
      "MAE: 47.4006\n",
      "MAPE: 2.9582%\n",
      "RMSE: 50.201383548507536, MSE: 4208.983957847475, MAE: 47.400632824744186, MAPE: 0.02958232026612657\n",
      "add None True legacy-heuristic\n",
      "Tesztelve 5 különböző tanulási/tesztelési adatszetten\n",
      "RMSE: 50.2007\n",
      "MSE: 4208.8\n",
      "MAE: 47.4005\n",
      "MAPE: 2.9582%\n",
      "RMSE: 50.20065390182705, MSE: 4208.800035956724, MAE: 47.40054997600522, MAPE: 0.02958228625012662\n",
      "Best RMSE so far: 50.20065390182705\n",
      "add None False estimated\n",
      "Tesztelve 5 különböző tanulási/tesztelési adatszetten\n",
      "RMSE: 50.5496\n",
      "MSE: 4157.7695\n",
      "MAE: 47.8969\n",
      "MAPE: 2.9927%\n",
      "RMSE: 50.5495979517661, MSE: 4157.7694707770925, MAE: 47.89686173523395, MAPE: 0.02992710882398339\n",
      "add None False heuristic\n",
      "Tesztelve 5 különböző tanulási/tesztelési adatszetten\n",
      "RMSE: 50.5496\n",
      "MSE: 4157.7695\n",
      "MAE: 47.8969\n",
      "MAPE: 2.9927%\n",
      "RMSE: 50.5495979517661, MSE: 4157.7694707770925, MAE: 47.89686173523395, MAPE: 0.02992710882398339\n",
      "add None False legacy-heuristic\n",
      "Tesztelve 5 különböző tanulási/tesztelési adatszetten\n",
      "RMSE: 50.552\n",
      "MSE: 4157.8983\n",
      "MAE: 47.8995\n",
      "MAPE: 2.9929%\n",
      "RMSE: 50.55198144149023, MSE: 4157.89830405062, MAE: 47.899458759952815, MAPE: 0.029928724406426493\n",
      "mul add True estimated\n",
      "Tesztelve 5 különböző tanulási/tesztelési adatszetten\n",
      "RMSE: 51.2344\n",
      "MSE: 4090.7608\n",
      "MAE: 47.11\n",
      "MAPE: 2.9419%\n",
      "RMSE: 51.23440414441406, MSE: 4090.760831073168, MAE: 47.11001120161728, MAPE: 0.029419090569578272\n",
      "mul add True heuristic\n",
      "Tesztelve 5 különböző tanulási/tesztelési adatszetten\n",
      "RMSE: 51.2344\n",
      "MSE: 4090.7608\n",
      "MAE: 47.11\n",
      "MAPE: 2.9419%\n",
      "RMSE: 51.23440414441406, MSE: 4090.760831073168, MAE: 47.11001120161728, MAPE: 0.029419090569578272\n",
      "mul add True legacy-heuristic\n",
      "Tesztelve 5 különböző tanulási/tesztelési adatszetten\n",
      "RMSE: 50.9306\n",
      "MSE: 4031.2197\n",
      "MAE: 46.8299\n",
      "MAPE: 2.926%\n",
      "RMSE: 50.93062350902101, MSE: 4031.2196823234613, MAE: 46.82993333808045, MAPE: 0.029260406794947236\n",
      "mul add False estimated\n",
      "Tesztelve 5 különböző tanulási/tesztelési adatszetten\n",
      "RMSE: 51.1433\n",
      "MSE: 4074.4501\n",
      "MAE: 47.0443\n",
      "MAPE: 2.9384%\n",
      "RMSE: 51.14334675074299, MSE: 4074.450147612459, MAE: 47.044296437348365, MAPE: 0.02938365442211365\n",
      "mul add False heuristic\n",
      "Tesztelve 5 különböző tanulási/tesztelési adatszetten\n",
      "RMSE: 51.1433\n",
      "MSE: 4074.4501\n",
      "MAE: 47.0443\n",
      "MAPE: 2.9384%\n",
      "RMSE: 51.14334675074299, MSE: 4074.450147612459, MAE: 47.044296437348365, MAPE: 0.02938365442211365\n",
      "mul add False legacy-heuristic\n",
      "Tesztelve 5 különböző tanulási/tesztelési adatszetten\n",
      "RMSE: 51.1452\n",
      "MSE: 4074.3869\n",
      "MAE: 47.0479\n",
      "MAPE: 2.9386%\n",
      "RMSE: 51.1452192915295, MSE: 4074.386859434365, MAE: 47.04786123403325, MAPE: 0.029386454079847274\n",
      "mul mul True estimated\n",
      "Tesztelve 5 különböző tanulási/tesztelési adatszetten\n",
      "RMSE: 51.4016\n",
      "MSE: 4119.454\n",
      "MAE: 47.1826\n",
      "MAPE: 2.9449%\n",
      "RMSE: 51.401605695342155, MSE: 4119.453966148541, MAE: 47.18258346171532, MAPE: 0.02944911870015928\n",
      "mul mul True heuristic\n",
      "Tesztelve 5 különböző tanulási/tesztelési adatszetten\n",
      "RMSE: 51.4016\n",
      "MSE: 4119.454\n",
      "MAE: 47.1826\n",
      "MAPE: 2.9449%\n",
      "RMSE: 51.401605695342155, MSE: 4119.453966148541, MAE: 47.18258346171532, MAPE: 0.02944911870015928\n",
      "mul mul True legacy-heuristic\n",
      "Tesztelve 5 különböző tanulási/tesztelési adatszetten\n",
      "RMSE: 51.4013\n",
      "MSE: 4120.614\n",
      "MAE: 47.1823\n",
      "MAPE: 2.9449%\n",
      "RMSE: 51.40126940059711, MSE: 4120.61402775892, MAE: 47.18228244984002, MAPE: 0.029448869448797016\n",
      "mul mul False estimated\n",
      "Tesztelve 5 különböző tanulási/tesztelési adatszetten\n",
      "RMSE: 51.0964\n",
      "MSE: 4035.0502\n",
      "MAE: 46.8257\n",
      "MAPE: 2.9249%\n",
      "RMSE: 51.096379688657876, MSE: 4035.0501859053693, MAE: 46.82567074082471, MAPE: 0.02924864567371128\n",
      "mul mul False heuristic\n",
      "Tesztelve 5 különböző tanulási/tesztelési adatszetten\n",
      "RMSE: 51.0964\n",
      "MSE: 4035.0502\n",
      "MAE: 46.8257\n",
      "MAPE: 2.9249%\n",
      "RMSE: 51.096379688657876, MSE: 4035.0501859053693, MAE: 46.82567074082471, MAPE: 0.02924864567371128\n",
      "mul mul False legacy-heuristic\n",
      "Tesztelve 5 különböző tanulási/tesztelési adatszetten\n",
      "RMSE: 51.0979\n",
      "MSE: 4035.3129\n",
      "MAE: 46.8277\n",
      "MAPE: 2.925%\n",
      "RMSE: 51.09785624576312, MSE: 4035.312916532872, MAE: 46.8276621008019, MAPE: 0.029249758218556583\n",
      "mul None True estimated\n",
      "Tesztelve 5 különböző tanulási/tesztelési adatszetten\n",
      "RMSE: 50.2808\n",
      "MSE: 4216.5825\n",
      "MAE: 47.4481\n",
      "MAPE: 2.9612%\n",
      "RMSE: 50.28079704036302, MSE: 4216.582542624711, MAE: 47.448145788076616, MAPE: 0.029611876627050848\n",
      "mul None True heuristic\n",
      "Tesztelve 5 különböző tanulási/tesztelési adatszetten\n",
      "RMSE: 50.2808\n",
      "MSE: 4216.5825\n",
      "MAE: 47.4481\n",
      "MAPE: 2.9612%\n",
      "RMSE: 50.28079704036302, MSE: 4216.582542624711, MAE: 47.448145788076616, MAPE: 0.029611876627050848\n",
      "mul None True legacy-heuristic\n",
      "Tesztelve 5 különböző tanulási/tesztelési adatszetten\n",
      "RMSE: 50.2808\n",
      "MSE: 4216.6539\n",
      "MAE: 47.4481\n",
      "MAPE: 2.9612%\n",
      "RMSE: 50.280797648590344, MSE: 4216.6539073519725, MAE: 47.4481482449026, MAPE: 0.029611869294143483\n",
      "mul None False estimated\n",
      "Tesztelve 5 különböző tanulási/tesztelési adatszetten\n",
      "RMSE: 50.4393\n",
      "MSE: 4147.6129\n",
      "MAE: 47.7944\n",
      "MAPE: 2.986%\n",
      "RMSE: 50.43934390036834, MSE: 4147.6128796534595, MAE: 47.7943534590239, MAPE: 0.02986015847791141\n",
      "mul None False heuristic\n"
     ]
    },
    {
     "name": "stdout",
     "output_type": "stream",
     "text": [
      "Tesztelve 5 különböző tanulási/tesztelési adatszetten\n",
      "RMSE: 50.4393\n",
      "MSE: 4147.6129\n",
      "MAE: 47.7944\n",
      "MAPE: 2.986%\n",
      "RMSE: 50.43934390036834, MSE: 4147.6128796534595, MAE: 47.7943534590239, MAPE: 0.02986015847791141\n",
      "mul None False legacy-heuristic\n",
      "Tesztelve 5 különböző tanulási/tesztelési adatszetten\n",
      "RMSE: 50.4428\n",
      "MSE: 4148.2309\n",
      "MAE: 47.797\n",
      "MAPE: 2.9862%\n",
      "RMSE: 50.44276288071149, MSE: 4148.230919767081, MAE: 47.796970983671734, MAPE: 0.02986186423899198\n"
     ]
    }
   ],
   "source": [
    "best_rmse = float('inf')\n",
    "best_options = None\n",
    "\n",
    "for x in itertools.product(*tuple_of_option_lists):\n",
    "    print(*x)\n",
    "    rmse, mse, mae, mape = gridsearch_timeseriessplit(*x)\n",
    "    print(f\"RMSE: {rmse}, MSE: {mse}, MAE: {mae}, MAPE: {mape}\")\n",
    "    \n",
    "    if rmse < best_rmse: ## ha kisebb, akkor jobb az rmse\n",
    "        print(\"Best RMSE so far:\", rmse)\n",
    "        best_rmse = rmse\n",
    "        best_mse = mse\n",
    "        best_mae = mae\n",
    "        best_mape = mape\n",
    "        best_options = x"
   ]
  },
  {
   "cell_type": "code",
   "execution_count": 24,
   "id": "f61416af",
   "metadata": {},
   "outputs": [
    {
     "name": "stdout",
     "output_type": "stream",
     "text": [
      "Legjobb RMSE: 50.2007\n",
      "Legjobb MSE: 50.2007\n",
      "Legjobb MAE: 47.4005\n",
      "Legjobb MAPE: 2.9582\n",
      "Legjobb hiperparaméter-kombináció\n",
      "trend_type: add\n",
      "seasonal_type: None\n",
      "damped_trend: True\n",
      "init_method: legacy-heuristic\n"
     ]
    }
   ],
   "source": [
    "print(\"Legjobb RMSE:\", round(best_rmse, 4))\n",
    "print(\"Legjobb MSE:\", round(best_rmse, 4))\n",
    "print(\"Legjobb MAE:\", round(best_mae, 4))\n",
    "print(\"Legjobb MAPE:\", round(best_mape*100, 4))\n",
    "\n",
    "\n",
    "trend_type, seasonal_type, damped_trend, init_method = best_options\n",
    "print(\"Legjobb hiperparaméter-kombináció\")\n",
    "print(\"trend_type:\", trend_type)\n",
    "print(\"seasonal_type:\", seasonal_type)\n",
    "print(\"damped_trend:\", damped_trend)\n",
    "print(\"init_method:\", init_method)"
   ]
  },
  {
   "cell_type": "markdown",
   "id": "b94b6726",
   "metadata": {},
   "source": [
    "## 7 DAY"
   ]
  },
  {
   "cell_type": "code",
   "execution_count": 25,
   "id": "e957fd4c",
   "metadata": {},
   "outputs": [],
   "source": [
    "from sklearn.model_selection import TimeSeriesSplit\n",
    "\n",
    "tss = TimeSeriesSplit(n_splits=10, test_size=7, gap=0)\n",
    "df_close = df_close.sort_index()"
   ]
  },
  {
   "cell_type": "code",
   "execution_count": 26,
   "id": "dcf4f7c9",
   "metadata": {},
   "outputs": [],
   "source": [
    "# Configuration hyperparameters to try\n",
    "trend_type_list = ['add', 'mul']\n",
    "seasonal_type_list = ['add', 'mul', None]\n",
    "damped_trend_list = [True, False]\n",
    "init_method_list = ['estimated', 'heuristic', 'legacy-heuristic']\n",
    "## box-cox not required since log dataset"
   ]
  },
  {
   "cell_type": "code",
   "execution_count": 27,
   "id": "b5868e0f",
   "metadata": {},
   "outputs": [],
   "source": [
    "# Grid Search\n",
    "tuple_of_option_lists = (\n",
    "    trend_type_list,\n",
    "    seasonal_type_list,\n",
    "    damped_trend_list,\n",
    "    init_method_list\n",
    ")"
   ]
  },
  {
   "cell_type": "code",
   "execution_count": 28,
   "id": "0aecf97e",
   "metadata": {},
   "outputs": [
    {
     "name": "stdout",
     "output_type": "stream",
     "text": [
      "add add True estimated\n",
      "Tesztelve 5 különböző tanulási/tesztelési adatszetten\n",
      "RMSE: 79.5618\n",
      "MSE: 8608.5949\n",
      "MAE: 73.4466\n",
      "MAPE: 4.7489%\n",
      "RMSE: 79.56183666765655, MSE: 8608.59494123323, MAE: 73.44662925495406, MAPE: 0.04748935548611386\n",
      "Best RMSE so far: 79.56183666765655\n",
      "add add True heuristic\n",
      "Tesztelve 5 különböző tanulási/tesztelési adatszetten\n",
      "RMSE: 79.5618\n",
      "MSE: 8608.5949\n",
      "MAE: 73.4466\n",
      "MAPE: 4.7489%\n",
      "RMSE: 79.56183666765655, MSE: 8608.59494123323, MAE: 73.44662925495406, MAPE: 0.04748935548611386\n",
      "add add True legacy-heuristic\n",
      "Tesztelve 5 különböző tanulási/tesztelési adatszetten\n",
      "RMSE: 79.5646\n",
      "MSE: 8609.1499\n",
      "MAE: 73.4467\n",
      "MAPE: 4.7489%\n",
      "RMSE: 79.56455514634244, MSE: 8609.149877032334, MAE: 73.44669235277311, MAPE: 0.04748939625211957\n",
      "add add False estimated\n",
      "Tesztelve 5 különböző tanulási/tesztelési adatszetten\n",
      "RMSE: 79.5034\n",
      "MSE: 8566.2285\n",
      "MAE: 73.378\n",
      "MAPE: 4.7505%\n",
      "RMSE: 79.50337173849054, MSE: 8566.22851416273, MAE: 73.378027576495, MAPE: 0.04750507024608726\n",
      "Best RMSE so far: 79.50337173849054\n",
      "add add False heuristic\n",
      "Tesztelve 5 különböző tanulási/tesztelési adatszetten\n",
      "RMSE: 79.5034\n",
      "MSE: 8566.2285\n",
      "MAE: 73.378\n",
      "MAPE: 4.7505%\n",
      "RMSE: 79.50337173849054, MSE: 8566.22851416273, MAE: 73.378027576495, MAPE: 0.04750507024608726\n",
      "add add False legacy-heuristic\n",
      "Tesztelve 5 különböző tanulási/tesztelési adatszetten\n",
      "RMSE: 79.4993\n",
      "MSE: 8565.0774\n",
      "MAE: 73.3736\n",
      "MAPE: 4.7502%\n",
      "RMSE: 79.49932326462864, MSE: 8565.07743972715, MAE: 73.37361232385899, MAPE: 0.047502333554034736\n",
      "Best RMSE so far: 79.49932326462864\n",
      "add mul True estimated\n",
      "Tesztelve 5 különböző tanulási/tesztelési adatszetten\n",
      "RMSE: 79.7092\n",
      "MSE: 8635.5176\n",
      "MAE: 73.4751\n",
      "MAPE: 4.7505%\n",
      "RMSE: 79.70919794739447, MSE: 8635.517581974806, MAE: 73.47511019578035, MAPE: 0.04750460805471571\n",
      "add mul True heuristic\n",
      "Tesztelve 5 különböző tanulási/tesztelési adatszetten\n",
      "RMSE: 79.7092\n",
      "MSE: 8635.5176\n",
      "MAE: 73.4751\n",
      "MAPE: 4.7505%\n",
      "RMSE: 79.70919794739447, MSE: 8635.517581974806, MAE: 73.47511019578035, MAPE: 0.04750460805471571\n",
      "add mul True legacy-heuristic\n",
      "Tesztelve 5 különböző tanulási/tesztelési adatszetten\n",
      "RMSE: 79.7102\n",
      "MSE: 8636.6373\n",
      "MAE: 73.4715\n",
      "MAPE: 4.7502%\n",
      "RMSE: 79.71016848544488, MSE: 8636.637296256453, MAE: 73.47147748706905, MAPE: 0.04750240929212365\n",
      "add mul False estimated\n",
      "Tesztelve 5 különböző tanulási/tesztelési adatszetten\n",
      "RMSE: 79.6008\n",
      "MSE: 8582.3773\n",
      "MAE: 73.451\n",
      "MAPE: 4.7549%\n",
      "RMSE: 79.60076391985798, MSE: 8582.377263733522, MAE: 73.45098007585368, MAPE: 0.0475486758718394\n",
      "add mul False heuristic\n",
      "Tesztelve 5 különböző tanulási/tesztelési adatszetten\n",
      "RMSE: 79.6008\n",
      "MSE: 8582.3773\n",
      "MAE: 73.451\n",
      "MAPE: 4.7549%\n",
      "RMSE: 79.60076391985798, MSE: 8582.377263733522, MAE: 73.45098007585368, MAPE: 0.0475486758718394\n",
      "add mul False legacy-heuristic\n",
      "Tesztelve 5 különböző tanulási/tesztelési adatszetten\n",
      "RMSE: 79.6025\n",
      "MSE: 8583.2897\n",
      "MAE: 73.4546\n",
      "MAPE: 4.7551%\n",
      "RMSE: 79.60249920192499, MSE: 8583.289672474366, MAE: 73.45459740055458, MAPE: 0.0475505268743353\n",
      "add None True estimated\n",
      "Tesztelve 5 különböző tanulási/tesztelési adatszetten\n",
      "RMSE: 76.9964\n",
      "MSE: 8231.1776\n",
      "MAE: 71.7911\n",
      "MAPE: 4.6382%\n",
      "RMSE: 76.99642950950314, MSE: 8231.177631650562, MAE: 71.79105456655685, MAPE: 0.04638160117022351\n",
      "Best RMSE so far: 76.99642950950314\n",
      "add None True heuristic\n",
      "Tesztelve 5 különböző tanulási/tesztelési adatszetten\n",
      "RMSE: 76.9964\n",
      "MSE: 8231.1776\n",
      "MAE: 71.7911\n",
      "MAPE: 4.6382%\n",
      "RMSE: 76.99642950950314, MSE: 8231.177631650562, MAE: 71.79105456655685, MAPE: 0.04638160117022351\n",
      "add None True legacy-heuristic\n",
      "Tesztelve 5 különböző tanulási/tesztelési adatszetten\n",
      "RMSE: 76.9975\n",
      "MSE: 8231.412\n",
      "MAE: 71.7917\n",
      "MAPE: 4.6382%\n",
      "RMSE: 76.99750592980817, MSE: 8231.411975143212, MAE: 71.79173989412547, MAPE: 0.04638204147576191\n",
      "add None False estimated\n",
      "Tesztelve 5 különböző tanulási/tesztelési adatszetten\n",
      "RMSE: 77.3402\n",
      "MSE: 8289.4985\n",
      "MAE: 71.7802\n",
      "MAPE: 4.643%\n",
      "RMSE: 77.34018931826003, MSE: 8289.498479535989, MAE: 71.78023046778247, MAPE: 0.0464297213669362\n",
      "add None False heuristic\n",
      "Tesztelve 5 különböző tanulási/tesztelési adatszetten\n",
      "RMSE: 77.3402\n",
      "MSE: 8289.4985\n",
      "MAE: 71.7802\n",
      "MAPE: 4.643%\n",
      "RMSE: 77.34018931826003, MSE: 8289.498479535989, MAE: 71.78023046778247, MAPE: 0.0464297213669362\n",
      "add None False legacy-heuristic\n",
      "Tesztelve 5 különböző tanulási/tesztelési adatszetten\n",
      "RMSE: 77.3318\n",
      "MSE: 8287.585\n",
      "MAE: 71.773\n",
      "MAPE: 4.6425%\n",
      "RMSE: 77.33175778142146, MSE: 8287.584999166113, MAE: 71.77304683392035, MAPE: 0.04642533210569415\n",
      "mul add True estimated\n",
      "Tesztelve 5 különböző tanulási/tesztelési adatszetten\n",
      "RMSE: 80.7023\n",
      "MSE: 8936.027\n",
      "MAE: 74.4674\n",
      "MAPE: 4.8146%\n",
      "RMSE: 80.70225489232362, MSE: 8936.027036831916, MAE: 74.46744239158808, MAPE: 0.04814646942869737\n",
      "mul add True heuristic\n",
      "Tesztelve 5 különböző tanulási/tesztelési adatszetten\n",
      "RMSE: 80.7023\n",
      "MSE: 8936.027\n",
      "MAE: 74.4674\n",
      "MAPE: 4.8146%\n",
      "RMSE: 80.70225489232362, MSE: 8936.027036831916, MAE: 74.46744239158808, MAPE: 0.04814646942869737\n",
      "mul add True legacy-heuristic\n",
      "Tesztelve 5 különböző tanulási/tesztelési adatszetten\n",
      "RMSE: 80.519\n",
      "MSE: 8822.0179\n",
      "MAE: 74.2488\n",
      "MAPE: 4.8163%\n",
      "RMSE: 80.51902352706668, MSE: 8822.017891173538, MAE: 74.24875221423724, MAPE: 0.04816319209965945\n",
      "mul add False estimated\n",
      "Tesztelve 5 különböző tanulási/tesztelési adatszetten\n",
      "RMSE: 79.6244\n",
      "MSE: 8607.5798\n",
      "MAE: 73.4597\n",
      "MAPE: 4.7548%\n",
      "RMSE: 79.6244236509195, MSE: 8607.57978528962, MAE: 73.45965601845799, MAPE: 0.04754787339258888\n",
      "mul add False heuristic\n",
      "Tesztelve 5 különböző tanulási/tesztelési adatszetten\n",
      "RMSE: 79.6244\n",
      "MSE: 8607.5798\n",
      "MAE: 73.4597\n",
      "MAPE: 4.7548%\n",
      "RMSE: 79.6244236509195, MSE: 8607.57978528962, MAE: 73.45965601845799, MAPE: 0.04754787339258888\n",
      "mul add False legacy-heuristic\n",
      "Tesztelve 5 különböző tanulási/tesztelési adatszetten\n",
      "RMSE: 79.6055\n",
      "MSE: 8602.8764\n",
      "MAE: 73.4458\n",
      "MAPE: 4.7539%\n",
      "RMSE: 79.60546810785556, MSE: 8602.876364923148, MAE: 73.44575521597636, MAPE: 0.04753938079841316\n",
      "mul mul True estimated\n",
      "Tesztelve 5 különböző tanulási/tesztelési adatszetten\n",
      "RMSE: 79.6866\n",
      "MSE: 8626.5179\n",
      "MAE: 73.4688\n",
      "MAPE: 4.7502%\n",
      "RMSE: 79.68664033068617, MSE: 8626.517902756563, MAE: 73.46882635598259, MAPE: 0.04750206440900542\n",
      "mul mul True heuristic\n",
      "Tesztelve 5 különböző tanulási/tesztelési adatszetten\n",
      "RMSE: 79.6866\n",
      "MSE: 8626.5179\n",
      "MAE: 73.4688\n",
      "MAPE: 4.7502%\n",
      "RMSE: 79.68664033068617, MSE: 8626.517902756563, MAE: 73.46882635598259, MAPE: 0.04750206440900542\n",
      "mul mul True legacy-heuristic\n",
      "Tesztelve 5 különböző tanulási/tesztelési adatszetten\n",
      "RMSE: 79.6885\n",
      "MSE: 8628.0505\n",
      "MAE: 73.4682\n",
      "MAPE: 4.7501%\n",
      "RMSE: 79.6884587080454, MSE: 8628.050473718866, MAE: 73.46824433556789, MAPE: 0.04750133358694838\n",
      "mul mul False estimated\n",
      "Tesztelve 5 különböző tanulási/tesztelési adatszetten\n",
      "RMSE: 79.7178\n",
      "MSE: 8622.5951\n",
      "MAE: 73.528\n",
      "MAPE: 4.7588%\n",
      "RMSE: 79.71782621430317, MSE: 8622.59513894667, MAE: 73.52803417787166, MAPE: 0.04758808461796116\n",
      "mul mul False heuristic\n",
      "Tesztelve 5 különböző tanulási/tesztelési adatszetten\n",
      "RMSE: 79.7178\n",
      "MSE: 8622.5951\n",
      "MAE: 73.528\n",
      "MAPE: 4.7588%\n",
      "RMSE: 79.71782621430317, MSE: 8622.59513894667, MAE: 73.52803417787166, MAPE: 0.04758808461796116\n",
      "mul mul False legacy-heuristic\n",
      "Tesztelve 5 különböző tanulási/tesztelési adatszetten\n",
      "RMSE: 79.8449\n",
      "MSE: 8662.3777\n",
      "MAE: 73.6361\n",
      "MAPE: 4.766%\n",
      "RMSE: 79.84490770406087, MSE: 8662.37767709445, MAE: 73.636061380361, MAPE: 0.04765988543983599\n",
      "mul None True estimated\n",
      "Tesztelve 5 különböző tanulási/tesztelési adatszetten\n",
      "RMSE: 76.9373\n",
      "MSE: 8215.1347\n",
      "MAE: 71.7466\n",
      "MAPE: 4.6353%\n",
      "RMSE: 76.93731703584533, MSE: 8215.134683193519, MAE: 71.74655323561333, MAPE: 0.04635271295712212\n",
      "Best RMSE so far: 76.93731703584533\n",
      "mul None True heuristic\n",
      "Tesztelve 5 különböző tanulási/tesztelési adatszetten\n",
      "RMSE: 76.9373\n",
      "MSE: 8215.1347\n",
      "MAE: 71.7466\n",
      "MAPE: 4.6353%\n",
      "RMSE: 76.93731703584533, MSE: 8215.134683193519, MAE: 71.74655323561333, MAPE: 0.04635271295712212\n",
      "mul None True legacy-heuristic\n",
      "Tesztelve 5 különböző tanulási/tesztelési adatszetten\n",
      "RMSE: 76.9358\n",
      "MSE: 8214.6911\n",
      "MAE: 71.7448\n",
      "MAPE: 4.6352%\n",
      "RMSE: 76.93580862565445, MSE: 8214.691108402732, MAE: 71.74482910539771, MAPE: 0.04635152389323342\n",
      "Best RMSE so far: 76.93580862565445\n",
      "mul None False estimated\n",
      "Tesztelve 5 különböző tanulási/tesztelési adatszetten\n",
      "RMSE: 77.4779\n",
      "MSE: 8330.2144\n",
      "MAE: 71.8716\n",
      "MAPE: 4.6479%\n",
      "RMSE: 77.47793370076123, MSE: 8330.21440137236, MAE: 71.87157921232324, MAPE: 0.04647870517882991\n",
      "mul None False heuristic\n"
     ]
    },
    {
     "name": "stdout",
     "output_type": "stream",
     "text": [
      "Tesztelve 5 különböző tanulási/tesztelési adatszetten\n",
      "RMSE: 77.4779\n",
      "MSE: 8330.2144\n",
      "MAE: 71.8716\n",
      "MAPE: 4.6479%\n",
      "RMSE: 77.47793370076123, MSE: 8330.21440137236, MAE: 71.87157921232324, MAPE: 0.04647870517882991\n",
      "mul None False legacy-heuristic\n",
      "Tesztelve 5 különböző tanulási/tesztelési adatszetten\n",
      "RMSE: 77.4941\n",
      "MSE: 8333.8303\n",
      "MAE: 71.8862\n",
      "MAPE: 4.6489%\n",
      "RMSE: 77.49413400654066, MSE: 8333.830348943813, MAE: 71.88615884762008, MAPE: 0.04648890889882581\n"
     ]
    }
   ],
   "source": [
    "best_rmse = float('inf')\n",
    "best_options = None\n",
    "\n",
    "for x in itertools.product(*tuple_of_option_lists):\n",
    "    print(*x)\n",
    "    rmse, mse, mae, mape = gridsearch_timeseriessplit(*x)\n",
    "    print(f\"RMSE: {rmse}, MSE: {mse}, MAE: {mae}, MAPE: {mape}\")\n",
    "    \n",
    "    if rmse < best_rmse: ## ha kisebb, akkor jobb az rmse\n",
    "        print(\"Best RMSE so far:\", rmse)\n",
    "        best_rmse = rmse\n",
    "        best_mse = mse\n",
    "        best_mae = mae\n",
    "        best_mape = mape\n",
    "        best_options = x"
   ]
  },
  {
   "cell_type": "code",
   "execution_count": 29,
   "id": "489e5803",
   "metadata": {},
   "outputs": [
    {
     "name": "stdout",
     "output_type": "stream",
     "text": [
      "Legjobb RMSE: 76.9358\n",
      "Legjobb MSE: 76.9358\n",
      "Legjobb MAE: 71.7448\n",
      "Legjobb MAPE: 4.6352\n",
      "Legjobb hiperparaméter-kombináció\n",
      "trend_type: mul\n",
      "seasonal_type: None\n",
      "damped_trend: True\n",
      "init_method: legacy-heuristic\n"
     ]
    }
   ],
   "source": [
    "print(\"Legjobb RMSE:\", round(best_rmse, 4))\n",
    "print(\"Legjobb MSE:\", round(best_rmse, 4))\n",
    "print(\"Legjobb MAE:\", round(best_mae, 4))\n",
    "print(\"Legjobb MAPE:\", round(best_mape*100, 4))\n",
    "\n",
    "\n",
    "trend_type, seasonal_type, damped_trend, init_method = best_options\n",
    "print(\"Legjobb hiperparaméter-kombináció\")\n",
    "print(\"trend_type:\", trend_type)\n",
    "print(\"seasonal_type:\", seasonal_type)\n",
    "print(\"damped_trend:\", damped_trend)\n",
    "print(\"init_method:\", init_method)"
   ]
  },
  {
   "cell_type": "markdown",
   "id": "02b9b6e8",
   "metadata": {},
   "source": [
    "## 14 DAY"
   ]
  },
  {
   "cell_type": "code",
   "execution_count": 30,
   "id": "981d0d88",
   "metadata": {},
   "outputs": [],
   "source": [
    "from sklearn.model_selection import TimeSeriesSplit\n",
    "\n",
    "tss = TimeSeriesSplit(n_splits=10, test_size=14, gap=0)\n",
    "df_close = df_close.sort_index()"
   ]
  },
  {
   "cell_type": "code",
   "execution_count": 31,
   "id": "c3d29440",
   "metadata": {},
   "outputs": [],
   "source": [
    "# Configuration hyperparameters to try\n",
    "trend_type_list = ['add', 'mul']\n",
    "seasonal_type_list = ['add', 'mul', None]\n",
    "damped_trend_list = [True, False]\n",
    "init_method_list = ['estimated', 'heuristic', 'legacy-heuristic']\n",
    "## box-cox not required since log dataset"
   ]
  },
  {
   "cell_type": "code",
   "execution_count": 32,
   "id": "e08a6198",
   "metadata": {},
   "outputs": [],
   "source": [
    "# Grid Search\n",
    "tuple_of_option_lists = (\n",
    "    trend_type_list,\n",
    "    seasonal_type_list,\n",
    "    damped_trend_list,\n",
    "    init_method_list\n",
    ")"
   ]
  },
  {
   "cell_type": "code",
   "execution_count": 33,
   "id": "1528c307",
   "metadata": {},
   "outputs": [
    {
     "name": "stdout",
     "output_type": "stream",
     "text": [
      "add add True estimated\n",
      "Tesztelve 5 különböző tanulási/tesztelési adatszetten\n",
      "RMSE: 120.417\n",
      "MSE: 19658.4498\n",
      "MAE: 101.9\n",
      "MAPE: 7.3462%\n",
      "RMSE: 120.41699901259294, MSE: 19658.449757915296, MAE: 101.8999837123872, MAPE: 0.073462005969809\n",
      "Best RMSE so far: 120.41699901259294\n",
      "add add True heuristic\n",
      "Tesztelve 5 különböző tanulási/tesztelési adatszetten\n",
      "RMSE: 120.417\n",
      "MSE: 19658.4498\n",
      "MAE: 101.9\n",
      "MAPE: 7.3462%\n",
      "RMSE: 120.41699901259294, MSE: 19658.449757915296, MAE: 101.8999837123872, MAPE: 0.073462005969809\n",
      "add add True legacy-heuristic\n",
      "Tesztelve 5 különböző tanulási/tesztelési adatszetten\n",
      "RMSE: 120.432\n",
      "MSE: 19663.1025\n",
      "MAE: 101.9137\n",
      "MAPE: 7.3471%\n",
      "RMSE: 120.43203534189391, MSE: 19663.102487604414, MAE: 101.91365719618027, MAPE: 0.07347101941268126\n",
      "add add False estimated\n",
      "Tesztelve 5 különböző tanulási/tesztelési adatszetten\n",
      "RMSE: 120.7985\n",
      "MSE: 19838.385\n",
      "MAE: 102.7552\n",
      "MAPE: 7.4147%\n",
      "RMSE: 120.79852573789749, MSE: 19838.3850399343, MAE: 102.75520755830003, MAPE: 0.07414675959436409\n",
      "add add False heuristic\n",
      "Tesztelve 5 különböző tanulási/tesztelési adatszetten\n",
      "RMSE: 120.7985\n",
      "MSE: 19838.385\n",
      "MAE: 102.7552\n",
      "MAPE: 7.4147%\n",
      "RMSE: 120.79852573789749, MSE: 19838.3850399343, MAE: 102.75520755830003, MAPE: 0.07414675959436409\n",
      "add add False legacy-heuristic\n",
      "Tesztelve 5 különböző tanulási/tesztelési adatszetten\n",
      "RMSE: 120.793\n",
      "MSE: 19838.9452\n",
      "MAE: 102.7476\n",
      "MAPE: 7.4141%\n",
      "RMSE: 120.79296809215698, MSE: 19838.94520312064, MAE: 102.74755378820234, MAPE: 0.07414107082258767\n",
      "add mul True estimated\n",
      "Tesztelve 5 különböző tanulási/tesztelési adatszetten\n",
      "RMSE: 120.6055\n",
      "MSE: 19747.2327\n",
      "MAE: 102.0802\n",
      "MAPE: 7.3612%\n",
      "RMSE: 120.60550743806134, MSE: 19747.232695089977, MAE: 102.08021887128213, MAPE: 0.07361154041468716\n",
      "add mul True heuristic\n",
      "Tesztelve 5 különböző tanulási/tesztelési adatszetten\n",
      "RMSE: 120.6055\n",
      "MSE: 19747.2327\n",
      "MAE: 102.0802\n",
      "MAPE: 7.3612%\n",
      "RMSE: 120.60550743806134, MSE: 19747.232695089977, MAE: 102.08021887128213, MAPE: 0.07361154041468716\n",
      "add mul True legacy-heuristic\n",
      "Tesztelve 5 különböző tanulási/tesztelési adatszetten\n",
      "RMSE: 120.5999\n",
      "MSE: 19746.4703\n",
      "MAE: 102.0704\n",
      "MAPE: 7.3604%\n",
      "RMSE: 120.59994815141451, MSE: 19746.47025421698, MAE: 102.07038964666147, MAPE: 0.07360402854707072\n",
      "add mul False estimated\n",
      "Tesztelve 5 különböző tanulási/tesztelési adatszetten\n",
      "RMSE: 120.9613\n",
      "MSE: 19912.1056\n",
      "MAE: 102.9097\n",
      "MAPE: 7.4273%\n",
      "RMSE: 120.96133350253274, MSE: 19912.105638063174, MAE: 102.90968166720015, MAPE: 0.07427272092776516\n",
      "add mul False heuristic\n",
      "Tesztelve 5 különböző tanulási/tesztelési adatszetten\n",
      "RMSE: 120.9613\n",
      "MSE: 19912.1056\n",
      "MAE: 102.9097\n",
      "MAPE: 7.4273%\n",
      "RMSE: 120.96133350253274, MSE: 19912.105638063174, MAE: 102.90968166720015, MAPE: 0.07427272092776516\n",
      "add mul False legacy-heuristic\n",
      "Tesztelve 5 különböző tanulási/tesztelési adatszetten\n",
      "RMSE: 120.9629\n",
      "MSE: 19917.8984\n",
      "MAE: 102.9121\n",
      "MAPE: 7.4275%\n",
      "RMSE: 120.96290401228808, MSE: 19917.898354703222, MAE: 102.91207012802927, MAPE: 0.07427505945728562\n",
      "add None True estimated\n",
      "Tesztelve 5 különböző tanulási/tesztelési adatszetten\n",
      "RMSE: 119.8477\n",
      "MSE: 19353.7966\n",
      "MAE: 101.9892\n",
      "MAPE: 7.3146%\n",
      "RMSE: 119.84770693614136, MSE: 19353.796553645512, MAE: 101.98917883897002, MAPE: 0.07314598916692693\n",
      "Best RMSE so far: 119.84770693614136\n",
      "add None True heuristic\n",
      "Tesztelve 5 különböző tanulási/tesztelési adatszetten\n",
      "RMSE: 119.8477\n",
      "MSE: 19353.7966\n",
      "MAE: 101.9892\n",
      "MAPE: 7.3146%\n",
      "RMSE: 119.84770693614136, MSE: 19353.796553645512, MAE: 101.98917883897002, MAPE: 0.07314598916692693\n",
      "add None True legacy-heuristic\n",
      "Tesztelve 5 különböző tanulási/tesztelési adatszetten\n",
      "RMSE: 119.8484\n",
      "MSE: 19354.0185\n",
      "MAE: 101.9898\n",
      "MAPE: 7.3146%\n",
      "RMSE: 119.8483745134151, MSE: 19354.018544784318, MAE: 101.98976093722105, MAPE: 0.07314638033091106\n",
      "add None False estimated\n",
      "Tesztelve 5 különböző tanulási/tesztelési adatszetten\n",
      "RMSE: 120.0803\n",
      "MSE: 19502.5945\n",
      "MAE: 102.4449\n",
      "MAPE: 7.3649%\n",
      "RMSE: 120.08034345599651, MSE: 19502.594505567362, MAE: 102.4448827610009, MAPE: 0.07364863486877256\n",
      "add None False heuristic\n",
      "Tesztelve 5 különböző tanulási/tesztelési adatszetten\n",
      "RMSE: 120.0803\n",
      "MSE: 19502.5945\n",
      "MAE: 102.4449\n",
      "MAPE: 7.3649%\n",
      "RMSE: 120.08034345599651, MSE: 19502.594505567362, MAE: 102.4448827610009, MAPE: 0.07364863486877256\n",
      "add None False legacy-heuristic\n",
      "Tesztelve 5 különböző tanulási/tesztelési adatszetten\n",
      "RMSE: 120.0858\n",
      "MSE: 19503.9641\n",
      "MAE: 102.4517\n",
      "MAPE: 7.3655%\n",
      "RMSE: 120.08575619781277, MSE: 19503.964061625873, MAE: 102.45168165183323, MAPE: 0.0736551414231573\n",
      "mul add True estimated\n",
      "Tesztelve 5 különböző tanulási/tesztelési adatszetten\n",
      "RMSE: 123.0503\n",
      "MSE: 20385.2344\n",
      "MAE: 104.198\n",
      "MAPE: 7.4721%\n",
      "RMSE: 123.05030651903579, MSE: 20385.2343543372, MAE: 104.19797015578686, MAPE: 0.07472068836349328\n",
      "mul add True heuristic\n",
      "Tesztelve 5 különböző tanulási/tesztelési adatszetten\n",
      "RMSE: 123.0503\n",
      "MSE: 20385.2344\n",
      "MAE: 104.198\n",
      "MAPE: 7.4721%\n",
      "RMSE: 123.05030651903579, MSE: 20385.2343543372, MAE: 104.19797015578686, MAPE: 0.07472068836349328\n",
      "mul add True legacy-heuristic\n",
      "Tesztelve 5 különböző tanulási/tesztelési adatszetten\n",
      "RMSE: 122.0722\n",
      "MSE: 20143.9288\n",
      "MAE: 103.6632\n",
      "MAPE: 7.4346%\n",
      "RMSE: 122.07221693213383, MSE: 20143.9287729813, MAE: 103.66322084433516, MAPE: 0.07434633583671177\n",
      "mul add False estimated\n",
      "Tesztelve 5 különböző tanulási/tesztelési adatszetten\n",
      "RMSE: 120.857\n",
      "MSE: 19831.8913\n",
      "MAE: 102.697\n",
      "MAPE: 7.4065%\n",
      "RMSE: 120.85704589362706, MSE: 19831.89131690324, MAE: 102.69704112925686, MAPE: 0.07406536125801799\n",
      "mul add False heuristic\n",
      "Tesztelve 5 különböző tanulási/tesztelési adatszetten\n",
      "RMSE: 120.857\n",
      "MSE: 19831.8913\n",
      "MAE: 102.697\n",
      "MAPE: 7.4065%\n",
      "RMSE: 120.85704589362706, MSE: 19831.89131690324, MAE: 102.69704112925686, MAPE: 0.07406536125801799\n",
      "mul add False legacy-heuristic\n",
      "Tesztelve 5 különböző tanulási/tesztelési adatszetten\n",
      "RMSE: 120.8597\n",
      "MSE: 19837.1307\n",
      "MAE: 102.7089\n",
      "MAPE: 7.4077%\n",
      "RMSE: 120.85968084303886, MSE: 19837.130733411086, MAE: 102.70888298135151, MAPE: 0.07407699351147881\n",
      "mul mul True estimated\n",
      "Tesztelve 5 különböző tanulási/tesztelési adatszetten\n",
      "RMSE: 120.6502\n",
      "MSE: 19755.4789\n",
      "MAE: 102.138\n",
      "MAPE: 7.3667%\n",
      "RMSE: 120.65021632462121, MSE: 19755.47891219745, MAE: 102.13795616250918, MAPE: 0.07366704499613416\n",
      "mul mul True heuristic\n",
      "Tesztelve 5 különböző tanulási/tesztelési adatszetten\n",
      "RMSE: 120.6502\n",
      "MSE: 19755.4789\n",
      "MAE: 102.138\n",
      "MAPE: 7.3667%\n",
      "RMSE: 120.65021632462121, MSE: 19755.47891219745, MAE: 102.13795616250918, MAPE: 0.07366704499613416\n",
      "mul mul True legacy-heuristic\n",
      "Tesztelve 5 különböző tanulási/tesztelési adatszetten\n",
      "RMSE: 120.6563\n",
      "MSE: 19757.0458\n",
      "MAE: 102.1447\n",
      "MAPE: 7.3672%\n",
      "RMSE: 120.65625288596877, MSE: 19757.04584309651, MAE: 102.14467129678518, MAPE: 0.07367245375410873\n",
      "mul mul False estimated\n",
      "Tesztelve 5 különböző tanulási/tesztelési adatszetten\n",
      "RMSE: 121.029\n",
      "MSE: 19911.5704\n",
      "MAE: 102.8667\n",
      "MAPE: 7.4202%\n",
      "RMSE: 121.02899769631047, MSE: 19911.57044034368, MAE: 102.86670831007302, MAPE: 0.07420202153509978\n",
      "mul mul False heuristic\n",
      "Tesztelve 5 különböző tanulási/tesztelési adatszetten\n",
      "RMSE: 121.029\n",
      "MSE: 19911.5704\n",
      "MAE: 102.8667\n",
      "MAPE: 7.4202%\n",
      "RMSE: 121.02899769631047, MSE: 19911.57044034368, MAE: 102.86670831007302, MAPE: 0.07420202153509978\n",
      "mul mul False legacy-heuristic\n",
      "Tesztelve 5 különböző tanulási/tesztelési adatszetten\n",
      "RMSE: 121.1836\n",
      "MSE: 19942.6634\n",
      "MAE: 103.1039\n",
      "MAPE: 7.4349%\n",
      "RMSE: 121.18357870098517, MSE: 19942.66338256812, MAE: 103.10391223307822, MAPE: 0.0743488594121243\n",
      "mul None True estimated\n",
      "Tesztelve 5 különböző tanulási/tesztelési adatszetten\n",
      "RMSE: 119.8822\n",
      "MSE: 19354.7194\n",
      "MAE: 102.0149\n",
      "MAPE: 7.3176%\n",
      "RMSE: 119.8822004947857, MSE: 19354.719441668756, MAE: 102.01490473137146, MAPE: 0.07317604127450857\n",
      "mul None True heuristic\n",
      "Tesztelve 5 különböző tanulási/tesztelési adatszetten\n",
      "RMSE: 119.8822\n",
      "MSE: 19354.7194\n",
      "MAE: 102.0149\n",
      "MAPE: 7.3176%\n",
      "RMSE: 119.8822004947857, MSE: 19354.719441668756, MAE: 102.01490473137146, MAPE: 0.07317604127450857\n",
      "mul None True legacy-heuristic\n",
      "Tesztelve 5 különböző tanulási/tesztelési adatszetten\n",
      "RMSE: 119.8796\n",
      "MSE: 19353.9342\n",
      "MAE: 102.0125\n",
      "MAPE: 7.3174%\n",
      "RMSE: 119.87960127730466, MSE: 19353.934169268137, MAE: 102.01250836375543, MAPE: 0.07317442033397271\n",
      "mul None False estimated\n",
      "Tesztelve 5 különböző tanulási/tesztelési adatszetten\n",
      "RMSE: 120.1999\n",
      "MSE: 19523.4302\n",
      "MAE: 102.4759\n",
      "MAPE: 7.3625%\n",
      "RMSE: 120.19988595043203, MSE: 19523.430157869538, MAE: 102.4759393652361, MAPE: 0.07362474329270349\n",
      "mul None False heuristic\n"
     ]
    },
    {
     "name": "stdout",
     "output_type": "stream",
     "text": [
      "Tesztelve 5 különböző tanulási/tesztelési adatszetten\n",
      "RMSE: 120.1999\n",
      "MSE: 19523.4302\n",
      "MAE: 102.4759\n",
      "MAPE: 7.3625%\n",
      "RMSE: 120.19988595043203, MSE: 19523.430157869538, MAE: 102.4759393652361, MAPE: 0.07362474329270349\n",
      "mul None False legacy-heuristic\n",
      "Tesztelve 5 különböző tanulási/tesztelési adatszetten\n",
      "RMSE: 120.1754\n",
      "MSE: 19518.731\n",
      "MAE: 102.4523\n",
      "MAPE: 7.3607%\n",
      "RMSE: 120.17543749293372, MSE: 19518.731012364402, MAE: 102.45229942050102, MAPE: 0.07360744824600593\n"
     ]
    }
   ],
   "source": [
    "best_rmse = float('inf')\n",
    "best_options = None\n",
    "\n",
    "for x in itertools.product(*tuple_of_option_lists):\n",
    "    print(*x)\n",
    "    rmse, mse, mae, mape = gridsearch_timeseriessplit(*x)\n",
    "    print(f\"RMSE: {rmse}, MSE: {mse}, MAE: {mae}, MAPE: {mape}\")\n",
    "    \n",
    "    if rmse < best_rmse: ## ha kisebb, akkor jobb az rmse\n",
    "        print(\"Best RMSE so far:\", rmse)\n",
    "        best_rmse = rmse\n",
    "        best_mse = mse\n",
    "        best_mae = mae\n",
    "        best_mape = mape\n",
    "        best_options = x"
   ]
  },
  {
   "cell_type": "code",
   "execution_count": 34,
   "id": "8ace54b2",
   "metadata": {},
   "outputs": [
    {
     "name": "stdout",
     "output_type": "stream",
     "text": [
      "Legjobb RMSE: 119.8477\n",
      "Legjobb MSE: 119.8477\n",
      "Legjobb MAE: 101.9892\n",
      "Legjobb MAPE: 7.3146\n",
      "Legjobb hiperparaméter-kombináció\n",
      "trend_type: add\n",
      "seasonal_type: None\n",
      "damped_trend: True\n",
      "init_method: estimated\n"
     ]
    }
   ],
   "source": [
    "print(\"Legjobb RMSE:\", round(best_rmse, 4))\n",
    "print(\"Legjobb MSE:\", round(best_rmse, 4))\n",
    "print(\"Legjobb MAE:\", round(best_mae, 4))\n",
    "print(\"Legjobb MAPE:\", round(best_mape*100, 4))\n",
    "\n",
    "\n",
    "trend_type, seasonal_type, damped_trend, init_method = best_options\n",
    "print(\"Legjobb hiperparaméter-kombináció\")\n",
    "print(\"trend_type:\", trend_type)\n",
    "print(\"seasonal_type:\", seasonal_type)\n",
    "print(\"damped_trend:\", damped_trend)\n",
    "print(\"init_method:\", init_method)"
   ]
  },
  {
   "cell_type": "code",
   "execution_count": 35,
   "id": "3bbfd71b",
   "metadata": {},
   "outputs": [],
   "source": [
    "for train_idx, val_idx in tss.split(df_close):\n",
    "    train = df_close.iloc[train_idx]\n",
    "    test = df_close.iloc[val_idx]\n",
    "    break\n",
    "## JUST FOR PLOTTING AN EXAMPLE"
   ]
  },
  {
   "cell_type": "code",
   "execution_count": 36,
   "id": "95208040",
   "metadata": {},
   "outputs": [],
   "source": [
    "hw = ExponentialSmoothing(\n",
    "    train['logclose'],\n",
    "    initialization_method=\"legacy-heuristic\",\n",
    "    trend=\"add\",\n",
    "    damped_trend=False,\n",
    "    seasonal=None)\n",
    "\n",
    "res_hw = hw.fit()\n",
    "fcast = res_hw.forecast(len(test))"
   ]
  },
  {
   "cell_type": "code",
   "execution_count": 37,
   "id": "84e47a52",
   "metadata": {},
   "outputs": [
    {
     "data": {
      "image/png": "[encoded data removed]",
      "text/plain": [
       "<Figure size 1000x500 with 1 Axes>"
      ]
     },
     "metadata": {},
     "output_type": "display_data"
    }
   ],
   "source": [
    "fig, ax = plt.subplots(figsize=(10, 5))\n",
    "font = {'fontname':'Times New Roman', 'size': 13, 'weight' : 'bold'}\n",
    "ax.plot(test[\"eth_close\"], label=\"ETH valós értékei\")\n",
    "ax.plot(np.exp(fcast), label=\"ETH prediktált értékei\")\n",
    "ax.legend()\n",
    "ax.yaxis.set_major_formatter(\"${x:,.0f}\")\n",
    "ax.set_ylabel(\"ETH napi árfolyama ($)\", **font)\n",
    "ax.set_xlabel(\"dátum\", **font)\n",
    "\n",
    "plt.setp(ax.get_xticklabels(), rotation=30, horizontalalignment='right')\n",
    "ax.set_title(\"Holt-Winters Model Előrejelzése - ETH árfolyamára - Validation Set\", **font)\n",
    "plt.savefig(\"charts/forecast/holt-winters_forecast_example.png\")\n",
    "plt.show()"
   ]
  },
  {
   "cell_type": "code",
   "execution_count": 38,
   "id": "0fec55b7",
   "metadata": {},
   "outputs": [
    {
     "data": {
      "text/plain": [
       "date\n",
       "2022-10-19    1285.09\n",
       "2022-10-20    1282.57\n",
       "2022-10-21    1299.75\n",
       "2022-10-22    1313.61\n",
       "2022-10-23    1364.20\n",
       "2022-10-24    1343.61\n",
       "2022-10-25    1459.74\n",
       "2022-10-26    1566.10\n",
       "2022-10-27    1514.05\n",
       "2022-10-28    1554.41\n",
       "2022-10-29    1619.55\n",
       "2022-10-30    1590.44\n",
       "2022-10-31    1572.69\n",
       "2022-11-01    1578.48\n",
       "Freq: D, Name: eth_close, dtype: float64"
      ]
     },
     "execution_count": 38,
     "metadata": {},
     "output_type": "execute_result"
    }
   ],
   "source": [
    "test[\"eth_close\"]"
   ]
  },
  {
   "cell_type": "code",
   "execution_count": 39,
   "id": "90df8111",
   "metadata": {},
   "outputs": [
    {
     "data": {
      "text/plain": [
       "2022-10-19    1312.791557\n",
       "2022-10-20    1313.650027\n",
       "2022-10-21    1314.509058\n",
       "2022-10-22    1315.368651\n",
       "2022-10-23    1316.228806\n",
       "2022-10-24    1317.089523\n",
       "2022-10-25    1317.950804\n",
       "2022-10-26    1318.812647\n",
       "2022-10-27    1319.675055\n",
       "2022-10-28    1320.538026\n",
       "2022-10-29    1321.401561\n",
       "2022-10-30    1322.265661\n",
       "2022-10-31    1323.130326\n",
       "2022-11-01    1323.995557\n",
       "Freq: D, dtype: float64"
      ]
     },
     "execution_count": 39,
     "metadata": {},
     "output_type": "execute_result"
    }
   ],
   "source": [
    "np.exp(fcast)"
   ]
  },
  {
   "cell_type": "code",
   "execution_count": null,
   "id": "8c1c0de8",
   "metadata": {},
   "outputs": [],
   "source": []
  },
  {
   "cell_type": "markdown",
   "id": "d6d852e2",
   "metadata": {},
   "source": [
    "## Test on Real-World dataset"
   ]
  },
  {
   "cell_type": "markdown",
   "id": "cda4fb17",
   "metadata": {},
   "source": [
    "## 1 day real world prediction"
   ]
  },
  {
   "cell_type": "code",
   "execution_count": 40,
   "id": "f6a72f23",
   "metadata": {},
   "outputs": [],
   "source": [
    "import yfinance as yf\n",
    "\n",
    "# Define the ticker symbol\n",
    "tickerSymbol = 'ETH-USD'\n",
    "\n",
    "# Get data for this ticker\n",
    "tickerData = yf.Ticker(tickerSymbol)\n",
    "\n",
    "# Get the historical prices for this ticker\n",
    "tickerDf = tickerData.history(period='1d', start='2023-03-07', end='2023-03-24')\n",
    "\n",
    "eth_current_price = pd.DataFrame(tickerDf)\n"
   ]
  },
  {
   "cell_type": "code",
   "execution_count": 41,
   "id": "40182060",
   "metadata": {},
   "outputs": [],
   "source": [
    "eth_current_price.index = pd.to_datetime(eth_current_price.index)"
   ]
  },
  {
   "cell_type": "code",
   "execution_count": 42,
   "id": "3158bc68",
   "metadata": {},
   "outputs": [],
   "source": [
    "eth_current_price = eth_current_price[pd.to_datetime(\"2023-03-08\"):pd.to_datetime(\"2023-03-08\") + pd.Timedelta(days=0)] ## 1 day"
   ]
  },
  {
   "cell_type": "code",
   "execution_count": 43,
   "id": "5dfb8a02",
   "metadata": {},
   "outputs": [],
   "source": [
    "eth_current_price[\"logclose\"] = np.log(eth_current_price.Close)"
   ]
  },
  {
   "cell_type": "code",
   "execution_count": 44,
   "id": "da18cd0b",
   "metadata": {},
   "outputs": [],
   "source": [
    "eth_current_price = pd.DataFrame(eth_current_price[[\"Close\", \"logclose\"]])"
   ]
  },
  {
   "cell_type": "code",
   "execution_count": 45,
   "id": "758c6aa2",
   "metadata": {},
   "outputs": [],
   "source": [
    "eth_current_price.rename(columns={\"Close\": \"eth_close\"}, inplace=True)"
   ]
  },
  {
   "cell_type": "code",
   "execution_count": 46,
   "id": "05f76ab4",
   "metadata": {
    "scrolled": true
   },
   "outputs": [
    {
     "data": {
      "text/html": [
       "<div>\n",
       "<style scoped>\n",
       "    .dataframe tbody tr th:only-of-type {\n",
       "        vertical-align: middle;\n",
       "    }\n",
       "\n",
       "    .dataframe tbody tr th {\n",
       "        vertical-align: top;\n",
       "    }\n",
       "\n",
       "    .dataframe thead th {\n",
       "        text-align: right;\n",
       "    }\n",
       "</style>\n",
       "<table border=\"1\" class=\"dataframe\">\n",
       "  <thead>\n",
       "    <tr style=\"text-align: right;\">\n",
       "      <th></th>\n",
       "      <th>eth_close</th>\n",
       "      <th>logclose</th>\n",
       "    </tr>\n",
       "    <tr>\n",
       "      <th>Date</th>\n",
       "      <th></th>\n",
       "      <th></th>\n",
       "    </tr>\n",
       "  </thead>\n",
       "  <tbody>\n",
       "    <tr>\n",
       "      <th>2023-03-08</th>\n",
       "      <td>1534.088257</td>\n",
       "      <td>7.335692</td>\n",
       "    </tr>\n",
       "  </tbody>\n",
       "</table>\n",
       "</div>"
      ],
      "text/plain": [
       "              eth_close  logclose\n",
       "Date                             \n",
       "2023-03-08  1534.088257  7.335692"
      ]
     },
     "execution_count": 46,
     "metadata": {},
     "output_type": "execute_result"
    }
   ],
   "source": [
    "eth_current_price.tail()"
   ]
  },
  {
   "cell_type": "code",
   "execution_count": 47,
   "id": "516d97d4",
   "metadata": {},
   "outputs": [],
   "source": [
    "train = df_close.copy()"
   ]
  },
  {
   "cell_type": "code",
   "execution_count": 48,
   "id": "7102b111",
   "metadata": {},
   "outputs": [],
   "source": [
    "# best\n",
    "# trend_type: add\n",
    "# seasonal_type: None\n",
    "# damped_trend: True\n",
    "# init_method: legacy-heuristic"
   ]
  },
  {
   "cell_type": "code",
   "execution_count": 49,
   "id": "f80f2168",
   "metadata": {},
   "outputs": [],
   "source": [
    "m = ExponentialSmoothing(\n",
    "      train['logclose'],\n",
    "      initialization_method=\"legacy-heuristic\",\n",
    "      trend=\"add\",\n",
    "      damped_trend=True,\n",
    "      seasonal=None)"
   ]
  },
  {
   "cell_type": "code",
   "execution_count": 50,
   "id": "290baa11",
   "metadata": {
    "scrolled": true
   },
   "outputs": [],
   "source": [
    "res = m.fit()"
   ]
  },
  {
   "cell_type": "code",
   "execution_count": 51,
   "id": "15ed8e83",
   "metadata": {},
   "outputs": [],
   "source": [
    "eth_current_price[\"logprediction\"] = res.forecast(len(eth_current_price))"
   ]
  },
  {
   "cell_type": "code",
   "execution_count": 52,
   "id": "103c4960",
   "metadata": {},
   "outputs": [],
   "source": [
    "eth_current_price[\"prediction\"] = np.exp(eth_current_price[\"logprediction\"])"
   ]
  },
  {
   "cell_type": "code",
   "execution_count": 53,
   "id": "8968235a",
   "metadata": {},
   "outputs": [
    {
     "data": {
      "text/html": [
       "<div>\n",
       "<style scoped>\n",
       "    .dataframe tbody tr th:only-of-type {\n",
       "        vertical-align: middle;\n",
       "    }\n",
       "\n",
       "    .dataframe tbody tr th {\n",
       "        vertical-align: top;\n",
       "    }\n",
       "\n",
       "    .dataframe thead th {\n",
       "        text-align: right;\n",
       "    }\n",
       "</style>\n",
       "<table border=\"1\" class=\"dataframe\">\n",
       "  <thead>\n",
       "    <tr style=\"text-align: right;\">\n",
       "      <th></th>\n",
       "      <th>eth_close</th>\n",
       "      <th>logclose</th>\n",
       "      <th>logprediction</th>\n",
       "      <th>prediction</th>\n",
       "    </tr>\n",
       "    <tr>\n",
       "      <th>Date</th>\n",
       "      <th></th>\n",
       "      <th></th>\n",
       "      <th></th>\n",
       "      <th></th>\n",
       "    </tr>\n",
       "  </thead>\n",
       "  <tbody>\n",
       "    <tr>\n",
       "      <th>2023-03-08</th>\n",
       "      <td>1534.088257</td>\n",
       "      <td>7.335692</td>\n",
       "      <td>7.35299</td>\n",
       "      <td>1560.857227</td>\n",
       "    </tr>\n",
       "  </tbody>\n",
       "</table>\n",
       "</div>"
      ],
      "text/plain": [
       "              eth_close  logclose  logprediction   prediction\n",
       "Date                                                         \n",
       "2023-03-08  1534.088257  7.335692        7.35299  1560.857227"
      ]
     },
     "execution_count": 53,
     "metadata": {},
     "output_type": "execute_result"
    }
   ],
   "source": [
    "eth_current_price"
   ]
  },
  {
   "cell_type": "code",
   "execution_count": 54,
   "id": "063ed349",
   "metadata": {
    "scrolled": false
   },
   "outputs": [
    {
     "data": {
      "text/plain": [
       "26.768969782220665"
      ]
     },
     "execution_count": 54,
     "metadata": {},
     "output_type": "execute_result"
    }
   ],
   "source": [
    "## Validation Root Mean Squared Error\n",
    "mean_squared_error(eth_current_price['eth_close'], eth_current_price[\"prediction\"], squared=False)"
   ]
  },
  {
   "cell_type": "code",
   "execution_count": 55,
   "id": "7be60acc",
   "metadata": {},
   "outputs": [
    {
     "data": {
      "text/plain": [
       "716.5777432014431"
      ]
     },
     "execution_count": 55,
     "metadata": {},
     "output_type": "execute_result"
    }
   ],
   "source": [
    "## Validation Mean Squared Error\n",
    "mean_squared_error(eth_current_price['eth_close'], eth_current_price[\"prediction\"], squared=True)"
   ]
  },
  {
   "cell_type": "code",
   "execution_count": 56,
   "id": "99ff6659",
   "metadata": {},
   "outputs": [
    {
     "data": {
      "text/plain": [
       "26.768969782220665"
      ]
     },
     "execution_count": 56,
     "metadata": {},
     "output_type": "execute_result"
    }
   ],
   "source": [
    "## Validation Mean Absolute Error\n",
    "mean_absolute_error(eth_current_price['eth_close'], eth_current_price[\"prediction\"])"
   ]
  },
  {
   "cell_type": "code",
   "execution_count": 57,
   "id": "8fe0467c",
   "metadata": {},
   "outputs": [
    {
     "data": {
      "text/plain": [
       "0.01744943269263514"
      ]
     },
     "execution_count": 57,
     "metadata": {},
     "output_type": "execute_result"
    }
   ],
   "source": [
    "## Validation Mean Absolute Percentage Error\n",
    "mean_absolute_percentage_error(eth_current_price['eth_close'], eth_current_price[\"prediction\"])"
   ]
  },
  {
   "cell_type": "markdown",
   "id": "39d87a08",
   "metadata": {},
   "source": [
    "## Findings\n",
    "\n",
    "1 day forecast\n",
    "- RMSE: 26.76\n",
    "- MSE: 716.57\n",
    "- MAE: 26.76\n",
    "- MAPE: 1.74"
   ]
  },
  {
   "cell_type": "markdown",
   "id": "623a0c25",
   "metadata": {},
   "source": [
    "## 3 day real world prediction"
   ]
  },
  {
   "cell_type": "code",
   "execution_count": 58,
   "id": "e4d84e20",
   "metadata": {},
   "outputs": [],
   "source": [
    "import yfinance as yf\n",
    "\n",
    "# Define the ticker symbol\n",
    "tickerSymbol = 'ETH-USD'\n",
    "\n",
    "# Get data for this ticker\n",
    "tickerData = yf.Ticker(tickerSymbol)\n",
    "\n",
    "# Get the historical prices for this ticker\n",
    "tickerDf = tickerData.history(period='1d', start='2023-03-07', end='2023-03-24')\n",
    "\n",
    "eth_current_price = pd.DataFrame(tickerDf)\n"
   ]
  },
  {
   "cell_type": "code",
   "execution_count": 59,
   "id": "4da96a5d",
   "metadata": {},
   "outputs": [],
   "source": [
    "eth_current_price.index = pd.to_datetime(eth_current_price.index)"
   ]
  },
  {
   "cell_type": "code",
   "execution_count": 60,
   "id": "fc59eec1",
   "metadata": {},
   "outputs": [],
   "source": [
    "eth_current_price = eth_current_price[pd.to_datetime(\"2023-03-08\"):pd.to_datetime(\"2023-03-08\") + pd.Timedelta(days=2)] ## 1 day"
   ]
  },
  {
   "cell_type": "code",
   "execution_count": 61,
   "id": "d07294e2",
   "metadata": {},
   "outputs": [],
   "source": [
    "eth_current_price[\"logclose\"] = np.log(eth_current_price.Close)"
   ]
  },
  {
   "cell_type": "code",
   "execution_count": 62,
   "id": "127a0d63",
   "metadata": {},
   "outputs": [],
   "source": [
    "eth_current_price = pd.DataFrame(eth_current_price[[\"Close\", \"logclose\"]])"
   ]
  },
  {
   "cell_type": "code",
   "execution_count": 63,
   "id": "ca69e627",
   "metadata": {},
   "outputs": [],
   "source": [
    "eth_current_price.rename(columns={\"Close\": \"eth_close\"}, inplace=True)"
   ]
  },
  {
   "cell_type": "code",
   "execution_count": 64,
   "id": "b15ed10d",
   "metadata": {
    "scrolled": true
   },
   "outputs": [
    {
     "data": {
      "text/html": [
       "<div>\n",
       "<style scoped>\n",
       "    .dataframe tbody tr th:only-of-type {\n",
       "        vertical-align: middle;\n",
       "    }\n",
       "\n",
       "    .dataframe tbody tr th {\n",
       "        vertical-align: top;\n",
       "    }\n",
       "\n",
       "    .dataframe thead th {\n",
       "        text-align: right;\n",
       "    }\n",
       "</style>\n",
       "<table border=\"1\" class=\"dataframe\">\n",
       "  <thead>\n",
       "    <tr style=\"text-align: right;\">\n",
       "      <th></th>\n",
       "      <th>eth_close</th>\n",
       "      <th>logclose</th>\n",
       "    </tr>\n",
       "    <tr>\n",
       "      <th>Date</th>\n",
       "      <th></th>\n",
       "      <th></th>\n",
       "    </tr>\n",
       "  </thead>\n",
       "  <tbody>\n",
       "    <tr>\n",
       "      <th>2023-03-08</th>\n",
       "      <td>1534.088257</td>\n",
       "      <td>7.335692</td>\n",
       "    </tr>\n",
       "    <tr>\n",
       "      <th>2023-03-09</th>\n",
       "      <td>1438.660767</td>\n",
       "      <td>7.271468</td>\n",
       "    </tr>\n",
       "    <tr>\n",
       "      <th>2023-03-10</th>\n",
       "      <td>1429.158081</td>\n",
       "      <td>7.264841</td>\n",
       "    </tr>\n",
       "  </tbody>\n",
       "</table>\n",
       "</div>"
      ],
      "text/plain": [
       "              eth_close  logclose\n",
       "Date                             \n",
       "2023-03-08  1534.088257  7.335692\n",
       "2023-03-09  1438.660767  7.271468\n",
       "2023-03-10  1429.158081  7.264841"
      ]
     },
     "execution_count": 64,
     "metadata": {},
     "output_type": "execute_result"
    }
   ],
   "source": [
    "eth_current_price.tail()"
   ]
  },
  {
   "cell_type": "code",
   "execution_count": 65,
   "id": "4e291a4e",
   "metadata": {},
   "outputs": [],
   "source": [
    "train = df_close.copy()"
   ]
  },
  {
   "cell_type": "code",
   "execution_count": 66,
   "id": "7d534607",
   "metadata": {},
   "outputs": [],
   "source": [
    "# best\n",
    "# trend_type: add\n",
    "# seasonal_type: mul\n",
    "# damped_trend: True\n",
    "# init_method: legacy-heuristic"
   ]
  },
  {
   "cell_type": "code",
   "execution_count": 67,
   "id": "c9239daa",
   "metadata": {},
   "outputs": [],
   "source": [
    "m = ExponentialSmoothing(\n",
    "      train['logclose'],\n",
    "      initialization_method=\"legacy-heuristic\",\n",
    "      trend=\"add\",\n",
    "      damped_trend=True,\n",
    "      seasonal=\"mul\",\n",
    "      seasonal_periods=365)"
   ]
  },
  {
   "cell_type": "code",
   "execution_count": 68,
   "id": "3f8d55da",
   "metadata": {
    "scrolled": true
   },
   "outputs": [],
   "source": [
    "res = m.fit()"
   ]
  },
  {
   "cell_type": "code",
   "execution_count": 69,
   "id": "2cd8a81d",
   "metadata": {},
   "outputs": [],
   "source": [
    "eth_current_price[\"logprediction\"] = res.forecast(len(eth_current_price))"
   ]
  },
  {
   "cell_type": "code",
   "execution_count": 70,
   "id": "460f0b9a",
   "metadata": {},
   "outputs": [],
   "source": [
    "eth_current_price[\"prediction\"] = np.exp(eth_current_price[\"logprediction\"])"
   ]
  },
  {
   "cell_type": "code",
   "execution_count": 71,
   "id": "f01266f0",
   "metadata": {},
   "outputs": [
    {
     "data": {
      "text/html": [
       "<div>\n",
       "<style scoped>\n",
       "    .dataframe tbody tr th:only-of-type {\n",
       "        vertical-align: middle;\n",
       "    }\n",
       "\n",
       "    .dataframe tbody tr th {\n",
       "        vertical-align: top;\n",
       "    }\n",
       "\n",
       "    .dataframe thead th {\n",
       "        text-align: right;\n",
       "    }\n",
       "</style>\n",
       "<table border=\"1\" class=\"dataframe\">\n",
       "  <thead>\n",
       "    <tr style=\"text-align: right;\">\n",
       "      <th></th>\n",
       "      <th>eth_close</th>\n",
       "      <th>logclose</th>\n",
       "      <th>logprediction</th>\n",
       "      <th>prediction</th>\n",
       "    </tr>\n",
       "    <tr>\n",
       "      <th>Date</th>\n",
       "      <th></th>\n",
       "      <th></th>\n",
       "      <th></th>\n",
       "      <th></th>\n",
       "    </tr>\n",
       "  </thead>\n",
       "  <tbody>\n",
       "    <tr>\n",
       "      <th>2023-03-08</th>\n",
       "      <td>1534.088257</td>\n",
       "      <td>7.335692</td>\n",
       "      <td>7.357476</td>\n",
       "      <td>1567.874278</td>\n",
       "    </tr>\n",
       "    <tr>\n",
       "      <th>2023-03-09</th>\n",
       "      <td>1438.660767</td>\n",
       "      <td>7.271468</td>\n",
       "      <td>7.362879</td>\n",
       "      <td>1576.368798</td>\n",
       "    </tr>\n",
       "    <tr>\n",
       "      <th>2023-03-10</th>\n",
       "      <td>1429.158081</td>\n",
       "      <td>7.264841</td>\n",
       "      <td>7.348467</td>\n",
       "      <td>1553.812078</td>\n",
       "    </tr>\n",
       "  </tbody>\n",
       "</table>\n",
       "</div>"
      ],
      "text/plain": [
       "              eth_close  logclose  logprediction   prediction\n",
       "Date                                                         \n",
       "2023-03-08  1534.088257  7.335692       7.357476  1567.874278\n",
       "2023-03-09  1438.660767  7.271468       7.362879  1576.368798\n",
       "2023-03-10  1429.158081  7.264841       7.348467  1553.812078"
      ]
     },
     "execution_count": 71,
     "metadata": {},
     "output_type": "execute_result"
    }
   ],
   "source": [
    "eth_current_price"
   ]
  },
  {
   "cell_type": "code",
   "execution_count": 72,
   "id": "178dfe5e",
   "metadata": {
    "scrolled": false
   },
   "outputs": [
    {
     "data": {
      "text/plain": [
       "109.00094217798366"
      ]
     },
     "execution_count": 72,
     "metadata": {},
     "output_type": "execute_result"
    }
   ],
   "source": [
    "## Validation Root Mean Squared Error\n",
    "mean_squared_error(eth_current_price['eth_close'], eth_current_price[\"prediction\"], squared=False)"
   ]
  },
  {
   "cell_type": "code",
   "execution_count": 73,
   "id": "eb4e7c48",
   "metadata": {},
   "outputs": [
    {
     "data": {
      "text/plain": [
       "11881.205395688137"
      ]
     },
     "execution_count": 73,
     "metadata": {},
     "output_type": "execute_result"
    }
   ],
   "source": [
    "## Validation Mean Squared Error\n",
    "mean_squared_error(eth_current_price['eth_close'], eth_current_price[\"prediction\"], squared=True)"
   ]
  },
  {
   "cell_type": "code",
   "execution_count": 74,
   "id": "e34b3e61",
   "metadata": {},
   "outputs": [
    {
     "data": {
      "text/plain": [
       "98.71601664427226"
      ]
     },
     "execution_count": 74,
     "metadata": {},
     "output_type": "execute_result"
    }
   ],
   "source": [
    "## Validation Mean Absolute Error\n",
    "mean_absolute_error(eth_current_price['eth_close'], eth_current_price[\"prediction\"])"
   ]
  },
  {
   "cell_type": "code",
   "execution_count": 75,
   "id": "0af5d27c",
   "metadata": {},
   "outputs": [
    {
     "data": {
      "text/plain": [
       "0.06832169906838244"
      ]
     },
     "execution_count": 75,
     "metadata": {},
     "output_type": "execute_result"
    }
   ],
   "source": [
    "## Validation Mean Absolute Percentage Error\n",
    "mean_absolute_percentage_error(eth_current_price['eth_close'], eth_current_price[\"prediction\"])"
   ]
  },
  {
   "cell_type": "markdown",
   "id": "a436a0fe",
   "metadata": {},
   "source": [
    "## Findings\n",
    "\n",
    "3 day forecast\n",
    "- RMSE: 109.00\n",
    "- MSE: 11881.20\n",
    "- MAE: 98.71\n",
    "- MAPE: 6.83"
   ]
  },
  {
   "cell_type": "markdown",
   "id": "ab92dcf7",
   "metadata": {},
   "source": [
    "## 7 day real world prediction"
   ]
  },
  {
   "cell_type": "code",
   "execution_count": 76,
   "id": "1507be90",
   "metadata": {},
   "outputs": [],
   "source": [
    "import yfinance as yf\n",
    "\n",
    "# Define the ticker symbol\n",
    "tickerSymbol = 'ETH-USD'\n",
    "\n",
    "# Get data for this ticker\n",
    "tickerData = yf.Ticker(tickerSymbol)\n",
    "\n",
    "# Get the historical prices for this ticker\n",
    "tickerDf = tickerData.history(period='1d', start='2023-03-07', end='2023-03-24')\n",
    "\n",
    "eth_current_price = pd.DataFrame(tickerDf)\n"
   ]
  },
  {
   "cell_type": "code",
   "execution_count": 77,
   "id": "400d7e50",
   "metadata": {},
   "outputs": [],
   "source": [
    "eth_current_price.index = pd.to_datetime(eth_current_price.index)"
   ]
  },
  {
   "cell_type": "code",
   "execution_count": 78,
   "id": "461badd4",
   "metadata": {},
   "outputs": [],
   "source": [
    "eth_current_price = eth_current_price[pd.to_datetime(\"2023-03-08\"):pd.to_datetime(\"2023-03-08\") + pd.Timedelta(days=6)] ## 1 day"
   ]
  },
  {
   "cell_type": "code",
   "execution_count": 79,
   "id": "53a09994",
   "metadata": {},
   "outputs": [],
   "source": [
    "eth_current_price[\"logclose\"] = np.log(eth_current_price.Close)"
   ]
  },
  {
   "cell_type": "code",
   "execution_count": 80,
   "id": "52ddf0ab",
   "metadata": {},
   "outputs": [],
   "source": [
    "eth_current_price = pd.DataFrame(eth_current_price[[\"Close\", \"logclose\"]])"
   ]
  },
  {
   "cell_type": "code",
   "execution_count": 81,
   "id": "5618715a",
   "metadata": {},
   "outputs": [],
   "source": [
    "eth_current_price.rename(columns={\"Close\": \"eth_close\"}, inplace=True)"
   ]
  },
  {
   "cell_type": "code",
   "execution_count": 82,
   "id": "c7615b39",
   "metadata": {
    "scrolled": true
   },
   "outputs": [
    {
     "data": {
      "text/html": [
       "<div>\n",
       "<style scoped>\n",
       "    .dataframe tbody tr th:only-of-type {\n",
       "        vertical-align: middle;\n",
       "    }\n",
       "\n",
       "    .dataframe tbody tr th {\n",
       "        vertical-align: top;\n",
       "    }\n",
       "\n",
       "    .dataframe thead th {\n",
       "        text-align: right;\n",
       "    }\n",
       "</style>\n",
       "<table border=\"1\" class=\"dataframe\">\n",
       "  <thead>\n",
       "    <tr style=\"text-align: right;\">\n",
       "      <th></th>\n",
       "      <th>eth_close</th>\n",
       "      <th>logclose</th>\n",
       "    </tr>\n",
       "    <tr>\n",
       "      <th>Date</th>\n",
       "      <th></th>\n",
       "      <th></th>\n",
       "    </tr>\n",
       "  </thead>\n",
       "  <tbody>\n",
       "    <tr>\n",
       "      <th>2023-03-08</th>\n",
       "      <td>1534.088257</td>\n",
       "      <td>7.335692</td>\n",
       "    </tr>\n",
       "    <tr>\n",
       "      <th>2023-03-09</th>\n",
       "      <td>1438.660767</td>\n",
       "      <td>7.271468</td>\n",
       "    </tr>\n",
       "    <tr>\n",
       "      <th>2023-03-10</th>\n",
       "      <td>1429.158081</td>\n",
       "      <td>7.264841</td>\n",
       "    </tr>\n",
       "    <tr>\n",
       "      <th>2023-03-11</th>\n",
       "      <td>1482.616699</td>\n",
       "      <td>7.301564</td>\n",
       "    </tr>\n",
       "    <tr>\n",
       "      <th>2023-03-12</th>\n",
       "      <td>1590.292969</td>\n",
       "      <td>7.371674</td>\n",
       "    </tr>\n",
       "    <tr>\n",
       "      <th>2023-03-13</th>\n",
       "      <td>1680.308960</td>\n",
       "      <td>7.426733</td>\n",
       "    </tr>\n",
       "    <tr>\n",
       "      <th>2023-03-14</th>\n",
       "      <td>1703.507080</td>\n",
       "      <td>7.440444</td>\n",
       "    </tr>\n",
       "  </tbody>\n",
       "</table>\n",
       "</div>"
      ],
      "text/plain": [
       "              eth_close  logclose\n",
       "Date                             \n",
       "2023-03-08  1534.088257  7.335692\n",
       "2023-03-09  1438.660767  7.271468\n",
       "2023-03-10  1429.158081  7.264841\n",
       "2023-03-11  1482.616699  7.301564\n",
       "2023-03-12  1590.292969  7.371674\n",
       "2023-03-13  1680.308960  7.426733\n",
       "2023-03-14  1703.507080  7.440444"
      ]
     },
     "execution_count": 82,
     "metadata": {},
     "output_type": "execute_result"
    }
   ],
   "source": [
    "eth_current_price"
   ]
  },
  {
   "cell_type": "code",
   "execution_count": 83,
   "id": "bce54f27",
   "metadata": {},
   "outputs": [],
   "source": [
    "train = df_close.copy()"
   ]
  },
  {
   "cell_type": "code",
   "execution_count": 84,
   "id": "2fdf9908",
   "metadata": {},
   "outputs": [],
   "source": [
    "# best\n",
    "# trend_type: mul\n",
    "# seasonal_type: None\n",
    "# damped_trend: False\n",
    "# init_method: estimated"
   ]
  },
  {
   "cell_type": "code",
   "execution_count": 85,
   "id": "91fc5c7a",
   "metadata": {},
   "outputs": [],
   "source": [
    "m = ExponentialSmoothing(\n",
    "      train['logclose'],\n",
    "      initialization_method=\"estimated\",\n",
    "      trend=\"mul\",\n",
    "      damped_trend=False,\n",
    "      seasonal=None)"
   ]
  },
  {
   "cell_type": "code",
   "execution_count": 86,
   "id": "54f8a0dc",
   "metadata": {
    "scrolled": true
   },
   "outputs": [],
   "source": [
    "res = m.fit()"
   ]
  },
  {
   "cell_type": "code",
   "execution_count": 87,
   "id": "3aaa948b",
   "metadata": {},
   "outputs": [],
   "source": [
    "eth_current_price[\"logprediction\"] = res.forecast(len(eth_current_price))"
   ]
  },
  {
   "cell_type": "code",
   "execution_count": 88,
   "id": "e450cfc2",
   "metadata": {},
   "outputs": [],
   "source": [
    "eth_current_price[\"prediction\"] = np.exp(eth_current_price[\"logprediction\"])"
   ]
  },
  {
   "cell_type": "code",
   "execution_count": 89,
   "id": "f1ba10bd",
   "metadata": {},
   "outputs": [
    {
     "data": {
      "text/html": [
       "<div>\n",
       "<style scoped>\n",
       "    .dataframe tbody tr th:only-of-type {\n",
       "        vertical-align: middle;\n",
       "    }\n",
       "\n",
       "    .dataframe tbody tr th {\n",
       "        vertical-align: top;\n",
       "    }\n",
       "\n",
       "    .dataframe thead th {\n",
       "        text-align: right;\n",
       "    }\n",
       "</style>\n",
       "<table border=\"1\" class=\"dataframe\">\n",
       "  <thead>\n",
       "    <tr style=\"text-align: right;\">\n",
       "      <th></th>\n",
       "      <th>eth_close</th>\n",
       "      <th>logclose</th>\n",
       "      <th>logprediction</th>\n",
       "      <th>prediction</th>\n",
       "    </tr>\n",
       "    <tr>\n",
       "      <th>Date</th>\n",
       "      <th></th>\n",
       "      <th></th>\n",
       "      <th></th>\n",
       "      <th></th>\n",
       "    </tr>\n",
       "  </thead>\n",
       "  <tbody>\n",
       "    <tr>\n",
       "      <th>2023-03-08</th>\n",
       "      <td>1534.088257</td>\n",
       "      <td>7.335692</td>\n",
       "      <td>7.354475</td>\n",
       "      <td>1563.176519</td>\n",
       "    </tr>\n",
       "    <tr>\n",
       "      <th>2023-03-09</th>\n",
       "      <td>1438.660767</td>\n",
       "      <td>7.271468</td>\n",
       "      <td>7.355067</td>\n",
       "      <td>1564.102051</td>\n",
       "    </tr>\n",
       "    <tr>\n",
       "      <th>2023-03-10</th>\n",
       "      <td>1429.158081</td>\n",
       "      <td>7.264841</td>\n",
       "      <td>7.355659</td>\n",
       "      <td>1565.028205</td>\n",
       "    </tr>\n",
       "    <tr>\n",
       "      <th>2023-03-11</th>\n",
       "      <td>1482.616699</td>\n",
       "      <td>7.301564</td>\n",
       "      <td>7.356251</td>\n",
       "      <td>1565.954983</td>\n",
       "    </tr>\n",
       "    <tr>\n",
       "      <th>2023-03-12</th>\n",
       "      <td>1590.292969</td>\n",
       "      <td>7.371674</td>\n",
       "      <td>7.356843</td>\n",
       "      <td>1566.882384</td>\n",
       "    </tr>\n",
       "    <tr>\n",
       "      <th>2023-03-13</th>\n",
       "      <td>1680.308960</td>\n",
       "      <td>7.426733</td>\n",
       "      <td>7.357435</td>\n",
       "      <td>1567.810409</td>\n",
       "    </tr>\n",
       "    <tr>\n",
       "      <th>2023-03-14</th>\n",
       "      <td>1703.507080</td>\n",
       "      <td>7.440444</td>\n",
       "      <td>7.358027</td>\n",
       "      <td>1568.739058</td>\n",
       "    </tr>\n",
       "  </tbody>\n",
       "</table>\n",
       "</div>"
      ],
      "text/plain": [
       "              eth_close  logclose  logprediction   prediction\n",
       "Date                                                         \n",
       "2023-03-08  1534.088257  7.335692       7.354475  1563.176519\n",
       "2023-03-09  1438.660767  7.271468       7.355067  1564.102051\n",
       "2023-03-10  1429.158081  7.264841       7.355659  1565.028205\n",
       "2023-03-11  1482.616699  7.301564       7.356251  1565.954983\n",
       "2023-03-12  1590.292969  7.371674       7.356843  1566.882384\n",
       "2023-03-13  1680.308960  7.426733       7.357435  1567.810409\n",
       "2023-03-14  1703.507080  7.440444       7.358027  1568.739058"
      ]
     },
     "execution_count": 89,
     "metadata": {},
     "output_type": "execute_result"
    }
   ],
   "source": [
    "eth_current_price"
   ]
  },
  {
   "cell_type": "code",
   "execution_count": 90,
   "id": "36f79c94",
   "metadata": {
    "scrolled": false
   },
   "outputs": [
    {
     "data": {
      "text/plain": [
       "102.36768614095867"
      ]
     },
     "execution_count": 90,
     "metadata": {},
     "output_type": "execute_result"
    }
   ],
   "source": [
    "## Validation Root Mean Squared Error\n",
    "mean_squared_error(eth_current_price['eth_close'], eth_current_price[\"prediction\"], squared=False)"
   ]
  },
  {
   "cell_type": "code",
   "execution_count": 91,
   "id": "5a4b21d0",
   "metadata": {},
   "outputs": [
    {
     "data": {
      "text/plain": [
       "10479.14316585382"
      ]
     },
     "execution_count": 91,
     "metadata": {},
     "output_type": "execute_result"
    }
   ],
   "source": [
    "## Validation Mean Squared Error\n",
    "mean_squared_error(eth_current_price['eth_close'], eth_current_price[\"prediction\"], squared=True)"
   ]
  },
  {
   "cell_type": "code",
   "execution_count": 92,
   "id": "8c564f11",
   "metadata": {},
   "outputs": [
    {
     "data": {
      "text/plain": [
       "92.059301707931"
      ]
     },
     "execution_count": 92,
     "metadata": {},
     "output_type": "execute_result"
    }
   ],
   "source": [
    "## Validation Mean Absolute Error\n",
    "mean_absolute_error(eth_current_price['eth_close'], eth_current_price[\"prediction\"])"
   ]
  },
  {
   "cell_type": "code",
   "execution_count": 93,
   "id": "f527aa19",
   "metadata": {},
   "outputs": [
    {
     "data": {
      "text/plain": [
       "0.05974554510949492"
      ]
     },
     "execution_count": 93,
     "metadata": {},
     "output_type": "execute_result"
    }
   ],
   "source": [
    "## Validation Mean Absolute Percentage Error\n",
    "mean_absolute_percentage_error(eth_current_price['eth_close'], eth_current_price[\"prediction\"])"
   ]
  },
  {
   "cell_type": "markdown",
   "id": "cbc3124d",
   "metadata": {},
   "source": [
    "## Findings\n",
    "\n",
    "7 day forecast\n",
    "- RMSE: 102.36\n",
    "- MSE: 10479.14\n",
    "- MAE: 92.059\n",
    "- MAPE: 5.97"
   ]
  },
  {
   "cell_type": "code",
   "execution_count": null,
   "id": "9255131a",
   "metadata": {},
   "outputs": [],
   "source": []
  },
  {
   "cell_type": "markdown",
   "id": "d9bdc2ae",
   "metadata": {},
   "source": [
    "## 14 day real world prediction"
   ]
  },
  {
   "cell_type": "code",
   "execution_count": 94,
   "id": "ac500a8f",
   "metadata": {},
   "outputs": [],
   "source": [
    "import yfinance as yf\n",
    "\n",
    "# Define the ticker symbol\n",
    "tickerSymbol = 'ETH-USD'\n",
    "\n",
    "# Get data for this ticker\n",
    "tickerData = yf.Ticker(tickerSymbol)\n",
    "\n",
    "# Get the historical prices for this ticker\n",
    "tickerDf = tickerData.history(period='1d', start='2023-03-07', end='2023-03-24')\n",
    "\n",
    "eth_current_price = pd.DataFrame(tickerDf)\n"
   ]
  },
  {
   "cell_type": "code",
   "execution_count": 95,
   "id": "8c29b01d",
   "metadata": {},
   "outputs": [],
   "source": [
    "eth_current_price.index = pd.to_datetime(eth_current_price.index)"
   ]
  },
  {
   "cell_type": "code",
   "execution_count": 96,
   "id": "4d39daab",
   "metadata": {},
   "outputs": [],
   "source": [
    "eth_current_price = eth_current_price[pd.to_datetime(\"2023-03-08\"):pd.to_datetime(\"2023-03-08\") + pd.Timedelta(days=13)] ## 1 day"
   ]
  },
  {
   "cell_type": "code",
   "execution_count": 97,
   "id": "c59b3925",
   "metadata": {},
   "outputs": [],
   "source": [
    "eth_current_price[\"logclose\"] = np.log(eth_current_price.Close)"
   ]
  },
  {
   "cell_type": "code",
   "execution_count": 98,
   "id": "2f5df6b2",
   "metadata": {},
   "outputs": [],
   "source": [
    "eth_current_price = pd.DataFrame(eth_current_price[[\"Close\", \"logclose\"]])"
   ]
  },
  {
   "cell_type": "code",
   "execution_count": 99,
   "id": "f0efa0e7",
   "metadata": {},
   "outputs": [],
   "source": [
    "eth_current_price.rename(columns={\"Close\": \"eth_close\"}, inplace=True)"
   ]
  },
  {
   "cell_type": "code",
   "execution_count": 100,
   "id": "8630d10f",
   "metadata": {
    "scrolled": true
   },
   "outputs": [
    {
     "data": {
      "text/html": [
       "<div>\n",
       "<style scoped>\n",
       "    .dataframe tbody tr th:only-of-type {\n",
       "        vertical-align: middle;\n",
       "    }\n",
       "\n",
       "    .dataframe tbody tr th {\n",
       "        vertical-align: top;\n",
       "    }\n",
       "\n",
       "    .dataframe thead th {\n",
       "        text-align: right;\n",
       "    }\n",
       "</style>\n",
       "<table border=\"1\" class=\"dataframe\">\n",
       "  <thead>\n",
       "    <tr style=\"text-align: right;\">\n",
       "      <th></th>\n",
       "      <th>eth_close</th>\n",
       "      <th>logclose</th>\n",
       "    </tr>\n",
       "    <tr>\n",
       "      <th>Date</th>\n",
       "      <th></th>\n",
       "      <th></th>\n",
       "    </tr>\n",
       "  </thead>\n",
       "  <tbody>\n",
       "    <tr>\n",
       "      <th>2023-03-08</th>\n",
       "      <td>1534.088257</td>\n",
       "      <td>7.335692</td>\n",
       "    </tr>\n",
       "    <tr>\n",
       "      <th>2023-03-09</th>\n",
       "      <td>1438.660767</td>\n",
       "      <td>7.271468</td>\n",
       "    </tr>\n",
       "    <tr>\n",
       "      <th>2023-03-10</th>\n",
       "      <td>1429.158081</td>\n",
       "      <td>7.264841</td>\n",
       "    </tr>\n",
       "    <tr>\n",
       "      <th>2023-03-11</th>\n",
       "      <td>1482.616699</td>\n",
       "      <td>7.301564</td>\n",
       "    </tr>\n",
       "    <tr>\n",
       "      <th>2023-03-12</th>\n",
       "      <td>1590.292969</td>\n",
       "      <td>7.371674</td>\n",
       "    </tr>\n",
       "    <tr>\n",
       "      <th>2023-03-13</th>\n",
       "      <td>1680.308960</td>\n",
       "      <td>7.426733</td>\n",
       "    </tr>\n",
       "    <tr>\n",
       "      <th>2023-03-14</th>\n",
       "      <td>1703.507080</td>\n",
       "      <td>7.440444</td>\n",
       "    </tr>\n",
       "    <tr>\n",
       "      <th>2023-03-15</th>\n",
       "      <td>1656.180542</td>\n",
       "      <td>7.412269</td>\n",
       "    </tr>\n",
       "    <tr>\n",
       "      <th>2023-03-16</th>\n",
       "      <td>1677.215454</td>\n",
       "      <td>7.424890</td>\n",
       "    </tr>\n",
       "    <tr>\n",
       "      <th>2023-03-17</th>\n",
       "      <td>1792.485107</td>\n",
       "      <td>7.491358</td>\n",
       "    </tr>\n",
       "    <tr>\n",
       "      <th>2023-03-18</th>\n",
       "      <td>1761.659668</td>\n",
       "      <td>7.474012</td>\n",
       "    </tr>\n",
       "    <tr>\n",
       "      <th>2023-03-19</th>\n",
       "      <td>1785.576538</td>\n",
       "      <td>7.487497</td>\n",
       "    </tr>\n",
       "    <tr>\n",
       "      <th>2023-03-20</th>\n",
       "      <td>1735.321289</td>\n",
       "      <td>7.458948</td>\n",
       "    </tr>\n",
       "    <tr>\n",
       "      <th>2023-03-21</th>\n",
       "      <td>1806.760742</td>\n",
       "      <td>7.499291</td>\n",
       "    </tr>\n",
       "  </tbody>\n",
       "</table>\n",
       "</div>"
      ],
      "text/plain": [
       "              eth_close  logclose\n",
       "Date                             \n",
       "2023-03-08  1534.088257  7.335692\n",
       "2023-03-09  1438.660767  7.271468\n",
       "2023-03-10  1429.158081  7.264841\n",
       "2023-03-11  1482.616699  7.301564\n",
       "2023-03-12  1590.292969  7.371674\n",
       "2023-03-13  1680.308960  7.426733\n",
       "2023-03-14  1703.507080  7.440444\n",
       "2023-03-15  1656.180542  7.412269\n",
       "2023-03-16  1677.215454  7.424890\n",
       "2023-03-17  1792.485107  7.491358\n",
       "2023-03-18  1761.659668  7.474012\n",
       "2023-03-19  1785.576538  7.487497\n",
       "2023-03-20  1735.321289  7.458948\n",
       "2023-03-21  1806.760742  7.499291"
      ]
     },
     "execution_count": 100,
     "metadata": {},
     "output_type": "execute_result"
    }
   ],
   "source": [
    "eth_current_price"
   ]
  },
  {
   "cell_type": "code",
   "execution_count": 101,
   "id": "94f199b2",
   "metadata": {},
   "outputs": [],
   "source": [
    "train = df_close.copy()"
   ]
  },
  {
   "cell_type": "code",
   "execution_count": 102,
   "id": "359d72fe",
   "metadata": {},
   "outputs": [],
   "source": [
    "# best\n",
    "# trend_type: add\n",
    "# seasonal_type: None\n",
    "# damped_trend: False\n",
    "# init_method: legacy-heuristic"
   ]
  },
  {
   "cell_type": "code",
   "execution_count": 103,
   "id": "dcbd37f6",
   "metadata": {},
   "outputs": [],
   "source": [
    "m = ExponentialSmoothing(\n",
    "      train['logclose'],\n",
    "      initialization_method=\"legacy-heuristic\",\n",
    "      trend=\"add\",\n",
    "      damped_trend=False,\n",
    "      seasonal=None)"
   ]
  },
  {
   "cell_type": "code",
   "execution_count": 104,
   "id": "19b3fa54",
   "metadata": {
    "scrolled": true
   },
   "outputs": [],
   "source": [
    "res = m.fit()"
   ]
  },
  {
   "cell_type": "code",
   "execution_count": 105,
   "id": "813277a1",
   "metadata": {},
   "outputs": [],
   "source": [
    "eth_current_price[\"logprediction\"] = res.forecast(len(eth_current_price))"
   ]
  },
  {
   "cell_type": "code",
   "execution_count": 106,
   "id": "f72e4734",
   "metadata": {},
   "outputs": [],
   "source": [
    "eth_current_price[\"prediction\"] = np.exp(eth_current_price[\"logprediction\"])"
   ]
  },
  {
   "cell_type": "code",
   "execution_count": 107,
   "id": "7db14882",
   "metadata": {},
   "outputs": [
    {
     "data": {
      "text/html": [
       "<div>\n",
       "<style scoped>\n",
       "    .dataframe tbody tr th:only-of-type {\n",
       "        vertical-align: middle;\n",
       "    }\n",
       "\n",
       "    .dataframe tbody tr th {\n",
       "        vertical-align: top;\n",
       "    }\n",
       "\n",
       "    .dataframe thead th {\n",
       "        text-align: right;\n",
       "    }\n",
       "</style>\n",
       "<table border=\"1\" class=\"dataframe\">\n",
       "  <thead>\n",
       "    <tr style=\"text-align: right;\">\n",
       "      <th></th>\n",
       "      <th>eth_close</th>\n",
       "      <th>logclose</th>\n",
       "      <th>logprediction</th>\n",
       "      <th>prediction</th>\n",
       "    </tr>\n",
       "    <tr>\n",
       "      <th>Date</th>\n",
       "      <th></th>\n",
       "      <th></th>\n",
       "      <th></th>\n",
       "      <th></th>\n",
       "    </tr>\n",
       "  </thead>\n",
       "  <tbody>\n",
       "    <tr>\n",
       "      <th>2023-03-08</th>\n",
       "      <td>1534.088257</td>\n",
       "      <td>7.335692</td>\n",
       "      <td>7.354585</td>\n",
       "      <td>1563.347551</td>\n",
       "    </tr>\n",
       "    <tr>\n",
       "      <th>2023-03-09</th>\n",
       "      <td>1438.660767</td>\n",
       "      <td>7.271468</td>\n",
       "      <td>7.355279</td>\n",
       "      <td>1564.433969</td>\n",
       "    </tr>\n",
       "    <tr>\n",
       "      <th>2023-03-10</th>\n",
       "      <td>1429.158081</td>\n",
       "      <td>7.264841</td>\n",
       "      <td>7.355974</td>\n",
       "      <td>1565.521142</td>\n",
       "    </tr>\n",
       "    <tr>\n",
       "      <th>2023-03-11</th>\n",
       "      <td>1482.616699</td>\n",
       "      <td>7.301564</td>\n",
       "      <td>7.356669</td>\n",
       "      <td>1566.609071</td>\n",
       "    </tr>\n",
       "    <tr>\n",
       "      <th>2023-03-12</th>\n",
       "      <td>1590.292969</td>\n",
       "      <td>7.371674</td>\n",
       "      <td>7.357363</td>\n",
       "      <td>1567.697755</td>\n",
       "    </tr>\n",
       "    <tr>\n",
       "      <th>2023-03-13</th>\n",
       "      <td>1680.308960</td>\n",
       "      <td>7.426733</td>\n",
       "      <td>7.358058</td>\n",
       "      <td>1568.787197</td>\n",
       "    </tr>\n",
       "    <tr>\n",
       "      <th>2023-03-14</th>\n",
       "      <td>1703.507080</td>\n",
       "      <td>7.440444</td>\n",
       "      <td>7.358753</td>\n",
       "      <td>1569.877395</td>\n",
       "    </tr>\n",
       "    <tr>\n",
       "      <th>2023-03-15</th>\n",
       "      <td>1656.180542</td>\n",
       "      <td>7.412269</td>\n",
       "      <td>7.359447</td>\n",
       "      <td>1570.968351</td>\n",
       "    </tr>\n",
       "    <tr>\n",
       "      <th>2023-03-16</th>\n",
       "      <td>1677.215454</td>\n",
       "      <td>7.424890</td>\n",
       "      <td>7.360142</td>\n",
       "      <td>1572.060065</td>\n",
       "    </tr>\n",
       "    <tr>\n",
       "      <th>2023-03-17</th>\n",
       "      <td>1792.485107</td>\n",
       "      <td>7.491358</td>\n",
       "      <td>7.360837</td>\n",
       "      <td>1573.152538</td>\n",
       "    </tr>\n",
       "    <tr>\n",
       "      <th>2023-03-18</th>\n",
       "      <td>1761.659668</td>\n",
       "      <td>7.474012</td>\n",
       "      <td>7.361532</td>\n",
       "      <td>1574.245770</td>\n",
       "    </tr>\n",
       "    <tr>\n",
       "      <th>2023-03-19</th>\n",
       "      <td>1785.576538</td>\n",
       "      <td>7.487497</td>\n",
       "      <td>7.362226</td>\n",
       "      <td>1575.339761</td>\n",
       "    </tr>\n",
       "    <tr>\n",
       "      <th>2023-03-20</th>\n",
       "      <td>1735.321289</td>\n",
       "      <td>7.458948</td>\n",
       "      <td>7.362921</td>\n",
       "      <td>1576.434513</td>\n",
       "    </tr>\n",
       "    <tr>\n",
       "      <th>2023-03-21</th>\n",
       "      <td>1806.760742</td>\n",
       "      <td>7.499291</td>\n",
       "      <td>7.363616</td>\n",
       "      <td>1577.530026</td>\n",
       "    </tr>\n",
       "  </tbody>\n",
       "</table>\n",
       "</div>"
      ],
      "text/plain": [
       "              eth_close  logclose  logprediction   prediction\n",
       "Date                                                         \n",
       "2023-03-08  1534.088257  7.335692       7.354585  1563.347551\n",
       "2023-03-09  1438.660767  7.271468       7.355279  1564.433969\n",
       "2023-03-10  1429.158081  7.264841       7.355974  1565.521142\n",
       "2023-03-11  1482.616699  7.301564       7.356669  1566.609071\n",
       "2023-03-12  1590.292969  7.371674       7.357363  1567.697755\n",
       "2023-03-13  1680.308960  7.426733       7.358058  1568.787197\n",
       "2023-03-14  1703.507080  7.440444       7.358753  1569.877395\n",
       "2023-03-15  1656.180542  7.412269       7.359447  1570.968351\n",
       "2023-03-16  1677.215454  7.424890       7.360142  1572.060065\n",
       "2023-03-17  1792.485107  7.491358       7.360837  1573.152538\n",
       "2023-03-18  1761.659668  7.474012       7.361532  1574.245770\n",
       "2023-03-19  1785.576538  7.487497       7.362226  1575.339761\n",
       "2023-03-20  1735.321289  7.458948       7.362921  1576.434513\n",
       "2023-03-21  1806.760742  7.499291       7.363616  1577.530026"
      ]
     },
     "execution_count": 107,
     "metadata": {},
     "output_type": "execute_result"
    }
   ],
   "source": [
    "eth_current_price"
   ]
  },
  {
   "cell_type": "code",
   "execution_count": 108,
   "id": "1c68b1b1",
   "metadata": {
    "scrolled": false
   },
   "outputs": [
    {
     "data": {
      "text/plain": [
       "145.57028183712563"
      ]
     },
     "execution_count": 108,
     "metadata": {},
     "output_type": "execute_result"
    }
   ],
   "source": [
    "## Validation Root Mean Squared Error\n",
    "mean_squared_error(eth_current_price['eth_close'], eth_current_price[\"prediction\"], squared=False)"
   ]
  },
  {
   "cell_type": "code",
   "execution_count": 109,
   "id": "5dde7a63",
   "metadata": {},
   "outputs": [
    {
     "data": {
      "text/plain": [
       "21190.70695414019"
      ]
     },
     "execution_count": 109,
     "metadata": {},
     "output_type": "execute_result"
    }
   ],
   "source": [
    "## Validation Mean Squared Error\n",
    "mean_squared_error(eth_current_price['eth_close'], eth_current_price[\"prediction\"], squared=True)"
   ]
  },
  {
   "cell_type": "code",
   "execution_count": 110,
   "id": "a89c2805",
   "metadata": {},
   "outputs": [
    {
     "data": {
      "text/plain": [
       "131.32877907027105"
      ]
     },
     "execution_count": 110,
     "metadata": {},
     "output_type": "execute_result"
    }
   ],
   "source": [
    "## Validation Mean Absolute Error\n",
    "mean_absolute_error(eth_current_price['eth_close'], eth_current_price[\"prediction\"])"
   ]
  },
  {
   "cell_type": "code",
   "execution_count": 111,
   "id": "cb2969ed",
   "metadata": {},
   "outputs": [
    {
     "data": {
      "text/plain": [
       "0.07833252766682645"
      ]
     },
     "execution_count": 111,
     "metadata": {},
     "output_type": "execute_result"
    }
   ],
   "source": [
    "## Validation Mean Absolute Percentage Error\n",
    "mean_absolute_percentage_error(eth_current_price['eth_close'], eth_current_price[\"prediction\"])"
   ]
  },
  {
   "cell_type": "markdown",
   "id": "894f96ff",
   "metadata": {},
   "source": [
    "## Findings\n",
    "\n",
    "14 day forecast\n",
    "- RMSE: 145.57\n",
    "- MSE: 21190.70\n",
    "- MAE: 131.32\n",
    "\n",
    "- MAPE: 7.83"
   ]
  },
  {
   "cell_type": "code",
   "execution_count": 112,
   "id": "342ae7d7",
   "metadata": {},
   "outputs": [
    {
     "data": {
      "image/png": "[encoded data removed]",
      "text/plain": [
       "<Figure size 1000x500 with 1 Axes>"
      ]
     },
     "metadata": {},
     "output_type": "display_data"
    }
   ],
   "source": [
    "fig, ax = plt.subplots(figsize=(10, 5))\n",
    "font = {'fontname':'Times New Roman', 'size': 13, 'weight' : 'bold'}\n",
    "ax.plot(eth_current_price['eth_close'], label=\"ETH valós értékei\")\n",
    "ax.plot(eth_current_price['prediction'], label=\"ETH prediktált értékei\")\n",
    "ax.legend()\n",
    "ax.yaxis.set_major_formatter(\"${x:,.0f}\")\n",
    "ax.set_ylabel(\"ETH napi árfolyama ($)\", **font)\n",
    "ax.set_xlabel(\"dátum\", **font)\n",
    "plt.tight_layout()\n",
    "ax.set_title(\"Holt Winters Előrejelzés - ETH árfolyamára - Validation Set - 14 napos predikció\", **font)\n",
    "plt.savefig(\"charts/forecast/holt-winters-realword_forecast.png\")\n",
    "plt.show()"
   ]
  },
  {
   "cell_type": "code",
   "execution_count": null,
   "id": "cf3ecb3b",
   "metadata": {},
   "outputs": [],
   "source": []
  },
  {
   "cell_type": "markdown",
   "id": "3cca8bd3",
   "metadata": {},
   "source": [
    "## BACKUP"
   ]
  },
  {
   "cell_type": "code",
   "execution_count": 113,
   "id": "1a0d0c01",
   "metadata": {},
   "outputs": [
    {
     "ename": "NameError",
     "evalue": "name 'qr' is not defined",
     "output_type": "error",
     "traceback": [
      "\u001b[1;31m---------------------------------------------------------------------------\u001b[0m",
      "\u001b[1;31mNameError\u001b[0m                                 Traceback (most recent call last)",
      "Cell \u001b[1;32mIn [113], line 4\u001b[0m\n\u001b[0;32m      1\u001b[0m \u001b[38;5;66;03m## Forecast horizon\u001b[39;00m\n\u001b[0;32m      2\u001b[0m \u001b[38;5;66;03m## Validation steps\u001b[39;00m\n\u001b[1;32m----> 4\u001b[0m h \u001b[38;5;241m=\u001b[39m \u001b[43mqr\u001b[49m \u001b[38;5;66;03m## ez maga a window size (seasonalitásnál fontos), hogy mekkora lépésközre prediktál, 365 napra előre pl\u001b[39;00m\n\u001b[0;32m      5\u001b[0m steps \u001b[38;5;241m=\u001b[39m \u001b[38;5;241m10\u001b[39m \u001b[38;5;66;03m## ez nem más, mint az, hogy 10 szer lép egyet előre az indexekben, magyarul ez a cv=10 kb Gridsearchnél\u001b[39;00m\n\u001b[0;32m      6\u001b[0m Ntest \u001b[38;5;241m=\u001b[39m \u001b[38;5;28mlen\u001b[39m(df_close) \u001b[38;5;241m-\u001b[39m h \u001b[38;5;241m-\u001b[39msteps \u001b[38;5;241m+\u001b[39m \u001b[38;5;241m1\u001b[39m \u001b[38;5;66;03m## ez a kiindulási pont, érdemes lehet megnézni a 80%-körüli értéket\u001b[39;00m\n",
      "\u001b[1;31mNameError\u001b[0m: name 'qr' is not defined"
     ]
    }
   ],
   "source": [
    "## Forecast horizon\n",
    "## Validation steps\n",
    "\n",
    "h = qr ## ez maga a window size (seasonalitásnál fontos), hogy mekkora lépésközre prediktál, 365 napra előre pl\n",
    "steps = 10 ## ez nem más, mint az, hogy 10 szer lép egyet előre az indexekben, magyarul ez a cv=10 kb Gridsearchnél\n",
    "Ntest = len(df_close) - h -steps + 1 ## ez a kiindulási pont, érdemes lehet megnézni a 80%-körüli értéket"
   ]
  },
  {
   "cell_type": "code",
   "execution_count": null,
   "id": "bb6c6781",
   "metadata": {},
   "outputs": [],
   "source": [
    "def walkforward(trend_type, seasonal_type, damped_trend, init_method, debug=False):\n",
    "\n",
    "  # store errors\n",
    "    errors = []\n",
    "    seen_last = False\n",
    "    steps_completed = 0\n",
    "\n",
    "    for end_of_train in range(Ntest, len(df_close) - h + 1): ## plusz egy a range miatt van.\n",
    "        train = df_close.iloc[:end_of_train] # one step walk\n",
    "        test = df_close.iloc[end_of_train:end_of_train + h]\n",
    "\n",
    "        if test.index[-1] == df.index[-1]:\n",
    "            seen_last = True\n",
    "      \n",
    "        steps_completed += 1\n",
    "\n",
    "        if seasonal_type != None:\n",
    "            \n",
    "            hw = ExponentialSmoothing(\n",
    "                  train['logclose'],\n",
    "                  initialization_method=init_method,\n",
    "                  trend=trend_type,\n",
    "                  damped_trend=damped_trend,\n",
    "                  seasonal=seasonal_type,\n",
    "                  seasonal_periods=365)\n",
    "        else:\n",
    "            hw = ExponentialSmoothing(\n",
    "                  train['logclose'],\n",
    "                  initialization_method=init_method,\n",
    "                  trend=trend_type,\n",
    "                  damped_trend=damped_trend,\n",
    "                  seasonal=seasonal_type)\n",
    "        \n",
    "        res_hw = hw.fit()\n",
    "\n",
    "      # compute error for the forecast horizon\n",
    "        fcast = res_hw.forecast(h)\n",
    "        error = mean_squared_error(test['logclose'], fcast, squared=False) ## root mean squared error\n",
    "        errors.append(error)\n",
    "\n",
    "    if debug:\n",
    "            print(\"seen_last:\", seen_last)\n",
    "            print(\"steps completed:\", steps_completed)\n",
    "\n",
    "    return np.mean(errors)"
   ]
  },
  {
   "cell_type": "code",
   "execution_count": null,
   "id": "5293738b",
   "metadata": {},
   "outputs": [],
   "source": [
    "test_size = 14\n",
    "train = df_close.iloc[:-test_size]\n",
    "test = df_close.iloc[-test_size:]"
   ]
  },
  {
   "cell_type": "code",
   "execution_count": null,
   "id": "2f2785f2",
   "metadata": {},
   "outputs": [],
   "source": [
    "train_idx = df_close.index <= train.index[-1] ## csak belőjük a trainingset indexeit\n",
    "test_idx = df_close.index > train.index[-1]"
   ]
  },
  {
   "cell_type": "code",
   "execution_count": null,
   "id": "bcbfee39",
   "metadata": {},
   "outputs": [],
   "source": [
    "m = ExponentialSmoothing(\n",
    "      train['logclose'],\n",
    "      initialization_method=\"legacy-heuristic\",\n",
    "      trend=\"mul\",\n",
    "      damped_trend=True,\n",
    "      seasonal=\"add\",\n",
    "      seasonal_periods=365)"
   ]
  },
  {
   "cell_type": "code",
   "execution_count": null,
   "id": "00453dbf",
   "metadata": {
    "scrolled": true
   },
   "outputs": [],
   "source": [
    "res = m.fit()"
   ]
  },
  {
   "cell_type": "code",
   "execution_count": null,
   "id": "0927add1",
   "metadata": {},
   "outputs": [],
   "source": [
    "## Logarithmic prediction\n",
    "df_close.loc[train_idx, \"SESfitted\"] = res.fittedvalues\n",
    "df_close.loc[test_idx, \"SESfitted\"] = res.forecast(test_size) ##folytatjuk a trained (efelett) részt a predikcióval\n",
    "df_close[[\"logclose\", \"SESfitted\"]].plot(figsize=(10, 5))"
   ]
  },
  {
   "cell_type": "code",
   "execution_count": null,
   "id": "658ea2b9",
   "metadata": {},
   "outputs": [],
   "source": [
    "df_close[\"prediction\"] = np.exp(df_close[\"SESfitted\"])"
   ]
  },
  {
   "cell_type": "code",
   "execution_count": null,
   "id": "702e82e4",
   "metadata": {
    "scrolled": false
   },
   "outputs": [],
   "source": [
    "## Root Value prediction\n",
    "df_close[[\"eth_close\", \"prediction\"]].plot(figsize=(10, 5))"
   ]
  },
  {
   "cell_type": "code",
   "execution_count": null,
   "id": "a4b58048",
   "metadata": {
    "scrolled": false
   },
   "outputs": [],
   "source": [
    "## Validation Root Mean Squared Error\n",
    "mean_squared_error(df_close['eth_close'].iloc[-test_size:], df_close[\"prediction\"].iloc[-test_size:], squared=False)"
   ]
  },
  {
   "cell_type": "code",
   "execution_count": null,
   "id": "fbc8be69",
   "metadata": {},
   "outputs": [],
   "source": [
    "mean_absolute_error(df_close['eth_close'].iloc[-test_size:], df_close[\"prediction\"].iloc[-test_size:])"
   ]
  }
 ],
 "metadata": {
  "kernelspec": {
   "display_name": "Python 3 (ipykernel)",
   "language": "python",
   "name": "python3"
  },
  "language_info": {
   "codemirror_mode": {
    "name": "ipython",
    "version": 3
   },
   "file_extension": ".py",
   "mimetype": "text/x-python",
   "name": "python",
   "nbconvert_exporter": "python",
   "pygments_lexer": "ipython3",
   "version": "3.10.7"
  }
 },
 "nbformat": 4,
 "nbformat_minor": 5
}
