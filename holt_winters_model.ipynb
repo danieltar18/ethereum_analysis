{
 "cells": [
  {
   "cell_type": "code",
   "execution_count": 1,
   "id": "b17cdba7",
   "metadata": {},
   "outputs": [],
   "source": [
    "import pandas as pd\n",
    "import numpy as np\n",
    "import matplotlib.pyplot as plt\n",
    "import itertools\n",
    "import seaborn as sns\n",
    "\n",
    "from sklearn.metrics import mean_absolute_percentage_error, mean_absolute_error, mean_squared_error\n",
    "from statsmodels.tsa.holtwinters import ExponentialSmoothing\n",
    "from statsmodels.tsa.seasonal import seasonal_decompose"
   ]
  },
  {
   "cell_type": "code",
   "execution_count": 2,
   "id": "9ef6b1a0",
   "metadata": {},
   "outputs": [],
   "source": [
    "df = pd.read_csv('training_dataset.csv', index_col='date', parse_dates=True)"
   ]
  },
  {
   "cell_type": "code",
   "execution_count": 3,
   "id": "4ba20830",
   "metadata": {},
   "outputs": [
    {
     "data": {
      "text/html": [
       "<div>\n",
       "<style scoped>\n",
       "    .dataframe tbody tr th:only-of-type {\n",
       "        vertical-align: middle;\n",
       "    }\n",
       "\n",
       "    .dataframe tbody tr th {\n",
       "        vertical-align: top;\n",
       "    }\n",
       "\n",
       "    .dataframe thead th {\n",
       "        text-align: right;\n",
       "    }\n",
       "</style>\n",
       "<table border=\"1\" class=\"dataframe\">\n",
       "  <thead>\n",
       "    <tr style=\"text-align: right;\">\n",
       "      <th></th>\n",
       "      <th>eth_low</th>\n",
       "      <th>eth_high</th>\n",
       "      <th>eth_open</th>\n",
       "      <th>eth_close</th>\n",
       "      <th>eth_volume</th>\n",
       "      <th>month</th>\n",
       "      <th>eth_qav</th>\n",
       "      <th>eth_num_trades</th>\n",
       "      <th>eth_taker_base_vol</th>\n",
       "      <th>eth_taker_quote_vol</th>\n",
       "      <th>...</th>\n",
       "      <th>stochastic_oscillator</th>\n",
       "      <th>ma_12</th>\n",
       "      <th>ma_26</th>\n",
       "      <th>ema_12</th>\n",
       "      <th>ema_26</th>\n",
       "      <th>obv</th>\n",
       "      <th>mfi</th>\n",
       "      <th>upper_band</th>\n",
       "      <th>middle_band</th>\n",
       "      <th>lower_band</th>\n",
       "    </tr>\n",
       "    <tr>\n",
       "      <th>date</th>\n",
       "      <th></th>\n",
       "      <th></th>\n",
       "      <th></th>\n",
       "      <th></th>\n",
       "      <th></th>\n",
       "      <th></th>\n",
       "      <th></th>\n",
       "      <th></th>\n",
       "      <th></th>\n",
       "      <th></th>\n",
       "      <th></th>\n",
       "      <th></th>\n",
       "      <th></th>\n",
       "      <th></th>\n",
       "      <th></th>\n",
       "      <th></th>\n",
       "      <th></th>\n",
       "      <th></th>\n",
       "      <th></th>\n",
       "      <th></th>\n",
       "      <th></th>\n",
       "    </tr>\n",
       "  </thead>\n",
       "  <tbody>\n",
       "    <tr>\n",
       "      <th>2017-09-01</th>\n",
       "      <td>383.18</td>\n",
       "      <td>394.39</td>\n",
       "      <td>386.44</td>\n",
       "      <td>388.46</td>\n",
       "      <td>4198.68434</td>\n",
       "      <td>2017-09-01</td>\n",
       "      <td>1.635228e+06</td>\n",
       "      <td>4124.0</td>\n",
       "      <td>1564.05531</td>\n",
       "      <td>6.096309e+05</td>\n",
       "      <td>...</td>\n",
       "      <td>96.424850</td>\n",
       "      <td>346.524167</td>\n",
       "      <td>338.660000</td>\n",
       "      <td>346.524167</td>\n",
       "      <td>338.660000</td>\n",
       "      <td>1.378006e+06</td>\n",
       "      <td>88.346876</td>\n",
       "      <td>411.653941</td>\n",
       "      <td>341.8790</td>\n",
       "      <td>272.104059</td>\n",
       "    </tr>\n",
       "    <tr>\n",
       "      <th>2017-09-02</th>\n",
       "      <td>320.08</td>\n",
       "      <td>394.32</td>\n",
       "      <td>388.58</td>\n",
       "      <td>343.14</td>\n",
       "      <td>8240.32724</td>\n",
       "      <td>2017-09-01</td>\n",
       "      <td>2.904008e+06</td>\n",
       "      <td>8217.0</td>\n",
       "      <td>2460.66776</td>\n",
       "      <td>8.684873e+05</td>\n",
       "      <td>...</td>\n",
       "      <td>97.629707</td>\n",
       "      <td>348.178333</td>\n",
       "      <td>339.773462</td>\n",
       "      <td>348.178333</td>\n",
       "      <td>339.773462</td>\n",
       "      <td>1.369766e+06</td>\n",
       "      <td>80.426793</td>\n",
       "      <td>411.386517</td>\n",
       "      <td>341.6590</td>\n",
       "      <td>271.931483</td>\n",
       "    </tr>\n",
       "    <tr>\n",
       "      <th>2017-09-03</th>\n",
       "      <td>320.08</td>\n",
       "      <td>367.28</td>\n",
       "      <td>343.56</td>\n",
       "      <td>341.77</td>\n",
       "      <td>5253.62211</td>\n",
       "      <td>2017-09-01</td>\n",
       "      <td>1.801703e+06</td>\n",
       "      <td>6153.0</td>\n",
       "      <td>2240.91753</td>\n",
       "      <td>7.679383e+05</td>\n",
       "      <td>...</td>\n",
       "      <td>79.514749</td>\n",
       "      <td>350.842500</td>\n",
       "      <td>340.706923</td>\n",
       "      <td>350.842500</td>\n",
       "      <td>340.706923</td>\n",
       "      <td>1.364512e+06</td>\n",
       "      <td>74.419284</td>\n",
       "      <td>408.329187</td>\n",
       "      <td>340.1235</td>\n",
       "      <td>271.917813</td>\n",
       "    </tr>\n",
       "    <tr>\n",
       "      <th>2017-09-04</th>\n",
       "      <td>267.94</td>\n",
       "      <td>344.55</td>\n",
       "      <td>339.29</td>\n",
       "      <td>283.77</td>\n",
       "      <td>6737.81061</td>\n",
       "      <td>2017-09-01</td>\n",
       "      <td>2.002446e+06</td>\n",
       "      <td>7403.0</td>\n",
       "      <td>2954.16805</td>\n",
       "      <td>8.770111e+05</td>\n",
       "      <td>...</td>\n",
       "      <td>78.967144</td>\n",
       "      <td>348.178333</td>\n",
       "      <td>339.138077</td>\n",
       "      <td>348.178333</td>\n",
       "      <td>339.138077</td>\n",
       "      <td>1.357774e+06</td>\n",
       "      <td>67.246410</td>\n",
       "      <td>404.443029</td>\n",
       "      <td>335.1070</td>\n",
       "      <td>265.770971</td>\n",
       "    </tr>\n",
       "    <tr>\n",
       "      <th>2017-09-05</th>\n",
       "      <td>235.55</td>\n",
       "      <td>321.52</td>\n",
       "      <td>286.81</td>\n",
       "      <td>312.09</td>\n",
       "      <td>8344.41924</td>\n",
       "      <td>2017-09-01</td>\n",
       "      <td>2.397491e+06</td>\n",
       "      <td>8999.0</td>\n",
       "      <td>4312.97282</td>\n",
       "      <td>1.251959e+06</td>\n",
       "      <td>...</td>\n",
       "      <td>55.783836</td>\n",
       "      <td>347.234167</td>\n",
       "      <td>338.443846</td>\n",
       "      <td>347.234167</td>\n",
       "      <td>338.443846</td>\n",
       "      <td>1.366118e+06</td>\n",
       "      <td>66.412993</td>\n",
       "      <td>396.369992</td>\n",
       "      <td>331.2515</td>\n",
       "      <td>266.133008</td>\n",
       "    </tr>\n",
       "  </tbody>\n",
       "</table>\n",
       "<p>5 rows × 46 columns</p>\n",
       "</div>"
      ],
      "text/plain": [
       "            eth_low  eth_high  eth_open  eth_close  eth_volume       month  \\\n",
       "date                                                                         \n",
       "2017-09-01   383.18    394.39    386.44     388.46  4198.68434  2017-09-01   \n",
       "2017-09-02   320.08    394.32    388.58     343.14  8240.32724  2017-09-01   \n",
       "2017-09-03   320.08    367.28    343.56     341.77  5253.62211  2017-09-01   \n",
       "2017-09-04   267.94    344.55    339.29     283.77  6737.81061  2017-09-01   \n",
       "2017-09-05   235.55    321.52    286.81     312.09  8344.41924  2017-09-01   \n",
       "\n",
       "                 eth_qav  eth_num_trades  eth_taker_base_vol  \\\n",
       "date                                                           \n",
       "2017-09-01  1.635228e+06          4124.0          1564.05531   \n",
       "2017-09-02  2.904008e+06          8217.0          2460.66776   \n",
       "2017-09-03  1.801703e+06          6153.0          2240.91753   \n",
       "2017-09-04  2.002446e+06          7403.0          2954.16805   \n",
       "2017-09-05  2.397491e+06          8999.0          4312.97282   \n",
       "\n",
       "            eth_taker_quote_vol  ...  stochastic_oscillator       ma_12  \\\n",
       "date                             ...                                      \n",
       "2017-09-01         6.096309e+05  ...              96.424850  346.524167   \n",
       "2017-09-02         8.684873e+05  ...              97.629707  348.178333   \n",
       "2017-09-03         7.679383e+05  ...              79.514749  350.842500   \n",
       "2017-09-04         8.770111e+05  ...              78.967144  348.178333   \n",
       "2017-09-05         1.251959e+06  ...              55.783836  347.234167   \n",
       "\n",
       "                 ma_26      ema_12      ema_26           obv        mfi  \\\n",
       "date                                                                      \n",
       "2017-09-01  338.660000  346.524167  338.660000  1.378006e+06  88.346876   \n",
       "2017-09-02  339.773462  348.178333  339.773462  1.369766e+06  80.426793   \n",
       "2017-09-03  340.706923  350.842500  340.706923  1.364512e+06  74.419284   \n",
       "2017-09-04  339.138077  348.178333  339.138077  1.357774e+06  67.246410   \n",
       "2017-09-05  338.443846  347.234167  338.443846  1.366118e+06  66.412993   \n",
       "\n",
       "            upper_band  middle_band  lower_band  \n",
       "date                                             \n",
       "2017-09-01  411.653941     341.8790  272.104059  \n",
       "2017-09-02  411.386517     341.6590  271.931483  \n",
       "2017-09-03  408.329187     340.1235  271.917813  \n",
       "2017-09-04  404.443029     335.1070  265.770971  \n",
       "2017-09-05  396.369992     331.2515  266.133008  \n",
       "\n",
       "[5 rows x 46 columns]"
      ]
     },
     "execution_count": 3,
     "metadata": {},
     "output_type": "execute_result"
    }
   ],
   "source": [
    "df.head()"
   ]
  },
  {
   "cell_type": "code",
   "execution_count": 4,
   "id": "c6490c98",
   "metadata": {},
   "outputs": [],
   "source": [
    "df.index.freq = \"D\""
   ]
  },
  {
   "cell_type": "code",
   "execution_count": 5,
   "id": "c526c238",
   "metadata": {},
   "outputs": [
    {
     "data": {
      "text/plain": [
       "DatetimeIndex(['2017-09-01', '2017-09-02', '2017-09-03', '2017-09-04',\n",
       "               '2017-09-05', '2017-09-06', '2017-09-07', '2017-09-08',\n",
       "               '2017-09-09', '2017-09-10',\n",
       "               ...\n",
       "               '2023-02-26', '2023-02-27', '2023-02-28', '2023-03-01',\n",
       "               '2023-03-02', '2023-03-03', '2023-03-04', '2023-03-05',\n",
       "               '2023-03-06', '2023-03-07'],\n",
       "              dtype='datetime64[ns]', name='date', length=2014, freq='D')"
      ]
     },
     "execution_count": 5,
     "metadata": {},
     "output_type": "execute_result"
    }
   ],
   "source": [
    "df.index"
   ]
  },
  {
   "cell_type": "code",
   "execution_count": 6,
   "id": "560a79bd",
   "metadata": {},
   "outputs": [],
   "source": [
    "df_close = pd.DataFrame(df.eth_close)"
   ]
  },
  {
   "cell_type": "code",
   "execution_count": 7,
   "id": "92e3487e",
   "metadata": {
    "scrolled": false
   },
   "outputs": [
    {
     "data": {
      "text/plain": [
       "<Axes: xlabel='date'>"
      ]
     },
     "execution_count": 7,
     "metadata": {},
     "output_type": "execute_result"
    },
    {
     "data": {
      "image/png": "[encoded data removed]",
      "text/plain": [
       "<Figure size 1000x500 with 1 Axes>"
      ]
     },
     "metadata": {},
     "output_type": "display_data"
    }
   ],
   "source": [
    "df_close.plot(figsize=(10,5))"
   ]
  },
  {
   "cell_type": "code",
   "execution_count": 8,
   "id": "7b700a0a",
   "metadata": {
    "scrolled": false
   },
   "outputs": [
    {
     "data": {
      "image/png": "[encoded data removed]",
      "text/plain": [
       "<Figure size 640x480 with 1 Axes>"
      ]
     },
     "metadata": {},
     "output_type": "display_data"
    },
    {
     "data": {
      "image/png": "[encoded data removed]",
      "text/plain": [
       "<Figure size 640x480 with 1 Axes>"
      ]
     },
     "metadata": {},
     "output_type": "display_data"
    },
    {
     "data": {
      "image/png": "[encoded data removed]",
      "text/plain": [
       "<Figure size 640x480 with 1 Axes>"
      ]
     },
     "metadata": {},
     "output_type": "display_data"
    },
    {
     "data": {
      "image/png": "[encoded data removed]",
      "text/plain": [
       "<Figure size 640x480 with 1 Axes>"
      ]
     },
     "metadata": {},
     "output_type": "display_data"
    },
    {
     "data": {
      "image/png": "[encoded data removed]",
      "text/plain": [
       "<Figure size 640x480 with 1 Axes>"
      ]
     },
     "metadata": {},
     "output_type": "display_data"
    },
    {
     "data": {
      "image/png": "[encoded data removed]",
      "text/plain": [
       "<Figure size 640x480 with 1 Axes>"
      ]
     },
     "metadata": {},
     "output_type": "display_data"
    }
   ],
   "source": [
    "## Choose the appropriate period = 365\n",
    "for period in [1,7,12,14,30,365]:\n",
    "    result = seasonal_decompose(df.eth_close, period=period)\n",
    "    plt.plot(result.seasonal)\n",
    "    plt.title(f\"Period = {period}\")\n",
    "    plt.show()\n",
    "    "
   ]
  },
  {
   "cell_type": "code",
   "execution_count": 9,
   "id": "f43dbbbc",
   "metadata": {},
   "outputs": [
    {
     "data": {
      "image/png": "[encoded data removed]",
      "text/plain": [
       "<Figure size 640x480 with 4 Axes>"
      ]
     },
     "metadata": {},
     "output_type": "display_data"
    }
   ],
   "source": [
    "##Only 365 day period shows a possible seasonality\n",
    "seasonality_trend = seasonal_decompose(df_close.eth_close, model=\"multiplicative\", period=365)\n",
    "seasonality_trend.plot()\n",
    "plt.show()"
   ]
  },
  {
   "cell_type": "code",
   "execution_count": 10,
   "id": "db9a4ed9",
   "metadata": {},
   "outputs": [],
   "source": [
    "df_close[\"logclose\"] = np.log(df_close.eth_close)"
   ]
  },
  {
   "cell_type": "code",
   "execution_count": 11,
   "id": "fbeed04e",
   "metadata": {},
   "outputs": [
    {
     "data": {
      "text/plain": [
       "<Axes: xlabel='date'>"
      ]
     },
     "execution_count": 11,
     "metadata": {},
     "output_type": "execute_result"
    },
    {
     "data": {
      "image/png": "[encoded data removed]",
      "text/plain": [
       "<Figure size 640x480 with 1 Axes>"
      ]
     },
     "metadata": {},
     "output_type": "display_data"
    }
   ],
   "source": [
    "df_close[\"logclose\"].plot()"
   ]
  },
  {
   "cell_type": "code",
   "execution_count": 12,
   "id": "0b30538e",
   "metadata": {
    "scrolled": false
   },
   "outputs": [
    {
     "data": {
      "text/plain": [
       "(2014, 2)"
      ]
     },
     "execution_count": 12,
     "metadata": {},
     "output_type": "execute_result"
    }
   ],
   "source": [
    "df_close.shape"
   ]
  },
  {
   "cell_type": "markdown",
   "id": "aabd3f4b",
   "metadata": {},
   "source": [
    "## Test on Validation set and best options"
   ]
  },
  {
   "cell_type": "markdown",
   "id": "94c2cd48",
   "metadata": {},
   "source": [
    "## Timeseries Split"
   ]
  },
  {
   "cell_type": "markdown",
   "id": "81fd39e1",
   "metadata": {},
   "source": [
    "## 1 DAY"
   ]
  },
  {
   "cell_type": "code",
   "execution_count": 13,
   "id": "7fb53742",
   "metadata": {},
   "outputs": [],
   "source": [
    "from sklearn.model_selection import TimeSeriesSplit\n",
    "\n",
    "tss = TimeSeriesSplit(n_splits=5, test_size=1, gap=0)\n",
    "df_close = df_close.sort_index()"
   ]
  },
  {
   "cell_type": "code",
   "execution_count": 21,
   "id": "18d8da4c",
   "metadata": {},
   "outputs": [],
   "source": [
    "def gridsearch_timeseriessplit(trend_type, seasonal_type, damped_trend, init_method):\n",
    "\n",
    "    #fig, axs = plt.subplots(5, 1, figsize=(15, 15), sharex=True)\n",
    "    root_mean_squared_errors = []\n",
    "    mean_squared_errors = []\n",
    "    mean_absolute_errors = []\n",
    "    mean_absolute_percentage_errors = []\n",
    "    #fold = 0\n",
    "\n",
    "    for train_idx, val_idx in tss.split(df_close):\n",
    "        train = df_close.iloc[train_idx]\n",
    "        test = df_close.iloc[val_idx]\n",
    "        \n",
    "        ## PLOTTING NOT IMPORTANT\n",
    "        #train['eth_close'].plot(ax=axs[fold], label='Training Set', title=f'Data Train/Test Split Fold {fold}')\n",
    "        #test['eth_close'].plot(ax=axs[fold], label='Test Set')\n",
    "        #axs[fold].axvline(test.index.min(), color='black', ls='--')\n",
    "        #fold += 1\n",
    "\n",
    "        if seasonal_type != None:\n",
    "\n",
    "            hw = ExponentialSmoothing(\n",
    "                  train['logclose'],\n",
    "                  initialization_method=init_method,\n",
    "                  trend=trend_type,\n",
    "                  damped_trend=damped_trend,\n",
    "                  seasonal=seasonal_type,\n",
    "                  seasonal_periods=365)\n",
    "        else:\n",
    "            hw = ExponentialSmoothing(\n",
    "                  train['logclose'],\n",
    "                  initialization_method=init_method,\n",
    "                  trend=trend_type,\n",
    "                  damped_trend=damped_trend,\n",
    "                  seasonal=seasonal_type)\n",
    "\n",
    "        res_hw = hw.fit()\n",
    "        fcast = res_hw.forecast(len(test))\n",
    "        \n",
    "        rmse = mean_squared_error(test['eth_close'], np.exp(fcast), squared=False)\n",
    "        root_mean_squared_errors.append(rmse)\n",
    "        mse = mean_squared_error(test['eth_close'], np.exp(fcast), squared=True)\n",
    "        mean_squared_errors.append(mse)        \n",
    "        mae = mean_absolute_error(test['eth_close'], np.exp(fcast))\n",
    "        mean_absolute_errors.append(mae)\n",
    "        mape = mean_absolute_percentage_error(test['eth_close'], np.exp(fcast))\n",
    "        mean_absolute_percentage_errors.append(mape)\n",
    "        \n",
    "\n",
    "    #plt.show()\n",
    "\n",
    "    print(\"Tesztelve 5 különböző tanulási/tesztelési adatszetten - 1 napos predikció\")\n",
    "    print(f\"RMSE: {round(np.mean(root_mean_squared_errors), 4)}\")\n",
    "    print(f\"MSE: {round(np.mean(mean_squared_errors), 4)}\")\n",
    "    print(f\"MAE: {round(np.mean(mean_absolute_errors), 4)}\")\n",
    "    print(f\"MAPE: {str(round(np.mean(mean_absolute_percentage_errors)*100, 4))}%\")\n",
    "    return np.mean(root_mean_squared_errors), np.mean(mean_squared_errors), np.mean(mean_absolute_errors), np.mean(mean_absolute_percentage_errors)"
   ]
  },
  {
   "cell_type": "code",
   "execution_count": 22,
   "id": "2f9fbc39",
   "metadata": {},
   "outputs": [],
   "source": [
    "# Configuration hyperparameters to try\n",
    "trend_type_list = ['add', 'mul']\n",
    "seasonal_type_list = ['add', 'mul', None]\n",
    "damped_trend_list = [True, False]\n",
    "init_method_list = ['estimated', 'heuristic', 'legacy-heuristic']\n",
    "## box-cox not required since log dataset"
   ]
  },
  {
   "cell_type": "code",
   "execution_count": 23,
   "id": "0ed96c92",
   "metadata": {},
   "outputs": [],
   "source": [
    "# Grid Search\n",
    "tuple_of_option_lists = (\n",
    "    trend_type_list,\n",
    "    seasonal_type_list,\n",
    "    damped_trend_list,\n",
    "    init_method_list\n",
    ")"
   ]
  },
  {
   "cell_type": "code",
   "execution_count": 24,
   "id": "f81ea8f9",
   "metadata": {},
   "outputs": [
    {
     "name": "stdout",
     "output_type": "stream",
     "text": [
      "add add True estimated\n"
     ]
    },
    {
     "name": "stderr",
     "output_type": "stream",
     "text": [
      "C:\\Users\\Dani\\AppData\\Local\\Programs\\Python\\Python310\\lib\\site-packages\\statsmodels\\tsa\\holtwinters\\model.py:915: ConvergenceWarning: Optimization failed to converge. Check mle_retvals.\n",
      "  warnings.warn(\n",
      "C:\\Users\\Dani\\AppData\\Local\\Programs\\Python\\Python310\\lib\\site-packages\\statsmodels\\tsa\\holtwinters\\model.py:915: ConvergenceWarning: Optimization failed to converge. Check mle_retvals.\n",
      "  warnings.warn(\n",
      "C:\\Users\\Dani\\AppData\\Local\\Programs\\Python\\Python310\\lib\\site-packages\\statsmodels\\tsa\\holtwinters\\model.py:915: ConvergenceWarning: Optimization failed to converge. Check mle_retvals.\n",
      "  warnings.warn(\n",
      "C:\\Users\\Dani\\AppData\\Local\\Programs\\Python\\Python310\\lib\\site-packages\\statsmodels\\tsa\\holtwinters\\model.py:915: ConvergenceWarning: Optimization failed to converge. Check mle_retvals.\n",
      "  warnings.warn(\n",
      "C:\\Users\\Dani\\AppData\\Local\\Programs\\Python\\Python310\\lib\\site-packages\\statsmodels\\tsa\\holtwinters\\model.py:915: ConvergenceWarning: Optimization failed to converge. Check mle_retvals.\n",
      "  warnings.warn(\n"
     ]
    },
    {
     "name": "stdout",
     "output_type": "stream",
     "text": [
      "Tesztelve 5 különböző tanulási/tesztelési adatszetten - 1 napos predikció\n",
      "RMSE: 20.7827\n",
      "MSE: 1024.7884\n",
      "MAE: 20.7827\n",
      "MAPE: 1.3264%\n",
      "RMSE: 20.78270388335168, MSE: 1024.7883548486814, MAE: 20.78270388335168, MAPE: 0.01326388140088161\n",
      "Best RMSE so far: 20.78270388335168\n",
      "add add True heuristic\n"
     ]
    },
    {
     "name": "stderr",
     "output_type": "stream",
     "text": [
      "C:\\Users\\Dani\\AppData\\Local\\Programs\\Python\\Python310\\lib\\site-packages\\statsmodels\\tsa\\holtwinters\\model.py:915: ConvergenceWarning: Optimization failed to converge. Check mle_retvals.\n",
      "  warnings.warn(\n",
      "C:\\Users\\Dani\\AppData\\Local\\Programs\\Python\\Python310\\lib\\site-packages\\statsmodels\\tsa\\holtwinters\\model.py:915: ConvergenceWarning: Optimization failed to converge. Check mle_retvals.\n",
      "  warnings.warn(\n",
      "C:\\Users\\Dani\\AppData\\Local\\Programs\\Python\\Python310\\lib\\site-packages\\statsmodels\\tsa\\holtwinters\\model.py:915: ConvergenceWarning: Optimization failed to converge. Check mle_retvals.\n",
      "  warnings.warn(\n",
      "C:\\Users\\Dani\\AppData\\Local\\Programs\\Python\\Python310\\lib\\site-packages\\statsmodels\\tsa\\holtwinters\\model.py:915: ConvergenceWarning: Optimization failed to converge. Check mle_retvals.\n",
      "  warnings.warn(\n",
      "C:\\Users\\Dani\\AppData\\Local\\Programs\\Python\\Python310\\lib\\site-packages\\statsmodels\\tsa\\holtwinters\\model.py:915: ConvergenceWarning: Optimization failed to converge. Check mle_retvals.\n",
      "  warnings.warn(\n"
     ]
    },
    {
     "name": "stdout",
     "output_type": "stream",
     "text": [
      "Tesztelve 5 különböző tanulási/tesztelési adatszetten - 1 napos predikció\n",
      "RMSE: 20.7827\n",
      "MSE: 1024.7884\n",
      "MAE: 20.7827\n",
      "MAPE: 1.3264%\n",
      "RMSE: 20.78270388335168, MSE: 1024.7883548486814, MAE: 20.78270388335168, MAPE: 0.01326388140088161\n",
      "add add True legacy-heuristic\n"
     ]
    },
    {
     "name": "stderr",
     "output_type": "stream",
     "text": [
      "C:\\Users\\Dani\\AppData\\Local\\Programs\\Python\\Python310\\lib\\site-packages\\statsmodels\\tsa\\holtwinters\\model.py:915: ConvergenceWarning: Optimization failed to converge. Check mle_retvals.\n",
      "  warnings.warn(\n",
      "C:\\Users\\Dani\\AppData\\Local\\Programs\\Python\\Python310\\lib\\site-packages\\statsmodels\\tsa\\holtwinters\\model.py:915: ConvergenceWarning: Optimization failed to converge. Check mle_retvals.\n",
      "  warnings.warn(\n",
      "C:\\Users\\Dani\\AppData\\Local\\Programs\\Python\\Python310\\lib\\site-packages\\statsmodels\\tsa\\holtwinters\\model.py:915: ConvergenceWarning: Optimization failed to converge. Check mle_retvals.\n",
      "  warnings.warn(\n",
      "C:\\Users\\Dani\\AppData\\Local\\Programs\\Python\\Python310\\lib\\site-packages\\statsmodels\\tsa\\holtwinters\\model.py:915: ConvergenceWarning: Optimization failed to converge. Check mle_retvals.\n",
      "  warnings.warn(\n",
      "C:\\Users\\Dani\\AppData\\Local\\Programs\\Python\\Python310\\lib\\site-packages\\statsmodels\\tsa\\holtwinters\\model.py:915: ConvergenceWarning: Optimization failed to converge. Check mle_retvals.\n",
      "  warnings.warn(\n"
     ]
    },
    {
     "name": "stdout",
     "output_type": "stream",
     "text": [
      "Tesztelve 5 különböző tanulási/tesztelési adatszetten - 1 napos predikció\n",
      "RMSE: 22.4181\n",
      "MSE: 1060.2748\n",
      "MAE: 22.4181\n",
      "MAPE: 1.431%\n",
      "RMSE: 22.418113743701134, MSE: 1060.2747977818842, MAE: 22.418113743701134, MAPE: 0.01431011082777479\n",
      "add add False estimated\n"
     ]
    },
    {
     "name": "stderr",
     "output_type": "stream",
     "text": [
      "C:\\Users\\Dani\\AppData\\Local\\Programs\\Python\\Python310\\lib\\site-packages\\statsmodels\\tsa\\holtwinters\\model.py:915: ConvergenceWarning: Optimization failed to converge. Check mle_retvals.\n",
      "  warnings.warn(\n",
      "C:\\Users\\Dani\\AppData\\Local\\Programs\\Python\\Python310\\lib\\site-packages\\statsmodels\\tsa\\holtwinters\\model.py:915: ConvergenceWarning: Optimization failed to converge. Check mle_retvals.\n",
      "  warnings.warn(\n",
      "C:\\Users\\Dani\\AppData\\Local\\Programs\\Python\\Python310\\lib\\site-packages\\statsmodels\\tsa\\holtwinters\\model.py:915: ConvergenceWarning: Optimization failed to converge. Check mle_retvals.\n",
      "  warnings.warn(\n",
      "C:\\Users\\Dani\\AppData\\Local\\Programs\\Python\\Python310\\lib\\site-packages\\statsmodels\\tsa\\holtwinters\\model.py:915: ConvergenceWarning: Optimization failed to converge. Check mle_retvals.\n",
      "  warnings.warn(\n",
      "C:\\Users\\Dani\\AppData\\Local\\Programs\\Python\\Python310\\lib\\site-packages\\statsmodels\\tsa\\holtwinters\\model.py:915: ConvergenceWarning: Optimization failed to converge. Check mle_retvals.\n",
      "  warnings.warn(\n"
     ]
    },
    {
     "name": "stdout",
     "output_type": "stream",
     "text": [
      "Tesztelve 5 különböző tanulási/tesztelési adatszetten - 1 napos predikció\n",
      "RMSE: 20.7394\n",
      "MSE: 952.7438\n",
      "MAE: 20.7394\n",
      "MAPE: 1.3237%\n",
      "RMSE: 20.73938880719188, MSE: 952.7438055351271, MAE: 20.73938880719188, MAPE: 0.013237216947491554\n",
      "Best RMSE so far: 20.73938880719188\n",
      "add add False heuristic\n"
     ]
    },
    {
     "name": "stderr",
     "output_type": "stream",
     "text": [
      "C:\\Users\\Dani\\AppData\\Local\\Programs\\Python\\Python310\\lib\\site-packages\\statsmodels\\tsa\\holtwinters\\model.py:915: ConvergenceWarning: Optimization failed to converge. Check mle_retvals.\n",
      "  warnings.warn(\n",
      "C:\\Users\\Dani\\AppData\\Local\\Programs\\Python\\Python310\\lib\\site-packages\\statsmodels\\tsa\\holtwinters\\model.py:915: ConvergenceWarning: Optimization failed to converge. Check mle_retvals.\n",
      "  warnings.warn(\n",
      "C:\\Users\\Dani\\AppData\\Local\\Programs\\Python\\Python310\\lib\\site-packages\\statsmodels\\tsa\\holtwinters\\model.py:915: ConvergenceWarning: Optimization failed to converge. Check mle_retvals.\n",
      "  warnings.warn(\n",
      "C:\\Users\\Dani\\AppData\\Local\\Programs\\Python\\Python310\\lib\\site-packages\\statsmodels\\tsa\\holtwinters\\model.py:915: ConvergenceWarning: Optimization failed to converge. Check mle_retvals.\n",
      "  warnings.warn(\n",
      "C:\\Users\\Dani\\AppData\\Local\\Programs\\Python\\Python310\\lib\\site-packages\\statsmodels\\tsa\\holtwinters\\model.py:915: ConvergenceWarning: Optimization failed to converge. Check mle_retvals.\n",
      "  warnings.warn(\n"
     ]
    },
    {
     "name": "stdout",
     "output_type": "stream",
     "text": [
      "Tesztelve 5 különböző tanulási/tesztelési adatszetten - 1 napos predikció\n",
      "RMSE: 20.7394\n",
      "MSE: 952.7438\n",
      "MAE: 20.7394\n",
      "MAPE: 1.3237%\n",
      "RMSE: 20.73938880719188, MSE: 952.7438055351271, MAE: 20.73938880719188, MAPE: 0.013237216947491554\n",
      "add add False legacy-heuristic\n"
     ]
    },
    {
     "name": "stderr",
     "output_type": "stream",
     "text": [
      "C:\\Users\\Dani\\AppData\\Local\\Programs\\Python\\Python310\\lib\\site-packages\\statsmodels\\tsa\\holtwinters\\model.py:915: ConvergenceWarning: Optimization failed to converge. Check mle_retvals.\n",
      "  warnings.warn(\n",
      "C:\\Users\\Dani\\AppData\\Local\\Programs\\Python\\Python310\\lib\\site-packages\\statsmodels\\tsa\\holtwinters\\model.py:915: ConvergenceWarning: Optimization failed to converge. Check mle_retvals.\n",
      "  warnings.warn(\n",
      "C:\\Users\\Dani\\AppData\\Local\\Programs\\Python\\Python310\\lib\\site-packages\\statsmodels\\tsa\\holtwinters\\model.py:915: ConvergenceWarning: Optimization failed to converge. Check mle_retvals.\n",
      "  warnings.warn(\n",
      "C:\\Users\\Dani\\AppData\\Local\\Programs\\Python\\Python310\\lib\\site-packages\\statsmodels\\tsa\\holtwinters\\model.py:915: ConvergenceWarning: Optimization failed to converge. Check mle_retvals.\n",
      "  warnings.warn(\n",
      "C:\\Users\\Dani\\AppData\\Local\\Programs\\Python\\Python310\\lib\\site-packages\\statsmodels\\tsa\\holtwinters\\model.py:915: ConvergenceWarning: Optimization failed to converge. Check mle_retvals.\n",
      "  warnings.warn(\n"
     ]
    },
    {
     "name": "stdout",
     "output_type": "stream",
     "text": [
      "Tesztelve 5 különböző tanulási/tesztelési adatszetten - 1 napos predikció\n",
      "RMSE: 23.7242\n",
      "MSE: 987.704\n",
      "MAE: 23.7242\n",
      "MAPE: 1.5147%\n",
      "RMSE: 23.72421817825825, MSE: 987.7040172344638, MAE: 23.72421817825825, MAPE: 0.015146578182220104\n",
      "add mul True estimated\n"
     ]
    },
    {
     "name": "stderr",
     "output_type": "stream",
     "text": [
      "C:\\Users\\Dani\\AppData\\Local\\Programs\\Python\\Python310\\lib\\site-packages\\statsmodels\\tsa\\holtwinters\\model.py:915: ConvergenceWarning: Optimization failed to converge. Check mle_retvals.\n",
      "  warnings.warn(\n",
      "C:\\Users\\Dani\\AppData\\Local\\Programs\\Python\\Python310\\lib\\site-packages\\statsmodels\\tsa\\holtwinters\\model.py:915: ConvergenceWarning: Optimization failed to converge. Check mle_retvals.\n",
      "  warnings.warn(\n",
      "C:\\Users\\Dani\\AppData\\Local\\Programs\\Python\\Python310\\lib\\site-packages\\statsmodels\\tsa\\holtwinters\\model.py:915: ConvergenceWarning: Optimization failed to converge. Check mle_retvals.\n",
      "  warnings.warn(\n",
      "C:\\Users\\Dani\\AppData\\Local\\Programs\\Python\\Python310\\lib\\site-packages\\statsmodels\\tsa\\holtwinters\\model.py:915: ConvergenceWarning: Optimization failed to converge. Check mle_retvals.\n",
      "  warnings.warn(\n",
      "C:\\Users\\Dani\\AppData\\Local\\Programs\\Python\\Python310\\lib\\site-packages\\statsmodels\\tsa\\holtwinters\\model.py:915: ConvergenceWarning: Optimization failed to converge. Check mle_retvals.\n",
      "  warnings.warn(\n"
     ]
    },
    {
     "name": "stdout",
     "output_type": "stream",
     "text": [
      "Tesztelve 5 különböző tanulási/tesztelési adatszetten - 1 napos predikció\n",
      "RMSE: 23.6415\n",
      "MSE: 1129.0594\n",
      "MAE: 23.6415\n",
      "MAPE: 1.5087%\n",
      "RMSE: 23.641477585274288, MSE: 1129.0593583185275, MAE: 23.641477585274288, MAPE: 0.015087153584225752\n",
      "add mul True heuristic\n"
     ]
    },
    {
     "name": "stderr",
     "output_type": "stream",
     "text": [
      "C:\\Users\\Dani\\AppData\\Local\\Programs\\Python\\Python310\\lib\\site-packages\\statsmodels\\tsa\\holtwinters\\model.py:915: ConvergenceWarning: Optimization failed to converge. Check mle_retvals.\n",
      "  warnings.warn(\n",
      "C:\\Users\\Dani\\AppData\\Local\\Programs\\Python\\Python310\\lib\\site-packages\\statsmodels\\tsa\\holtwinters\\model.py:915: ConvergenceWarning: Optimization failed to converge. Check mle_retvals.\n",
      "  warnings.warn(\n",
      "C:\\Users\\Dani\\AppData\\Local\\Programs\\Python\\Python310\\lib\\site-packages\\statsmodels\\tsa\\holtwinters\\model.py:915: ConvergenceWarning: Optimization failed to converge. Check mle_retvals.\n",
      "  warnings.warn(\n",
      "C:\\Users\\Dani\\AppData\\Local\\Programs\\Python\\Python310\\lib\\site-packages\\statsmodels\\tsa\\holtwinters\\model.py:915: ConvergenceWarning: Optimization failed to converge. Check mle_retvals.\n",
      "  warnings.warn(\n",
      "C:\\Users\\Dani\\AppData\\Local\\Programs\\Python\\Python310\\lib\\site-packages\\statsmodels\\tsa\\holtwinters\\model.py:915: ConvergenceWarning: Optimization failed to converge. Check mle_retvals.\n",
      "  warnings.warn(\n"
     ]
    },
    {
     "name": "stdout",
     "output_type": "stream",
     "text": [
      "Tesztelve 5 különböző tanulási/tesztelési adatszetten - 1 napos predikció\n",
      "RMSE: 23.6415\n",
      "MSE: 1129.0594\n",
      "MAE: 23.6415\n",
      "MAPE: 1.5087%\n",
      "RMSE: 23.641477585274288, MSE: 1129.0593583185275, MAE: 23.641477585274288, MAPE: 0.015087153584225752\n",
      "add mul True legacy-heuristic\n"
     ]
    },
    {
     "name": "stderr",
     "output_type": "stream",
     "text": [
      "C:\\Users\\Dani\\AppData\\Local\\Programs\\Python\\Python310\\lib\\site-packages\\statsmodels\\tsa\\holtwinters\\model.py:915: ConvergenceWarning: Optimization failed to converge. Check mle_retvals.\n",
      "  warnings.warn(\n",
      "C:\\Users\\Dani\\AppData\\Local\\Programs\\Python\\Python310\\lib\\site-packages\\statsmodels\\tsa\\holtwinters\\model.py:915: ConvergenceWarning: Optimization failed to converge. Check mle_retvals.\n",
      "  warnings.warn(\n",
      "C:\\Users\\Dani\\AppData\\Local\\Programs\\Python\\Python310\\lib\\site-packages\\statsmodels\\tsa\\holtwinters\\model.py:915: ConvergenceWarning: Optimization failed to converge. Check mle_retvals.\n",
      "  warnings.warn(\n",
      "C:\\Users\\Dani\\AppData\\Local\\Programs\\Python\\Python310\\lib\\site-packages\\statsmodels\\tsa\\holtwinters\\model.py:915: ConvergenceWarning: Optimization failed to converge. Check mle_retvals.\n",
      "  warnings.warn(\n",
      "C:\\Users\\Dani\\AppData\\Local\\Programs\\Python\\Python310\\lib\\site-packages\\statsmodels\\tsa\\holtwinters\\model.py:915: ConvergenceWarning: Optimization failed to converge. Check mle_retvals.\n",
      "  warnings.warn(\n"
     ]
    },
    {
     "name": "stdout",
     "output_type": "stream",
     "text": [
      "Tesztelve 5 különböző tanulási/tesztelési adatszetten - 1 napos predikció\n",
      "RMSE: 27.0649\n",
      "MSE: 988.0237\n",
      "MAE: 27.0649\n",
      "MAPE: 1.7282%\n",
      "RMSE: 27.06486551755579, MSE: 988.0236915031835, MAE: 27.06486551755579, MAPE: 0.01728171362125089\n",
      "add mul False estimated\n"
     ]
    },
    {
     "name": "stderr",
     "output_type": "stream",
     "text": [
      "C:\\Users\\Dani\\AppData\\Local\\Programs\\Python\\Python310\\lib\\site-packages\\statsmodels\\tsa\\holtwinters\\model.py:915: ConvergenceWarning: Optimization failed to converge. Check mle_retvals.\n",
      "  warnings.warn(\n",
      "C:\\Users\\Dani\\AppData\\Local\\Programs\\Python\\Python310\\lib\\site-packages\\statsmodels\\tsa\\holtwinters\\model.py:915: ConvergenceWarning: Optimization failed to converge. Check mle_retvals.\n",
      "  warnings.warn(\n",
      "C:\\Users\\Dani\\AppData\\Local\\Programs\\Python\\Python310\\lib\\site-packages\\statsmodels\\tsa\\holtwinters\\model.py:915: ConvergenceWarning: Optimization failed to converge. Check mle_retvals.\n",
      "  warnings.warn(\n",
      "C:\\Users\\Dani\\AppData\\Local\\Programs\\Python\\Python310\\lib\\site-packages\\statsmodels\\tsa\\holtwinters\\model.py:915: ConvergenceWarning: Optimization failed to converge. Check mle_retvals.\n",
      "  warnings.warn(\n",
      "C:\\Users\\Dani\\AppData\\Local\\Programs\\Python\\Python310\\lib\\site-packages\\statsmodels\\tsa\\holtwinters\\model.py:915: ConvergenceWarning: Optimization failed to converge. Check mle_retvals.\n",
      "  warnings.warn(\n"
     ]
    },
    {
     "name": "stdout",
     "output_type": "stream",
     "text": [
      "Tesztelve 5 különböző tanulási/tesztelési adatszetten - 1 napos predikció\n",
      "RMSE: 23.8509\n",
      "MSE: 1104.7559\n",
      "MAE: 23.8509\n",
      "MAPE: 1.5222%\n",
      "RMSE: 23.850896605107256, MSE: 1104.7559218071606, MAE: 23.850896605107256, MAPE: 0.015221836055049284\n",
      "add mul False heuristic\n"
     ]
    },
    {
     "name": "stderr",
     "output_type": "stream",
     "text": [
      "C:\\Users\\Dani\\AppData\\Local\\Programs\\Python\\Python310\\lib\\site-packages\\statsmodels\\tsa\\holtwinters\\model.py:915: ConvergenceWarning: Optimization failed to converge. Check mle_retvals.\n",
      "  warnings.warn(\n",
      "C:\\Users\\Dani\\AppData\\Local\\Programs\\Python\\Python310\\lib\\site-packages\\statsmodels\\tsa\\holtwinters\\model.py:915: ConvergenceWarning: Optimization failed to converge. Check mle_retvals.\n",
      "  warnings.warn(\n",
      "C:\\Users\\Dani\\AppData\\Local\\Programs\\Python\\Python310\\lib\\site-packages\\statsmodels\\tsa\\holtwinters\\model.py:915: ConvergenceWarning: Optimization failed to converge. Check mle_retvals.\n",
      "  warnings.warn(\n",
      "C:\\Users\\Dani\\AppData\\Local\\Programs\\Python\\Python310\\lib\\site-packages\\statsmodels\\tsa\\holtwinters\\model.py:915: ConvergenceWarning: Optimization failed to converge. Check mle_retvals.\n",
      "  warnings.warn(\n",
      "C:\\Users\\Dani\\AppData\\Local\\Programs\\Python\\Python310\\lib\\site-packages\\statsmodels\\tsa\\holtwinters\\model.py:915: ConvergenceWarning: Optimization failed to converge. Check mle_retvals.\n",
      "  warnings.warn(\n"
     ]
    },
    {
     "name": "stdout",
     "output_type": "stream",
     "text": [
      "Tesztelve 5 különböző tanulási/tesztelési adatszetten - 1 napos predikció\n",
      "RMSE: 23.8509\n",
      "MSE: 1104.7559\n",
      "MAE: 23.8509\n",
      "MAPE: 1.5222%\n",
      "RMSE: 23.850896605107256, MSE: 1104.7559218071606, MAE: 23.850896605107256, MAPE: 0.015221836055049284\n",
      "add mul False legacy-heuristic\n"
     ]
    },
    {
     "name": "stderr",
     "output_type": "stream",
     "text": [
      "C:\\Users\\Dani\\AppData\\Local\\Programs\\Python\\Python310\\lib\\site-packages\\statsmodels\\tsa\\holtwinters\\model.py:915: ConvergenceWarning: Optimization failed to converge. Check mle_retvals.\n",
      "  warnings.warn(\n",
      "C:\\Users\\Dani\\AppData\\Local\\Programs\\Python\\Python310\\lib\\site-packages\\statsmodels\\tsa\\holtwinters\\model.py:915: ConvergenceWarning: Optimization failed to converge. Check mle_retvals.\n",
      "  warnings.warn(\n",
      "C:\\Users\\Dani\\AppData\\Local\\Programs\\Python\\Python310\\lib\\site-packages\\statsmodels\\tsa\\holtwinters\\model.py:915: ConvergenceWarning: Optimization failed to converge. Check mle_retvals.\n",
      "  warnings.warn(\n",
      "C:\\Users\\Dani\\AppData\\Local\\Programs\\Python\\Python310\\lib\\site-packages\\statsmodels\\tsa\\holtwinters\\model.py:915: ConvergenceWarning: Optimization failed to converge. Check mle_retvals.\n",
      "  warnings.warn(\n",
      "C:\\Users\\Dani\\AppData\\Local\\Programs\\Python\\Python310\\lib\\site-packages\\statsmodels\\tsa\\holtwinters\\model.py:915: ConvergenceWarning: Optimization failed to converge. Check mle_retvals.\n",
      "  warnings.warn(\n"
     ]
    },
    {
     "name": "stdout",
     "output_type": "stream",
     "text": [
      "Tesztelve 5 különböző tanulási/tesztelési adatszetten - 1 napos predikció\n",
      "RMSE: 23.8446\n",
      "MSE: 1200.0776\n",
      "MAE: 23.8446\n",
      "MAPE: 1.5213%\n",
      "RMSE: 23.84455929707019, MSE: 1200.0775912992808, MAE: 23.84455929707019, MAPE: 0.015212981552975449\n",
      "add None True estimated\n",
      "Tesztelve 5 különböző tanulási/tesztelési adatszetten - 1 napos predikció\n",
      "RMSE: 18.9118\n",
      "MSE: 1311.4001\n",
      "MAE: 18.9118\n",
      "MAPE: 1.2054%\n",
      "RMSE: 18.911799663606054, MSE: 1311.4000841656136, MAE: 18.911799663606054, MAPE: 0.012054164036950909\n",
      "Best RMSE so far: 18.911799663606054\n",
      "add None True heuristic\n",
      "Tesztelve 5 különböző tanulási/tesztelési adatszetten - 1 napos predikció\n",
      "RMSE: 18.9118\n",
      "MSE: 1311.4001\n",
      "MAE: 18.9118\n",
      "MAPE: 1.2054%\n",
      "RMSE: 18.911799663606054, MSE: 1311.4000841656136, MAE: 18.911799663606054, MAPE: 0.012054164036950909\n",
      "add None True legacy-heuristic\n",
      "Tesztelve 5 különböző tanulási/tesztelési adatszetten - 1 napos predikció\n",
      "RMSE: 18.9102\n",
      "MSE: 1311.3179\n",
      "MAE: 18.9102\n",
      "MAPE: 1.2053%\n",
      "RMSE: 18.91020904296274, MSE: 1311.317922852882, MAE: 18.91020904296274, MAPE: 0.012053150113611955\n",
      "Best RMSE so far: 18.91020904296274\n",
      "add None False estimated\n",
      "Tesztelve 5 különböző tanulási/tesztelési adatszetten - 1 napos predikció\n",
      "RMSE: 19.5853\n",
      "MSE: 1319.1568\n",
      "MAE: 19.5853\n",
      "MAPE: 1.2486%\n",
      "RMSE: 19.585332505192902, MSE: 1319.1567780497867, MAE: 19.585332505192902, MAPE: 0.012485561398101603\n",
      "add None False heuristic\n",
      "Tesztelve 5 különböző tanulási/tesztelési adatszetten - 1 napos predikció\n",
      "RMSE: 19.5853\n",
      "MSE: 1319.1568\n",
      "MAE: 19.5853\n",
      "MAPE: 1.2486%\n",
      "RMSE: 19.585332505192902, MSE: 1319.1567780497867, MAE: 19.585332505192902, MAPE: 0.012485561398101603\n",
      "add None False legacy-heuristic\n",
      "Tesztelve 5 különböző tanulási/tesztelési adatszetten - 1 napos predikció\n",
      "RMSE: 19.5832\n",
      "MSE: 1319.0747\n",
      "MAE: 19.5832\n",
      "MAPE: 1.2484%\n",
      "RMSE: 19.58320254484429, MSE: 1319.074741102923, MAE: 19.58320254484429, MAPE: 0.012484202465163987\n",
      "mul add True estimated\n"
     ]
    },
    {
     "name": "stderr",
     "output_type": "stream",
     "text": [
      "C:\\Users\\Dani\\AppData\\Local\\Programs\\Python\\Python310\\lib\\site-packages\\statsmodels\\tsa\\holtwinters\\model.py:915: ConvergenceWarning: Optimization failed to converge. Check mle_retvals.\n",
      "  warnings.warn(\n",
      "C:\\Users\\Dani\\AppData\\Local\\Programs\\Python\\Python310\\lib\\site-packages\\statsmodels\\tsa\\holtwinters\\model.py:915: ConvergenceWarning: Optimization failed to converge. Check mle_retvals.\n",
      "  warnings.warn(\n",
      "C:\\Users\\Dani\\AppData\\Local\\Programs\\Python\\Python310\\lib\\site-packages\\statsmodels\\tsa\\holtwinters\\model.py:915: ConvergenceWarning: Optimization failed to converge. Check mle_retvals.\n",
      "  warnings.warn(\n",
      "C:\\Users\\Dani\\AppData\\Local\\Programs\\Python\\Python310\\lib\\site-packages\\statsmodels\\tsa\\holtwinters\\model.py:915: ConvergenceWarning: Optimization failed to converge. Check mle_retvals.\n",
      "  warnings.warn(\n",
      "C:\\Users\\Dani\\AppData\\Local\\Programs\\Python\\Python310\\lib\\site-packages\\statsmodels\\tsa\\holtwinters\\model.py:83: RuntimeWarning: overflow encountered in matmul\n",
      "  return err.T @ err\n",
      "C:\\Users\\Dani\\AppData\\Local\\Programs\\Python\\Python310\\lib\\site-packages\\statsmodels\\tsa\\holtwinters\\model.py:915: ConvergenceWarning: Optimization failed to converge. Check mle_retvals.\n",
      "  warnings.warn(\n"
     ]
    },
    {
     "name": "stdout",
     "output_type": "stream",
     "text": [
      "Tesztelve 5 különböző tanulási/tesztelési adatszetten - 1 napos predikció\n",
      "RMSE: 23.8953\n",
      "MSE: 919.5692\n",
      "MAE: 23.8953\n",
      "MAPE: 1.5259%\n",
      "RMSE: 23.895284481971792, MSE: 919.5691550729205, MAE: 23.895284481971792, MAPE: 0.01525932243885505\n",
      "mul add True heuristic\n"
     ]
    },
    {
     "name": "stderr",
     "output_type": "stream",
     "text": [
      "C:\\Users\\Dani\\AppData\\Local\\Programs\\Python\\Python310\\lib\\site-packages\\statsmodels\\tsa\\holtwinters\\model.py:915: ConvergenceWarning: Optimization failed to converge. Check mle_retvals.\n",
      "  warnings.warn(\n",
      "C:\\Users\\Dani\\AppData\\Local\\Programs\\Python\\Python310\\lib\\site-packages\\statsmodels\\tsa\\holtwinters\\model.py:915: ConvergenceWarning: Optimization failed to converge. Check mle_retvals.\n",
      "  warnings.warn(\n",
      "C:\\Users\\Dani\\AppData\\Local\\Programs\\Python\\Python310\\lib\\site-packages\\statsmodels\\tsa\\holtwinters\\model.py:915: ConvergenceWarning: Optimization failed to converge. Check mle_retvals.\n",
      "  warnings.warn(\n",
      "C:\\Users\\Dani\\AppData\\Local\\Programs\\Python\\Python310\\lib\\site-packages\\statsmodels\\tsa\\holtwinters\\model.py:915: ConvergenceWarning: Optimization failed to converge. Check mle_retvals.\n",
      "  warnings.warn(\n",
      "C:\\Users\\Dani\\AppData\\Local\\Programs\\Python\\Python310\\lib\\site-packages\\statsmodels\\tsa\\holtwinters\\model.py:83: RuntimeWarning: overflow encountered in matmul\n",
      "  return err.T @ err\n",
      "C:\\Users\\Dani\\AppData\\Local\\Programs\\Python\\Python310\\lib\\site-packages\\statsmodels\\tsa\\holtwinters\\model.py:915: ConvergenceWarning: Optimization failed to converge. Check mle_retvals.\n",
      "  warnings.warn(\n"
     ]
    },
    {
     "name": "stdout",
     "output_type": "stream",
     "text": [
      "Tesztelve 5 különböző tanulási/tesztelési adatszetten - 1 napos predikció\n",
      "RMSE: 23.8953\n",
      "MSE: 919.5692\n",
      "MAE: 23.8953\n",
      "MAPE: 1.5259%\n",
      "RMSE: 23.895284481971792, MSE: 919.5691550729205, MAE: 23.895284481971792, MAPE: 0.01525932243885505\n",
      "mul add True legacy-heuristic\n"
     ]
    },
    {
     "name": "stderr",
     "output_type": "stream",
     "text": [
      "C:\\Users\\Dani\\AppData\\Local\\Programs\\Python\\Python310\\lib\\site-packages\\statsmodels\\tsa\\holtwinters\\model.py:915: ConvergenceWarning: Optimization failed to converge. Check mle_retvals.\n",
      "  warnings.warn(\n",
      "C:\\Users\\Dani\\AppData\\Local\\Programs\\Python\\Python310\\lib\\site-packages\\statsmodels\\tsa\\holtwinters\\model.py:915: ConvergenceWarning: Optimization failed to converge. Check mle_retvals.\n",
      "  warnings.warn(\n",
      "C:\\Users\\Dani\\AppData\\Local\\Programs\\Python\\Python310\\lib\\site-packages\\statsmodels\\tsa\\holtwinters\\model.py:915: ConvergenceWarning: Optimization failed to converge. Check mle_retvals.\n",
      "  warnings.warn(\n",
      "C:\\Users\\Dani\\AppData\\Local\\Programs\\Python\\Python310\\lib\\site-packages\\statsmodels\\tsa\\holtwinters\\model.py:915: ConvergenceWarning: Optimization failed to converge. Check mle_retvals.\n",
      "  warnings.warn(\n",
      "C:\\Users\\Dani\\AppData\\Local\\Programs\\Python\\Python310\\lib\\site-packages\\statsmodels\\tsa\\holtwinters\\model.py:915: ConvergenceWarning: Optimization failed to converge. Check mle_retvals.\n",
      "  warnings.warn(\n"
     ]
    },
    {
     "name": "stdout",
     "output_type": "stream",
     "text": [
      "Tesztelve 5 különböző tanulási/tesztelési adatszetten - 1 napos predikció\n",
      "RMSE: 20.7397\n",
      "MSE: 1017.4906\n",
      "MAE: 20.7397\n",
      "MAPE: 1.3237%\n",
      "RMSE: 20.73974598052996, MSE: 1017.4905931308218, MAE: 20.73974598052996, MAPE: 0.013236815843530226\n",
      "mul add False estimated\n"
     ]
    },
    {
     "name": "stderr",
     "output_type": "stream",
     "text": [
      "C:\\Users\\Dani\\AppData\\Local\\Programs\\Python\\Python310\\lib\\site-packages\\statsmodels\\tsa\\holtwinters\\model.py:915: ConvergenceWarning: Optimization failed to converge. Check mle_retvals.\n",
      "  warnings.warn(\n",
      "C:\\Users\\Dani\\AppData\\Local\\Programs\\Python\\Python310\\lib\\site-packages\\statsmodels\\tsa\\holtwinters\\model.py:915: ConvergenceWarning: Optimization failed to converge. Check mle_retvals.\n",
      "  warnings.warn(\n",
      "C:\\Users\\Dani\\AppData\\Local\\Programs\\Python\\Python310\\lib\\site-packages\\statsmodels\\tsa\\holtwinters\\model.py:915: ConvergenceWarning: Optimization failed to converge. Check mle_retvals.\n",
      "  warnings.warn(\n",
      "C:\\Users\\Dani\\AppData\\Local\\Programs\\Python\\Python310\\lib\\site-packages\\statsmodels\\tsa\\holtwinters\\model.py:915: ConvergenceWarning: Optimization failed to converge. Check mle_retvals.\n",
      "  warnings.warn(\n",
      "C:\\Users\\Dani\\AppData\\Local\\Programs\\Python\\Python310\\lib\\site-packages\\statsmodels\\tsa\\holtwinters\\model.py:915: ConvergenceWarning: Optimization failed to converge. Check mle_retvals.\n",
      "  warnings.warn(\n"
     ]
    },
    {
     "name": "stdout",
     "output_type": "stream",
     "text": [
      "Tesztelve 5 különböző tanulási/tesztelési adatszetten - 1 napos predikció\n",
      "RMSE: 20.3528\n",
      "MSE: 976.303\n",
      "MAE: 20.3528\n",
      "MAPE: 1.2989%\n",
      "RMSE: 20.35280824746501, MSE: 976.3029858769698, MAE: 20.35280824746501, MAPE: 0.01298898787952445\n",
      "mul add False heuristic\n"
     ]
    },
    {
     "name": "stderr",
     "output_type": "stream",
     "text": [
      "C:\\Users\\Dani\\AppData\\Local\\Programs\\Python\\Python310\\lib\\site-packages\\statsmodels\\tsa\\holtwinters\\model.py:915: ConvergenceWarning: Optimization failed to converge. Check mle_retvals.\n",
      "  warnings.warn(\n",
      "C:\\Users\\Dani\\AppData\\Local\\Programs\\Python\\Python310\\lib\\site-packages\\statsmodels\\tsa\\holtwinters\\model.py:915: ConvergenceWarning: Optimization failed to converge. Check mle_retvals.\n",
      "  warnings.warn(\n",
      "C:\\Users\\Dani\\AppData\\Local\\Programs\\Python\\Python310\\lib\\site-packages\\statsmodels\\tsa\\holtwinters\\model.py:915: ConvergenceWarning: Optimization failed to converge. Check mle_retvals.\n",
      "  warnings.warn(\n",
      "C:\\Users\\Dani\\AppData\\Local\\Programs\\Python\\Python310\\lib\\site-packages\\statsmodels\\tsa\\holtwinters\\model.py:915: ConvergenceWarning: Optimization failed to converge. Check mle_retvals.\n",
      "  warnings.warn(\n",
      "C:\\Users\\Dani\\AppData\\Local\\Programs\\Python\\Python310\\lib\\site-packages\\statsmodels\\tsa\\holtwinters\\model.py:915: ConvergenceWarning: Optimization failed to converge. Check mle_retvals.\n",
      "  warnings.warn(\n"
     ]
    },
    {
     "name": "stdout",
     "output_type": "stream",
     "text": [
      "Tesztelve 5 különböző tanulási/tesztelési adatszetten - 1 napos predikció\n",
      "RMSE: 20.3528\n",
      "MSE: 976.303\n",
      "MAE: 20.3528\n",
      "MAPE: 1.2989%\n",
      "RMSE: 20.35280824746501, MSE: 976.3029858769698, MAE: 20.35280824746501, MAPE: 0.01298898787952445\n",
      "mul add False legacy-heuristic\n"
     ]
    },
    {
     "name": "stderr",
     "output_type": "stream",
     "text": [
      "C:\\Users\\Dani\\AppData\\Local\\Programs\\Python\\Python310\\lib\\site-packages\\statsmodels\\tsa\\holtwinters\\model.py:83: RuntimeWarning: overflow encountered in matmul\n",
      "  return err.T @ err\n",
      "C:\\Users\\Dani\\AppData\\Local\\Programs\\Python\\Python310\\lib\\site-packages\\statsmodels\\tsa\\holtwinters\\model.py:915: ConvergenceWarning: Optimization failed to converge. Check mle_retvals.\n",
      "  warnings.warn(\n",
      "C:\\Users\\Dani\\AppData\\Local\\Programs\\Python\\Python310\\lib\\site-packages\\statsmodels\\tsa\\holtwinters\\model.py:83: RuntimeWarning: overflow encountered in matmul\n",
      "  return err.T @ err\n",
      "C:\\Users\\Dani\\AppData\\Local\\Programs\\Python\\Python310\\lib\\site-packages\\statsmodels\\tsa\\holtwinters\\model.py:915: ConvergenceWarning: Optimization failed to converge. Check mle_retvals.\n",
      "  warnings.warn(\n",
      "C:\\Users\\Dani\\AppData\\Local\\Programs\\Python\\Python310\\lib\\site-packages\\statsmodels\\tsa\\holtwinters\\model.py:83: RuntimeWarning: overflow encountered in matmul\n",
      "  return err.T @ err\n",
      "C:\\Users\\Dani\\AppData\\Local\\Programs\\Python\\Python310\\lib\\site-packages\\statsmodels\\tsa\\holtwinters\\model.py:915: ConvergenceWarning: Optimization failed to converge. Check mle_retvals.\n",
      "  warnings.warn(\n",
      "C:\\Users\\Dani\\AppData\\Local\\Programs\\Python\\Python310\\lib\\site-packages\\statsmodels\\tsa\\holtwinters\\model.py:83: RuntimeWarning: overflow encountered in matmul\n",
      "  return err.T @ err\n",
      "C:\\Users\\Dani\\AppData\\Local\\Programs\\Python\\Python310\\lib\\site-packages\\statsmodels\\tsa\\holtwinters\\model.py:915: ConvergenceWarning: Optimization failed to converge. Check mle_retvals.\n",
      "  warnings.warn(\n",
      "C:\\Users\\Dani\\AppData\\Local\\Programs\\Python\\Python310\\lib\\site-packages\\statsmodels\\tsa\\holtwinters\\model.py:83: RuntimeWarning: overflow encountered in matmul\n",
      "  return err.T @ err\n",
      "C:\\Users\\Dani\\AppData\\Local\\Programs\\Python\\Python310\\lib\\site-packages\\statsmodels\\tsa\\holtwinters\\model.py:915: ConvergenceWarning: Optimization failed to converge. Check mle_retvals.\n",
      "  warnings.warn(\n"
     ]
    },
    {
     "name": "stdout",
     "output_type": "stream",
     "text": [
      "Tesztelve 5 különböző tanulási/tesztelési adatszetten - 1 napos predikció\n",
      "RMSE: 20.2564\n",
      "MSE: 991.9934\n",
      "MAE: 20.2564\n",
      "MAPE: 1.2927%\n",
      "RMSE: 20.25635637012224, MSE: 991.9934255705184, MAE: 20.25635637012224, MAPE: 0.012926898009636204\n",
      "mul mul True estimated\n"
     ]
    },
    {
     "name": "stderr",
     "output_type": "stream",
     "text": [
      "C:\\Users\\Dani\\AppData\\Local\\Programs\\Python\\Python310\\lib\\site-packages\\statsmodels\\tsa\\holtwinters\\model.py:915: ConvergenceWarning: Optimization failed to converge. Check mle_retvals.\n",
      "  warnings.warn(\n",
      "C:\\Users\\Dani\\AppData\\Local\\Programs\\Python\\Python310\\lib\\site-packages\\statsmodels\\tsa\\holtwinters\\model.py:915: ConvergenceWarning: Optimization failed to converge. Check mle_retvals.\n",
      "  warnings.warn(\n",
      "C:\\Users\\Dani\\AppData\\Local\\Programs\\Python\\Python310\\lib\\site-packages\\statsmodels\\tsa\\holtwinters\\model.py:83: RuntimeWarning: overflow encountered in matmul\n",
      "  return err.T @ err\n",
      "C:\\Users\\Dani\\AppData\\Local\\Programs\\Python\\Python310\\lib\\site-packages\\statsmodels\\tsa\\holtwinters\\model.py:915: ConvergenceWarning: Optimization failed to converge. Check mle_retvals.\n",
      "  warnings.warn(\n",
      "C:\\Users\\Dani\\AppData\\Local\\Programs\\Python\\Python310\\lib\\site-packages\\statsmodels\\tsa\\holtwinters\\model.py:915: ConvergenceWarning: Optimization failed to converge. Check mle_retvals.\n",
      "  warnings.warn(\n",
      "C:\\Users\\Dani\\AppData\\Local\\Programs\\Python\\Python310\\lib\\site-packages\\statsmodels\\tsa\\holtwinters\\model.py:915: ConvergenceWarning: Optimization failed to converge. Check mle_retvals.\n",
      "  warnings.warn(\n"
     ]
    },
    {
     "name": "stdout",
     "output_type": "stream",
     "text": [
      "Tesztelve 5 különböző tanulási/tesztelési adatszetten - 1 napos predikció\n",
      "RMSE: 23.7109\n",
      "MSE: 1126.7952\n",
      "MAE: 23.7109\n",
      "MAPE: 1.5131%\n",
      "RMSE: 23.71090022905323, MSE: 1126.79523930191, MAE: 23.71090022905323, MAPE: 0.015131456771110375\n",
      "mul mul True heuristic\n"
     ]
    },
    {
     "name": "stderr",
     "output_type": "stream",
     "text": [
      "C:\\Users\\Dani\\AppData\\Local\\Programs\\Python\\Python310\\lib\\site-packages\\statsmodels\\tsa\\holtwinters\\model.py:915: ConvergenceWarning: Optimization failed to converge. Check mle_retvals.\n",
      "  warnings.warn(\n",
      "C:\\Users\\Dani\\AppData\\Local\\Programs\\Python\\Python310\\lib\\site-packages\\statsmodels\\tsa\\holtwinters\\model.py:915: ConvergenceWarning: Optimization failed to converge. Check mle_retvals.\n",
      "  warnings.warn(\n",
      "C:\\Users\\Dani\\AppData\\Local\\Programs\\Python\\Python310\\lib\\site-packages\\statsmodels\\tsa\\holtwinters\\model.py:83: RuntimeWarning: overflow encountered in matmul\n",
      "  return err.T @ err\n",
      "C:\\Users\\Dani\\AppData\\Local\\Programs\\Python\\Python310\\lib\\site-packages\\statsmodels\\tsa\\holtwinters\\model.py:915: ConvergenceWarning: Optimization failed to converge. Check mle_retvals.\n",
      "  warnings.warn(\n",
      "C:\\Users\\Dani\\AppData\\Local\\Programs\\Python\\Python310\\lib\\site-packages\\statsmodels\\tsa\\holtwinters\\model.py:915: ConvergenceWarning: Optimization failed to converge. Check mle_retvals.\n",
      "  warnings.warn(\n",
      "C:\\Users\\Dani\\AppData\\Local\\Programs\\Python\\Python310\\lib\\site-packages\\statsmodels\\tsa\\holtwinters\\model.py:915: ConvergenceWarning: Optimization failed to converge. Check mle_retvals.\n",
      "  warnings.warn(\n"
     ]
    },
    {
     "name": "stdout",
     "output_type": "stream",
     "text": [
      "Tesztelve 5 különböző tanulási/tesztelési adatszetten - 1 napos predikció\n",
      "RMSE: 23.7109\n",
      "MSE: 1126.7952\n",
      "MAE: 23.7109\n",
      "MAPE: 1.5131%\n",
      "RMSE: 23.71090022905323, MSE: 1126.79523930191, MAE: 23.71090022905323, MAPE: 0.015131456771110375\n",
      "mul mul True legacy-heuristic\n"
     ]
    },
    {
     "name": "stderr",
     "output_type": "stream",
     "text": [
      "C:\\Users\\Dani\\AppData\\Local\\Programs\\Python\\Python310\\lib\\site-packages\\statsmodels\\tsa\\holtwinters\\model.py:915: ConvergenceWarning: Optimization failed to converge. Check mle_retvals.\n",
      "  warnings.warn(\n",
      "C:\\Users\\Dani\\AppData\\Local\\Programs\\Python\\Python310\\lib\\site-packages\\statsmodels\\tsa\\holtwinters\\model.py:915: ConvergenceWarning: Optimization failed to converge. Check mle_retvals.\n",
      "  warnings.warn(\n",
      "C:\\Users\\Dani\\AppData\\Local\\Programs\\Python\\Python310\\lib\\site-packages\\statsmodels\\tsa\\holtwinters\\model.py:915: ConvergenceWarning: Optimization failed to converge. Check mle_retvals.\n",
      "  warnings.warn(\n",
      "C:\\Users\\Dani\\AppData\\Local\\Programs\\Python\\Python310\\lib\\site-packages\\statsmodels\\tsa\\holtwinters\\model.py:915: ConvergenceWarning: Optimization failed to converge. Check mle_retvals.\n",
      "  warnings.warn(\n",
      "C:\\Users\\Dani\\AppData\\Local\\Programs\\Python\\Python310\\lib\\site-packages\\statsmodels\\tsa\\holtwinters\\model.py:915: ConvergenceWarning: Optimization failed to converge. Check mle_retvals.\n",
      "  warnings.warn(\n"
     ]
    },
    {
     "name": "stdout",
     "output_type": "stream",
     "text": [
      "Tesztelve 5 különböző tanulási/tesztelési adatszetten - 1 napos predikció\n",
      "RMSE: 34.5409\n",
      "MSE: 1451.1456\n",
      "MAE: 34.5409\n",
      "MAPE: 2.2063%\n",
      "RMSE: 34.5408932646777, MSE: 1451.1455586088846, MAE: 34.5408932646777, MAPE: 0.022063251759325105\n",
      "mul mul False estimated\n"
     ]
    },
    {
     "name": "stderr",
     "output_type": "stream",
     "text": [
      "C:\\Users\\Dani\\AppData\\Local\\Programs\\Python\\Python310\\lib\\site-packages\\statsmodels\\tsa\\holtwinters\\model.py:83: RuntimeWarning: overflow encountered in matmul\n",
      "  return err.T @ err\n",
      "C:\\Users\\Dani\\AppData\\Local\\Programs\\Python\\Python310\\lib\\site-packages\\statsmodels\\tsa\\holtwinters\\model.py:915: ConvergenceWarning: Optimization failed to converge. Check mle_retvals.\n",
      "  warnings.warn(\n",
      "C:\\Users\\Dani\\AppData\\Local\\Programs\\Python\\Python310\\lib\\site-packages\\statsmodels\\tsa\\holtwinters\\model.py:83: RuntimeWarning: overflow encountered in matmul\n",
      "  return err.T @ err\n",
      "C:\\Users\\Dani\\AppData\\Local\\Programs\\Python\\Python310\\lib\\site-packages\\statsmodels\\tsa\\holtwinters\\model.py:915: ConvergenceWarning: Optimization failed to converge. Check mle_retvals.\n",
      "  warnings.warn(\n",
      "C:\\Users\\Dani\\AppData\\Local\\Programs\\Python\\Python310\\lib\\site-packages\\statsmodels\\tsa\\holtwinters\\model.py:83: RuntimeWarning: overflow encountered in matmul\n",
      "  return err.T @ err\n",
      "C:\\Users\\Dani\\AppData\\Local\\Programs\\Python\\Python310\\lib\\site-packages\\statsmodels\\tsa\\holtwinters\\model.py:915: ConvergenceWarning: Optimization failed to converge. Check mle_retvals.\n",
      "  warnings.warn(\n",
      "C:\\Users\\Dani\\AppData\\Local\\Programs\\Python\\Python310\\lib\\site-packages\\statsmodels\\tsa\\holtwinters\\model.py:915: ConvergenceWarning: Optimization failed to converge. Check mle_retvals.\n",
      "  warnings.warn(\n",
      "C:\\Users\\Dani\\AppData\\Local\\Programs\\Python\\Python310\\lib\\site-packages\\statsmodels\\tsa\\holtwinters\\model.py:83: RuntimeWarning: overflow encountered in matmul\n",
      "  return err.T @ err\n",
      "C:\\Users\\Dani\\AppData\\Local\\Programs\\Python\\Python310\\lib\\site-packages\\statsmodels\\tsa\\holtwinters\\model.py:915: ConvergenceWarning: Optimization failed to converge. Check mle_retvals.\n",
      "  warnings.warn(\n"
     ]
    },
    {
     "name": "stdout",
     "output_type": "stream",
     "text": [
      "Tesztelve 5 különböző tanulási/tesztelési adatszetten - 1 napos predikció\n",
      "RMSE: 23.4807\n",
      "MSE: 1119.2739\n",
      "MAE: 23.4807\n",
      "MAPE: 1.4984%\n",
      "RMSE: 23.48070941282931, MSE: 1119.2739051424098, MAE: 23.48070941282931, MAPE: 0.014983955558357734\n",
      "mul mul False heuristic\n"
     ]
    },
    {
     "name": "stderr",
     "output_type": "stream",
     "text": [
      "C:\\Users\\Dani\\AppData\\Local\\Programs\\Python\\Python310\\lib\\site-packages\\statsmodels\\tsa\\holtwinters\\model.py:83: RuntimeWarning: overflow encountered in matmul\n",
      "  return err.T @ err\n",
      "C:\\Users\\Dani\\AppData\\Local\\Programs\\Python\\Python310\\lib\\site-packages\\statsmodels\\tsa\\holtwinters\\model.py:915: ConvergenceWarning: Optimization failed to converge. Check mle_retvals.\n",
      "  warnings.warn(\n",
      "C:\\Users\\Dani\\AppData\\Local\\Programs\\Python\\Python310\\lib\\site-packages\\statsmodels\\tsa\\holtwinters\\model.py:83: RuntimeWarning: overflow encountered in matmul\n",
      "  return err.T @ err\n",
      "C:\\Users\\Dani\\AppData\\Local\\Programs\\Python\\Python310\\lib\\site-packages\\statsmodels\\tsa\\holtwinters\\model.py:915: ConvergenceWarning: Optimization failed to converge. Check mle_retvals.\n",
      "  warnings.warn(\n",
      "C:\\Users\\Dani\\AppData\\Local\\Programs\\Python\\Python310\\lib\\site-packages\\statsmodels\\tsa\\holtwinters\\model.py:83: RuntimeWarning: overflow encountered in matmul\n",
      "  return err.T @ err\n",
      "C:\\Users\\Dani\\AppData\\Local\\Programs\\Python\\Python310\\lib\\site-packages\\statsmodels\\tsa\\holtwinters\\model.py:915: ConvergenceWarning: Optimization failed to converge. Check mle_retvals.\n",
      "  warnings.warn(\n",
      "C:\\Users\\Dani\\AppData\\Local\\Programs\\Python\\Python310\\lib\\site-packages\\statsmodels\\tsa\\holtwinters\\model.py:915: ConvergenceWarning: Optimization failed to converge. Check mle_retvals.\n",
      "  warnings.warn(\n",
      "C:\\Users\\Dani\\AppData\\Local\\Programs\\Python\\Python310\\lib\\site-packages\\statsmodels\\tsa\\holtwinters\\model.py:83: RuntimeWarning: overflow encountered in matmul\n",
      "  return err.T @ err\n",
      "C:\\Users\\Dani\\AppData\\Local\\Programs\\Python\\Python310\\lib\\site-packages\\statsmodels\\tsa\\holtwinters\\model.py:915: ConvergenceWarning: Optimization failed to converge. Check mle_retvals.\n",
      "  warnings.warn(\n"
     ]
    },
    {
     "name": "stdout",
     "output_type": "stream",
     "text": [
      "Tesztelve 5 különböző tanulási/tesztelési adatszetten - 1 napos predikció\n",
      "RMSE: 23.4807\n",
      "MSE: 1119.2739\n",
      "MAE: 23.4807\n",
      "MAPE: 1.4984%\n",
      "RMSE: 23.48070941282931, MSE: 1119.2739051424098, MAE: 23.48070941282931, MAPE: 0.014983955558357734\n",
      "mul mul False legacy-heuristic\n"
     ]
    },
    {
     "name": "stderr",
     "output_type": "stream",
     "text": [
      "C:\\Users\\Dani\\AppData\\Local\\Programs\\Python\\Python310\\lib\\site-packages\\statsmodels\\tsa\\holtwinters\\model.py:83: RuntimeWarning: overflow encountered in matmul\n",
      "  return err.T @ err\n",
      "C:\\Users\\Dani\\AppData\\Local\\Programs\\Python\\Python310\\lib\\site-packages\\statsmodels\\tsa\\holtwinters\\model.py:915: ConvergenceWarning: Optimization failed to converge. Check mle_retvals.\n",
      "  warnings.warn(\n",
      "C:\\Users\\Dani\\AppData\\Local\\Programs\\Python\\Python310\\lib\\site-packages\\statsmodels\\tsa\\holtwinters\\model.py:83: RuntimeWarning: overflow encountered in matmul\n",
      "  return err.T @ err\n",
      "C:\\Users\\Dani\\AppData\\Local\\Programs\\Python\\Python310\\lib\\site-packages\\statsmodels\\tsa\\holtwinters\\model.py:915: ConvergenceWarning: Optimization failed to converge. Check mle_retvals.\n",
      "  warnings.warn(\n",
      "C:\\Users\\Dani\\AppData\\Local\\Programs\\Python\\Python310\\lib\\site-packages\\statsmodels\\tsa\\holtwinters\\model.py:915: ConvergenceWarning: Optimization failed to converge. Check mle_retvals.\n",
      "  warnings.warn(\n",
      "C:\\Users\\Dani\\AppData\\Local\\Programs\\Python\\Python310\\lib\\site-packages\\statsmodels\\tsa\\holtwinters\\model.py:915: ConvergenceWarning: Optimization failed to converge. Check mle_retvals.\n",
      "  warnings.warn(\n",
      "C:\\Users\\Dani\\AppData\\Local\\Programs\\Python\\Python310\\lib\\site-packages\\statsmodels\\tsa\\holtwinters\\model.py:915: ConvergenceWarning: Optimization failed to converge. Check mle_retvals.\n",
      "  warnings.warn(\n"
     ]
    },
    {
     "name": "stdout",
     "output_type": "stream",
     "text": [
      "Tesztelve 5 különböző tanulási/tesztelési adatszetten - 1 napos predikció\n",
      "RMSE: 21.7816\n",
      "MSE: 972.4351\n",
      "MAE: 21.7816\n",
      "MAPE: 1.3901%\n",
      "RMSE: 21.781638638843106, MSE: 972.4351263181346, MAE: 21.781638638843106, MAPE: 0.013900652596956959\n",
      "mul None True estimated\n",
      "Tesztelve 5 különböző tanulási/tesztelési adatszetten - 1 napos predikció\n",
      "RMSE: 18.9141\n",
      "MSE: 1313.9295\n",
      "MAE: 18.9141\n",
      "MAPE: 1.2056%\n",
      "RMSE: 18.914066997745522, MSE: 1313.9294551991297, MAE: 18.914066997745522, MAPE: 0.012055551412565419\n",
      "mul None True heuristic\n",
      "Tesztelve 5 különböző tanulási/tesztelési adatszetten - 1 napos predikció\n",
      "RMSE: 18.9141\n",
      "MSE: 1313.9295\n",
      "MAE: 18.9141\n",
      "MAPE: 1.2056%\n",
      "RMSE: 18.914066997745522, MSE: 1313.9294551991297, MAE: 18.914066997745522, MAPE: 0.012055551412565419\n",
      "mul None True legacy-heuristic\n",
      "Tesztelve 5 különböző tanulási/tesztelési adatszetten - 1 napos predikció\n",
      "RMSE: 18.9148\n",
      "MSE: 1313.9547\n",
      "MAE: 18.9148\n",
      "MAPE: 1.2056%\n",
      "RMSE: 18.914753967683417, MSE: 1313.954688905876, MAE: 18.914753967683417, MAPE: 0.012055989988130112\n",
      "mul None False estimated\n",
      "Tesztelve 5 különböző tanulási/tesztelési adatszetten - 1 napos predikció\n",
      "RMSE: 19.4569\n",
      "MSE: 1312.8474\n",
      "MAE: 19.4569\n",
      "MAPE: 1.2404%\n",
      "RMSE: 19.456874363019505, MSE: 1312.8473907861007, MAE: 19.456874363019505, MAPE: 0.012403510295131481\n",
      "mul None False heuristic\n",
      "Tesztelve 5 különböző tanulási/tesztelési adatszetten - 1 napos predikció\n",
      "RMSE: 19.4569\n",
      "MSE: 1312.8474\n",
      "MAE: 19.4569\n",
      "MAPE: 1.2404%\n",
      "RMSE: 19.456874363019505, MSE: 1312.8473907861007, MAE: 19.456874363019505, MAPE: 0.012403510295131481\n",
      "mul None False legacy-heuristic\n"
     ]
    },
    {
     "name": "stderr",
     "output_type": "stream",
     "text": [
      "C:\\Users\\Dani\\AppData\\Local\\Programs\\Python\\Python310\\lib\\site-packages\\statsmodels\\tsa\\holtwinters\\model.py:83: RuntimeWarning: overflow encountered in matmul\n",
      "  return err.T @ err\n",
      "C:\\Users\\Dani\\AppData\\Local\\Programs\\Python\\Python310\\lib\\site-packages\\statsmodels\\tsa\\holtwinters\\model.py:83: RuntimeWarning: overflow encountered in matmul\n",
      "  return err.T @ err\n",
      "C:\\Users\\Dani\\AppData\\Local\\Programs\\Python\\Python310\\lib\\site-packages\\statsmodels\\tsa\\holtwinters\\model.py:83: RuntimeWarning: overflow encountered in matmul\n",
      "  return err.T @ err\n"
     ]
    },
    {
     "name": "stdout",
     "output_type": "stream",
     "text": [
      "Tesztelve 5 különböző tanulási/tesztelési adatszetten - 1 napos predikció\n",
      "RMSE: 19.4603\n",
      "MSE: 1312.7369\n",
      "MAE: 19.4603\n",
      "MAPE: 1.2406%\n",
      "RMSE: 19.460336621017404, MSE: 1312.7369423380378, MAE: 19.460336621017404, MAPE: 0.012405723958825684\n"
     ]
    },
    {
     "name": "stderr",
     "output_type": "stream",
     "text": [
      "C:\\Users\\Dani\\AppData\\Local\\Programs\\Python\\Python310\\lib\\site-packages\\statsmodels\\tsa\\holtwinters\\model.py:83: RuntimeWarning: overflow encountered in matmul\n",
      "  return err.T @ err\n",
      "C:\\Users\\Dani\\AppData\\Local\\Programs\\Python\\Python310\\lib\\site-packages\\statsmodels\\tsa\\holtwinters\\model.py:83: RuntimeWarning: overflow encountered in matmul\n",
      "  return err.T @ err\n"
     ]
    }
   ],
   "source": [
    "best_rmse = float('inf')\n",
    "best_options = None\n",
    "\n",
    "for x in itertools.product(*tuple_of_option_lists):\n",
    "    print(*x)\n",
    "    rmse, mse, mae, mape = gridsearch_timeseriessplit(*x)\n",
    "    print(f\"RMSE: {rmse}, MSE: {mse}, MAE: {mae}, MAPE: {mape}\")\n",
    "    \n",
    "    if rmse < best_rmse: ## ha kisebb, akkor jobb az rmse\n",
    "        print(\"Best RMSE so far:\", rmse)\n",
    "        best_rmse = rmse\n",
    "        best_mse = mse\n",
    "        best_mae = mae\n",
    "        best_mape = mape\n",
    "        best_options = x"
   ]
  },
  {
   "cell_type": "code",
   "execution_count": 25,
   "id": "290d442b",
   "metadata": {},
   "outputs": [
    {
     "name": "stdout",
     "output_type": "stream",
     "text": [
      "Legjobb RMSE: 18.9102\n",
      "Legjobb MSE: 18.9102\n",
      "Legjobb MAE: 18.9102\n",
      "Legjobb MAPE: 1.2053\n",
      "Legjobb hiperparaméter-kombináció\n",
      "trend_type: add\n",
      "seasonal_type: None\n",
      "damped_trend: True\n",
      "init_method: legacy-heuristic\n"
     ]
    }
   ],
   "source": [
    "print(\"Legjobb RMSE:\", round(best_rmse, 4))\n",
    "print(\"Legjobb MSE:\", round(best_rmse, 4))\n",
    "print(\"Legjobb MAE:\", round(best_mae, 4))\n",
    "print(\"Legjobb MAPE:\", round(best_mape*100, 4))\n",
    "\n",
    "\n",
    "trend_type, seasonal_type, damped_trend, init_method = best_options\n",
    "print(\"Legjobb hiperparaméter-kombináció\")\n",
    "print(\"trend_type:\", trend_type)\n",
    "print(\"seasonal_type:\", seasonal_type)\n",
    "print(\"damped_trend:\", damped_trend)\n",
    "print(\"init_method:\", init_method)"
   ]
  },
  {
   "cell_type": "markdown",
   "id": "297596d9",
   "metadata": {},
   "source": [
    "## Findings\n",
    "\n",
    "- Legjobb RMSE: 18.9102\n",
    "- Legjobb MSE: 18.9102\n",
    "- Legjobb MAE: 18.9102\n",
    "- Legjobb MAPE: 1.2053\n",
    "\n",
    "Legjobb hiperparaméter-kombináció\n",
    "trend_type: add\n",
    "seasonal_type: None\n",
    "damped_trend: True\n",
    "init_method: legacy-heuristic"
   ]
  },
  {
   "cell_type": "markdown",
   "id": "8b20aac5",
   "metadata": {},
   "source": [
    "## 3 DAY"
   ]
  },
  {
   "cell_type": "code",
   "execution_count": 26,
   "id": "b6e040a8",
   "metadata": {},
   "outputs": [],
   "source": [
    "from sklearn.model_selection import TimeSeriesSplit\n",
    "\n",
    "tss = TimeSeriesSplit(n_splits=5, test_size=3, gap=0)\n",
    "df_close = df_close.sort_index()"
   ]
  },
  {
   "cell_type": "code",
   "execution_count": 27,
   "id": "e6d7d921",
   "metadata": {},
   "outputs": [],
   "source": [
    "def gridsearch_timeseriessplit(trend_type, seasonal_type, damped_trend, init_method):\n",
    "\n",
    "    #fig, axs = plt.subplots(5, 1, figsize=(15, 15), sharex=True)\n",
    "    root_mean_squared_errors = []\n",
    "    mean_squared_errors = []\n",
    "    mean_absolute_errors = []\n",
    "    mean_absolute_percentage_errors = []\n",
    "    #fold = 0\n",
    "\n",
    "    for train_idx, val_idx in tss.split(df_close):\n",
    "        train = df_close.iloc[train_idx]\n",
    "        test = df_close.iloc[val_idx]\n",
    "        \n",
    "        ## PLOTTING NOT IMPORTANT\n",
    "        #train['eth_close'].plot(ax=axs[fold], label='Training Set', title=f'Data Train/Test Split Fold {fold}')\n",
    "        #test['eth_close'].plot(ax=axs[fold], label='Test Set')\n",
    "        #axs[fold].axvline(test.index.min(), color='black', ls='--')\n",
    "        #fold += 1\n",
    "\n",
    "        if seasonal_type != None:\n",
    "\n",
    "            hw = ExponentialSmoothing(\n",
    "                  train['logclose'],\n",
    "                  initialization_method=init_method,\n",
    "                  trend=trend_type,\n",
    "                  damped_trend=damped_trend,\n",
    "                  seasonal=seasonal_type,\n",
    "                  seasonal_periods=365)\n",
    "        else:\n",
    "            hw = ExponentialSmoothing(\n",
    "                  train['logclose'],\n",
    "                  initialization_method=init_method,\n",
    "                  trend=trend_type,\n",
    "                  damped_trend=damped_trend,\n",
    "                  seasonal=seasonal_type)\n",
    "\n",
    "        res_hw = hw.fit()\n",
    "        fcast = res_hw.forecast(len(test))\n",
    "        \n",
    "        rmse = mean_squared_error(test['eth_close'], np.exp(fcast), squared=False)\n",
    "        root_mean_squared_errors.append(rmse)\n",
    "        mse = mean_squared_error(test['eth_close'], np.exp(fcast), squared=True)\n",
    "        mean_squared_errors.append(mse)        \n",
    "        mae = mean_absolute_error(test['eth_close'], np.exp(fcast))\n",
    "        mean_absolute_errors.append(mae)\n",
    "        mape = mean_absolute_percentage_error(test['eth_close'], np.exp(fcast))\n",
    "        mean_absolute_percentage_errors.append(mape)\n",
    "        \n",
    "\n",
    "    #plt.show()\n",
    "\n",
    "    print(\"Tesztelve 5 különböző tanulási/tesztelési adatszetten - 3 napos predikció\")\n",
    "    print(f\"RMSE: {round(np.mean(root_mean_squared_errors), 4)}\")\n",
    "    print(f\"MSE: {round(np.mean(mean_squared_errors), 4)}\")\n",
    "    print(f\"MAE: {round(np.mean(mean_absolute_errors), 4)}\")\n",
    "    print(f\"MAPE: {str(round(np.mean(mean_absolute_percentage_errors)*100, 4))}%\")\n",
    "    return np.mean(root_mean_squared_errors), np.mean(mean_squared_errors), np.mean(mean_absolute_errors), np.mean(mean_absolute_percentage_errors)"
   ]
  },
  {
   "cell_type": "code",
   "execution_count": 28,
   "id": "0c118129",
   "metadata": {},
   "outputs": [],
   "source": [
    "# Configuration hyperparameters to try\n",
    "trend_type_list = ['add', 'mul']\n",
    "seasonal_type_list = ['add', 'mul', None]\n",
    "damped_trend_list = [True, False]\n",
    "init_method_list = ['estimated', 'heuristic', 'legacy-heuristic']\n",
    "## box-cox not required since log dataset"
   ]
  },
  {
   "cell_type": "code",
   "execution_count": 29,
   "id": "68796b2e",
   "metadata": {},
   "outputs": [],
   "source": [
    "# Grid Search\n",
    "tuple_of_option_lists = (\n",
    "    trend_type_list,\n",
    "    seasonal_type_list,\n",
    "    damped_trend_list,\n",
    "    init_method_list\n",
    ")"
   ]
  },
  {
   "cell_type": "code",
   "execution_count": 30,
   "id": "c8d6272f",
   "metadata": {},
   "outputs": [
    {
     "name": "stdout",
     "output_type": "stream",
     "text": [
      "add add True estimated\n"
     ]
    },
    {
     "name": "stderr",
     "output_type": "stream",
     "text": [
      "C:\\Users\\Dani\\AppData\\Local\\Programs\\Python\\Python310\\lib\\site-packages\\statsmodels\\tsa\\holtwinters\\model.py:915: ConvergenceWarning: Optimization failed to converge. Check mle_retvals.\n",
      "  warnings.warn(\n",
      "C:\\Users\\Dani\\AppData\\Local\\Programs\\Python\\Python310\\lib\\site-packages\\statsmodels\\tsa\\holtwinters\\model.py:915: ConvergenceWarning: Optimization failed to converge. Check mle_retvals.\n",
      "  warnings.warn(\n",
      "C:\\Users\\Dani\\AppData\\Local\\Programs\\Python\\Python310\\lib\\site-packages\\statsmodels\\tsa\\holtwinters\\model.py:915: ConvergenceWarning: Optimization failed to converge. Check mle_retvals.\n",
      "  warnings.warn(\n",
      "C:\\Users\\Dani\\AppData\\Local\\Programs\\Python\\Python310\\lib\\site-packages\\statsmodels\\tsa\\holtwinters\\model.py:915: ConvergenceWarning: Optimization failed to converge. Check mle_retvals.\n",
      "  warnings.warn(\n",
      "C:\\Users\\Dani\\AppData\\Local\\Programs\\Python\\Python310\\lib\\site-packages\\statsmodels\\tsa\\holtwinters\\model.py:915: ConvergenceWarning: Optimization failed to converge. Check mle_retvals.\n",
      "  warnings.warn(\n"
     ]
    },
    {
     "name": "stdout",
     "output_type": "stream",
     "text": [
      "Tesztelve 5 különböző tanulási/tesztelési adatszetten - 3 napos predikció\n",
      "RMSE: 36.6316\n",
      "MSE: 1623.4944\n",
      "MAE: 31.7688\n",
      "MAPE: 1.9758%\n",
      "RMSE: 36.63155111088825, MSE: 1623.494371265107, MAE: 31.76881332649608, MAPE: 0.0197584954568418\n",
      "Best RMSE so far: 36.63155111088825\n",
      "add add True heuristic\n"
     ]
    },
    {
     "name": "stderr",
     "output_type": "stream",
     "text": [
      "C:\\Users\\Dani\\AppData\\Local\\Programs\\Python\\Python310\\lib\\site-packages\\statsmodels\\tsa\\holtwinters\\model.py:915: ConvergenceWarning: Optimization failed to converge. Check mle_retvals.\n",
      "  warnings.warn(\n",
      "C:\\Users\\Dani\\AppData\\Local\\Programs\\Python\\Python310\\lib\\site-packages\\statsmodels\\tsa\\holtwinters\\model.py:915: ConvergenceWarning: Optimization failed to converge. Check mle_retvals.\n",
      "  warnings.warn(\n",
      "C:\\Users\\Dani\\AppData\\Local\\Programs\\Python\\Python310\\lib\\site-packages\\statsmodels\\tsa\\holtwinters\\model.py:915: ConvergenceWarning: Optimization failed to converge. Check mle_retvals.\n",
      "  warnings.warn(\n",
      "C:\\Users\\Dani\\AppData\\Local\\Programs\\Python\\Python310\\lib\\site-packages\\statsmodels\\tsa\\holtwinters\\model.py:915: ConvergenceWarning: Optimization failed to converge. Check mle_retvals.\n",
      "  warnings.warn(\n",
      "C:\\Users\\Dani\\AppData\\Local\\Programs\\Python\\Python310\\lib\\site-packages\\statsmodels\\tsa\\holtwinters\\model.py:915: ConvergenceWarning: Optimization failed to converge. Check mle_retvals.\n",
      "  warnings.warn(\n"
     ]
    },
    {
     "name": "stdout",
     "output_type": "stream",
     "text": [
      "Tesztelve 5 különböző tanulási/tesztelési adatszetten - 3 napos predikció\n",
      "RMSE: 36.6316\n",
      "MSE: 1623.4944\n",
      "MAE: 31.7688\n",
      "MAPE: 1.9758%\n",
      "RMSE: 36.63155111088825, MSE: 1623.494371265107, MAE: 31.76881332649608, MAPE: 0.0197584954568418\n",
      "add add True legacy-heuristic\n"
     ]
    },
    {
     "name": "stderr",
     "output_type": "stream",
     "text": [
      "C:\\Users\\Dani\\AppData\\Local\\Programs\\Python\\Python310\\lib\\site-packages\\statsmodels\\tsa\\holtwinters\\model.py:915: ConvergenceWarning: Optimization failed to converge. Check mle_retvals.\n",
      "  warnings.warn(\n",
      "C:\\Users\\Dani\\AppData\\Local\\Programs\\Python\\Python310\\lib\\site-packages\\statsmodels\\tsa\\holtwinters\\model.py:915: ConvergenceWarning: Optimization failed to converge. Check mle_retvals.\n",
      "  warnings.warn(\n",
      "C:\\Users\\Dani\\AppData\\Local\\Programs\\Python\\Python310\\lib\\site-packages\\statsmodels\\tsa\\holtwinters\\model.py:915: ConvergenceWarning: Optimization failed to converge. Check mle_retvals.\n",
      "  warnings.warn(\n",
      "C:\\Users\\Dani\\AppData\\Local\\Programs\\Python\\Python310\\lib\\site-packages\\statsmodels\\tsa\\holtwinters\\model.py:915: ConvergenceWarning: Optimization failed to converge. Check mle_retvals.\n",
      "  warnings.warn(\n",
      "C:\\Users\\Dani\\AppData\\Local\\Programs\\Python\\Python310\\lib\\site-packages\\statsmodels\\tsa\\holtwinters\\model.py:915: ConvergenceWarning: Optimization failed to converge. Check mle_retvals.\n",
      "  warnings.warn(\n"
     ]
    },
    {
     "name": "stdout",
     "output_type": "stream",
     "text": [
      "Tesztelve 5 különböző tanulási/tesztelési adatszetten - 3 napos predikció\n",
      "RMSE: 37.6098\n",
      "MSE: 1637.1478\n",
      "MAE: 32.8304\n",
      "MAPE: 2.0438%\n",
      "RMSE: 37.609811348346625, MSE: 1637.1477731334774, MAE: 32.830365221935764, MAPE: 0.020437789933063617\n",
      "add add False estimated\n"
     ]
    },
    {
     "name": "stderr",
     "output_type": "stream",
     "text": [
      "C:\\Users\\Dani\\AppData\\Local\\Programs\\Python\\Python310\\lib\\site-packages\\statsmodels\\tsa\\holtwinters\\model.py:915: ConvergenceWarning: Optimization failed to converge. Check mle_retvals.\n",
      "  warnings.warn(\n",
      "C:\\Users\\Dani\\AppData\\Local\\Programs\\Python\\Python310\\lib\\site-packages\\statsmodels\\tsa\\holtwinters\\model.py:915: ConvergenceWarning: Optimization failed to converge. Check mle_retvals.\n",
      "  warnings.warn(\n",
      "C:\\Users\\Dani\\AppData\\Local\\Programs\\Python\\Python310\\lib\\site-packages\\statsmodels\\tsa\\holtwinters\\model.py:915: ConvergenceWarning: Optimization failed to converge. Check mle_retvals.\n",
      "  warnings.warn(\n",
      "C:\\Users\\Dani\\AppData\\Local\\Programs\\Python\\Python310\\lib\\site-packages\\statsmodels\\tsa\\holtwinters\\model.py:915: ConvergenceWarning: Optimization failed to converge. Check mle_retvals.\n",
      "  warnings.warn(\n",
      "C:\\Users\\Dani\\AppData\\Local\\Programs\\Python\\Python310\\lib\\site-packages\\statsmodels\\tsa\\holtwinters\\model.py:915: ConvergenceWarning: Optimization failed to converge. Check mle_retvals.\n",
      "  warnings.warn(\n"
     ]
    },
    {
     "name": "stdout",
     "output_type": "stream",
     "text": [
      "Tesztelve 5 különböző tanulási/tesztelési adatszetten - 3 napos predikció\n",
      "RMSE: 35.6604\n",
      "MSE: 1510.8259\n",
      "MAE: 31.2581\n",
      "MAPE: 1.9405%\n",
      "RMSE: 35.66038567124734, MSE: 1510.8258638555953, MAE: 31.25809762797177, MAPE: 0.019404789908628532\n",
      "Best RMSE so far: 35.66038567124734\n",
      "add add False heuristic\n"
     ]
    },
    {
     "name": "stderr",
     "output_type": "stream",
     "text": [
      "C:\\Users\\Dani\\AppData\\Local\\Programs\\Python\\Python310\\lib\\site-packages\\statsmodels\\tsa\\holtwinters\\model.py:915: ConvergenceWarning: Optimization failed to converge. Check mle_retvals.\n",
      "  warnings.warn(\n",
      "C:\\Users\\Dani\\AppData\\Local\\Programs\\Python\\Python310\\lib\\site-packages\\statsmodels\\tsa\\holtwinters\\model.py:915: ConvergenceWarning: Optimization failed to converge. Check mle_retvals.\n",
      "  warnings.warn(\n",
      "C:\\Users\\Dani\\AppData\\Local\\Programs\\Python\\Python310\\lib\\site-packages\\statsmodels\\tsa\\holtwinters\\model.py:915: ConvergenceWarning: Optimization failed to converge. Check mle_retvals.\n",
      "  warnings.warn(\n",
      "C:\\Users\\Dani\\AppData\\Local\\Programs\\Python\\Python310\\lib\\site-packages\\statsmodels\\tsa\\holtwinters\\model.py:915: ConvergenceWarning: Optimization failed to converge. Check mle_retvals.\n",
      "  warnings.warn(\n",
      "C:\\Users\\Dani\\AppData\\Local\\Programs\\Python\\Python310\\lib\\site-packages\\statsmodels\\tsa\\holtwinters\\model.py:915: ConvergenceWarning: Optimization failed to converge. Check mle_retvals.\n",
      "  warnings.warn(\n"
     ]
    },
    {
     "name": "stdout",
     "output_type": "stream",
     "text": [
      "Tesztelve 5 különböző tanulási/tesztelési adatszetten - 3 napos predikció\n",
      "RMSE: 35.6604\n",
      "MSE: 1510.8259\n",
      "MAE: 31.2581\n",
      "MAPE: 1.9405%\n",
      "RMSE: 35.66038567124734, MSE: 1510.8258638555953, MAE: 31.25809762797177, MAPE: 0.019404789908628532\n",
      "add add False legacy-heuristic\n"
     ]
    },
    {
     "name": "stderr",
     "output_type": "stream",
     "text": [
      "C:\\Users\\Dani\\AppData\\Local\\Programs\\Python\\Python310\\lib\\site-packages\\statsmodels\\tsa\\holtwinters\\model.py:915: ConvergenceWarning: Optimization failed to converge. Check mle_retvals.\n",
      "  warnings.warn(\n",
      "C:\\Users\\Dani\\AppData\\Local\\Programs\\Python\\Python310\\lib\\site-packages\\statsmodels\\tsa\\holtwinters\\model.py:915: ConvergenceWarning: Optimization failed to converge. Check mle_retvals.\n",
      "  warnings.warn(\n",
      "C:\\Users\\Dani\\AppData\\Local\\Programs\\Python\\Python310\\lib\\site-packages\\statsmodels\\tsa\\holtwinters\\model.py:915: ConvergenceWarning: Optimization failed to converge. Check mle_retvals.\n",
      "  warnings.warn(\n",
      "C:\\Users\\Dani\\AppData\\Local\\Programs\\Python\\Python310\\lib\\site-packages\\statsmodels\\tsa\\holtwinters\\model.py:915: ConvergenceWarning: Optimization failed to converge. Check mle_retvals.\n",
      "  warnings.warn(\n",
      "C:\\Users\\Dani\\AppData\\Local\\Programs\\Python\\Python310\\lib\\site-packages\\statsmodels\\tsa\\holtwinters\\model.py:915: ConvergenceWarning: Optimization failed to converge. Check mle_retvals.\n",
      "  warnings.warn(\n"
     ]
    },
    {
     "name": "stdout",
     "output_type": "stream",
     "text": [
      "Tesztelve 5 különböző tanulási/tesztelési adatszetten - 3 napos predikció\n",
      "RMSE: 37.7158\n",
      "MSE: 1573.9589\n",
      "MAE: 32.6839\n",
      "MAPE: 2.0293%\n",
      "RMSE: 37.71582467858086, MSE: 1573.9589433663057, MAE: 32.68392779053123, MAPE: 0.020292837080300875\n",
      "add mul True estimated\n"
     ]
    },
    {
     "name": "stderr",
     "output_type": "stream",
     "text": [
      "C:\\Users\\Dani\\AppData\\Local\\Programs\\Python\\Python310\\lib\\site-packages\\statsmodels\\tsa\\holtwinters\\model.py:915: ConvergenceWarning: Optimization failed to converge. Check mle_retvals.\n",
      "  warnings.warn(\n",
      "C:\\Users\\Dani\\AppData\\Local\\Programs\\Python\\Python310\\lib\\site-packages\\statsmodels\\tsa\\holtwinters\\model.py:915: ConvergenceWarning: Optimization failed to converge. Check mle_retvals.\n",
      "  warnings.warn(\n",
      "C:\\Users\\Dani\\AppData\\Local\\Programs\\Python\\Python310\\lib\\site-packages\\statsmodels\\tsa\\holtwinters\\model.py:915: ConvergenceWarning: Optimization failed to converge. Check mle_retvals.\n",
      "  warnings.warn(\n",
      "C:\\Users\\Dani\\AppData\\Local\\Programs\\Python\\Python310\\lib\\site-packages\\statsmodels\\tsa\\holtwinters\\model.py:915: ConvergenceWarning: Optimization failed to converge. Check mle_retvals.\n",
      "  warnings.warn(\n",
      "C:\\Users\\Dani\\AppData\\Local\\Programs\\Python\\Python310\\lib\\site-packages\\statsmodels\\tsa\\holtwinters\\model.py:915: ConvergenceWarning: Optimization failed to converge. Check mle_retvals.\n",
      "  warnings.warn(\n"
     ]
    },
    {
     "name": "stdout",
     "output_type": "stream",
     "text": [
      "Tesztelve 5 különböző tanulási/tesztelési adatszetten - 3 napos predikció\n",
      "RMSE: 36.5152\n",
      "MSE: 1524.4455\n",
      "MAE: 32.1718\n",
      "MAPE: 1.9975%\n",
      "RMSE: 36.515219997305785, MSE: 1524.4455440324182, MAE: 32.17177417454785, MAPE: 0.019974522914983767\n",
      "add mul True heuristic\n"
     ]
    },
    {
     "name": "stderr",
     "output_type": "stream",
     "text": [
      "C:\\Users\\Dani\\AppData\\Local\\Programs\\Python\\Python310\\lib\\site-packages\\statsmodels\\tsa\\holtwinters\\model.py:915: ConvergenceWarning: Optimization failed to converge. Check mle_retvals.\n",
      "  warnings.warn(\n",
      "C:\\Users\\Dani\\AppData\\Local\\Programs\\Python\\Python310\\lib\\site-packages\\statsmodels\\tsa\\holtwinters\\model.py:915: ConvergenceWarning: Optimization failed to converge. Check mle_retvals.\n",
      "  warnings.warn(\n",
      "C:\\Users\\Dani\\AppData\\Local\\Programs\\Python\\Python310\\lib\\site-packages\\statsmodels\\tsa\\holtwinters\\model.py:915: ConvergenceWarning: Optimization failed to converge. Check mle_retvals.\n",
      "  warnings.warn(\n",
      "C:\\Users\\Dani\\AppData\\Local\\Programs\\Python\\Python310\\lib\\site-packages\\statsmodels\\tsa\\holtwinters\\model.py:915: ConvergenceWarning: Optimization failed to converge. Check mle_retvals.\n",
      "  warnings.warn(\n",
      "C:\\Users\\Dani\\AppData\\Local\\Programs\\Python\\Python310\\lib\\site-packages\\statsmodels\\tsa\\holtwinters\\model.py:915: ConvergenceWarning: Optimization failed to converge. Check mle_retvals.\n",
      "  warnings.warn(\n"
     ]
    },
    {
     "name": "stdout",
     "output_type": "stream",
     "text": [
      "Tesztelve 5 különböző tanulási/tesztelési adatszetten - 3 napos predikció\n",
      "RMSE: 36.5152\n",
      "MSE: 1524.4455\n",
      "MAE: 32.1718\n",
      "MAPE: 1.9975%\n",
      "RMSE: 36.515219997305785, MSE: 1524.4455440324182, MAE: 32.17177417454785, MAPE: 0.019974522914983767\n",
      "add mul True legacy-heuristic\n"
     ]
    },
    {
     "name": "stderr",
     "output_type": "stream",
     "text": [
      "C:\\Users\\Dani\\AppData\\Local\\Programs\\Python\\Python310\\lib\\site-packages\\statsmodels\\tsa\\holtwinters\\model.py:915: ConvergenceWarning: Optimization failed to converge. Check mle_retvals.\n",
      "  warnings.warn(\n",
      "C:\\Users\\Dani\\AppData\\Local\\Programs\\Python\\Python310\\lib\\site-packages\\statsmodels\\tsa\\holtwinters\\model.py:915: ConvergenceWarning: Optimization failed to converge. Check mle_retvals.\n",
      "  warnings.warn(\n",
      "C:\\Users\\Dani\\AppData\\Local\\Programs\\Python\\Python310\\lib\\site-packages\\statsmodels\\tsa\\holtwinters\\model.py:915: ConvergenceWarning: Optimization failed to converge. Check mle_retvals.\n",
      "  warnings.warn(\n",
      "C:\\Users\\Dani\\AppData\\Local\\Programs\\Python\\Python310\\lib\\site-packages\\statsmodels\\tsa\\holtwinters\\model.py:915: ConvergenceWarning: Optimization failed to converge. Check mle_retvals.\n",
      "  warnings.warn(\n",
      "C:\\Users\\Dani\\AppData\\Local\\Programs\\Python\\Python310\\lib\\site-packages\\statsmodels\\tsa\\holtwinters\\model.py:915: ConvergenceWarning: Optimization failed to converge. Check mle_retvals.\n",
      "  warnings.warn(\n"
     ]
    },
    {
     "name": "stdout",
     "output_type": "stream",
     "text": [
      "Tesztelve 5 különböző tanulási/tesztelési adatszetten - 3 napos predikció\n",
      "RMSE: 35.5435\n",
      "MSE: 1385.6469\n",
      "MAE: 30.8981\n",
      "MAPE: 1.9202%\n",
      "RMSE: 35.54350962777765, MSE: 1385.646866006861, MAE: 30.898073846125772, MAPE: 0.01920210442721504\n",
      "Best RMSE so far: 35.54350962777765\n",
      "add mul False estimated\n"
     ]
    },
    {
     "name": "stderr",
     "output_type": "stream",
     "text": [
      "C:\\Users\\Dani\\AppData\\Local\\Programs\\Python\\Python310\\lib\\site-packages\\statsmodels\\tsa\\holtwinters\\model.py:915: ConvergenceWarning: Optimization failed to converge. Check mle_retvals.\n",
      "  warnings.warn(\n",
      "C:\\Users\\Dani\\AppData\\Local\\Programs\\Python\\Python310\\lib\\site-packages\\statsmodels\\tsa\\holtwinters\\model.py:915: ConvergenceWarning: Optimization failed to converge. Check mle_retvals.\n",
      "  warnings.warn(\n",
      "C:\\Users\\Dani\\AppData\\Local\\Programs\\Python\\Python310\\lib\\site-packages\\statsmodels\\tsa\\holtwinters\\model.py:915: ConvergenceWarning: Optimization failed to converge. Check mle_retvals.\n",
      "  warnings.warn(\n",
      "C:\\Users\\Dani\\AppData\\Local\\Programs\\Python\\Python310\\lib\\site-packages\\statsmodels\\tsa\\holtwinters\\model.py:915: ConvergenceWarning: Optimization failed to converge. Check mle_retvals.\n",
      "  warnings.warn(\n",
      "C:\\Users\\Dani\\AppData\\Local\\Programs\\Python\\Python310\\lib\\site-packages\\statsmodels\\tsa\\holtwinters\\model.py:915: ConvergenceWarning: Optimization failed to converge. Check mle_retvals.\n",
      "  warnings.warn(\n"
     ]
    },
    {
     "name": "stdout",
     "output_type": "stream",
     "text": [
      "Tesztelve 5 különböző tanulási/tesztelési adatszetten - 3 napos predikció\n",
      "RMSE: 35.9451\n",
      "MSE: 1470.6666\n",
      "MAE: 31.4807\n",
      "MAPE: 1.9543%\n",
      "RMSE: 35.94510252423877, MSE: 1470.6666202847828, MAE: 31.480680370287455, MAPE: 0.01954282669194504\n",
      "add mul False heuristic\n"
     ]
    },
    {
     "name": "stderr",
     "output_type": "stream",
     "text": [
      "C:\\Users\\Dani\\AppData\\Local\\Programs\\Python\\Python310\\lib\\site-packages\\statsmodels\\tsa\\holtwinters\\model.py:915: ConvergenceWarning: Optimization failed to converge. Check mle_retvals.\n",
      "  warnings.warn(\n",
      "C:\\Users\\Dani\\AppData\\Local\\Programs\\Python\\Python310\\lib\\site-packages\\statsmodels\\tsa\\holtwinters\\model.py:915: ConvergenceWarning: Optimization failed to converge. Check mle_retvals.\n",
      "  warnings.warn(\n",
      "C:\\Users\\Dani\\AppData\\Local\\Programs\\Python\\Python310\\lib\\site-packages\\statsmodels\\tsa\\holtwinters\\model.py:915: ConvergenceWarning: Optimization failed to converge. Check mle_retvals.\n",
      "  warnings.warn(\n",
      "C:\\Users\\Dani\\AppData\\Local\\Programs\\Python\\Python310\\lib\\site-packages\\statsmodels\\tsa\\holtwinters\\model.py:915: ConvergenceWarning: Optimization failed to converge. Check mle_retvals.\n",
      "  warnings.warn(\n",
      "C:\\Users\\Dani\\AppData\\Local\\Programs\\Python\\Python310\\lib\\site-packages\\statsmodels\\tsa\\holtwinters\\model.py:915: ConvergenceWarning: Optimization failed to converge. Check mle_retvals.\n",
      "  warnings.warn(\n"
     ]
    },
    {
     "name": "stdout",
     "output_type": "stream",
     "text": [
      "Tesztelve 5 különböző tanulási/tesztelési adatszetten - 3 napos predikció\n",
      "RMSE: 35.9451\n",
      "MSE: 1470.6666\n",
      "MAE: 31.4807\n",
      "MAPE: 1.9543%\n",
      "RMSE: 35.94510252423877, MSE: 1470.6666202847828, MAE: 31.480680370287455, MAPE: 0.01954282669194504\n",
      "add mul False legacy-heuristic\n"
     ]
    },
    {
     "name": "stderr",
     "output_type": "stream",
     "text": [
      "C:\\Users\\Dani\\AppData\\Local\\Programs\\Python\\Python310\\lib\\site-packages\\statsmodels\\tsa\\holtwinters\\model.py:915: ConvergenceWarning: Optimization failed to converge. Check mle_retvals.\n",
      "  warnings.warn(\n",
      "C:\\Users\\Dani\\AppData\\Local\\Programs\\Python\\Python310\\lib\\site-packages\\statsmodels\\tsa\\holtwinters\\model.py:915: ConvergenceWarning: Optimization failed to converge. Check mle_retvals.\n",
      "  warnings.warn(\n",
      "C:\\Users\\Dani\\AppData\\Local\\Programs\\Python\\Python310\\lib\\site-packages\\statsmodels\\tsa\\holtwinters\\model.py:915: ConvergenceWarning: Optimization failed to converge. Check mle_retvals.\n",
      "  warnings.warn(\n",
      "C:\\Users\\Dani\\AppData\\Local\\Programs\\Python\\Python310\\lib\\site-packages\\statsmodels\\tsa\\holtwinters\\model.py:915: ConvergenceWarning: Optimization failed to converge. Check mle_retvals.\n",
      "  warnings.warn(\n",
      "C:\\Users\\Dani\\AppData\\Local\\Programs\\Python\\Python310\\lib\\site-packages\\statsmodels\\tsa\\holtwinters\\model.py:915: ConvergenceWarning: Optimization failed to converge. Check mle_retvals.\n",
      "  warnings.warn(\n"
     ]
    },
    {
     "name": "stdout",
     "output_type": "stream",
     "text": [
      "Tesztelve 5 különböző tanulási/tesztelési adatszetten - 3 napos predikció\n",
      "RMSE: 38.1457\n",
      "MSE: 1782.7986\n",
      "MAE: 33.4655\n",
      "MAPE: 2.0753%\n",
      "RMSE: 38.14569642120145, MSE: 1782.7985744406546, MAE: 33.46547259940089, MAPE: 0.020753360302475383\n",
      "add None True estimated\n",
      "Tesztelve 5 különböző tanulási/tesztelési adatszetten - 3 napos predikció\n",
      "RMSE: 39.7393\n",
      "MSE: 2242.0411\n",
      "MAE: 35.7234\n",
      "MAPE: 2.2205%\n",
      "RMSE: 39.739301640597944, MSE: 2242.041135631181, MAE: 35.72341517833118, MAPE: 0.022205103911274972\n",
      "add None True heuristic\n",
      "Tesztelve 5 különböző tanulási/tesztelési adatszetten - 3 napos predikció\n",
      "RMSE: 39.7393\n",
      "MSE: 2242.0411\n",
      "MAE: 35.7234\n",
      "MAPE: 2.2205%\n",
      "RMSE: 39.739301640597944, MSE: 2242.041135631181, MAE: 35.72341517833118, MAPE: 0.022205103911274972\n",
      "add None True legacy-heuristic\n",
      "Tesztelve 5 különböző tanulási/tesztelési adatszetten - 3 napos predikció\n",
      "RMSE: 39.7395\n",
      "MSE: 2242.1345\n",
      "MAE: 35.7242\n",
      "MAPE: 2.2206%\n",
      "RMSE: 39.73945061259674, MSE: 2242.1344556550034, MAE: 35.72423417928631, MAPE: 0.02220562070562019\n",
      "add None False estimated\n",
      "Tesztelve 5 különböző tanulási/tesztelési adatszetten - 3 napos predikció\n",
      "RMSE: 41.2785\n",
      "MSE: 2332.1865\n",
      "MAE: 37.5674\n",
      "MAPE: 2.3377%\n",
      "RMSE: 41.27850178650607, MSE: 2332.186489052295, MAE: 37.56741489292437, MAPE: 0.023376634860420038\n",
      "add None False heuristic\n",
      "Tesztelve 5 különböző tanulási/tesztelési adatszetten - 3 napos predikció\n",
      "RMSE: 41.2785\n",
      "MSE: 2332.1865\n",
      "MAE: 37.5674\n",
      "MAPE: 2.3377%\n",
      "RMSE: 41.27850178650607, MSE: 2332.186489052295, MAE: 37.56741489292437, MAPE: 0.023376634860420038\n",
      "add None False legacy-heuristic\n",
      "Tesztelve 5 különböző tanulási/tesztelési adatszetten - 3 napos predikció\n",
      "RMSE: 41.283\n",
      "MSE: 2332.7077\n",
      "MAE: 37.5722\n",
      "MAPE: 2.338%\n",
      "RMSE: 41.283013501950016, MSE: 2332.707746346475, MAE: 37.57219198861058, MAPE: 0.023379592469818074\n",
      "mul add True estimated\n"
     ]
    },
    {
     "name": "stderr",
     "output_type": "stream",
     "text": [
      "C:\\Users\\Dani\\AppData\\Local\\Programs\\Python\\Python310\\lib\\site-packages\\statsmodels\\tsa\\holtwinters\\model.py:915: ConvergenceWarning: Optimization failed to converge. Check mle_retvals.\n",
      "  warnings.warn(\n",
      "C:\\Users\\Dani\\AppData\\Local\\Programs\\Python\\Python310\\lib\\site-packages\\statsmodels\\tsa\\holtwinters\\model.py:915: ConvergenceWarning: Optimization failed to converge. Check mle_retvals.\n",
      "  warnings.warn(\n",
      "C:\\Users\\Dani\\AppData\\Local\\Programs\\Python\\Python310\\lib\\site-packages\\statsmodels\\tsa\\holtwinters\\model.py:915: ConvergenceWarning: Optimization failed to converge. Check mle_retvals.\n",
      "  warnings.warn(\n",
      "C:\\Users\\Dani\\AppData\\Local\\Programs\\Python\\Python310\\lib\\site-packages\\statsmodels\\tsa\\holtwinters\\model.py:915: ConvergenceWarning: Optimization failed to converge. Check mle_retvals.\n",
      "  warnings.warn(\n",
      "C:\\Users\\Dani\\AppData\\Local\\Programs\\Python\\Python310\\lib\\site-packages\\statsmodels\\tsa\\holtwinters\\model.py:915: ConvergenceWarning: Optimization failed to converge. Check mle_retvals.\n",
      "  warnings.warn(\n"
     ]
    },
    {
     "name": "stdout",
     "output_type": "stream",
     "text": [
      "Tesztelve 5 különböző tanulási/tesztelési adatszetten - 3 napos predikció\n",
      "RMSE: 38.4499\n",
      "MSE: 1641.7159\n",
      "MAE: 32.6917\n",
      "MAPE: 2.0313%\n",
      "RMSE: 38.44990115497568, MSE: 1641.7158538068666, MAE: 32.691675005912735, MAPE: 0.020312948223747608\n",
      "mul add True heuristic\n"
     ]
    },
    {
     "name": "stderr",
     "output_type": "stream",
     "text": [
      "C:\\Users\\Dani\\AppData\\Local\\Programs\\Python\\Python310\\lib\\site-packages\\statsmodels\\tsa\\holtwinters\\model.py:915: ConvergenceWarning: Optimization failed to converge. Check mle_retvals.\n",
      "  warnings.warn(\n",
      "C:\\Users\\Dani\\AppData\\Local\\Programs\\Python\\Python310\\lib\\site-packages\\statsmodels\\tsa\\holtwinters\\model.py:915: ConvergenceWarning: Optimization failed to converge. Check mle_retvals.\n",
      "  warnings.warn(\n",
      "C:\\Users\\Dani\\AppData\\Local\\Programs\\Python\\Python310\\lib\\site-packages\\statsmodels\\tsa\\holtwinters\\model.py:915: ConvergenceWarning: Optimization failed to converge. Check mle_retvals.\n",
      "  warnings.warn(\n",
      "C:\\Users\\Dani\\AppData\\Local\\Programs\\Python\\Python310\\lib\\site-packages\\statsmodels\\tsa\\holtwinters\\model.py:915: ConvergenceWarning: Optimization failed to converge. Check mle_retvals.\n",
      "  warnings.warn(\n",
      "C:\\Users\\Dani\\AppData\\Local\\Programs\\Python\\Python310\\lib\\site-packages\\statsmodels\\tsa\\holtwinters\\model.py:915: ConvergenceWarning: Optimization failed to converge. Check mle_retvals.\n",
      "  warnings.warn(\n"
     ]
    },
    {
     "name": "stdout",
     "output_type": "stream",
     "text": [
      "Tesztelve 5 különböző tanulási/tesztelési adatszetten - 3 napos predikció\n",
      "RMSE: 38.4499\n",
      "MSE: 1641.7159\n",
      "MAE: 32.6917\n",
      "MAPE: 2.0313%\n",
      "RMSE: 38.44990115497568, MSE: 1641.7158538068666, MAE: 32.691675005912735, MAPE: 0.020312948223747608\n",
      "mul add True legacy-heuristic\n"
     ]
    },
    {
     "name": "stderr",
     "output_type": "stream",
     "text": [
      "C:\\Users\\Dani\\AppData\\Local\\Programs\\Python\\Python310\\lib\\site-packages\\statsmodels\\tsa\\holtwinters\\model.py:915: ConvergenceWarning: Optimization failed to converge. Check mle_retvals.\n",
      "  warnings.warn(\n",
      "C:\\Users\\Dani\\AppData\\Local\\Programs\\Python\\Python310\\lib\\site-packages\\statsmodels\\tsa\\holtwinters\\model.py:915: ConvergenceWarning: Optimization failed to converge. Check mle_retvals.\n",
      "  warnings.warn(\n",
      "C:\\Users\\Dani\\AppData\\Local\\Programs\\Python\\Python310\\lib\\site-packages\\statsmodels\\tsa\\holtwinters\\model.py:915: ConvergenceWarning: Optimization failed to converge. Check mle_retvals.\n",
      "  warnings.warn(\n",
      "C:\\Users\\Dani\\AppData\\Local\\Programs\\Python\\Python310\\lib\\site-packages\\statsmodels\\tsa\\holtwinters\\model.py:915: ConvergenceWarning: Optimization failed to converge. Check mle_retvals.\n",
      "  warnings.warn(\n",
      "C:\\Users\\Dani\\AppData\\Local\\Programs\\Python\\Python310\\lib\\site-packages\\statsmodels\\tsa\\holtwinters\\model.py:915: ConvergenceWarning: Optimization failed to converge. Check mle_retvals.\n",
      "  warnings.warn(\n"
     ]
    },
    {
     "name": "stdout",
     "output_type": "stream",
     "text": [
      "Tesztelve 5 különböző tanulási/tesztelési adatszetten - 3 napos predikció\n",
      "RMSE: 37.7604\n",
      "MSE: 1741.4358\n",
      "MAE: 32.8184\n",
      "MAPE: 2.0416%\n",
      "RMSE: 37.76039243697481, MSE: 1741.4358037670268, MAE: 32.8183655831587, MAPE: 0.020416082799987\n",
      "mul add False estimated\n"
     ]
    },
    {
     "name": "stderr",
     "output_type": "stream",
     "text": [
      "C:\\Users\\Dani\\AppData\\Local\\Programs\\Python\\Python310\\lib\\site-packages\\statsmodels\\tsa\\holtwinters\\model.py:915: ConvergenceWarning: Optimization failed to converge. Check mle_retvals.\n",
      "  warnings.warn(\n",
      "C:\\Users\\Dani\\AppData\\Local\\Programs\\Python\\Python310\\lib\\site-packages\\statsmodels\\tsa\\holtwinters\\model.py:915: ConvergenceWarning: Optimization failed to converge. Check mle_retvals.\n",
      "  warnings.warn(\n",
      "C:\\Users\\Dani\\AppData\\Local\\Programs\\Python\\Python310\\lib\\site-packages\\statsmodels\\tsa\\holtwinters\\model.py:915: ConvergenceWarning: Optimization failed to converge. Check mle_retvals.\n",
      "  warnings.warn(\n",
      "C:\\Users\\Dani\\AppData\\Local\\Programs\\Python\\Python310\\lib\\site-packages\\statsmodels\\tsa\\holtwinters\\model.py:915: ConvergenceWarning: Optimization failed to converge. Check mle_retvals.\n",
      "  warnings.warn(\n",
      "C:\\Users\\Dani\\AppData\\Local\\Programs\\Python\\Python310\\lib\\site-packages\\statsmodels\\tsa\\holtwinters\\model.py:915: ConvergenceWarning: Optimization failed to converge. Check mle_retvals.\n",
      "  warnings.warn(\n"
     ]
    },
    {
     "name": "stdout",
     "output_type": "stream",
     "text": [
      "Tesztelve 5 különböző tanulási/tesztelési adatszetten - 3 napos predikció\n",
      "RMSE: 35.7268\n",
      "MSE: 1570.8094\n",
      "MAE: 31.4374\n",
      "MAPE: 1.953%\n",
      "RMSE: 35.72680921921796, MSE: 1570.8094124254085, MAE: 31.437426658588628, MAPE: 0.01952979845968426\n",
      "mul add False heuristic\n"
     ]
    },
    {
     "name": "stderr",
     "output_type": "stream",
     "text": [
      "C:\\Users\\Dani\\AppData\\Local\\Programs\\Python\\Python310\\lib\\site-packages\\statsmodels\\tsa\\holtwinters\\model.py:915: ConvergenceWarning: Optimization failed to converge. Check mle_retvals.\n",
      "  warnings.warn(\n",
      "C:\\Users\\Dani\\AppData\\Local\\Programs\\Python\\Python310\\lib\\site-packages\\statsmodels\\tsa\\holtwinters\\model.py:915: ConvergenceWarning: Optimization failed to converge. Check mle_retvals.\n",
      "  warnings.warn(\n",
      "C:\\Users\\Dani\\AppData\\Local\\Programs\\Python\\Python310\\lib\\site-packages\\statsmodels\\tsa\\holtwinters\\model.py:915: ConvergenceWarning: Optimization failed to converge. Check mle_retvals.\n",
      "  warnings.warn(\n",
      "C:\\Users\\Dani\\AppData\\Local\\Programs\\Python\\Python310\\lib\\site-packages\\statsmodels\\tsa\\holtwinters\\model.py:915: ConvergenceWarning: Optimization failed to converge. Check mle_retvals.\n",
      "  warnings.warn(\n",
      "C:\\Users\\Dani\\AppData\\Local\\Programs\\Python\\Python310\\lib\\site-packages\\statsmodels\\tsa\\holtwinters\\model.py:915: ConvergenceWarning: Optimization failed to converge. Check mle_retvals.\n",
      "  warnings.warn(\n"
     ]
    },
    {
     "name": "stdout",
     "output_type": "stream",
     "text": [
      "Tesztelve 5 különböző tanulási/tesztelési adatszetten - 3 napos predikció\n",
      "RMSE: 35.7268\n",
      "MSE: 1570.8094\n",
      "MAE: 31.4374\n",
      "MAPE: 1.953%\n",
      "RMSE: 35.72680921921796, MSE: 1570.8094124254085, MAE: 31.437426658588628, MAPE: 0.01952979845968426\n",
      "mul add False legacy-heuristic\n"
     ]
    },
    {
     "name": "stderr",
     "output_type": "stream",
     "text": [
      "C:\\Users\\Dani\\AppData\\Local\\Programs\\Python\\Python310\\lib\\site-packages\\statsmodels\\tsa\\holtwinters\\model.py:83: RuntimeWarning: overflow encountered in matmul\n",
      "  return err.T @ err\n",
      "C:\\Users\\Dani\\AppData\\Local\\Programs\\Python\\Python310\\lib\\site-packages\\statsmodels\\tsa\\holtwinters\\model.py:915: ConvergenceWarning: Optimization failed to converge. Check mle_retvals.\n",
      "  warnings.warn(\n",
      "C:\\Users\\Dani\\AppData\\Local\\Programs\\Python\\Python310\\lib\\site-packages\\statsmodels\\tsa\\holtwinters\\model.py:83: RuntimeWarning: overflow encountered in matmul\n",
      "  return err.T @ err\n",
      "C:\\Users\\Dani\\AppData\\Local\\Programs\\Python\\Python310\\lib\\site-packages\\statsmodels\\tsa\\holtwinters\\model.py:915: ConvergenceWarning: Optimization failed to converge. Check mle_retvals.\n",
      "  warnings.warn(\n",
      "C:\\Users\\Dani\\AppData\\Local\\Programs\\Python\\Python310\\lib\\site-packages\\statsmodels\\tsa\\holtwinters\\model.py:83: RuntimeWarning: overflow encountered in matmul\n",
      "  return err.T @ err\n",
      "C:\\Users\\Dani\\AppData\\Local\\Programs\\Python\\Python310\\lib\\site-packages\\statsmodels\\tsa\\holtwinters\\model.py:915: ConvergenceWarning: Optimization failed to converge. Check mle_retvals.\n",
      "  warnings.warn(\n",
      "C:\\Users\\Dani\\AppData\\Local\\Programs\\Python\\Python310\\lib\\site-packages\\statsmodels\\tsa\\holtwinters\\model.py:83: RuntimeWarning: overflow encountered in matmul\n",
      "  return err.T @ err\n",
      "C:\\Users\\Dani\\AppData\\Local\\Programs\\Python\\Python310\\lib\\site-packages\\statsmodels\\tsa\\holtwinters\\model.py:915: ConvergenceWarning: Optimization failed to converge. Check mle_retvals.\n",
      "  warnings.warn(\n",
      "C:\\Users\\Dani\\AppData\\Local\\Programs\\Python\\Python310\\lib\\site-packages\\statsmodels\\tsa\\holtwinters\\model.py:83: RuntimeWarning: overflow encountered in matmul\n",
      "  return err.T @ err\n",
      "C:\\Users\\Dani\\AppData\\Local\\Programs\\Python\\Python310\\lib\\site-packages\\statsmodels\\tsa\\holtwinters\\model.py:915: ConvergenceWarning: Optimization failed to converge. Check mle_retvals.\n",
      "  warnings.warn(\n"
     ]
    },
    {
     "name": "stdout",
     "output_type": "stream",
     "text": [
      "Tesztelve 5 különböző tanulási/tesztelési adatszetten - 3 napos predikció\n",
      "RMSE: 36.7401\n",
      "MSE: 1664.5465\n",
      "MAE: 32.0096\n",
      "MAPE: 1.9906%\n",
      "RMSE: 36.74009644585807, MSE: 1664.5464681792032, MAE: 32.00958101446434, MAPE: 0.01990620815944019\n",
      "mul mul True estimated\n"
     ]
    },
    {
     "name": "stderr",
     "output_type": "stream",
     "text": [
      "C:\\Users\\Dani\\AppData\\Local\\Programs\\Python\\Python310\\lib\\site-packages\\statsmodels\\tsa\\holtwinters\\model.py:915: ConvergenceWarning: Optimization failed to converge. Check mle_retvals.\n",
      "  warnings.warn(\n",
      "C:\\Users\\Dani\\AppData\\Local\\Programs\\Python\\Python310\\lib\\site-packages\\statsmodels\\tsa\\holtwinters\\model.py:83: RuntimeWarning: overflow encountered in matmul\n",
      "  return err.T @ err\n",
      "C:\\Users\\Dani\\AppData\\Local\\Programs\\Python\\Python310\\lib\\site-packages\\statsmodels\\tsa\\holtwinters\\model.py:915: ConvergenceWarning: Optimization failed to converge. Check mle_retvals.\n",
      "  warnings.warn(\n",
      "C:\\Users\\Dani\\AppData\\Local\\Programs\\Python\\Python310\\lib\\site-packages\\statsmodels\\tsa\\holtwinters\\model.py:915: ConvergenceWarning: Optimization failed to converge. Check mle_retvals.\n",
      "  warnings.warn(\n",
      "C:\\Users\\Dani\\AppData\\Local\\Programs\\Python\\Python310\\lib\\site-packages\\statsmodels\\tsa\\holtwinters\\model.py:915: ConvergenceWarning: Optimization failed to converge. Check mle_retvals.\n",
      "  warnings.warn(\n",
      "C:\\Users\\Dani\\AppData\\Local\\Programs\\Python\\Python310\\lib\\site-packages\\statsmodels\\tsa\\holtwinters\\model.py:83: RuntimeWarning: overflow encountered in matmul\n",
      "  return err.T @ err\n",
      "C:\\Users\\Dani\\AppData\\Local\\Programs\\Python\\Python310\\lib\\site-packages\\statsmodels\\tsa\\holtwinters\\model.py:915: ConvergenceWarning: Optimization failed to converge. Check mle_retvals.\n",
      "  warnings.warn(\n"
     ]
    },
    {
     "name": "stdout",
     "output_type": "stream",
     "text": [
      "Tesztelve 5 különböző tanulási/tesztelési adatszetten - 3 napos predikció\n",
      "RMSE: 36.5931\n",
      "MSE: 1531.8302\n",
      "MAE: 32.246\n",
      "MAPE: 2.0022%\n",
      "RMSE: 36.59314546083277, MSE: 1531.8302170318584, MAE: 32.24603090514744, MAPE: 0.02002196263566957\n",
      "mul mul True heuristic\n"
     ]
    },
    {
     "name": "stderr",
     "output_type": "stream",
     "text": [
      "C:\\Users\\Dani\\AppData\\Local\\Programs\\Python\\Python310\\lib\\site-packages\\statsmodels\\tsa\\holtwinters\\model.py:915: ConvergenceWarning: Optimization failed to converge. Check mle_retvals.\n",
      "  warnings.warn(\n",
      "C:\\Users\\Dani\\AppData\\Local\\Programs\\Python\\Python310\\lib\\site-packages\\statsmodels\\tsa\\holtwinters\\model.py:83: RuntimeWarning: overflow encountered in matmul\n",
      "  return err.T @ err\n",
      "C:\\Users\\Dani\\AppData\\Local\\Programs\\Python\\Python310\\lib\\site-packages\\statsmodels\\tsa\\holtwinters\\model.py:915: ConvergenceWarning: Optimization failed to converge. Check mle_retvals.\n",
      "  warnings.warn(\n",
      "C:\\Users\\Dani\\AppData\\Local\\Programs\\Python\\Python310\\lib\\site-packages\\statsmodels\\tsa\\holtwinters\\model.py:915: ConvergenceWarning: Optimization failed to converge. Check mle_retvals.\n",
      "  warnings.warn(\n",
      "C:\\Users\\Dani\\AppData\\Local\\Programs\\Python\\Python310\\lib\\site-packages\\statsmodels\\tsa\\holtwinters\\model.py:915: ConvergenceWarning: Optimization failed to converge. Check mle_retvals.\n",
      "  warnings.warn(\n",
      "C:\\Users\\Dani\\AppData\\Local\\Programs\\Python\\Python310\\lib\\site-packages\\statsmodels\\tsa\\holtwinters\\model.py:83: RuntimeWarning: overflow encountered in matmul\n",
      "  return err.T @ err\n",
      "C:\\Users\\Dani\\AppData\\Local\\Programs\\Python\\Python310\\lib\\site-packages\\statsmodels\\tsa\\holtwinters\\model.py:915: ConvergenceWarning: Optimization failed to converge. Check mle_retvals.\n",
      "  warnings.warn(\n"
     ]
    },
    {
     "name": "stdout",
     "output_type": "stream",
     "text": [
      "Tesztelve 5 különböző tanulási/tesztelési adatszetten - 3 napos predikció\n",
      "RMSE: 36.5931\n",
      "MSE: 1531.8302\n",
      "MAE: 32.246\n",
      "MAPE: 2.0022%\n",
      "RMSE: 36.59314546083277, MSE: 1531.8302170318584, MAE: 32.24603090514744, MAPE: 0.02002196263566957\n",
      "mul mul True legacy-heuristic\n"
     ]
    },
    {
     "name": "stderr",
     "output_type": "stream",
     "text": [
      "C:\\Users\\Dani\\AppData\\Local\\Programs\\Python\\Python310\\lib\\site-packages\\statsmodels\\tsa\\holtwinters\\model.py:915: ConvergenceWarning: Optimization failed to converge. Check mle_retvals.\n",
      "  warnings.warn(\n",
      "C:\\Users\\Dani\\AppData\\Local\\Programs\\Python\\Python310\\lib\\site-packages\\statsmodels\\tsa\\holtwinters\\model.py:915: ConvergenceWarning: Optimization failed to converge. Check mle_retvals.\n",
      "  warnings.warn(\n",
      "C:\\Users\\Dani\\AppData\\Local\\Programs\\Python\\Python310\\lib\\site-packages\\statsmodels\\tsa\\holtwinters\\model.py:915: ConvergenceWarning: Optimization failed to converge. Check mle_retvals.\n",
      "  warnings.warn(\n",
      "C:\\Users\\Dani\\AppData\\Local\\Programs\\Python\\Python310\\lib\\site-packages\\statsmodels\\tsa\\holtwinters\\model.py:915: ConvergenceWarning: Optimization failed to converge. Check mle_retvals.\n",
      "  warnings.warn(\n",
      "C:\\Users\\Dani\\AppData\\Local\\Programs\\Python\\Python310\\lib\\site-packages\\statsmodels\\tsa\\holtwinters\\model.py:915: ConvergenceWarning: Optimization failed to converge. Check mle_retvals.\n",
      "  warnings.warn(\n"
     ]
    },
    {
     "name": "stdout",
     "output_type": "stream",
     "text": [
      "Tesztelve 5 különböző tanulási/tesztelési adatszetten - 3 napos predikció\n",
      "RMSE: 39.35\n",
      "MSE: 1800.3961\n",
      "MAE: 33.028\n",
      "MAPE: 2.0543%\n",
      "RMSE: 39.34999630798693, MSE: 1800.3960884999155, MAE: 33.027955336283036, MAPE: 0.02054285640291849\n",
      "mul mul False estimated\n"
     ]
    },
    {
     "name": "stderr",
     "output_type": "stream",
     "text": [
      "C:\\Users\\Dani\\AppData\\Local\\Programs\\Python\\Python310\\lib\\site-packages\\statsmodels\\tsa\\holtwinters\\model.py:83: RuntimeWarning: overflow encountered in matmul\n",
      "  return err.T @ err\n",
      "C:\\Users\\Dani\\AppData\\Local\\Programs\\Python\\Python310\\lib\\site-packages\\statsmodels\\tsa\\holtwinters\\model.py:915: ConvergenceWarning: Optimization failed to converge. Check mle_retvals.\n",
      "  warnings.warn(\n",
      "C:\\Users\\Dani\\AppData\\Local\\Programs\\Python\\Python310\\lib\\site-packages\\statsmodels\\tsa\\holtwinters\\model.py:83: RuntimeWarning: overflow encountered in matmul\n",
      "  return err.T @ err\n",
      "C:\\Users\\Dani\\AppData\\Local\\Programs\\Python\\Python310\\lib\\site-packages\\statsmodels\\tsa\\holtwinters\\model.py:915: ConvergenceWarning: Optimization failed to converge. Check mle_retvals.\n",
      "  warnings.warn(\n",
      "C:\\Users\\Dani\\AppData\\Local\\Programs\\Python\\Python310\\lib\\site-packages\\statsmodels\\tsa\\holtwinters\\model.py:83: RuntimeWarning: overflow encountered in matmul\n",
      "  return err.T @ err\n",
      "C:\\Users\\Dani\\AppData\\Local\\Programs\\Python\\Python310\\lib\\site-packages\\statsmodels\\tsa\\holtwinters\\model.py:915: ConvergenceWarning: Optimization failed to converge. Check mle_retvals.\n",
      "  warnings.warn(\n",
      "C:\\Users\\Dani\\AppData\\Local\\Programs\\Python\\Python310\\lib\\site-packages\\statsmodels\\tsa\\holtwinters\\model.py:83: RuntimeWarning: overflow encountered in matmul\n",
      "  return err.T @ err\n",
      "C:\\Users\\Dani\\AppData\\Local\\Programs\\Python\\Python310\\lib\\site-packages\\statsmodels\\tsa\\holtwinters\\model.py:915: ConvergenceWarning: Optimization failed to converge. Check mle_retvals.\n",
      "  warnings.warn(\n",
      "C:\\Users\\Dani\\AppData\\Local\\Programs\\Python\\Python310\\lib\\site-packages\\statsmodels\\tsa\\holtwinters\\model.py:83: RuntimeWarning: overflow encountered in matmul\n",
      "  return err.T @ err\n",
      "C:\\Users\\Dani\\AppData\\Local\\Programs\\Python\\Python310\\lib\\site-packages\\statsmodels\\tsa\\holtwinters\\model.py:915: ConvergenceWarning: Optimization failed to converge. Check mle_retvals.\n",
      "  warnings.warn(\n"
     ]
    },
    {
     "name": "stdout",
     "output_type": "stream",
     "text": [
      "Tesztelve 5 különböző tanulási/tesztelési adatszetten - 3 napos predikció\n",
      "RMSE: 36.4886\n",
      "MSE: 1545.2078\n",
      "MAE: 32.2336\n",
      "MAPE: 2.0005%\n",
      "RMSE: 36.488642951824, MSE: 1545.2077665873985, MAE: 32.23355872561921, MAPE: 0.02000526187886599\n",
      "mul mul False heuristic\n"
     ]
    },
    {
     "name": "stderr",
     "output_type": "stream",
     "text": [
      "C:\\Users\\Dani\\AppData\\Local\\Programs\\Python\\Python310\\lib\\site-packages\\statsmodels\\tsa\\holtwinters\\model.py:83: RuntimeWarning: overflow encountered in matmul\n",
      "  return err.T @ err\n",
      "C:\\Users\\Dani\\AppData\\Local\\Programs\\Python\\Python310\\lib\\site-packages\\statsmodels\\tsa\\holtwinters\\model.py:915: ConvergenceWarning: Optimization failed to converge. Check mle_retvals.\n",
      "  warnings.warn(\n",
      "C:\\Users\\Dani\\AppData\\Local\\Programs\\Python\\Python310\\lib\\site-packages\\statsmodels\\tsa\\holtwinters\\model.py:83: RuntimeWarning: overflow encountered in matmul\n",
      "  return err.T @ err\n",
      "C:\\Users\\Dani\\AppData\\Local\\Programs\\Python\\Python310\\lib\\site-packages\\statsmodels\\tsa\\holtwinters\\model.py:915: ConvergenceWarning: Optimization failed to converge. Check mle_retvals.\n",
      "  warnings.warn(\n",
      "C:\\Users\\Dani\\AppData\\Local\\Programs\\Python\\Python310\\lib\\site-packages\\statsmodels\\tsa\\holtwinters\\model.py:83: RuntimeWarning: overflow encountered in matmul\n",
      "  return err.T @ err\n",
      "C:\\Users\\Dani\\AppData\\Local\\Programs\\Python\\Python310\\lib\\site-packages\\statsmodels\\tsa\\holtwinters\\model.py:915: ConvergenceWarning: Optimization failed to converge. Check mle_retvals.\n",
      "  warnings.warn(\n",
      "C:\\Users\\Dani\\AppData\\Local\\Programs\\Python\\Python310\\lib\\site-packages\\statsmodels\\tsa\\holtwinters\\model.py:83: RuntimeWarning: overflow encountered in matmul\n",
      "  return err.T @ err\n",
      "C:\\Users\\Dani\\AppData\\Local\\Programs\\Python\\Python310\\lib\\site-packages\\statsmodels\\tsa\\holtwinters\\model.py:915: ConvergenceWarning: Optimization failed to converge. Check mle_retvals.\n",
      "  warnings.warn(\n",
      "C:\\Users\\Dani\\AppData\\Local\\Programs\\Python\\Python310\\lib\\site-packages\\statsmodels\\tsa\\holtwinters\\model.py:83: RuntimeWarning: overflow encountered in matmul\n",
      "  return err.T @ err\n",
      "C:\\Users\\Dani\\AppData\\Local\\Programs\\Python\\Python310\\lib\\site-packages\\statsmodels\\tsa\\holtwinters\\model.py:915: ConvergenceWarning: Optimization failed to converge. Check mle_retvals.\n",
      "  warnings.warn(\n"
     ]
    },
    {
     "name": "stdout",
     "output_type": "stream",
     "text": [
      "Tesztelve 5 különböző tanulási/tesztelési adatszetten - 3 napos predikció\n",
      "RMSE: 36.4886\n",
      "MSE: 1545.2078\n",
      "MAE: 32.2336\n",
      "MAPE: 2.0005%\n",
      "RMSE: 36.488642951824, MSE: 1545.2077665873985, MAE: 32.23355872561921, MAPE: 0.02000526187886599\n",
      "mul mul False legacy-heuristic\n"
     ]
    },
    {
     "name": "stderr",
     "output_type": "stream",
     "text": [
      "C:\\Users\\Dani\\AppData\\Local\\Programs\\Python\\Python310\\lib\\site-packages\\statsmodels\\tsa\\holtwinters\\model.py:83: RuntimeWarning: overflow encountered in matmul\n",
      "  return err.T @ err\n",
      "C:\\Users\\Dani\\AppData\\Local\\Programs\\Python\\Python310\\lib\\site-packages\\statsmodels\\tsa\\holtwinters\\model.py:915: ConvergenceWarning: Optimization failed to converge. Check mle_retvals.\n",
      "  warnings.warn(\n",
      "C:\\Users\\Dani\\AppData\\Local\\Programs\\Python\\Python310\\lib\\site-packages\\statsmodels\\tsa\\holtwinters\\model.py:83: RuntimeWarning: overflow encountered in matmul\n",
      "  return err.T @ err\n",
      "C:\\Users\\Dani\\AppData\\Local\\Programs\\Python\\Python310\\lib\\site-packages\\statsmodels\\tsa\\holtwinters\\model.py:915: ConvergenceWarning: Optimization failed to converge. Check mle_retvals.\n",
      "  warnings.warn(\n",
      "C:\\Users\\Dani\\AppData\\Local\\Programs\\Python\\Python310\\lib\\site-packages\\statsmodels\\tsa\\holtwinters\\model.py:83: RuntimeWarning: overflow encountered in matmul\n",
      "  return err.T @ err\n",
      "C:\\Users\\Dani\\AppData\\Local\\Programs\\Python\\Python310\\lib\\site-packages\\statsmodels\\tsa\\holtwinters\\model.py:915: ConvergenceWarning: Optimization failed to converge. Check mle_retvals.\n",
      "  warnings.warn(\n",
      "C:\\Users\\Dani\\AppData\\Local\\Programs\\Python\\Python310\\lib\\site-packages\\statsmodels\\tsa\\holtwinters\\model.py:915: ConvergenceWarning: Optimization failed to converge. Check mle_retvals.\n",
      "  warnings.warn(\n",
      "C:\\Users\\Dani\\AppData\\Local\\Programs\\Python\\Python310\\lib\\site-packages\\statsmodels\\tsa\\holtwinters\\model.py:915: ConvergenceWarning: Optimization failed to converge. Check mle_retvals.\n",
      "  warnings.warn(\n"
     ]
    },
    {
     "name": "stdout",
     "output_type": "stream",
     "text": [
      "Tesztelve 5 különböző tanulási/tesztelési adatszetten - 3 napos predikció\n",
      "RMSE: 36.5123\n",
      "MSE: 1516.0008\n",
      "MAE: 32.0155\n",
      "MAPE: 1.9849%\n",
      "RMSE: 36.5123366579746, MSE: 1516.0008492877464, MAE: 32.015540237153104, MAPE: 0.01984876072162741\n",
      "mul None True estimated\n",
      "Tesztelve 5 különböző tanulási/tesztelési adatszetten - 3 napos predikció\n",
      "RMSE: 39.8306\n",
      "MSE: 2250.0728\n",
      "MAE: 35.7989\n",
      "MAPE: 2.2252%\n",
      "RMSE: 39.830603060524254, MSE: 2250.072754353441, MAE: 35.79890197638581, MAPE: 0.02225195148470389\n",
      "mul None True heuristic\n",
      "Tesztelve 5 különböző tanulási/tesztelési adatszetten - 3 napos predikció\n",
      "RMSE: 39.8306\n",
      "MSE: 2250.0728\n",
      "MAE: 35.7989\n",
      "MAPE: 2.2252%\n",
      "RMSE: 39.830603060524254, MSE: 2250.072754353441, MAE: 35.79890197638581, MAPE: 0.02225195148470389\n",
      "mul None True legacy-heuristic\n",
      "Tesztelve 5 különböző tanulási/tesztelési adatszetten - 3 napos predikció\n",
      "RMSE: 39.8304\n",
      "MSE: 2250.0839\n",
      "MAE: 35.7987\n",
      "MAPE: 2.2252%\n",
      "RMSE: 39.83044008172938, MSE: 2250.08387269124, MAE: 35.798676406226136, MAPE: 0.022251812896346805\n",
      "mul None False estimated\n",
      "Tesztelve 5 különböző tanulási/tesztelési adatszetten - 3 napos predikció\n",
      "RMSE: 41.0366\n",
      "MSE: 2311.4336\n",
      "MAE: 37.3235\n",
      "MAPE: 2.3224%\n",
      "RMSE: 41.03656285276019, MSE: 2311.4336103351843, MAE: 37.323531383135425, MAPE: 0.023223640313276717\n",
      "mul None False heuristic\n",
      "Tesztelve 5 különböző tanulási/tesztelési adatszetten - 3 napos predikció\n",
      "RMSE: 41.0366\n",
      "MSE: 2311.4336\n",
      "MAE: 37.3235\n",
      "MAPE: 2.3224%\n",
      "RMSE: 41.03656285276019, MSE: 2311.4336103351843, MAE: 37.323531383135425, MAPE: 0.023223640313276717\n",
      "mul None False legacy-heuristic\n"
     ]
    },
    {
     "name": "stderr",
     "output_type": "stream",
     "text": [
      "C:\\Users\\Dani\\AppData\\Local\\Programs\\Python\\Python310\\lib\\site-packages\\statsmodels\\tsa\\holtwinters\\model.py:83: RuntimeWarning: overflow encountered in matmul\n",
      "  return err.T @ err\n",
      "C:\\Users\\Dani\\AppData\\Local\\Programs\\Python\\Python310\\lib\\site-packages\\statsmodels\\tsa\\holtwinters\\model.py:83: RuntimeWarning: overflow encountered in matmul\n",
      "  return err.T @ err\n",
      "C:\\Users\\Dani\\AppData\\Local\\Programs\\Python\\Python310\\lib\\site-packages\\statsmodels\\tsa\\holtwinters\\model.py:83: RuntimeWarning: overflow encountered in matmul\n",
      "  return err.T @ err\n"
     ]
    },
    {
     "name": "stdout",
     "output_type": "stream",
     "text": [
      "Tesztelve 5 különböző tanulási/tesztelési adatszetten - 3 napos predikció\n",
      "RMSE: 41.0383\n",
      "MSE: 2311.1403\n",
      "MAE: 37.3243\n",
      "MAPE: 2.3224%\n",
      "RMSE: 41.03825260716842, MSE: 2311.1402968271186, MAE: 37.32432658605782, MAPE: 0.02322428729828195\n"
     ]
    },
    {
     "name": "stderr",
     "output_type": "stream",
     "text": [
      "C:\\Users\\Dani\\AppData\\Local\\Programs\\Python\\Python310\\lib\\site-packages\\statsmodels\\tsa\\holtwinters\\model.py:83: RuntimeWarning: overflow encountered in matmul\n",
      "  return err.T @ err\n",
      "C:\\Users\\Dani\\AppData\\Local\\Programs\\Python\\Python310\\lib\\site-packages\\statsmodels\\tsa\\holtwinters\\model.py:83: RuntimeWarning: overflow encountered in matmul\n",
      "  return err.T @ err\n"
     ]
    }
   ],
   "source": [
    "best_rmse = float('inf')\n",
    "best_options = None\n",
    "\n",
    "for x in itertools.product(*tuple_of_option_lists):\n",
    "    print(*x)\n",
    "    rmse, mse, mae, mape = gridsearch_timeseriessplit(*x)\n",
    "    print(f\"RMSE: {rmse}, MSE: {mse}, MAE: {mae}, MAPE: {mape}\")\n",
    "    \n",
    "    if rmse < best_rmse: ## ha kisebb, akkor jobb az rmse\n",
    "        print(\"Best RMSE so far:\", rmse)\n",
    "        best_rmse = rmse\n",
    "        best_mse = mse\n",
    "        best_mae = mae\n",
    "        best_mape = mape\n",
    "        best_options = x"
   ]
  },
  {
   "cell_type": "code",
   "execution_count": 31,
   "id": "f61416af",
   "metadata": {},
   "outputs": [
    {
     "name": "stdout",
     "output_type": "stream",
     "text": [
      "Legjobb RMSE: 35.5435\n",
      "Legjobb MSE: 35.5435\n",
      "Legjobb MAE: 30.8981\n",
      "Legjobb MAPE: 1.9202\n",
      "Legjobb hiperparaméter-kombináció\n",
      "trend_type: add\n",
      "seasonal_type: mul\n",
      "damped_trend: True\n",
      "init_method: legacy-heuristic\n"
     ]
    }
   ],
   "source": [
    "print(\"Legjobb RMSE:\", round(best_rmse, 4))\n",
    "print(\"Legjobb MSE:\", round(best_rmse, 4))\n",
    "print(\"Legjobb MAE:\", round(best_mae, 4))\n",
    "print(\"Legjobb MAPE:\", round(best_mape*100, 4))\n",
    "\n",
    "\n",
    "trend_type, seasonal_type, damped_trend, init_method = best_options\n",
    "print(\"Legjobb hiperparaméter-kombináció\")\n",
    "print(\"trend_type:\", trend_type)\n",
    "print(\"seasonal_type:\", seasonal_type)\n",
    "print(\"damped_trend:\", damped_trend)\n",
    "print(\"init_method:\", init_method)"
   ]
  },
  {
   "cell_type": "markdown",
   "id": "73cec255",
   "metadata": {},
   "source": [
    "## Findings\n",
    "\n",
    "Legjobb RMSE: 35.5435\n",
    "Legjobb MSE: 35.5435\n",
    "Legjobb MAE: 30.8981\n",
    "Legjobb MAPE: 1.9202\n",
    "\n",
    "Legjobb hiperparaméter-kombináció\n",
    "trend_type: add\n",
    "seasonal_type: mul\n",
    "damped_trend: True\n",
    "init_method: legacy-heuristic"
   ]
  },
  {
   "cell_type": "markdown",
   "id": "b94b6726",
   "metadata": {},
   "source": [
    "## 7 DAY"
   ]
  },
  {
   "cell_type": "code",
   "execution_count": 32,
   "id": "e957fd4c",
   "metadata": {},
   "outputs": [],
   "source": [
    "from sklearn.model_selection import TimeSeriesSplit\n",
    "\n",
    "tss = TimeSeriesSplit(n_splits=5, test_size=7, gap=0)\n",
    "df_close = df_close.sort_index()"
   ]
  },
  {
   "cell_type": "code",
   "execution_count": 33,
   "id": "6148317b",
   "metadata": {},
   "outputs": [],
   "source": [
    "def gridsearch_timeseriessplit(trend_type, seasonal_type, damped_trend, init_method):\n",
    "\n",
    "    #fig, axs = plt.subplots(5, 1, figsize=(15, 15), sharex=True)\n",
    "    root_mean_squared_errors = []\n",
    "    mean_squared_errors = []\n",
    "    mean_absolute_errors = []\n",
    "    mean_absolute_percentage_errors = []\n",
    "    #fold = 0\n",
    "\n",
    "    for train_idx, val_idx in tss.split(df_close):\n",
    "        train = df_close.iloc[train_idx]\n",
    "        test = df_close.iloc[val_idx]\n",
    "        \n",
    "        ## PLOTTING NOT IMPORTANT\n",
    "        #train['eth_close'].plot(ax=axs[fold], label='Training Set', title=f'Data Train/Test Split Fold {fold}')\n",
    "        #test['eth_close'].plot(ax=axs[fold], label='Test Set')\n",
    "        #axs[fold].axvline(test.index.min(), color='black', ls='--')\n",
    "        #fold += 1\n",
    "\n",
    "        if seasonal_type != None:\n",
    "\n",
    "            hw = ExponentialSmoothing(\n",
    "                  train['logclose'],\n",
    "                  initialization_method=init_method,\n",
    "                  trend=trend_type,\n",
    "                  damped_trend=damped_trend,\n",
    "                  seasonal=seasonal_type,\n",
    "                  seasonal_periods=365)\n",
    "        else:\n",
    "            hw = ExponentialSmoothing(\n",
    "                  train['logclose'],\n",
    "                  initialization_method=init_method,\n",
    "                  trend=trend_type,\n",
    "                  damped_trend=damped_trend,\n",
    "                  seasonal=seasonal_type)\n",
    "\n",
    "        res_hw = hw.fit()\n",
    "        fcast = res_hw.forecast(len(test))\n",
    "        \n",
    "        rmse = mean_squared_error(test['eth_close'], np.exp(fcast), squared=False)\n",
    "        root_mean_squared_errors.append(rmse)\n",
    "        mse = mean_squared_error(test['eth_close'], np.exp(fcast), squared=True)\n",
    "        mean_squared_errors.append(mse)        \n",
    "        mae = mean_absolute_error(test['eth_close'], np.exp(fcast))\n",
    "        mean_absolute_errors.append(mae)\n",
    "        mape = mean_absolute_percentage_error(test['eth_close'], np.exp(fcast))\n",
    "        mean_absolute_percentage_errors.append(mape)\n",
    "        \n",
    "\n",
    "    #plt.show()\n",
    "\n",
    "    print(\"Tesztelve 5 különböző tanulási/tesztelési adatszetten - 7 napos predikció\")\n",
    "    print(f\"RMSE: {round(np.mean(root_mean_squared_errors), 4)}\")\n",
    "    print(f\"MSE: {round(np.mean(mean_squared_errors), 4)}\")\n",
    "    print(f\"MAE: {round(np.mean(mean_absolute_errors), 4)}\")\n",
    "    print(f\"MAPE: {str(round(np.mean(mean_absolute_percentage_errors)*100, 4))}%\")\n",
    "    return np.mean(root_mean_squared_errors), np.mean(mean_squared_errors), np.mean(mean_absolute_errors), np.mean(mean_absolute_percentage_errors)"
   ]
  },
  {
   "cell_type": "code",
   "execution_count": 34,
   "id": "dcf4f7c9",
   "metadata": {},
   "outputs": [],
   "source": [
    "# Configuration hyperparameters to try\n",
    "trend_type_list = ['add', 'mul']\n",
    "seasonal_type_list = ['add', 'mul', None]\n",
    "damped_trend_list = [True, False]\n",
    "init_method_list = ['estimated', 'heuristic', 'legacy-heuristic']\n",
    "## box-cox not required since log dataset"
   ]
  },
  {
   "cell_type": "code",
   "execution_count": 35,
   "id": "b5868e0f",
   "metadata": {},
   "outputs": [],
   "source": [
    "# Grid Search\n",
    "tuple_of_option_lists = (\n",
    "    trend_type_list,\n",
    "    seasonal_type_list,\n",
    "    damped_trend_list,\n",
    "    init_method_list\n",
    ")"
   ]
  },
  {
   "cell_type": "code",
   "execution_count": 36,
   "id": "0aecf97e",
   "metadata": {},
   "outputs": [
    {
     "name": "stdout",
     "output_type": "stream",
     "text": [
      "add add True estimated\n"
     ]
    },
    {
     "name": "stderr",
     "output_type": "stream",
     "text": [
      "C:\\Users\\Dani\\AppData\\Local\\Programs\\Python\\Python310\\lib\\site-packages\\statsmodels\\tsa\\holtwinters\\model.py:915: ConvergenceWarning: Optimization failed to converge. Check mle_retvals.\n",
      "  warnings.warn(\n",
      "C:\\Users\\Dani\\AppData\\Local\\Programs\\Python\\Python310\\lib\\site-packages\\statsmodels\\tsa\\holtwinters\\model.py:915: ConvergenceWarning: Optimization failed to converge. Check mle_retvals.\n",
      "  warnings.warn(\n",
      "C:\\Users\\Dani\\AppData\\Local\\Programs\\Python\\Python310\\lib\\site-packages\\statsmodels\\tsa\\holtwinters\\model.py:915: ConvergenceWarning: Optimization failed to converge. Check mle_retvals.\n",
      "  warnings.warn(\n",
      "C:\\Users\\Dani\\AppData\\Local\\Programs\\Python\\Python310\\lib\\site-packages\\statsmodels\\tsa\\holtwinters\\model.py:915: ConvergenceWarning: Optimization failed to converge. Check mle_retvals.\n",
      "  warnings.warn(\n",
      "C:\\Users\\Dani\\AppData\\Local\\Programs\\Python\\Python310\\lib\\site-packages\\statsmodels\\tsa\\holtwinters\\model.py:915: ConvergenceWarning: Optimization failed to converge. Check mle_retvals.\n",
      "  warnings.warn(\n"
     ]
    },
    {
     "name": "stdout",
     "output_type": "stream",
     "text": [
      "Tesztelve 5 különböző tanulási/tesztelési adatszetten - 7 napos predikció\n",
      "RMSE: 98.8744\n",
      "MSE: 14621.3\n",
      "MAE: 93.1133\n",
      "MAPE: 5.8482%\n",
      "RMSE: 98.87438434514972, MSE: 14621.300004798308, MAE: 93.11330661996976, MAPE: 0.05848170542464365\n",
      "Best RMSE so far: 98.87438434514972\n",
      "add add True heuristic\n"
     ]
    },
    {
     "name": "stderr",
     "output_type": "stream",
     "text": [
      "C:\\Users\\Dani\\AppData\\Local\\Programs\\Python\\Python310\\lib\\site-packages\\statsmodels\\tsa\\holtwinters\\model.py:915: ConvergenceWarning: Optimization failed to converge. Check mle_retvals.\n",
      "  warnings.warn(\n",
      "C:\\Users\\Dani\\AppData\\Local\\Programs\\Python\\Python310\\lib\\site-packages\\statsmodels\\tsa\\holtwinters\\model.py:915: ConvergenceWarning: Optimization failed to converge. Check mle_retvals.\n",
      "  warnings.warn(\n",
      "C:\\Users\\Dani\\AppData\\Local\\Programs\\Python\\Python310\\lib\\site-packages\\statsmodels\\tsa\\holtwinters\\model.py:915: ConvergenceWarning: Optimization failed to converge. Check mle_retvals.\n",
      "  warnings.warn(\n",
      "C:\\Users\\Dani\\AppData\\Local\\Programs\\Python\\Python310\\lib\\site-packages\\statsmodels\\tsa\\holtwinters\\model.py:915: ConvergenceWarning: Optimization failed to converge. Check mle_retvals.\n",
      "  warnings.warn(\n",
      "C:\\Users\\Dani\\AppData\\Local\\Programs\\Python\\Python310\\lib\\site-packages\\statsmodels\\tsa\\holtwinters\\model.py:915: ConvergenceWarning: Optimization failed to converge. Check mle_retvals.\n",
      "  warnings.warn(\n"
     ]
    },
    {
     "name": "stdout",
     "output_type": "stream",
     "text": [
      "Tesztelve 5 különböző tanulási/tesztelési adatszetten - 7 napos predikció\n",
      "RMSE: 98.8744\n",
      "MSE: 14621.3\n",
      "MAE: 93.1133\n",
      "MAPE: 5.8482%\n",
      "RMSE: 98.87438434514972, MSE: 14621.300004798308, MAE: 93.11330661996976, MAPE: 0.05848170542464365\n",
      "add add True legacy-heuristic\n"
     ]
    },
    {
     "name": "stderr",
     "output_type": "stream",
     "text": [
      "C:\\Users\\Dani\\AppData\\Local\\Programs\\Python\\Python310\\lib\\site-packages\\statsmodels\\tsa\\holtwinters\\model.py:915: ConvergenceWarning: Optimization failed to converge. Check mle_retvals.\n",
      "  warnings.warn(\n",
      "C:\\Users\\Dani\\AppData\\Local\\Programs\\Python\\Python310\\lib\\site-packages\\statsmodels\\tsa\\holtwinters\\model.py:915: ConvergenceWarning: Optimization failed to converge. Check mle_retvals.\n",
      "  warnings.warn(\n",
      "C:\\Users\\Dani\\AppData\\Local\\Programs\\Python\\Python310\\lib\\site-packages\\statsmodels\\tsa\\holtwinters\\model.py:915: ConvergenceWarning: Optimization failed to converge. Check mle_retvals.\n",
      "  warnings.warn(\n",
      "C:\\Users\\Dani\\AppData\\Local\\Programs\\Python\\Python310\\lib\\site-packages\\statsmodels\\tsa\\holtwinters\\model.py:915: ConvergenceWarning: Optimization failed to converge. Check mle_retvals.\n",
      "  warnings.warn(\n",
      "C:\\Users\\Dani\\AppData\\Local\\Programs\\Python\\Python310\\lib\\site-packages\\statsmodels\\tsa\\holtwinters\\model.py:915: ConvergenceWarning: Optimization failed to converge. Check mle_retvals.\n",
      "  warnings.warn(\n"
     ]
    },
    {
     "name": "stdout",
     "output_type": "stream",
     "text": [
      "Tesztelve 5 különböző tanulási/tesztelési adatszetten - 7 napos predikció\n",
      "RMSE: 102.7338\n",
      "MSE: 17140.9381\n",
      "MAE: 96.9654\n",
      "MAPE: 6.1065%\n",
      "RMSE: 102.73379307032364, MSE: 17140.93811397496, MAE: 96.96535306546512, MAPE: 0.06106509139938223\n",
      "add add False estimated\n"
     ]
    },
    {
     "name": "stderr",
     "output_type": "stream",
     "text": [
      "C:\\Users\\Dani\\AppData\\Local\\Programs\\Python\\Python310\\lib\\site-packages\\statsmodels\\tsa\\holtwinters\\model.py:915: ConvergenceWarning: Optimization failed to converge. Check mle_retvals.\n",
      "  warnings.warn(\n",
      "C:\\Users\\Dani\\AppData\\Local\\Programs\\Python\\Python310\\lib\\site-packages\\statsmodels\\tsa\\holtwinters\\model.py:915: ConvergenceWarning: Optimization failed to converge. Check mle_retvals.\n",
      "  warnings.warn(\n",
      "C:\\Users\\Dani\\AppData\\Local\\Programs\\Python\\Python310\\lib\\site-packages\\statsmodels\\tsa\\holtwinters\\model.py:915: ConvergenceWarning: Optimization failed to converge. Check mle_retvals.\n",
      "  warnings.warn(\n",
      "C:\\Users\\Dani\\AppData\\Local\\Programs\\Python\\Python310\\lib\\site-packages\\statsmodels\\tsa\\holtwinters\\model.py:915: ConvergenceWarning: Optimization failed to converge. Check mle_retvals.\n",
      "  warnings.warn(\n",
      "C:\\Users\\Dani\\AppData\\Local\\Programs\\Python\\Python310\\lib\\site-packages\\statsmodels\\tsa\\holtwinters\\model.py:915: ConvergenceWarning: Optimization failed to converge. Check mle_retvals.\n",
      "  warnings.warn(\n"
     ]
    },
    {
     "name": "stdout",
     "output_type": "stream",
     "text": [
      "Tesztelve 5 különböző tanulási/tesztelési adatszetten - 7 napos predikció\n",
      "RMSE: 99.5111\n",
      "MSE: 15137.6063\n",
      "MAE: 93.6477\n",
      "MAPE: 5.8836%\n",
      "RMSE: 99.51111831529411, MSE: 15137.606319250039, MAE: 93.64771346911839, MAPE: 0.058836205846841946\n",
      "add add False heuristic\n"
     ]
    },
    {
     "name": "stderr",
     "output_type": "stream",
     "text": [
      "C:\\Users\\Dani\\AppData\\Local\\Programs\\Python\\Python310\\lib\\site-packages\\statsmodels\\tsa\\holtwinters\\model.py:915: ConvergenceWarning: Optimization failed to converge. Check mle_retvals.\n",
      "  warnings.warn(\n",
      "C:\\Users\\Dani\\AppData\\Local\\Programs\\Python\\Python310\\lib\\site-packages\\statsmodels\\tsa\\holtwinters\\model.py:915: ConvergenceWarning: Optimization failed to converge. Check mle_retvals.\n",
      "  warnings.warn(\n",
      "C:\\Users\\Dani\\AppData\\Local\\Programs\\Python\\Python310\\lib\\site-packages\\statsmodels\\tsa\\holtwinters\\model.py:915: ConvergenceWarning: Optimization failed to converge. Check mle_retvals.\n",
      "  warnings.warn(\n",
      "C:\\Users\\Dani\\AppData\\Local\\Programs\\Python\\Python310\\lib\\site-packages\\statsmodels\\tsa\\holtwinters\\model.py:915: ConvergenceWarning: Optimization failed to converge. Check mle_retvals.\n",
      "  warnings.warn(\n",
      "C:\\Users\\Dani\\AppData\\Local\\Programs\\Python\\Python310\\lib\\site-packages\\statsmodels\\tsa\\holtwinters\\model.py:915: ConvergenceWarning: Optimization failed to converge. Check mle_retvals.\n",
      "  warnings.warn(\n"
     ]
    },
    {
     "name": "stdout",
     "output_type": "stream",
     "text": [
      "Tesztelve 5 különböző tanulási/tesztelési adatszetten - 7 napos predikció\n",
      "RMSE: 99.5111\n",
      "MSE: 15137.6063\n",
      "MAE: 93.6477\n",
      "MAPE: 5.8836%\n",
      "RMSE: 99.51111831529411, MSE: 15137.606319250039, MAE: 93.64771346911839, MAPE: 0.058836205846841946\n",
      "add add False legacy-heuristic\n"
     ]
    },
    {
     "name": "stderr",
     "output_type": "stream",
     "text": [
      "C:\\Users\\Dani\\AppData\\Local\\Programs\\Python\\Python310\\lib\\site-packages\\statsmodels\\tsa\\holtwinters\\model.py:915: ConvergenceWarning: Optimization failed to converge. Check mle_retvals.\n",
      "  warnings.warn(\n",
      "C:\\Users\\Dani\\AppData\\Local\\Programs\\Python\\Python310\\lib\\site-packages\\statsmodels\\tsa\\holtwinters\\model.py:915: ConvergenceWarning: Optimization failed to converge. Check mle_retvals.\n",
      "  warnings.warn(\n",
      "C:\\Users\\Dani\\AppData\\Local\\Programs\\Python\\Python310\\lib\\site-packages\\statsmodels\\tsa\\holtwinters\\model.py:915: ConvergenceWarning: Optimization failed to converge. Check mle_retvals.\n",
      "  warnings.warn(\n",
      "C:\\Users\\Dani\\AppData\\Local\\Programs\\Python\\Python310\\lib\\site-packages\\statsmodels\\tsa\\holtwinters\\model.py:915: ConvergenceWarning: Optimization failed to converge. Check mle_retvals.\n",
      "  warnings.warn(\n",
      "C:\\Users\\Dani\\AppData\\Local\\Programs\\Python\\Python310\\lib\\site-packages\\statsmodels\\tsa\\holtwinters\\model.py:915: ConvergenceWarning: Optimization failed to converge. Check mle_retvals.\n",
      "  warnings.warn(\n"
     ]
    },
    {
     "name": "stdout",
     "output_type": "stream",
     "text": [
      "Tesztelve 5 különböző tanulási/tesztelési adatszetten - 7 napos predikció\n",
      "RMSE: 105.1768\n",
      "MSE: 15804.2705\n",
      "MAE: 98.3994\n",
      "MAPE: 6.1559%\n",
      "RMSE: 105.17678646671159, MSE: 15804.270497345944, MAE: 98.3994174010338, MAPE: 0.06155896993657538\n",
      "add mul True estimated\n"
     ]
    },
    {
     "name": "stderr",
     "output_type": "stream",
     "text": [
      "C:\\Users\\Dani\\AppData\\Local\\Programs\\Python\\Python310\\lib\\site-packages\\statsmodels\\tsa\\holtwinters\\model.py:915: ConvergenceWarning: Optimization failed to converge. Check mle_retvals.\n",
      "  warnings.warn(\n",
      "C:\\Users\\Dani\\AppData\\Local\\Programs\\Python\\Python310\\lib\\site-packages\\statsmodels\\tsa\\holtwinters\\model.py:915: ConvergenceWarning: Optimization failed to converge. Check mle_retvals.\n",
      "  warnings.warn(\n",
      "C:\\Users\\Dani\\AppData\\Local\\Programs\\Python\\Python310\\lib\\site-packages\\statsmodels\\tsa\\holtwinters\\model.py:915: ConvergenceWarning: Optimization failed to converge. Check mle_retvals.\n",
      "  warnings.warn(\n",
      "C:\\Users\\Dani\\AppData\\Local\\Programs\\Python\\Python310\\lib\\site-packages\\statsmodels\\tsa\\holtwinters\\model.py:915: ConvergenceWarning: Optimization failed to converge. Check mle_retvals.\n",
      "  warnings.warn(\n",
      "C:\\Users\\Dani\\AppData\\Local\\Programs\\Python\\Python310\\lib\\site-packages\\statsmodels\\tsa\\holtwinters\\model.py:915: ConvergenceWarning: Optimization failed to converge. Check mle_retvals.\n",
      "  warnings.warn(\n"
     ]
    },
    {
     "name": "stdout",
     "output_type": "stream",
     "text": [
      "Tesztelve 5 különböző tanulási/tesztelési adatszetten - 7 napos predikció\n",
      "RMSE: 104.8125\n",
      "MSE: 16958.9369\n",
      "MAE: 98.7577\n",
      "MAPE: 6.2058%\n",
      "RMSE: 104.8125406985431, MSE: 16958.936897870128, MAE: 98.75768960613587, MAPE: 0.06205790109115661\n",
      "add mul True heuristic\n"
     ]
    },
    {
     "name": "stderr",
     "output_type": "stream",
     "text": [
      "C:\\Users\\Dani\\AppData\\Local\\Programs\\Python\\Python310\\lib\\site-packages\\statsmodels\\tsa\\holtwinters\\model.py:915: ConvergenceWarning: Optimization failed to converge. Check mle_retvals.\n",
      "  warnings.warn(\n",
      "C:\\Users\\Dani\\AppData\\Local\\Programs\\Python\\Python310\\lib\\site-packages\\statsmodels\\tsa\\holtwinters\\model.py:915: ConvergenceWarning: Optimization failed to converge. Check mle_retvals.\n",
      "  warnings.warn(\n",
      "C:\\Users\\Dani\\AppData\\Local\\Programs\\Python\\Python310\\lib\\site-packages\\statsmodels\\tsa\\holtwinters\\model.py:915: ConvergenceWarning: Optimization failed to converge. Check mle_retvals.\n",
      "  warnings.warn(\n",
      "C:\\Users\\Dani\\AppData\\Local\\Programs\\Python\\Python310\\lib\\site-packages\\statsmodels\\tsa\\holtwinters\\model.py:915: ConvergenceWarning: Optimization failed to converge. Check mle_retvals.\n",
      "  warnings.warn(\n",
      "C:\\Users\\Dani\\AppData\\Local\\Programs\\Python\\Python310\\lib\\site-packages\\statsmodels\\tsa\\holtwinters\\model.py:915: ConvergenceWarning: Optimization failed to converge. Check mle_retvals.\n",
      "  warnings.warn(\n"
     ]
    },
    {
     "name": "stdout",
     "output_type": "stream",
     "text": [
      "Tesztelve 5 különböző tanulási/tesztelési adatszetten - 7 napos predikció\n",
      "RMSE: 104.8125\n",
      "MSE: 16958.9369\n",
      "MAE: 98.7577\n",
      "MAPE: 6.2058%\n",
      "RMSE: 104.8125406985431, MSE: 16958.936897870128, MAE: 98.75768960613587, MAPE: 0.06205790109115661\n",
      "add mul True legacy-heuristic\n"
     ]
    },
    {
     "name": "stderr",
     "output_type": "stream",
     "text": [
      "C:\\Users\\Dani\\AppData\\Local\\Programs\\Python\\Python310\\lib\\site-packages\\statsmodels\\tsa\\holtwinters\\model.py:915: ConvergenceWarning: Optimization failed to converge. Check mle_retvals.\n",
      "  warnings.warn(\n",
      "C:\\Users\\Dani\\AppData\\Local\\Programs\\Python\\Python310\\lib\\site-packages\\statsmodels\\tsa\\holtwinters\\model.py:915: ConvergenceWarning: Optimization failed to converge. Check mle_retvals.\n",
      "  warnings.warn(\n",
      "C:\\Users\\Dani\\AppData\\Local\\Programs\\Python\\Python310\\lib\\site-packages\\statsmodels\\tsa\\holtwinters\\model.py:915: ConvergenceWarning: Optimization failed to converge. Check mle_retvals.\n",
      "  warnings.warn(\n",
      "C:\\Users\\Dani\\AppData\\Local\\Programs\\Python\\Python310\\lib\\site-packages\\statsmodels\\tsa\\holtwinters\\model.py:915: ConvergenceWarning: Optimization failed to converge. Check mle_retvals.\n",
      "  warnings.warn(\n",
      "C:\\Users\\Dani\\AppData\\Local\\Programs\\Python\\Python310\\lib\\site-packages\\statsmodels\\tsa\\holtwinters\\model.py:915: ConvergenceWarning: Optimization failed to converge. Check mle_retvals.\n",
      "  warnings.warn(\n"
     ]
    },
    {
     "name": "stdout",
     "output_type": "stream",
     "text": [
      "Tesztelve 5 különböző tanulási/tesztelési adatszetten - 7 napos predikció\n",
      "RMSE: 115.9524\n",
      "MSE: 21546.4883\n",
      "MAE: 110.0027\n",
      "MAPE: 6.9043%\n",
      "RMSE: 115.95239322589046, MSE: 21546.488320422715, MAE: 110.00267932317941, MAPE: 0.06904306942198217\n",
      "add mul False estimated\n"
     ]
    },
    {
     "name": "stderr",
     "output_type": "stream",
     "text": [
      "C:\\Users\\Dani\\AppData\\Local\\Programs\\Python\\Python310\\lib\\site-packages\\statsmodels\\tsa\\holtwinters\\model.py:915: ConvergenceWarning: Optimization failed to converge. Check mle_retvals.\n",
      "  warnings.warn(\n",
      "C:\\Users\\Dani\\AppData\\Local\\Programs\\Python\\Python310\\lib\\site-packages\\statsmodels\\tsa\\holtwinters\\model.py:915: ConvergenceWarning: Optimization failed to converge. Check mle_retvals.\n",
      "  warnings.warn(\n",
      "C:\\Users\\Dani\\AppData\\Local\\Programs\\Python\\Python310\\lib\\site-packages\\statsmodels\\tsa\\holtwinters\\model.py:915: ConvergenceWarning: Optimization failed to converge. Check mle_retvals.\n",
      "  warnings.warn(\n",
      "C:\\Users\\Dani\\AppData\\Local\\Programs\\Python\\Python310\\lib\\site-packages\\statsmodels\\tsa\\holtwinters\\model.py:915: ConvergenceWarning: Optimization failed to converge. Check mle_retvals.\n",
      "  warnings.warn(\n",
      "C:\\Users\\Dani\\AppData\\Local\\Programs\\Python\\Python310\\lib\\site-packages\\statsmodels\\tsa\\holtwinters\\model.py:915: ConvergenceWarning: Optimization failed to converge. Check mle_retvals.\n",
      "  warnings.warn(\n"
     ]
    },
    {
     "name": "stdout",
     "output_type": "stream",
     "text": [
      "Tesztelve 5 különböző tanulási/tesztelési adatszetten - 7 napos predikció\n",
      "RMSE: 102.5606\n",
      "MSE: 16008.7373\n",
      "MAE: 96.5256\n",
      "MAPE: 6.0609%\n",
      "RMSE: 102.56063685857877, MSE: 16008.737298342836, MAE: 96.52562090838077, MAPE: 0.060609255792844374\n",
      "add mul False heuristic\n"
     ]
    },
    {
     "name": "stderr",
     "output_type": "stream",
     "text": [
      "C:\\Users\\Dani\\AppData\\Local\\Programs\\Python\\Python310\\lib\\site-packages\\statsmodels\\tsa\\holtwinters\\model.py:915: ConvergenceWarning: Optimization failed to converge. Check mle_retvals.\n",
      "  warnings.warn(\n",
      "C:\\Users\\Dani\\AppData\\Local\\Programs\\Python\\Python310\\lib\\site-packages\\statsmodels\\tsa\\holtwinters\\model.py:915: ConvergenceWarning: Optimization failed to converge. Check mle_retvals.\n",
      "  warnings.warn(\n",
      "C:\\Users\\Dani\\AppData\\Local\\Programs\\Python\\Python310\\lib\\site-packages\\statsmodels\\tsa\\holtwinters\\model.py:915: ConvergenceWarning: Optimization failed to converge. Check mle_retvals.\n",
      "  warnings.warn(\n",
      "C:\\Users\\Dani\\AppData\\Local\\Programs\\Python\\Python310\\lib\\site-packages\\statsmodels\\tsa\\holtwinters\\model.py:915: ConvergenceWarning: Optimization failed to converge. Check mle_retvals.\n",
      "  warnings.warn(\n",
      "C:\\Users\\Dani\\AppData\\Local\\Programs\\Python\\Python310\\lib\\site-packages\\statsmodels\\tsa\\holtwinters\\model.py:915: ConvergenceWarning: Optimization failed to converge. Check mle_retvals.\n",
      "  warnings.warn(\n"
     ]
    },
    {
     "name": "stdout",
     "output_type": "stream",
     "text": [
      "Tesztelve 5 különböző tanulási/tesztelési adatszetten - 7 napos predikció\n",
      "RMSE: 102.5606\n",
      "MSE: 16008.7373\n",
      "MAE: 96.5256\n",
      "MAPE: 6.0609%\n",
      "RMSE: 102.56063685857877, MSE: 16008.737298342836, MAE: 96.52562090838077, MAPE: 0.060609255792844374\n",
      "add mul False legacy-heuristic\n"
     ]
    },
    {
     "name": "stderr",
     "output_type": "stream",
     "text": [
      "C:\\Users\\Dani\\AppData\\Local\\Programs\\Python\\Python310\\lib\\site-packages\\statsmodels\\tsa\\holtwinters\\model.py:915: ConvergenceWarning: Optimization failed to converge. Check mle_retvals.\n",
      "  warnings.warn(\n",
      "C:\\Users\\Dani\\AppData\\Local\\Programs\\Python\\Python310\\lib\\site-packages\\statsmodels\\tsa\\holtwinters\\model.py:915: ConvergenceWarning: Optimization failed to converge. Check mle_retvals.\n",
      "  warnings.warn(\n",
      "C:\\Users\\Dani\\AppData\\Local\\Programs\\Python\\Python310\\lib\\site-packages\\statsmodels\\tsa\\holtwinters\\model.py:915: ConvergenceWarning: Optimization failed to converge. Check mle_retvals.\n",
      "  warnings.warn(\n",
      "C:\\Users\\Dani\\AppData\\Local\\Programs\\Python\\Python310\\lib\\site-packages\\statsmodels\\tsa\\holtwinters\\model.py:915: ConvergenceWarning: Optimization failed to converge. Check mle_retvals.\n",
      "  warnings.warn(\n",
      "C:\\Users\\Dani\\AppData\\Local\\Programs\\Python\\Python310\\lib\\site-packages\\statsmodels\\tsa\\holtwinters\\model.py:915: ConvergenceWarning: Optimization failed to converge. Check mle_retvals.\n",
      "  warnings.warn(\n"
     ]
    },
    {
     "name": "stdout",
     "output_type": "stream",
     "text": [
      "Tesztelve 5 különböző tanulási/tesztelési adatszetten - 7 napos predikció\n",
      "RMSE: 107.2428\n",
      "MSE: 14518.6772\n",
      "MAE: 99.3831\n",
      "MAPE: 6.2054%\n",
      "RMSE: 107.24284047834001, MSE: 14518.677194533788, MAE: 99.3830975521432, MAPE: 0.062054499151741695\n",
      "add None True estimated\n",
      "Tesztelve 5 különböző tanulási/tesztelési adatszetten - 7 napos predikció\n",
      "RMSE: 83.1631\n",
      "MSE: 8487.7853\n",
      "MAE: 79.4005\n",
      "MAPE: 4.9301%\n",
      "RMSE: 83.16312327712959, MSE: 8487.785287924375, MAE: 79.40054318280768, MAPE: 0.04930054688797668\n",
      "Best RMSE so far: 83.16312327712959\n",
      "add None True heuristic\n",
      "Tesztelve 5 különböző tanulási/tesztelési adatszetten - 7 napos predikció\n",
      "RMSE: 83.1631\n",
      "MSE: 8487.7853\n",
      "MAE: 79.4005\n",
      "MAPE: 4.9301%\n",
      "RMSE: 83.16312327712959, MSE: 8487.785287924375, MAE: 79.40054318280768, MAPE: 0.04930054688797668\n",
      "add None True legacy-heuristic\n",
      "Tesztelve 5 különböző tanulási/tesztelési adatszetten - 7 napos predikció\n",
      "RMSE: 83.1608\n",
      "MSE: 8487.433\n",
      "MAE: 79.3981\n",
      "MAPE: 4.9299%\n",
      "RMSE: 83.16080481667561, MSE: 8487.433023116997, MAE: 79.39811918323252, MAPE: 0.04929911468305122\n",
      "Best RMSE so far: 83.16080481667561\n",
      "add None False estimated\n",
      "Tesztelve 5 különböző tanulási/tesztelési adatszetten - 7 napos predikció\n",
      "RMSE: 82.6179\n",
      "MSE: 8270.3264\n",
      "MAE: 78.7931\n",
      "MAPE: 4.9015%\n",
      "RMSE: 82.61785240605047, MSE: 8270.326398587174, MAE: 78.79310160336107, MAPE: 0.0490149989156339\n",
      "Best RMSE so far: 82.61785240605047\n",
      "add None False heuristic\n",
      "Tesztelve 5 különböző tanulási/tesztelési adatszetten - 7 napos predikció\n",
      "RMSE: 82.6179\n",
      "MSE: 8270.3264\n",
      "MAE: 78.7931\n",
      "MAPE: 4.9015%\n",
      "RMSE: 82.61785240605047, MSE: 8270.326398587174, MAE: 78.79310160336107, MAPE: 0.0490149989156339\n",
      "add None False legacy-heuristic\n",
      "Tesztelve 5 különböző tanulási/tesztelési adatszetten - 7 napos predikció\n",
      "RMSE: 82.6127\n",
      "MSE: 8269.0565\n",
      "MAE: 78.7866\n",
      "MAPE: 4.9011%\n",
      "RMSE: 82.61269271890374, MSE: 8269.056541568609, MAE: 78.78661905815416, MAPE: 0.04901099662479316\n",
      "Best RMSE so far: 82.61269271890374\n",
      "mul add True estimated\n"
     ]
    },
    {
     "name": "stderr",
     "output_type": "stream",
     "text": [
      "C:\\Users\\Dani\\AppData\\Local\\Programs\\Python\\Python310\\lib\\site-packages\\statsmodels\\tsa\\holtwinters\\model.py:915: ConvergenceWarning: Optimization failed to converge. Check mle_retvals.\n",
      "  warnings.warn(\n",
      "C:\\Users\\Dani\\AppData\\Local\\Programs\\Python\\Python310\\lib\\site-packages\\statsmodels\\tsa\\holtwinters\\model.py:915: ConvergenceWarning: Optimization failed to converge. Check mle_retvals.\n",
      "  warnings.warn(\n",
      "C:\\Users\\Dani\\AppData\\Local\\Programs\\Python\\Python310\\lib\\site-packages\\statsmodels\\tsa\\holtwinters\\model.py:915: ConvergenceWarning: Optimization failed to converge. Check mle_retvals.\n",
      "  warnings.warn(\n",
      "C:\\Users\\Dani\\AppData\\Local\\Programs\\Python\\Python310\\lib\\site-packages\\statsmodels\\tsa\\holtwinters\\model.py:915: ConvergenceWarning: Optimization failed to converge. Check mle_retvals.\n",
      "  warnings.warn(\n",
      "C:\\Users\\Dani\\AppData\\Local\\Programs\\Python\\Python310\\lib\\site-packages\\statsmodels\\tsa\\holtwinters\\model.py:83: RuntimeWarning: overflow encountered in matmul\n",
      "  return err.T @ err\n",
      "C:\\Users\\Dani\\AppData\\Local\\Programs\\Python\\Python310\\lib\\site-packages\\statsmodels\\tsa\\holtwinters\\model.py:915: ConvergenceWarning: Optimization failed to converge. Check mle_retvals.\n",
      "  warnings.warn(\n"
     ]
    },
    {
     "name": "stdout",
     "output_type": "stream",
     "text": [
      "Tesztelve 5 különböző tanulási/tesztelési adatszetten - 7 napos predikció\n",
      "RMSE: 106.1093\n",
      "MSE: 15436.2877\n",
      "MAE: 99.6919\n",
      "MAPE: 6.2098%\n",
      "RMSE: 106.10925938677683, MSE: 15436.287697723863, MAE: 99.69190929682503, MAPE: 0.06209789048477945\n",
      "mul add True heuristic\n"
     ]
    },
    {
     "name": "stderr",
     "output_type": "stream",
     "text": [
      "C:\\Users\\Dani\\AppData\\Local\\Programs\\Python\\Python310\\lib\\site-packages\\statsmodels\\tsa\\holtwinters\\model.py:915: ConvergenceWarning: Optimization failed to converge. Check mle_retvals.\n",
      "  warnings.warn(\n",
      "C:\\Users\\Dani\\AppData\\Local\\Programs\\Python\\Python310\\lib\\site-packages\\statsmodels\\tsa\\holtwinters\\model.py:915: ConvergenceWarning: Optimization failed to converge. Check mle_retvals.\n",
      "  warnings.warn(\n",
      "C:\\Users\\Dani\\AppData\\Local\\Programs\\Python\\Python310\\lib\\site-packages\\statsmodels\\tsa\\holtwinters\\model.py:915: ConvergenceWarning: Optimization failed to converge. Check mle_retvals.\n",
      "  warnings.warn(\n",
      "C:\\Users\\Dani\\AppData\\Local\\Programs\\Python\\Python310\\lib\\site-packages\\statsmodels\\tsa\\holtwinters\\model.py:915: ConvergenceWarning: Optimization failed to converge. Check mle_retvals.\n",
      "  warnings.warn(\n",
      "C:\\Users\\Dani\\AppData\\Local\\Programs\\Python\\Python310\\lib\\site-packages\\statsmodels\\tsa\\holtwinters\\model.py:83: RuntimeWarning: overflow encountered in matmul\n",
      "  return err.T @ err\n",
      "C:\\Users\\Dani\\AppData\\Local\\Programs\\Python\\Python310\\lib\\site-packages\\statsmodels\\tsa\\holtwinters\\model.py:915: ConvergenceWarning: Optimization failed to converge. Check mle_retvals.\n",
      "  warnings.warn(\n"
     ]
    },
    {
     "name": "stdout",
     "output_type": "stream",
     "text": [
      "Tesztelve 5 különböző tanulási/tesztelési adatszetten - 7 napos predikció\n",
      "RMSE: 106.1093\n",
      "MSE: 15436.2877\n",
      "MAE: 99.6919\n",
      "MAPE: 6.2098%\n",
      "RMSE: 106.10925938677683, MSE: 15436.287697723863, MAE: 99.69190929682503, MAPE: 0.06209789048477945\n",
      "mul add True legacy-heuristic\n"
     ]
    },
    {
     "name": "stderr",
     "output_type": "stream",
     "text": [
      "C:\\Users\\Dani\\AppData\\Local\\Programs\\Python\\Python310\\lib\\site-packages\\statsmodels\\tsa\\holtwinters\\model.py:915: ConvergenceWarning: Optimization failed to converge. Check mle_retvals.\n",
      "  warnings.warn(\n",
      "C:\\Users\\Dani\\AppData\\Local\\Programs\\Python\\Python310\\lib\\site-packages\\statsmodels\\tsa\\holtwinters\\model.py:915: ConvergenceWarning: Optimization failed to converge. Check mle_retvals.\n",
      "  warnings.warn(\n",
      "C:\\Users\\Dani\\AppData\\Local\\Programs\\Python\\Python310\\lib\\site-packages\\statsmodels\\tsa\\holtwinters\\model.py:915: ConvergenceWarning: Optimization failed to converge. Check mle_retvals.\n",
      "  warnings.warn(\n",
      "C:\\Users\\Dani\\AppData\\Local\\Programs\\Python\\Python310\\lib\\site-packages\\statsmodels\\tsa\\holtwinters\\model.py:915: ConvergenceWarning: Optimization failed to converge. Check mle_retvals.\n",
      "  warnings.warn(\n",
      "C:\\Users\\Dani\\AppData\\Local\\Programs\\Python\\Python310\\lib\\site-packages\\statsmodels\\tsa\\holtwinters\\model.py:915: ConvergenceWarning: Optimization failed to converge. Check mle_retvals.\n",
      "  warnings.warn(\n"
     ]
    },
    {
     "name": "stdout",
     "output_type": "stream",
     "text": [
      "Tesztelve 5 különböző tanulási/tesztelési adatszetten - 7 napos predikció\n",
      "RMSE: 106.6753\n",
      "MSE: 19455.8982\n",
      "MAE: 97.796\n",
      "MAPE: 6.1909%\n",
      "RMSE: 106.67529768876327, MSE: 19455.898247117126, MAE: 97.79600849602608, MAPE: 0.061908739832265317\n",
      "mul add False estimated\n"
     ]
    },
    {
     "name": "stderr",
     "output_type": "stream",
     "text": [
      "C:\\Users\\Dani\\AppData\\Local\\Programs\\Python\\Python310\\lib\\site-packages\\statsmodels\\tsa\\holtwinters\\model.py:915: ConvergenceWarning: Optimization failed to converge. Check mle_retvals.\n",
      "  warnings.warn(\n",
      "C:\\Users\\Dani\\AppData\\Local\\Programs\\Python\\Python310\\lib\\site-packages\\statsmodels\\tsa\\holtwinters\\model.py:915: ConvergenceWarning: Optimization failed to converge. Check mle_retvals.\n",
      "  warnings.warn(\n",
      "C:\\Users\\Dani\\AppData\\Local\\Programs\\Python\\Python310\\lib\\site-packages\\statsmodels\\tsa\\holtwinters\\model.py:915: ConvergenceWarning: Optimization failed to converge. Check mle_retvals.\n",
      "  warnings.warn(\n",
      "C:\\Users\\Dani\\AppData\\Local\\Programs\\Python\\Python310\\lib\\site-packages\\statsmodels\\tsa\\holtwinters\\model.py:915: ConvergenceWarning: Optimization failed to converge. Check mle_retvals.\n",
      "  warnings.warn(\n",
      "C:\\Users\\Dani\\AppData\\Local\\Programs\\Python\\Python310\\lib\\site-packages\\statsmodels\\tsa\\holtwinters\\model.py:915: ConvergenceWarning: Optimization failed to converge. Check mle_retvals.\n",
      "  warnings.warn(\n"
     ]
    },
    {
     "name": "stdout",
     "output_type": "stream",
     "text": [
      "Tesztelve 5 különböző tanulási/tesztelési adatszetten - 7 napos predikció\n",
      "RMSE: 98.477\n",
      "MSE: 15366.3871\n",
      "MAE: 93.0826\n",
      "MAPE: 5.8612%\n",
      "RMSE: 98.47700394255278, MSE: 15366.387147327052, MAE: 93.08262612769458, MAPE: 0.05861153233176099\n",
      "mul add False heuristic\n"
     ]
    },
    {
     "name": "stderr",
     "output_type": "stream",
     "text": [
      "C:\\Users\\Dani\\AppData\\Local\\Programs\\Python\\Python310\\lib\\site-packages\\statsmodels\\tsa\\holtwinters\\model.py:915: ConvergenceWarning: Optimization failed to converge. Check mle_retvals.\n",
      "  warnings.warn(\n",
      "C:\\Users\\Dani\\AppData\\Local\\Programs\\Python\\Python310\\lib\\site-packages\\statsmodels\\tsa\\holtwinters\\model.py:915: ConvergenceWarning: Optimization failed to converge. Check mle_retvals.\n",
      "  warnings.warn(\n",
      "C:\\Users\\Dani\\AppData\\Local\\Programs\\Python\\Python310\\lib\\site-packages\\statsmodels\\tsa\\holtwinters\\model.py:915: ConvergenceWarning: Optimization failed to converge. Check mle_retvals.\n",
      "  warnings.warn(\n",
      "C:\\Users\\Dani\\AppData\\Local\\Programs\\Python\\Python310\\lib\\site-packages\\statsmodels\\tsa\\holtwinters\\model.py:915: ConvergenceWarning: Optimization failed to converge. Check mle_retvals.\n",
      "  warnings.warn(\n",
      "C:\\Users\\Dani\\AppData\\Local\\Programs\\Python\\Python310\\lib\\site-packages\\statsmodels\\tsa\\holtwinters\\model.py:915: ConvergenceWarning: Optimization failed to converge. Check mle_retvals.\n",
      "  warnings.warn(\n"
     ]
    },
    {
     "name": "stdout",
     "output_type": "stream",
     "text": [
      "Tesztelve 5 különböző tanulási/tesztelési adatszetten - 7 napos predikció\n",
      "RMSE: 98.477\n",
      "MSE: 15366.3871\n",
      "MAE: 93.0826\n",
      "MAPE: 5.8612%\n",
      "RMSE: 98.47700394255278, MSE: 15366.387147327052, MAE: 93.08262612769458, MAPE: 0.05861153233176099\n",
      "mul add False legacy-heuristic\n"
     ]
    },
    {
     "name": "stderr",
     "output_type": "stream",
     "text": [
      "C:\\Users\\Dani\\AppData\\Local\\Programs\\Python\\Python310\\lib\\site-packages\\statsmodels\\tsa\\holtwinters\\model.py:83: RuntimeWarning: overflow encountered in matmul\n",
      "  return err.T @ err\n",
      "C:\\Users\\Dani\\AppData\\Local\\Programs\\Python\\Python310\\lib\\site-packages\\statsmodels\\tsa\\holtwinters\\model.py:915: ConvergenceWarning: Optimization failed to converge. Check mle_retvals.\n",
      "  warnings.warn(\n",
      "C:\\Users\\Dani\\AppData\\Local\\Programs\\Python\\Python310\\lib\\site-packages\\statsmodels\\tsa\\holtwinters\\model.py:83: RuntimeWarning: overflow encountered in matmul\n",
      "  return err.T @ err\n",
      "C:\\Users\\Dani\\AppData\\Local\\Programs\\Python\\Python310\\lib\\site-packages\\statsmodels\\tsa\\holtwinters\\model.py:915: ConvergenceWarning: Optimization failed to converge. Check mle_retvals.\n",
      "  warnings.warn(\n",
      "C:\\Users\\Dani\\AppData\\Local\\Programs\\Python\\Python310\\lib\\site-packages\\statsmodels\\tsa\\holtwinters\\model.py:83: RuntimeWarning: overflow encountered in matmul\n",
      "  return err.T @ err\n",
      "C:\\Users\\Dani\\AppData\\Local\\Programs\\Python\\Python310\\lib\\site-packages\\statsmodels\\tsa\\holtwinters\\model.py:915: ConvergenceWarning: Optimization failed to converge. Check mle_retvals.\n",
      "  warnings.warn(\n",
      "C:\\Users\\Dani\\AppData\\Local\\Programs\\Python\\Python310\\lib\\site-packages\\statsmodels\\tsa\\holtwinters\\model.py:83: RuntimeWarning: overflow encountered in matmul\n",
      "  return err.T @ err\n",
      "C:\\Users\\Dani\\AppData\\Local\\Programs\\Python\\Python310\\lib\\site-packages\\statsmodels\\tsa\\holtwinters\\model.py:915: ConvergenceWarning: Optimization failed to converge. Check mle_retvals.\n",
      "  warnings.warn(\n",
      "C:\\Users\\Dani\\AppData\\Local\\Programs\\Python\\Python310\\lib\\site-packages\\statsmodels\\tsa\\holtwinters\\model.py:83: RuntimeWarning: overflow encountered in matmul\n",
      "  return err.T @ err\n",
      "C:\\Users\\Dani\\AppData\\Local\\Programs\\Python\\Python310\\lib\\site-packages\\statsmodels\\tsa\\holtwinters\\model.py:915: ConvergenceWarning: Optimization failed to converge. Check mle_retvals.\n",
      "  warnings.warn(\n"
     ]
    },
    {
     "name": "stdout",
     "output_type": "stream",
     "text": [
      "Tesztelve 5 különböző tanulási/tesztelési adatszetten - 7 napos predikció\n",
      "RMSE: 97.5596\n",
      "MSE: 15587.6799\n",
      "MAE: 92.3419\n",
      "MAPE: 5.8234%\n",
      "RMSE: 97.55960553705063, MSE: 15587.679939313664, MAE: 92.34190041859291, MAPE: 0.05823401579879896\n",
      "mul mul True estimated\n"
     ]
    },
    {
     "name": "stderr",
     "output_type": "stream",
     "text": [
      "C:\\Users\\Dani\\AppData\\Local\\Programs\\Python\\Python310\\lib\\site-packages\\statsmodels\\tsa\\holtwinters\\model.py:915: ConvergenceWarning: Optimization failed to converge. Check mle_retvals.\n",
      "  warnings.warn(\n",
      "C:\\Users\\Dani\\AppData\\Local\\Programs\\Python\\Python310\\lib\\site-packages\\statsmodels\\tsa\\holtwinters\\model.py:915: ConvergenceWarning: Optimization failed to converge. Check mle_retvals.\n",
      "  warnings.warn(\n",
      "C:\\Users\\Dani\\AppData\\Local\\Programs\\Python\\Python310\\lib\\site-packages\\statsmodels\\tsa\\holtwinters\\model.py:915: ConvergenceWarning: Optimization failed to converge. Check mle_retvals.\n",
      "  warnings.warn(\n",
      "C:\\Users\\Dani\\AppData\\Local\\Programs\\Python\\Python310\\lib\\site-packages\\statsmodels\\tsa\\holtwinters\\model.py:915: ConvergenceWarning: Optimization failed to converge. Check mle_retvals.\n",
      "  warnings.warn(\n",
      "C:\\Users\\Dani\\AppData\\Local\\Programs\\Python\\Python310\\lib\\site-packages\\statsmodels\\tsa\\holtwinters\\model.py:83: RuntimeWarning: overflow encountered in matmul\n",
      "  return err.T @ err\n",
      "C:\\Users\\Dani\\AppData\\Local\\Programs\\Python\\Python310\\lib\\site-packages\\statsmodels\\tsa\\holtwinters\\model.py:915: ConvergenceWarning: Optimization failed to converge. Check mle_retvals.\n",
      "  warnings.warn(\n"
     ]
    },
    {
     "name": "stdout",
     "output_type": "stream",
     "text": [
      "Tesztelve 5 különböző tanulási/tesztelési adatszetten - 7 napos predikció\n",
      "RMSE: 105.2037\n",
      "MSE: 17059.1391\n",
      "MAE: 99.1378\n",
      "MAPE: 6.2299%\n",
      "RMSE: 105.20372563665987, MSE: 17059.139078711476, MAE: 99.13782066559156, MAPE: 0.06229895840139984\n",
      "mul mul True heuristic\n"
     ]
    },
    {
     "name": "stderr",
     "output_type": "stream",
     "text": [
      "C:\\Users\\Dani\\AppData\\Local\\Programs\\Python\\Python310\\lib\\site-packages\\statsmodels\\tsa\\holtwinters\\model.py:915: ConvergenceWarning: Optimization failed to converge. Check mle_retvals.\n",
      "  warnings.warn(\n",
      "C:\\Users\\Dani\\AppData\\Local\\Programs\\Python\\Python310\\lib\\site-packages\\statsmodels\\tsa\\holtwinters\\model.py:915: ConvergenceWarning: Optimization failed to converge. Check mle_retvals.\n",
      "  warnings.warn(\n",
      "C:\\Users\\Dani\\AppData\\Local\\Programs\\Python\\Python310\\lib\\site-packages\\statsmodels\\tsa\\holtwinters\\model.py:915: ConvergenceWarning: Optimization failed to converge. Check mle_retvals.\n",
      "  warnings.warn(\n",
      "C:\\Users\\Dani\\AppData\\Local\\Programs\\Python\\Python310\\lib\\site-packages\\statsmodels\\tsa\\holtwinters\\model.py:915: ConvergenceWarning: Optimization failed to converge. Check mle_retvals.\n",
      "  warnings.warn(\n",
      "C:\\Users\\Dani\\AppData\\Local\\Programs\\Python\\Python310\\lib\\site-packages\\statsmodels\\tsa\\holtwinters\\model.py:83: RuntimeWarning: overflow encountered in matmul\n",
      "  return err.T @ err\n",
      "C:\\Users\\Dani\\AppData\\Local\\Programs\\Python\\Python310\\lib\\site-packages\\statsmodels\\tsa\\holtwinters\\model.py:915: ConvergenceWarning: Optimization failed to converge. Check mle_retvals.\n",
      "  warnings.warn(\n"
     ]
    },
    {
     "name": "stdout",
     "output_type": "stream",
     "text": [
      "Tesztelve 5 különböző tanulási/tesztelési adatszetten - 7 napos predikció\n",
      "RMSE: 105.2037\n",
      "MSE: 17059.1391\n",
      "MAE: 99.1378\n",
      "MAPE: 6.2299%\n",
      "RMSE: 105.20372563665987, MSE: 17059.139078711476, MAE: 99.13782066559156, MAPE: 0.06229895840139984\n",
      "mul mul True legacy-heuristic\n"
     ]
    },
    {
     "name": "stderr",
     "output_type": "stream",
     "text": [
      "C:\\Users\\Dani\\AppData\\Local\\Programs\\Python\\Python310\\lib\\site-packages\\statsmodels\\tsa\\holtwinters\\model.py:915: ConvergenceWarning: Optimization failed to converge. Check mle_retvals.\n",
      "  warnings.warn(\n",
      "C:\\Users\\Dani\\AppData\\Local\\Programs\\Python\\Python310\\lib\\site-packages\\statsmodels\\tsa\\holtwinters\\model.py:915: ConvergenceWarning: Optimization failed to converge. Check mle_retvals.\n",
      "  warnings.warn(\n",
      "C:\\Users\\Dani\\AppData\\Local\\Programs\\Python\\Python310\\lib\\site-packages\\statsmodels\\tsa\\holtwinters\\model.py:915: ConvergenceWarning: Optimization failed to converge. Check mle_retvals.\n",
      "  warnings.warn(\n",
      "C:\\Users\\Dani\\AppData\\Local\\Programs\\Python\\Python310\\lib\\site-packages\\statsmodels\\tsa\\holtwinters\\model.py:915: ConvergenceWarning: Optimization failed to converge. Check mle_retvals.\n",
      "  warnings.warn(\n",
      "C:\\Users\\Dani\\AppData\\Local\\Programs\\Python\\Python310\\lib\\site-packages\\statsmodels\\tsa\\holtwinters\\model.py:915: ConvergenceWarning: Optimization failed to converge. Check mle_retvals.\n",
      "  warnings.warn(\n"
     ]
    },
    {
     "name": "stdout",
     "output_type": "stream",
     "text": [
      "Tesztelve 5 különböző tanulási/tesztelési adatszetten - 7 napos predikció\n",
      "RMSE: 124.2549\n",
      "MSE: 23895.8225\n",
      "MAE: 116.0086\n",
      "MAPE: 7.311%\n",
      "RMSE: 124.25493129559668, MSE: 23895.822467013695, MAE: 116.0086306860733, MAPE: 0.07311027486309053\n",
      "mul mul False estimated\n"
     ]
    },
    {
     "name": "stderr",
     "output_type": "stream",
     "text": [
      "C:\\Users\\Dani\\AppData\\Local\\Programs\\Python\\Python310\\lib\\site-packages\\statsmodels\\tsa\\holtwinters\\model.py:83: RuntimeWarning: overflow encountered in matmul\n",
      "  return err.T @ err\n",
      "C:\\Users\\Dani\\AppData\\Local\\Programs\\Python\\Python310\\lib\\site-packages\\statsmodels\\tsa\\holtwinters\\model.py:915: ConvergenceWarning: Optimization failed to converge. Check mle_retvals.\n",
      "  warnings.warn(\n",
      "C:\\Users\\Dani\\AppData\\Local\\Programs\\Python\\Python310\\lib\\site-packages\\statsmodels\\tsa\\holtwinters\\model.py:83: RuntimeWarning: overflow encountered in matmul\n",
      "  return err.T @ err\n",
      "C:\\Users\\Dani\\AppData\\Local\\Programs\\Python\\Python310\\lib\\site-packages\\statsmodels\\tsa\\holtwinters\\model.py:915: ConvergenceWarning: Optimization failed to converge. Check mle_retvals.\n",
      "  warnings.warn(\n",
      "C:\\Users\\Dani\\AppData\\Local\\Programs\\Python\\Python310\\lib\\site-packages\\statsmodels\\tsa\\holtwinters\\model.py:83: RuntimeWarning: overflow encountered in matmul\n",
      "  return err.T @ err\n",
      "C:\\Users\\Dani\\AppData\\Local\\Programs\\Python\\Python310\\lib\\site-packages\\statsmodels\\tsa\\holtwinters\\model.py:915: ConvergenceWarning: Optimization failed to converge. Check mle_retvals.\n",
      "  warnings.warn(\n",
      "C:\\Users\\Dani\\AppData\\Local\\Programs\\Python\\Python310\\lib\\site-packages\\statsmodels\\tsa\\holtwinters\\model.py:83: RuntimeWarning: overflow encountered in matmul\n",
      "  return err.T @ err\n",
      "C:\\Users\\Dani\\AppData\\Local\\Programs\\Python\\Python310\\lib\\site-packages\\statsmodels\\tsa\\holtwinters\\model.py:915: ConvergenceWarning: Optimization failed to converge. Check mle_retvals.\n",
      "  warnings.warn(\n",
      "C:\\Users\\Dani\\AppData\\Local\\Programs\\Python\\Python310\\lib\\site-packages\\statsmodels\\tsa\\holtwinters\\model.py:83: RuntimeWarning: overflow encountered in matmul\n",
      "  return err.T @ err\n",
      "C:\\Users\\Dani\\AppData\\Local\\Programs\\Python\\Python310\\lib\\site-packages\\statsmodels\\tsa\\holtwinters\\model.py:915: ConvergenceWarning: Optimization failed to converge. Check mle_retvals.\n",
      "  warnings.warn(\n"
     ]
    },
    {
     "name": "stdout",
     "output_type": "stream",
     "text": [
      "Tesztelve 5 különböző tanulási/tesztelési adatszetten - 7 napos predikció\n",
      "RMSE: 101.5359\n",
      "MSE: 16262.9459\n",
      "MAE: 95.6594\n",
      "MAPE: 6.0218%\n",
      "RMSE: 101.53594344849667, MSE: 16262.945880150724, MAE: 95.65938084339338, MAPE: 0.06021801320593566\n",
      "mul mul False heuristic\n"
     ]
    },
    {
     "name": "stderr",
     "output_type": "stream",
     "text": [
      "C:\\Users\\Dani\\AppData\\Local\\Programs\\Python\\Python310\\lib\\site-packages\\statsmodels\\tsa\\holtwinters\\model.py:83: RuntimeWarning: overflow encountered in matmul\n",
      "  return err.T @ err\n",
      "C:\\Users\\Dani\\AppData\\Local\\Programs\\Python\\Python310\\lib\\site-packages\\statsmodels\\tsa\\holtwinters\\model.py:915: ConvergenceWarning: Optimization failed to converge. Check mle_retvals.\n",
      "  warnings.warn(\n",
      "C:\\Users\\Dani\\AppData\\Local\\Programs\\Python\\Python310\\lib\\site-packages\\statsmodels\\tsa\\holtwinters\\model.py:83: RuntimeWarning: overflow encountered in matmul\n",
      "  return err.T @ err\n",
      "C:\\Users\\Dani\\AppData\\Local\\Programs\\Python\\Python310\\lib\\site-packages\\statsmodels\\tsa\\holtwinters\\model.py:915: ConvergenceWarning: Optimization failed to converge. Check mle_retvals.\n",
      "  warnings.warn(\n",
      "C:\\Users\\Dani\\AppData\\Local\\Programs\\Python\\Python310\\lib\\site-packages\\statsmodels\\tsa\\holtwinters\\model.py:83: RuntimeWarning: overflow encountered in matmul\n",
      "  return err.T @ err\n",
      "C:\\Users\\Dani\\AppData\\Local\\Programs\\Python\\Python310\\lib\\site-packages\\statsmodels\\tsa\\holtwinters\\model.py:915: ConvergenceWarning: Optimization failed to converge. Check mle_retvals.\n",
      "  warnings.warn(\n",
      "C:\\Users\\Dani\\AppData\\Local\\Programs\\Python\\Python310\\lib\\site-packages\\statsmodels\\tsa\\holtwinters\\model.py:83: RuntimeWarning: overflow encountered in matmul\n",
      "  return err.T @ err\n",
      "C:\\Users\\Dani\\AppData\\Local\\Programs\\Python\\Python310\\lib\\site-packages\\statsmodels\\tsa\\holtwinters\\model.py:915: ConvergenceWarning: Optimization failed to converge. Check mle_retvals.\n",
      "  warnings.warn(\n",
      "C:\\Users\\Dani\\AppData\\Local\\Programs\\Python\\Python310\\lib\\site-packages\\statsmodels\\tsa\\holtwinters\\model.py:83: RuntimeWarning: overflow encountered in matmul\n",
      "  return err.T @ err\n",
      "C:\\Users\\Dani\\AppData\\Local\\Programs\\Python\\Python310\\lib\\site-packages\\statsmodels\\tsa\\holtwinters\\model.py:915: ConvergenceWarning: Optimization failed to converge. Check mle_retvals.\n",
      "  warnings.warn(\n"
     ]
    },
    {
     "name": "stdout",
     "output_type": "stream",
     "text": [
      "Tesztelve 5 különböző tanulási/tesztelési adatszetten - 7 napos predikció\n",
      "RMSE: 101.5359\n",
      "MSE: 16262.9459\n",
      "MAE: 95.6594\n",
      "MAPE: 6.0218%\n",
      "RMSE: 101.53594344849667, MSE: 16262.945880150724, MAE: 95.65938084339338, MAPE: 0.06021801320593566\n",
      "mul mul False legacy-heuristic\n"
     ]
    },
    {
     "name": "stderr",
     "output_type": "stream",
     "text": [
      "C:\\Users\\Dani\\AppData\\Local\\Programs\\Python\\Python310\\lib\\site-packages\\statsmodels\\tsa\\holtwinters\\model.py:83: RuntimeWarning: overflow encountered in matmul\n",
      "  return err.T @ err\n",
      "C:\\Users\\Dani\\AppData\\Local\\Programs\\Python\\Python310\\lib\\site-packages\\statsmodels\\tsa\\holtwinters\\model.py:915: ConvergenceWarning: Optimization failed to converge. Check mle_retvals.\n",
      "  warnings.warn(\n",
      "C:\\Users\\Dani\\AppData\\Local\\Programs\\Python\\Python310\\lib\\site-packages\\statsmodels\\tsa\\holtwinters\\model.py:83: RuntimeWarning: overflow encountered in matmul\n",
      "  return err.T @ err\n",
      "C:\\Users\\Dani\\AppData\\Local\\Programs\\Python\\Python310\\lib\\site-packages\\statsmodels\\tsa\\holtwinters\\model.py:915: ConvergenceWarning: Optimization failed to converge. Check mle_retvals.\n",
      "  warnings.warn(\n",
      "C:\\Users\\Dani\\AppData\\Local\\Programs\\Python\\Python310\\lib\\site-packages\\statsmodels\\tsa\\holtwinters\\model.py:83: RuntimeWarning: overflow encountered in matmul\n",
      "  return err.T @ err\n",
      "C:\\Users\\Dani\\AppData\\Local\\Programs\\Python\\Python310\\lib\\site-packages\\statsmodels\\tsa\\holtwinters\\model.py:915: ConvergenceWarning: Optimization failed to converge. Check mle_retvals.\n",
      "  warnings.warn(\n",
      "C:\\Users\\Dani\\AppData\\Local\\Programs\\Python\\Python310\\lib\\site-packages\\statsmodels\\tsa\\holtwinters\\model.py:915: ConvergenceWarning: Optimization failed to converge. Check mle_retvals.\n",
      "  warnings.warn(\n",
      "C:\\Users\\Dani\\AppData\\Local\\Programs\\Python\\Python310\\lib\\site-packages\\statsmodels\\tsa\\holtwinters\\model.py:83: RuntimeWarning: overflow encountered in matmul\n",
      "  return err.T @ err\n",
      "C:\\Users\\Dani\\AppData\\Local\\Programs\\Python\\Python310\\lib\\site-packages\\statsmodels\\tsa\\holtwinters\\model.py:915: ConvergenceWarning: Optimization failed to converge. Check mle_retvals.\n",
      "  warnings.warn(\n"
     ]
    },
    {
     "name": "stdout",
     "output_type": "stream",
     "text": [
      "Tesztelve 5 különböző tanulási/tesztelési adatszetten - 7 napos predikció\n",
      "RMSE: 100.4234\n",
      "MSE: 13981.2868\n",
      "MAE: 93.5144\n",
      "MAPE: 5.8425%\n",
      "RMSE: 100.4234123357697, MSE: 13981.286786738556, MAE: 93.51438607078681, MAPE: 0.058425035117760246\n",
      "mul None True estimated\n",
      "Tesztelve 5 különböző tanulási/tesztelési adatszetten - 7 napos predikció\n",
      "RMSE: 83.2196\n",
      "MSE: 8499.7803\n",
      "MAE: 79.456\n",
      "MAPE: 4.9336%\n",
      "RMSE: 83.21955752257239, MSE: 8499.780266290543, MAE: 79.45603219132747, MAPE: 0.04933552789906408\n",
      "mul None True heuristic\n",
      "Tesztelve 5 különböző tanulási/tesztelési adatszetten - 7 napos predikció\n",
      "RMSE: 83.2196\n",
      "MSE: 8499.7803\n",
      "MAE: 79.456\n",
      "MAPE: 4.9336%\n",
      "RMSE: 83.21955752257239, MSE: 8499.780266290543, MAE: 79.45603219132747, MAPE: 0.04933552789906408\n",
      "mul None True legacy-heuristic\n",
      "Tesztelve 5 különböző tanulási/tesztelési adatszetten - 7 napos predikció\n",
      "RMSE: 83.2193\n",
      "MSE: 8499.6732\n",
      "MAE: 79.4559\n",
      "MAPE: 4.9335%\n",
      "RMSE: 83.21934054389749, MSE: 8499.673231742596, MAE: 79.45587710028632, MAPE: 0.04933537879548527\n",
      "mul None False estimated\n",
      "Tesztelve 5 különböző tanulási/tesztelési adatszetten - 7 napos predikció\n",
      "RMSE: 82.5173\n",
      "MSE: 8261.571\n",
      "MAE: 78.7072\n",
      "MAPE: 4.8951%\n",
      "RMSE: 82.51725640821202, MSE: 8261.570968393506, MAE: 78.70719293860563, MAPE: 0.048951362476007544\n",
      "Best RMSE so far: 82.51725640821202\n",
      "mul None False heuristic\n",
      "Tesztelve 5 különböző tanulási/tesztelési adatszetten - 7 napos predikció\n",
      "RMSE: 82.5173\n",
      "MSE: 8261.571\n",
      "MAE: 78.7072\n",
      "MAPE: 4.8951%\n",
      "RMSE: 82.51725640821202, MSE: 8261.570968393506, MAE: 78.70719293860563, MAPE: 0.048951362476007544\n",
      "mul None False legacy-heuristic\n"
     ]
    },
    {
     "name": "stderr",
     "output_type": "stream",
     "text": [
      "C:\\Users\\Dani\\AppData\\Local\\Programs\\Python\\Python310\\lib\\site-packages\\statsmodels\\tsa\\holtwinters\\model.py:83: RuntimeWarning: overflow encountered in matmul\n",
      "  return err.T @ err\n",
      "C:\\Users\\Dani\\AppData\\Local\\Programs\\Python\\Python310\\lib\\site-packages\\statsmodels\\tsa\\holtwinters\\model.py:83: RuntimeWarning: overflow encountered in matmul\n",
      "  return err.T @ err\n",
      "C:\\Users\\Dani\\AppData\\Local\\Programs\\Python\\Python310\\lib\\site-packages\\statsmodels\\tsa\\holtwinters\\model.py:83: RuntimeWarning: overflow encountered in matmul\n",
      "  return err.T @ err\n"
     ]
    },
    {
     "name": "stdout",
     "output_type": "stream",
     "text": [
      "Tesztelve 5 különböző tanulási/tesztelési adatszetten - 7 napos predikció\n",
      "RMSE: 82.5436\n",
      "MSE: 8267.0596\n",
      "MAE: 78.7337\n",
      "MAPE: 4.8968%\n",
      "RMSE: 82.54359083454668, MSE: 8267.059601843768, MAE: 78.73369968790958, MAPE: 0.04896804049546179\n"
     ]
    },
    {
     "name": "stderr",
     "output_type": "stream",
     "text": [
      "C:\\Users\\Dani\\AppData\\Local\\Programs\\Python\\Python310\\lib\\site-packages\\statsmodels\\tsa\\holtwinters\\model.py:83: RuntimeWarning: overflow encountered in matmul\n",
      "  return err.T @ err\n",
      "C:\\Users\\Dani\\AppData\\Local\\Programs\\Python\\Python310\\lib\\site-packages\\statsmodels\\tsa\\holtwinters\\model.py:83: RuntimeWarning: overflow encountered in matmul\n",
      "  return err.T @ err\n"
     ]
    }
   ],
   "source": [
    "best_rmse = float('inf')\n",
    "best_options = None\n",
    "\n",
    "for x in itertools.product(*tuple_of_option_lists):\n",
    "    print(*x)\n",
    "    rmse, mse, mae, mape = gridsearch_timeseriessplit(*x)\n",
    "    print(f\"RMSE: {rmse}, MSE: {mse}, MAE: {mae}, MAPE: {mape}\")\n",
    "    \n",
    "    if rmse < best_rmse: ## ha kisebb, akkor jobb az rmse\n",
    "        print(\"Best RMSE so far:\", rmse)\n",
    "        best_rmse = rmse\n",
    "        best_mse = mse\n",
    "        best_mae = mae\n",
    "        best_mape = mape\n",
    "        best_options = x"
   ]
  },
  {
   "cell_type": "code",
   "execution_count": 37,
   "id": "489e5803",
   "metadata": {},
   "outputs": [
    {
     "name": "stdout",
     "output_type": "stream",
     "text": [
      "Legjobb RMSE: 82.5173\n",
      "Legjobb MSE: 82.5173\n",
      "Legjobb MAE: 78.7072\n",
      "Legjobb MAPE: 4.8951\n",
      "Legjobb hiperparaméter-kombináció\n",
      "trend_type: mul\n",
      "seasonal_type: None\n",
      "damped_trend: False\n",
      "init_method: estimated\n"
     ]
    }
   ],
   "source": [
    "print(\"Legjobb RMSE:\", round(best_rmse, 4))\n",
    "print(\"Legjobb MSE:\", round(best_rmse, 4))\n",
    "print(\"Legjobb MAE:\", round(best_mae, 4))\n",
    "print(\"Legjobb MAPE:\", round(best_mape*100, 4))\n",
    "\n",
    "\n",
    "trend_type, seasonal_type, damped_trend, init_method = best_options\n",
    "print(\"Legjobb hiperparaméter-kombináció\")\n",
    "print(\"trend_type:\", trend_type)\n",
    "print(\"seasonal_type:\", seasonal_type)\n",
    "print(\"damped_trend:\", damped_trend)\n",
    "print(\"init_method:\", init_method)"
   ]
  },
  {
   "cell_type": "markdown",
   "id": "91e38eb1",
   "metadata": {},
   "source": [
    "## Findings\n",
    "\n",
    "- Legjobb RMSE: 82.5173\n",
    "- Legjobb MSE: 82.5173\n",
    "- Legjobb MAE: 78.7072\n",
    "- Legjobb MAPE: 4.8951\n",
    "\n",
    "Legjobb hiperparaméter-kombináció\n",
    "trend_type: mul\n",
    "seasonal_type: None\n",
    "damped_trend: False\n",
    "init_method: estimated"
   ]
  },
  {
   "cell_type": "markdown",
   "id": "02b9b6e8",
   "metadata": {},
   "source": [
    "## 14 DAY"
   ]
  },
  {
   "cell_type": "code",
   "execution_count": 38,
   "id": "981d0d88",
   "metadata": {},
   "outputs": [],
   "source": [
    "from sklearn.model_selection import TimeSeriesSplit\n",
    "\n",
    "tss = TimeSeriesSplit(n_splits=5, test_size=14, gap=0)\n",
    "df_close = df_close.sort_index()"
   ]
  },
  {
   "cell_type": "code",
   "execution_count": 39,
   "id": "4ba5fcf3",
   "metadata": {},
   "outputs": [],
   "source": [
    "def gridsearch_timeseriessplit(trend_type, seasonal_type, damped_trend, init_method):\n",
    "\n",
    "    #fig, axs = plt.subplots(5, 1, figsize=(15, 15), sharex=True)\n",
    "    root_mean_squared_errors = []\n",
    "    mean_squared_errors = []\n",
    "    mean_absolute_errors = []\n",
    "    mean_absolute_percentage_errors = []\n",
    "    #fold = 0\n",
    "\n",
    "    for train_idx, val_idx in tss.split(df_close):\n",
    "        train = df_close.iloc[train_idx]\n",
    "        test = df_close.iloc[val_idx]\n",
    "        \n",
    "        ## PLOTTING NOT IMPORTANT\n",
    "        #train['eth_close'].plot(ax=axs[fold], label='Training Set', title=f'Data Train/Test Split Fold {fold}')\n",
    "        #test['eth_close'].plot(ax=axs[fold], label='Test Set')\n",
    "        #axs[fold].axvline(test.index.min(), color='black', ls='--')\n",
    "        #fold += 1\n",
    "\n",
    "        if seasonal_type != None:\n",
    "\n",
    "            hw = ExponentialSmoothing(\n",
    "                  train['logclose'],\n",
    "                  initialization_method=init_method,\n",
    "                  trend=trend_type,\n",
    "                  damped_trend=damped_trend,\n",
    "                  seasonal=seasonal_type,\n",
    "                  seasonal_periods=365)\n",
    "        else:\n",
    "            hw = ExponentialSmoothing(\n",
    "                  train['logclose'],\n",
    "                  initialization_method=init_method,\n",
    "                  trend=trend_type,\n",
    "                  damped_trend=damped_trend,\n",
    "                  seasonal=seasonal_type)\n",
    "\n",
    "        res_hw = hw.fit()\n",
    "        fcast = res_hw.forecast(len(test))\n",
    "        \n",
    "        rmse = mean_squared_error(test['eth_close'], np.exp(fcast), squared=False)\n",
    "        root_mean_squared_errors.append(rmse)\n",
    "        mse = mean_squared_error(test['eth_close'], np.exp(fcast), squared=True)\n",
    "        mean_squared_errors.append(mse)        \n",
    "        mae = mean_absolute_error(test['eth_close'], np.exp(fcast))\n",
    "        mean_absolute_errors.append(mae)\n",
    "        mape = mean_absolute_percentage_error(test['eth_close'], np.exp(fcast))\n",
    "        mean_absolute_percentage_errors.append(mape)\n",
    "        \n",
    "\n",
    "    #plt.show()\n",
    "\n",
    "    print(\"Tesztelve 5 különböző tanulási/tesztelési adatszetten - 14 napos predikció\")\n",
    "    print(f\"RMSE: {round(np.mean(root_mean_squared_errors), 4)}\")\n",
    "    print(f\"MSE: {round(np.mean(mean_squared_errors), 4)}\")\n",
    "    print(f\"MAE: {round(np.mean(mean_absolute_errors), 4)}\")\n",
    "    print(f\"MAPE: {str(round(np.mean(mean_absolute_percentage_errors)*100, 4))}%\")\n",
    "    return np.mean(root_mean_squared_errors), np.mean(mean_squared_errors), np.mean(mean_absolute_errors), np.mean(mean_absolute_percentage_errors)"
   ]
  },
  {
   "cell_type": "code",
   "execution_count": 40,
   "id": "c3d29440",
   "metadata": {},
   "outputs": [],
   "source": [
    "# Configuration hyperparameters to try\n",
    "trend_type_list = ['add', 'mul']\n",
    "seasonal_type_list = ['add', 'mul', None]\n",
    "damped_trend_list = [True, False]\n",
    "init_method_list = ['estimated', 'heuristic', 'legacy-heuristic']\n",
    "## box-cox not required since log dataset"
   ]
  },
  {
   "cell_type": "code",
   "execution_count": 41,
   "id": "e08a6198",
   "metadata": {},
   "outputs": [],
   "source": [
    "# Grid Search\n",
    "tuple_of_option_lists = (\n",
    "    trend_type_list,\n",
    "    seasonal_type_list,\n",
    "    damped_trend_list,\n",
    "    init_method_list\n",
    ")"
   ]
  },
  {
   "cell_type": "code",
   "execution_count": 42,
   "id": "1528c307",
   "metadata": {},
   "outputs": [
    {
     "name": "stdout",
     "output_type": "stream",
     "text": [
      "add add True estimated\n"
     ]
    },
    {
     "name": "stderr",
     "output_type": "stream",
     "text": [
      "C:\\Users\\Dani\\AppData\\Local\\Programs\\Python\\Python310\\lib\\site-packages\\statsmodels\\tsa\\holtwinters\\model.py:915: ConvergenceWarning: Optimization failed to converge. Check mle_retvals.\n",
      "  warnings.warn(\n",
      "C:\\Users\\Dani\\AppData\\Local\\Programs\\Python\\Python310\\lib\\site-packages\\statsmodels\\tsa\\holtwinters\\model.py:915: ConvergenceWarning: Optimization failed to converge. Check mle_retvals.\n",
      "  warnings.warn(\n",
      "C:\\Users\\Dani\\AppData\\Local\\Programs\\Python\\Python310\\lib\\site-packages\\statsmodels\\tsa\\holtwinters\\model.py:915: ConvergenceWarning: Optimization failed to converge. Check mle_retvals.\n",
      "  warnings.warn(\n",
      "C:\\Users\\Dani\\AppData\\Local\\Programs\\Python\\Python310\\lib\\site-packages\\statsmodels\\tsa\\holtwinters\\model.py:915: ConvergenceWarning: Optimization failed to converge. Check mle_retvals.\n",
      "  warnings.warn(\n",
      "C:\\Users\\Dani\\AppData\\Local\\Programs\\Python\\Python310\\lib\\site-packages\\statsmodels\\tsa\\holtwinters\\model.py:915: ConvergenceWarning: Optimization failed to converge. Check mle_retvals.\n",
      "  warnings.warn(\n"
     ]
    },
    {
     "name": "stdout",
     "output_type": "stream",
     "text": [
      "Tesztelve 5 különböző tanulási/tesztelési adatszetten - 14 napos predikció\n",
      "RMSE: 134.0456\n",
      "MSE: 23893.6663\n",
      "MAE: 119.9424\n",
      "MAPE: 7.8838%\n",
      "RMSE: 134.04561790932223, MSE: 23893.666269838795, MAE: 119.9424432414911, MAPE: 0.07883834233087841\n",
      "Best RMSE so far: 134.04561790932223\n",
      "add add True heuristic\n"
     ]
    },
    {
     "name": "stderr",
     "output_type": "stream",
     "text": [
      "C:\\Users\\Dani\\AppData\\Local\\Programs\\Python\\Python310\\lib\\site-packages\\statsmodels\\tsa\\holtwinters\\model.py:915: ConvergenceWarning: Optimization failed to converge. Check mle_retvals.\n",
      "  warnings.warn(\n",
      "C:\\Users\\Dani\\AppData\\Local\\Programs\\Python\\Python310\\lib\\site-packages\\statsmodels\\tsa\\holtwinters\\model.py:915: ConvergenceWarning: Optimization failed to converge. Check mle_retvals.\n",
      "  warnings.warn(\n",
      "C:\\Users\\Dani\\AppData\\Local\\Programs\\Python\\Python310\\lib\\site-packages\\statsmodels\\tsa\\holtwinters\\model.py:915: ConvergenceWarning: Optimization failed to converge. Check mle_retvals.\n",
      "  warnings.warn(\n",
      "C:\\Users\\Dani\\AppData\\Local\\Programs\\Python\\Python310\\lib\\site-packages\\statsmodels\\tsa\\holtwinters\\model.py:915: ConvergenceWarning: Optimization failed to converge. Check mle_retvals.\n",
      "  warnings.warn(\n",
      "C:\\Users\\Dani\\AppData\\Local\\Programs\\Python\\Python310\\lib\\site-packages\\statsmodels\\tsa\\holtwinters\\model.py:915: ConvergenceWarning: Optimization failed to converge. Check mle_retvals.\n",
      "  warnings.warn(\n"
     ]
    },
    {
     "name": "stdout",
     "output_type": "stream",
     "text": [
      "Tesztelve 5 különböző tanulási/tesztelési adatszetten - 14 napos predikció\n",
      "RMSE: 134.0456\n",
      "MSE: 23893.6663\n",
      "MAE: 119.9424\n",
      "MAPE: 7.8838%\n",
      "RMSE: 134.04561790932223, MSE: 23893.666269838795, MAE: 119.9424432414911, MAPE: 0.07883834233087841\n",
      "add add True legacy-heuristic\n"
     ]
    },
    {
     "name": "stderr",
     "output_type": "stream",
     "text": [
      "C:\\Users\\Dani\\AppData\\Local\\Programs\\Python\\Python310\\lib\\site-packages\\statsmodels\\tsa\\holtwinters\\model.py:915: ConvergenceWarning: Optimization failed to converge. Check mle_retvals.\n",
      "  warnings.warn(\n",
      "C:\\Users\\Dani\\AppData\\Local\\Programs\\Python\\Python310\\lib\\site-packages\\statsmodels\\tsa\\holtwinters\\model.py:915: ConvergenceWarning: Optimization failed to converge. Check mle_retvals.\n",
      "  warnings.warn(\n",
      "C:\\Users\\Dani\\AppData\\Local\\Programs\\Python\\Python310\\lib\\site-packages\\statsmodels\\tsa\\holtwinters\\model.py:915: ConvergenceWarning: Optimization failed to converge. Check mle_retvals.\n",
      "  warnings.warn(\n",
      "C:\\Users\\Dani\\AppData\\Local\\Programs\\Python\\Python310\\lib\\site-packages\\statsmodels\\tsa\\holtwinters\\model.py:915: ConvergenceWarning: Optimization failed to converge. Check mle_retvals.\n",
      "  warnings.warn(\n",
      "C:\\Users\\Dani\\AppData\\Local\\Programs\\Python\\Python310\\lib\\site-packages\\statsmodels\\tsa\\holtwinters\\model.py:915: ConvergenceWarning: Optimization failed to converge. Check mle_retvals.\n",
      "  warnings.warn(\n"
     ]
    },
    {
     "name": "stdout",
     "output_type": "stream",
     "text": [
      "Tesztelve 5 különböző tanulási/tesztelési adatszetten - 14 napos predikció\n",
      "RMSE: 145.5758\n",
      "MSE: 26849.5295\n",
      "MAE: 129.4702\n",
      "MAPE: 8.4937%\n",
      "RMSE: 145.57576339019005, MSE: 26849.529534305562, MAE: 129.47020943720298, MAPE: 0.08493664337864872\n",
      "add add False estimated\n"
     ]
    },
    {
     "name": "stderr",
     "output_type": "stream",
     "text": [
      "C:\\Users\\Dani\\AppData\\Local\\Programs\\Python\\Python310\\lib\\site-packages\\statsmodels\\tsa\\holtwinters\\model.py:915: ConvergenceWarning: Optimization failed to converge. Check mle_retvals.\n",
      "  warnings.warn(\n",
      "C:\\Users\\Dani\\AppData\\Local\\Programs\\Python\\Python310\\lib\\site-packages\\statsmodels\\tsa\\holtwinters\\model.py:915: ConvergenceWarning: Optimization failed to converge. Check mle_retvals.\n",
      "  warnings.warn(\n",
      "C:\\Users\\Dani\\AppData\\Local\\Programs\\Python\\Python310\\lib\\site-packages\\statsmodels\\tsa\\holtwinters\\model.py:915: ConvergenceWarning: Optimization failed to converge. Check mle_retvals.\n",
      "  warnings.warn(\n",
      "C:\\Users\\Dani\\AppData\\Local\\Programs\\Python\\Python310\\lib\\site-packages\\statsmodels\\tsa\\holtwinters\\model.py:915: ConvergenceWarning: Optimization failed to converge. Check mle_retvals.\n",
      "  warnings.warn(\n",
      "C:\\Users\\Dani\\AppData\\Local\\Programs\\Python\\Python310\\lib\\site-packages\\statsmodels\\tsa\\holtwinters\\model.py:915: ConvergenceWarning: Optimization failed to converge. Check mle_retvals.\n",
      "  warnings.warn(\n"
     ]
    },
    {
     "name": "stdout",
     "output_type": "stream",
     "text": [
      "Tesztelve 5 különböző tanulási/tesztelési adatszetten - 14 napos predikció\n",
      "RMSE: 142.5745\n",
      "MSE: 26942.8421\n",
      "MAE: 128.4017\n",
      "MAPE: 8.4048%\n",
      "RMSE: 142.57447764109318, MSE: 26942.842125372, MAE: 128.40168610490682, MAPE: 0.08404788424220268\n",
      "add add False heuristic\n"
     ]
    },
    {
     "name": "stderr",
     "output_type": "stream",
     "text": [
      "C:\\Users\\Dani\\AppData\\Local\\Programs\\Python\\Python310\\lib\\site-packages\\statsmodels\\tsa\\holtwinters\\model.py:915: ConvergenceWarning: Optimization failed to converge. Check mle_retvals.\n",
      "  warnings.warn(\n",
      "C:\\Users\\Dani\\AppData\\Local\\Programs\\Python\\Python310\\lib\\site-packages\\statsmodels\\tsa\\holtwinters\\model.py:915: ConvergenceWarning: Optimization failed to converge. Check mle_retvals.\n",
      "  warnings.warn(\n",
      "C:\\Users\\Dani\\AppData\\Local\\Programs\\Python\\Python310\\lib\\site-packages\\statsmodels\\tsa\\holtwinters\\model.py:915: ConvergenceWarning: Optimization failed to converge. Check mle_retvals.\n",
      "  warnings.warn(\n",
      "C:\\Users\\Dani\\AppData\\Local\\Programs\\Python\\Python310\\lib\\site-packages\\statsmodels\\tsa\\holtwinters\\model.py:915: ConvergenceWarning: Optimization failed to converge. Check mle_retvals.\n",
      "  warnings.warn(\n",
      "C:\\Users\\Dani\\AppData\\Local\\Programs\\Python\\Python310\\lib\\site-packages\\statsmodels\\tsa\\holtwinters\\model.py:915: ConvergenceWarning: Optimization failed to converge. Check mle_retvals.\n",
      "  warnings.warn(\n"
     ]
    },
    {
     "name": "stdout",
     "output_type": "stream",
     "text": [
      "Tesztelve 5 különböző tanulási/tesztelési adatszetten - 14 napos predikció\n",
      "RMSE: 142.5745\n",
      "MSE: 26942.8421\n",
      "MAE: 128.4017\n",
      "MAPE: 8.4048%\n",
      "RMSE: 142.57447764109318, MSE: 26942.842125372, MAE: 128.40168610490682, MAPE: 0.08404788424220268\n",
      "add add False legacy-heuristic\n"
     ]
    },
    {
     "name": "stderr",
     "output_type": "stream",
     "text": [
      "C:\\Users\\Dani\\AppData\\Local\\Programs\\Python\\Python310\\lib\\site-packages\\statsmodels\\tsa\\holtwinters\\model.py:915: ConvergenceWarning: Optimization failed to converge. Check mle_retvals.\n",
      "  warnings.warn(\n",
      "C:\\Users\\Dani\\AppData\\Local\\Programs\\Python\\Python310\\lib\\site-packages\\statsmodels\\tsa\\holtwinters\\model.py:915: ConvergenceWarning: Optimization failed to converge. Check mle_retvals.\n",
      "  warnings.warn(\n",
      "C:\\Users\\Dani\\AppData\\Local\\Programs\\Python\\Python310\\lib\\site-packages\\statsmodels\\tsa\\holtwinters\\model.py:915: ConvergenceWarning: Optimization failed to converge. Check mle_retvals.\n",
      "  warnings.warn(\n",
      "C:\\Users\\Dani\\AppData\\Local\\Programs\\Python\\Python310\\lib\\site-packages\\statsmodels\\tsa\\holtwinters\\model.py:915: ConvergenceWarning: Optimization failed to converge. Check mle_retvals.\n",
      "  warnings.warn(\n",
      "C:\\Users\\Dani\\AppData\\Local\\Programs\\Python\\Python310\\lib\\site-packages\\statsmodels\\tsa\\holtwinters\\model.py:915: ConvergenceWarning: Optimization failed to converge. Check mle_retvals.\n",
      "  warnings.warn(\n"
     ]
    },
    {
     "name": "stdout",
     "output_type": "stream",
     "text": [
      "Tesztelve 5 különböző tanulási/tesztelési adatszetten - 14 napos predikció\n",
      "RMSE: 145.2013\n",
      "MSE: 28418.81\n",
      "MAE: 129.4581\n",
      "MAPE: 8.3967%\n",
      "RMSE: 145.20128062824065, MSE: 28418.80998972138, MAE: 129.4581189271516, MAPE: 0.08396681176891499\n",
      "add mul True estimated\n"
     ]
    },
    {
     "name": "stderr",
     "output_type": "stream",
     "text": [
      "C:\\Users\\Dani\\AppData\\Local\\Programs\\Python\\Python310\\lib\\site-packages\\statsmodels\\tsa\\holtwinters\\model.py:915: ConvergenceWarning: Optimization failed to converge. Check mle_retvals.\n",
      "  warnings.warn(\n",
      "C:\\Users\\Dani\\AppData\\Local\\Programs\\Python\\Python310\\lib\\site-packages\\statsmodels\\tsa\\holtwinters\\model.py:915: ConvergenceWarning: Optimization failed to converge. Check mle_retvals.\n",
      "  warnings.warn(\n",
      "C:\\Users\\Dani\\AppData\\Local\\Programs\\Python\\Python310\\lib\\site-packages\\statsmodels\\tsa\\holtwinters\\model.py:915: ConvergenceWarning: Optimization failed to converge. Check mle_retvals.\n",
      "  warnings.warn(\n",
      "C:\\Users\\Dani\\AppData\\Local\\Programs\\Python\\Python310\\lib\\site-packages\\statsmodels\\tsa\\holtwinters\\model.py:915: ConvergenceWarning: Optimization failed to converge. Check mle_retvals.\n",
      "  warnings.warn(\n",
      "C:\\Users\\Dani\\AppData\\Local\\Programs\\Python\\Python310\\lib\\site-packages\\statsmodels\\tsa\\holtwinters\\model.py:915: ConvergenceWarning: Optimization failed to converge. Check mle_retvals.\n",
      "  warnings.warn(\n"
     ]
    },
    {
     "name": "stdout",
     "output_type": "stream",
     "text": [
      "Tesztelve 5 különböző tanulási/tesztelési adatszetten - 14 napos predikció\n",
      "RMSE: 150.247\n",
      "MSE: 30542.0079\n",
      "MAE: 134.3539\n",
      "MAPE: 8.8168%\n",
      "RMSE: 150.24704917967145, MSE: 30542.007918016643, MAE: 134.35391717902675, MAPE: 0.08816789767120325\n",
      "add mul True heuristic\n"
     ]
    },
    {
     "name": "stderr",
     "output_type": "stream",
     "text": [
      "C:\\Users\\Dani\\AppData\\Local\\Programs\\Python\\Python310\\lib\\site-packages\\statsmodels\\tsa\\holtwinters\\model.py:915: ConvergenceWarning: Optimization failed to converge. Check mle_retvals.\n",
      "  warnings.warn(\n",
      "C:\\Users\\Dani\\AppData\\Local\\Programs\\Python\\Python310\\lib\\site-packages\\statsmodels\\tsa\\holtwinters\\model.py:915: ConvergenceWarning: Optimization failed to converge. Check mle_retvals.\n",
      "  warnings.warn(\n",
      "C:\\Users\\Dani\\AppData\\Local\\Programs\\Python\\Python310\\lib\\site-packages\\statsmodels\\tsa\\holtwinters\\model.py:915: ConvergenceWarning: Optimization failed to converge. Check mle_retvals.\n",
      "  warnings.warn(\n",
      "C:\\Users\\Dani\\AppData\\Local\\Programs\\Python\\Python310\\lib\\site-packages\\statsmodels\\tsa\\holtwinters\\model.py:915: ConvergenceWarning: Optimization failed to converge. Check mle_retvals.\n",
      "  warnings.warn(\n",
      "C:\\Users\\Dani\\AppData\\Local\\Programs\\Python\\Python310\\lib\\site-packages\\statsmodels\\tsa\\holtwinters\\model.py:915: ConvergenceWarning: Optimization failed to converge. Check mle_retvals.\n",
      "  warnings.warn(\n"
     ]
    },
    {
     "name": "stdout",
     "output_type": "stream",
     "text": [
      "Tesztelve 5 különböző tanulási/tesztelési adatszetten - 14 napos predikció\n",
      "RMSE: 150.247\n",
      "MSE: 30542.0079\n",
      "MAE: 134.3539\n",
      "MAPE: 8.8168%\n",
      "RMSE: 150.24704917967145, MSE: 30542.007918016643, MAE: 134.35391717902675, MAPE: 0.08816789767120325\n",
      "add mul True legacy-heuristic\n"
     ]
    },
    {
     "name": "stderr",
     "output_type": "stream",
     "text": [
      "C:\\Users\\Dani\\AppData\\Local\\Programs\\Python\\Python310\\lib\\site-packages\\statsmodels\\tsa\\holtwinters\\model.py:915: ConvergenceWarning: Optimization failed to converge. Check mle_retvals.\n",
      "  warnings.warn(\n",
      "C:\\Users\\Dani\\AppData\\Local\\Programs\\Python\\Python310\\lib\\site-packages\\statsmodels\\tsa\\holtwinters\\model.py:915: ConvergenceWarning: Optimization failed to converge. Check mle_retvals.\n",
      "  warnings.warn(\n",
      "C:\\Users\\Dani\\AppData\\Local\\Programs\\Python\\Python310\\lib\\site-packages\\statsmodels\\tsa\\holtwinters\\model.py:915: ConvergenceWarning: Optimization failed to converge. Check mle_retvals.\n",
      "  warnings.warn(\n",
      "C:\\Users\\Dani\\AppData\\Local\\Programs\\Python\\Python310\\lib\\site-packages\\statsmodels\\tsa\\holtwinters\\model.py:915: ConvergenceWarning: Optimization failed to converge. Check mle_retvals.\n",
      "  warnings.warn(\n",
      "C:\\Users\\Dani\\AppData\\Local\\Programs\\Python\\Python310\\lib\\site-packages\\statsmodels\\tsa\\holtwinters\\model.py:915: ConvergenceWarning: Optimization failed to converge. Check mle_retvals.\n",
      "  warnings.warn(\n"
     ]
    },
    {
     "name": "stdout",
     "output_type": "stream",
     "text": [
      "Tesztelve 5 különböző tanulási/tesztelési adatszetten - 14 napos predikció\n",
      "RMSE: 158.7562\n",
      "MSE: 32778.5874\n",
      "MAE: 143.4992\n",
      "MAPE: 9.3738%\n",
      "RMSE: 158.7562148878804, MSE: 32778.58735485861, MAE: 143.49918611002542, MAPE: 0.09373832061380089\n",
      "add mul False estimated\n"
     ]
    },
    {
     "name": "stderr",
     "output_type": "stream",
     "text": [
      "C:\\Users\\Dani\\AppData\\Local\\Programs\\Python\\Python310\\lib\\site-packages\\statsmodels\\tsa\\holtwinters\\model.py:915: ConvergenceWarning: Optimization failed to converge. Check mle_retvals.\n",
      "  warnings.warn(\n",
      "C:\\Users\\Dani\\AppData\\Local\\Programs\\Python\\Python310\\lib\\site-packages\\statsmodels\\tsa\\holtwinters\\model.py:915: ConvergenceWarning: Optimization failed to converge. Check mle_retvals.\n",
      "  warnings.warn(\n",
      "C:\\Users\\Dani\\AppData\\Local\\Programs\\Python\\Python310\\lib\\site-packages\\statsmodels\\tsa\\holtwinters\\model.py:915: ConvergenceWarning: Optimization failed to converge. Check mle_retvals.\n",
      "  warnings.warn(\n",
      "C:\\Users\\Dani\\AppData\\Local\\Programs\\Python\\Python310\\lib\\site-packages\\statsmodels\\tsa\\holtwinters\\model.py:915: ConvergenceWarning: Optimization failed to converge. Check mle_retvals.\n",
      "  warnings.warn(\n",
      "C:\\Users\\Dani\\AppData\\Local\\Programs\\Python\\Python310\\lib\\site-packages\\statsmodels\\tsa\\holtwinters\\model.py:915: ConvergenceWarning: Optimization failed to converge. Check mle_retvals.\n",
      "  warnings.warn(\n"
     ]
    },
    {
     "name": "stdout",
     "output_type": "stream",
     "text": [
      "Tesztelve 5 különböző tanulási/tesztelési adatszetten - 14 napos predikció\n",
      "RMSE: 150.5148\n",
      "MSE: 30308.7486\n",
      "MAE: 134.9038\n",
      "MAPE: 8.873%\n",
      "RMSE: 150.51479548931053, MSE: 30308.748622307216, MAE: 134.90377990933797, MAPE: 0.08872968622486317\n",
      "add mul False heuristic\n"
     ]
    },
    {
     "name": "stderr",
     "output_type": "stream",
     "text": [
      "C:\\Users\\Dani\\AppData\\Local\\Programs\\Python\\Python310\\lib\\site-packages\\statsmodels\\tsa\\holtwinters\\model.py:915: ConvergenceWarning: Optimization failed to converge. Check mle_retvals.\n",
      "  warnings.warn(\n",
      "C:\\Users\\Dani\\AppData\\Local\\Programs\\Python\\Python310\\lib\\site-packages\\statsmodels\\tsa\\holtwinters\\model.py:915: ConvergenceWarning: Optimization failed to converge. Check mle_retvals.\n",
      "  warnings.warn(\n",
      "C:\\Users\\Dani\\AppData\\Local\\Programs\\Python\\Python310\\lib\\site-packages\\statsmodels\\tsa\\holtwinters\\model.py:915: ConvergenceWarning: Optimization failed to converge. Check mle_retvals.\n",
      "  warnings.warn(\n",
      "C:\\Users\\Dani\\AppData\\Local\\Programs\\Python\\Python310\\lib\\site-packages\\statsmodels\\tsa\\holtwinters\\model.py:915: ConvergenceWarning: Optimization failed to converge. Check mle_retvals.\n",
      "  warnings.warn(\n",
      "C:\\Users\\Dani\\AppData\\Local\\Programs\\Python\\Python310\\lib\\site-packages\\statsmodels\\tsa\\holtwinters\\model.py:915: ConvergenceWarning: Optimization failed to converge. Check mle_retvals.\n",
      "  warnings.warn(\n"
     ]
    },
    {
     "name": "stdout",
     "output_type": "stream",
     "text": [
      "Tesztelve 5 különböző tanulási/tesztelési adatszetten - 14 napos predikció\n",
      "RMSE: 150.5148\n",
      "MSE: 30308.7486\n",
      "MAE: 134.9038\n",
      "MAPE: 8.873%\n",
      "RMSE: 150.51479548931053, MSE: 30308.748622307216, MAE: 134.90377990933797, MAPE: 0.08872968622486317\n",
      "add mul False legacy-heuristic\n"
     ]
    },
    {
     "name": "stderr",
     "output_type": "stream",
     "text": [
      "C:\\Users\\Dani\\AppData\\Local\\Programs\\Python\\Python310\\lib\\site-packages\\statsmodels\\tsa\\holtwinters\\model.py:915: ConvergenceWarning: Optimization failed to converge. Check mle_retvals.\n",
      "  warnings.warn(\n",
      "C:\\Users\\Dani\\AppData\\Local\\Programs\\Python\\Python310\\lib\\site-packages\\statsmodels\\tsa\\holtwinters\\model.py:915: ConvergenceWarning: Optimization failed to converge. Check mle_retvals.\n",
      "  warnings.warn(\n",
      "C:\\Users\\Dani\\AppData\\Local\\Programs\\Python\\Python310\\lib\\site-packages\\statsmodels\\tsa\\holtwinters\\model.py:915: ConvergenceWarning: Optimization failed to converge. Check mle_retvals.\n",
      "  warnings.warn(\n",
      "C:\\Users\\Dani\\AppData\\Local\\Programs\\Python\\Python310\\lib\\site-packages\\statsmodels\\tsa\\holtwinters\\model.py:915: ConvergenceWarning: Optimization failed to converge. Check mle_retvals.\n",
      "  warnings.warn(\n",
      "C:\\Users\\Dani\\AppData\\Local\\Programs\\Python\\Python310\\lib\\site-packages\\statsmodels\\tsa\\holtwinters\\model.py:915: ConvergenceWarning: Optimization failed to converge. Check mle_retvals.\n",
      "  warnings.warn(\n"
     ]
    },
    {
     "name": "stdout",
     "output_type": "stream",
     "text": [
      "Tesztelve 5 különböző tanulási/tesztelési adatszetten - 14 napos predikció\n",
      "RMSE: 140.4495\n",
      "MSE: 27155.0466\n",
      "MAE: 120.3561\n",
      "MAPE: 7.9209%\n",
      "RMSE: 140.44948158396843, MSE: 27155.046563643984, MAE: 120.35614018114047, MAPE: 0.07920852427448588\n",
      "add None True estimated\n",
      "Tesztelve 5 különböző tanulási/tesztelési adatszetten - 14 napos predikció\n",
      "RMSE: 101.0881\n",
      "MSE: 13622.8731\n",
      "MAE: 86.8687\n",
      "MAPE: 5.6203%\n",
      "RMSE: 101.08807762649715, MSE: 13622.873130508864, MAE: 86.86867144407405, MAPE: 0.0562031881253071\n",
      "Best RMSE so far: 101.08807762649715\n",
      "add None True heuristic\n",
      "Tesztelve 5 különböző tanulási/tesztelési adatszetten - 14 napos predikció\n",
      "RMSE: 101.0881\n",
      "MSE: 13622.8731\n",
      "MAE: 86.8687\n",
      "MAPE: 5.6203%\n",
      "RMSE: 101.08807762649715, MSE: 13622.873130508864, MAE: 86.86867144407405, MAPE: 0.0562031881253071\n",
      "add None True legacy-heuristic\n",
      "Tesztelve 5 különböző tanulási/tesztelési adatszetten - 14 napos predikció\n",
      "RMSE: 101.0896\n",
      "MSE: 13623.708\n",
      "MAE: 86.8699\n",
      "MAPE: 5.6204%\n",
      "RMSE: 101.08964793645211, MSE: 13623.70798479082, MAE: 86.86989001033021, MAPE: 0.05620399468707955\n",
      "add None False estimated\n",
      "Tesztelve 5 különböző tanulási/tesztelési adatszetten - 14 napos predikció\n",
      "RMSE: 100.6344\n",
      "MSE: 13891.9306\n",
      "MAE: 86.5129\n",
      "MAPE: 5.5954%\n",
      "RMSE: 100.63438416462039, MSE: 13891.930555135803, MAE: 86.51285012559924, MAPE: 0.05595436363972191\n",
      "Best RMSE so far: 100.63438416462039\n",
      "add None False heuristic\n",
      "Tesztelve 5 különböző tanulási/tesztelési adatszetten - 14 napos predikció\n",
      "RMSE: 100.6344\n",
      "MSE: 13891.9306\n",
      "MAE: 86.5129\n",
      "MAPE: 5.5954%\n",
      "RMSE: 100.63438416462039, MSE: 13891.930555135803, MAE: 86.51285012559924, MAPE: 0.05595436363972191\n",
      "add None False legacy-heuristic\n",
      "Tesztelve 5 különböző tanulási/tesztelési adatszetten - 14 napos predikció\n",
      "RMSE: 100.6174\n",
      "MSE: 13887.8285\n",
      "MAE: 86.4984\n",
      "MAPE: 5.5945%\n",
      "RMSE: 100.6174109348319, MSE: 13887.828454126444, MAE: 86.49835477533375, MAPE: 0.055944955086907264\n",
      "Best RMSE so far: 100.6174109348319\n",
      "mul add True estimated\n"
     ]
    },
    {
     "name": "stderr",
     "output_type": "stream",
     "text": [
      "C:\\Users\\Dani\\AppData\\Local\\Programs\\Python\\Python310\\lib\\site-packages\\statsmodels\\tsa\\holtwinters\\model.py:83: RuntimeWarning: overflow encountered in matmul\n",
      "  return err.T @ err\n",
      "C:\\Users\\Dani\\AppData\\Local\\Programs\\Python\\Python310\\lib\\site-packages\\statsmodels\\tsa\\holtwinters\\model.py:915: ConvergenceWarning: Optimization failed to converge. Check mle_retvals.\n",
      "  warnings.warn(\n",
      "C:\\Users\\Dani\\AppData\\Local\\Programs\\Python\\Python310\\lib\\site-packages\\statsmodels\\tsa\\holtwinters\\model.py:915: ConvergenceWarning: Optimization failed to converge. Check mle_retvals.\n",
      "  warnings.warn(\n",
      "C:\\Users\\Dani\\AppData\\Local\\Programs\\Python\\Python310\\lib\\site-packages\\statsmodels\\tsa\\holtwinters\\model.py:915: ConvergenceWarning: Optimization failed to converge. Check mle_retvals.\n",
      "  warnings.warn(\n",
      "C:\\Users\\Dani\\AppData\\Local\\Programs\\Python\\Python310\\lib\\site-packages\\statsmodels\\tsa\\holtwinters\\model.py:915: ConvergenceWarning: Optimization failed to converge. Check mle_retvals.\n",
      "  warnings.warn(\n",
      "C:\\Users\\Dani\\AppData\\Local\\Programs\\Python\\Python310\\lib\\site-packages\\statsmodels\\tsa\\holtwinters\\model.py:915: ConvergenceWarning: Optimization failed to converge. Check mle_retvals.\n",
      "  warnings.warn(\n"
     ]
    },
    {
     "name": "stdout",
     "output_type": "stream",
     "text": [
      "Tesztelve 5 különböző tanulási/tesztelési adatszetten - 14 napos predikció\n",
      "RMSE: 140.9032\n",
      "MSE: 29728.962\n",
      "MAE: 125.0528\n",
      "MAPE: 8.0984%\n",
      "RMSE: 140.90320449003144, MSE: 29728.961959859753, MAE: 125.05280202941624, MAPE: 0.08098420099928501\n",
      "mul add True heuristic\n"
     ]
    },
    {
     "name": "stderr",
     "output_type": "stream",
     "text": [
      "C:\\Users\\Dani\\AppData\\Local\\Programs\\Python\\Python310\\lib\\site-packages\\statsmodels\\tsa\\holtwinters\\model.py:83: RuntimeWarning: overflow encountered in matmul\n",
      "  return err.T @ err\n",
      "C:\\Users\\Dani\\AppData\\Local\\Programs\\Python\\Python310\\lib\\site-packages\\statsmodels\\tsa\\holtwinters\\model.py:915: ConvergenceWarning: Optimization failed to converge. Check mle_retvals.\n",
      "  warnings.warn(\n",
      "C:\\Users\\Dani\\AppData\\Local\\Programs\\Python\\Python310\\lib\\site-packages\\statsmodels\\tsa\\holtwinters\\model.py:915: ConvergenceWarning: Optimization failed to converge. Check mle_retvals.\n",
      "  warnings.warn(\n",
      "C:\\Users\\Dani\\AppData\\Local\\Programs\\Python\\Python310\\lib\\site-packages\\statsmodels\\tsa\\holtwinters\\model.py:915: ConvergenceWarning: Optimization failed to converge. Check mle_retvals.\n",
      "  warnings.warn(\n",
      "C:\\Users\\Dani\\AppData\\Local\\Programs\\Python\\Python310\\lib\\site-packages\\statsmodels\\tsa\\holtwinters\\model.py:915: ConvergenceWarning: Optimization failed to converge. Check mle_retvals.\n",
      "  warnings.warn(\n",
      "C:\\Users\\Dani\\AppData\\Local\\Programs\\Python\\Python310\\lib\\site-packages\\statsmodels\\tsa\\holtwinters\\model.py:915: ConvergenceWarning: Optimization failed to converge. Check mle_retvals.\n",
      "  warnings.warn(\n"
     ]
    },
    {
     "name": "stdout",
     "output_type": "stream",
     "text": [
      "Tesztelve 5 különböző tanulási/tesztelési adatszetten - 14 napos predikció\n",
      "RMSE: 140.9032\n",
      "MSE: 29728.962\n",
      "MAE: 125.0528\n",
      "MAPE: 8.0984%\n",
      "RMSE: 140.90320449003144, MSE: 29728.961959859753, MAE: 125.05280202941624, MAPE: 0.08098420099928501\n",
      "mul add True legacy-heuristic\n"
     ]
    },
    {
     "name": "stderr",
     "output_type": "stream",
     "text": [
      "C:\\Users\\Dani\\AppData\\Local\\Programs\\Python\\Python310\\lib\\site-packages\\statsmodels\\tsa\\holtwinters\\model.py:915: ConvergenceWarning: Optimization failed to converge. Check mle_retvals.\n",
      "  warnings.warn(\n",
      "C:\\Users\\Dani\\AppData\\Local\\Programs\\Python\\Python310\\lib\\site-packages\\statsmodels\\tsa\\holtwinters\\model.py:915: ConvergenceWarning: Optimization failed to converge. Check mle_retvals.\n",
      "  warnings.warn(\n",
      "C:\\Users\\Dani\\AppData\\Local\\Programs\\Python\\Python310\\lib\\site-packages\\statsmodels\\tsa\\holtwinters\\model.py:915: ConvergenceWarning: Optimization failed to converge. Check mle_retvals.\n",
      "  warnings.warn(\n",
      "C:\\Users\\Dani\\AppData\\Local\\Programs\\Python\\Python310\\lib\\site-packages\\statsmodels\\tsa\\holtwinters\\model.py:915: ConvergenceWarning: Optimization failed to converge. Check mle_retvals.\n",
      "  warnings.warn(\n",
      "C:\\Users\\Dani\\AppData\\Local\\Programs\\Python\\Python310\\lib\\site-packages\\statsmodels\\tsa\\holtwinters\\model.py:915: ConvergenceWarning: Optimization failed to converge. Check mle_retvals.\n",
      "  warnings.warn(\n"
     ]
    },
    {
     "name": "stdout",
     "output_type": "stream",
     "text": [
      "Tesztelve 5 különböző tanulási/tesztelési adatszetten - 14 napos predikció\n",
      "RMSE: 152.3125\n",
      "MSE: 33987.6734\n",
      "MAE: 136.4521\n",
      "MAPE: 8.7095%\n",
      "RMSE: 152.31249443580447, MSE: 33987.673395275735, MAE: 136.45208801581543, MAPE: 0.08709507427051674\n",
      "mul add False estimated\n"
     ]
    },
    {
     "name": "stderr",
     "output_type": "stream",
     "text": [
      "C:\\Users\\Dani\\AppData\\Local\\Programs\\Python\\Python310\\lib\\site-packages\\statsmodels\\tsa\\holtwinters\\model.py:915: ConvergenceWarning: Optimization failed to converge. Check mle_retvals.\n",
      "  warnings.warn(\n",
      "C:\\Users\\Dani\\AppData\\Local\\Programs\\Python\\Python310\\lib\\site-packages\\statsmodels\\tsa\\holtwinters\\model.py:915: ConvergenceWarning: Optimization failed to converge. Check mle_retvals.\n",
      "  warnings.warn(\n",
      "C:\\Users\\Dani\\AppData\\Local\\Programs\\Python\\Python310\\lib\\site-packages\\statsmodels\\tsa\\holtwinters\\model.py:915: ConvergenceWarning: Optimization failed to converge. Check mle_retvals.\n",
      "  warnings.warn(\n",
      "C:\\Users\\Dani\\AppData\\Local\\Programs\\Python\\Python310\\lib\\site-packages\\statsmodels\\tsa\\holtwinters\\model.py:915: ConvergenceWarning: Optimization failed to converge. Check mle_retvals.\n",
      "  warnings.warn(\n",
      "C:\\Users\\Dani\\AppData\\Local\\Programs\\Python\\Python310\\lib\\site-packages\\statsmodels\\tsa\\holtwinters\\model.py:915: ConvergenceWarning: Optimization failed to converge. Check mle_retvals.\n",
      "  warnings.warn(\n"
     ]
    },
    {
     "name": "stdout",
     "output_type": "stream",
     "text": [
      "Tesztelve 5 különböző tanulási/tesztelési adatszetten - 14 napos predikció\n",
      "RMSE: 142.5993\n",
      "MSE: 26763.4342\n",
      "MAE: 129.0294\n",
      "MAPE: 8.5095%\n",
      "RMSE: 142.5993380269344, MSE: 26763.434237456087, MAE: 129.02939726799133, MAPE: 0.08509506789451378\n",
      "mul add False heuristic\n"
     ]
    },
    {
     "name": "stderr",
     "output_type": "stream",
     "text": [
      "C:\\Users\\Dani\\AppData\\Local\\Programs\\Python\\Python310\\lib\\site-packages\\statsmodels\\tsa\\holtwinters\\model.py:915: ConvergenceWarning: Optimization failed to converge. Check mle_retvals.\n",
      "  warnings.warn(\n",
      "C:\\Users\\Dani\\AppData\\Local\\Programs\\Python\\Python310\\lib\\site-packages\\statsmodels\\tsa\\holtwinters\\model.py:915: ConvergenceWarning: Optimization failed to converge. Check mle_retvals.\n",
      "  warnings.warn(\n",
      "C:\\Users\\Dani\\AppData\\Local\\Programs\\Python\\Python310\\lib\\site-packages\\statsmodels\\tsa\\holtwinters\\model.py:915: ConvergenceWarning: Optimization failed to converge. Check mle_retvals.\n",
      "  warnings.warn(\n",
      "C:\\Users\\Dani\\AppData\\Local\\Programs\\Python\\Python310\\lib\\site-packages\\statsmodels\\tsa\\holtwinters\\model.py:915: ConvergenceWarning: Optimization failed to converge. Check mle_retvals.\n",
      "  warnings.warn(\n",
      "C:\\Users\\Dani\\AppData\\Local\\Programs\\Python\\Python310\\lib\\site-packages\\statsmodels\\tsa\\holtwinters\\model.py:915: ConvergenceWarning: Optimization failed to converge. Check mle_retvals.\n",
      "  warnings.warn(\n"
     ]
    },
    {
     "name": "stdout",
     "output_type": "stream",
     "text": [
      "Tesztelve 5 különböző tanulási/tesztelési adatszetten - 14 napos predikció\n",
      "RMSE: 142.5993\n",
      "MSE: 26763.4342\n",
      "MAE: 129.0294\n",
      "MAPE: 8.5095%\n",
      "RMSE: 142.5993380269344, MSE: 26763.434237456087, MAE: 129.02939726799133, MAPE: 0.08509506789451378\n",
      "mul add False legacy-heuristic\n"
     ]
    },
    {
     "name": "stderr",
     "output_type": "stream",
     "text": [
      "C:\\Users\\Dani\\AppData\\Local\\Programs\\Python\\Python310\\lib\\site-packages\\statsmodels\\tsa\\holtwinters\\model.py:915: ConvergenceWarning: Optimization failed to converge. Check mle_retvals.\n",
      "  warnings.warn(\n",
      "C:\\Users\\Dani\\AppData\\Local\\Programs\\Python\\Python310\\lib\\site-packages\\statsmodels\\tsa\\holtwinters\\model.py:83: RuntimeWarning: overflow encountered in matmul\n",
      "  return err.T @ err\n",
      "C:\\Users\\Dani\\AppData\\Local\\Programs\\Python\\Python310\\lib\\site-packages\\statsmodels\\tsa\\holtwinters\\model.py:915: ConvergenceWarning: Optimization failed to converge. Check mle_retvals.\n",
      "  warnings.warn(\n",
      "C:\\Users\\Dani\\AppData\\Local\\Programs\\Python\\Python310\\lib\\site-packages\\statsmodels\\tsa\\holtwinters\\model.py:83: RuntimeWarning: overflow encountered in matmul\n",
      "  return err.T @ err\n",
      "C:\\Users\\Dani\\AppData\\Local\\Programs\\Python\\Python310\\lib\\site-packages\\statsmodels\\tsa\\holtwinters\\model.py:915: ConvergenceWarning: Optimization failed to converge. Check mle_retvals.\n",
      "  warnings.warn(\n",
      "C:\\Users\\Dani\\AppData\\Local\\Programs\\Python\\Python310\\lib\\site-packages\\statsmodels\\tsa\\holtwinters\\model.py:83: RuntimeWarning: overflow encountered in matmul\n",
      "  return err.T @ err\n",
      "C:\\Users\\Dani\\AppData\\Local\\Programs\\Python\\Python310\\lib\\site-packages\\statsmodels\\tsa\\holtwinters\\model.py:915: ConvergenceWarning: Optimization failed to converge. Check mle_retvals.\n",
      "  warnings.warn(\n",
      "C:\\Users\\Dani\\AppData\\Local\\Programs\\Python\\Python310\\lib\\site-packages\\statsmodels\\tsa\\holtwinters\\model.py:83: RuntimeWarning: overflow encountered in matmul\n",
      "  return err.T @ err\n",
      "C:\\Users\\Dani\\AppData\\Local\\Programs\\Python\\Python310\\lib\\site-packages\\statsmodels\\tsa\\holtwinters\\model.py:915: ConvergenceWarning: Optimization failed to converge. Check mle_retvals.\n",
      "  warnings.warn(\n"
     ]
    },
    {
     "name": "stdout",
     "output_type": "stream",
     "text": [
      "Tesztelve 5 különböző tanulási/tesztelési adatszetten - 14 napos predikció\n",
      "RMSE: 155.5196\n",
      "MSE: 32623.566\n",
      "MAE: 139.6774\n",
      "MAPE: 9.2653%\n",
      "RMSE: 155.51957880129345, MSE: 32623.56597274688, MAE: 139.67737810443163, MAPE: 0.0926530224559618\n",
      "mul mul True estimated\n"
     ]
    },
    {
     "name": "stderr",
     "output_type": "stream",
     "text": [
      "C:\\Users\\Dani\\AppData\\Local\\Programs\\Python\\Python310\\lib\\site-packages\\statsmodels\\tsa\\holtwinters\\model.py:83: RuntimeWarning: overflow encountered in matmul\n",
      "  return err.T @ err\n",
      "C:\\Users\\Dani\\AppData\\Local\\Programs\\Python\\Python310\\lib\\site-packages\\statsmodels\\tsa\\holtwinters\\model.py:915: ConvergenceWarning: Optimization failed to converge. Check mle_retvals.\n",
      "  warnings.warn(\n",
      "C:\\Users\\Dani\\AppData\\Local\\Programs\\Python\\Python310\\lib\\site-packages\\statsmodels\\tsa\\holtwinters\\model.py:83: RuntimeWarning: overflow encountered in matmul\n",
      "  return err.T @ err\n",
      "C:\\Users\\Dani\\AppData\\Local\\Programs\\Python\\Python310\\lib\\site-packages\\statsmodels\\tsa\\holtwinters\\model.py:915: ConvergenceWarning: Optimization failed to converge. Check mle_retvals.\n",
      "  warnings.warn(\n",
      "C:\\Users\\Dani\\AppData\\Local\\Programs\\Python\\Python310\\lib\\site-packages\\statsmodels\\tsa\\holtwinters\\model.py:915: ConvergenceWarning: Optimization failed to converge. Check mle_retvals.\n",
      "  warnings.warn(\n",
      "C:\\Users\\Dani\\AppData\\Local\\Programs\\Python\\Python310\\lib\\site-packages\\statsmodels\\tsa\\holtwinters\\model.py:915: ConvergenceWarning: Optimization failed to converge. Check mle_retvals.\n",
      "  warnings.warn(\n",
      "C:\\Users\\Dani\\AppData\\Local\\Programs\\Python\\Python310\\lib\\site-packages\\statsmodels\\tsa\\holtwinters\\model.py:915: ConvergenceWarning: Optimization failed to converge. Check mle_retvals.\n",
      "  warnings.warn(\n"
     ]
    },
    {
     "name": "stdout",
     "output_type": "stream",
     "text": [
      "Tesztelve 5 különböző tanulási/tesztelési adatszetten - 14 napos predikció\n",
      "RMSE: 150.0374\n",
      "MSE: 30619.5853\n",
      "MAE: 134.129\n",
      "MAPE: 8.7989%\n",
      "RMSE: 150.03738529379095, MSE: 30619.585334295803, MAE: 134.1289711132485, MAPE: 0.08798907936598371\n",
      "mul mul True heuristic\n"
     ]
    },
    {
     "name": "stderr",
     "output_type": "stream",
     "text": [
      "C:\\Users\\Dani\\AppData\\Local\\Programs\\Python\\Python310\\lib\\site-packages\\statsmodels\\tsa\\holtwinters\\model.py:83: RuntimeWarning: overflow encountered in matmul\n",
      "  return err.T @ err\n",
      "C:\\Users\\Dani\\AppData\\Local\\Programs\\Python\\Python310\\lib\\site-packages\\statsmodels\\tsa\\holtwinters\\model.py:915: ConvergenceWarning: Optimization failed to converge. Check mle_retvals.\n",
      "  warnings.warn(\n",
      "C:\\Users\\Dani\\AppData\\Local\\Programs\\Python\\Python310\\lib\\site-packages\\statsmodels\\tsa\\holtwinters\\model.py:83: RuntimeWarning: overflow encountered in matmul\n",
      "  return err.T @ err\n",
      "C:\\Users\\Dani\\AppData\\Local\\Programs\\Python\\Python310\\lib\\site-packages\\statsmodels\\tsa\\holtwinters\\model.py:915: ConvergenceWarning: Optimization failed to converge. Check mle_retvals.\n",
      "  warnings.warn(\n",
      "C:\\Users\\Dani\\AppData\\Local\\Programs\\Python\\Python310\\lib\\site-packages\\statsmodels\\tsa\\holtwinters\\model.py:915: ConvergenceWarning: Optimization failed to converge. Check mle_retvals.\n",
      "  warnings.warn(\n",
      "C:\\Users\\Dani\\AppData\\Local\\Programs\\Python\\Python310\\lib\\site-packages\\statsmodels\\tsa\\holtwinters\\model.py:915: ConvergenceWarning: Optimization failed to converge. Check mle_retvals.\n",
      "  warnings.warn(\n",
      "C:\\Users\\Dani\\AppData\\Local\\Programs\\Python\\Python310\\lib\\site-packages\\statsmodels\\tsa\\holtwinters\\model.py:915: ConvergenceWarning: Optimization failed to converge. Check mle_retvals.\n",
      "  warnings.warn(\n"
     ]
    },
    {
     "name": "stdout",
     "output_type": "stream",
     "text": [
      "Tesztelve 5 különböző tanulási/tesztelési adatszetten - 14 napos predikció\n",
      "RMSE: 150.0374\n",
      "MSE: 30619.5853\n",
      "MAE: 134.129\n",
      "MAPE: 8.7989%\n",
      "RMSE: 150.03738529379095, MSE: 30619.585334295803, MAE: 134.1289711132485, MAPE: 0.08798907936598371\n",
      "mul mul True legacy-heuristic\n"
     ]
    },
    {
     "name": "stderr",
     "output_type": "stream",
     "text": [
      "C:\\Users\\Dani\\AppData\\Local\\Programs\\Python\\Python310\\lib\\site-packages\\statsmodels\\tsa\\holtwinters\\model.py:915: ConvergenceWarning: Optimization failed to converge. Check mle_retvals.\n",
      "  warnings.warn(\n",
      "C:\\Users\\Dani\\AppData\\Local\\Programs\\Python\\Python310\\lib\\site-packages\\statsmodels\\tsa\\holtwinters\\model.py:915: ConvergenceWarning: Optimization failed to converge. Check mle_retvals.\n",
      "  warnings.warn(\n",
      "C:\\Users\\Dani\\AppData\\Local\\Programs\\Python\\Python310\\lib\\site-packages\\statsmodels\\tsa\\holtwinters\\model.py:915: ConvergenceWarning: Optimization failed to converge. Check mle_retvals.\n",
      "  warnings.warn(\n",
      "C:\\Users\\Dani\\AppData\\Local\\Programs\\Python\\Python310\\lib\\site-packages\\statsmodels\\tsa\\holtwinters\\model.py:915: ConvergenceWarning: Optimization failed to converge. Check mle_retvals.\n",
      "  warnings.warn(\n",
      "C:\\Users\\Dani\\AppData\\Local\\Programs\\Python\\Python310\\lib\\site-packages\\statsmodels\\tsa\\holtwinters\\model.py:915: ConvergenceWarning: Optimization failed to converge. Check mle_retvals.\n",
      "  warnings.warn(\n"
     ]
    },
    {
     "name": "stdout",
     "output_type": "stream",
     "text": [
      "Tesztelve 5 különböző tanulási/tesztelési adatszetten - 14 napos predikció\n",
      "RMSE: 174.3723\n",
      "MSE: 37791.4444\n",
      "MAE: 155.7216\n",
      "MAPE: 10.1142%\n",
      "RMSE: 174.37227266946803, MSE: 37791.444412504825, MAE: 155.7216236730355, MAPE: 0.10114215874871665\n",
      "mul mul False estimated\n"
     ]
    },
    {
     "name": "stderr",
     "output_type": "stream",
     "text": [
      "C:\\Users\\Dani\\AppData\\Local\\Programs\\Python\\Python310\\lib\\site-packages\\statsmodels\\tsa\\holtwinters\\model.py:915: ConvergenceWarning: Optimization failed to converge. Check mle_retvals.\n",
      "  warnings.warn(\n",
      "C:\\Users\\Dani\\AppData\\Local\\Programs\\Python\\Python310\\lib\\site-packages\\statsmodels\\tsa\\holtwinters\\model.py:915: ConvergenceWarning: Optimization failed to converge. Check mle_retvals.\n",
      "  warnings.warn(\n",
      "C:\\Users\\Dani\\AppData\\Local\\Programs\\Python\\Python310\\lib\\site-packages\\statsmodels\\tsa\\holtwinters\\model.py:83: RuntimeWarning: overflow encountered in matmul\n",
      "  return err.T @ err\n",
      "C:\\Users\\Dani\\AppData\\Local\\Programs\\Python\\Python310\\lib\\site-packages\\statsmodels\\tsa\\holtwinters\\model.py:915: ConvergenceWarning: Optimization failed to converge. Check mle_retvals.\n",
      "  warnings.warn(\n",
      "C:\\Users\\Dani\\AppData\\Local\\Programs\\Python\\Python310\\lib\\site-packages\\statsmodels\\tsa\\holtwinters\\model.py:83: RuntimeWarning: overflow encountered in matmul\n",
      "  return err.T @ err\n",
      "C:\\Users\\Dani\\AppData\\Local\\Programs\\Python\\Python310\\lib\\site-packages\\statsmodels\\tsa\\holtwinters\\model.py:915: ConvergenceWarning: Optimization failed to converge. Check mle_retvals.\n",
      "  warnings.warn(\n",
      "C:\\Users\\Dani\\AppData\\Local\\Programs\\Python\\Python310\\lib\\site-packages\\statsmodels\\tsa\\holtwinters\\model.py:83: RuntimeWarning: overflow encountered in matmul\n",
      "  return err.T @ err\n",
      "C:\\Users\\Dani\\AppData\\Local\\Programs\\Python\\Python310\\lib\\site-packages\\statsmodels\\tsa\\holtwinters\\model.py:915: ConvergenceWarning: Optimization failed to converge. Check mle_retvals.\n",
      "  warnings.warn(\n"
     ]
    },
    {
     "name": "stdout",
     "output_type": "stream",
     "text": [
      "Tesztelve 5 különböző tanulási/tesztelési adatszetten - 14 napos predikció\n",
      "RMSE: 150.828\n",
      "MSE: 30112.6442\n",
      "MAE: 135.1623\n",
      "MAPE: 8.9363%\n",
      "RMSE: 150.82802109646133, MSE: 30112.64415021037, MAE: 135.1623423391067, MAPE: 0.08936300505532276\n",
      "mul mul False heuristic\n"
     ]
    },
    {
     "name": "stderr",
     "output_type": "stream",
     "text": [
      "C:\\Users\\Dani\\AppData\\Local\\Programs\\Python\\Python310\\lib\\site-packages\\statsmodels\\tsa\\holtwinters\\model.py:915: ConvergenceWarning: Optimization failed to converge. Check mle_retvals.\n",
      "  warnings.warn(\n",
      "C:\\Users\\Dani\\AppData\\Local\\Programs\\Python\\Python310\\lib\\site-packages\\statsmodels\\tsa\\holtwinters\\model.py:915: ConvergenceWarning: Optimization failed to converge. Check mle_retvals.\n",
      "  warnings.warn(\n",
      "C:\\Users\\Dani\\AppData\\Local\\Programs\\Python\\Python310\\lib\\site-packages\\statsmodels\\tsa\\holtwinters\\model.py:83: RuntimeWarning: overflow encountered in matmul\n",
      "  return err.T @ err\n",
      "C:\\Users\\Dani\\AppData\\Local\\Programs\\Python\\Python310\\lib\\site-packages\\statsmodels\\tsa\\holtwinters\\model.py:915: ConvergenceWarning: Optimization failed to converge. Check mle_retvals.\n",
      "  warnings.warn(\n",
      "C:\\Users\\Dani\\AppData\\Local\\Programs\\Python\\Python310\\lib\\site-packages\\statsmodels\\tsa\\holtwinters\\model.py:83: RuntimeWarning: overflow encountered in matmul\n",
      "  return err.T @ err\n",
      "C:\\Users\\Dani\\AppData\\Local\\Programs\\Python\\Python310\\lib\\site-packages\\statsmodels\\tsa\\holtwinters\\model.py:915: ConvergenceWarning: Optimization failed to converge. Check mle_retvals.\n",
      "  warnings.warn(\n",
      "C:\\Users\\Dani\\AppData\\Local\\Programs\\Python\\Python310\\lib\\site-packages\\statsmodels\\tsa\\holtwinters\\model.py:83: RuntimeWarning: overflow encountered in matmul\n",
      "  return err.T @ err\n",
      "C:\\Users\\Dani\\AppData\\Local\\Programs\\Python\\Python310\\lib\\site-packages\\statsmodels\\tsa\\holtwinters\\model.py:915: ConvergenceWarning: Optimization failed to converge. Check mle_retvals.\n",
      "  warnings.warn(\n"
     ]
    },
    {
     "name": "stdout",
     "output_type": "stream",
     "text": [
      "Tesztelve 5 különböző tanulási/tesztelési adatszetten - 14 napos predikció\n",
      "RMSE: 150.828\n",
      "MSE: 30112.6442\n",
      "MAE: 135.1623\n",
      "MAPE: 8.9363%\n",
      "RMSE: 150.82802109646133, MSE: 30112.64415021037, MAE: 135.1623423391067, MAPE: 0.08936300505532276\n",
      "mul mul False legacy-heuristic\n"
     ]
    },
    {
     "name": "stderr",
     "output_type": "stream",
     "text": [
      "C:\\Users\\Dani\\AppData\\Local\\Programs\\Python\\Python310\\lib\\site-packages\\statsmodels\\tsa\\holtwinters\\model.py:915: ConvergenceWarning: Optimization failed to converge. Check mle_retvals.\n",
      "  warnings.warn(\n",
      "C:\\Users\\Dani\\AppData\\Local\\Programs\\Python\\Python310\\lib\\site-packages\\statsmodels\\tsa\\holtwinters\\model.py:83: RuntimeWarning: overflow encountered in matmul\n",
      "  return err.T @ err\n",
      "C:\\Users\\Dani\\AppData\\Local\\Programs\\Python\\Python310\\lib\\site-packages\\statsmodels\\tsa\\holtwinters\\model.py:915: ConvergenceWarning: Optimization failed to converge. Check mle_retvals.\n",
      "  warnings.warn(\n",
      "C:\\Users\\Dani\\AppData\\Local\\Programs\\Python\\Python310\\lib\\site-packages\\statsmodels\\tsa\\holtwinters\\model.py:915: ConvergenceWarning: Optimization failed to converge. Check mle_retvals.\n",
      "  warnings.warn(\n",
      "C:\\Users\\Dani\\AppData\\Local\\Programs\\Python\\Python310\\lib\\site-packages\\statsmodels\\tsa\\holtwinters\\model.py:83: RuntimeWarning: overflow encountered in matmul\n",
      "  return err.T @ err\n",
      "C:\\Users\\Dani\\AppData\\Local\\Programs\\Python\\Python310\\lib\\site-packages\\statsmodels\\tsa\\holtwinters\\model.py:915: ConvergenceWarning: Optimization failed to converge. Check mle_retvals.\n",
      "  warnings.warn(\n",
      "C:\\Users\\Dani\\AppData\\Local\\Programs\\Python\\Python310\\lib\\site-packages\\statsmodels\\tsa\\holtwinters\\model.py:915: ConvergenceWarning: Optimization failed to converge. Check mle_retvals.\n",
      "  warnings.warn(\n"
     ]
    },
    {
     "name": "stdout",
     "output_type": "stream",
     "text": [
      "Tesztelve 5 különböző tanulási/tesztelési adatszetten - 14 napos predikció\n",
      "RMSE: 139.5807\n",
      "MSE: 30396.0936\n",
      "MAE: 119.2369\n",
      "MAPE: 7.7727%\n",
      "RMSE: 139.58073606141346, MSE: 30396.093634538563, MAE: 119.2369329840219, MAPE: 0.07772703265956413\n",
      "mul None True estimated\n",
      "Tesztelve 5 különböző tanulási/tesztelési adatszetten - 14 napos predikció\n",
      "RMSE: 101.0309\n",
      "MSE: 13576.0888\n",
      "MAE: 86.797\n",
      "MAPE: 5.6158%\n",
      "RMSE: 101.03089018945573, MSE: 13576.088795401296, MAE: 86.79704366761479, MAPE: 0.05615779734606761\n",
      "mul None True heuristic\n",
      "Tesztelve 5 különböző tanulási/tesztelési adatszetten - 14 napos predikció\n",
      "RMSE: 101.0309\n",
      "MSE: 13576.0888\n",
      "MAE: 86.797\n",
      "MAPE: 5.6158%\n",
      "RMSE: 101.03089018945573, MSE: 13576.088795401296, MAE: 86.79704366761479, MAPE: 0.05615779734606761\n",
      "mul None True legacy-heuristic\n",
      "Tesztelve 5 különböző tanulási/tesztelési adatszetten - 14 napos predikció\n",
      "RMSE: 101.0263\n",
      "MSE: 13574.6421\n",
      "MAE: 86.793\n",
      "MAPE: 5.6155%\n",
      "RMSE: 101.02625479918825, MSE: 13574.642096819603, MAE: 86.79299931488126, MAPE: 0.05615524103009354\n",
      "mul None False estimated\n",
      "Tesztelve 5 különböző tanulási/tesztelési adatszetten - 14 napos predikció\n",
      "RMSE: 101.089\n",
      "MSE: 14020.8313\n",
      "MAE: 86.8243\n",
      "MAPE: 5.6161%\n",
      "RMSE: 101.08900999940127, MSE: 14020.831348115657, MAE: 86.82431571966983, MAPE: 0.05616055778740575\n",
      "mul None False heuristic\n",
      "Tesztelve 5 különböző tanulási/tesztelési adatszetten - 14 napos predikció\n",
      "RMSE: 101.089\n",
      "MSE: 14020.8313\n",
      "MAE: 86.8243\n",
      "MAPE: 5.6161%\n",
      "RMSE: 101.08900999940127, MSE: 14020.831348115657, MAE: 86.82431571966983, MAPE: 0.05616055778740575\n",
      "mul None False legacy-heuristic\n"
     ]
    },
    {
     "name": "stderr",
     "output_type": "stream",
     "text": [
      "C:\\Users\\Dani\\AppData\\Local\\Programs\\Python\\Python310\\lib\\site-packages\\statsmodels\\tsa\\holtwinters\\model.py:83: RuntimeWarning: overflow encountered in matmul\n",
      "  return err.T @ err\n",
      "C:\\Users\\Dani\\AppData\\Local\\Programs\\Python\\Python310\\lib\\site-packages\\statsmodels\\tsa\\holtwinters\\model.py:83: RuntimeWarning: overflow encountered in matmul\n",
      "  return err.T @ err\n",
      "C:\\Users\\Dani\\AppData\\Local\\Programs\\Python\\Python310\\lib\\site-packages\\statsmodels\\tsa\\holtwinters\\model.py:83: RuntimeWarning: overflow encountered in matmul\n",
      "  return err.T @ err\n"
     ]
    },
    {
     "name": "stdout",
     "output_type": "stream",
     "text": [
      "Tesztelve 5 különböző tanulási/tesztelési adatszetten - 14 napos predikció\n",
      "RMSE: 101.0821\n",
      "MSE: 14021.3308\n",
      "MAE: 86.8164\n",
      "MAPE: 5.6156%\n",
      "RMSE: 101.08206742955839, MSE: 14021.330824008357, MAE: 86.81639804882556, MAPE: 0.05615603273753185\n"
     ]
    },
    {
     "name": "stderr",
     "output_type": "stream",
     "text": [
      "C:\\Users\\Dani\\AppData\\Local\\Programs\\Python\\Python310\\lib\\site-packages\\statsmodels\\tsa\\holtwinters\\model.py:83: RuntimeWarning: overflow encountered in matmul\n",
      "  return err.T @ err\n",
      "C:\\Users\\Dani\\AppData\\Local\\Programs\\Python\\Python310\\lib\\site-packages\\statsmodels\\tsa\\holtwinters\\model.py:83: RuntimeWarning: overflow encountered in matmul\n",
      "  return err.T @ err\n"
     ]
    }
   ],
   "source": [
    "best_rmse = float('inf')\n",
    "best_options = None\n",
    "\n",
    "for x in itertools.product(*tuple_of_option_lists):\n",
    "    print(*x)\n",
    "    rmse, mse, mae, mape = gridsearch_timeseriessplit(*x)\n",
    "    print(f\"RMSE: {rmse}, MSE: {mse}, MAE: {mae}, MAPE: {mape}\")\n",
    "    \n",
    "    if rmse < best_rmse: ## ha kisebb, akkor jobb az rmse\n",
    "        print(\"Best RMSE so far:\", rmse)\n",
    "        best_rmse = rmse\n",
    "        best_mse = mse\n",
    "        best_mae = mae\n",
    "        best_mape = mape\n",
    "        best_options = x"
   ]
  },
  {
   "cell_type": "code",
   "execution_count": 43,
   "id": "8ace54b2",
   "metadata": {},
   "outputs": [
    {
     "name": "stdout",
     "output_type": "stream",
     "text": [
      "Legjobb RMSE: 100.6174\n",
      "Legjobb MSE: 100.6174\n",
      "Legjobb MAE: 86.4984\n",
      "Legjobb MAPE: 5.5945\n",
      "Legjobb hiperparaméter-kombináció\n",
      "trend_type: add\n",
      "seasonal_type: None\n",
      "damped_trend: False\n",
      "init_method: legacy-heuristic\n"
     ]
    }
   ],
   "source": [
    "print(\"Legjobb RMSE:\", round(best_rmse, 4))\n",
    "print(\"Legjobb MSE:\", round(best_rmse, 4))\n",
    "print(\"Legjobb MAE:\", round(best_mae, 4))\n",
    "print(\"Legjobb MAPE:\", round(best_mape*100, 4))\n",
    "\n",
    "\n",
    "trend_type, seasonal_type, damped_trend, init_method = best_options\n",
    "print(\"Legjobb hiperparaméter-kombináció\")\n",
    "print(\"trend_type:\", trend_type)\n",
    "print(\"seasonal_type:\", seasonal_type)\n",
    "print(\"damped_trend:\", damped_trend)\n",
    "print(\"init_method:\", init_method)"
   ]
  },
  {
   "cell_type": "code",
   "execution_count": 44,
   "id": "3bbfd71b",
   "metadata": {},
   "outputs": [],
   "source": [
    "for train_idx, val_idx in tss.split(df_close):\n",
    "    train = df_close.iloc[train_idx]\n",
    "    test = df_close.iloc[val_idx]\n",
    "    break\n",
    "## JUST FOR PLOTTING AN EXAMPLE"
   ]
  },
  {
   "cell_type": "code",
   "execution_count": 45,
   "id": "95208040",
   "metadata": {},
   "outputs": [],
   "source": [
    "hw = ExponentialSmoothing(\n",
    "    train['logclose'],\n",
    "    initialization_method=\"legacy-heuristic\",\n",
    "    trend=\"add\",\n",
    "    damped_trend=False,\n",
    "    seasonal=None)\n",
    "\n",
    "res_hw = hw.fit()\n",
    "fcast = res_hw.forecast(len(test))"
   ]
  },
  {
   "cell_type": "code",
   "execution_count": 46,
   "id": "84e47a52",
   "metadata": {},
   "outputs": [
    {
     "data": {
      "image/png": "[encoded data removed]",
      "text/plain": [
       "<Figure size 1000x500 with 1 Axes>"
      ]
     },
     "metadata": {},
     "output_type": "display_data"
    }
   ],
   "source": [
    "fig, ax = plt.subplots(figsize=(10, 5))\n",
    "font = {'fontname':'Times New Roman', 'size': 13, 'weight' : 'bold'}\n",
    "ax.plot(test[\"eth_close\"], label=\"ETH valós értékei\")\n",
    "ax.plot(np.exp(fcast), label=\"ETH prediktált értékei\")\n",
    "ax.legend()\n",
    "ax.yaxis.set_major_formatter(\"${x:,.0f}\")\n",
    "ax.set_ylabel(\"ETH napi árfolyama ($)\", **font)\n",
    "ax.set_xlabel(\"dátum\", **font)\n",
    "plt.tight_layout()\n",
    "plt.setp(ax.get_xticklabels(), rotation=30, horizontalalignment='right')\n",
    "ax.set_title(\"Holt-Winters Model Előrejelzése - ETH árfolyamára - Validation Set\", **font)\n",
    "plt.savefig(\"charts/forecast/holt-winters_forecast_example.png\")\n",
    "plt.show()"
   ]
  },
  {
   "cell_type": "code",
   "execution_count": 47,
   "id": "0fec55b7",
   "metadata": {},
   "outputs": [
    {
     "data": {
      "text/plain": [
       "date\n",
       "2022-12-28    1190.15\n",
       "2022-12-29    1200.49\n",
       "2022-12-30    1199.99\n",
       "2022-12-31    1196.13\n",
       "2023-01-01    1200.34\n",
       "2023-01-02    1214.00\n",
       "2023-01-03    1214.55\n",
       "2023-01-04    1256.90\n",
       "2023-01-05    1251.24\n",
       "2023-01-06    1269.14\n",
       "2023-01-07    1264.07\n",
       "2023-01-08    1290.16\n",
       "2023-01-09    1320.39\n",
       "2023-01-10    1335.62\n",
       "Freq: D, Name: eth_close, dtype: float64"
      ]
     },
     "execution_count": 47,
     "metadata": {},
     "output_type": "execute_result"
    }
   ],
   "source": [
    "test[\"eth_close\"]"
   ]
  },
  {
   "cell_type": "code",
   "execution_count": 49,
   "id": "90df8111",
   "metadata": {},
   "outputs": [
    {
     "data": {
      "text/plain": [
       "2022-12-28    1213.281265\n",
       "2022-12-29    1213.997164\n",
       "2022-12-30    1214.713485\n",
       "2022-12-31    1215.430229\n",
       "2023-01-01    1216.147396\n",
       "2023-01-02    1216.864986\n",
       "2023-01-03    1217.583000\n",
       "2023-01-04    1218.301437\n",
       "2023-01-05    1219.020298\n",
       "2023-01-06    1219.739583\n",
       "2023-01-07    1220.459293\n",
       "2023-01-08    1221.179427\n",
       "2023-01-09    1221.899987\n",
       "2023-01-10    1222.620971\n",
       "Freq: D, dtype: float64"
      ]
     },
     "execution_count": 49,
     "metadata": {},
     "output_type": "execute_result"
    }
   ],
   "source": [
    "np.exp(fcast)"
   ]
  },
  {
   "cell_type": "markdown",
   "id": "8dcbda3f",
   "metadata": {},
   "source": [
    "## Findings\n",
    "\n",
    "- Legjobb RMSE: 100.6174\n",
    "- Legjobb MSE: 100.6174\n",
    "- Legjobb MAE: 86.4984\n",
    "- Legjobb MAPE: 5.5945\n",
    "\n",
    "\n",
    "Legjobb hiperparaméter-kombináció\n",
    "trend_type: add\n",
    "seasonal_type: None\n",
    "damped_trend: False\n",
    "init_method: legacy-heuristic"
   ]
  },
  {
   "cell_type": "code",
   "execution_count": null,
   "id": "8c1c0de8",
   "metadata": {},
   "outputs": [],
   "source": []
  },
  {
   "cell_type": "markdown",
   "id": "d6d852e2",
   "metadata": {},
   "source": [
    "## Test on Real-World dataset"
   ]
  },
  {
   "cell_type": "markdown",
   "id": "cda4fb17",
   "metadata": {},
   "source": [
    "## 1 day real world prediction"
   ]
  },
  {
   "cell_type": "code",
   "execution_count": 65,
   "id": "f6a72f23",
   "metadata": {},
   "outputs": [],
   "source": [
    "import yfinance as yf\n",
    "\n",
    "# Define the ticker symbol\n",
    "tickerSymbol = 'ETH-USD'\n",
    "\n",
    "# Get data for this ticker\n",
    "tickerData = yf.Ticker(tickerSymbol)\n",
    "\n",
    "# Get the historical prices for this ticker\n",
    "tickerDf = tickerData.history(period='1d', start='2023-03-07', end='2023-03-24')\n",
    "\n",
    "eth_current_price = pd.DataFrame(tickerDf)\n"
   ]
  },
  {
   "cell_type": "code",
   "execution_count": 66,
   "id": "40182060",
   "metadata": {},
   "outputs": [],
   "source": [
    "eth_current_price.index = pd.to_datetime(eth_current_price.index)"
   ]
  },
  {
   "cell_type": "code",
   "execution_count": 67,
   "id": "3158bc68",
   "metadata": {},
   "outputs": [],
   "source": [
    "eth_current_price = eth_current_price[pd.to_datetime(\"2023-03-08\"):pd.to_datetime(\"2023-03-08\") + pd.Timedelta(days=0)] ## 1 day"
   ]
  },
  {
   "cell_type": "code",
   "execution_count": 68,
   "id": "5dfb8a02",
   "metadata": {},
   "outputs": [],
   "source": [
    "eth_current_price[\"logclose\"] = np.log(eth_current_price.Close)"
   ]
  },
  {
   "cell_type": "code",
   "execution_count": 69,
   "id": "da18cd0b",
   "metadata": {},
   "outputs": [],
   "source": [
    "eth_current_price = pd.DataFrame(eth_current_price[[\"Close\", \"logclose\"]])"
   ]
  },
  {
   "cell_type": "code",
   "execution_count": 70,
   "id": "758c6aa2",
   "metadata": {},
   "outputs": [],
   "source": [
    "eth_current_price.rename(columns={\"Close\": \"eth_close\"}, inplace=True)"
   ]
  },
  {
   "cell_type": "code",
   "execution_count": 71,
   "id": "05f76ab4",
   "metadata": {
    "scrolled": true
   },
   "outputs": [
    {
     "data": {
      "text/html": [
       "<div>\n",
       "<style scoped>\n",
       "    .dataframe tbody tr th:only-of-type {\n",
       "        vertical-align: middle;\n",
       "    }\n",
       "\n",
       "    .dataframe tbody tr th {\n",
       "        vertical-align: top;\n",
       "    }\n",
       "\n",
       "    .dataframe thead th {\n",
       "        text-align: right;\n",
       "    }\n",
       "</style>\n",
       "<table border=\"1\" class=\"dataframe\">\n",
       "  <thead>\n",
       "    <tr style=\"text-align: right;\">\n",
       "      <th></th>\n",
       "      <th>eth_close</th>\n",
       "      <th>logclose</th>\n",
       "    </tr>\n",
       "    <tr>\n",
       "      <th>Date</th>\n",
       "      <th></th>\n",
       "      <th></th>\n",
       "    </tr>\n",
       "  </thead>\n",
       "  <tbody>\n",
       "    <tr>\n",
       "      <th>2023-03-08</th>\n",
       "      <td>1534.088257</td>\n",
       "      <td>7.335692</td>\n",
       "    </tr>\n",
       "  </tbody>\n",
       "</table>\n",
       "</div>"
      ],
      "text/plain": [
       "              eth_close  logclose\n",
       "Date                             \n",
       "2023-03-08  1534.088257  7.335692"
      ]
     },
     "execution_count": 71,
     "metadata": {},
     "output_type": "execute_result"
    }
   ],
   "source": [
    "eth_current_price.tail()"
   ]
  },
  {
   "cell_type": "code",
   "execution_count": 72,
   "id": "516d97d4",
   "metadata": {},
   "outputs": [],
   "source": [
    "train = df_close.copy()"
   ]
  },
  {
   "cell_type": "code",
   "execution_count": 73,
   "id": "7102b111",
   "metadata": {},
   "outputs": [],
   "source": [
    "# best\n",
    "# trend_type: add\n",
    "# seasonal_type: None\n",
    "# damped_trend: True\n",
    "# init_method: legacy-heuristic"
   ]
  },
  {
   "cell_type": "code",
   "execution_count": 74,
   "id": "f80f2168",
   "metadata": {},
   "outputs": [],
   "source": [
    "m = ExponentialSmoothing(\n",
    "      train['logclose'],\n",
    "      initialization_method=\"legacy-heuristic\",\n",
    "      trend=\"add\",\n",
    "      damped_trend=True,\n",
    "      seasonal=None)"
   ]
  },
  {
   "cell_type": "code",
   "execution_count": 75,
   "id": "290baa11",
   "metadata": {
    "scrolled": true
   },
   "outputs": [],
   "source": [
    "res = m.fit()"
   ]
  },
  {
   "cell_type": "code",
   "execution_count": 78,
   "id": "15ed8e83",
   "metadata": {},
   "outputs": [],
   "source": [
    "eth_current_price[\"logprediction\"] = res.forecast(len(eth_current_price))"
   ]
  },
  {
   "cell_type": "code",
   "execution_count": 79,
   "id": "103c4960",
   "metadata": {},
   "outputs": [],
   "source": [
    "eth_current_price[\"prediction\"] = np.exp(eth_current_price[\"logprediction\"])"
   ]
  },
  {
   "cell_type": "code",
   "execution_count": 81,
   "id": "8968235a",
   "metadata": {},
   "outputs": [
    {
     "data": {
      "text/html": [
       "<div>\n",
       "<style scoped>\n",
       "    .dataframe tbody tr th:only-of-type {\n",
       "        vertical-align: middle;\n",
       "    }\n",
       "\n",
       "    .dataframe tbody tr th {\n",
       "        vertical-align: top;\n",
       "    }\n",
       "\n",
       "    .dataframe thead th {\n",
       "        text-align: right;\n",
       "    }\n",
       "</style>\n",
       "<table border=\"1\" class=\"dataframe\">\n",
       "  <thead>\n",
       "    <tr style=\"text-align: right;\">\n",
       "      <th></th>\n",
       "      <th>eth_close</th>\n",
       "      <th>logclose</th>\n",
       "      <th>logprediction</th>\n",
       "      <th>prediction</th>\n",
       "    </tr>\n",
       "    <tr>\n",
       "      <th>Date</th>\n",
       "      <th></th>\n",
       "      <th></th>\n",
       "      <th></th>\n",
       "      <th></th>\n",
       "    </tr>\n",
       "  </thead>\n",
       "  <tbody>\n",
       "    <tr>\n",
       "      <th>2023-03-08</th>\n",
       "      <td>1534.088257</td>\n",
       "      <td>7.335692</td>\n",
       "      <td>7.35299</td>\n",
       "      <td>1560.857227</td>\n",
       "    </tr>\n",
       "  </tbody>\n",
       "</table>\n",
       "</div>"
      ],
      "text/plain": [
       "              eth_close  logclose  logprediction   prediction\n",
       "Date                                                         \n",
       "2023-03-08  1534.088257  7.335692        7.35299  1560.857227"
      ]
     },
     "execution_count": 81,
     "metadata": {},
     "output_type": "execute_result"
    }
   ],
   "source": [
    "eth_current_price"
   ]
  },
  {
   "cell_type": "code",
   "execution_count": 82,
   "id": "063ed349",
   "metadata": {
    "scrolled": false
   },
   "outputs": [
    {
     "data": {
      "text/plain": [
       "26.768969782220665"
      ]
     },
     "execution_count": 82,
     "metadata": {},
     "output_type": "execute_result"
    }
   ],
   "source": [
    "## Validation Root Mean Squared Error\n",
    "mean_squared_error(eth_current_price['eth_close'], eth_current_price[\"prediction\"], squared=False)"
   ]
  },
  {
   "cell_type": "code",
   "execution_count": 83,
   "id": "7be60acc",
   "metadata": {},
   "outputs": [
    {
     "data": {
      "text/plain": [
       "716.5777432014431"
      ]
     },
     "execution_count": 83,
     "metadata": {},
     "output_type": "execute_result"
    }
   ],
   "source": [
    "## Validation Mean Squared Error\n",
    "mean_squared_error(eth_current_price['eth_close'], eth_current_price[\"prediction\"], squared=True)"
   ]
  },
  {
   "cell_type": "code",
   "execution_count": 84,
   "id": "99ff6659",
   "metadata": {},
   "outputs": [
    {
     "data": {
      "text/plain": [
       "26.768969782220665"
      ]
     },
     "execution_count": 84,
     "metadata": {},
     "output_type": "execute_result"
    }
   ],
   "source": [
    "## Validation Mean Absolute Error\n",
    "mean_absolute_error(eth_current_price['eth_close'], eth_current_price[\"prediction\"])"
   ]
  },
  {
   "cell_type": "code",
   "execution_count": 85,
   "id": "8fe0467c",
   "metadata": {},
   "outputs": [
    {
     "data": {
      "text/plain": [
       "0.01744943269263514"
      ]
     },
     "execution_count": 85,
     "metadata": {},
     "output_type": "execute_result"
    }
   ],
   "source": [
    "## Validation Mean Absolute Percentage Error\n",
    "mean_absolute_percentage_error(eth_current_price['eth_close'], eth_current_price[\"prediction\"])"
   ]
  },
  {
   "cell_type": "markdown",
   "id": "39d87a08",
   "metadata": {},
   "source": [
    "## Findings\n",
    "\n",
    "1 day forecast\n",
    "- RMSE: 26.76\n",
    "- MSE: 716.57\n",
    "- MAE: 26.76\n",
    "- MAPE: 1.74"
   ]
  },
  {
   "cell_type": "markdown",
   "id": "623a0c25",
   "metadata": {},
   "source": [
    "## 3 day real world prediction"
   ]
  },
  {
   "cell_type": "code",
   "execution_count": 86,
   "id": "e4d84e20",
   "metadata": {},
   "outputs": [],
   "source": [
    "import yfinance as yf\n",
    "\n",
    "# Define the ticker symbol\n",
    "tickerSymbol = 'ETH-USD'\n",
    "\n",
    "# Get data for this ticker\n",
    "tickerData = yf.Ticker(tickerSymbol)\n",
    "\n",
    "# Get the historical prices for this ticker\n",
    "tickerDf = tickerData.history(period='1d', start='2023-03-07', end='2023-03-24')\n",
    "\n",
    "eth_current_price = pd.DataFrame(tickerDf)\n"
   ]
  },
  {
   "cell_type": "code",
   "execution_count": 87,
   "id": "4da96a5d",
   "metadata": {},
   "outputs": [],
   "source": [
    "eth_current_price.index = pd.to_datetime(eth_current_price.index)"
   ]
  },
  {
   "cell_type": "code",
   "execution_count": 88,
   "id": "fc59eec1",
   "metadata": {},
   "outputs": [],
   "source": [
    "eth_current_price = eth_current_price[pd.to_datetime(\"2023-03-08\"):pd.to_datetime(\"2023-03-08\") + pd.Timedelta(days=2)] ## 1 day"
   ]
  },
  {
   "cell_type": "code",
   "execution_count": 89,
   "id": "d07294e2",
   "metadata": {},
   "outputs": [],
   "source": [
    "eth_current_price[\"logclose\"] = np.log(eth_current_price.Close)"
   ]
  },
  {
   "cell_type": "code",
   "execution_count": 90,
   "id": "127a0d63",
   "metadata": {},
   "outputs": [],
   "source": [
    "eth_current_price = pd.DataFrame(eth_current_price[[\"Close\", \"logclose\"]])"
   ]
  },
  {
   "cell_type": "code",
   "execution_count": 91,
   "id": "ca69e627",
   "metadata": {},
   "outputs": [],
   "source": [
    "eth_current_price.rename(columns={\"Close\": \"eth_close\"}, inplace=True)"
   ]
  },
  {
   "cell_type": "code",
   "execution_count": 92,
   "id": "b15ed10d",
   "metadata": {
    "scrolled": true
   },
   "outputs": [
    {
     "data": {
      "text/html": [
       "<div>\n",
       "<style scoped>\n",
       "    .dataframe tbody tr th:only-of-type {\n",
       "        vertical-align: middle;\n",
       "    }\n",
       "\n",
       "    .dataframe tbody tr th {\n",
       "        vertical-align: top;\n",
       "    }\n",
       "\n",
       "    .dataframe thead th {\n",
       "        text-align: right;\n",
       "    }\n",
       "</style>\n",
       "<table border=\"1\" class=\"dataframe\">\n",
       "  <thead>\n",
       "    <tr style=\"text-align: right;\">\n",
       "      <th></th>\n",
       "      <th>eth_close</th>\n",
       "      <th>logclose</th>\n",
       "    </tr>\n",
       "    <tr>\n",
       "      <th>Date</th>\n",
       "      <th></th>\n",
       "      <th></th>\n",
       "    </tr>\n",
       "  </thead>\n",
       "  <tbody>\n",
       "    <tr>\n",
       "      <th>2023-03-08</th>\n",
       "      <td>1534.088257</td>\n",
       "      <td>7.335692</td>\n",
       "    </tr>\n",
       "    <tr>\n",
       "      <th>2023-03-09</th>\n",
       "      <td>1438.660767</td>\n",
       "      <td>7.271468</td>\n",
       "    </tr>\n",
       "    <tr>\n",
       "      <th>2023-03-10</th>\n",
       "      <td>1429.158081</td>\n",
       "      <td>7.264841</td>\n",
       "    </tr>\n",
       "  </tbody>\n",
       "</table>\n",
       "</div>"
      ],
      "text/plain": [
       "              eth_close  logclose\n",
       "Date                             \n",
       "2023-03-08  1534.088257  7.335692\n",
       "2023-03-09  1438.660767  7.271468\n",
       "2023-03-10  1429.158081  7.264841"
      ]
     },
     "execution_count": 92,
     "metadata": {},
     "output_type": "execute_result"
    }
   ],
   "source": [
    "eth_current_price.tail()"
   ]
  },
  {
   "cell_type": "code",
   "execution_count": 93,
   "id": "4e291a4e",
   "metadata": {},
   "outputs": [],
   "source": [
    "train = df_close.copy()"
   ]
  },
  {
   "cell_type": "code",
   "execution_count": 94,
   "id": "7d534607",
   "metadata": {},
   "outputs": [],
   "source": [
    "# best\n",
    "# trend_type: add\n",
    "# seasonal_type: mul\n",
    "# damped_trend: True\n",
    "# init_method: legacy-heuristic"
   ]
  },
  {
   "cell_type": "code",
   "execution_count": 95,
   "id": "c9239daa",
   "metadata": {},
   "outputs": [],
   "source": [
    "m = ExponentialSmoothing(\n",
    "      train['logclose'],\n",
    "      initialization_method=\"legacy-heuristic\",\n",
    "      trend=\"add\",\n",
    "      damped_trend=True,\n",
    "      seasonal=\"mul\",\n",
    "      seasonal_periods=365)"
   ]
  },
  {
   "cell_type": "code",
   "execution_count": 96,
   "id": "3f8d55da",
   "metadata": {
    "scrolled": true
   },
   "outputs": [
    {
     "name": "stderr",
     "output_type": "stream",
     "text": [
      "C:\\Users\\Dani\\AppData\\Local\\Programs\\Python\\Python310\\lib\\site-packages\\statsmodels\\tsa\\holtwinters\\model.py:915: ConvergenceWarning: Optimization failed to converge. Check mle_retvals.\n",
      "  warnings.warn(\n"
     ]
    }
   ],
   "source": [
    "res = m.fit()"
   ]
  },
  {
   "cell_type": "code",
   "execution_count": 97,
   "id": "2cd8a81d",
   "metadata": {},
   "outputs": [],
   "source": [
    "eth_current_price[\"logprediction\"] = res.forecast(len(eth_current_price))"
   ]
  },
  {
   "cell_type": "code",
   "execution_count": 98,
   "id": "460f0b9a",
   "metadata": {},
   "outputs": [],
   "source": [
    "eth_current_price[\"prediction\"] = np.exp(eth_current_price[\"logprediction\"])"
   ]
  },
  {
   "cell_type": "code",
   "execution_count": 99,
   "id": "f01266f0",
   "metadata": {},
   "outputs": [
    {
     "data": {
      "text/html": [
       "<div>\n",
       "<style scoped>\n",
       "    .dataframe tbody tr th:only-of-type {\n",
       "        vertical-align: middle;\n",
       "    }\n",
       "\n",
       "    .dataframe tbody tr th {\n",
       "        vertical-align: top;\n",
       "    }\n",
       "\n",
       "    .dataframe thead th {\n",
       "        text-align: right;\n",
       "    }\n",
       "</style>\n",
       "<table border=\"1\" class=\"dataframe\">\n",
       "  <thead>\n",
       "    <tr style=\"text-align: right;\">\n",
       "      <th></th>\n",
       "      <th>eth_close</th>\n",
       "      <th>logclose</th>\n",
       "      <th>logprediction</th>\n",
       "      <th>prediction</th>\n",
       "    </tr>\n",
       "    <tr>\n",
       "      <th>Date</th>\n",
       "      <th></th>\n",
       "      <th></th>\n",
       "      <th></th>\n",
       "      <th></th>\n",
       "    </tr>\n",
       "  </thead>\n",
       "  <tbody>\n",
       "    <tr>\n",
       "      <th>2023-03-08</th>\n",
       "      <td>1534.088257</td>\n",
       "      <td>7.335692</td>\n",
       "      <td>7.357476</td>\n",
       "      <td>1567.874278</td>\n",
       "    </tr>\n",
       "    <tr>\n",
       "      <th>2023-03-09</th>\n",
       "      <td>1438.660767</td>\n",
       "      <td>7.271468</td>\n",
       "      <td>7.362879</td>\n",
       "      <td>1576.368798</td>\n",
       "    </tr>\n",
       "    <tr>\n",
       "      <th>2023-03-10</th>\n",
       "      <td>1429.158081</td>\n",
       "      <td>7.264841</td>\n",
       "      <td>7.348467</td>\n",
       "      <td>1553.812078</td>\n",
       "    </tr>\n",
       "  </tbody>\n",
       "</table>\n",
       "</div>"
      ],
      "text/plain": [
       "              eth_close  logclose  logprediction   prediction\n",
       "Date                                                         \n",
       "2023-03-08  1534.088257  7.335692       7.357476  1567.874278\n",
       "2023-03-09  1438.660767  7.271468       7.362879  1576.368798\n",
       "2023-03-10  1429.158081  7.264841       7.348467  1553.812078"
      ]
     },
     "execution_count": 99,
     "metadata": {},
     "output_type": "execute_result"
    }
   ],
   "source": [
    "eth_current_price"
   ]
  },
  {
   "cell_type": "code",
   "execution_count": 100,
   "id": "178dfe5e",
   "metadata": {
    "scrolled": false
   },
   "outputs": [
    {
     "data": {
      "text/plain": [
       "109.00094217798366"
      ]
     },
     "execution_count": 100,
     "metadata": {},
     "output_type": "execute_result"
    }
   ],
   "source": [
    "## Validation Root Mean Squared Error\n",
    "mean_squared_error(eth_current_price['eth_close'], eth_current_price[\"prediction\"], squared=False)"
   ]
  },
  {
   "cell_type": "code",
   "execution_count": 101,
   "id": "eb4e7c48",
   "metadata": {},
   "outputs": [
    {
     "data": {
      "text/plain": [
       "11881.205395688137"
      ]
     },
     "execution_count": 101,
     "metadata": {},
     "output_type": "execute_result"
    }
   ],
   "source": [
    "## Validation Mean Squared Error\n",
    "mean_squared_error(eth_current_price['eth_close'], eth_current_price[\"prediction\"], squared=True)"
   ]
  },
  {
   "cell_type": "code",
   "execution_count": 102,
   "id": "e34b3e61",
   "metadata": {},
   "outputs": [
    {
     "data": {
      "text/plain": [
       "98.71601664427226"
      ]
     },
     "execution_count": 102,
     "metadata": {},
     "output_type": "execute_result"
    }
   ],
   "source": [
    "## Validation Mean Absolute Error\n",
    "mean_absolute_error(eth_current_price['eth_close'], eth_current_price[\"prediction\"])"
   ]
  },
  {
   "cell_type": "code",
   "execution_count": 103,
   "id": "0af5d27c",
   "metadata": {},
   "outputs": [
    {
     "data": {
      "text/plain": [
       "0.06832169906838244"
      ]
     },
     "execution_count": 103,
     "metadata": {},
     "output_type": "execute_result"
    }
   ],
   "source": [
    "## Validation Mean Absolute Percentage Error\n",
    "mean_absolute_percentage_error(eth_current_price['eth_close'], eth_current_price[\"prediction\"])"
   ]
  },
  {
   "cell_type": "markdown",
   "id": "a436a0fe",
   "metadata": {},
   "source": [
    "## Findings\n",
    "\n",
    "3 day forecast\n",
    "- RMSE: 109.00\n",
    "- MSE: 11881.20\n",
    "- MAE: 98.71\n",
    "- MAPE: 6.83"
   ]
  },
  {
   "cell_type": "markdown",
   "id": "ab92dcf7",
   "metadata": {},
   "source": [
    "## 7 day real world prediction"
   ]
  },
  {
   "cell_type": "code",
   "execution_count": 104,
   "id": "1507be90",
   "metadata": {},
   "outputs": [],
   "source": [
    "import yfinance as yf\n",
    "\n",
    "# Define the ticker symbol\n",
    "tickerSymbol = 'ETH-USD'\n",
    "\n",
    "# Get data for this ticker\n",
    "tickerData = yf.Ticker(tickerSymbol)\n",
    "\n",
    "# Get the historical prices for this ticker\n",
    "tickerDf = tickerData.history(period='1d', start='2023-03-07', end='2023-03-24')\n",
    "\n",
    "eth_current_price = pd.DataFrame(tickerDf)\n"
   ]
  },
  {
   "cell_type": "code",
   "execution_count": 105,
   "id": "400d7e50",
   "metadata": {},
   "outputs": [],
   "source": [
    "eth_current_price.index = pd.to_datetime(eth_current_price.index)"
   ]
  },
  {
   "cell_type": "code",
   "execution_count": 106,
   "id": "461badd4",
   "metadata": {},
   "outputs": [],
   "source": [
    "eth_current_price = eth_current_price[pd.to_datetime(\"2023-03-08\"):pd.to_datetime(\"2023-03-08\") + pd.Timedelta(days=6)] ## 1 day"
   ]
  },
  {
   "cell_type": "code",
   "execution_count": 107,
   "id": "53a09994",
   "metadata": {},
   "outputs": [],
   "source": [
    "eth_current_price[\"logclose\"] = np.log(eth_current_price.Close)"
   ]
  },
  {
   "cell_type": "code",
   "execution_count": 108,
   "id": "52ddf0ab",
   "metadata": {},
   "outputs": [],
   "source": [
    "eth_current_price = pd.DataFrame(eth_current_price[[\"Close\", \"logclose\"]])"
   ]
  },
  {
   "cell_type": "code",
   "execution_count": 109,
   "id": "5618715a",
   "metadata": {},
   "outputs": [],
   "source": [
    "eth_current_price.rename(columns={\"Close\": \"eth_close\"}, inplace=True)"
   ]
  },
  {
   "cell_type": "code",
   "execution_count": 111,
   "id": "c7615b39",
   "metadata": {
    "scrolled": true
   },
   "outputs": [
    {
     "data": {
      "text/html": [
       "<div>\n",
       "<style scoped>\n",
       "    .dataframe tbody tr th:only-of-type {\n",
       "        vertical-align: middle;\n",
       "    }\n",
       "\n",
       "    .dataframe tbody tr th {\n",
       "        vertical-align: top;\n",
       "    }\n",
       "\n",
       "    .dataframe thead th {\n",
       "        text-align: right;\n",
       "    }\n",
       "</style>\n",
       "<table border=\"1\" class=\"dataframe\">\n",
       "  <thead>\n",
       "    <tr style=\"text-align: right;\">\n",
       "      <th></th>\n",
       "      <th>eth_close</th>\n",
       "      <th>logclose</th>\n",
       "    </tr>\n",
       "    <tr>\n",
       "      <th>Date</th>\n",
       "      <th></th>\n",
       "      <th></th>\n",
       "    </tr>\n",
       "  </thead>\n",
       "  <tbody>\n",
       "    <tr>\n",
       "      <th>2023-03-08</th>\n",
       "      <td>1534.088257</td>\n",
       "      <td>7.335692</td>\n",
       "    </tr>\n",
       "    <tr>\n",
       "      <th>2023-03-09</th>\n",
       "      <td>1438.660767</td>\n",
       "      <td>7.271468</td>\n",
       "    </tr>\n",
       "    <tr>\n",
       "      <th>2023-03-10</th>\n",
       "      <td>1429.158081</td>\n",
       "      <td>7.264841</td>\n",
       "    </tr>\n",
       "    <tr>\n",
       "      <th>2023-03-11</th>\n",
       "      <td>1482.616699</td>\n",
       "      <td>7.301564</td>\n",
       "    </tr>\n",
       "    <tr>\n",
       "      <th>2023-03-12</th>\n",
       "      <td>1590.292969</td>\n",
       "      <td>7.371674</td>\n",
       "    </tr>\n",
       "    <tr>\n",
       "      <th>2023-03-13</th>\n",
       "      <td>1680.308960</td>\n",
       "      <td>7.426733</td>\n",
       "    </tr>\n",
       "    <tr>\n",
       "      <th>2023-03-14</th>\n",
       "      <td>1703.507080</td>\n",
       "      <td>7.440444</td>\n",
       "    </tr>\n",
       "  </tbody>\n",
       "</table>\n",
       "</div>"
      ],
      "text/plain": [
       "              eth_close  logclose\n",
       "Date                             \n",
       "2023-03-08  1534.088257  7.335692\n",
       "2023-03-09  1438.660767  7.271468\n",
       "2023-03-10  1429.158081  7.264841\n",
       "2023-03-11  1482.616699  7.301564\n",
       "2023-03-12  1590.292969  7.371674\n",
       "2023-03-13  1680.308960  7.426733\n",
       "2023-03-14  1703.507080  7.440444"
      ]
     },
     "execution_count": 111,
     "metadata": {},
     "output_type": "execute_result"
    }
   ],
   "source": [
    "eth_current_price"
   ]
  },
  {
   "cell_type": "code",
   "execution_count": 112,
   "id": "bce54f27",
   "metadata": {},
   "outputs": [],
   "source": [
    "train = df_close.copy()"
   ]
  },
  {
   "cell_type": "code",
   "execution_count": 94,
   "id": "2fdf9908",
   "metadata": {},
   "outputs": [],
   "source": [
    "# best\n",
    "# trend_type: mul\n",
    "# seasonal_type: None\n",
    "# damped_trend: False\n",
    "# init_method: estimated"
   ]
  },
  {
   "cell_type": "code",
   "execution_count": 114,
   "id": "91fc5c7a",
   "metadata": {},
   "outputs": [],
   "source": [
    "m = ExponentialSmoothing(\n",
    "      train['logclose'],\n",
    "      initialization_method=\"estimated\",\n",
    "      trend=\"mul\",\n",
    "      damped_trend=False,\n",
    "      seasonal=None)"
   ]
  },
  {
   "cell_type": "code",
   "execution_count": 115,
   "id": "54f8a0dc",
   "metadata": {
    "scrolled": true
   },
   "outputs": [],
   "source": [
    "res = m.fit()"
   ]
  },
  {
   "cell_type": "code",
   "execution_count": 116,
   "id": "3aaa948b",
   "metadata": {},
   "outputs": [],
   "source": [
    "eth_current_price[\"logprediction\"] = res.forecast(len(eth_current_price))"
   ]
  },
  {
   "cell_type": "code",
   "execution_count": 117,
   "id": "e450cfc2",
   "metadata": {},
   "outputs": [],
   "source": [
    "eth_current_price[\"prediction\"] = np.exp(eth_current_price[\"logprediction\"])"
   ]
  },
  {
   "cell_type": "code",
   "execution_count": 118,
   "id": "f1ba10bd",
   "metadata": {},
   "outputs": [
    {
     "data": {
      "text/html": [
       "<div>\n",
       "<style scoped>\n",
       "    .dataframe tbody tr th:only-of-type {\n",
       "        vertical-align: middle;\n",
       "    }\n",
       "\n",
       "    .dataframe tbody tr th {\n",
       "        vertical-align: top;\n",
       "    }\n",
       "\n",
       "    .dataframe thead th {\n",
       "        text-align: right;\n",
       "    }\n",
       "</style>\n",
       "<table border=\"1\" class=\"dataframe\">\n",
       "  <thead>\n",
       "    <tr style=\"text-align: right;\">\n",
       "      <th></th>\n",
       "      <th>eth_close</th>\n",
       "      <th>logclose</th>\n",
       "      <th>logprediction</th>\n",
       "      <th>prediction</th>\n",
       "    </tr>\n",
       "    <tr>\n",
       "      <th>Date</th>\n",
       "      <th></th>\n",
       "      <th></th>\n",
       "      <th></th>\n",
       "      <th></th>\n",
       "    </tr>\n",
       "  </thead>\n",
       "  <tbody>\n",
       "    <tr>\n",
       "      <th>2023-03-08</th>\n",
       "      <td>1534.088257</td>\n",
       "      <td>7.335692</td>\n",
       "      <td>7.354475</td>\n",
       "      <td>1563.176519</td>\n",
       "    </tr>\n",
       "    <tr>\n",
       "      <th>2023-03-09</th>\n",
       "      <td>1438.660767</td>\n",
       "      <td>7.271468</td>\n",
       "      <td>7.355067</td>\n",
       "      <td>1564.102051</td>\n",
       "    </tr>\n",
       "    <tr>\n",
       "      <th>2023-03-10</th>\n",
       "      <td>1429.158081</td>\n",
       "      <td>7.264841</td>\n",
       "      <td>7.355659</td>\n",
       "      <td>1565.028205</td>\n",
       "    </tr>\n",
       "    <tr>\n",
       "      <th>2023-03-11</th>\n",
       "      <td>1482.616699</td>\n",
       "      <td>7.301564</td>\n",
       "      <td>7.356251</td>\n",
       "      <td>1565.954983</td>\n",
       "    </tr>\n",
       "    <tr>\n",
       "      <th>2023-03-12</th>\n",
       "      <td>1590.292969</td>\n",
       "      <td>7.371674</td>\n",
       "      <td>7.356843</td>\n",
       "      <td>1566.882384</td>\n",
       "    </tr>\n",
       "    <tr>\n",
       "      <th>2023-03-13</th>\n",
       "      <td>1680.308960</td>\n",
       "      <td>7.426733</td>\n",
       "      <td>7.357435</td>\n",
       "      <td>1567.810409</td>\n",
       "    </tr>\n",
       "    <tr>\n",
       "      <th>2023-03-14</th>\n",
       "      <td>1703.507080</td>\n",
       "      <td>7.440444</td>\n",
       "      <td>7.358027</td>\n",
       "      <td>1568.739058</td>\n",
       "    </tr>\n",
       "  </tbody>\n",
       "</table>\n",
       "</div>"
      ],
      "text/plain": [
       "              eth_close  logclose  logprediction   prediction\n",
       "Date                                                         \n",
       "2023-03-08  1534.088257  7.335692       7.354475  1563.176519\n",
       "2023-03-09  1438.660767  7.271468       7.355067  1564.102051\n",
       "2023-03-10  1429.158081  7.264841       7.355659  1565.028205\n",
       "2023-03-11  1482.616699  7.301564       7.356251  1565.954983\n",
       "2023-03-12  1590.292969  7.371674       7.356843  1566.882384\n",
       "2023-03-13  1680.308960  7.426733       7.357435  1567.810409\n",
       "2023-03-14  1703.507080  7.440444       7.358027  1568.739058"
      ]
     },
     "execution_count": 118,
     "metadata": {},
     "output_type": "execute_result"
    }
   ],
   "source": [
    "eth_current_price"
   ]
  },
  {
   "cell_type": "code",
   "execution_count": 119,
   "id": "36f79c94",
   "metadata": {
    "scrolled": false
   },
   "outputs": [
    {
     "data": {
      "text/plain": [
       "102.36768614095867"
      ]
     },
     "execution_count": 119,
     "metadata": {},
     "output_type": "execute_result"
    }
   ],
   "source": [
    "## Validation Root Mean Squared Error\n",
    "mean_squared_error(eth_current_price['eth_close'], eth_current_price[\"prediction\"], squared=False)"
   ]
  },
  {
   "cell_type": "code",
   "execution_count": 120,
   "id": "5a4b21d0",
   "metadata": {},
   "outputs": [
    {
     "data": {
      "text/plain": [
       "10479.14316585382"
      ]
     },
     "execution_count": 120,
     "metadata": {},
     "output_type": "execute_result"
    }
   ],
   "source": [
    "## Validation Mean Squared Error\n",
    "mean_squared_error(eth_current_price['eth_close'], eth_current_price[\"prediction\"], squared=True)"
   ]
  },
  {
   "cell_type": "code",
   "execution_count": 121,
   "id": "8c564f11",
   "metadata": {},
   "outputs": [
    {
     "data": {
      "text/plain": [
       "92.059301707931"
      ]
     },
     "execution_count": 121,
     "metadata": {},
     "output_type": "execute_result"
    }
   ],
   "source": [
    "## Validation Mean Absolute Error\n",
    "mean_absolute_error(eth_current_price['eth_close'], eth_current_price[\"prediction\"])"
   ]
  },
  {
   "cell_type": "code",
   "execution_count": 122,
   "id": "f527aa19",
   "metadata": {},
   "outputs": [
    {
     "data": {
      "text/plain": [
       "0.05974554510949492"
      ]
     },
     "execution_count": 122,
     "metadata": {},
     "output_type": "execute_result"
    }
   ],
   "source": [
    "## Validation Mean Absolute Percentage Error\n",
    "mean_absolute_percentage_error(eth_current_price['eth_close'], eth_current_price[\"prediction\"])"
   ]
  },
  {
   "cell_type": "markdown",
   "id": "cbc3124d",
   "metadata": {},
   "source": [
    "## Findings\n",
    "\n",
    "7 day forecast\n",
    "- RMSE: 102.36\n",
    "- MSE: 10479.14\n",
    "- MAE: 92.059\n",
    "- MAPE: 5.97"
   ]
  },
  {
   "cell_type": "code",
   "execution_count": null,
   "id": "9255131a",
   "metadata": {},
   "outputs": [],
   "source": []
  },
  {
   "cell_type": "markdown",
   "id": "d9bdc2ae",
   "metadata": {},
   "source": [
    "## 14 day real world prediction"
   ]
  },
  {
   "cell_type": "code",
   "execution_count": 123,
   "id": "ac500a8f",
   "metadata": {},
   "outputs": [],
   "source": [
    "import yfinance as yf\n",
    "\n",
    "# Define the ticker symbol\n",
    "tickerSymbol = 'ETH-USD'\n",
    "\n",
    "# Get data for this ticker\n",
    "tickerData = yf.Ticker(tickerSymbol)\n",
    "\n",
    "# Get the historical prices for this ticker\n",
    "tickerDf = tickerData.history(period='1d', start='2023-03-07', end='2023-03-24')\n",
    "\n",
    "eth_current_price = pd.DataFrame(tickerDf)\n"
   ]
  },
  {
   "cell_type": "code",
   "execution_count": 124,
   "id": "8c29b01d",
   "metadata": {},
   "outputs": [],
   "source": [
    "eth_current_price.index = pd.to_datetime(eth_current_price.index)"
   ]
  },
  {
   "cell_type": "code",
   "execution_count": 125,
   "id": "4d39daab",
   "metadata": {},
   "outputs": [],
   "source": [
    "eth_current_price = eth_current_price[pd.to_datetime(\"2023-03-08\"):pd.to_datetime(\"2023-03-08\") + pd.Timedelta(days=13)] ## 1 day"
   ]
  },
  {
   "cell_type": "code",
   "execution_count": 126,
   "id": "c59b3925",
   "metadata": {},
   "outputs": [],
   "source": [
    "eth_current_price[\"logclose\"] = np.log(eth_current_price.Close)"
   ]
  },
  {
   "cell_type": "code",
   "execution_count": 127,
   "id": "2f5df6b2",
   "metadata": {},
   "outputs": [],
   "source": [
    "eth_current_price = pd.DataFrame(eth_current_price[[\"Close\", \"logclose\"]])"
   ]
  },
  {
   "cell_type": "code",
   "execution_count": 128,
   "id": "f0efa0e7",
   "metadata": {},
   "outputs": [],
   "source": [
    "eth_current_price.rename(columns={\"Close\": \"eth_close\"}, inplace=True)"
   ]
  },
  {
   "cell_type": "code",
   "execution_count": 129,
   "id": "8630d10f",
   "metadata": {
    "scrolled": true
   },
   "outputs": [
    {
     "data": {
      "text/html": [
       "<div>\n",
       "<style scoped>\n",
       "    .dataframe tbody tr th:only-of-type {\n",
       "        vertical-align: middle;\n",
       "    }\n",
       "\n",
       "    .dataframe tbody tr th {\n",
       "        vertical-align: top;\n",
       "    }\n",
       "\n",
       "    .dataframe thead th {\n",
       "        text-align: right;\n",
       "    }\n",
       "</style>\n",
       "<table border=\"1\" class=\"dataframe\">\n",
       "  <thead>\n",
       "    <tr style=\"text-align: right;\">\n",
       "      <th></th>\n",
       "      <th>eth_close</th>\n",
       "      <th>logclose</th>\n",
       "    </tr>\n",
       "    <tr>\n",
       "      <th>Date</th>\n",
       "      <th></th>\n",
       "      <th></th>\n",
       "    </tr>\n",
       "  </thead>\n",
       "  <tbody>\n",
       "    <tr>\n",
       "      <th>2023-03-08</th>\n",
       "      <td>1534.088257</td>\n",
       "      <td>7.335692</td>\n",
       "    </tr>\n",
       "    <tr>\n",
       "      <th>2023-03-09</th>\n",
       "      <td>1438.660767</td>\n",
       "      <td>7.271468</td>\n",
       "    </tr>\n",
       "    <tr>\n",
       "      <th>2023-03-10</th>\n",
       "      <td>1429.158081</td>\n",
       "      <td>7.264841</td>\n",
       "    </tr>\n",
       "    <tr>\n",
       "      <th>2023-03-11</th>\n",
       "      <td>1482.616699</td>\n",
       "      <td>7.301564</td>\n",
       "    </tr>\n",
       "    <tr>\n",
       "      <th>2023-03-12</th>\n",
       "      <td>1590.292969</td>\n",
       "      <td>7.371674</td>\n",
       "    </tr>\n",
       "    <tr>\n",
       "      <th>2023-03-13</th>\n",
       "      <td>1680.308960</td>\n",
       "      <td>7.426733</td>\n",
       "    </tr>\n",
       "    <tr>\n",
       "      <th>2023-03-14</th>\n",
       "      <td>1703.507080</td>\n",
       "      <td>7.440444</td>\n",
       "    </tr>\n",
       "    <tr>\n",
       "      <th>2023-03-15</th>\n",
       "      <td>1656.180542</td>\n",
       "      <td>7.412269</td>\n",
       "    </tr>\n",
       "    <tr>\n",
       "      <th>2023-03-16</th>\n",
       "      <td>1677.215454</td>\n",
       "      <td>7.424890</td>\n",
       "    </tr>\n",
       "    <tr>\n",
       "      <th>2023-03-17</th>\n",
       "      <td>1792.485107</td>\n",
       "      <td>7.491358</td>\n",
       "    </tr>\n",
       "    <tr>\n",
       "      <th>2023-03-18</th>\n",
       "      <td>1761.659668</td>\n",
       "      <td>7.474012</td>\n",
       "    </tr>\n",
       "    <tr>\n",
       "      <th>2023-03-19</th>\n",
       "      <td>1785.576538</td>\n",
       "      <td>7.487497</td>\n",
       "    </tr>\n",
       "    <tr>\n",
       "      <th>2023-03-20</th>\n",
       "      <td>1735.321289</td>\n",
       "      <td>7.458948</td>\n",
       "    </tr>\n",
       "    <tr>\n",
       "      <th>2023-03-21</th>\n",
       "      <td>1806.760742</td>\n",
       "      <td>7.499291</td>\n",
       "    </tr>\n",
       "  </tbody>\n",
       "</table>\n",
       "</div>"
      ],
      "text/plain": [
       "              eth_close  logclose\n",
       "Date                             \n",
       "2023-03-08  1534.088257  7.335692\n",
       "2023-03-09  1438.660767  7.271468\n",
       "2023-03-10  1429.158081  7.264841\n",
       "2023-03-11  1482.616699  7.301564\n",
       "2023-03-12  1590.292969  7.371674\n",
       "2023-03-13  1680.308960  7.426733\n",
       "2023-03-14  1703.507080  7.440444\n",
       "2023-03-15  1656.180542  7.412269\n",
       "2023-03-16  1677.215454  7.424890\n",
       "2023-03-17  1792.485107  7.491358\n",
       "2023-03-18  1761.659668  7.474012\n",
       "2023-03-19  1785.576538  7.487497\n",
       "2023-03-20  1735.321289  7.458948\n",
       "2023-03-21  1806.760742  7.499291"
      ]
     },
     "execution_count": 129,
     "metadata": {},
     "output_type": "execute_result"
    }
   ],
   "source": [
    "eth_current_price"
   ]
  },
  {
   "cell_type": "code",
   "execution_count": 130,
   "id": "94f199b2",
   "metadata": {},
   "outputs": [],
   "source": [
    "train = df_close.copy()"
   ]
  },
  {
   "cell_type": "code",
   "execution_count": 131,
   "id": "359d72fe",
   "metadata": {},
   "outputs": [],
   "source": [
    "# best\n",
    "# trend_type: add\n",
    "# seasonal_type: None\n",
    "# damped_trend: False\n",
    "# init_method: legacy-heuristic"
   ]
  },
  {
   "cell_type": "code",
   "execution_count": 132,
   "id": "dcbd37f6",
   "metadata": {},
   "outputs": [],
   "source": [
    "m = ExponentialSmoothing(\n",
    "      train['logclose'],\n",
    "      initialization_method=\"legacy-heuristic\",\n",
    "      trend=\"add\",\n",
    "      damped_trend=False,\n",
    "      seasonal=None)"
   ]
  },
  {
   "cell_type": "code",
   "execution_count": 133,
   "id": "19b3fa54",
   "metadata": {
    "scrolled": true
   },
   "outputs": [],
   "source": [
    "res = m.fit()"
   ]
  },
  {
   "cell_type": "code",
   "execution_count": 134,
   "id": "813277a1",
   "metadata": {},
   "outputs": [],
   "source": [
    "eth_current_price[\"logprediction\"] = res.forecast(len(eth_current_price))"
   ]
  },
  {
   "cell_type": "code",
   "execution_count": 135,
   "id": "f72e4734",
   "metadata": {},
   "outputs": [],
   "source": [
    "eth_current_price[\"prediction\"] = np.exp(eth_current_price[\"logprediction\"])"
   ]
  },
  {
   "cell_type": "code",
   "execution_count": 136,
   "id": "7db14882",
   "metadata": {},
   "outputs": [
    {
     "data": {
      "text/html": [
       "<div>\n",
       "<style scoped>\n",
       "    .dataframe tbody tr th:only-of-type {\n",
       "        vertical-align: middle;\n",
       "    }\n",
       "\n",
       "    .dataframe tbody tr th {\n",
       "        vertical-align: top;\n",
       "    }\n",
       "\n",
       "    .dataframe thead th {\n",
       "        text-align: right;\n",
       "    }\n",
       "</style>\n",
       "<table border=\"1\" class=\"dataframe\">\n",
       "  <thead>\n",
       "    <tr style=\"text-align: right;\">\n",
       "      <th></th>\n",
       "      <th>eth_close</th>\n",
       "      <th>logclose</th>\n",
       "      <th>logprediction</th>\n",
       "      <th>prediction</th>\n",
       "    </tr>\n",
       "    <tr>\n",
       "      <th>Date</th>\n",
       "      <th></th>\n",
       "      <th></th>\n",
       "      <th></th>\n",
       "      <th></th>\n",
       "    </tr>\n",
       "  </thead>\n",
       "  <tbody>\n",
       "    <tr>\n",
       "      <th>2023-03-08</th>\n",
       "      <td>1534.088257</td>\n",
       "      <td>7.335692</td>\n",
       "      <td>7.354585</td>\n",
       "      <td>1563.347551</td>\n",
       "    </tr>\n",
       "    <tr>\n",
       "      <th>2023-03-09</th>\n",
       "      <td>1438.660767</td>\n",
       "      <td>7.271468</td>\n",
       "      <td>7.355279</td>\n",
       "      <td>1564.433969</td>\n",
       "    </tr>\n",
       "    <tr>\n",
       "      <th>2023-03-10</th>\n",
       "      <td>1429.158081</td>\n",
       "      <td>7.264841</td>\n",
       "      <td>7.355974</td>\n",
       "      <td>1565.521142</td>\n",
       "    </tr>\n",
       "    <tr>\n",
       "      <th>2023-03-11</th>\n",
       "      <td>1482.616699</td>\n",
       "      <td>7.301564</td>\n",
       "      <td>7.356669</td>\n",
       "      <td>1566.609071</td>\n",
       "    </tr>\n",
       "    <tr>\n",
       "      <th>2023-03-12</th>\n",
       "      <td>1590.292969</td>\n",
       "      <td>7.371674</td>\n",
       "      <td>7.357363</td>\n",
       "      <td>1567.697755</td>\n",
       "    </tr>\n",
       "    <tr>\n",
       "      <th>2023-03-13</th>\n",
       "      <td>1680.308960</td>\n",
       "      <td>7.426733</td>\n",
       "      <td>7.358058</td>\n",
       "      <td>1568.787197</td>\n",
       "    </tr>\n",
       "    <tr>\n",
       "      <th>2023-03-14</th>\n",
       "      <td>1703.507080</td>\n",
       "      <td>7.440444</td>\n",
       "      <td>7.358753</td>\n",
       "      <td>1569.877395</td>\n",
       "    </tr>\n",
       "    <tr>\n",
       "      <th>2023-03-15</th>\n",
       "      <td>1656.180542</td>\n",
       "      <td>7.412269</td>\n",
       "      <td>7.359447</td>\n",
       "      <td>1570.968351</td>\n",
       "    </tr>\n",
       "    <tr>\n",
       "      <th>2023-03-16</th>\n",
       "      <td>1677.215454</td>\n",
       "      <td>7.424890</td>\n",
       "      <td>7.360142</td>\n",
       "      <td>1572.060065</td>\n",
       "    </tr>\n",
       "    <tr>\n",
       "      <th>2023-03-17</th>\n",
       "      <td>1792.485107</td>\n",
       "      <td>7.491358</td>\n",
       "      <td>7.360837</td>\n",
       "      <td>1573.152538</td>\n",
       "    </tr>\n",
       "    <tr>\n",
       "      <th>2023-03-18</th>\n",
       "      <td>1761.659668</td>\n",
       "      <td>7.474012</td>\n",
       "      <td>7.361532</td>\n",
       "      <td>1574.245770</td>\n",
       "    </tr>\n",
       "    <tr>\n",
       "      <th>2023-03-19</th>\n",
       "      <td>1785.576538</td>\n",
       "      <td>7.487497</td>\n",
       "      <td>7.362226</td>\n",
       "      <td>1575.339761</td>\n",
       "    </tr>\n",
       "    <tr>\n",
       "      <th>2023-03-20</th>\n",
       "      <td>1735.321289</td>\n",
       "      <td>7.458948</td>\n",
       "      <td>7.362921</td>\n",
       "      <td>1576.434513</td>\n",
       "    </tr>\n",
       "    <tr>\n",
       "      <th>2023-03-21</th>\n",
       "      <td>1806.760742</td>\n",
       "      <td>7.499291</td>\n",
       "      <td>7.363616</td>\n",
       "      <td>1577.530026</td>\n",
       "    </tr>\n",
       "  </tbody>\n",
       "</table>\n",
       "</div>"
      ],
      "text/plain": [
       "              eth_close  logclose  logprediction   prediction\n",
       "Date                                                         \n",
       "2023-03-08  1534.088257  7.335692       7.354585  1563.347551\n",
       "2023-03-09  1438.660767  7.271468       7.355279  1564.433969\n",
       "2023-03-10  1429.158081  7.264841       7.355974  1565.521142\n",
       "2023-03-11  1482.616699  7.301564       7.356669  1566.609071\n",
       "2023-03-12  1590.292969  7.371674       7.357363  1567.697755\n",
       "2023-03-13  1680.308960  7.426733       7.358058  1568.787197\n",
       "2023-03-14  1703.507080  7.440444       7.358753  1569.877395\n",
       "2023-03-15  1656.180542  7.412269       7.359447  1570.968351\n",
       "2023-03-16  1677.215454  7.424890       7.360142  1572.060065\n",
       "2023-03-17  1792.485107  7.491358       7.360837  1573.152538\n",
       "2023-03-18  1761.659668  7.474012       7.361532  1574.245770\n",
       "2023-03-19  1785.576538  7.487497       7.362226  1575.339761\n",
       "2023-03-20  1735.321289  7.458948       7.362921  1576.434513\n",
       "2023-03-21  1806.760742  7.499291       7.363616  1577.530026"
      ]
     },
     "execution_count": 136,
     "metadata": {},
     "output_type": "execute_result"
    }
   ],
   "source": [
    "eth_current_price"
   ]
  },
  {
   "cell_type": "code",
   "execution_count": 137,
   "id": "1c68b1b1",
   "metadata": {
    "scrolled": false
   },
   "outputs": [
    {
     "data": {
      "text/plain": [
       "145.57028183712563"
      ]
     },
     "execution_count": 137,
     "metadata": {},
     "output_type": "execute_result"
    }
   ],
   "source": [
    "## Validation Root Mean Squared Error\n",
    "mean_squared_error(eth_current_price['eth_close'], eth_current_price[\"prediction\"], squared=False)"
   ]
  },
  {
   "cell_type": "code",
   "execution_count": 138,
   "id": "5dde7a63",
   "metadata": {},
   "outputs": [
    {
     "data": {
      "text/plain": [
       "21190.70695414019"
      ]
     },
     "execution_count": 138,
     "metadata": {},
     "output_type": "execute_result"
    }
   ],
   "source": [
    "## Validation Mean Squared Error\n",
    "mean_squared_error(eth_current_price['eth_close'], eth_current_price[\"prediction\"], squared=True)"
   ]
  },
  {
   "cell_type": "code",
   "execution_count": 139,
   "id": "a89c2805",
   "metadata": {},
   "outputs": [
    {
     "data": {
      "text/plain": [
       "131.32877907027105"
      ]
     },
     "execution_count": 139,
     "metadata": {},
     "output_type": "execute_result"
    }
   ],
   "source": [
    "## Validation Mean Absolute Error\n",
    "mean_absolute_error(eth_current_price['eth_close'], eth_current_price[\"prediction\"])"
   ]
  },
  {
   "cell_type": "code",
   "execution_count": 140,
   "id": "cb2969ed",
   "metadata": {},
   "outputs": [
    {
     "data": {
      "text/plain": [
       "0.07833252766682645"
      ]
     },
     "execution_count": 140,
     "metadata": {},
     "output_type": "execute_result"
    }
   ],
   "source": [
    "## Validation Mean Absolute Percentage Error\n",
    "mean_absolute_percentage_error(eth_current_price['eth_close'], eth_current_price[\"prediction\"])"
   ]
  },
  {
   "cell_type": "markdown",
   "id": "894f96ff",
   "metadata": {},
   "source": [
    "## Findings\n",
    "\n",
    "14 day forecast\n",
    "- RMSE: 145.57\n",
    "- MSE: 21190.70\n",
    "- MAE: 131.32\n",
    "- MAPE: 7.83"
   ]
  },
  {
   "cell_type": "code",
   "execution_count": null,
   "id": "342ae7d7",
   "metadata": {},
   "outputs": [],
   "source": []
  },
  {
   "cell_type": "code",
   "execution_count": null,
   "id": "cf3ecb3b",
   "metadata": {},
   "outputs": [],
   "source": []
  },
  {
   "cell_type": "markdown",
   "id": "3cca8bd3",
   "metadata": {},
   "source": [
    "## BACKUP"
   ]
  },
  {
   "cell_type": "code",
   "execution_count": null,
   "id": "1a0d0c01",
   "metadata": {},
   "outputs": [],
   "source": [
    "## Forecast horizon\n",
    "## Validation steps\n",
    "\n",
    "h = qr ## ez maga a window size (seasonalitásnál fontos), hogy mekkora lépésközre prediktál, 365 napra előre pl\n",
    "steps = 10 ## ez nem más, mint az, hogy 10 szer lép egyet előre az indexekben, magyarul ez a cv=10 kb Gridsearchnél\n",
    "Ntest = len(df_close) - h -steps + 1 ## ez a kiindulási pont, érdemes lehet megnézni a 80%-körüli értéket"
   ]
  },
  {
   "cell_type": "code",
   "execution_count": null,
   "id": "bb6c6781",
   "metadata": {},
   "outputs": [],
   "source": [
    "def walkforward(trend_type, seasonal_type, damped_trend, init_method, debug=False):\n",
    "\n",
    "  # store errors\n",
    "    errors = []\n",
    "    seen_last = False\n",
    "    steps_completed = 0\n",
    "\n",
    "    for end_of_train in range(Ntest, len(df_close) - h + 1): ## plusz egy a range miatt van.\n",
    "        train = df_close.iloc[:end_of_train] # one step walk\n",
    "        test = df_close.iloc[end_of_train:end_of_train + h]\n",
    "\n",
    "        if test.index[-1] == df.index[-1]:\n",
    "            seen_last = True\n",
    "      \n",
    "        steps_completed += 1\n",
    "\n",
    "        if seasonal_type != None:\n",
    "            \n",
    "            hw = ExponentialSmoothing(\n",
    "                  train['logclose'],\n",
    "                  initialization_method=init_method,\n",
    "                  trend=trend_type,\n",
    "                  damped_trend=damped_trend,\n",
    "                  seasonal=seasonal_type,\n",
    "                  seasonal_periods=365)\n",
    "        else:\n",
    "            hw = ExponentialSmoothing(\n",
    "                  train['logclose'],\n",
    "                  initialization_method=init_method,\n",
    "                  trend=trend_type,\n",
    "                  damped_trend=damped_trend,\n",
    "                  seasonal=seasonal_type)\n",
    "        \n",
    "        res_hw = hw.fit()\n",
    "\n",
    "      # compute error for the forecast horizon\n",
    "        fcast = res_hw.forecast(h)\n",
    "        error = mean_squared_error(test['logclose'], fcast, squared=False) ## root mean squared error\n",
    "        errors.append(error)\n",
    "\n",
    "    if debug:\n",
    "            print(\"seen_last:\", seen_last)\n",
    "            print(\"steps completed:\", steps_completed)\n",
    "\n",
    "    return np.mean(errors)"
   ]
  },
  {
   "cell_type": "code",
   "execution_count": null,
   "id": "5293738b",
   "metadata": {},
   "outputs": [],
   "source": [
    "test_size = 14\n",
    "train = df_close.iloc[:-test_size]\n",
    "test = df_close.iloc[-test_size:]"
   ]
  },
  {
   "cell_type": "code",
   "execution_count": null,
   "id": "2f2785f2",
   "metadata": {},
   "outputs": [],
   "source": [
    "train_idx = df_close.index <= train.index[-1] ## csak belőjük a trainingset indexeit\n",
    "test_idx = df_close.index > train.index[-1]"
   ]
  },
  {
   "cell_type": "code",
   "execution_count": null,
   "id": "bcbfee39",
   "metadata": {},
   "outputs": [],
   "source": [
    "m = ExponentialSmoothing(\n",
    "      train['logclose'],\n",
    "      initialization_method=\"legacy-heuristic\",\n",
    "      trend=\"mul\",\n",
    "      damped_trend=True,\n",
    "      seasonal=\"add\",\n",
    "      seasonal_periods=365)"
   ]
  },
  {
   "cell_type": "code",
   "execution_count": null,
   "id": "00453dbf",
   "metadata": {
    "scrolled": true
   },
   "outputs": [],
   "source": [
    "res = m.fit()"
   ]
  },
  {
   "cell_type": "code",
   "execution_count": null,
   "id": "0927add1",
   "metadata": {},
   "outputs": [],
   "source": [
    "## Logarithmic prediction\n",
    "df_close.loc[train_idx, \"SESfitted\"] = res.fittedvalues\n",
    "df_close.loc[test_idx, \"SESfitted\"] = res.forecast(test_size) ##folytatjuk a trained (efelett) részt a predikcióval\n",
    "df_close[[\"logclose\", \"SESfitted\"]].plot(figsize=(10, 5))"
   ]
  },
  {
   "cell_type": "code",
   "execution_count": null,
   "id": "658ea2b9",
   "metadata": {},
   "outputs": [],
   "source": [
    "df_close[\"prediction\"] = np.exp(df_close[\"SESfitted\"])"
   ]
  },
  {
   "cell_type": "code",
   "execution_count": null,
   "id": "702e82e4",
   "metadata": {
    "scrolled": false
   },
   "outputs": [],
   "source": [
    "## Root Value prediction\n",
    "df_close[[\"eth_close\", \"prediction\"]].plot(figsize=(10, 5))"
   ]
  },
  {
   "cell_type": "code",
   "execution_count": null,
   "id": "a4b58048",
   "metadata": {
    "scrolled": false
   },
   "outputs": [],
   "source": [
    "## Validation Root Mean Squared Error\n",
    "mean_squared_error(df_close['eth_close'].iloc[-test_size:], df_close[\"prediction\"].iloc[-test_size:], squared=False)"
   ]
  },
  {
   "cell_type": "code",
   "execution_count": null,
   "id": "fbc8be69",
   "metadata": {},
   "outputs": [],
   "source": [
    "mean_absolute_error(df_close['eth_close'].iloc[-test_size:], df_close[\"prediction\"].iloc[-test_size:])"
   ]
  }
 ],
 "metadata": {
  "kernelspec": {
   "display_name": "Python 3 (ipykernel)",
   "language": "python",
   "name": "python3"
  },
  "language_info": {
   "codemirror_mode": {
    "name": "ipython",
    "version": 3
   },
   "file_extension": ".py",
   "mimetype": "text/x-python",
   "name": "python",
   "nbconvert_exporter": "python",
   "pygments_lexer": "ipython3",
   "version": "3.10.7"
  }
 },
 "nbformat": 4,
 "nbformat_minor": 5
}
