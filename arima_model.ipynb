{
 "cells": [
  {
   "cell_type": "code",
   "execution_count": 1,
   "id": "f8b9a454",
   "metadata": {},
   "outputs": [],
   "source": [
    "import pandas as pd\n",
    "import pmdarima as pm\n",
    "import numpy as np\n",
    "import matplotlib.pyplot as plt\n",
    "\n",
    "from functions import gridsearch_timeseriessplit_arima\n",
    "from sklearn.metrics import mean_absolute_percentage_error, mean_absolute_error, mean_squared_error\n",
    "from sklearn.model_selection import TimeSeriesSplit"
   ]
  },
  {
   "cell_type": "code",
   "execution_count": 2,
   "id": "c918943f",
   "metadata": {},
   "outputs": [],
   "source": [
    "df = pd.read_csv('training_dataset.csv', index_col='date', parse_dates=True)"
   ]
  },
  {
   "cell_type": "code",
   "execution_count": 3,
   "id": "8f9aed00",
   "metadata": {},
   "outputs": [],
   "source": [
    "df.index.freq = \"D\""
   ]
  },
  {
   "cell_type": "code",
   "execution_count": 4,
   "id": "0960a8ab",
   "metadata": {
    "scrolled": false
   },
   "outputs": [
    {
     "data": {
      "text/html": [
       "<div>\n",
       "<style scoped>\n",
       "    .dataframe tbody tr th:only-of-type {\n",
       "        vertical-align: middle;\n",
       "    }\n",
       "\n",
       "    .dataframe tbody tr th {\n",
       "        vertical-align: top;\n",
       "    }\n",
       "\n",
       "    .dataframe thead th {\n",
       "        text-align: right;\n",
       "    }\n",
       "</style>\n",
       "<table border=\"1\" class=\"dataframe\">\n",
       "  <thead>\n",
       "    <tr style=\"text-align: right;\">\n",
       "      <th></th>\n",
       "      <th>eth_low</th>\n",
       "      <th>eth_high</th>\n",
       "      <th>eth_open</th>\n",
       "      <th>eth_close</th>\n",
       "      <th>eth_volume</th>\n",
       "      <th>month</th>\n",
       "      <th>eth_qav</th>\n",
       "      <th>eth_num_trades</th>\n",
       "      <th>eth_taker_base_vol</th>\n",
       "      <th>eth_taker_quote_vol</th>\n",
       "      <th>...</th>\n",
       "      <th>stochastic_oscillator</th>\n",
       "      <th>ma_12</th>\n",
       "      <th>ma_26</th>\n",
       "      <th>ema_12</th>\n",
       "      <th>ema_26</th>\n",
       "      <th>obv</th>\n",
       "      <th>mfi</th>\n",
       "      <th>upper_band</th>\n",
       "      <th>middle_band</th>\n",
       "      <th>lower_band</th>\n",
       "    </tr>\n",
       "    <tr>\n",
       "      <th>date</th>\n",
       "      <th></th>\n",
       "      <th></th>\n",
       "      <th></th>\n",
       "      <th></th>\n",
       "      <th></th>\n",
       "      <th></th>\n",
       "      <th></th>\n",
       "      <th></th>\n",
       "      <th></th>\n",
       "      <th></th>\n",
       "      <th></th>\n",
       "      <th></th>\n",
       "      <th></th>\n",
       "      <th></th>\n",
       "      <th></th>\n",
       "      <th></th>\n",
       "      <th></th>\n",
       "      <th></th>\n",
       "      <th></th>\n",
       "      <th></th>\n",
       "      <th></th>\n",
       "    </tr>\n",
       "  </thead>\n",
       "  <tbody>\n",
       "    <tr>\n",
       "      <th>2017-09-01</th>\n",
       "      <td>383.18</td>\n",
       "      <td>394.39</td>\n",
       "      <td>386.44</td>\n",
       "      <td>388.46</td>\n",
       "      <td>4198.68434</td>\n",
       "      <td>2017-09-01</td>\n",
       "      <td>1.635228e+06</td>\n",
       "      <td>4124.0</td>\n",
       "      <td>1564.05531</td>\n",
       "      <td>6.096309e+05</td>\n",
       "      <td>...</td>\n",
       "      <td>96.424850</td>\n",
       "      <td>346.524167</td>\n",
       "      <td>338.660000</td>\n",
       "      <td>346.524167</td>\n",
       "      <td>338.660000</td>\n",
       "      <td>1.378006e+06</td>\n",
       "      <td>88.346876</td>\n",
       "      <td>411.653941</td>\n",
       "      <td>341.8790</td>\n",
       "      <td>272.104059</td>\n",
       "    </tr>\n",
       "    <tr>\n",
       "      <th>2017-09-02</th>\n",
       "      <td>320.08</td>\n",
       "      <td>394.32</td>\n",
       "      <td>388.58</td>\n",
       "      <td>343.14</td>\n",
       "      <td>8240.32724</td>\n",
       "      <td>2017-09-01</td>\n",
       "      <td>2.904008e+06</td>\n",
       "      <td>8217.0</td>\n",
       "      <td>2460.66776</td>\n",
       "      <td>8.684873e+05</td>\n",
       "      <td>...</td>\n",
       "      <td>97.629707</td>\n",
       "      <td>348.178333</td>\n",
       "      <td>339.773462</td>\n",
       "      <td>348.178333</td>\n",
       "      <td>339.773462</td>\n",
       "      <td>1.369766e+06</td>\n",
       "      <td>80.426793</td>\n",
       "      <td>411.386517</td>\n",
       "      <td>341.6590</td>\n",
       "      <td>271.931483</td>\n",
       "    </tr>\n",
       "    <tr>\n",
       "      <th>2017-09-03</th>\n",
       "      <td>320.08</td>\n",
       "      <td>367.28</td>\n",
       "      <td>343.56</td>\n",
       "      <td>341.77</td>\n",
       "      <td>5253.62211</td>\n",
       "      <td>2017-09-01</td>\n",
       "      <td>1.801703e+06</td>\n",
       "      <td>6153.0</td>\n",
       "      <td>2240.91753</td>\n",
       "      <td>7.679383e+05</td>\n",
       "      <td>...</td>\n",
       "      <td>79.514749</td>\n",
       "      <td>350.842500</td>\n",
       "      <td>340.706923</td>\n",
       "      <td>350.842500</td>\n",
       "      <td>340.706923</td>\n",
       "      <td>1.364512e+06</td>\n",
       "      <td>74.419284</td>\n",
       "      <td>408.329187</td>\n",
       "      <td>340.1235</td>\n",
       "      <td>271.917813</td>\n",
       "    </tr>\n",
       "    <tr>\n",
       "      <th>2017-09-04</th>\n",
       "      <td>267.94</td>\n",
       "      <td>344.55</td>\n",
       "      <td>339.29</td>\n",
       "      <td>283.77</td>\n",
       "      <td>6737.81061</td>\n",
       "      <td>2017-09-01</td>\n",
       "      <td>2.002446e+06</td>\n",
       "      <td>7403.0</td>\n",
       "      <td>2954.16805</td>\n",
       "      <td>8.770111e+05</td>\n",
       "      <td>...</td>\n",
       "      <td>78.967144</td>\n",
       "      <td>348.178333</td>\n",
       "      <td>339.138077</td>\n",
       "      <td>348.178333</td>\n",
       "      <td>339.138077</td>\n",
       "      <td>1.357774e+06</td>\n",
       "      <td>67.246410</td>\n",
       "      <td>404.443029</td>\n",
       "      <td>335.1070</td>\n",
       "      <td>265.770971</td>\n",
       "    </tr>\n",
       "    <tr>\n",
       "      <th>2017-09-05</th>\n",
       "      <td>235.55</td>\n",
       "      <td>321.52</td>\n",
       "      <td>286.81</td>\n",
       "      <td>312.09</td>\n",
       "      <td>8344.41924</td>\n",
       "      <td>2017-09-01</td>\n",
       "      <td>2.397491e+06</td>\n",
       "      <td>8999.0</td>\n",
       "      <td>4312.97282</td>\n",
       "      <td>1.251959e+06</td>\n",
       "      <td>...</td>\n",
       "      <td>55.783836</td>\n",
       "      <td>347.234167</td>\n",
       "      <td>338.443846</td>\n",
       "      <td>347.234167</td>\n",
       "      <td>338.443846</td>\n",
       "      <td>1.366118e+06</td>\n",
       "      <td>66.412993</td>\n",
       "      <td>396.369992</td>\n",
       "      <td>331.2515</td>\n",
       "      <td>266.133008</td>\n",
       "    </tr>\n",
       "  </tbody>\n",
       "</table>\n",
       "<p>5 rows × 46 columns</p>\n",
       "</div>"
      ],
      "text/plain": [
       "            eth_low  eth_high  eth_open  eth_close  eth_volume       month  \\\n",
       "date                                                                         \n",
       "2017-09-01   383.18    394.39    386.44     388.46  4198.68434  2017-09-01   \n",
       "2017-09-02   320.08    394.32    388.58     343.14  8240.32724  2017-09-01   \n",
       "2017-09-03   320.08    367.28    343.56     341.77  5253.62211  2017-09-01   \n",
       "2017-09-04   267.94    344.55    339.29     283.77  6737.81061  2017-09-01   \n",
       "2017-09-05   235.55    321.52    286.81     312.09  8344.41924  2017-09-01   \n",
       "\n",
       "                 eth_qav  eth_num_trades  eth_taker_base_vol  \\\n",
       "date                                                           \n",
       "2017-09-01  1.635228e+06          4124.0          1564.05531   \n",
       "2017-09-02  2.904008e+06          8217.0          2460.66776   \n",
       "2017-09-03  1.801703e+06          6153.0          2240.91753   \n",
       "2017-09-04  2.002446e+06          7403.0          2954.16805   \n",
       "2017-09-05  2.397491e+06          8999.0          4312.97282   \n",
       "\n",
       "            eth_taker_quote_vol  ...  stochastic_oscillator       ma_12  \\\n",
       "date                             ...                                      \n",
       "2017-09-01         6.096309e+05  ...              96.424850  346.524167   \n",
       "2017-09-02         8.684873e+05  ...              97.629707  348.178333   \n",
       "2017-09-03         7.679383e+05  ...              79.514749  350.842500   \n",
       "2017-09-04         8.770111e+05  ...              78.967144  348.178333   \n",
       "2017-09-05         1.251959e+06  ...              55.783836  347.234167   \n",
       "\n",
       "                 ma_26      ema_12      ema_26           obv        mfi  \\\n",
       "date                                                                      \n",
       "2017-09-01  338.660000  346.524167  338.660000  1.378006e+06  88.346876   \n",
       "2017-09-02  339.773462  348.178333  339.773462  1.369766e+06  80.426793   \n",
       "2017-09-03  340.706923  350.842500  340.706923  1.364512e+06  74.419284   \n",
       "2017-09-04  339.138077  348.178333  339.138077  1.357774e+06  67.246410   \n",
       "2017-09-05  338.443846  347.234167  338.443846  1.366118e+06  66.412993   \n",
       "\n",
       "            upper_band  middle_band  lower_band  \n",
       "date                                             \n",
       "2017-09-01  411.653941     341.8790  272.104059  \n",
       "2017-09-02  411.386517     341.6590  271.931483  \n",
       "2017-09-03  408.329187     340.1235  271.917813  \n",
       "2017-09-04  404.443029     335.1070  265.770971  \n",
       "2017-09-05  396.369992     331.2515  266.133008  \n",
       "\n",
       "[5 rows x 46 columns]"
      ]
     },
     "execution_count": 4,
     "metadata": {},
     "output_type": "execute_result"
    }
   ],
   "source": [
    "df.head()"
   ]
  },
  {
   "cell_type": "code",
   "execution_count": 5,
   "id": "ae43a353",
   "metadata": {},
   "outputs": [
    {
     "data": {
      "text/plain": [
       "(2014, 46)"
      ]
     },
     "execution_count": 5,
     "metadata": {},
     "output_type": "execute_result"
    }
   ],
   "source": [
    "df.shape"
   ]
  },
  {
   "cell_type": "code",
   "execution_count": 6,
   "id": "ec5642ed",
   "metadata": {
    "scrolled": true
   },
   "outputs": [
    {
     "data": {
      "text/plain": [
       "eth_low                     0\n",
       "eth_high                    0\n",
       "eth_open                    0\n",
       "eth_close                   0\n",
       "eth_volume                  0\n",
       "month                       0\n",
       "eth_qav                     0\n",
       "eth_num_trades              0\n",
       "eth_taker_base_vol          0\n",
       "eth_taker_quote_vol         0\n",
       "btc_close                   0\n",
       "btc_volume                  0\n",
       "btc_num_trades              0\n",
       "btc_qav                     0\n",
       "fed_eff_funds_rate_close    0\n",
       "nasdaq_close                0\n",
       "real_estate_index_close     0\n",
       "sp500_close                 0\n",
       "silver_value                0\n",
       "us_breake_inf_rate_5y       0\n",
       "us_breake_inf_rate_10y      0\n",
       "us_treasury_10yt2y_diff     0\n",
       "us_treasury_10yt3m_diff     0\n",
       "us_treasury_total_vol       0\n",
       "gold_value                  0\n",
       "news_sentiment              0\n",
       "ethereum_search_trend       0\n",
       "reddit_sentiment            0\n",
       "twitter_sentiment           0\n",
       "unique_whales               0\n",
       "whales_tx_number            0\n",
       "whales_tx_total_value       0\n",
       "macd                        0\n",
       "signal                      0\n",
       "hist                        0\n",
       "rsi                         0\n",
       "stochastic_oscillator       0\n",
       "ma_12                       0\n",
       "ma_26                       0\n",
       "ema_12                      0\n",
       "ema_26                      0\n",
       "obv                         0\n",
       "mfi                         0\n",
       "upper_band                  0\n",
       "middle_band                 0\n",
       "lower_band                  0\n",
       "dtype: int64"
      ]
     },
     "execution_count": 6,
     "metadata": {},
     "output_type": "execute_result"
    }
   ],
   "source": [
    "df.isna().sum()"
   ]
  },
  {
   "cell_type": "code",
   "execution_count": 7,
   "id": "516054e9",
   "metadata": {},
   "outputs": [],
   "source": [
    "df.dropna(axis=0, how=\"any\",inplace=True)"
   ]
  },
  {
   "cell_type": "code",
   "execution_count": 8,
   "id": "ac2a6c95",
   "metadata": {},
   "outputs": [],
   "source": [
    "df.drop(\"month\", axis=1, inplace=True)"
   ]
  },
  {
   "cell_type": "code",
   "execution_count": 9,
   "id": "795d4e79",
   "metadata": {},
   "outputs": [],
   "source": [
    "df[\"log_close\"] = np.log(df[\"eth_close\"])"
   ]
  },
  {
   "cell_type": "code",
   "execution_count": 10,
   "id": "6e12c83f",
   "metadata": {
    "scrolled": false
   },
   "outputs": [
    {
     "data": {
      "text/html": [
       "<div>\n",
       "<style scoped>\n",
       "    .dataframe tbody tr th:only-of-type {\n",
       "        vertical-align: middle;\n",
       "    }\n",
       "\n",
       "    .dataframe tbody tr th {\n",
       "        vertical-align: top;\n",
       "    }\n",
       "\n",
       "    .dataframe thead th {\n",
       "        text-align: right;\n",
       "    }\n",
       "</style>\n",
       "<table border=\"1\" class=\"dataframe\">\n",
       "  <thead>\n",
       "    <tr style=\"text-align: right;\">\n",
       "      <th></th>\n",
       "      <th>eth_low</th>\n",
       "      <th>eth_high</th>\n",
       "      <th>eth_open</th>\n",
       "      <th>eth_close</th>\n",
       "      <th>eth_volume</th>\n",
       "      <th>eth_qav</th>\n",
       "      <th>eth_num_trades</th>\n",
       "      <th>eth_taker_base_vol</th>\n",
       "      <th>eth_taker_quote_vol</th>\n",
       "      <th>btc_close</th>\n",
       "      <th>...</th>\n",
       "      <th>ma_12</th>\n",
       "      <th>ma_26</th>\n",
       "      <th>ema_12</th>\n",
       "      <th>ema_26</th>\n",
       "      <th>obv</th>\n",
       "      <th>mfi</th>\n",
       "      <th>upper_band</th>\n",
       "      <th>middle_band</th>\n",
       "      <th>lower_band</th>\n",
       "      <th>log_close</th>\n",
       "    </tr>\n",
       "    <tr>\n",
       "      <th>date</th>\n",
       "      <th></th>\n",
       "      <th></th>\n",
       "      <th></th>\n",
       "      <th></th>\n",
       "      <th></th>\n",
       "      <th></th>\n",
       "      <th></th>\n",
       "      <th></th>\n",
       "      <th></th>\n",
       "      <th></th>\n",
       "      <th></th>\n",
       "      <th></th>\n",
       "      <th></th>\n",
       "      <th></th>\n",
       "      <th></th>\n",
       "      <th></th>\n",
       "      <th></th>\n",
       "      <th></th>\n",
       "      <th></th>\n",
       "      <th></th>\n",
       "      <th></th>\n",
       "    </tr>\n",
       "  </thead>\n",
       "  <tbody>\n",
       "    <tr>\n",
       "      <th>2017-09-01</th>\n",
       "      <td>383.18</td>\n",
       "      <td>394.39</td>\n",
       "      <td>386.44</td>\n",
       "      <td>388.46</td>\n",
       "      <td>4198.68434</td>\n",
       "      <td>1.635228e+06</td>\n",
       "      <td>4124.0</td>\n",
       "      <td>1564.05531</td>\n",
       "      <td>6.096309e+05</td>\n",
       "      <td>4834.91</td>\n",
       "      <td>...</td>\n",
       "      <td>346.524167</td>\n",
       "      <td>338.660000</td>\n",
       "      <td>346.524167</td>\n",
       "      <td>338.660000</td>\n",
       "      <td>1.378006e+06</td>\n",
       "      <td>88.346876</td>\n",
       "      <td>411.653941</td>\n",
       "      <td>341.8790</td>\n",
       "      <td>272.104059</td>\n",
       "      <td>5.962190</td>\n",
       "    </tr>\n",
       "    <tr>\n",
       "      <th>2017-09-02</th>\n",
       "      <td>320.08</td>\n",
       "      <td>394.32</td>\n",
       "      <td>388.58</td>\n",
       "      <td>343.14</td>\n",
       "      <td>8240.32724</td>\n",
       "      <td>2.904008e+06</td>\n",
       "      <td>8217.0</td>\n",
       "      <td>2460.66776</td>\n",
       "      <td>8.684873e+05</td>\n",
       "      <td>4472.14</td>\n",
       "      <td>...</td>\n",
       "      <td>348.178333</td>\n",
       "      <td>339.773462</td>\n",
       "      <td>348.178333</td>\n",
       "      <td>339.773462</td>\n",
       "      <td>1.369766e+06</td>\n",
       "      <td>80.426793</td>\n",
       "      <td>411.386517</td>\n",
       "      <td>341.6590</td>\n",
       "      <td>271.931483</td>\n",
       "      <td>5.838139</td>\n",
       "    </tr>\n",
       "    <tr>\n",
       "      <th>2017-09-03</th>\n",
       "      <td>320.08</td>\n",
       "      <td>367.28</td>\n",
       "      <td>343.56</td>\n",
       "      <td>341.77</td>\n",
       "      <td>5253.62211</td>\n",
       "      <td>1.801703e+06</td>\n",
       "      <td>6153.0</td>\n",
       "      <td>2240.91753</td>\n",
       "      <td>7.679383e+05</td>\n",
       "      <td>4509.08</td>\n",
       "      <td>...</td>\n",
       "      <td>350.842500</td>\n",
       "      <td>340.706923</td>\n",
       "      <td>350.842500</td>\n",
       "      <td>340.706923</td>\n",
       "      <td>1.364512e+06</td>\n",
       "      <td>74.419284</td>\n",
       "      <td>408.329187</td>\n",
       "      <td>340.1235</td>\n",
       "      <td>271.917813</td>\n",
       "      <td>5.834138</td>\n",
       "    </tr>\n",
       "    <tr>\n",
       "      <th>2017-09-04</th>\n",
       "      <td>267.94</td>\n",
       "      <td>344.55</td>\n",
       "      <td>339.29</td>\n",
       "      <td>283.77</td>\n",
       "      <td>6737.81061</td>\n",
       "      <td>2.002446e+06</td>\n",
       "      <td>7403.0</td>\n",
       "      <td>2954.16805</td>\n",
       "      <td>8.770111e+05</td>\n",
       "      <td>4100.11</td>\n",
       "      <td>...</td>\n",
       "      <td>348.178333</td>\n",
       "      <td>339.138077</td>\n",
       "      <td>348.178333</td>\n",
       "      <td>339.138077</td>\n",
       "      <td>1.357774e+06</td>\n",
       "      <td>67.246410</td>\n",
       "      <td>404.443029</td>\n",
       "      <td>335.1070</td>\n",
       "      <td>265.770971</td>\n",
       "      <td>5.648164</td>\n",
       "    </tr>\n",
       "    <tr>\n",
       "      <th>2017-09-05</th>\n",
       "      <td>235.55</td>\n",
       "      <td>321.52</td>\n",
       "      <td>286.81</td>\n",
       "      <td>312.09</td>\n",
       "      <td>8344.41924</td>\n",
       "      <td>2.397491e+06</td>\n",
       "      <td>8999.0</td>\n",
       "      <td>4312.97282</td>\n",
       "      <td>1.251959e+06</td>\n",
       "      <td>4366.47</td>\n",
       "      <td>...</td>\n",
       "      <td>347.234167</td>\n",
       "      <td>338.443846</td>\n",
       "      <td>347.234167</td>\n",
       "      <td>338.443846</td>\n",
       "      <td>1.366118e+06</td>\n",
       "      <td>66.412993</td>\n",
       "      <td>396.369992</td>\n",
       "      <td>331.2515</td>\n",
       "      <td>266.133008</td>\n",
       "      <td>5.743292</td>\n",
       "    </tr>\n",
       "  </tbody>\n",
       "</table>\n",
       "<p>5 rows × 46 columns</p>\n",
       "</div>"
      ],
      "text/plain": [
       "            eth_low  eth_high  eth_open  eth_close  eth_volume       eth_qav  \\\n",
       "date                                                                           \n",
       "2017-09-01   383.18    394.39    386.44     388.46  4198.68434  1.635228e+06   \n",
       "2017-09-02   320.08    394.32    388.58     343.14  8240.32724  2.904008e+06   \n",
       "2017-09-03   320.08    367.28    343.56     341.77  5253.62211  1.801703e+06   \n",
       "2017-09-04   267.94    344.55    339.29     283.77  6737.81061  2.002446e+06   \n",
       "2017-09-05   235.55    321.52    286.81     312.09  8344.41924  2.397491e+06   \n",
       "\n",
       "            eth_num_trades  eth_taker_base_vol  eth_taker_quote_vol  \\\n",
       "date                                                                  \n",
       "2017-09-01          4124.0          1564.05531         6.096309e+05   \n",
       "2017-09-02          8217.0          2460.66776         8.684873e+05   \n",
       "2017-09-03          6153.0          2240.91753         7.679383e+05   \n",
       "2017-09-04          7403.0          2954.16805         8.770111e+05   \n",
       "2017-09-05          8999.0          4312.97282         1.251959e+06   \n",
       "\n",
       "            btc_close  ...       ma_12       ma_26      ema_12      ema_26  \\\n",
       "date                   ...                                                   \n",
       "2017-09-01    4834.91  ...  346.524167  338.660000  346.524167  338.660000   \n",
       "2017-09-02    4472.14  ...  348.178333  339.773462  348.178333  339.773462   \n",
       "2017-09-03    4509.08  ...  350.842500  340.706923  350.842500  340.706923   \n",
       "2017-09-04    4100.11  ...  348.178333  339.138077  348.178333  339.138077   \n",
       "2017-09-05    4366.47  ...  347.234167  338.443846  347.234167  338.443846   \n",
       "\n",
       "                     obv        mfi  upper_band  middle_band  lower_band  \\\n",
       "date                                                                       \n",
       "2017-09-01  1.378006e+06  88.346876  411.653941     341.8790  272.104059   \n",
       "2017-09-02  1.369766e+06  80.426793  411.386517     341.6590  271.931483   \n",
       "2017-09-03  1.364512e+06  74.419284  408.329187     340.1235  271.917813   \n",
       "2017-09-04  1.357774e+06  67.246410  404.443029     335.1070  265.770971   \n",
       "2017-09-05  1.366118e+06  66.412993  396.369992     331.2515  266.133008   \n",
       "\n",
       "            log_close  \n",
       "date                   \n",
       "2017-09-01   5.962190  \n",
       "2017-09-02   5.838139  \n",
       "2017-09-03   5.834138  \n",
       "2017-09-04   5.648164  \n",
       "2017-09-05   5.743292  \n",
       "\n",
       "[5 rows x 46 columns]"
      ]
     },
     "execution_count": 10,
     "metadata": {},
     "output_type": "execute_result"
    }
   ],
   "source": [
    "df.head()"
   ]
  },
  {
   "cell_type": "code",
   "execution_count": 11,
   "id": "4b19630a",
   "metadata": {},
   "outputs": [],
   "source": [
    "df_close = df.copy()\n",
    "df_close = df_close[[\"eth_close\"]]"
   ]
  },
  {
   "cell_type": "code",
   "execution_count": 12,
   "id": "23b2a9cd",
   "metadata": {},
   "outputs": [],
   "source": [
    "df_close.loc[:, \"logclose\"] = np.log(df_close[\"eth_close\"])"
   ]
  },
  {
   "cell_type": "code",
   "execution_count": 13,
   "id": "b47e521b",
   "metadata": {},
   "outputs": [
    {
     "data": {
      "text/html": [
       "<div>\n",
       "<style scoped>\n",
       "    .dataframe tbody tr th:only-of-type {\n",
       "        vertical-align: middle;\n",
       "    }\n",
       "\n",
       "    .dataframe tbody tr th {\n",
       "        vertical-align: top;\n",
       "    }\n",
       "\n",
       "    .dataframe thead th {\n",
       "        text-align: right;\n",
       "    }\n",
       "</style>\n",
       "<table border=\"1\" class=\"dataframe\">\n",
       "  <thead>\n",
       "    <tr style=\"text-align: right;\">\n",
       "      <th></th>\n",
       "      <th>eth_close</th>\n",
       "      <th>logclose</th>\n",
       "    </tr>\n",
       "    <tr>\n",
       "      <th>date</th>\n",
       "      <th></th>\n",
       "      <th></th>\n",
       "    </tr>\n",
       "  </thead>\n",
       "  <tbody>\n",
       "    <tr>\n",
       "      <th>2017-09-01</th>\n",
       "      <td>388.46</td>\n",
       "      <td>5.962190</td>\n",
       "    </tr>\n",
       "    <tr>\n",
       "      <th>2017-09-02</th>\n",
       "      <td>343.14</td>\n",
       "      <td>5.838139</td>\n",
       "    </tr>\n",
       "    <tr>\n",
       "      <th>2017-09-03</th>\n",
       "      <td>341.77</td>\n",
       "      <td>5.834138</td>\n",
       "    </tr>\n",
       "    <tr>\n",
       "      <th>2017-09-04</th>\n",
       "      <td>283.77</td>\n",
       "      <td>5.648164</td>\n",
       "    </tr>\n",
       "    <tr>\n",
       "      <th>2017-09-05</th>\n",
       "      <td>312.09</td>\n",
       "      <td>5.743292</td>\n",
       "    </tr>\n",
       "  </tbody>\n",
       "</table>\n",
       "</div>"
      ],
      "text/plain": [
       "            eth_close  logclose\n",
       "date                           \n",
       "2017-09-01     388.46  5.962190\n",
       "2017-09-02     343.14  5.838139\n",
       "2017-09-03     341.77  5.834138\n",
       "2017-09-04     283.77  5.648164\n",
       "2017-09-05     312.09  5.743292"
      ]
     },
     "execution_count": 13,
     "metadata": {},
     "output_type": "execute_result"
    }
   ],
   "source": [
    "df_close.head()"
   ]
  },
  {
   "cell_type": "code",
   "execution_count": 14,
   "id": "1abd4b9f",
   "metadata": {},
   "outputs": [],
   "source": [
    "df_close = df_close.sort_index()"
   ]
  },
  {
   "cell_type": "markdown",
   "id": "553f7468",
   "metadata": {},
   "source": [
    "## Auto Arima on training dataset - Without exogenous features"
   ]
  },
  {
   "cell_type": "markdown",
   "id": "106bfaa7",
   "metadata": {},
   "source": [
    "### Without seasonality, Normal Values"
   ]
  },
  {
   "cell_type": "code",
   "execution_count": 15,
   "id": "46ed52bf",
   "metadata": {},
   "outputs": [
    {
     "name": "stdout",
     "output_type": "stream",
     "text": [
      "DF shape: (2014, 46)\n",
      "DF shape 20%: 403 row\n"
     ]
    }
   ],
   "source": [
    "print(f\"DF shape: {df.shape}\")\n",
    "print(f\"DF shape 20%: {round(df.shape[0] * 0.2)} row\")"
   ]
  },
  {
   "cell_type": "markdown",
   "id": "00b4e1ae",
   "metadata": {},
   "source": [
    "### 1, 3, 7, 14 DAY"
   ]
  },
  {
   "cell_type": "code",
   "execution_count": 16,
   "id": "241548ed",
   "metadata": {
    "scrolled": false
   },
   "outputs": [
    {
     "name": "stdout",
     "output_type": "stream",
     "text": [
      "                               SARIMAX Results                                \n",
      "==============================================================================\n",
      "Dep. Variable:                      y   No. Observations:                 2013\n",
      "Model:               SARIMAX(1, 1, 0)   Log Likelihood              -11609.272\n",
      "Date:                Sun, 12 Nov 2023   AIC                          23222.544\n",
      "Time:                        14:16:31   BIC                          23233.757\n",
      "Sample:                    09-01-2017   HQIC                         23226.660\n",
      "                         - 03-06-2023                                         \n",
      "Covariance Type:                  opg                                         \n",
      "==============================================================================\n",
      "                 coef    std err          z      P>|z|      [0.025      0.975]\n",
      "------------------------------------------------------------------------------\n",
      "ar.L1         -0.0789      0.012     -6.838      0.000      -0.101      -0.056\n",
      "sigma2      6017.8250     60.947     98.738      0.000    5898.370    6137.280\n",
      "===================================================================================\n",
      "Ljung-Box (L1) (Q):                   0.00   Jarque-Bera (JB):             28560.01\n",
      "Prob(Q):                              0.97   Prob(JB):                         0.00\n",
      "Heteroskedasticity (H):              15.95   Skew:                            -0.98\n",
      "Prob(H) (two-sided):                  0.00   Kurtosis:                        21.35\n",
      "===================================================================================\n",
      "\n",
      "Warnings:\n",
      "[1] Covariance matrix calculated using the outer product of gradients (complex-step).\n",
      "Model tested for 403 splits, test size: 1\n",
      "RMSE: 55.5994\n",
      "MSE: 6428.0795\n",
      "MAE: 55.5994\n",
      "MAPE: 3.0498%\n",
      "---------------\n",
      "                               SARIMAX Results                                \n",
      "==============================================================================\n",
      "Dep. Variable:                      y   No. Observations:                 2011\n",
      "Model:               SARIMAX(1, 1, 0)   Log Likelihood              -11598.731\n",
      "Date:                Sun, 12 Nov 2023   AIC                          23201.461\n",
      "Time:                        14:19:47   BIC                          23212.673\n",
      "Sample:                    09-01-2017   HQIC                         23205.577\n",
      "                         - 03-04-2023                                         \n",
      "Covariance Type:                  opg                                         \n",
      "==============================================================================\n",
      "                 coef    std err          z      P>|z|      [0.025      0.975]\n",
      "------------------------------------------------------------------------------\n",
      "ar.L1         -0.0789      0.012     -6.831      0.000      -0.101      -0.056\n",
      "sigma2      6023.8125     61.070     98.637      0.000    5904.117    6143.508\n",
      "===================================================================================\n",
      "Ljung-Box (L1) (Q):                   0.00   Jarque-Bera (JB):             28466.41\n",
      "Prob(Q):                              0.97   Prob(JB):                         0.00\n",
      "Heteroskedasticity (H):              16.00   Skew:                            -0.98\n",
      "Prob(H) (two-sided):                  0.00   Kurtosis:                        21.33\n",
      "===================================================================================\n",
      "\n",
      "Warnings:\n",
      "[1] Covariance matrix calculated using the outer product of gradients (complex-step).\n",
      "Model tested for 134 splits, test size: 3\n",
      "RMSE: 83.7409\n",
      "MSE: 11810.1222\n",
      "MAE: 75.5213\n",
      "MAPE: 4.2053%\n",
      "---------------\n",
      "                               SARIMAX Results                                \n",
      "==============================================================================\n",
      "Dep. Variable:                      y   No. Observations:                 2007\n",
      "Model:               SARIMAX(1, 1, 0)   Log Likelihood              -11576.823\n",
      "Date:                Sun, 12 Nov 2023   AIC                          23157.645\n",
      "Time:                        14:21:12   BIC                          23168.853\n",
      "Sample:                    09-01-2017   HQIC                         23161.760\n",
      "                         - 02-28-2023                                         \n",
      "Covariance Type:                  opg                                         \n",
      "==============================================================================\n",
      "                 coef    std err          z      P>|z|      [0.025      0.975]\n",
      "------------------------------------------------------------------------------\n",
      "ar.L1         -0.0788      0.012     -6.821      0.000      -0.101      -0.056\n",
      "sigma2      6030.8724     61.215     98.519      0.000    5910.892    6150.852\n",
      "===================================================================================\n",
      "Ljung-Box (L1) (Q):                   0.00   Jarque-Bera (JB):             28390.04\n",
      "Prob(Q):                              0.97   Prob(JB):                         0.00\n",
      "Heteroskedasticity (H):              16.40   Skew:                            -0.98\n",
      "Prob(H) (two-sided):                  0.00   Kurtosis:                        21.32\n",
      "===================================================================================\n",
      "\n",
      "Warnings:\n",
      "[1] Covariance matrix calculated using the outer product of gradients (complex-step).\n",
      "Model tested for 58 splits, test size: 7\n",
      "RMSE: 135.4861\n",
      "MSE: 28485.3268\n",
      "MAE: 120.206\n",
      "MAPE: 6.5514%\n",
      "---------------\n",
      "                               SARIMAX Results                                \n",
      "==============================================================================\n",
      "Dep. Variable:                      y   No. Observations:                 2000\n",
      "Model:               SARIMAX(1, 1, 0)   Log Likelihood              -11539.470\n",
      "Date:                Sun, 12 Nov 2023   AIC                          23082.940\n",
      "Time:                        14:21:54   BIC                          23094.140\n",
      "Sample:                    09-01-2017   HQIC                         23087.052\n",
      "                         - 02-21-2023                                         \n",
      "Covariance Type:                  opg                                         \n",
      "==============================================================================\n",
      "                 coef    std err          z      P>|z|      [0.025      0.975]\n",
      "------------------------------------------------------------------------------\n",
      "ar.L1         -0.0789      0.012     -6.804      0.000      -0.102      -0.056\n",
      "sigma2      6049.2827     61.594     98.213      0.000    5928.561    6170.004\n",
      "===================================================================================\n",
      "Ljung-Box (L1) (Q):                   0.00   Jarque-Bera (JB):             28126.93\n",
      "Prob(Q):                              0.97   Prob(JB):                         0.00\n",
      "Heteroskedasticity (H):              16.46   Skew:                            -0.99\n",
      "Prob(H) (two-sided):                  0.00   Kurtosis:                        21.27\n",
      "===================================================================================\n",
      "\n",
      "Warnings:\n",
      "[1] Covariance matrix calculated using the outer product of gradients (complex-step).\n",
      "Model tested for 29 splits, test size: 14\n",
      "RMSE: 196.0792\n",
      "MSE: 55956.2037\n",
      "MAE: 170.1203\n",
      "MAPE: 9.1443%\n"
     ]
    }
   ],
   "source": [
    "train_pred, true_values, fcast, confint = gridsearch_timeseriessplit_arima(df_close, n_splits=403, is_logarithmic=False, with_seasonality=False, test_size=1)\n",
    "print(\"-\"*15)\n",
    "train_pred, true_values, fcast, confint = gridsearch_timeseriessplit_arima(df_close, n_splits=round(403/3), is_logarithmic=False, with_seasonality=False, test_size=3)\n",
    "print(\"-\"*15)\n",
    "train_pred, true_values, fcast, confint = gridsearch_timeseriessplit_arima(df_close, n_splits=round(403/7), is_logarithmic=False, with_seasonality=False, test_size=7)\n",
    "print(\"-\"*15)\n",
    "train_pred, true_values, fcast, confint = gridsearch_timeseriessplit_arima(df_close, n_splits=round(403/14), is_logarithmic=False, with_seasonality=False, test_size=14)"
   ]
  },
  {
   "cell_type": "code",
   "execution_count": 17,
   "id": "9d06f880",
   "metadata": {},
   "outputs": [
    {
     "data": {
      "image/png": "[encoded data removed]",
      "text/plain": [
       "<Figure size 1000x500 with 1 Axes>"
      ]
     },
     "metadata": {},
     "output_type": "display_data"
    }
   ],
   "source": [
    "fig, ax = plt.subplots(figsize=(10, 5))\n",
    "font = {'fontname':'Times New Roman', 'size': 13, 'weight' : 'bold'}\n",
    "ax.plot(true_values, label=\"ETH valós értékei\")\n",
    "ax.plot(fcast, label=\"ETH prediktált értékei\")\n",
    "ax.legend()\n",
    "ax.yaxis.set_major_formatter(\"${x:,.0f}\")\n",
    "ax.set_ylabel(\"ETH napi árfolyama ($)\", **font)\n",
    "ax.set_xlabel(\"dátum\", **font)\n",
    "\n",
    "ax.set_title(\"ARIMA Model (Normal Values) 14 napos előrejelzése - ETH árfolyamára - Validation Set\", **font)\n",
    "plt.savefig(\"charts/forecast/arima_noseasonality_normalval_example.png\")\n",
    "plt.show()"
   ]
  },
  {
   "cell_type": "markdown",
   "id": "1373c575",
   "metadata": {},
   "source": [
    "# _______________________________________________________________"
   ]
  },
  {
   "cell_type": "code",
   "execution_count": null,
   "id": "dd2af3e9",
   "metadata": {},
   "outputs": [],
   "source": []
  },
  {
   "cell_type": "markdown",
   "id": "01223f38",
   "metadata": {},
   "source": [
    "### Without seasonality, Log Values"
   ]
  },
  {
   "cell_type": "markdown",
   "id": "afebdc76",
   "metadata": {},
   "source": [
    "### 1, 3, 7, 14 DAY"
   ]
  },
  {
   "cell_type": "code",
   "execution_count": 19,
   "id": "47c9c008",
   "metadata": {},
   "outputs": [
    {
     "name": "stdout",
     "output_type": "stream",
     "text": [
      "                               SARIMAX Results                                \n",
      "==============================================================================\n",
      "Dep. Variable:                      y   No. Observations:                 2013\n",
      "Model:               SARIMAX(2, 1, 0)   Log Likelihood                3088.204\n",
      "Date:                Sun, 12 Nov 2023   AIC                          -6170.407\n",
      "Time:                        15:15:01   BIC                          -6153.587\n",
      "Sample:                    09-01-2017   HQIC                         -6164.233\n",
      "                         - 03-06-2023                                         \n",
      "Covariance Type:                  opg                                         \n",
      "==============================================================================\n",
      "                 coef    std err          z      P>|z|      [0.025      0.975]\n",
      "------------------------------------------------------------------------------\n",
      "ar.L1         -0.0641      0.015     -4.189      0.000      -0.094      -0.034\n",
      "ar.L2          0.0547      0.020      2.676      0.007       0.015       0.095\n",
      "sigma2         0.0027   3.41e-05     79.768      0.000       0.003       0.003\n",
      "===================================================================================\n",
      "Ljung-Box (L1) (Q):                   0.00   Jarque-Bera (JB):             10380.55\n",
      "Prob(Q):                              0.97   Prob(JB):                         0.00\n",
      "Heteroskedasticity (H):               0.73   Skew:                            -1.05\n",
      "Prob(H) (two-sided):                  0.00   Kurtosis:                        13.93\n",
      "===================================================================================\n",
      "\n",
      "Warnings:\n",
      "[1] Covariance matrix calculated using the outer product of gradients (complex-step).\n",
      "Model tested for 403 splits, test size: 1\n",
      "RMSE: 55.9448\n",
      "MSE: 6430.3401\n",
      "MAE: 55.9448\n",
      "MAPE: 3.0701%\n",
      "---------------\n",
      "                               SARIMAX Results                                \n",
      "==============================================================================\n",
      "Dep. Variable:                      y   No. Observations:                 2011\n",
      "Model:               SARIMAX(2, 1, 0)   Log Likelihood                3084.135\n",
      "Date:                Sun, 12 Nov 2023   AIC                          -6162.269\n",
      "Time:                        15:23:14   BIC                          -6145.452\n",
      "Sample:                    09-01-2017   HQIC                         -6156.096\n",
      "                         - 03-04-2023                                         \n",
      "Covariance Type:                  opg                                         \n",
      "==============================================================================\n",
      "                 coef    std err          z      P>|z|      [0.025      0.975]\n",
      "------------------------------------------------------------------------------\n",
      "ar.L1         -0.0641      0.015     -4.185      0.000      -0.094      -0.034\n",
      "ar.L2          0.0547      0.020      2.674      0.007       0.015       0.095\n",
      "sigma2         0.0027   3.41e-05     79.686      0.000       0.003       0.003\n",
      "===================================================================================\n",
      "Ljung-Box (L1) (Q):                   0.00   Jarque-Bera (JB):             10344.45\n",
      "Prob(Q):                              0.97   Prob(JB):                         0.00\n",
      "Heteroskedasticity (H):               0.74   Skew:                            -1.04\n",
      "Prob(H) (two-sided):                  0.00   Kurtosis:                        13.92\n",
      "===================================================================================\n",
      "\n",
      "Warnings:\n",
      "[1] Covariance matrix calculated using the outer product of gradients (complex-step).\n",
      "Model tested for 134 splits, test size: 3\n",
      "RMSE: 83.7663\n",
      "MSE: 11688.7913\n",
      "MAE: 75.6149\n",
      "MAPE: 4.216%\n",
      "---------------\n",
      "                               SARIMAX Results                                \n",
      "==============================================================================\n",
      "Dep. Variable:                      y   No. Observations:                 2007\n",
      "Model:               SARIMAX(2, 1, 0)   Log Likelihood                3076.733\n",
      "Date:                Sun, 12 Nov 2023   AIC                          -6147.466\n",
      "Time:                        15:26:45   BIC                          -6130.654\n",
      "Sample:                    09-01-2017   HQIC                         -6141.294\n",
      "                         - 02-28-2023                                         \n",
      "Covariance Type:                  opg                                         \n",
      "==============================================================================\n",
      "                 coef    std err          z      P>|z|      [0.025      0.975]\n",
      "------------------------------------------------------------------------------\n",
      "ar.L1         -0.0640      0.015     -4.176      0.000      -0.094      -0.034\n",
      "ar.L2          0.0550      0.020      2.687      0.007       0.015       0.095\n",
      "sigma2         0.0027   3.42e-05     79.582      0.000       0.003       0.003\n",
      "===================================================================================\n",
      "Ljung-Box (L1) (Q):                   0.00   Jarque-Bera (JB):             10311.07\n",
      "Prob(Q):                              0.97   Prob(JB):                         0.00\n",
      "Heteroskedasticity (H):               0.75   Skew:                            -1.05\n",
      "Prob(H) (two-sided):                  0.00   Kurtosis:                        13.91\n",
      "===================================================================================\n",
      "\n",
      "Warnings:\n",
      "[1] Covariance matrix calculated using the outer product of gradients (complex-step).\n",
      "Model tested for 58 splits, test size: 7\n",
      "RMSE: 135.3238\n",
      "MSE: 28499.6126\n",
      "MAE: 119.9621\n",
      "MAPE: 6.5259%\n",
      "---------------\n",
      "                               SARIMAX Results                                \n",
      "==============================================================================\n",
      "Dep. Variable:                      y   No. Observations:                 2000\n",
      "Model:               SARIMAX(2, 1, 0)   Log Likelihood                3062.905\n",
      "Date:                Sun, 12 Nov 2023   AIC                          -6119.811\n",
      "Time:                        15:28:30   BIC                          -6103.010\n",
      "Sample:                    09-01-2017   HQIC                         -6113.642\n",
      "                         - 02-21-2023                                         \n",
      "Covariance Type:                  opg                                         \n",
      "==============================================================================\n",
      "                 coef    std err          z      P>|z|      [0.025      0.975]\n",
      "------------------------------------------------------------------------------\n",
      "ar.L1         -0.0640      0.015     -4.165      0.000      -0.094      -0.034\n",
      "ar.L2          0.0553      0.021      2.690      0.007       0.015       0.096\n",
      "sigma2         0.0027   3.44e-05     79.328      0.000       0.003       0.003\n",
      "===================================================================================\n",
      "Ljung-Box (L1) (Q):                   0.00   Jarque-Bera (JB):             10209.80\n",
      "Prob(Q):                              0.97   Prob(JB):                         0.00\n",
      "Heteroskedasticity (H):               0.75   Skew:                            -1.04\n",
      "Prob(H) (two-sided):                  0.00   Kurtosis:                        13.87\n",
      "===================================================================================\n",
      "\n",
      "Warnings:\n",
      "[1] Covariance matrix calculated using the outer product of gradients (complex-step).\n",
      "Model tested for 29 splits, test size: 14\n",
      "RMSE: 196.7313\n",
      "MSE: 56222.2963\n",
      "MAE: 170.8804\n",
      "MAPE: 9.1974%\n"
     ]
    }
   ],
   "source": [
    "train_pred, true_values, fcast, confint = gridsearch_timeseriessplit_arima(df_close, n_splits=403, is_logarithmic=True, with_seasonality=False, test_size=1)\n",
    "print(\"-\"*15)\n",
    "train_pred, true_values, fcast, confint = gridsearch_timeseriessplit_arima(df_close, n_splits=round(403/3), is_logarithmic=True, with_seasonality=False, test_size=3)\n",
    "print(\"-\"*15)\n",
    "train_pred, true_values, fcast, confint = gridsearch_timeseriessplit_arima(df_close, n_splits=round(403/7), is_logarithmic=True, with_seasonality=False, test_size=7)\n",
    "print(\"-\"*15)\n",
    "train_pred, true_values, fcast, confint = gridsearch_timeseriessplit_arima(df_close, n_splits=round(403/14), is_logarithmic=True, with_seasonality=False, test_size=14)"
   ]
  },
  {
   "cell_type": "code",
   "execution_count": 20,
   "id": "54358c08",
   "metadata": {},
   "outputs": [
    {
     "data": {
      "image/png": "[encoded data removed]",
      "text/plain": [
       "<Figure size 1000x500 with 1 Axes>"
      ]
     },
     "metadata": {},
     "output_type": "display_data"
    }
   ],
   "source": [
    "fig, ax = plt.subplots(figsize=(10, 5))\n",
    "font = {'fontname':'Times New Roman', 'size': 13, 'weight' : 'bold'}\n",
    "ax.plot(true_values, label=\"ETH valós értékei\")\n",
    "ax.plot(fcast, label=\"ETH prediktált értékei\")\n",
    "ax.legend()\n",
    "ax.yaxis.set_major_formatter(\"${x:,.0f}\")\n",
    "ax.set_ylabel(\"ETH napi árfolyama ($)\", **font)\n",
    "ax.set_xlabel(\"dátum\", **font)\n",
    "\n",
    "plt.setp(ax.get_xticklabels(), rotation=30, horizontalalignment='right')\n",
    "ax.set_title(\"ARIMA Model (Log Values) 14 napos előrejelzése - ETH árfolyamára - Validation Set\", **font)\n",
    "plt.savefig(\"charts/forecast/arima_noseasonality_logval_example.png\")\n",
    "plt.show()"
   ]
  },
  {
   "cell_type": "markdown",
   "id": "a814e2e5",
   "metadata": {},
   "source": [
    "# _______________________________________________________________"
   ]
  },
  {
   "cell_type": "code",
   "execution_count": null,
   "id": "42061377",
   "metadata": {},
   "outputs": [],
   "source": []
  },
  {
   "cell_type": "markdown",
   "id": "adae4c46",
   "metadata": {},
   "source": [
    "### With seasonality, Normal Values"
   ]
  },
  {
   "cell_type": "markdown",
   "id": "5c118b8d",
   "metadata": {},
   "source": [
    "### 1, 3, 7, 14 DAY"
   ]
  },
  {
   "cell_type": "code",
   "execution_count": 16,
   "id": "16d06e19",
   "metadata": {},
   "outputs": [
    {
     "name": "stdout",
     "output_type": "stream",
     "text": [
      "                                      SARIMAX Results                                       \n",
      "============================================================================================\n",
      "Dep. Variable:                                    y   No. Observations:                 2013\n",
      "Model:             SARIMAX(1, 1, 0)x(1, 0, [1], 14)   Log Likelihood              -11604.556\n",
      "Date:                              Sun, 12 Nov 2023   AIC                          23217.112\n",
      "Time:                                      22:48:04   BIC                          23239.539\n",
      "Sample:                                  09-01-2017   HQIC                         23225.344\n",
      "                                       - 03-06-2023                                         \n",
      "Covariance Type:                                opg                                         \n",
      "==============================================================================\n",
      "                 coef    std err          z      P>|z|      [0.025      0.975]\n",
      "------------------------------------------------------------------------------\n",
      "ar.L1         -0.0780      0.012     -6.764      0.000      -0.101      -0.055\n",
      "ar.S.L14      -0.7558      0.100     -7.538      0.000      -0.952      -0.559\n",
      "ma.S.L14       0.7160      0.107      6.719      0.000       0.507       0.925\n",
      "sigma2      6011.8728     64.308     93.486      0.000    5885.831    6137.914\n",
      "===================================================================================\n",
      "Ljung-Box (L1) (Q):                   0.00   Jarque-Bera (JB):             27649.57\n",
      "Prob(Q):                              1.00   Prob(JB):                         0.00\n",
      "Heteroskedasticity (H):              15.72   Skew:                            -1.01\n",
      "Prob(H) (two-sided):                  0.00   Kurtosis:                        21.05\n",
      "===================================================================================\n",
      "\n",
      "Warnings:\n",
      "[1] Covariance matrix calculated using the outer product of gradients (complex-step).\n",
      "Model tested for 403 splits, test size: 1\n",
      "RMSE: 55.843\n",
      "MSE: 6420.7454\n",
      "MAE: 55.843\n",
      "MAPE: 3.0661%\n",
      "---------------\n",
      "Progress: 1740\r"
     ]
    },
    {
     "name": "stderr",
     "output_type": "stream",
     "text": [
      "\n",
      "KeyboardInterrupt\n",
      "\n"
     ]
    }
   ],
   "source": [
    "train_pred, true_values, fcast, confint = gridsearch_timeseriessplit_arima(df_close, n_splits=403, is_logarithmic=False, with_seasonality=True, test_size=1)\n",
    "print(\"-\"*15)\n",
    "train_pred, true_values, fcast, confint = gridsearch_timeseriessplit_arima(df_close, n_splits=round(403/3), is_logarithmic=False, with_seasonality=True, test_size=3)\n",
    "print(\"-\"*15)\n",
    "train_pred, true_values, fcast, confint = gridsearch_timeseriessplit_arima(df_close, n_splits=round(403/7), is_logarithmic=False, with_seasonality=True, test_size=7)\n",
    "print(\"-\"*15)\n",
    "train_pred, true_values, fcast, confint = gridsearch_timeseriessplit_arima(df_close, n_splits=round(403/14), is_logarithmic=False, with_seasonality=True, test_size=14)"
   ]
  },
  {
   "cell_type": "code",
   "execution_count": null,
   "id": "1ff936db",
   "metadata": {},
   "outputs": [],
   "source": [
    "fig, ax = plt.subplots(figsize=(10, 5))\n",
    "font = {'fontname':'Times New Roman', 'size': 13, 'weight' : 'bold'}\n",
    "ax.plot(true_values, label=\"ETH valós értékei\")\n",
    "ax.plot(fcast, label=\"ETH prediktált értékei\")\n",
    "ax.legend()\n",
    "ax.yaxis.set_major_formatter(\"${x:,.0f}\")\n",
    "ax.set_ylabel(\"ETH napi árfolyama ($)\", **font)\n",
    "ax.set_xlabel(\"dátum\", **font)\n",
    "\n",
    "plt.setp(ax.get_xticklabels(), rotation=30, horizontalalignment='right')\n",
    "ax.set_title(\"ARIMA Model (Log Values) 14 napos előrejelzése - ETH árfolyamára - Validation Set\", **font)\n",
    "plt.savefig(\"charts/forecast/arima_seasonality_normalval_example.png\")\n",
    "plt.show()"
   ]
  },
  {
   "cell_type": "markdown",
   "id": "12d43c2e",
   "metadata": {},
   "source": [
    "# _______________________________________________________________"
   ]
  },
  {
   "cell_type": "code",
   "execution_count": null,
   "id": "c90e41fb",
   "metadata": {},
   "outputs": [],
   "source": []
  },
  {
   "cell_type": "markdown",
   "id": "e4a98dea",
   "metadata": {},
   "source": [
    "### With seasonality, Log Values"
   ]
  },
  {
   "cell_type": "markdown",
   "id": "54ec5887",
   "metadata": {},
   "source": [
    "### 1, 3, 7, 14 DAY"
   ]
  },
  {
   "cell_type": "code",
   "execution_count": null,
   "id": "0a94ecd8",
   "metadata": {},
   "outputs": [],
   "source": [
    "train_pred, true_values, fcast, confint = gridsearch_timeseriessplit_arima(df_close, n_splits=403, is_logarithmic=True, with_seasonality=True, test_size=1)\n",
    "print(\"-\"*15)\n",
    "train_pred, true_values, fcast, confint = gridsearch_timeseriessplit_arima(df_close, n_splits=round(403/3), is_logarithmic=True, with_seasonality=True, test_size=3)\n",
    "print(\"-\"*15)\n",
    "train_pred, true_values, fcast, confint = gridsearch_timeseriessplit_arima(df_close, n_splits=round(403/7), is_logarithmic=True, with_seasonality=True, test_size=7)\n",
    "print(\"-\"*15)\n",
    "train_pred, true_values, fcast, confint = gridsearch_timeseriessplit_arima(df_close, n_splits=round(403/14), is_logarithmic=True, with_seasonality=True, test_size=14)"
   ]
  },
  {
   "cell_type": "code",
   "execution_count": null,
   "id": "126bb107",
   "metadata": {},
   "outputs": [],
   "source": [
    "fig, ax = plt.subplots(figsize=(10, 5))\n",
    "font = {'fontname':'Times New Roman', 'size': 13, 'weight' : 'bold'}\n",
    "ax.plot(true_values, label=\"ETH valós értékei\")\n",
    "ax.plot(fcast, label=\"ETH prediktált értékei\")\n",
    "ax.legend()\n",
    "ax.yaxis.set_major_formatter(\"${x:,.0f}\")\n",
    "ax.set_ylabel(\"ETH napi árfolyama ($)\", **font)\n",
    "ax.set_xlabel(\"dátum\", **font)\n",
    "\n",
    "plt.setp(ax.get_xticklabels(), rotation=30, horizontalalignment='right')\n",
    "ax.set_title(\"ARIMA Model (Log Values) 14 napos előrejelzése - ETH árfolyamára - Validation Set\", **font)\n",
    "plt.savefig(\"charts/forecast/arima_seasonality_normalval_example.png\")\n",
    "plt.show()"
   ]
  },
  {
   "cell_type": "code",
   "execution_count": null,
   "id": "85915a5e",
   "metadata": {},
   "outputs": [],
   "source": []
  },
  {
   "cell_type": "markdown",
   "id": "6a59e5e4",
   "metadata": {},
   "source": [
    "## Test on Real-World dataset"
   ]
  },
  {
   "cell_type": "markdown",
   "id": "1b6e5717",
   "metadata": {},
   "source": [
    "## 1 day real world prediction"
   ]
  },
  {
   "cell_type": "code",
   "execution_count": null,
   "id": "80ad84b7",
   "metadata": {},
   "outputs": [],
   "source": [
    "import yfinance as yf\n",
    "\n",
    "# Define the ticker symbol\n",
    "tickerSymbol = 'ETH-USD'\n",
    "\n",
    "# Get data for this ticker\n",
    "tickerData = yf.Ticker(tickerSymbol)\n",
    "\n",
    "# Get the historical prices for this ticker\n",
    "tickerDf = tickerData.history(period='1d', start='2023-03-07', end='2023-03-24')\n",
    "\n",
    "eth_current_price = pd.DataFrame(tickerDf)\n"
   ]
  },
  {
   "cell_type": "code",
   "execution_count": null,
   "id": "efd5d5d5",
   "metadata": {},
   "outputs": [],
   "source": [
    "eth_current_price.index = pd.to_datetime(eth_current_price.index)"
   ]
  },
  {
   "cell_type": "code",
   "execution_count": null,
   "id": "edaf279d",
   "metadata": {},
   "outputs": [],
   "source": [
    "eth_current_price[\"2023-03-08\":]"
   ]
  },
  {
   "cell_type": "code",
   "execution_count": null,
   "id": "08d1ee15",
   "metadata": {},
   "outputs": [],
   "source": []
  },
  {
   "cell_type": "code",
   "execution_count": null,
   "id": "6020ac10",
   "metadata": {},
   "outputs": [],
   "source": []
  },
  {
   "cell_type": "code",
   "execution_count": null,
   "id": "ab5306f2",
   "metadata": {},
   "outputs": [],
   "source": [
    "eth_current_price = eth_current_price[pd.to_datetime(\"2023-03-08\"):pd.to_datetime(\"2023-03-08\") + pd.Timedelta(days=0)] ## 1 day"
   ]
  },
  {
   "cell_type": "code",
   "execution_count": null,
   "id": "090d95fe",
   "metadata": {},
   "outputs": [],
   "source": [
    "eth_current_price[\"logclose\"] = np.log(eth_current_price.Close)"
   ]
  },
  {
   "cell_type": "code",
   "execution_count": null,
   "id": "344a6a95",
   "metadata": {},
   "outputs": [],
   "source": [
    "eth_current_price = pd.DataFrame(eth_current_price[[\"Close\", \"logclose\"]])"
   ]
  },
  {
   "cell_type": "code",
   "execution_count": null,
   "id": "922e1356",
   "metadata": {},
   "outputs": [],
   "source": [
    "eth_current_price.rename(columns={\"Close\": \"eth_close\"}, inplace=True)"
   ]
  },
  {
   "cell_type": "code",
   "execution_count": null,
   "id": "edb2a5ba",
   "metadata": {},
   "outputs": [],
   "source": [
    "eth_current_price.head()"
   ]
  },
  {
   "cell_type": "code",
   "execution_count": null,
   "id": "47ad5e23",
   "metadata": {},
   "outputs": [],
   "source": [
    "train = df_close.copy()"
   ]
  },
  {
   "cell_type": "code",
   "execution_count": null,
   "id": "ba9f5a3e",
   "metadata": {},
   "outputs": [],
   "source": [
    "model = pm.auto_arima(train[\"eth_close\"],\n",
    "          error_action=\"ignore\",\n",
    "          suppress_warnings=True,\n",
    "          maxiter=10,\n",
    "          seasonal=False,\n",
    "          n_jobs=-1)"
   ]
  },
  {
   "cell_type": "code",
   "execution_count": null,
   "id": "bb3c1e5a",
   "metadata": {},
   "outputs": [],
   "source": [
    "eth_current_price[\"prediction\"] = model.predict(n_periods=len(eth_current_price))"
   ]
  },
  {
   "cell_type": "code",
   "execution_count": null,
   "id": "730dba98",
   "metadata": {},
   "outputs": [],
   "source": [
    "## Validation Root Mean Squared Error\n",
    "mean_squared_error(eth_current_price['eth_close'], eth_current_price[\"prediction\"], squared=False)"
   ]
  },
  {
   "cell_type": "code",
   "execution_count": null,
   "id": "6d693177",
   "metadata": {},
   "outputs": [],
   "source": [
    "## Validation Mean Squared Error\n",
    "mean_squared_error(eth_current_price['eth_close'], eth_current_price[\"prediction\"], squared=True)"
   ]
  },
  {
   "cell_type": "code",
   "execution_count": null,
   "id": "e89d48d4",
   "metadata": {},
   "outputs": [],
   "source": [
    "## Validation Mean Absolute Error\n",
    "mean_absolute_error(eth_current_price['eth_close'], eth_current_price[\"prediction\"])"
   ]
  },
  {
   "cell_type": "code",
   "execution_count": null,
   "id": "9a7f0abc",
   "metadata": {},
   "outputs": [],
   "source": [
    "## Validation Mean Absolute Percentage Error\n",
    "mean_absolute_percentage_error(eth_current_price['eth_close'], eth_current_price[\"prediction\"])"
   ]
  },
  {
   "cell_type": "code",
   "execution_count": null,
   "id": "09449c32",
   "metadata": {},
   "outputs": [],
   "source": []
  },
  {
   "cell_type": "markdown",
   "id": "6322d71e",
   "metadata": {},
   "source": [
    "## 3 day real world prediction"
   ]
  },
  {
   "cell_type": "code",
   "execution_count": null,
   "id": "2254e84e",
   "metadata": {},
   "outputs": [],
   "source": [
    "import yfinance as yf\n",
    "\n",
    "# Define the ticker symbol\n",
    "tickerSymbol = 'ETH-USD'\n",
    "\n",
    "# Get data for this ticker\n",
    "tickerData = yf.Ticker(tickerSymbol)\n",
    "\n",
    "# Get the historical prices for this ticker\n",
    "tickerDf = tickerData.history(period='1d', start='2023-03-07', end='2023-03-24')\n",
    "\n",
    "eth_current_price = pd.DataFrame(tickerDf)\n"
   ]
  },
  {
   "cell_type": "code",
   "execution_count": null,
   "id": "525cc460",
   "metadata": {},
   "outputs": [],
   "source": [
    "eth_current_price.index = pd.to_datetime(eth_current_price.index)"
   ]
  },
  {
   "cell_type": "code",
   "execution_count": null,
   "id": "1ec463d1",
   "metadata": {},
   "outputs": [],
   "source": [
    "eth_current_price = eth_current_price[pd.to_datetime(\"2023-03-08\"):pd.to_datetime(\"2023-03-08\") + pd.Timedelta(days=2)] ## 3 day"
   ]
  },
  {
   "cell_type": "code",
   "execution_count": null,
   "id": "f70004d1",
   "metadata": {},
   "outputs": [],
   "source": [
    "eth_current_price[\"logclose\"] = np.log(eth_current_price.Close)"
   ]
  },
  {
   "cell_type": "code",
   "execution_count": null,
   "id": "f4010b8d",
   "metadata": {},
   "outputs": [],
   "source": [
    "eth_current_price = pd.DataFrame(eth_current_price[[\"Close\", \"logclose\"]])"
   ]
  },
  {
   "cell_type": "code",
   "execution_count": null,
   "id": "08b841da",
   "metadata": {},
   "outputs": [],
   "source": [
    "eth_current_price.rename(columns={\"Close\": \"eth_close\"}, inplace=True)"
   ]
  },
  {
   "cell_type": "code",
   "execution_count": null,
   "id": "1901bf2a",
   "metadata": {},
   "outputs": [],
   "source": [
    "eth_current_price.head()"
   ]
  },
  {
   "cell_type": "code",
   "execution_count": null,
   "id": "bcb440c5",
   "metadata": {},
   "outputs": [],
   "source": [
    "train = df_close.copy()"
   ]
  },
  {
   "cell_type": "code",
   "execution_count": null,
   "id": "b59a4ef3",
   "metadata": {},
   "outputs": [],
   "source": [
    "model = pm.auto_arima(train[\"eth_close\"],\n",
    "          error_action=\"ignore\",\n",
    "          suppress_warnings=True,\n",
    "          maxiter=10,\n",
    "          seasonal=False,\n",
    "          n_jobs=-1)"
   ]
  },
  {
   "cell_type": "code",
   "execution_count": null,
   "id": "82e7c26f",
   "metadata": {},
   "outputs": [],
   "source": [
    "eth_current_price[\"prediction\"] = model.predict(n_periods=len(eth_current_price))"
   ]
  },
  {
   "cell_type": "code",
   "execution_count": null,
   "id": "ee3827eb",
   "metadata": {},
   "outputs": [],
   "source": [
    "## Validation Root Mean Squared Error\n",
    "mean_squared_error(eth_current_price['eth_close'], eth_current_price[\"prediction\"], squared=False)"
   ]
  },
  {
   "cell_type": "code",
   "execution_count": null,
   "id": "3d212f27",
   "metadata": {},
   "outputs": [],
   "source": [
    "## Validation Mean Squared Error\n",
    "mean_squared_error(eth_current_price['eth_close'], eth_current_price[\"prediction\"], squared=True)"
   ]
  },
  {
   "cell_type": "code",
   "execution_count": null,
   "id": "b9b567c6",
   "metadata": {},
   "outputs": [],
   "source": [
    "## Validation Mean Absolute Error\n",
    "mean_absolute_error(eth_current_price['eth_close'], eth_current_price[\"prediction\"])"
   ]
  },
  {
   "cell_type": "code",
   "execution_count": null,
   "id": "5d864631",
   "metadata": {},
   "outputs": [],
   "source": [
    "## Validation Mean Absolute Percentage Error\n",
    "mean_absolute_percentage_error(eth_current_price['eth_close'], eth_current_price[\"prediction\"])"
   ]
  },
  {
   "cell_type": "code",
   "execution_count": null,
   "id": "a563c685",
   "metadata": {},
   "outputs": [],
   "source": []
  },
  {
   "cell_type": "markdown",
   "id": "aa7eb57f",
   "metadata": {},
   "source": [
    "## 7 day real world prediction"
   ]
  },
  {
   "cell_type": "code",
   "execution_count": null,
   "id": "a1fdab60",
   "metadata": {},
   "outputs": [],
   "source": [
    "import yfinance as yf\n",
    "\n",
    "# Define the ticker symbol\n",
    "tickerSymbol = 'ETH-USD'\n",
    "\n",
    "# Get data for this ticker\n",
    "tickerData = yf.Ticker(tickerSymbol)\n",
    "\n",
    "# Get the historical prices for this ticker\n",
    "tickerDf = tickerData.history(period='1d', start='2023-03-07', end='2023-03-24')\n",
    "eth_current_price = pd.DataFrame(tickerDf)\n"
   ]
  },
  {
   "cell_type": "code",
   "execution_count": null,
   "id": "25b99187",
   "metadata": {},
   "outputs": [],
   "source": [
    "eth_current_price.index = pd.to_datetime(eth_current_price.index)"
   ]
  },
  {
   "cell_type": "code",
   "execution_count": null,
   "id": "30e89deb",
   "metadata": {},
   "outputs": [],
   "source": [
    "eth_current_price = eth_current_price[pd.to_datetime(\"2023-03-08\"):pd.to_datetime(\"2023-03-08\") + pd.Timedelta(days=6)] ## 1 day"
   ]
  },
  {
   "cell_type": "code",
   "execution_count": null,
   "id": "d66f7b0d",
   "metadata": {},
   "outputs": [],
   "source": [
    "eth_current_price[\"logclose\"] = np.log(eth_current_price.Close)"
   ]
  },
  {
   "cell_type": "code",
   "execution_count": null,
   "id": "361a6aa0",
   "metadata": {},
   "outputs": [],
   "source": [
    "eth_current_price = pd.DataFrame(eth_current_price[[\"Close\", \"logclose\"]])"
   ]
  },
  {
   "cell_type": "code",
   "execution_count": null,
   "id": "3a3d314c",
   "metadata": {},
   "outputs": [],
   "source": [
    "eth_current_price.rename(columns={\"Close\": \"eth_close\"}, inplace=True)"
   ]
  },
  {
   "cell_type": "code",
   "execution_count": null,
   "id": "44842ef0",
   "metadata": {},
   "outputs": [],
   "source": [
    "eth_current_price.head()"
   ]
  },
  {
   "cell_type": "code",
   "execution_count": null,
   "id": "e994a756",
   "metadata": {},
   "outputs": [],
   "source": [
    "train = df_close.copy()"
   ]
  },
  {
   "cell_type": "code",
   "execution_count": null,
   "id": "e5c1caf9",
   "metadata": {},
   "outputs": [],
   "source": [
    "model = pm.auto_arima(train[\"eth_close\"],\n",
    "          error_action=\"ignore\",\n",
    "          suppress_warnings=True,\n",
    "          maxiter=10,\n",
    "          seasonal=False,\n",
    "          n_jobs=-1)"
   ]
  },
  {
   "cell_type": "code",
   "execution_count": null,
   "id": "47221d58",
   "metadata": {},
   "outputs": [],
   "source": [
    "eth_current_price[\"prediction\"] = model.predict(n_periods=len(eth_current_price))"
   ]
  },
  {
   "cell_type": "code",
   "execution_count": null,
   "id": "f42dc387",
   "metadata": {},
   "outputs": [],
   "source": [
    "## Validation Root Mean Squared Error\n",
    "mean_squared_error(eth_current_price['eth_close'], eth_current_price[\"prediction\"], squared=False)"
   ]
  },
  {
   "cell_type": "code",
   "execution_count": null,
   "id": "a97d3bfb",
   "metadata": {},
   "outputs": [],
   "source": [
    "## Validation Mean Squared Error\n",
    "mean_squared_error(eth_current_price['eth_close'], eth_current_price[\"prediction\"], squared=True)"
   ]
  },
  {
   "cell_type": "code",
   "execution_count": null,
   "id": "a9c7fd07",
   "metadata": {},
   "outputs": [],
   "source": [
    "## Validation Mean Absolute Error\n",
    "mean_absolute_error(eth_current_price['eth_close'], eth_current_price[\"prediction\"])"
   ]
  },
  {
   "cell_type": "code",
   "execution_count": null,
   "id": "da223bc7",
   "metadata": {},
   "outputs": [],
   "source": [
    "## Validation Mean Absolute Percentage Error\n",
    "mean_absolute_percentage_error(eth_current_price['eth_close'], eth_current_price[\"prediction\"])"
   ]
  },
  {
   "cell_type": "code",
   "execution_count": null,
   "id": "611fb49c",
   "metadata": {},
   "outputs": [],
   "source": []
  },
  {
   "cell_type": "markdown",
   "id": "882d8fc6",
   "metadata": {},
   "source": [
    "## 14 day real world prediction"
   ]
  },
  {
   "cell_type": "code",
   "execution_count": null,
   "id": "11b98e13",
   "metadata": {},
   "outputs": [],
   "source": [
    "import yfinance as yf\n",
    "\n",
    "# Define the ticker symbol\n",
    "tickerSymbol = 'ETH-USD'\n",
    "\n",
    "# Get data for this ticker\n",
    "tickerData = yf.Ticker(tickerSymbol)\n",
    "\n",
    "# Get the historical prices for this ticker\n",
    "tickerDf = tickerData.history(period='1d', start='2023-03-07', end='2023-03-24')\n",
    "\n",
    "eth_current_price = pd.DataFrame(tickerDf)\n"
   ]
  },
  {
   "cell_type": "code",
   "execution_count": null,
   "id": "81c714c7",
   "metadata": {},
   "outputs": [],
   "source": [
    "eth_current_price.index = pd.to_datetime(eth_current_price.index)"
   ]
  },
  {
   "cell_type": "code",
   "execution_count": null,
   "id": "b3003f3a",
   "metadata": {},
   "outputs": [],
   "source": [
    "eth_current_price = eth_current_price[pd.to_datetime(\"2023-03-08\"):pd.to_datetime(\"2023-03-08\") + pd.Timedelta(days=13)] ## 1 day"
   ]
  },
  {
   "cell_type": "code",
   "execution_count": null,
   "id": "6f1ff3da",
   "metadata": {},
   "outputs": [],
   "source": [
    "eth_current_price[\"logclose\"] = np.log(eth_current_price.Close)"
   ]
  },
  {
   "cell_type": "code",
   "execution_count": null,
   "id": "f8943f63",
   "metadata": {},
   "outputs": [],
   "source": [
    "eth_current_price = pd.DataFrame(eth_current_price[[\"Close\", \"logclose\"]])"
   ]
  },
  {
   "cell_type": "code",
   "execution_count": null,
   "id": "015a3a14",
   "metadata": {},
   "outputs": [],
   "source": [
    "eth_current_price.rename(columns={\"Close\": \"eth_close\"}, inplace=True)"
   ]
  },
  {
   "cell_type": "code",
   "execution_count": null,
   "id": "f17f396f",
   "metadata": {},
   "outputs": [],
   "source": [
    "eth_current_price.head()"
   ]
  },
  {
   "cell_type": "code",
   "execution_count": null,
   "id": "b36345b4",
   "metadata": {},
   "outputs": [],
   "source": [
    "train = df_close.copy()"
   ]
  },
  {
   "cell_type": "code",
   "execution_count": null,
   "id": "e0488538",
   "metadata": {},
   "outputs": [],
   "source": [
    "model = pm.auto_arima(train[\"eth_close\"],\n",
    "          error_action=\"ignore\",\n",
    "          suppress_warnings=True,\n",
    "          maxiter=10,\n",
    "          seasonal=False,\n",
    "          n_jobs=-1)"
   ]
  },
  {
   "cell_type": "code",
   "execution_count": null,
   "id": "293131c0",
   "metadata": {},
   "outputs": [],
   "source": [
    "eth_current_price[\"prediction\"] = model.predict(n_periods=len(eth_current_price))"
   ]
  },
  {
   "cell_type": "code",
   "execution_count": null,
   "id": "6f4e6c75",
   "metadata": {},
   "outputs": [],
   "source": [
    "## Validation Root Mean Squared Error\n",
    "mean_squared_error(eth_current_price['eth_close'], eth_current_price[\"prediction\"], squared=False)"
   ]
  },
  {
   "cell_type": "code",
   "execution_count": null,
   "id": "283c3781",
   "metadata": {},
   "outputs": [],
   "source": [
    "## Validation Mean Squared Error\n",
    "mean_squared_error(eth_current_price['eth_close'], eth_current_price[\"prediction\"], squared=True)"
   ]
  },
  {
   "cell_type": "code",
   "execution_count": null,
   "id": "5b5747a9",
   "metadata": {},
   "outputs": [],
   "source": [
    "## Validation Mean Absolute Error\n",
    "mean_absolute_error(eth_current_price['eth_close'], eth_current_price[\"prediction\"])"
   ]
  },
  {
   "cell_type": "code",
   "execution_count": null,
   "id": "af9e9684",
   "metadata": {},
   "outputs": [],
   "source": [
    "## Validation Mean Absolute Percentage Error\n",
    "mean_absolute_percentage_error(eth_current_price['eth_close'], eth_current_price[\"prediction\"])"
   ]
  },
  {
   "cell_type": "code",
   "execution_count": null,
   "id": "601b9aea",
   "metadata": {},
   "outputs": [],
   "source": [
    "fig, ax = plt.subplots(figsize=(10, 5))\n",
    "font = {'fontname':'Times New Roman', 'size': 13, 'weight' : 'bold'}\n",
    "ax.plot(eth_current_price['eth_close'], label=\"ETH valós értékei\")\n",
    "ax.plot( eth_current_price[\"prediction\"], label=\"ETH prediktált értékei\")\n",
    "ax.legend()\n",
    "ax.yaxis.set_major_formatter(\"${x:,.0f}\")\n",
    "ax.set_ylabel(\"ETH napi árfolyama ($)\", **font)\n",
    "ax.set_xlabel(\"dátum\", **font)\n",
    "\n",
    "plt.setp(ax.get_xticklabels(), rotation=30, horizontalalignment='right')\n",
    "ax.set_title(\"ARIMA Model (Log Values) 14 napos előrejelzése - ETH árfolyamára - Test Set\", **font)\n",
    "plt.savefig(\"charts/forecast/arima_realworld_example.png\")\n",
    "plt.show()"
   ]
  },
  {
   "cell_type": "code",
   "execution_count": null,
   "id": "4f8f6787",
   "metadata": {},
   "outputs": [],
   "source": []
  },
  {
   "cell_type": "markdown",
   "id": "df9b9086",
   "metadata": {},
   "source": [
    "## With exogeneous features (but it can't be applied on crypto era)"
   ]
  },
  {
   "cell_type": "code",
   "execution_count": null,
   "id": "7a3e9ea8",
   "metadata": {},
   "outputs": [],
   "source": [
    "test_size = 400 ## 20% of total dataset\n",
    "train = df.iloc[:-test_size][\"log_close\"]\n",
    "test = df.iloc[-test_size:][\"log_close\"]"
   ]
  },
  {
   "cell_type": "code",
   "execution_count": null,
   "id": "64584004",
   "metadata": {},
   "outputs": [],
   "source": [
    "model = pm.auto_arima(y=train.eth_close, X=train.drop([\"eth_close\"], axis=1),\n",
    "                      error_action=\"ignore\",\n",
    "                      trace=True,\n",
    "                      suppress_warnings=True,\n",
    "                      maxiter=10,\n",
    "                      seasonal=False)"
   ]
  },
  {
   "cell_type": "code",
   "execution_count": null,
   "id": "48faa9e9",
   "metadata": {
    "scrolled": false
   },
   "outputs": [],
   "source": [
    "model.summary()"
   ]
  },
  {
   "cell_type": "code",
   "execution_count": null,
   "id": "b92c0968",
   "metadata": {
    "scrolled": true
   },
   "outputs": [],
   "source": [
    "test.head()"
   ]
  },
  {
   "cell_type": "code",
   "execution_count": null,
   "id": "04e0c11e",
   "metadata": {},
   "outputs": [],
   "source": [
    "def plot_test(model, test):\n",
    "    test_pred = model.predict(X = test.drop(\"eth_close\", axis=1), n_periods=test_size)\n",
    "\n",
    "    fig, ax = plt.subplots(figsize=(10, 5))\n",
    "    ax.plot(test.index, test.eth_close, label='true')\n",
    "    ax.plot(test.index, test_pred.values, label='forecast')\n",
    "    ax.legend();"
   ]
  },
  {
   "cell_type": "code",
   "execution_count": null,
   "id": "8668f83a",
   "metadata": {},
   "outputs": [],
   "source": [
    "plot_test(model, test)"
   ]
  },
  {
   "cell_type": "code",
   "execution_count": null,
   "id": "eb58dd48",
   "metadata": {},
   "outputs": [],
   "source": [
    "def rmse(y, t):\n",
    "    return np.sqrt(np.mean((t - y)**2))"
   ]
  },
  {
   "cell_type": "code",
   "execution_count": null,
   "id": "3b38ff2e",
   "metadata": {},
   "outputs": [],
   "source": [
    "print(\"RMSE ARIMA:\", rmse(model.predict(X = test.drop(\"eth_close\", axis=1), n_periods=test_size), test.eth_close))"
   ]
  },
  {
   "cell_type": "code",
   "execution_count": null,
   "id": "0e810154",
   "metadata": {},
   "outputs": [],
   "source": []
  },
  {
   "cell_type": "code",
   "execution_count": null,
   "id": "0e410eee",
   "metadata": {},
   "outputs": [],
   "source": []
  },
  {
   "cell_type": "code",
   "execution_count": null,
   "id": "656451b9",
   "metadata": {},
   "outputs": [],
   "source": []
  }
 ],
 "metadata": {
  "kernelspec": {
   "display_name": "Python 3 (ipykernel)",
   "language": "python",
   "name": "python3"
  },
  "language_info": {
   "codemirror_mode": {
    "name": "ipython",
    "version": 3
   },
   "file_extension": ".py",
   "mimetype": "text/x-python",
   "name": "python",
   "nbconvert_exporter": "python",
   "pygments_lexer": "ipython3",
   "version": "3.10.7"
  }
 },
 "nbformat": 4,
 "nbformat_minor": 5
}
