{
 "cells": [
  {
   "cell_type": "code",
   "execution_count": 1,
   "id": "65b15dec",
   "metadata": {},
   "outputs": [],
   "source": [
    "import pandas as pd\n",
    "import numpy as np\n",
    "import matplotlib.pyplot as plt\n",
    "import yfinance as yf\n",
    "import seaborn as sns\n",
    "import datetime as dt\n",
    "import os\n",
    "import json\n",
    "import pandas as pd\n",
    "import seaborn as sb\n",
    "\n",
    "from datetime import datetime, timedelta\n",
    "from functions import weighted_avg\n",
    "from functions import calculate_macd, calculate_rsi, calculate_smi, calculate_ma, \n",
    "from functions import calculate_ema, calculate_obv, calculate_mfi, calculate_bollinger_bands"
   ]
  },
  {
   "cell_type": "code",
   "execution_count": 2,
   "id": "a3d48d1d",
   "metadata": {},
   "outputs": [],
   "source": [
    "plt.rcParams[\"figure.figsize\"] = (16, 8)"
   ]
  },
  {
   "cell_type": "markdown",
   "id": "9a0118d4",
   "metadata": {},
   "source": [
    "## Section I. - ETH price, BTC, S&P500, Nasdaq, etc."
   ]
  },
  {
   "cell_type": "markdown",
   "id": "05c31675",
   "metadata": {},
   "source": [
    "### ETH daily dataframe"
   ]
  },
  {
   "cell_type": "markdown",
   "id": "cdd299ab",
   "metadata": {},
   "source": [
    "#### Data information: \n",
    "    1499040000000,      // Open time\n",
    "    0.01634790,       // Open\n",
    "    0.80000000,       // High\n",
    "    0.01575800,       // Low\n",
    "    0.01577100,       // Close\n",
    "    148976.11427815,  // Volume (in base asset ETH)\n",
    "    1499644799999,      // Close time\n",
    "    2434.19055334,    // Quote asset volume (in quote asset USDT)\n",
    "    308,                // Number of trades\n",
    "    1756.87402397,    // Taker buy base asset volume\n",
    "    28.46694368,      // Taker buy quote asset volume\n",
    "    17928899.62484339 // Ignore"
   ]
  },
  {
   "cell_type": "code",
   "execution_count": 3,
   "id": "dfc64d96",
   "metadata": {},
   "outputs": [],
   "source": [
    "df_eth = pd.read_csv(\"src/section1/daily/eth/ethereum_daily_df.csv\")"
   ]
  },
  {
   "cell_type": "code",
   "execution_count": 4,
   "id": "4fbd253e",
   "metadata": {},
   "outputs": [],
   "source": [
    "df_eth.index = [dt.datetime.fromtimestamp(x/1000.0).date() for x in df_eth.datetime]"
   ]
  },
  {
   "cell_type": "code",
   "execution_count": 5,
   "id": "c7ca987a",
   "metadata": {},
   "outputs": [],
   "source": [
    "df_eth.drop(columns=[\"ignore\", \"datetime\",\"close_time\"], inplace=True)"
   ]
  },
  {
   "cell_type": "code",
   "execution_count": 6,
   "id": "51826f4e",
   "metadata": {},
   "outputs": [],
   "source": [
    "df_eth.drop([dt.datetime.strptime(\"2023-03-08\", \"%Y-%m-%d\")], inplace=True)"
   ]
  },
  {
   "cell_type": "code",
   "execution_count": 7,
   "id": "4fee9029",
   "metadata": {
    "scrolled": true
   },
   "outputs": [
    {
     "data": {
      "text/html": [
       "<div>\n",
       "<style scoped>\n",
       "    .dataframe tbody tr th:only-of-type {\n",
       "        vertical-align: middle;\n",
       "    }\n",
       "\n",
       "    .dataframe tbody tr th {\n",
       "        vertical-align: top;\n",
       "    }\n",
       "\n",
       "    .dataframe thead th {\n",
       "        text-align: right;\n",
       "    }\n",
       "</style>\n",
       "<table border=\"1\" class=\"dataframe\">\n",
       "  <thead>\n",
       "    <tr style=\"text-align: right;\">\n",
       "      <th></th>\n",
       "      <th>open</th>\n",
       "      <th>high</th>\n",
       "      <th>low</th>\n",
       "      <th>close</th>\n",
       "      <th>volume</th>\n",
       "      <th>qav</th>\n",
       "      <th>num_trades</th>\n",
       "      <th>taker_base_vol</th>\n",
       "      <th>taker_quote_vol</th>\n",
       "    </tr>\n",
       "  </thead>\n",
       "  <tbody>\n",
       "    <tr>\n",
       "      <th>2023-03-03</th>\n",
       "      <td>1647.86</td>\n",
       "      <td>1649.25</td>\n",
       "      <td>1544.39</td>\n",
       "      <td>1569.45</td>\n",
       "      <td>742816.5976</td>\n",
       "      <td>1.166574e+09</td>\n",
       "      <td>1008133.0</td>\n",
       "      <td>356042.8657</td>\n",
       "      <td>5.589188e+08</td>\n",
       "    </tr>\n",
       "    <tr>\n",
       "      <th>2023-03-04</th>\n",
       "      <td>1569.45</td>\n",
       "      <td>1577.53</td>\n",
       "      <td>1549.12</td>\n",
       "      <td>1566.73</td>\n",
       "      <td>237640.2606</td>\n",
       "      <td>3.718656e+08</td>\n",
       "      <td>442158.0</td>\n",
       "      <td>114523.6396</td>\n",
       "      <td>1.792425e+08</td>\n",
       "    </tr>\n",
       "    <tr>\n",
       "      <th>2023-03-05</th>\n",
       "      <td>1566.74</td>\n",
       "      <td>1588.77</td>\n",
       "      <td>1553.05</td>\n",
       "      <td>1564.58</td>\n",
       "      <td>299240.7415</td>\n",
       "      <td>4.697291e+08</td>\n",
       "      <td>505034.0</td>\n",
       "      <td>146252.8571</td>\n",
       "      <td>2.295863e+08</td>\n",
       "    </tr>\n",
       "    <tr>\n",
       "      <th>2023-03-06</th>\n",
       "      <td>1564.57</td>\n",
       "      <td>1583.49</td>\n",
       "      <td>1554.44</td>\n",
       "      <td>1565.84</td>\n",
       "      <td>307709.3011</td>\n",
       "      <td>4.821468e+08</td>\n",
       "      <td>495130.0</td>\n",
       "      <td>151429.2666</td>\n",
       "      <td>2.373157e+08</td>\n",
       "    </tr>\n",
       "    <tr>\n",
       "      <th>2023-03-07</th>\n",
       "      <td>1565.84</td>\n",
       "      <td>1584.49</td>\n",
       "      <td>1536.14</td>\n",
       "      <td>1561.96</td>\n",
       "      <td>437947.9032</td>\n",
       "      <td>6.828656e+08</td>\n",
       "      <td>601157.0</td>\n",
       "      <td>222838.1714</td>\n",
       "      <td>3.474979e+08</td>\n",
       "    </tr>\n",
       "  </tbody>\n",
       "</table>\n",
       "</div>"
      ],
      "text/plain": [
       "               open     high      low    close       volume           qav  \\\n",
       "2023-03-03  1647.86  1649.25  1544.39  1569.45  742816.5976  1.166574e+09   \n",
       "2023-03-04  1569.45  1577.53  1549.12  1566.73  237640.2606  3.718656e+08   \n",
       "2023-03-05  1566.74  1588.77  1553.05  1564.58  299240.7415  4.697291e+08   \n",
       "2023-03-06  1564.57  1583.49  1554.44  1565.84  307709.3011  4.821468e+08   \n",
       "2023-03-07  1565.84  1584.49  1536.14  1561.96  437947.9032  6.828656e+08   \n",
       "\n",
       "            num_trades  taker_base_vol  taker_quote_vol  \n",
       "2023-03-03   1008133.0     356042.8657     5.589188e+08  \n",
       "2023-03-04    442158.0     114523.6396     1.792425e+08  \n",
       "2023-03-05    505034.0     146252.8571     2.295863e+08  \n",
       "2023-03-06    495130.0     151429.2666     2.373157e+08  \n",
       "2023-03-07    601157.0     222838.1714     3.474979e+08  "
      ]
     },
     "execution_count": 7,
     "metadata": {},
     "output_type": "execute_result"
    }
   ],
   "source": [
    "df_eth.tail()"
   ]
  },
  {
   "cell_type": "code",
   "execution_count": null,
   "id": "42da5dae",
   "metadata": {},
   "outputs": [],
   "source": []
  },
  {
   "cell_type": "markdown",
   "id": "88d71eb3",
   "metadata": {},
   "source": [
    "### BTC\n",
    "\n",
    "- price daily"
   ]
  },
  {
   "cell_type": "code",
   "execution_count": 8,
   "id": "d700f3b1",
   "metadata": {},
   "outputs": [],
   "source": [
    "df_btc = pd.read_csv(\"src/section1/daily/btc/btc_daily_df.csv\")"
   ]
  },
  {
   "cell_type": "code",
   "execution_count": 9,
   "id": "7ad8440b",
   "metadata": {},
   "outputs": [],
   "source": [
    "df_btc.index = [dt.datetime.fromtimestamp(x/1000.0).date() for x in df_btc.datetime]"
   ]
  },
  {
   "cell_type": "code",
   "execution_count": 10,
   "id": "61f8f4c6",
   "metadata": {},
   "outputs": [],
   "source": [
    "df_btc.drop(columns=[\"ignore\", \"datetime\",\"close_time\"], inplace=True)"
   ]
  },
  {
   "cell_type": "code",
   "execution_count": 11,
   "id": "ad3b8caf",
   "metadata": {},
   "outputs": [],
   "source": [
    "df_btc.drop([dt.datetime.strptime(\"2023-03-08\", \"%Y-%m-%d\")], inplace=True)"
   ]
  },
  {
   "cell_type": "code",
   "execution_count": 12,
   "id": "9c6901d1",
   "metadata": {
    "scrolled": true
   },
   "outputs": [
    {
     "data": {
      "text/html": [
       "<div>\n",
       "<style scoped>\n",
       "    .dataframe tbody tr th:only-of-type {\n",
       "        vertical-align: middle;\n",
       "    }\n",
       "\n",
       "    .dataframe tbody tr th {\n",
       "        vertical-align: top;\n",
       "    }\n",
       "\n",
       "    .dataframe thead th {\n",
       "        text-align: right;\n",
       "    }\n",
       "</style>\n",
       "<table border=\"1\" class=\"dataframe\">\n",
       "  <thead>\n",
       "    <tr style=\"text-align: right;\">\n",
       "      <th></th>\n",
       "      <th>open</th>\n",
       "      <th>high</th>\n",
       "      <th>low</th>\n",
       "      <th>close</th>\n",
       "      <th>volume</th>\n",
       "      <th>qav</th>\n",
       "      <th>num_trades</th>\n",
       "      <th>taker_base_vol</th>\n",
       "      <th>taker_quote_vol</th>\n",
       "    </tr>\n",
       "  </thead>\n",
       "  <tbody>\n",
       "    <tr>\n",
       "      <th>2023-03-03</th>\n",
       "      <td>23465.32</td>\n",
       "      <td>23476.95</td>\n",
       "      <td>21971.13</td>\n",
       "      <td>22354.34</td>\n",
       "      <td>319954.19785</td>\n",
       "      <td>7.167185e+09</td>\n",
       "      <td>8214639.0</td>\n",
       "      <td>156827.31366</td>\n",
       "      <td>3.512245e+09</td>\n",
       "    </tr>\n",
       "    <tr>\n",
       "      <th>2023-03-04</th>\n",
       "      <td>22354.34</td>\n",
       "      <td>22410.00</td>\n",
       "      <td>22157.08</td>\n",
       "      <td>22346.57</td>\n",
       "      <td>121257.38132</td>\n",
       "      <td>2.706423e+09</td>\n",
       "      <td>4169260.0</td>\n",
       "      <td>60043.33153</td>\n",
       "      <td>1.340205e+09</td>\n",
       "    </tr>\n",
       "    <tr>\n",
       "      <th>2023-03-05</th>\n",
       "      <td>22346.57</td>\n",
       "      <td>22662.09</td>\n",
       "      <td>22189.22</td>\n",
       "      <td>22430.24</td>\n",
       "      <td>154841.75786</td>\n",
       "      <td>3.473011e+09</td>\n",
       "      <td>4835978.0</td>\n",
       "      <td>77394.35765</td>\n",
       "      <td>1.735989e+09</td>\n",
       "    </tr>\n",
       "    <tr>\n",
       "      <th>2023-03-06</th>\n",
       "      <td>22430.24</td>\n",
       "      <td>22602.19</td>\n",
       "      <td>22258.00</td>\n",
       "      <td>22410.00</td>\n",
       "      <td>203751.82957</td>\n",
       "      <td>4.569102e+09</td>\n",
       "      <td>6471278.0</td>\n",
       "      <td>102110.26304</td>\n",
       "      <td>2.289889e+09</td>\n",
       "    </tr>\n",
       "    <tr>\n",
       "      <th>2023-03-07</th>\n",
       "      <td>22409.41</td>\n",
       "      <td>22557.91</td>\n",
       "      <td>21927.00</td>\n",
       "      <td>22197.96</td>\n",
       "      <td>292519.80912</td>\n",
       "      <td>6.517595e+09</td>\n",
       "      <td>7813394.0</td>\n",
       "      <td>145498.64219</td>\n",
       "      <td>3.242137e+09</td>\n",
       "    </tr>\n",
       "  </tbody>\n",
       "</table>\n",
       "</div>"
      ],
      "text/plain": [
       "                open      high       low     close        volume  \\\n",
       "2023-03-03  23465.32  23476.95  21971.13  22354.34  319954.19785   \n",
       "2023-03-04  22354.34  22410.00  22157.08  22346.57  121257.38132   \n",
       "2023-03-05  22346.57  22662.09  22189.22  22430.24  154841.75786   \n",
       "2023-03-06  22430.24  22602.19  22258.00  22410.00  203751.82957   \n",
       "2023-03-07  22409.41  22557.91  21927.00  22197.96  292519.80912   \n",
       "\n",
       "                     qav  num_trades  taker_base_vol  taker_quote_vol  \n",
       "2023-03-03  7.167185e+09   8214639.0    156827.31366     3.512245e+09  \n",
       "2023-03-04  2.706423e+09   4169260.0     60043.33153     1.340205e+09  \n",
       "2023-03-05  3.473011e+09   4835978.0     77394.35765     1.735989e+09  \n",
       "2023-03-06  4.569102e+09   6471278.0    102110.26304     2.289889e+09  \n",
       "2023-03-07  6.517595e+09   7813394.0    145498.64219     3.242137e+09  "
      ]
     },
     "execution_count": 12,
     "metadata": {},
     "output_type": "execute_result"
    }
   ],
   "source": [
    "df_btc.tail()"
   ]
  },
  {
   "cell_type": "code",
   "execution_count": null,
   "id": "3c13fb86",
   "metadata": {},
   "outputs": [],
   "source": []
  },
  {
   "cell_type": "markdown",
   "id": "1caf7b34",
   "metadata": {},
   "source": [
    "### Fed effective funds rate - (monthly drill down)"
   ]
  },
  {
   "cell_type": "markdown",
   "id": "7ec28b6b",
   "metadata": {},
   "source": [
    "The Federal Reserve's Effective Federal Funds Rate (EFFR) is the interest rate at which depository institutions (banks) lend reserve balances to other banks overnight, on an uncollateralized basis. The EFFR is a key benchmark rate for short-term interest rates in the United States and is set by the Federal Reserve's Federal Open Market Committee (FOMC).\n",
    "\n",
    "The FOMC sets a target range for the EFFR at its regular meetings, and the actual rate is determined by market forces within that range. The FOMC adjusts the target range for the EFFR based on its assessment of economic conditions and its monetary policy objectives.\n",
    "\n",
    "You can find the current and historical values for the EFFR on the Federal Reserve Bank of New York's website at the following link: https://apps.newyorkfed.org/markets/autorates/fed-funds-effective-rate."
   ]
  },
  {
   "cell_type": "code",
   "execution_count": 13,
   "id": "fd346d86",
   "metadata": {},
   "outputs": [],
   "source": [
    "df_fed_eff_funds_rate = pd.read_csv(\"src/section1/daily/fed_effective_funds_rate/fed_funds_rate_daily.csv\")"
   ]
  },
  {
   "cell_type": "code",
   "execution_count": 14,
   "id": "696e167e",
   "metadata": {},
   "outputs": [],
   "source": [
    "df_fed_eff_funds_rate.index = df_fed_eff_funds_rate.time.apply(lambda x: dt.datetime.strptime(x, '%Y-%m-%dT%H:%M:%S%z').date())"
   ]
  },
  {
   "cell_type": "code",
   "execution_count": 15,
   "id": "caf9963e",
   "metadata": {},
   "outputs": [],
   "source": [
    "df_fed_eff_funds_rate.drop(columns=[\"time\"], inplace=True)"
   ]
  },
  {
   "cell_type": "code",
   "execution_count": 16,
   "id": "2c604c17",
   "metadata": {},
   "outputs": [],
   "source": [
    "df_fed_eff_funds_rate = df_fed_eff_funds_rate[df_fed_eff_funds_rate.index >= dt.datetime.strptime(\"2017-09-01\", \"%Y-%m-%d\").date()]"
   ]
  },
  {
   "cell_type": "code",
   "execution_count": 17,
   "id": "702a07d4",
   "metadata": {
    "scrolled": false
   },
   "outputs": [
    {
     "data": {
      "text/html": [
       "<div>\n",
       "<style scoped>\n",
       "    .dataframe tbody tr th:only-of-type {\n",
       "        vertical-align: middle;\n",
       "    }\n",
       "\n",
       "    .dataframe tbody tr th {\n",
       "        vertical-align: top;\n",
       "    }\n",
       "\n",
       "    .dataframe thead th {\n",
       "        text-align: right;\n",
       "    }\n",
       "</style>\n",
       "<table border=\"1\" class=\"dataframe\">\n",
       "  <thead>\n",
       "    <tr style=\"text-align: right;\">\n",
       "      <th></th>\n",
       "      <th>open</th>\n",
       "      <th>high</th>\n",
       "      <th>low</th>\n",
       "      <th>close</th>\n",
       "    </tr>\n",
       "    <tr>\n",
       "      <th>time</th>\n",
       "      <th></th>\n",
       "      <th></th>\n",
       "      <th></th>\n",
       "      <th></th>\n",
       "    </tr>\n",
       "  </thead>\n",
       "  <tbody>\n",
       "    <tr>\n",
       "      <th>2017-09-01</th>\n",
       "      <td>1.15</td>\n",
       "      <td>1.15</td>\n",
       "      <td>1.15</td>\n",
       "      <td>1.15</td>\n",
       "    </tr>\n",
       "    <tr>\n",
       "      <th>2017-10-01</th>\n",
       "      <td>1.15</td>\n",
       "      <td>1.15</td>\n",
       "      <td>1.15</td>\n",
       "      <td>1.15</td>\n",
       "    </tr>\n",
       "    <tr>\n",
       "      <th>2017-11-01</th>\n",
       "      <td>1.16</td>\n",
       "      <td>1.16</td>\n",
       "      <td>1.16</td>\n",
       "      <td>1.16</td>\n",
       "    </tr>\n",
       "    <tr>\n",
       "      <th>2017-12-01</th>\n",
       "      <td>1.30</td>\n",
       "      <td>1.30</td>\n",
       "      <td>1.30</td>\n",
       "      <td>1.30</td>\n",
       "    </tr>\n",
       "    <tr>\n",
       "      <th>2018-01-01</th>\n",
       "      <td>1.41</td>\n",
       "      <td>1.41</td>\n",
       "      <td>1.41</td>\n",
       "      <td>1.41</td>\n",
       "    </tr>\n",
       "  </tbody>\n",
       "</table>\n",
       "</div>"
      ],
      "text/plain": [
       "            open  high   low  close\n",
       "time                               \n",
       "2017-09-01  1.15  1.15  1.15   1.15\n",
       "2017-10-01  1.15  1.15  1.15   1.15\n",
       "2017-11-01  1.16  1.16  1.16   1.16\n",
       "2017-12-01  1.30  1.30  1.30   1.30\n",
       "2018-01-01  1.41  1.41  1.41   1.41"
      ]
     },
     "execution_count": 17,
     "metadata": {},
     "output_type": "execute_result"
    }
   ],
   "source": [
    "df_fed_eff_funds_rate.head()"
   ]
  },
  {
   "cell_type": "code",
   "execution_count": null,
   "id": "bf6fbae6",
   "metadata": {},
   "outputs": [],
   "source": []
  },
  {
   "cell_type": "markdown",
   "id": "5422d9dd",
   "metadata": {},
   "source": [
    "### NASDAQ\n",
    "\n",
    "- no weekends"
   ]
  },
  {
   "cell_type": "code",
   "execution_count": 18,
   "id": "24e4706b",
   "metadata": {},
   "outputs": [],
   "source": [
    "df_nasdaq = pd.read_csv(\"src/section1/daily/nasdaq/nasdaq.csv\")"
   ]
  },
  {
   "cell_type": "code",
   "execution_count": 19,
   "id": "aa7c2e23",
   "metadata": {},
   "outputs": [],
   "source": [
    "df_nasdaq.index = df_nasdaq.time.apply(lambda x: dt.datetime.strptime(x, '%Y-%m-%dT%H:%M:%S%z').date())"
   ]
  },
  {
   "cell_type": "code",
   "execution_count": 20,
   "id": "66dc7da2",
   "metadata": {},
   "outputs": [],
   "source": [
    "df_nasdaq.drop(columns=[\"time\"], inplace=True)"
   ]
  },
  {
   "cell_type": "code",
   "execution_count": 21,
   "id": "a3db8cd3",
   "metadata": {},
   "outputs": [
    {
     "data": {
      "text/html": [
       "<div>\n",
       "<style scoped>\n",
       "    .dataframe tbody tr th:only-of-type {\n",
       "        vertical-align: middle;\n",
       "    }\n",
       "\n",
       "    .dataframe tbody tr th {\n",
       "        vertical-align: top;\n",
       "    }\n",
       "\n",
       "    .dataframe thead th {\n",
       "        text-align: right;\n",
       "    }\n",
       "</style>\n",
       "<table border=\"1\" class=\"dataframe\">\n",
       "  <thead>\n",
       "    <tr style=\"text-align: right;\">\n",
       "      <th></th>\n",
       "      <th>open</th>\n",
       "      <th>high</th>\n",
       "      <th>low</th>\n",
       "      <th>close</th>\n",
       "    </tr>\n",
       "    <tr>\n",
       "      <th>time</th>\n",
       "      <th></th>\n",
       "      <th></th>\n",
       "      <th></th>\n",
       "      <th></th>\n",
       "    </tr>\n",
       "  </thead>\n",
       "  <tbody>\n",
       "    <tr>\n",
       "      <th>2017-09-01</th>\n",
       "      <td>6001.8200</td>\n",
       "      <td>6009.6100</td>\n",
       "      <td>5972.2700</td>\n",
       "      <td>5987.9000</td>\n",
       "    </tr>\n",
       "    <tr>\n",
       "      <th>2017-09-05</th>\n",
       "      <td>5966.6400</td>\n",
       "      <td>5980.9100</td>\n",
       "      <td>5890.2500</td>\n",
       "      <td>5932.7300</td>\n",
       "    </tr>\n",
       "    <tr>\n",
       "      <th>2017-09-06</th>\n",
       "      <td>5949.5400</td>\n",
       "      <td>5964.3800</td>\n",
       "      <td>5909.9200</td>\n",
       "      <td>5951.1300</td>\n",
       "    </tr>\n",
       "    <tr>\n",
       "      <th>2017-09-07</th>\n",
       "      <td>5960.4400</td>\n",
       "      <td>5980.1500</td>\n",
       "      <td>5943.8900</td>\n",
       "      <td>5964.3100</td>\n",
       "    </tr>\n",
       "    <tr>\n",
       "      <th>2017-09-08</th>\n",
       "      <td>5957.1900</td>\n",
       "      <td>5958.8100</td>\n",
       "      <td>5907.9600</td>\n",
       "      <td>5913.3700</td>\n",
       "    </tr>\n",
       "    <tr>\n",
       "      <th>...</th>\n",
       "      <td>...</td>\n",
       "      <td>...</td>\n",
       "      <td>...</td>\n",
       "      <td>...</td>\n",
       "    </tr>\n",
       "    <tr>\n",
       "      <th>2023-03-01</th>\n",
       "      <td>12026.7197</td>\n",
       "      <td>12054.4767</td>\n",
       "      <td>11906.5788</td>\n",
       "      <td>11938.5666</td>\n",
       "    </tr>\n",
       "    <tr>\n",
       "      <th>2023-03-02</th>\n",
       "      <td>11830.0937</td>\n",
       "      <td>12074.5874</td>\n",
       "      <td>11830.0937</td>\n",
       "      <td>12044.8691</td>\n",
       "    </tr>\n",
       "    <tr>\n",
       "      <th>2023-03-03</th>\n",
       "      <td>12110.7053</td>\n",
       "      <td>12300.4569</td>\n",
       "      <td>12095.2416</td>\n",
       "      <td>12290.8072</td>\n",
       "    </tr>\n",
       "    <tr>\n",
       "      <th>2023-03-06</th>\n",
       "      <td>12344.6489</td>\n",
       "      <td>12466.8766</td>\n",
       "      <td>12297.5650</td>\n",
       "      <td>12302.4844</td>\n",
       "    </tr>\n",
       "    <tr>\n",
       "      <th>2023-03-07</th>\n",
       "      <td>12303.1903</td>\n",
       "      <td>12344.0449</td>\n",
       "      <td>12130.0064</td>\n",
       "      <td>12152.1701</td>\n",
       "    </tr>\n",
       "  </tbody>\n",
       "</table>\n",
       "<p>1386 rows × 4 columns</p>\n",
       "</div>"
      ],
      "text/plain": [
       "                  open        high         low       close\n",
       "time                                                      \n",
       "2017-09-01   6001.8200   6009.6100   5972.2700   5987.9000\n",
       "2017-09-05   5966.6400   5980.9100   5890.2500   5932.7300\n",
       "2017-09-06   5949.5400   5964.3800   5909.9200   5951.1300\n",
       "2017-09-07   5960.4400   5980.1500   5943.8900   5964.3100\n",
       "2017-09-08   5957.1900   5958.8100   5907.9600   5913.3700\n",
       "...                ...         ...         ...         ...\n",
       "2023-03-01  12026.7197  12054.4767  11906.5788  11938.5666\n",
       "2023-03-02  11830.0937  12074.5874  11830.0937  12044.8691\n",
       "2023-03-03  12110.7053  12300.4569  12095.2416  12290.8072\n",
       "2023-03-06  12344.6489  12466.8766  12297.5650  12302.4844\n",
       "2023-03-07  12303.1903  12344.0449  12130.0064  12152.1701\n",
       "\n",
       "[1386 rows x 4 columns]"
      ]
     },
     "execution_count": 21,
     "metadata": {},
     "output_type": "execute_result"
    }
   ],
   "source": [
    "df_nasdaq[df_nasdaq.index >= dt.datetime.strptime(\"2017-09-01\", \"%Y-%m-%d\").date()]"
   ]
  },
  {
   "cell_type": "code",
   "execution_count": null,
   "id": "c5ac72fb",
   "metadata": {},
   "outputs": [],
   "source": []
  },
  {
   "cell_type": "markdown",
   "id": "af75ad47",
   "metadata": {},
   "source": [
    "### Real Estate Index"
   ]
  },
  {
   "cell_type": "markdown",
   "id": "f7799046",
   "metadata": {},
   "source": [
    "The S&P 500 is a stock market index that tracks the performance of 500 large-cap U.S. companies. While it does not include a specific real estate sector index, the S&P 500 does have a sector classification system that includes real estate investment trusts (REITs) as a separate sector.\n",
    "\n",
    "The S&P 500 Real Estate sector includes companies that own, develop, and manage real estate properties, including REITs, real estate management and development firms, and homebuilders. The S&P 500 Real Estate sector was added to the S&P 500 index in September 2016, when the real estate sector was split off from the financial sector.\n",
    "\n",
    "To track the performance of the S&P 500 Real Estate sector, you can use the ticker symbol SPGIX or any other ticker symbol that tracks the index. Additionally, you can find historical prices for the S&P 500 Real Estate sector on financial news websites like Yahoo Finance or Google Finance, or through a financial data provider like Bloomberg or FactSet."
   ]
  },
  {
   "cell_type": "code",
   "execution_count": 22,
   "id": "ac90d79a",
   "metadata": {},
   "outputs": [],
   "source": [
    "df_real_estate = pd.read_csv(\"src/section1/daily/real_estate_index/real_estate_index.csv\")"
   ]
  },
  {
   "cell_type": "code",
   "execution_count": 23,
   "id": "29343d71",
   "metadata": {},
   "outputs": [],
   "source": [
    "df_real_estate.index = df_real_estate.time.apply(lambda x: dt.datetime.strptime(x, '%Y-%m-%dT%H:%M:%S%z').date())"
   ]
  },
  {
   "cell_type": "code",
   "execution_count": 24,
   "id": "55bf3839",
   "metadata": {},
   "outputs": [],
   "source": [
    "df_real_estate.drop(columns=[\"time\"], inplace=True)"
   ]
  },
  {
   "cell_type": "code",
   "execution_count": 25,
   "id": "3e2649cd",
   "metadata": {},
   "outputs": [
    {
     "data": {
      "text/html": [
       "<div>\n",
       "<style scoped>\n",
       "    .dataframe tbody tr th:only-of-type {\n",
       "        vertical-align: middle;\n",
       "    }\n",
       "\n",
       "    .dataframe tbody tr th {\n",
       "        vertical-align: top;\n",
       "    }\n",
       "\n",
       "    .dataframe thead th {\n",
       "        text-align: right;\n",
       "    }\n",
       "</style>\n",
       "<table border=\"1\" class=\"dataframe\">\n",
       "  <thead>\n",
       "    <tr style=\"text-align: right;\">\n",
       "      <th></th>\n",
       "      <th>open</th>\n",
       "      <th>high</th>\n",
       "      <th>low</th>\n",
       "      <th>close</th>\n",
       "    </tr>\n",
       "    <tr>\n",
       "      <th>time</th>\n",
       "      <th></th>\n",
       "      <th></th>\n",
       "      <th></th>\n",
       "      <th></th>\n",
       "    </tr>\n",
       "  </thead>\n",
       "  <tbody>\n",
       "    <tr>\n",
       "      <th>2017-09-01</th>\n",
       "      <td>203.21</td>\n",
       "      <td>203.64</td>\n",
       "      <td>202.58</td>\n",
       "      <td>202.82</td>\n",
       "    </tr>\n",
       "    <tr>\n",
       "      <th>2017-09-05</th>\n",
       "      <td>202.90</td>\n",
       "      <td>203.43</td>\n",
       "      <td>201.42</td>\n",
       "      <td>202.68</td>\n",
       "    </tr>\n",
       "    <tr>\n",
       "      <th>2017-09-06</th>\n",
       "      <td>203.13</td>\n",
       "      <td>203.90</td>\n",
       "      <td>202.67</td>\n",
       "      <td>202.88</td>\n",
       "    </tr>\n",
       "    <tr>\n",
       "      <th>2017-09-07</th>\n",
       "      <td>203.11</td>\n",
       "      <td>204.80</td>\n",
       "      <td>203.06</td>\n",
       "      <td>204.42</td>\n",
       "    </tr>\n",
       "    <tr>\n",
       "      <th>2017-09-08</th>\n",
       "      <td>204.15</td>\n",
       "      <td>205.18</td>\n",
       "      <td>203.79</td>\n",
       "      <td>204.41</td>\n",
       "    </tr>\n",
       "    <tr>\n",
       "      <th>...</th>\n",
       "      <td>...</td>\n",
       "      <td>...</td>\n",
       "      <td>...</td>\n",
       "      <td>...</td>\n",
       "    </tr>\n",
       "    <tr>\n",
       "      <th>2023-03-01</th>\n",
       "      <td>238.10</td>\n",
       "      <td>238.65</td>\n",
       "      <td>234.73</td>\n",
       "      <td>236.19</td>\n",
       "    </tr>\n",
       "    <tr>\n",
       "      <th>2023-03-02</th>\n",
       "      <td>234.84</td>\n",
       "      <td>239.49</td>\n",
       "      <td>234.19</td>\n",
       "      <td>239.07</td>\n",
       "    </tr>\n",
       "    <tr>\n",
       "      <th>2023-03-03</th>\n",
       "      <td>240.76</td>\n",
       "      <td>243.69</td>\n",
       "      <td>240.60</td>\n",
       "      <td>243.22</td>\n",
       "    </tr>\n",
       "    <tr>\n",
       "      <th>2023-03-06</th>\n",
       "      <td>243.99</td>\n",
       "      <td>244.35</td>\n",
       "      <td>241.79</td>\n",
       "      <td>242.26</td>\n",
       "    </tr>\n",
       "    <tr>\n",
       "      <th>2023-03-07</th>\n",
       "      <td>242.21</td>\n",
       "      <td>242.21</td>\n",
       "      <td>235.97</td>\n",
       "      <td>236.19</td>\n",
       "    </tr>\n",
       "  </tbody>\n",
       "</table>\n",
       "<p>1384 rows × 4 columns</p>\n",
       "</div>"
      ],
      "text/plain": [
       "              open    high     low   close\n",
       "time                                      \n",
       "2017-09-01  203.21  203.64  202.58  202.82\n",
       "2017-09-05  202.90  203.43  201.42  202.68\n",
       "2017-09-06  203.13  203.90  202.67  202.88\n",
       "2017-09-07  203.11  204.80  203.06  204.42\n",
       "2017-09-08  204.15  205.18  203.79  204.41\n",
       "...            ...     ...     ...     ...\n",
       "2023-03-01  238.10  238.65  234.73  236.19\n",
       "2023-03-02  234.84  239.49  234.19  239.07\n",
       "2023-03-03  240.76  243.69  240.60  243.22\n",
       "2023-03-06  243.99  244.35  241.79  242.26\n",
       "2023-03-07  242.21  242.21  235.97  236.19\n",
       "\n",
       "[1384 rows x 4 columns]"
      ]
     },
     "execution_count": 25,
     "metadata": {},
     "output_type": "execute_result"
    }
   ],
   "source": [
    "df_real_estate[df_real_estate.index >= dt.datetime.strptime(\"2017-09-01\", \"%Y-%m-%d\").date()]"
   ]
  },
  {
   "cell_type": "code",
   "execution_count": null,
   "id": "19c5c14d",
   "metadata": {},
   "outputs": [],
   "source": []
  },
  {
   "cell_type": "markdown",
   "id": "94eaac23",
   "metadata": {},
   "source": [
    "### S&P500\n",
    "\n",
    "- no weekends"
   ]
  },
  {
   "cell_type": "code",
   "execution_count": 26,
   "id": "7640bc56",
   "metadata": {},
   "outputs": [],
   "source": [
    "df_sandp = pd.read_csv(\"src/section1/daily/s&p/sandp.csv\")"
   ]
  },
  {
   "cell_type": "code",
   "execution_count": 27,
   "id": "efd51f40",
   "metadata": {},
   "outputs": [],
   "source": [
    "df_sandp.index = df_sandp.time.apply(lambda x: dt.datetime.strptime(x, '%Y-%m-%dT%H:%M:%S%z').date())"
   ]
  },
  {
   "cell_type": "code",
   "execution_count": 28,
   "id": "9bef91d3",
   "metadata": {},
   "outputs": [],
   "source": [
    "df_sandp.drop(columns=[\"time\"], inplace=True)"
   ]
  },
  {
   "cell_type": "code",
   "execution_count": 29,
   "id": "f65453f9",
   "metadata": {},
   "outputs": [
    {
     "data": {
      "text/html": [
       "<div>\n",
       "<style scoped>\n",
       "    .dataframe tbody tr th:only-of-type {\n",
       "        vertical-align: middle;\n",
       "    }\n",
       "\n",
       "    .dataframe tbody tr th {\n",
       "        vertical-align: top;\n",
       "    }\n",
       "\n",
       "    .dataframe thead th {\n",
       "        text-align: right;\n",
       "    }\n",
       "</style>\n",
       "<table border=\"1\" class=\"dataframe\">\n",
       "  <thead>\n",
       "    <tr style=\"text-align: right;\">\n",
       "      <th></th>\n",
       "      <th>open</th>\n",
       "      <th>high</th>\n",
       "      <th>low</th>\n",
       "      <th>close</th>\n",
       "    </tr>\n",
       "    <tr>\n",
       "      <th>time</th>\n",
       "      <th></th>\n",
       "      <th></th>\n",
       "      <th></th>\n",
       "      <th></th>\n",
       "    </tr>\n",
       "  </thead>\n",
       "  <tbody>\n",
       "    <tr>\n",
       "      <th>2017-09-01</th>\n",
       "      <td>2474.42</td>\n",
       "      <td>2480.38</td>\n",
       "      <td>2473.85</td>\n",
       "      <td>2476.55</td>\n",
       "    </tr>\n",
       "    <tr>\n",
       "      <th>2017-09-05</th>\n",
       "      <td>2470.35</td>\n",
       "      <td>2471.97</td>\n",
       "      <td>2446.55</td>\n",
       "      <td>2457.85</td>\n",
       "    </tr>\n",
       "    <tr>\n",
       "      <th>2017-09-06</th>\n",
       "      <td>2463.83</td>\n",
       "      <td>2469.64</td>\n",
       "      <td>2459.20</td>\n",
       "      <td>2465.54</td>\n",
       "    </tr>\n",
       "    <tr>\n",
       "      <th>2017-09-07</th>\n",
       "      <td>2468.06</td>\n",
       "      <td>2468.62</td>\n",
       "      <td>2460.29</td>\n",
       "      <td>2465.10</td>\n",
       "    </tr>\n",
       "    <tr>\n",
       "      <th>2017-09-08</th>\n",
       "      <td>2462.25</td>\n",
       "      <td>2467.11</td>\n",
       "      <td>2459.40</td>\n",
       "      <td>2461.43</td>\n",
       "    </tr>\n",
       "    <tr>\n",
       "      <th>...</th>\n",
       "      <td>...</td>\n",
       "      <td>...</td>\n",
       "      <td>...</td>\n",
       "      <td>...</td>\n",
       "    </tr>\n",
       "    <tr>\n",
       "      <th>2023-03-01</th>\n",
       "      <td>3963.34</td>\n",
       "      <td>3971.73</td>\n",
       "      <td>3939.05</td>\n",
       "      <td>3951.40</td>\n",
       "    </tr>\n",
       "    <tr>\n",
       "      <th>2023-03-02</th>\n",
       "      <td>3938.68</td>\n",
       "      <td>3990.84</td>\n",
       "      <td>3928.16</td>\n",
       "      <td>3981.34</td>\n",
       "    </tr>\n",
       "    <tr>\n",
       "      <th>2023-03-03</th>\n",
       "      <td>3998.02</td>\n",
       "      <td>4048.29</td>\n",
       "      <td>3995.17</td>\n",
       "      <td>4045.65</td>\n",
       "    </tr>\n",
       "    <tr>\n",
       "      <th>2023-03-06</th>\n",
       "      <td>4055.15</td>\n",
       "      <td>4078.49</td>\n",
       "      <td>4044.61</td>\n",
       "      <td>4048.43</td>\n",
       "    </tr>\n",
       "    <tr>\n",
       "      <th>2023-03-07</th>\n",
       "      <td>4048.26</td>\n",
       "      <td>4050.00</td>\n",
       "      <td>3980.31</td>\n",
       "      <td>3986.36</td>\n",
       "    </tr>\n",
       "  </tbody>\n",
       "</table>\n",
       "<p>1386 rows × 4 columns</p>\n",
       "</div>"
      ],
      "text/plain": [
       "               open     high      low    close\n",
       "time                                          \n",
       "2017-09-01  2474.42  2480.38  2473.85  2476.55\n",
       "2017-09-05  2470.35  2471.97  2446.55  2457.85\n",
       "2017-09-06  2463.83  2469.64  2459.20  2465.54\n",
       "2017-09-07  2468.06  2468.62  2460.29  2465.10\n",
       "2017-09-08  2462.25  2467.11  2459.40  2461.43\n",
       "...             ...      ...      ...      ...\n",
       "2023-03-01  3963.34  3971.73  3939.05  3951.40\n",
       "2023-03-02  3938.68  3990.84  3928.16  3981.34\n",
       "2023-03-03  3998.02  4048.29  3995.17  4045.65\n",
       "2023-03-06  4055.15  4078.49  4044.61  4048.43\n",
       "2023-03-07  4048.26  4050.00  3980.31  3986.36\n",
       "\n",
       "[1386 rows x 4 columns]"
      ]
     },
     "execution_count": 29,
     "metadata": {},
     "output_type": "execute_result"
    }
   ],
   "source": [
    "df_sandp[df_sandp.index >= dt.datetime.strptime(\"2017-09-01\", \"%Y-%m-%d\").date()]"
   ]
  },
  {
   "cell_type": "code",
   "execution_count": null,
   "id": "8d5a53c1",
   "metadata": {},
   "outputs": [],
   "source": []
  },
  {
   "cell_type": "markdown",
   "id": "fd5f7a35",
   "metadata": {},
   "source": [
    "### Silver price (Oz)\n",
    "\n",
    "- from 2017-09-01"
   ]
  },
  {
   "cell_type": "code",
   "execution_count": 30,
   "id": "8b9499d7",
   "metadata": {},
   "outputs": [],
   "source": [
    "df_silver = pd.read_csv(\"src/section1/daily/silver/silver_daily.csv\")"
   ]
  },
  {
   "cell_type": "code",
   "execution_count": 31,
   "id": "d8d1dbb8",
   "metadata": {},
   "outputs": [],
   "source": [
    "df_silver.index = [dt.datetime.strptime(\"2017-08-31\", \"%Y-%m-%d\") + timedelta(days=x) for x in range(2016)]"
   ]
  },
  {
   "cell_type": "code",
   "execution_count": 32,
   "id": "f66e1d5d",
   "metadata": {},
   "outputs": [],
   "source": [
    "df_silver.drop(columns=\"d\", inplace=True)"
   ]
  },
  {
   "cell_type": "code",
   "execution_count": 33,
   "id": "afac7ffb",
   "metadata": {},
   "outputs": [],
   "source": [
    "df_silver.rename(columns={\"v\": \"silver_value\"}, inplace=True)"
   ]
  },
  {
   "cell_type": "code",
   "execution_count": 34,
   "id": "5ae78d69",
   "metadata": {},
   "outputs": [
    {
     "data": {
      "text/html": [
       "<div>\n",
       "<style scoped>\n",
       "    .dataframe tbody tr th:only-of-type {\n",
       "        vertical-align: middle;\n",
       "    }\n",
       "\n",
       "    .dataframe tbody tr th {\n",
       "        vertical-align: top;\n",
       "    }\n",
       "\n",
       "    .dataframe thead th {\n",
       "        text-align: right;\n",
       "    }\n",
       "</style>\n",
       "<table border=\"1\" class=\"dataframe\">\n",
       "  <thead>\n",
       "    <tr style=\"text-align: right;\">\n",
       "      <th></th>\n",
       "      <th>silver_value</th>\n",
       "    </tr>\n",
       "  </thead>\n",
       "  <tbody>\n",
       "    <tr>\n",
       "      <th>2017-08-31</th>\n",
       "      <td>17.46</td>\n",
       "    </tr>\n",
       "    <tr>\n",
       "      <th>2017-09-01</th>\n",
       "      <td>17.57</td>\n",
       "    </tr>\n",
       "    <tr>\n",
       "      <th>2017-09-02</th>\n",
       "      <td>17.73</td>\n",
       "    </tr>\n",
       "    <tr>\n",
       "      <th>2017-09-03</th>\n",
       "      <td>17.73</td>\n",
       "    </tr>\n",
       "    <tr>\n",
       "      <th>2017-09-04</th>\n",
       "      <td>17.83</td>\n",
       "    </tr>\n",
       "  </tbody>\n",
       "</table>\n",
       "</div>"
      ],
      "text/plain": [
       "            silver_value\n",
       "2017-08-31         17.46\n",
       "2017-09-01         17.57\n",
       "2017-09-02         17.73\n",
       "2017-09-03         17.73\n",
       "2017-09-04         17.83"
      ]
     },
     "execution_count": 34,
     "metadata": {},
     "output_type": "execute_result"
    }
   ],
   "source": [
    "df_silver.head()"
   ]
  },
  {
   "cell_type": "code",
   "execution_count": null,
   "id": "7b28fa0e",
   "metadata": {},
   "outputs": [],
   "source": []
  },
  {
   "cell_type": "markdown",
   "id": "5b617f03",
   "metadata": {},
   "source": [
    "### US breakeven inflation \n",
    "\n",
    "- Expected inflation in next 5-10 years"
   ]
  },
  {
   "cell_type": "markdown",
   "id": "d7119943",
   "metadata": {},
   "source": [
    "The US breakeven inflation rate is a market-based measure of expected inflation over a given time period. It is calculated as the difference between the yield of a nominal Treasury security (which includes an inflation expectation component) and the yield of an inflation-protected Treasury security (which is adjusted for inflation).\n",
    "\n",
    "For example, if the yield on a 10-year nominal Treasury bond is 2.5% and the yield on a 10-year Treasury inflation-protected security (TIPS) is 0.5%, the breakeven inflation rate would be 2.0% (2.5% - 0.5%).\n",
    "\n",
    "The US breakeven inflation rate can be used as an indicator of market expectations for future inflation. If the breakeven inflation rate is higher than the Federal Reserve's inflation target, it may indicate that investors expect inflation to be higher than the Fed's target over the relevant time period."
   ]
  },
  {
   "cell_type": "code",
   "execution_count": 35,
   "id": "e4439d11",
   "metadata": {},
   "outputs": [],
   "source": [
    "df_5_year_us_breakev_inf = pd.read_csv(\"src/section1/daily/us_breakeven_inflation/5_year.csv\")\n",
    "df_10_year_us_breakev_inf = pd.read_csv(\"src/section1/daily/us_breakeven_inflation/10_year.csv\")"
   ]
  },
  {
   "cell_type": "code",
   "execution_count": 36,
   "id": "2d9063e2",
   "metadata": {},
   "outputs": [],
   "source": [
    "df_5_year_us_breakev_inf.index = df_5_year_us_breakev_inf.DATE\n",
    "df_10_year_us_breakev_inf.index = df_10_year_us_breakev_inf.DATE"
   ]
  },
  {
   "cell_type": "code",
   "execution_count": 37,
   "id": "1d9587d2",
   "metadata": {},
   "outputs": [],
   "source": [
    "df_5_year_us_breakev_inf.drop(columns=\"DATE\", inplace=True)\n",
    "df_10_year_us_breakev_inf.drop(columns=\"DATE\", inplace=True)"
   ]
  },
  {
   "cell_type": "code",
   "execution_count": 38,
   "id": "2bb10c24",
   "metadata": {},
   "outputs": [],
   "source": [
    "df_5_year_us_breakev_inf.rename(columns={\"T5YIE\": \"us_breake_inf_rate_5y\"}, inplace=True)"
   ]
  },
  {
   "cell_type": "code",
   "execution_count": 39,
   "id": "b4a66556",
   "metadata": {},
   "outputs": [],
   "source": [
    "df_10_year_us_breakev_inf.rename(columns={\"T10YIE\": \"us_breake_inf_rate_10y\"}, inplace=True)"
   ]
  },
  {
   "cell_type": "code",
   "execution_count": 40,
   "id": "3d2fcca3",
   "metadata": {},
   "outputs": [
    {
     "data": {
      "text/html": [
       "<div>\n",
       "<style scoped>\n",
       "    .dataframe tbody tr th:only-of-type {\n",
       "        vertical-align: middle;\n",
       "    }\n",
       "\n",
       "    .dataframe tbody tr th {\n",
       "        vertical-align: top;\n",
       "    }\n",
       "\n",
       "    .dataframe thead th {\n",
       "        text-align: right;\n",
       "    }\n",
       "</style>\n",
       "<table border=\"1\" class=\"dataframe\">\n",
       "  <thead>\n",
       "    <tr style=\"text-align: right;\">\n",
       "      <th></th>\n",
       "      <th>us_breake_inf_rate_5y</th>\n",
       "    </tr>\n",
       "    <tr>\n",
       "      <th>DATE</th>\n",
       "      <th></th>\n",
       "    </tr>\n",
       "  </thead>\n",
       "  <tbody>\n",
       "    <tr>\n",
       "      <th>2023-03-01</th>\n",
       "      <td>2.59</td>\n",
       "    </tr>\n",
       "    <tr>\n",
       "      <th>2023-03-02</th>\n",
       "      <td>2.65</td>\n",
       "    </tr>\n",
       "    <tr>\n",
       "      <th>2023-03-03</th>\n",
       "      <td>2.71</td>\n",
       "    </tr>\n",
       "    <tr>\n",
       "      <th>2023-03-06</th>\n",
       "      <td>2.7</td>\n",
       "    </tr>\n",
       "    <tr>\n",
       "      <th>2023-03-07</th>\n",
       "      <td>2.54</td>\n",
       "    </tr>\n",
       "  </tbody>\n",
       "</table>\n",
       "</div>"
      ],
      "text/plain": [
       "           us_breake_inf_rate_5y\n",
       "DATE                            \n",
       "2023-03-01                  2.59\n",
       "2023-03-02                  2.65\n",
       "2023-03-03                  2.71\n",
       "2023-03-06                   2.7\n",
       "2023-03-07                  2.54"
      ]
     },
     "execution_count": 40,
     "metadata": {},
     "output_type": "execute_result"
    }
   ],
   "source": [
    "df_5_year_us_breakev_inf.tail()"
   ]
  },
  {
   "cell_type": "code",
   "execution_count": 41,
   "id": "90839355",
   "metadata": {
    "scrolled": true
   },
   "outputs": [
    {
     "data": {
      "text/html": [
       "<div>\n",
       "<style scoped>\n",
       "    .dataframe tbody tr th:only-of-type {\n",
       "        vertical-align: middle;\n",
       "    }\n",
       "\n",
       "    .dataframe tbody tr th {\n",
       "        vertical-align: top;\n",
       "    }\n",
       "\n",
       "    .dataframe thead th {\n",
       "        text-align: right;\n",
       "    }\n",
       "</style>\n",
       "<table border=\"1\" class=\"dataframe\">\n",
       "  <thead>\n",
       "    <tr style=\"text-align: right;\">\n",
       "      <th></th>\n",
       "      <th>us_breake_inf_rate_10y</th>\n",
       "    </tr>\n",
       "    <tr>\n",
       "      <th>DATE</th>\n",
       "      <th></th>\n",
       "    </tr>\n",
       "  </thead>\n",
       "  <tbody>\n",
       "    <tr>\n",
       "      <th>2023-03-01</th>\n",
       "      <td>2.44</td>\n",
       "    </tr>\n",
       "    <tr>\n",
       "      <th>2023-03-02</th>\n",
       "      <td>2.48</td>\n",
       "    </tr>\n",
       "    <tr>\n",
       "      <th>2023-03-03</th>\n",
       "      <td>2.52</td>\n",
       "    </tr>\n",
       "    <tr>\n",
       "      <th>2023-03-06</th>\n",
       "      <td>2.49</td>\n",
       "    </tr>\n",
       "    <tr>\n",
       "      <th>2023-03-07</th>\n",
       "      <td>2.38</td>\n",
       "    </tr>\n",
       "  </tbody>\n",
       "</table>\n",
       "</div>"
      ],
      "text/plain": [
       "           us_breake_inf_rate_10y\n",
       "DATE                             \n",
       "2023-03-01                   2.44\n",
       "2023-03-02                   2.48\n",
       "2023-03-03                   2.52\n",
       "2023-03-06                   2.49\n",
       "2023-03-07                   2.38"
      ]
     },
     "execution_count": 41,
     "metadata": {},
     "output_type": "execute_result"
    }
   ],
   "source": [
    "df_10_year_us_breakev_inf.tail()"
   ]
  },
  {
   "cell_type": "code",
   "execution_count": null,
   "id": "50b5b7ac",
   "metadata": {},
   "outputs": [],
   "source": []
  },
  {
   "cell_type": "markdown",
   "id": "96f3288b",
   "metadata": {},
   "source": [
    "### US treasuries\n",
    "\n",
    "- total volume at Fed Banks\n",
    "- compares of 10 year treasuries vs 2 year vs 3 month yields"
   ]
  },
  {
   "cell_type": "code",
   "execution_count": 42,
   "id": "be61b58e",
   "metadata": {},
   "outputs": [],
   "source": [
    "## if lower < 0 then recession expected\n",
    "df_us_treasury_10yto2y = pd.read_csv(\"src/section1/daily/us_treasuries/compared/T10Y2Y.csv\")\n",
    "df_us_treasury_10yto3m = pd.read_csv(\"src/section1/daily/us_treasuries/compared/T10Y3M.csv\")"
   ]
  },
  {
   "cell_type": "code",
   "execution_count": 43,
   "id": "eaf545b2",
   "metadata": {
    "scrolled": false
   },
   "outputs": [
    {
     "data": {
      "text/html": [
       "<div>\n",
       "<style scoped>\n",
       "    .dataframe tbody tr th:only-of-type {\n",
       "        vertical-align: middle;\n",
       "    }\n",
       "\n",
       "    .dataframe tbody tr th {\n",
       "        vertical-align: top;\n",
       "    }\n",
       "\n",
       "    .dataframe thead th {\n",
       "        text-align: right;\n",
       "    }\n",
       "</style>\n",
       "<table border=\"1\" class=\"dataframe\">\n",
       "  <thead>\n",
       "    <tr style=\"text-align: right;\">\n",
       "      <th></th>\n",
       "      <th>DATE</th>\n",
       "      <th>T10Y3M</th>\n",
       "    </tr>\n",
       "  </thead>\n",
       "  <tbody>\n",
       "    <tr>\n",
       "      <th>0</th>\n",
       "      <td>2017-09-01</td>\n",
       "      <td>1.14</td>\n",
       "    </tr>\n",
       "    <tr>\n",
       "      <th>1</th>\n",
       "      <td>2017-09-04</td>\n",
       "      <td>.</td>\n",
       "    </tr>\n",
       "    <tr>\n",
       "      <th>2</th>\n",
       "      <td>2017-09-05</td>\n",
       "      <td>1.04</td>\n",
       "    </tr>\n",
       "    <tr>\n",
       "      <th>3</th>\n",
       "      <td>2017-09-06</td>\n",
       "      <td>1.03</td>\n",
       "    </tr>\n",
       "    <tr>\n",
       "      <th>4</th>\n",
       "      <td>2017-09-07</td>\n",
       "      <td>1.0</td>\n",
       "    </tr>\n",
       "    <tr>\n",
       "      <th>...</th>\n",
       "      <td>...</td>\n",
       "      <td>...</td>\n",
       "    </tr>\n",
       "    <tr>\n",
       "      <th>1433</th>\n",
       "      <td>2023-03-01</td>\n",
       "      <td>-0.89</td>\n",
       "    </tr>\n",
       "    <tr>\n",
       "      <th>1434</th>\n",
       "      <td>2023-03-02</td>\n",
       "      <td>-0.83</td>\n",
       "    </tr>\n",
       "    <tr>\n",
       "      <th>1435</th>\n",
       "      <td>2023-03-03</td>\n",
       "      <td>-0.94</td>\n",
       "    </tr>\n",
       "    <tr>\n",
       "      <th>1436</th>\n",
       "      <td>2023-03-06</td>\n",
       "      <td>-0.95</td>\n",
       "    </tr>\n",
       "    <tr>\n",
       "      <th>1437</th>\n",
       "      <td>2023-03-07</td>\n",
       "      <td>-1.07</td>\n",
       "    </tr>\n",
       "  </tbody>\n",
       "</table>\n",
       "<p>1438 rows × 2 columns</p>\n",
       "</div>"
      ],
      "text/plain": [
       "            DATE T10Y3M\n",
       "0     2017-09-01   1.14\n",
       "1     2017-09-04      .\n",
       "2     2017-09-05   1.04\n",
       "3     2017-09-06   1.03\n",
       "4     2017-09-07    1.0\n",
       "...          ...    ...\n",
       "1433  2023-03-01  -0.89\n",
       "1434  2023-03-02  -0.83\n",
       "1435  2023-03-03  -0.94\n",
       "1436  2023-03-06  -0.95\n",
       "1437  2023-03-07  -1.07\n",
       "\n",
       "[1438 rows x 2 columns]"
      ]
     },
     "execution_count": 43,
     "metadata": {},
     "output_type": "execute_result"
    }
   ],
   "source": [
    "df_us_treasury_10yto3m"
   ]
  },
  {
   "cell_type": "code",
   "execution_count": 44,
   "id": "0c444823",
   "metadata": {},
   "outputs": [],
   "source": [
    "df_us_treasury_10yto2y.index = df_us_treasury_10yto2y.DATE\n",
    "df_us_treasury_10yto3m.index = df_us_treasury_10yto3m.DATE"
   ]
  },
  {
   "cell_type": "code",
   "execution_count": 45,
   "id": "7c1b93f4",
   "metadata": {},
   "outputs": [],
   "source": [
    "df_us_treasury_10yto2y.drop(columns=\"DATE\", inplace=True)\n",
    "df_us_treasury_10yto3m.drop(columns=\"DATE\", inplace=True)"
   ]
  },
  {
   "cell_type": "code",
   "execution_count": 46,
   "id": "061f0c27",
   "metadata": {},
   "outputs": [],
   "source": [
    "df_us_treasury_10yto2y.rename(columns={\"T10Y2Y\": \"us_treasury_10yt2y_diff\"}, inplace=True)"
   ]
  },
  {
   "cell_type": "code",
   "execution_count": 47,
   "id": "608c421a",
   "metadata": {},
   "outputs": [],
   "source": [
    "df_us_treasury_10yto3m.rename(columns={\"T10Y3M\": \"us_treasury_10yt3m_diff\"}, inplace=True)"
   ]
  },
  {
   "cell_type": "code",
   "execution_count": 48,
   "id": "8ec7db02",
   "metadata": {},
   "outputs": [
    {
     "data": {
      "text/html": [
       "<div>\n",
       "<style scoped>\n",
       "    .dataframe tbody tr th:only-of-type {\n",
       "        vertical-align: middle;\n",
       "    }\n",
       "\n",
       "    .dataframe tbody tr th {\n",
       "        vertical-align: top;\n",
       "    }\n",
       "\n",
       "    .dataframe thead th {\n",
       "        text-align: right;\n",
       "    }\n",
       "</style>\n",
       "<table border=\"1\" class=\"dataframe\">\n",
       "  <thead>\n",
       "    <tr style=\"text-align: right;\">\n",
       "      <th></th>\n",
       "      <th>us_treasury_10yt2y_diff</th>\n",
       "    </tr>\n",
       "    <tr>\n",
       "      <th>DATE</th>\n",
       "      <th></th>\n",
       "    </tr>\n",
       "  </thead>\n",
       "  <tbody>\n",
       "    <tr>\n",
       "      <th>2023-03-01</th>\n",
       "      <td>-0.88</td>\n",
       "    </tr>\n",
       "    <tr>\n",
       "      <th>2023-03-02</th>\n",
       "      <td>-0.81</td>\n",
       "    </tr>\n",
       "    <tr>\n",
       "      <th>2023-03-03</th>\n",
       "      <td>-0.89</td>\n",
       "    </tr>\n",
       "    <tr>\n",
       "      <th>2023-03-06</th>\n",
       "      <td>-0.91</td>\n",
       "    </tr>\n",
       "    <tr>\n",
       "      <th>2023-03-07</th>\n",
       "      <td>-1.03</td>\n",
       "    </tr>\n",
       "  </tbody>\n",
       "</table>\n",
       "</div>"
      ],
      "text/plain": [
       "           us_treasury_10yt2y_diff\n",
       "DATE                              \n",
       "2023-03-01                   -0.88\n",
       "2023-03-02                   -0.81\n",
       "2023-03-03                   -0.89\n",
       "2023-03-06                   -0.91\n",
       "2023-03-07                   -1.03"
      ]
     },
     "execution_count": 48,
     "metadata": {},
     "output_type": "execute_result"
    }
   ],
   "source": [
    "df_us_treasury_10yto2y.tail()"
   ]
  },
  {
   "cell_type": "code",
   "execution_count": null,
   "id": "09240b14",
   "metadata": {},
   "outputs": [],
   "source": []
  },
  {
   "cell_type": "markdown",
   "id": "2dddee70",
   "metadata": {},
   "source": [
    "#### Total deposited volume - (monthly volume)"
   ]
  },
  {
   "cell_type": "code",
   "execution_count": 49,
   "id": "8feff868",
   "metadata": {},
   "outputs": [],
   "source": [
    "df_us_treasury_total_deposited = pd.read_csv(\"src/section1/daily/us_treasuries/total_deposited_volume/total_volume.csv\")"
   ]
  },
  {
   "cell_type": "code",
   "execution_count": 50,
   "id": "cdc14615",
   "metadata": {},
   "outputs": [],
   "source": [
    "df_us_treasury_total_deposited.index = df_us_treasury_total_deposited.time.apply(lambda x: dt.datetime.strptime(x, '%Y-%m-%dT%H:%M:%S%z').date())"
   ]
  },
  {
   "cell_type": "code",
   "execution_count": 51,
   "id": "b4cac571",
   "metadata": {},
   "outputs": [],
   "source": [
    "df_us_treasury_total_deposited.drop(columns=[\"time\"], inplace=True)"
   ]
  },
  {
   "cell_type": "code",
   "execution_count": 52,
   "id": "fc2a7d03",
   "metadata": {},
   "outputs": [],
   "source": [
    "df_us_treasury_total_deposited = df_us_treasury_total_deposited[df_us_treasury_total_deposited.index >= dt.datetime.strptime(\"2017-09-01\", \"%Y-%m-%d\").date()]"
   ]
  },
  {
   "cell_type": "code",
   "execution_count": 53,
   "id": "e28dc2f3",
   "metadata": {},
   "outputs": [
    {
     "data": {
      "text/html": [
       "<div>\n",
       "<style scoped>\n",
       "    .dataframe tbody tr th:only-of-type {\n",
       "        vertical-align: middle;\n",
       "    }\n",
       "\n",
       "    .dataframe tbody tr th {\n",
       "        vertical-align: top;\n",
       "    }\n",
       "\n",
       "    .dataframe thead th {\n",
       "        text-align: right;\n",
       "    }\n",
       "</style>\n",
       "<table border=\"1\" class=\"dataframe\">\n",
       "  <thead>\n",
       "    <tr style=\"text-align: right;\">\n",
       "      <th></th>\n",
       "      <th>open</th>\n",
       "      <th>high</th>\n",
       "      <th>low</th>\n",
       "      <th>close</th>\n",
       "    </tr>\n",
       "    <tr>\n",
       "      <th>time</th>\n",
       "      <th></th>\n",
       "      <th></th>\n",
       "      <th></th>\n",
       "      <th></th>\n",
       "    </tr>\n",
       "  </thead>\n",
       "  <tbody>\n",
       "    <tr>\n",
       "      <th>2017-09-01</th>\n",
       "      <td>100057000000</td>\n",
       "      <td>100057000000</td>\n",
       "      <td>100057000000</td>\n",
       "      <td>100057000000</td>\n",
       "    </tr>\n",
       "    <tr>\n",
       "      <th>2017-10-01</th>\n",
       "      <td>176376000000</td>\n",
       "      <td>176376000000</td>\n",
       "      <td>176376000000</td>\n",
       "      <td>176376000000</td>\n",
       "    </tr>\n",
       "    <tr>\n",
       "      <th>2017-11-01</th>\n",
       "      <td>176364000000</td>\n",
       "      <td>176364000000</td>\n",
       "      <td>176364000000</td>\n",
       "      <td>176364000000</td>\n",
       "    </tr>\n",
       "    <tr>\n",
       "      <th>2017-12-01</th>\n",
       "      <td>137422000000</td>\n",
       "      <td>137422000000</td>\n",
       "      <td>137422000000</td>\n",
       "      <td>137422000000</td>\n",
       "    </tr>\n",
       "    <tr>\n",
       "      <th>2018-01-01</th>\n",
       "      <td>236962000000</td>\n",
       "      <td>236962000000</td>\n",
       "      <td>236962000000</td>\n",
       "      <td>236962000000</td>\n",
       "    </tr>\n",
       "  </tbody>\n",
       "</table>\n",
       "</div>"
      ],
      "text/plain": [
       "                    open          high           low         close\n",
       "time                                                              \n",
       "2017-09-01  100057000000  100057000000  100057000000  100057000000\n",
       "2017-10-01  176376000000  176376000000  176376000000  176376000000\n",
       "2017-11-01  176364000000  176364000000  176364000000  176364000000\n",
       "2017-12-01  137422000000  137422000000  137422000000  137422000000\n",
       "2018-01-01  236962000000  236962000000  236962000000  236962000000"
      ]
     },
     "execution_count": 53,
     "metadata": {},
     "output_type": "execute_result"
    }
   ],
   "source": [
    "df_us_treasury_total_deposited.head()"
   ]
  },
  {
   "cell_type": "code",
   "execution_count": null,
   "id": "36b8b86e",
   "metadata": {},
   "outputs": [],
   "source": []
  },
  {
   "cell_type": "markdown",
   "id": "c085f382",
   "metadata": {},
   "source": [
    "### Gold (XAU) price (Oz)\n",
    "\n",
    "- no weekends"
   ]
  },
  {
   "cell_type": "code",
   "execution_count": 54,
   "id": "6befe4f6",
   "metadata": {},
   "outputs": [],
   "source": [
    "df_gold = pd.read_csv(\"src/section1/daily/xau/xau_daily.csv\")"
   ]
  },
  {
   "cell_type": "code",
   "execution_count": 55,
   "id": "7d7fd182",
   "metadata": {},
   "outputs": [],
   "source": [
    "df_gold.index = [dt.datetime.strptime(\"2017-08-31\", \"%Y-%m-%d\") + timedelta(days=x) for x in range(2016)]"
   ]
  },
  {
   "cell_type": "code",
   "execution_count": 56,
   "id": "22bcdf05",
   "metadata": {},
   "outputs": [],
   "source": [
    "df_gold.drop(columns=\"d\", inplace=True)"
   ]
  },
  {
   "cell_type": "code",
   "execution_count": 57,
   "id": "cbc49356",
   "metadata": {},
   "outputs": [],
   "source": [
    "df_gold.rename(columns={\"v\": \"gold_value\"}, inplace=True)"
   ]
  },
  {
   "cell_type": "code",
   "execution_count": 58,
   "id": "97d7afb3",
   "metadata": {},
   "outputs": [
    {
     "data": {
      "text/html": [
       "<div>\n",
       "<style scoped>\n",
       "    .dataframe tbody tr th:only-of-type {\n",
       "        vertical-align: middle;\n",
       "    }\n",
       "\n",
       "    .dataframe tbody tr th {\n",
       "        vertical-align: top;\n",
       "    }\n",
       "\n",
       "    .dataframe thead th {\n",
       "        text-align: right;\n",
       "    }\n",
       "</style>\n",
       "<table border=\"1\" class=\"dataframe\">\n",
       "  <thead>\n",
       "    <tr style=\"text-align: right;\">\n",
       "      <th></th>\n",
       "      <th>gold_value</th>\n",
       "    </tr>\n",
       "  </thead>\n",
       "  <tbody>\n",
       "    <tr>\n",
       "      <th>2017-08-31</th>\n",
       "      <td>1311.90</td>\n",
       "    </tr>\n",
       "    <tr>\n",
       "      <th>2017-09-01</th>\n",
       "      <td>1320.37</td>\n",
       "    </tr>\n",
       "    <tr>\n",
       "      <th>2017-09-02</th>\n",
       "      <td>1324.97</td>\n",
       "    </tr>\n",
       "    <tr>\n",
       "      <th>2017-09-03</th>\n",
       "      <td>1324.97</td>\n",
       "    </tr>\n",
       "    <tr>\n",
       "      <th>2017-09-04</th>\n",
       "      <td>1334.53</td>\n",
       "    </tr>\n",
       "  </tbody>\n",
       "</table>\n",
       "</div>"
      ],
      "text/plain": [
       "            gold_value\n",
       "2017-08-31     1311.90\n",
       "2017-09-01     1320.37\n",
       "2017-09-02     1324.97\n",
       "2017-09-03     1324.97\n",
       "2017-09-04     1334.53"
      ]
     },
     "execution_count": 58,
     "metadata": {},
     "output_type": "execute_result"
    }
   ],
   "source": [
    "df_gold.head()"
   ]
  },
  {
   "cell_type": "code",
   "execution_count": null,
   "id": "0e8faf4c",
   "metadata": {},
   "outputs": [],
   "source": []
  },
  {
   "cell_type": "markdown",
   "id": "e2aaf171",
   "metadata": {},
   "source": [
    "## Merge all data"
   ]
  },
  {
   "cell_type": "code",
   "execution_count": 59,
   "id": "391e897b",
   "metadata": {},
   "outputs": [
    {
     "data": {
      "text/html": [
       "<div>\n",
       "<style scoped>\n",
       "    .dataframe tbody tr th:only-of-type {\n",
       "        vertical-align: middle;\n",
       "    }\n",
       "\n",
       "    .dataframe tbody tr th {\n",
       "        vertical-align: top;\n",
       "    }\n",
       "\n",
       "    .dataframe thead th {\n",
       "        text-align: right;\n",
       "    }\n",
       "</style>\n",
       "<table border=\"1\" class=\"dataframe\">\n",
       "  <thead>\n",
       "    <tr style=\"text-align: right;\">\n",
       "      <th></th>\n",
       "      <th>open</th>\n",
       "      <th>high</th>\n",
       "      <th>low</th>\n",
       "      <th>close</th>\n",
       "      <th>volume</th>\n",
       "      <th>qav</th>\n",
       "      <th>num_trades</th>\n",
       "      <th>taker_base_vol</th>\n",
       "      <th>taker_quote_vol</th>\n",
       "    </tr>\n",
       "  </thead>\n",
       "  <tbody>\n",
       "    <tr>\n",
       "      <th>2017-08-17</th>\n",
       "      <td>301.13</td>\n",
       "      <td>312.18</td>\n",
       "      <td>298.00</td>\n",
       "      <td>302.00</td>\n",
       "      <td>7030.71034</td>\n",
       "      <td>2.154655e+06</td>\n",
       "      <td>4522.0</td>\n",
       "      <td>6224.58999</td>\n",
       "      <td>1.908705e+06</td>\n",
       "    </tr>\n",
       "    <tr>\n",
       "      <th>2017-08-18</th>\n",
       "      <td>302.00</td>\n",
       "      <td>311.79</td>\n",
       "      <td>283.94</td>\n",
       "      <td>293.96</td>\n",
       "      <td>9537.84646</td>\n",
       "      <td>2.858947e+06</td>\n",
       "      <td>5658.0</td>\n",
       "      <td>7452.43542</td>\n",
       "      <td>2.240813e+06</td>\n",
       "    </tr>\n",
       "    <tr>\n",
       "      <th>2017-08-19</th>\n",
       "      <td>293.31</td>\n",
       "      <td>299.90</td>\n",
       "      <td>278.00</td>\n",
       "      <td>290.91</td>\n",
       "      <td>2146.19773</td>\n",
       "      <td>6.200226e+05</td>\n",
       "      <td>1795.0</td>\n",
       "      <td>1537.97550</td>\n",
       "      <td>4.447136e+05</td>\n",
       "    </tr>\n",
       "    <tr>\n",
       "      <th>2017-08-20</th>\n",
       "      <td>289.41</td>\n",
       "      <td>300.53</td>\n",
       "      <td>282.85</td>\n",
       "      <td>299.10</td>\n",
       "      <td>2510.13871</td>\n",
       "      <td>7.428479e+05</td>\n",
       "      <td>2038.0</td>\n",
       "      <td>2186.68739</td>\n",
       "      <td>6.475061e+05</td>\n",
       "    </tr>\n",
       "    <tr>\n",
       "      <th>2017-08-21</th>\n",
       "      <td>299.10</td>\n",
       "      <td>346.52</td>\n",
       "      <td>294.60</td>\n",
       "      <td>323.29</td>\n",
       "      <td>5219.44542</td>\n",
       "      <td>1.689472e+06</td>\n",
       "      <td>3925.0</td>\n",
       "      <td>4004.19967</td>\n",
       "      <td>1.297977e+06</td>\n",
       "    </tr>\n",
       "  </tbody>\n",
       "</table>\n",
       "</div>"
      ],
      "text/plain": [
       "              open    high     low   close      volume           qav  \\\n",
       "2017-08-17  301.13  312.18  298.00  302.00  7030.71034  2.154655e+06   \n",
       "2017-08-18  302.00  311.79  283.94  293.96  9537.84646  2.858947e+06   \n",
       "2017-08-19  293.31  299.90  278.00  290.91  2146.19773  6.200226e+05   \n",
       "2017-08-20  289.41  300.53  282.85  299.10  2510.13871  7.428479e+05   \n",
       "2017-08-21  299.10  346.52  294.60  323.29  5219.44542  1.689472e+06   \n",
       "\n",
       "            num_trades  taker_base_vol  taker_quote_vol  \n",
       "2017-08-17      4522.0      6224.58999     1.908705e+06  \n",
       "2017-08-18      5658.0      7452.43542     2.240813e+06  \n",
       "2017-08-19      1795.0      1537.97550     4.447136e+05  \n",
       "2017-08-20      2038.0      2186.68739     6.475061e+05  \n",
       "2017-08-21      3925.0      4004.19967     1.297977e+06  "
      ]
     },
     "execution_count": 59,
     "metadata": {},
     "output_type": "execute_result"
    }
   ],
   "source": [
    "df_eth.head()"
   ]
  },
  {
   "cell_type": "code",
   "execution_count": 60,
   "id": "4c6635eb",
   "metadata": {},
   "outputs": [],
   "source": [
    "df_eth[\"month\"] = df_eth.index"
   ]
  },
  {
   "cell_type": "code",
   "execution_count": 61,
   "id": "183b701b",
   "metadata": {},
   "outputs": [],
   "source": [
    "df_eth.month = df_eth.month.apply(lambda x: x.strftime('%Y-%m-01'))"
   ]
  },
  {
   "cell_type": "code",
   "execution_count": 62,
   "id": "58c46a23",
   "metadata": {},
   "outputs": [],
   "source": [
    "df_eth = df_eth[[\"month\"] + [i for i in df_eth if i !=\"month\"]]"
   ]
  },
  {
   "cell_type": "code",
   "execution_count": 63,
   "id": "c1e0f330",
   "metadata": {},
   "outputs": [
    {
     "data": {
      "text/html": [
       "<div>\n",
       "<style scoped>\n",
       "    .dataframe tbody tr th:only-of-type {\n",
       "        vertical-align: middle;\n",
       "    }\n",
       "\n",
       "    .dataframe tbody tr th {\n",
       "        vertical-align: top;\n",
       "    }\n",
       "\n",
       "    .dataframe thead th {\n",
       "        text-align: right;\n",
       "    }\n",
       "</style>\n",
       "<table border=\"1\" class=\"dataframe\">\n",
       "  <thead>\n",
       "    <tr style=\"text-align: right;\">\n",
       "      <th></th>\n",
       "      <th>month</th>\n",
       "      <th>open</th>\n",
       "      <th>high</th>\n",
       "      <th>low</th>\n",
       "      <th>close</th>\n",
       "      <th>volume</th>\n",
       "      <th>qav</th>\n",
       "      <th>num_trades</th>\n",
       "      <th>taker_base_vol</th>\n",
       "      <th>taker_quote_vol</th>\n",
       "    </tr>\n",
       "  </thead>\n",
       "  <tbody>\n",
       "    <tr>\n",
       "      <th>2023-03-03</th>\n",
       "      <td>2023-03-01</td>\n",
       "      <td>1647.86</td>\n",
       "      <td>1649.25</td>\n",
       "      <td>1544.39</td>\n",
       "      <td>1569.45</td>\n",
       "      <td>742816.5976</td>\n",
       "      <td>1.166574e+09</td>\n",
       "      <td>1008133.0</td>\n",
       "      <td>356042.8657</td>\n",
       "      <td>5.589188e+08</td>\n",
       "    </tr>\n",
       "    <tr>\n",
       "      <th>2023-03-04</th>\n",
       "      <td>2023-03-01</td>\n",
       "      <td>1569.45</td>\n",
       "      <td>1577.53</td>\n",
       "      <td>1549.12</td>\n",
       "      <td>1566.73</td>\n",
       "      <td>237640.2606</td>\n",
       "      <td>3.718656e+08</td>\n",
       "      <td>442158.0</td>\n",
       "      <td>114523.6396</td>\n",
       "      <td>1.792425e+08</td>\n",
       "    </tr>\n",
       "    <tr>\n",
       "      <th>2023-03-05</th>\n",
       "      <td>2023-03-01</td>\n",
       "      <td>1566.74</td>\n",
       "      <td>1588.77</td>\n",
       "      <td>1553.05</td>\n",
       "      <td>1564.58</td>\n",
       "      <td>299240.7415</td>\n",
       "      <td>4.697291e+08</td>\n",
       "      <td>505034.0</td>\n",
       "      <td>146252.8571</td>\n",
       "      <td>2.295863e+08</td>\n",
       "    </tr>\n",
       "    <tr>\n",
       "      <th>2023-03-06</th>\n",
       "      <td>2023-03-01</td>\n",
       "      <td>1564.57</td>\n",
       "      <td>1583.49</td>\n",
       "      <td>1554.44</td>\n",
       "      <td>1565.84</td>\n",
       "      <td>307709.3011</td>\n",
       "      <td>4.821468e+08</td>\n",
       "      <td>495130.0</td>\n",
       "      <td>151429.2666</td>\n",
       "      <td>2.373157e+08</td>\n",
       "    </tr>\n",
       "    <tr>\n",
       "      <th>2023-03-07</th>\n",
       "      <td>2023-03-01</td>\n",
       "      <td>1565.84</td>\n",
       "      <td>1584.49</td>\n",
       "      <td>1536.14</td>\n",
       "      <td>1561.96</td>\n",
       "      <td>437947.9032</td>\n",
       "      <td>6.828656e+08</td>\n",
       "      <td>601157.0</td>\n",
       "      <td>222838.1714</td>\n",
       "      <td>3.474979e+08</td>\n",
       "    </tr>\n",
       "  </tbody>\n",
       "</table>\n",
       "</div>"
      ],
      "text/plain": [
       "                 month     open     high      low    close       volume  \\\n",
       "2023-03-03  2023-03-01  1647.86  1649.25  1544.39  1569.45  742816.5976   \n",
       "2023-03-04  2023-03-01  1569.45  1577.53  1549.12  1566.73  237640.2606   \n",
       "2023-03-05  2023-03-01  1566.74  1588.77  1553.05  1564.58  299240.7415   \n",
       "2023-03-06  2023-03-01  1564.57  1583.49  1554.44  1565.84  307709.3011   \n",
       "2023-03-07  2023-03-01  1565.84  1584.49  1536.14  1561.96  437947.9032   \n",
       "\n",
       "                     qav  num_trades  taker_base_vol  taker_quote_vol  \n",
       "2023-03-03  1.166574e+09   1008133.0     356042.8657     5.589188e+08  \n",
       "2023-03-04  3.718656e+08    442158.0     114523.6396     1.792425e+08  \n",
       "2023-03-05  4.697291e+08    505034.0     146252.8571     2.295863e+08  \n",
       "2023-03-06  4.821468e+08    495130.0     151429.2666     2.373157e+08  \n",
       "2023-03-07  6.828656e+08    601157.0     222838.1714     3.474979e+08  "
      ]
     },
     "execution_count": 63,
     "metadata": {},
     "output_type": "execute_result"
    }
   ],
   "source": [
    "df_eth.tail()"
   ]
  },
  {
   "cell_type": "code",
   "execution_count": 64,
   "id": "4150b84c",
   "metadata": {},
   "outputs": [],
   "source": [
    "df = df_eth.copy()"
   ]
  },
  {
   "cell_type": "markdown",
   "id": "c9f77a4b",
   "metadata": {},
   "source": [
    "### Renaming for name convention"
   ]
  },
  {
   "cell_type": "code",
   "execution_count": 65,
   "id": "965ff941",
   "metadata": {},
   "outputs": [],
   "source": [
    "df_btc.rename(columns={\"close\": \"btc_close\", \"volume\": \"btc_volume\", \"num_trades\": \"btc_num_trades\", \"qav\": \"btc_qav\"}, inplace=True)"
   ]
  },
  {
   "cell_type": "code",
   "execution_count": 66,
   "id": "b4d4461c",
   "metadata": {
    "scrolled": true
   },
   "outputs": [],
   "source": [
    "df_fed_eff_funds_rate.rename(columns={\"close\": \"fed_eff_funds_rate_close\"}, inplace=True)"
   ]
  },
  {
   "cell_type": "code",
   "execution_count": 67,
   "id": "fb5d2682",
   "metadata": {},
   "outputs": [],
   "source": [
    "df_nasdaq.rename(columns={\"close\": \"nasdaq_close\"}, inplace=True)"
   ]
  },
  {
   "cell_type": "code",
   "execution_count": 68,
   "id": "46c53e7a",
   "metadata": {},
   "outputs": [],
   "source": [
    "df_real_estate.rename(columns={\"close\": \"real_estate_index_close\"}, inplace=True)"
   ]
  },
  {
   "cell_type": "code",
   "execution_count": 69,
   "id": "1ab2c230",
   "metadata": {},
   "outputs": [],
   "source": [
    "df_sandp.rename(columns={\"close\": \"sp500_close\"}, inplace=True)"
   ]
  },
  {
   "cell_type": "code",
   "execution_count": 70,
   "id": "5b8560f5",
   "metadata": {},
   "outputs": [],
   "source": [
    "df_5_year_us_breakev_inf.index = pd.to_datetime(df_5_year_us_breakev_inf.index)\n",
    "df_10_year_us_breakev_inf.index = pd.to_datetime(df_10_year_us_breakev_inf.index)"
   ]
  },
  {
   "cell_type": "code",
   "execution_count": 71,
   "id": "d4d6203f",
   "metadata": {
    "scrolled": true
   },
   "outputs": [],
   "source": [
    "df_us_treasury_10yto2y.index = pd.to_datetime(df_us_treasury_10yto2y.index)\n",
    "df_us_treasury_10yto3m.index = pd.to_datetime(df_us_treasury_10yto3m.index)"
   ]
  },
  {
   "cell_type": "code",
   "execution_count": 72,
   "id": "46a5ada8",
   "metadata": {},
   "outputs": [],
   "source": [
    "df_us_treasury_total_deposited.index = pd.to_datetime(df_us_treasury_total_deposited.index)\n",
    "df_us_treasury_total_deposited.rename(columns={\"close\": \"us_treasury_total_vol\"}, inplace=True)"
   ]
  },
  {
   "cell_type": "code",
   "execution_count": null,
   "id": "55a57585",
   "metadata": {},
   "outputs": [],
   "source": []
  },
  {
   "cell_type": "markdown",
   "id": "ee942a5a",
   "metadata": {},
   "source": [
    "### Final steps"
   ]
  },
  {
   "cell_type": "code",
   "execution_count": 73,
   "id": "6be5919c",
   "metadata": {},
   "outputs": [],
   "source": [
    "df = pd.merge(df, df_btc[[\"btc_close\", \"btc_volume\", \"btc_num_trades\", \"btc_qav\"]], how=\"left\", left_index=True, right_index=True)"
   ]
  },
  {
   "cell_type": "code",
   "execution_count": 74,
   "id": "e093447e",
   "metadata": {},
   "outputs": [],
   "source": [
    "df_fed_eff_funds_rate.index = df_fed_eff_funds_rate.index.astype(\"str\") ## need for merging\n",
    "df = pd.merge(df, df_fed_eff_funds_rate[\"fed_eff_funds_rate_close\"], how=\"left\", left_on=\"month\", right_index = True)"
   ]
  },
  {
   "cell_type": "code",
   "execution_count": 75,
   "id": "77d9d920",
   "metadata": {
    "scrolled": false
   },
   "outputs": [],
   "source": [
    "df = pd.merge(df, df_nasdaq[\"nasdaq_close\"], how=\"left\", left_index=True, right_index=True)"
   ]
  },
  {
   "cell_type": "code",
   "execution_count": 76,
   "id": "ba794cc4",
   "metadata": {},
   "outputs": [],
   "source": [
    "df = pd.merge(df, df_real_estate[\"real_estate_index_close\"], how=\"left\", left_index=True, right_index=True)"
   ]
  },
  {
   "cell_type": "code",
   "execution_count": 77,
   "id": "3ec544c8",
   "metadata": {},
   "outputs": [],
   "source": [
    "df = pd.merge(df, df_sandp[\"sp500_close\"], how=\"left\", left_index=True, right_index=True)"
   ]
  },
  {
   "cell_type": "code",
   "execution_count": 78,
   "id": "edb128e4",
   "metadata": {},
   "outputs": [],
   "source": [
    "df = pd.merge(df, df_silver, how=\"left\", left_index=True, right_index=True)"
   ]
  },
  {
   "cell_type": "code",
   "execution_count": 79,
   "id": "3ee640e4",
   "metadata": {},
   "outputs": [],
   "source": [
    "df = pd.merge(df, df_5_year_us_breakev_inf, how=\"left\", left_index=True, right_index=True)\n",
    "df = pd.merge(df, df_10_year_us_breakev_inf, how=\"left\", left_index=True, right_index=True)"
   ]
  },
  {
   "cell_type": "code",
   "execution_count": 80,
   "id": "7960ccdd",
   "metadata": {
    "scrolled": false
   },
   "outputs": [],
   "source": [
    "df = pd.merge(df, df_us_treasury_10yto2y, how=\"left\", left_index=True, right_index=True)\n",
    "df = pd.merge(df, df_us_treasury_10yto3m, how=\"left\", left_index=True, right_index=True)"
   ]
  },
  {
   "cell_type": "code",
   "execution_count": 81,
   "id": "82e51bc5",
   "metadata": {},
   "outputs": [],
   "source": [
    "df_us_treasury_total_deposited.index = df_us_treasury_total_deposited.index.astype(\"str\") ## need for merging\n",
    "df = pd.merge(df, df_us_treasury_total_deposited[\"us_treasury_total_vol\"], how=\"left\", left_on=\"month\", right_index = True)"
   ]
  },
  {
   "cell_type": "code",
   "execution_count": 82,
   "id": "61e73be7",
   "metadata": {},
   "outputs": [],
   "source": [
    "df = pd.merge(df, df_gold, how=\"left\", left_index=True, right_index=True)"
   ]
  },
  {
   "cell_type": "code",
   "execution_count": 83,
   "id": "b21195e3",
   "metadata": {},
   "outputs": [],
   "source": [
    "df.rename(columns= dict(zip([i for i in df.iloc[ : , 0:10] if i != \"month\"], [\"eth_\" + i for i in df.iloc[ : , 0:10] if i != \"month\"])), inplace=True)"
   ]
  },
  {
   "cell_type": "code",
   "execution_count": 84,
   "id": "ffd3ec71",
   "metadata": {
    "scrolled": true
   },
   "outputs": [
    {
     "data": {
      "text/plain": [
       "['btc_close',\n",
       " 'btc_volume',\n",
       " 'btc_num_trades',\n",
       " 'btc_qav',\n",
       " 'fed_eff_funds_rate_close',\n",
       " 'nasdaq_close',\n",
       " 'real_estate_index_close',\n",
       " 'sp500_close',\n",
       " 'silver_value',\n",
       " 'us_breake_inf_rate_5y',\n",
       " 'us_breake_inf_rate_10y',\n",
       " 'us_treasury_10yt2y_diff',\n",
       " 'us_treasury_10yt3m_diff',\n",
       " 'us_treasury_total_vol',\n",
       " 'gold_value']"
      ]
     },
     "execution_count": 84,
     "metadata": {},
     "output_type": "execute_result"
    }
   ],
   "source": [
    "### Nan columns (fed, nasdaq etc because of weekends)\n",
    "df.columns[df.isnull().any()].tolist()"
   ]
  },
  {
   "cell_type": "code",
   "execution_count": 85,
   "id": "01753103",
   "metadata": {},
   "outputs": [],
   "source": [
    "### Fulfill nan values with the latest non-null value\n",
    "for column in df.columns[df.isnull().any()].tolist():\n",
    "    df[column].fillna(method='ffill', inplace=True)"
   ]
  },
  {
   "cell_type": "code",
   "execution_count": 86,
   "id": "14877ef6",
   "metadata": {},
   "outputs": [],
   "source": [
    "for column in df.columns:\n",
    "    if \"us_\" in column:\n",
    "        df[column] = df[column].replace(\".\", np.nan)\n",
    "        df[column].fillna(method=\"ffill\", inplace=True)\n",
    "        df[column] = df[column].astype(\"float64\")"
   ]
  },
  {
   "cell_type": "code",
   "execution_count": 87,
   "id": "1293efee",
   "metadata": {},
   "outputs": [],
   "source": [
    "#df.to_csv(\"ethereum_df_withsec1.csv\", index=True)"
   ]
  },
  {
   "cell_type": "code",
   "execution_count": null,
   "id": "3d9ce05e",
   "metadata": {},
   "outputs": [],
   "source": []
  },
  {
   "cell_type": "markdown",
   "id": "0fafbff9",
   "metadata": {},
   "source": [
    "## Section II."
   ]
  },
  {
   "cell_type": "markdown",
   "id": "206b4d5f",
   "metadata": {},
   "source": [
    "### Sentiment analysed news, tweets, reddit comments + Whales transactions"
   ]
  },
  {
   "cell_type": "code",
   "execution_count": 93,
   "id": "455d3507",
   "metadata": {},
   "outputs": [],
   "source": [
    "df_coindesk = pd.read_csv(\"src/section2/final_dataframes/df_coindesk.csv\")\n",
    "df_cointelegraph = pd.read_csv(\"src/section2/final_dataframes/df_cointelegraph.csv\")\n",
    "df_googlenews = pd.read_csv(\"src/section2/final_dataframes/df_googlenews.csv\")\n",
    "df_googletrends = pd.read_csv(\"src/section2/final_dataframes/df_google_trends.csv\")\n",
    "df_reddit = pd.read_csv(\"src/section2/final_dataframes/df_reddit.csv\")\n",
    "## df_twitter\n",
    "df_whales_transactions = pd.read_csv(\"src/section2/final_dataframes/df_whales_transactions.csv\")"
   ]
  },
  {
   "cell_type": "markdown",
   "id": "bc39c26a",
   "metadata": {},
   "source": [
    "### Merge news\n",
    "\n",
    "- Coindesk\n",
    "- Cointelegraph\n",
    "- Googlenews"
   ]
  },
  {
   "cell_type": "code",
   "execution_count": 94,
   "id": "af1689cb",
   "metadata": {
    "scrolled": true
   },
   "outputs": [
    {
     "name": "stdout",
     "output_type": "stream",
     "text": [
      "<class 'pandas.core.frame.DataFrame'>\n",
      "RangeIndex: 1511 entries, 0 to 1510\n",
      "Data columns (total 7 columns):\n",
      " #   Column           Non-Null Count  Dtype  \n",
      "---  ------           --------------  -----  \n",
      " 0   date             1511 non-null   object \n",
      " 1   headline         1511 non-null   object \n",
      " 2   short_text       1511 non-null   object \n",
      " 3   link             1511 non-null   object \n",
      " 4   long_text        1511 non-null   object \n",
      " 5   sentiment        1511 non-null   float64\n",
      " 6   final_sentiment  1511 non-null   float64\n",
      "dtypes: float64(2), object(5)\n",
      "memory usage: 82.8+ KB\n"
     ]
    }
   ],
   "source": [
    "df_coindesk.info() ## cointelegraph, googlenews same structure"
   ]
  },
  {
   "cell_type": "code",
   "execution_count": 95,
   "id": "1a7a76e1",
   "metadata": {},
   "outputs": [],
   "source": [
    "df_news = pd.concat([df_coindesk[[\"date\", \"final_sentiment\"]], df_cointelegraph[[\"date\", \"final_sentiment\"]], df_googlenews[[\"date\", \"final_sentiment\"]]])"
   ]
  },
  {
   "cell_type": "code",
   "execution_count": 96,
   "id": "9c3e6621",
   "metadata": {},
   "outputs": [],
   "source": [
    "df_news.set_index(\"date\", inplace=True)"
   ]
  },
  {
   "cell_type": "code",
   "execution_count": 98,
   "id": "d407b115",
   "metadata": {},
   "outputs": [
    {
     "data": {
      "text/plain": [
       "(7901, 1)"
      ]
     },
     "execution_count": 98,
     "metadata": {},
     "output_type": "execute_result"
    }
   ],
   "source": [
    "df_news.shape"
   ]
  },
  {
   "cell_type": "code",
   "execution_count": 99,
   "id": "fb947b66",
   "metadata": {},
   "outputs": [],
   "source": [
    "df_news = df_news.groupby(\"date\").mean().sort_values(by=\"date\")\n",
    "df_news.rename(columns={\"final_sentiment\": \"news_sentiment\"}, inplace=True)"
   ]
  },
  {
   "cell_type": "code",
   "execution_count": 115,
   "id": "a12e32f1",
   "metadata": {},
   "outputs": [
    {
     "data": {
      "text/plain": [
       "news_sentiment    2018-04-06\n",
       "dtype: object"
      ]
     },
     "execution_count": 115,
     "metadata": {},
     "output_type": "execute_result"
    }
   ],
   "source": [
    "df_news[\"2017-09-01\":].idxmax()"
   ]
  },
  {
   "cell_type": "code",
   "execution_count": 125,
   "id": "9f864b00",
   "metadata": {},
   "outputs": [],
   "source": [
    "df_news = df_news[\"2017-09-01\":]"
   ]
  },
  {
   "cell_type": "code",
   "execution_count": 126,
   "id": "e1863898",
   "metadata": {},
   "outputs": [],
   "source": [
    "df_news.index = pd.to_datetime(df_news.index)"
   ]
  },
  {
   "cell_type": "code",
   "execution_count": 127,
   "id": "ffb24c76",
   "metadata": {},
   "outputs": [
    {
     "data": {
      "text/html": [
       "<div>\n",
       "<style scoped>\n",
       "    .dataframe tbody tr th:only-of-type {\n",
       "        vertical-align: middle;\n",
       "    }\n",
       "\n",
       "    .dataframe tbody tr th {\n",
       "        vertical-align: top;\n",
       "    }\n",
       "\n",
       "    .dataframe thead th {\n",
       "        text-align: right;\n",
       "    }\n",
       "</style>\n",
       "<table border=\"1\" class=\"dataframe\">\n",
       "  <thead>\n",
       "    <tr style=\"text-align: right;\">\n",
       "      <th></th>\n",
       "      <th>news_sentiment</th>\n",
       "    </tr>\n",
       "    <tr>\n",
       "      <th>date</th>\n",
       "      <th></th>\n",
       "    </tr>\n",
       "  </thead>\n",
       "  <tbody>\n",
       "    <tr>\n",
       "      <th>2017-09-01</th>\n",
       "      <td>0.000000</td>\n",
       "    </tr>\n",
       "    <tr>\n",
       "      <th>2017-09-05</th>\n",
       "      <td>-0.217875</td>\n",
       "    </tr>\n",
       "    <tr>\n",
       "      <th>2017-09-07</th>\n",
       "      <td>-0.183300</td>\n",
       "    </tr>\n",
       "    <tr>\n",
       "      <th>2017-09-09</th>\n",
       "      <td>0.159100</td>\n",
       "    </tr>\n",
       "    <tr>\n",
       "      <th>2017-09-10</th>\n",
       "      <td>-0.072200</td>\n",
       "    </tr>\n",
       "  </tbody>\n",
       "</table>\n",
       "</div>"
      ],
      "text/plain": [
       "            news_sentiment\n",
       "date                      \n",
       "2017-09-01        0.000000\n",
       "2017-09-05       -0.217875\n",
       "2017-09-07       -0.183300\n",
       "2017-09-09        0.159100\n",
       "2017-09-10       -0.072200"
      ]
     },
     "execution_count": 127,
     "metadata": {},
     "output_type": "execute_result"
    }
   ],
   "source": [
    "df_news.head()"
   ]
  },
  {
   "cell_type": "markdown",
   "id": "1bffb9f0",
   "metadata": {},
   "source": [
    "### Google Trends\n",
    "\n",
    "- Monthly search trend - Ethereum topic"
   ]
  },
  {
   "cell_type": "code",
   "execution_count": 128,
   "id": "8898d677",
   "metadata": {},
   "outputs": [],
   "source": [
    "df_googletrends.month = df_googletrends.month + \"-01\""
   ]
  },
  {
   "cell_type": "code",
   "execution_count": 129,
   "id": "abcdc972",
   "metadata": {},
   "outputs": [
    {
     "data": {
      "text/html": [
       "<div>\n",
       "<style scoped>\n",
       "    .dataframe tbody tr th:only-of-type {\n",
       "        vertical-align: middle;\n",
       "    }\n",
       "\n",
       "    .dataframe tbody tr th {\n",
       "        vertical-align: top;\n",
       "    }\n",
       "\n",
       "    .dataframe thead th {\n",
       "        text-align: right;\n",
       "    }\n",
       "</style>\n",
       "<table border=\"1\" class=\"dataframe\">\n",
       "  <thead>\n",
       "    <tr style=\"text-align: right;\">\n",
       "      <th></th>\n",
       "      <th>month</th>\n",
       "      <th>ethereum_search_trend</th>\n",
       "    </tr>\n",
       "  </thead>\n",
       "  <tbody>\n",
       "    <tr>\n",
       "      <th>0</th>\n",
       "      <td>2017-09-01</td>\n",
       "      <td>16</td>\n",
       "    </tr>\n",
       "    <tr>\n",
       "      <th>1</th>\n",
       "      <td>2017-10-01</td>\n",
       "      <td>14</td>\n",
       "    </tr>\n",
       "    <tr>\n",
       "      <th>2</th>\n",
       "      <td>2017-11-01</td>\n",
       "      <td>23</td>\n",
       "    </tr>\n",
       "    <tr>\n",
       "      <th>3</th>\n",
       "      <td>2017-12-01</td>\n",
       "      <td>45</td>\n",
       "    </tr>\n",
       "    <tr>\n",
       "      <th>4</th>\n",
       "      <td>2018-01-01</td>\n",
       "      <td>44</td>\n",
       "    </tr>\n",
       "  </tbody>\n",
       "</table>\n",
       "</div>"
      ],
      "text/plain": [
       "        month  ethereum_search_trend\n",
       "0  2017-09-01                     16\n",
       "1  2017-10-01                     14\n",
       "2  2017-11-01                     23\n",
       "3  2017-12-01                     45\n",
       "4  2018-01-01                     44"
      ]
     },
     "execution_count": 129,
     "metadata": {},
     "output_type": "execute_result"
    }
   ],
   "source": [
    "df_googletrends.head()"
   ]
  },
  {
   "cell_type": "code",
   "execution_count": null,
   "id": "7121544e",
   "metadata": {},
   "outputs": [],
   "source": []
  },
  {
   "cell_type": "markdown",
   "id": "082a9bce",
   "metadata": {},
   "source": [
    "### Reddit comments\n",
    "\n",
    "- Filter on comments score > 0 (without spams)"
   ]
  },
  {
   "cell_type": "code",
   "execution_count": 130,
   "id": "152dc569",
   "metadata": {
    "scrolled": false
   },
   "outputs": [],
   "source": [
    "df_reddit = df_reddit[df_reddit.score > 0]"
   ]
  },
  {
   "cell_type": "code",
   "execution_count": 131,
   "id": "34f0072e",
   "metadata": {},
   "outputs": [],
   "source": [
    "df_reddit.rename(columns={\"created_date\": \"date\"}, inplace=True)"
   ]
  },
  {
   "cell_type": "code",
   "execution_count": 132,
   "id": "910bea2f",
   "metadata": {
    "scrolled": false
   },
   "outputs": [
    {
     "name": "stdout",
     "output_type": "stream",
     "text": [
      "<class 'pandas.core.frame.DataFrame'>\n",
      "Int64Index: 4462 entries, 0 to 4696\n",
      "Data columns (total 7 columns):\n",
      " #   Column           Non-Null Count  Dtype  \n",
      "---  ------           --------------  -----  \n",
      " 0   date             4462 non-null   object \n",
      " 1   subreddit        4462 non-null   object \n",
      " 2   body             4462 non-null   object \n",
      " 3   score            4462 non-null   int64  \n",
      " 4   stickied         4462 non-null   bool   \n",
      " 5   final_sentiment  4462 non-null   float64\n",
      " 6   total_score      4462 non-null   int64  \n",
      "dtypes: bool(1), float64(1), int64(2), object(3)\n",
      "memory usage: 248.4+ KB\n"
     ]
    },
    {
     "data": {
      "text/html": [
       "<div>\n",
       "<style scoped>\n",
       "    .dataframe tbody tr th:only-of-type {\n",
       "        vertical-align: middle;\n",
       "    }\n",
       "\n",
       "    .dataframe tbody tr th {\n",
       "        vertical-align: top;\n",
       "    }\n",
       "\n",
       "    .dataframe thead th {\n",
       "        text-align: right;\n",
       "    }\n",
       "</style>\n",
       "<table border=\"1\" class=\"dataframe\">\n",
       "  <thead>\n",
       "    <tr style=\"text-align: right;\">\n",
       "      <th></th>\n",
       "      <th>date</th>\n",
       "      <th>subreddit</th>\n",
       "      <th>body</th>\n",
       "      <th>score</th>\n",
       "      <th>stickied</th>\n",
       "      <th>final_sentiment</th>\n",
       "      <th>total_score</th>\n",
       "    </tr>\n",
       "  </thead>\n",
       "  <tbody>\n",
       "    <tr>\n",
       "      <th>0</th>\n",
       "      <td>2017-09-01</td>\n",
       "      <td>ethtrader</td>\n",
       "      <td>At the moment eth is being used as a store of...</td>\n",
       "      <td>5</td>\n",
       "      <td>False</td>\n",
       "      <td>0.594000</td>\n",
       "      <td>5</td>\n",
       "    </tr>\n",
       "    <tr>\n",
       "      <th>1</th>\n",
       "      <td>2017-09-02</td>\n",
       "      <td>underpopular</td>\n",
       "      <td>This is going to be a long post, so please bea...</td>\n",
       "      <td>1</td>\n",
       "      <td>False</td>\n",
       "      <td>0.999300</td>\n",
       "      <td>1</td>\n",
       "    </tr>\n",
       "    <tr>\n",
       "      <th>2</th>\n",
       "      <td>2017-09-03</td>\n",
       "      <td>NEO</td>\n",
       "      <td>Hi Everyone, is it just me, or does BTC and ET...</td>\n",
       "      <td>23</td>\n",
       "      <td>False</td>\n",
       "      <td>0.429612</td>\n",
       "      <td>33</td>\n",
       "    </tr>\n",
       "    <tr>\n",
       "      <th>3</th>\n",
       "      <td>2017-09-03</td>\n",
       "      <td>ethtrader</td>\n",
       "      <td>https://www.reddit.com/r/ethtrader/comments/6x...</td>\n",
       "      <td>6</td>\n",
       "      <td>False</td>\n",
       "      <td>0.181564</td>\n",
       "      <td>33</td>\n",
       "    </tr>\n",
       "    <tr>\n",
       "      <th>4</th>\n",
       "      <td>2017-09-03</td>\n",
       "      <td>ethtrader</td>\n",
       "      <td>You're either trolling us in regards to Howey ...</td>\n",
       "      <td>4</td>\n",
       "      <td>False</td>\n",
       "      <td>0.108570</td>\n",
       "      <td>33</td>\n",
       "    </tr>\n",
       "  </tbody>\n",
       "</table>\n",
       "</div>"
      ],
      "text/plain": [
       "         date     subreddit  \\\n",
       "0  2017-09-01     ethtrader   \n",
       "1  2017-09-02  underpopular   \n",
       "2  2017-09-03           NEO   \n",
       "3  2017-09-03     ethtrader   \n",
       "4  2017-09-03     ethtrader   \n",
       "\n",
       "                                                body  score  stickied  \\\n",
       "0   At the moment eth is being used as a store of...      5     False   \n",
       "1  This is going to be a long post, so please bea...      1     False   \n",
       "2  Hi Everyone, is it just me, or does BTC and ET...     23     False   \n",
       "3  https://www.reddit.com/r/ethtrader/comments/6x...      6     False   \n",
       "4  You're either trolling us in regards to Howey ...      4     False   \n",
       "\n",
       "   final_sentiment  total_score  \n",
       "0         0.594000            5  \n",
       "1         0.999300            1  \n",
       "2         0.429612           33  \n",
       "3         0.181564           33  \n",
       "4         0.108570           33  "
      ]
     },
     "execution_count": 132,
     "metadata": {},
     "output_type": "execute_result"
    }
   ],
   "source": [
    "df_reddit.info()\n",
    "df_reddit.head()"
   ]
  },
  {
   "cell_type": "code",
   "execution_count": 134,
   "id": "dc16343c",
   "metadata": {},
   "outputs": [],
   "source": [
    "df_reddit = pd.DataFrame(df_reddit.groupby(\"date\").apply(weighted_avg, 'final_sentiment', 'score')).rename(columns={0: \"reddit_sentiment\"})"
   ]
  },
  {
   "cell_type": "code",
   "execution_count": 135,
   "id": "dd08c902",
   "metadata": {},
   "outputs": [],
   "source": [
    "df_reddit.index = pd.to_datetime(df_reddit.index)"
   ]
  },
  {
   "cell_type": "code",
   "execution_count": 136,
   "id": "d1e4e599",
   "metadata": {},
   "outputs": [
    {
     "data": {
      "text/html": [
       "<div>\n",
       "<style scoped>\n",
       "    .dataframe tbody tr th:only-of-type {\n",
       "        vertical-align: middle;\n",
       "    }\n",
       "\n",
       "    .dataframe tbody tr th {\n",
       "        vertical-align: top;\n",
       "    }\n",
       "\n",
       "    .dataframe thead th {\n",
       "        text-align: right;\n",
       "    }\n",
       "</style>\n",
       "<table border=\"1\" class=\"dataframe\">\n",
       "  <thead>\n",
       "    <tr style=\"text-align: right;\">\n",
       "      <th></th>\n",
       "      <th>reddit_sentiment</th>\n",
       "    </tr>\n",
       "    <tr>\n",
       "      <th>date</th>\n",
       "      <th></th>\n",
       "    </tr>\n",
       "  </thead>\n",
       "  <tbody>\n",
       "    <tr>\n",
       "      <th>2017-09-01</th>\n",
       "      <td>0.594000</td>\n",
       "    </tr>\n",
       "    <tr>\n",
       "      <th>2017-09-02</th>\n",
       "      <td>0.999300</td>\n",
       "    </tr>\n",
       "    <tr>\n",
       "      <th>2017-09-03</th>\n",
       "      <td>0.345598</td>\n",
       "    </tr>\n",
       "    <tr>\n",
       "      <th>2017-09-04</th>\n",
       "      <td>0.755500</td>\n",
       "    </tr>\n",
       "    <tr>\n",
       "      <th>2017-09-05</th>\n",
       "      <td>0.297666</td>\n",
       "    </tr>\n",
       "  </tbody>\n",
       "</table>\n",
       "</div>"
      ],
      "text/plain": [
       "            reddit_sentiment\n",
       "date                        \n",
       "2017-09-01          0.594000\n",
       "2017-09-02          0.999300\n",
       "2017-09-03          0.345598\n",
       "2017-09-04          0.755500\n",
       "2017-09-05          0.297666"
      ]
     },
     "execution_count": 136,
     "metadata": {},
     "output_type": "execute_result"
    }
   ],
   "source": [
    "df_reddit.head()"
   ]
  },
  {
   "cell_type": "code",
   "execution_count": null,
   "id": "af96f5b1",
   "metadata": {},
   "outputs": [],
   "source": []
  },
  {
   "cell_type": "markdown",
   "id": "d6055d2b",
   "metadata": {},
   "source": [
    "### Twitter tweets\n",
    "\n",
    "- approx. 25 million"
   ]
  },
  {
   "cell_type": "code",
   "execution_count": null,
   "id": "be6e9acd",
   "metadata": {},
   "outputs": [],
   "source": [
    "## MANUAL RUNS DEL IF FULL RUN\n",
    "df_twitter = pd.read_csv(\"src/section2/final_dataframes/df_twitter_daily.csv\", index_col=\"date\")\n",
    "df_twitter.index = pd.to_datetime(df_twitter.index)"
   ]
  },
  {
   "cell_type": "code",
   "execution_count": null,
   "id": "b14ad7a4",
   "metadata": {},
   "outputs": [],
   "source": [
    "df_twitter.set_index(\"date\", inplace=True)"
   ]
  },
  {
   "cell_type": "code",
   "execution_count": null,
   "id": "91b01491",
   "metadata": {},
   "outputs": [],
   "source": [
    "df_twitter.shape"
   ]
  },
  {
   "cell_type": "code",
   "execution_count": null,
   "id": "e5532fe4",
   "metadata": {},
   "outputs": [],
   "source": [
    "df_twitter.groupby(by=df_twitter.index).aggregate({\"tweet_id\": \"count\"}).plot()"
   ]
  },
  {
   "cell_type": "code",
   "execution_count": null,
   "id": "56d35062",
   "metadata": {},
   "outputs": [],
   "source": [
    "df_twitter.groupby(by=\"username\").aggregate({\"tweet_id\": \"count\", \"likes\": np.mean}).sort_values(by=\"tweet_id\", ascending=False)"
   ]
  },
  {
   "cell_type": "code",
   "execution_count": null,
   "id": "946d2c9f",
   "metadata": {},
   "outputs": [],
   "source": [
    "df_twitter.groupby(by=\"user_location\").aggregate({\"tweet_id\": \"count\", \"likes\": np.mean}).sort_values(by=\"tweet_id\", ascending=False).rename(columns={\"tweet_id\": \"tweets\", \"likes\": \"mean_like\"})"
   ]
  },
  {
   "cell_type": "code",
   "execution_count": null,
   "id": "73435c8a",
   "metadata": {},
   "outputs": [],
   "source": [
    "df_twitter.index.freq=\"D\""
   ]
  },
  {
   "cell_type": "code",
   "execution_count": null,
   "id": "3e099735",
   "metadata": {},
   "outputs": [],
   "source": [
    "len(df_twitter[df_twitter.final_sentiment_test < 0]) # 3.754.943 negatív komment"
   ]
  },
  {
   "cell_type": "code",
   "execution_count": null,
   "id": "efe9eac2",
   "metadata": {},
   "outputs": [],
   "source": [
    "df_twitter.groupby(df_twitter.index).apply(weighted_avg, 'final_sentiment_test', 'user_followers').plot()"
   ]
  },
  {
   "cell_type": "code",
   "execution_count": null,
   "id": "7ef7c0bf",
   "metadata": {},
   "outputs": [],
   "source": [
    "df_twitter.index = pd.to_datetime(df_twitter.index)"
   ]
  },
  {
   "cell_type": "code",
   "execution_count": null,
   "id": "1a192be1",
   "metadata": {},
   "outputs": [],
   "source": [
    "df_twitter = pd.DataFrame(df_twitter)"
   ]
  },
  {
   "cell_type": "code",
   "execution_count": null,
   "id": "b4fd39f7",
   "metadata": {},
   "outputs": [],
   "source": [
    "df_twitter.columns = [\"twitter_sentiment\"]"
   ]
  },
  {
   "cell_type": "code",
   "execution_count": null,
   "id": "286768ec",
   "metadata": {},
   "outputs": [],
   "source": []
  },
  {
   "cell_type": "markdown",
   "id": "c0e82c61",
   "metadata": {},
   "source": [
    "### Whales transactions\n",
    "\n",
    "- Investigate Top 10k wallet-holder (based on ether volume) transactions"
   ]
  },
  {
   "cell_type": "code",
   "execution_count": 137,
   "id": "339183c5",
   "metadata": {},
   "outputs": [],
   "source": [
    "df_whales_transactions.set_index(\"block_date\", inplace=True)"
   ]
  },
  {
   "cell_type": "code",
   "execution_count": 138,
   "id": "47719cd1",
   "metadata": {},
   "outputs": [],
   "source": [
    "df_whales_transactions.drop(columns=\"total_value_in_wei\", inplace=True)\n",
    "df_whales_transactions.rename(columns={\"transactions_number\": \"whales_tx_number\", \"total_value_in_eth\": \"whales_tx_total_value\"}, inplace=True)\n",
    "df_whales_transactions.index = pd.to_datetime(df_whales_transactions.index)"
   ]
  },
  {
   "cell_type": "code",
   "execution_count": 139,
   "id": "22963ace",
   "metadata": {},
   "outputs": [
    {
     "data": {
      "text/html": [
       "<div>\n",
       "<style scoped>\n",
       "    .dataframe tbody tr th:only-of-type {\n",
       "        vertical-align: middle;\n",
       "    }\n",
       "\n",
       "    .dataframe tbody tr th {\n",
       "        vertical-align: top;\n",
       "    }\n",
       "\n",
       "    .dataframe thead th {\n",
       "        text-align: right;\n",
       "    }\n",
       "</style>\n",
       "<table border=\"1\" class=\"dataframe\">\n",
       "  <thead>\n",
       "    <tr style=\"text-align: right;\">\n",
       "      <th></th>\n",
       "      <th>unique_whales</th>\n",
       "      <th>whales_tx_number</th>\n",
       "      <th>whales_tx_total_value</th>\n",
       "    </tr>\n",
       "    <tr>\n",
       "      <th>block_date</th>\n",
       "      <th></th>\n",
       "      <th></th>\n",
       "      <th></th>\n",
       "    </tr>\n",
       "  </thead>\n",
       "  <tbody>\n",
       "    <tr>\n",
       "      <th>2017-09-01</th>\n",
       "      <td>34</td>\n",
       "      <td>15152</td>\n",
       "      <td>252097.047481</td>\n",
       "    </tr>\n",
       "    <tr>\n",
       "      <th>2017-09-02</th>\n",
       "      <td>23</td>\n",
       "      <td>11954</td>\n",
       "      <td>248823.974101</td>\n",
       "    </tr>\n",
       "    <tr>\n",
       "      <th>2017-09-03</th>\n",
       "      <td>20</td>\n",
       "      <td>10057</td>\n",
       "      <td>255170.337320</td>\n",
       "    </tr>\n",
       "    <tr>\n",
       "      <th>2017-09-04</th>\n",
       "      <td>29</td>\n",
       "      <td>14909</td>\n",
       "      <td>410476.448998</td>\n",
       "    </tr>\n",
       "    <tr>\n",
       "      <th>2017-09-05</th>\n",
       "      <td>31</td>\n",
       "      <td>14850</td>\n",
       "      <td>362925.798912</td>\n",
       "    </tr>\n",
       "  </tbody>\n",
       "</table>\n",
       "</div>"
      ],
      "text/plain": [
       "            unique_whales  whales_tx_number  whales_tx_total_value\n",
       "block_date                                                        \n",
       "2017-09-01             34             15152          252097.047481\n",
       "2017-09-02             23             11954          248823.974101\n",
       "2017-09-03             20             10057          255170.337320\n",
       "2017-09-04             29             14909          410476.448998\n",
       "2017-09-05             31             14850          362925.798912"
      ]
     },
     "execution_count": 139,
     "metadata": {},
     "output_type": "execute_result"
    }
   ],
   "source": [
    "df_whales_transactions.head()"
   ]
  },
  {
   "cell_type": "code",
   "execution_count": null,
   "id": "7a210a2d",
   "metadata": {},
   "outputs": [],
   "source": []
  },
  {
   "cell_type": "markdown",
   "id": "27f7fbc7",
   "metadata": {},
   "source": [
    "### Merge Section 2 dataframes"
   ]
  },
  {
   "cell_type": "code",
   "execution_count": 140,
   "id": "40a20287",
   "metadata": {},
   "outputs": [],
   "source": [
    "df = pd.merge(df, df_news, how=\"left\", left_index=True, right_index=True)"
   ]
  },
  {
   "cell_type": "code",
   "execution_count": 141,
   "id": "3f4af6d2",
   "metadata": {},
   "outputs": [],
   "source": [
    "df = df.merge(df_googletrends, how=\"left\", left_on=\"month\", right_on=\"month\").set_index(df.index)"
   ]
  },
  {
   "cell_type": "code",
   "execution_count": 142,
   "id": "a5fc3f6a",
   "metadata": {},
   "outputs": [],
   "source": [
    "df = pd.merge(df, df_reddit, how=\"left\", left_index=True, right_index=True)"
   ]
  },
  {
   "cell_type": "code",
   "execution_count": 143,
   "id": "9b5c5dee",
   "metadata": {},
   "outputs": [],
   "source": [
    "# df_twitter"
   ]
  },
  {
   "cell_type": "code",
   "execution_count": 144,
   "id": "e070a17d",
   "metadata": {},
   "outputs": [],
   "source": [
    "df = pd.merge(df, df_whales_transactions, how=\"left\", left_index=True, right_index=True)"
   ]
  },
  {
   "cell_type": "code",
   "execution_count": 145,
   "id": "65c0a4d2",
   "metadata": {},
   "outputs": [],
   "source": [
    "### Fulfill nan values with the latest non-null value\n",
    "for column in df.columns[df.isnull().any()].tolist():\n",
    "    df[column].fillna(method='ffill', inplace=True)"
   ]
  },
  {
   "cell_type": "code",
   "execution_count": 146,
   "id": "ffcd2992",
   "metadata": {},
   "outputs": [
    {
     "data": {
      "text/html": [
       "<div>\n",
       "<style scoped>\n",
       "    .dataframe tbody tr th:only-of-type {\n",
       "        vertical-align: middle;\n",
       "    }\n",
       "\n",
       "    .dataframe tbody tr th {\n",
       "        vertical-align: top;\n",
       "    }\n",
       "\n",
       "    .dataframe thead th {\n",
       "        text-align: right;\n",
       "    }\n",
       "</style>\n",
       "<table border=\"1\" class=\"dataframe\">\n",
       "  <thead>\n",
       "    <tr style=\"text-align: right;\">\n",
       "      <th></th>\n",
       "      <th>month</th>\n",
       "      <th>eth_open</th>\n",
       "      <th>eth_high</th>\n",
       "      <th>eth_low</th>\n",
       "      <th>eth_close</th>\n",
       "      <th>eth_volume</th>\n",
       "      <th>eth_qav</th>\n",
       "      <th>eth_num_trades</th>\n",
       "      <th>eth_taker_base_vol</th>\n",
       "      <th>eth_taker_quote_vol</th>\n",
       "      <th>...</th>\n",
       "      <th>us_treasury_10yt2y_diff</th>\n",
       "      <th>us_treasury_10yt3m_diff</th>\n",
       "      <th>us_treasury_total_vol</th>\n",
       "      <th>gold_value</th>\n",
       "      <th>news_sentiment</th>\n",
       "      <th>ethereum_search_trend</th>\n",
       "      <th>reddit_sentiment</th>\n",
       "      <th>unique_whales</th>\n",
       "      <th>whales_tx_number</th>\n",
       "      <th>whales_tx_total_value</th>\n",
       "    </tr>\n",
       "  </thead>\n",
       "  <tbody>\n",
       "    <tr>\n",
       "      <th>2017-08-17</th>\n",
       "      <td>2017-08-01</td>\n",
       "      <td>301.13</td>\n",
       "      <td>312.18</td>\n",
       "      <td>298.00</td>\n",
       "      <td>302.00</td>\n",
       "      <td>7030.71034</td>\n",
       "      <td>2.154655e+06</td>\n",
       "      <td>4522.0</td>\n",
       "      <td>6224.58999</td>\n",
       "      <td>1.908705e+06</td>\n",
       "      <td>...</td>\n",
       "      <td>NaN</td>\n",
       "      <td>NaN</td>\n",
       "      <td>NaN</td>\n",
       "      <td>NaN</td>\n",
       "      <td>NaN</td>\n",
       "      <td>NaN</td>\n",
       "      <td>NaN</td>\n",
       "      <td>NaN</td>\n",
       "      <td>NaN</td>\n",
       "      <td>NaN</td>\n",
       "    </tr>\n",
       "    <tr>\n",
       "      <th>2017-08-18</th>\n",
       "      <td>2017-08-01</td>\n",
       "      <td>302.00</td>\n",
       "      <td>311.79</td>\n",
       "      <td>283.94</td>\n",
       "      <td>293.96</td>\n",
       "      <td>9537.84646</td>\n",
       "      <td>2.858947e+06</td>\n",
       "      <td>5658.0</td>\n",
       "      <td>7452.43542</td>\n",
       "      <td>2.240813e+06</td>\n",
       "      <td>...</td>\n",
       "      <td>NaN</td>\n",
       "      <td>NaN</td>\n",
       "      <td>NaN</td>\n",
       "      <td>NaN</td>\n",
       "      <td>NaN</td>\n",
       "      <td>NaN</td>\n",
       "      <td>NaN</td>\n",
       "      <td>NaN</td>\n",
       "      <td>NaN</td>\n",
       "      <td>NaN</td>\n",
       "    </tr>\n",
       "    <tr>\n",
       "      <th>2017-08-19</th>\n",
       "      <td>2017-08-01</td>\n",
       "      <td>293.31</td>\n",
       "      <td>299.90</td>\n",
       "      <td>278.00</td>\n",
       "      <td>290.91</td>\n",
       "      <td>2146.19773</td>\n",
       "      <td>6.200226e+05</td>\n",
       "      <td>1795.0</td>\n",
       "      <td>1537.97550</td>\n",
       "      <td>4.447136e+05</td>\n",
       "      <td>...</td>\n",
       "      <td>NaN</td>\n",
       "      <td>NaN</td>\n",
       "      <td>NaN</td>\n",
       "      <td>NaN</td>\n",
       "      <td>NaN</td>\n",
       "      <td>NaN</td>\n",
       "      <td>NaN</td>\n",
       "      <td>NaN</td>\n",
       "      <td>NaN</td>\n",
       "      <td>NaN</td>\n",
       "    </tr>\n",
       "    <tr>\n",
       "      <th>2017-08-20</th>\n",
       "      <td>2017-08-01</td>\n",
       "      <td>289.41</td>\n",
       "      <td>300.53</td>\n",
       "      <td>282.85</td>\n",
       "      <td>299.10</td>\n",
       "      <td>2510.13871</td>\n",
       "      <td>7.428479e+05</td>\n",
       "      <td>2038.0</td>\n",
       "      <td>2186.68739</td>\n",
       "      <td>6.475061e+05</td>\n",
       "      <td>...</td>\n",
       "      <td>NaN</td>\n",
       "      <td>NaN</td>\n",
       "      <td>NaN</td>\n",
       "      <td>NaN</td>\n",
       "      <td>NaN</td>\n",
       "      <td>NaN</td>\n",
       "      <td>NaN</td>\n",
       "      <td>NaN</td>\n",
       "      <td>NaN</td>\n",
       "      <td>NaN</td>\n",
       "    </tr>\n",
       "    <tr>\n",
       "      <th>2017-08-21</th>\n",
       "      <td>2017-08-01</td>\n",
       "      <td>299.10</td>\n",
       "      <td>346.52</td>\n",
       "      <td>294.60</td>\n",
       "      <td>323.29</td>\n",
       "      <td>5219.44542</td>\n",
       "      <td>1.689472e+06</td>\n",
       "      <td>3925.0</td>\n",
       "      <td>4004.19967</td>\n",
       "      <td>1.297977e+06</td>\n",
       "      <td>...</td>\n",
       "      <td>NaN</td>\n",
       "      <td>NaN</td>\n",
       "      <td>NaN</td>\n",
       "      <td>NaN</td>\n",
       "      <td>NaN</td>\n",
       "      <td>NaN</td>\n",
       "      <td>NaN</td>\n",
       "      <td>NaN</td>\n",
       "      <td>NaN</td>\n",
       "      <td>NaN</td>\n",
       "    </tr>\n",
       "  </tbody>\n",
       "</table>\n",
       "<p>5 rows × 31 columns</p>\n",
       "</div>"
      ],
      "text/plain": [
       "                 month  eth_open  eth_high  eth_low  eth_close  eth_volume  \\\n",
       "2017-08-17  2017-08-01    301.13    312.18   298.00     302.00  7030.71034   \n",
       "2017-08-18  2017-08-01    302.00    311.79   283.94     293.96  9537.84646   \n",
       "2017-08-19  2017-08-01    293.31    299.90   278.00     290.91  2146.19773   \n",
       "2017-08-20  2017-08-01    289.41    300.53   282.85     299.10  2510.13871   \n",
       "2017-08-21  2017-08-01    299.10    346.52   294.60     323.29  5219.44542   \n",
       "\n",
       "                 eth_qav  eth_num_trades  eth_taker_base_vol  \\\n",
       "2017-08-17  2.154655e+06          4522.0          6224.58999   \n",
       "2017-08-18  2.858947e+06          5658.0          7452.43542   \n",
       "2017-08-19  6.200226e+05          1795.0          1537.97550   \n",
       "2017-08-20  7.428479e+05          2038.0          2186.68739   \n",
       "2017-08-21  1.689472e+06          3925.0          4004.19967   \n",
       "\n",
       "            eth_taker_quote_vol  ...  us_treasury_10yt2y_diff  \\\n",
       "2017-08-17         1.908705e+06  ...                      NaN   \n",
       "2017-08-18         2.240813e+06  ...                      NaN   \n",
       "2017-08-19         4.447136e+05  ...                      NaN   \n",
       "2017-08-20         6.475061e+05  ...                      NaN   \n",
       "2017-08-21         1.297977e+06  ...                      NaN   \n",
       "\n",
       "            us_treasury_10yt3m_diff  us_treasury_total_vol  gold_value  \\\n",
       "2017-08-17                      NaN                    NaN         NaN   \n",
       "2017-08-18                      NaN                    NaN         NaN   \n",
       "2017-08-19                      NaN                    NaN         NaN   \n",
       "2017-08-20                      NaN                    NaN         NaN   \n",
       "2017-08-21                      NaN                    NaN         NaN   \n",
       "\n",
       "            news_sentiment  ethereum_search_trend  reddit_sentiment  \\\n",
       "2017-08-17             NaN                    NaN               NaN   \n",
       "2017-08-18             NaN                    NaN               NaN   \n",
       "2017-08-19             NaN                    NaN               NaN   \n",
       "2017-08-20             NaN                    NaN               NaN   \n",
       "2017-08-21             NaN                    NaN               NaN   \n",
       "\n",
       "            unique_whales  whales_tx_number  whales_tx_total_value  \n",
       "2017-08-17            NaN               NaN                    NaN  \n",
       "2017-08-18            NaN               NaN                    NaN  \n",
       "2017-08-19            NaN               NaN                    NaN  \n",
       "2017-08-20            NaN               NaN                    NaN  \n",
       "2017-08-21            NaN               NaN                    NaN  \n",
       "\n",
       "[5 rows x 31 columns]"
      ]
     },
     "execution_count": 146,
     "metadata": {},
     "output_type": "execute_result"
    }
   ],
   "source": [
    "df.head()"
   ]
  },
  {
   "cell_type": "code",
   "execution_count": null,
   "id": "0c12fe4e",
   "metadata": {},
   "outputs": [],
   "source": []
  },
  {
   "cell_type": "markdown",
   "id": "83cf44fc",
   "metadata": {},
   "source": [
    "## Section III."
   ]
  },
  {
   "cell_type": "markdown",
   "id": "bd7aa112",
   "metadata": {},
   "source": [
    "## Technical indicators"
   ]
  },
  {
   "cell_type": "markdown",
   "id": "eea7d862",
   "metadata": {},
   "source": [
    "https://www.elearnmarkets.com/blog/best-25-technical-indicators/"
   ]
  },
  {
   "cell_type": "markdown",
   "id": "b8c45641",
   "metadata": {},
   "source": [
    "### Momentum indicators"
   ]
  },
  {
   "cell_type": "code",
   "execution_count": 148,
   "id": "5b84160d",
   "metadata": {},
   "outputs": [],
   "source": [
    "macd, signal, hist = calculate_macd(df['eth_close'], 26, 12, 9)"
   ]
  },
  {
   "cell_type": "code",
   "execution_count": 149,
   "id": "ae0283dd",
   "metadata": {},
   "outputs": [],
   "source": [
    "df[\"macd\"] = macd\n",
    "df[\"signal\"] = signal\n",
    "df[\"hist\"] = hist"
   ]
  },
  {
   "cell_type": "code",
   "execution_count": 151,
   "id": "a6b3edbd",
   "metadata": {},
   "outputs": [],
   "source": [
    "df[\"rsi\"] = calculate_rsi(df.eth_close)"
   ]
  },
  {
   "cell_type": "code",
   "execution_count": 152,
   "id": "99071ad1",
   "metadata": {},
   "outputs": [
    {
     "data": {
      "text/html": [
       "<div>\n",
       "<style scoped>\n",
       "    .dataframe tbody tr th:only-of-type {\n",
       "        vertical-align: middle;\n",
       "    }\n",
       "\n",
       "    .dataframe tbody tr th {\n",
       "        vertical-align: top;\n",
       "    }\n",
       "\n",
       "    .dataframe thead th {\n",
       "        text-align: right;\n",
       "    }\n",
       "</style>\n",
       "<table border=\"1\" class=\"dataframe\">\n",
       "  <thead>\n",
       "    <tr style=\"text-align: right;\">\n",
       "      <th></th>\n",
       "      <th>month</th>\n",
       "      <th>eth_open</th>\n",
       "      <th>eth_high</th>\n",
       "      <th>eth_low</th>\n",
       "      <th>eth_close</th>\n",
       "      <th>eth_volume</th>\n",
       "      <th>eth_qav</th>\n",
       "      <th>eth_num_trades</th>\n",
       "      <th>eth_taker_base_vol</th>\n",
       "      <th>eth_taker_quote_vol</th>\n",
       "      <th>...</th>\n",
       "      <th>news_sentiment</th>\n",
       "      <th>ethereum_search_trend</th>\n",
       "      <th>reddit_sentiment</th>\n",
       "      <th>unique_whales</th>\n",
       "      <th>whales_tx_number</th>\n",
       "      <th>whales_tx_total_value</th>\n",
       "      <th>macd</th>\n",
       "      <th>signal</th>\n",
       "      <th>hist</th>\n",
       "      <th>rsi</th>\n",
       "    </tr>\n",
       "  </thead>\n",
       "  <tbody>\n",
       "    <tr>\n",
       "      <th>2017-08-17</th>\n",
       "      <td>2017-08-01</td>\n",
       "      <td>301.13</td>\n",
       "      <td>312.18</td>\n",
       "      <td>298.00</td>\n",
       "      <td>302.00</td>\n",
       "      <td>7030.71034</td>\n",
       "      <td>2.154655e+06</td>\n",
       "      <td>4522.0</td>\n",
       "      <td>6224.58999</td>\n",
       "      <td>1.908705e+06</td>\n",
       "      <td>...</td>\n",
       "      <td>NaN</td>\n",
       "      <td>NaN</td>\n",
       "      <td>NaN</td>\n",
       "      <td>NaN</td>\n",
       "      <td>NaN</td>\n",
       "      <td>NaN</td>\n",
       "      <td>0.000000</td>\n",
       "      <td>0.000000</td>\n",
       "      <td>0.000000</td>\n",
       "      <td>NaN</td>\n",
       "    </tr>\n",
       "    <tr>\n",
       "      <th>2017-08-18</th>\n",
       "      <td>2017-08-01</td>\n",
       "      <td>302.00</td>\n",
       "      <td>311.79</td>\n",
       "      <td>283.94</td>\n",
       "      <td>293.96</td>\n",
       "      <td>9537.84646</td>\n",
       "      <td>2.858947e+06</td>\n",
       "      <td>5658.0</td>\n",
       "      <td>7452.43542</td>\n",
       "      <td>2.240813e+06</td>\n",
       "      <td>...</td>\n",
       "      <td>NaN</td>\n",
       "      <td>NaN</td>\n",
       "      <td>NaN</td>\n",
       "      <td>NaN</td>\n",
       "      <td>NaN</td>\n",
       "      <td>NaN</td>\n",
       "      <td>-0.641368</td>\n",
       "      <td>-0.128274</td>\n",
       "      <td>-0.513094</td>\n",
       "      <td>NaN</td>\n",
       "    </tr>\n",
       "    <tr>\n",
       "      <th>2017-08-19</th>\n",
       "      <td>2017-08-01</td>\n",
       "      <td>293.31</td>\n",
       "      <td>299.90</td>\n",
       "      <td>278.00</td>\n",
       "      <td>290.91</td>\n",
       "      <td>2146.19773</td>\n",
       "      <td>6.200226e+05</td>\n",
       "      <td>1795.0</td>\n",
       "      <td>1537.97550</td>\n",
       "      <td>4.447136e+05</td>\n",
       "      <td>...</td>\n",
       "      <td>NaN</td>\n",
       "      <td>NaN</td>\n",
       "      <td>NaN</td>\n",
       "      <td>NaN</td>\n",
       "      <td>NaN</td>\n",
       "      <td>NaN</td>\n",
       "      <td>-1.379859</td>\n",
       "      <td>-0.378591</td>\n",
       "      <td>-1.001269</td>\n",
       "      <td>NaN</td>\n",
       "    </tr>\n",
       "    <tr>\n",
       "      <th>2017-08-20</th>\n",
       "      <td>2017-08-01</td>\n",
       "      <td>289.41</td>\n",
       "      <td>300.53</td>\n",
       "      <td>282.85</td>\n",
       "      <td>299.10</td>\n",
       "      <td>2510.13871</td>\n",
       "      <td>7.428479e+05</td>\n",
       "      <td>2038.0</td>\n",
       "      <td>2186.68739</td>\n",
       "      <td>6.475061e+05</td>\n",
       "      <td>...</td>\n",
       "      <td>NaN</td>\n",
       "      <td>NaN</td>\n",
       "      <td>NaN</td>\n",
       "      <td>NaN</td>\n",
       "      <td>NaN</td>\n",
       "      <td>NaN</td>\n",
       "      <td>-1.289391</td>\n",
       "      <td>-0.560751</td>\n",
       "      <td>-0.728641</td>\n",
       "      <td>NaN</td>\n",
       "    </tr>\n",
       "    <tr>\n",
       "      <th>2017-08-21</th>\n",
       "      <td>2017-08-01</td>\n",
       "      <td>299.10</td>\n",
       "      <td>346.52</td>\n",
       "      <td>294.60</td>\n",
       "      <td>323.29</td>\n",
       "      <td>5219.44542</td>\n",
       "      <td>1.689472e+06</td>\n",
       "      <td>3925.0</td>\n",
       "      <td>4004.19967</td>\n",
       "      <td>1.297977e+06</td>\n",
       "      <td>...</td>\n",
       "      <td>NaN</td>\n",
       "      <td>NaN</td>\n",
       "      <td>NaN</td>\n",
       "      <td>NaN</td>\n",
       "      <td>NaN</td>\n",
       "      <td>NaN</td>\n",
       "      <td>0.725868</td>\n",
       "      <td>-0.303427</td>\n",
       "      <td>1.029295</td>\n",
       "      <td>NaN</td>\n",
       "    </tr>\n",
       "  </tbody>\n",
       "</table>\n",
       "<p>5 rows × 35 columns</p>\n",
       "</div>"
      ],
      "text/plain": [
       "                 month  eth_open  eth_high  eth_low  eth_close  eth_volume  \\\n",
       "2017-08-17  2017-08-01    301.13    312.18   298.00     302.00  7030.71034   \n",
       "2017-08-18  2017-08-01    302.00    311.79   283.94     293.96  9537.84646   \n",
       "2017-08-19  2017-08-01    293.31    299.90   278.00     290.91  2146.19773   \n",
       "2017-08-20  2017-08-01    289.41    300.53   282.85     299.10  2510.13871   \n",
       "2017-08-21  2017-08-01    299.10    346.52   294.60     323.29  5219.44542   \n",
       "\n",
       "                 eth_qav  eth_num_trades  eth_taker_base_vol  \\\n",
       "2017-08-17  2.154655e+06          4522.0          6224.58999   \n",
       "2017-08-18  2.858947e+06          5658.0          7452.43542   \n",
       "2017-08-19  6.200226e+05          1795.0          1537.97550   \n",
       "2017-08-20  7.428479e+05          2038.0          2186.68739   \n",
       "2017-08-21  1.689472e+06          3925.0          4004.19967   \n",
       "\n",
       "            eth_taker_quote_vol  ...  news_sentiment  ethereum_search_trend  \\\n",
       "2017-08-17         1.908705e+06  ...             NaN                    NaN   \n",
       "2017-08-18         2.240813e+06  ...             NaN                    NaN   \n",
       "2017-08-19         4.447136e+05  ...             NaN                    NaN   \n",
       "2017-08-20         6.475061e+05  ...             NaN                    NaN   \n",
       "2017-08-21         1.297977e+06  ...             NaN                    NaN   \n",
       "\n",
       "            reddit_sentiment  unique_whales  whales_tx_number  \\\n",
       "2017-08-17               NaN            NaN               NaN   \n",
       "2017-08-18               NaN            NaN               NaN   \n",
       "2017-08-19               NaN            NaN               NaN   \n",
       "2017-08-20               NaN            NaN               NaN   \n",
       "2017-08-21               NaN            NaN               NaN   \n",
       "\n",
       "            whales_tx_total_value      macd    signal      hist  rsi  \n",
       "2017-08-17                    NaN  0.000000  0.000000  0.000000  NaN  \n",
       "2017-08-18                    NaN -0.641368 -0.128274 -0.513094  NaN  \n",
       "2017-08-19                    NaN -1.379859 -0.378591 -1.001269  NaN  \n",
       "2017-08-20                    NaN -1.289391 -0.560751 -0.728641  NaN  \n",
       "2017-08-21                    NaN  0.725868 -0.303427  1.029295  NaN  \n",
       "\n",
       "[5 rows x 35 columns]"
      ]
     },
     "execution_count": 152,
     "metadata": {},
     "output_type": "execute_result"
    }
   ],
   "source": [
    "df.head()"
   ]
  },
  {
   "cell_type": "code",
   "execution_count": 154,
   "id": "c98762b4",
   "metadata": {},
   "outputs": [],
   "source": [
    "smi, smi_signal = calculate_smi(df)"
   ]
  },
  {
   "cell_type": "code",
   "execution_count": 155,
   "id": "1267b4c4",
   "metadata": {},
   "outputs": [],
   "source": [
    "df[\"smi\"] = smi\n",
    "df[\"smi_signal\"] = smi_signal"
   ]
  },
  {
   "cell_type": "code",
   "execution_count": null,
   "id": "e0bb042f",
   "metadata": {},
   "outputs": [],
   "source": []
  },
  {
   "cell_type": "markdown",
   "id": "20f7bf47",
   "metadata": {},
   "source": [
    "### Trend indicators"
   ]
  },
  {
   "cell_type": "code",
   "execution_count": 157,
   "id": "288b7c15",
   "metadata": {},
   "outputs": [],
   "source": [
    "ma_12, ma_26 = calculate_ma(df)"
   ]
  },
  {
   "cell_type": "code",
   "execution_count": 158,
   "id": "29fcb15b",
   "metadata": {},
   "outputs": [],
   "source": [
    "df[\"ma_12\"] = ma_12\n",
    "df[\"ma_26\"] = ma_26"
   ]
  },
  {
   "cell_type": "code",
   "execution_count": 159,
   "id": "4417c6f0",
   "metadata": {},
   "outputs": [
    {
     "data": {
      "text/html": [
       "<div>\n",
       "<style scoped>\n",
       "    .dataframe tbody tr th:only-of-type {\n",
       "        vertical-align: middle;\n",
       "    }\n",
       "\n",
       "    .dataframe tbody tr th {\n",
       "        vertical-align: top;\n",
       "    }\n",
       "\n",
       "    .dataframe thead th {\n",
       "        text-align: right;\n",
       "    }\n",
       "</style>\n",
       "<table border=\"1\" class=\"dataframe\">\n",
       "  <thead>\n",
       "    <tr style=\"text-align: right;\">\n",
       "      <th></th>\n",
       "      <th>month</th>\n",
       "      <th>eth_open</th>\n",
       "      <th>eth_high</th>\n",
       "      <th>eth_low</th>\n",
       "      <th>eth_close</th>\n",
       "      <th>eth_volume</th>\n",
       "      <th>eth_qav</th>\n",
       "      <th>eth_num_trades</th>\n",
       "      <th>eth_taker_base_vol</th>\n",
       "      <th>eth_taker_quote_vol</th>\n",
       "      <th>...</th>\n",
       "      <th>whales_tx_number</th>\n",
       "      <th>whales_tx_total_value</th>\n",
       "      <th>macd</th>\n",
       "      <th>signal</th>\n",
       "      <th>hist</th>\n",
       "      <th>rsi</th>\n",
       "      <th>smi</th>\n",
       "      <th>smi_signal</th>\n",
       "      <th>ma_12</th>\n",
       "      <th>ma_26</th>\n",
       "    </tr>\n",
       "  </thead>\n",
       "  <tbody>\n",
       "    <tr>\n",
       "      <th>2023-03-03</th>\n",
       "      <td>2023-03-01</td>\n",
       "      <td>1647.86</td>\n",
       "      <td>1649.25</td>\n",
       "      <td>1544.39</td>\n",
       "      <td>1569.45</td>\n",
       "      <td>742816.5976</td>\n",
       "      <td>1.166574e+09</td>\n",
       "      <td>1008133.0</td>\n",
       "      <td>356042.8657</td>\n",
       "      <td>5.589188e+08</td>\n",
       "      <td>...</td>\n",
       "      <td>70251.0</td>\n",
       "      <td>632832.176035</td>\n",
       "      <td>9.490106</td>\n",
       "      <td>18.102317</td>\n",
       "      <td>-8.612212</td>\n",
       "      <td>44.984486</td>\n",
       "      <td>-32.418657</td>\n",
       "      <td>-7.404311</td>\n",
       "      <td>1635.137500</td>\n",
       "      <td>1619.542308</td>\n",
       "    </tr>\n",
       "    <tr>\n",
       "      <th>2023-03-04</th>\n",
       "      <td>2023-03-01</td>\n",
       "      <td>1569.45</td>\n",
       "      <td>1577.53</td>\n",
       "      <td>1549.12</td>\n",
       "      <td>1566.73</td>\n",
       "      <td>237640.2606</td>\n",
       "      <td>3.718656e+08</td>\n",
       "      <td>442158.0</td>\n",
       "      <td>114523.6396</td>\n",
       "      <td>1.792425e+08</td>\n",
       "      <td>...</td>\n",
       "      <td>56069.0</td>\n",
       "      <td>186043.394232</td>\n",
       "      <td>4.027388</td>\n",
       "      <td>15.287331</td>\n",
       "      <td>-11.259944</td>\n",
       "      <td>44.719157</td>\n",
       "      <td>-26.376173</td>\n",
       "      <td>-18.186120</td>\n",
       "      <td>1623.759167</td>\n",
       "      <td>1617.713077</td>\n",
       "    </tr>\n",
       "    <tr>\n",
       "      <th>2023-03-05</th>\n",
       "      <td>2023-03-01</td>\n",
       "      <td>1566.74</td>\n",
       "      <td>1588.77</td>\n",
       "      <td>1553.05</td>\n",
       "      <td>1564.58</td>\n",
       "      <td>299240.7415</td>\n",
       "      <td>4.697291e+08</td>\n",
       "      <td>505034.0</td>\n",
       "      <td>146252.8571</td>\n",
       "      <td>2.295863e+08</td>\n",
       "      <td>...</td>\n",
       "      <td>55417.0</td>\n",
       "      <td>157885.706665</td>\n",
       "      <td>-0.469926</td>\n",
       "      <td>12.135880</td>\n",
       "      <td>-12.605806</td>\n",
       "      <td>44.495751</td>\n",
       "      <td>-15.426672</td>\n",
       "      <td>-24.740501</td>\n",
       "      <td>1615.827500</td>\n",
       "      <td>1613.618846</td>\n",
       "    </tr>\n",
       "    <tr>\n",
       "      <th>2023-03-06</th>\n",
       "      <td>2023-03-01</td>\n",
       "      <td>1564.57</td>\n",
       "      <td>1583.49</td>\n",
       "      <td>1554.44</td>\n",
       "      <td>1565.84</td>\n",
       "      <td>307709.3011</td>\n",
       "      <td>4.821468e+08</td>\n",
       "      <td>495130.0</td>\n",
       "      <td>151429.2666</td>\n",
       "      <td>2.373157e+08</td>\n",
       "      <td>...</td>\n",
       "      <td>57322.0</td>\n",
       "      <td>561503.516236</td>\n",
       "      <td>-3.887594</td>\n",
       "      <td>8.931185</td>\n",
       "      <td>-12.818779</td>\n",
       "      <td>44.670203</td>\n",
       "      <td>-4.575024</td>\n",
       "      <td>-15.459290</td>\n",
       "      <td>1609.385833</td>\n",
       "      <td>1610.365385</td>\n",
       "    </tr>\n",
       "    <tr>\n",
       "      <th>2023-03-07</th>\n",
       "      <td>2023-03-01</td>\n",
       "      <td>1565.84</td>\n",
       "      <td>1584.49</td>\n",
       "      <td>1536.14</td>\n",
       "      <td>1561.96</td>\n",
       "      <td>437947.9032</td>\n",
       "      <td>6.828656e+08</td>\n",
       "      <td>601157.0</td>\n",
       "      <td>222838.1714</td>\n",
       "      <td>3.474979e+08</td>\n",
       "      <td>...</td>\n",
       "      <td>58356.0</td>\n",
       "      <td>363344.055416</td>\n",
       "      <td>-6.830467</td>\n",
       "      <td>5.778855</td>\n",
       "      <td>-12.609322</td>\n",
       "      <td>44.209404</td>\n",
       "      <td>5.210767</td>\n",
       "      <td>-4.930310</td>\n",
       "      <td>1602.005000</td>\n",
       "      <td>1611.004231</td>\n",
       "    </tr>\n",
       "  </tbody>\n",
       "</table>\n",
       "<p>5 rows × 39 columns</p>\n",
       "</div>"
      ],
      "text/plain": [
       "                 month  eth_open  eth_high  eth_low  eth_close   eth_volume  \\\n",
       "2023-03-03  2023-03-01   1647.86   1649.25  1544.39    1569.45  742816.5976   \n",
       "2023-03-04  2023-03-01   1569.45   1577.53  1549.12    1566.73  237640.2606   \n",
       "2023-03-05  2023-03-01   1566.74   1588.77  1553.05    1564.58  299240.7415   \n",
       "2023-03-06  2023-03-01   1564.57   1583.49  1554.44    1565.84  307709.3011   \n",
       "2023-03-07  2023-03-01   1565.84   1584.49  1536.14    1561.96  437947.9032   \n",
       "\n",
       "                 eth_qav  eth_num_trades  eth_taker_base_vol  \\\n",
       "2023-03-03  1.166574e+09       1008133.0         356042.8657   \n",
       "2023-03-04  3.718656e+08        442158.0         114523.6396   \n",
       "2023-03-05  4.697291e+08        505034.0         146252.8571   \n",
       "2023-03-06  4.821468e+08        495130.0         151429.2666   \n",
       "2023-03-07  6.828656e+08        601157.0         222838.1714   \n",
       "\n",
       "            eth_taker_quote_vol  ...  whales_tx_number  whales_tx_total_value  \\\n",
       "2023-03-03         5.589188e+08  ...           70251.0          632832.176035   \n",
       "2023-03-04         1.792425e+08  ...           56069.0          186043.394232   \n",
       "2023-03-05         2.295863e+08  ...           55417.0          157885.706665   \n",
       "2023-03-06         2.373157e+08  ...           57322.0          561503.516236   \n",
       "2023-03-07         3.474979e+08  ...           58356.0          363344.055416   \n",
       "\n",
       "                macd     signal       hist        rsi        smi  smi_signal  \\\n",
       "2023-03-03  9.490106  18.102317  -8.612212  44.984486 -32.418657   -7.404311   \n",
       "2023-03-04  4.027388  15.287331 -11.259944  44.719157 -26.376173  -18.186120   \n",
       "2023-03-05 -0.469926  12.135880 -12.605806  44.495751 -15.426672  -24.740501   \n",
       "2023-03-06 -3.887594   8.931185 -12.818779  44.670203  -4.575024  -15.459290   \n",
       "2023-03-07 -6.830467   5.778855 -12.609322  44.209404   5.210767   -4.930310   \n",
       "\n",
       "                  ma_12        ma_26  \n",
       "2023-03-03  1635.137500  1619.542308  \n",
       "2023-03-04  1623.759167  1617.713077  \n",
       "2023-03-05  1615.827500  1613.618846  \n",
       "2023-03-06  1609.385833  1610.365385  \n",
       "2023-03-07  1602.005000  1611.004231  \n",
       "\n",
       "[5 rows x 39 columns]"
      ]
     },
     "execution_count": 159,
     "metadata": {},
     "output_type": "execute_result"
    }
   ],
   "source": [
    "df.tail()"
   ]
  },
  {
   "cell_type": "code",
   "execution_count": 161,
   "id": "59bf7a2a",
   "metadata": {},
   "outputs": [],
   "source": [
    "ema_12, ema_26 = calculate_ema(df)"
   ]
  },
  {
   "cell_type": "code",
   "execution_count": 162,
   "id": "a2c88770",
   "metadata": {},
   "outputs": [],
   "source": [
    "df[\"ema_12\"] = ma_12\n",
    "df[\"ema_26\"] = ma_26"
   ]
  },
  {
   "cell_type": "markdown",
   "id": "9a9e4e38",
   "metadata": {},
   "source": [
    "### Volume indicators"
   ]
  },
  {
   "cell_type": "code",
   "execution_count": 164,
   "id": "6f30ea9f",
   "metadata": {},
   "outputs": [],
   "source": [
    "df[\"obv\"] = calculate_obv(df)"
   ]
  },
  {
   "cell_type": "code",
   "execution_count": 166,
   "id": "15945986",
   "metadata": {
    "scrolled": true
   },
   "outputs": [],
   "source": [
    "df[\"mfi\"] = calculate_mfi(df)"
   ]
  },
  {
   "cell_type": "markdown",
   "id": "446559a5",
   "metadata": {},
   "source": [
    "### Volatility indicators"
   ]
  },
  {
   "cell_type": "code",
   "execution_count": 169,
   "id": "4fd5d64a",
   "metadata": {},
   "outputs": [],
   "source": [
    "upper_band, lower_band = calculate_bollinger_bands(df.eth_close)"
   ]
  },
  {
   "cell_type": "code",
   "execution_count": 170,
   "id": "b5ed411f",
   "metadata": {},
   "outputs": [],
   "source": [
    "df[\"upper_band\"] = upper_band\n",
    "df[\"lower_band\"] = lower_band"
   ]
  },
  {
   "cell_type": "code",
   "execution_count": null,
   "id": "e46c9b23",
   "metadata": {},
   "outputs": [],
   "source": []
  },
  {
   "cell_type": "markdown",
   "id": "d0dbaee4",
   "metadata": {},
   "source": [
    "## Save training dataset"
   ]
  },
  {
   "cell_type": "code",
   "execution_count": 171,
   "id": "e2d2f7ac",
   "metadata": {},
   "outputs": [],
   "source": [
    "df = df[pd.to_datetime(\"2017-09-01\"):]"
   ]
  },
  {
   "cell_type": "code",
   "execution_count": 172,
   "id": "7544c763",
   "metadata": {},
   "outputs": [],
   "source": [
    "df.to_csv(\"training_dataset.csv\", index=True, index_label=\"date\")"
   ]
  },
  {
   "cell_type": "code",
   "execution_count": null,
   "id": "b2f3e7c7",
   "metadata": {},
   "outputs": [],
   "source": []
  }
 ],
 "metadata": {
  "kernelspec": {
   "display_name": "Python 3 (ipykernel)",
   "language": "python",
   "name": "python3"
  },
  "language_info": {
   "codemirror_mode": {
    "name": "ipython",
    "version": 3
   },
   "file_extension": ".py",
   "mimetype": "text/x-python",
   "name": "python",
   "nbconvert_exporter": "python",
   "pygments_lexer": "ipython3",
   "version": "3.10.7"
  }
 },
 "nbformat": 4,
 "nbformat_minor": 5
}
