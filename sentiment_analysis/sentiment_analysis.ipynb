{
 "cells": [
  {
   "cell_type": "code",
   "execution_count": 1,
   "id": "19aa8bf6",
   "metadata": {},
   "outputs": [],
   "source": [
    "import pandas as pd\n",
    "import datetime\n",
    "import numpy as np\n",
    "import bs4\n",
    "import requests\n",
    "import os\n",
    "import datetime as dt\n",
    "import re"
   ]
  },
  {
   "cell_type": "code",
   "execution_count": 2,
   "id": "9fe6ae41",
   "metadata": {},
   "outputs": [],
   "source": [
    "from tqdm import tqdm\n",
    "tqdm.pandas()"
   ]
  },
  {
   "cell_type": "code",
   "execution_count": 3,
   "id": "cecc8937",
   "metadata": {},
   "outputs": [],
   "source": [
    "def getting_longtext(url):\n",
    "    \"\"\" Parse text from an url \"\"\"\n",
    "    try:\n",
    "        response = requests.get(url, headers={'User-Agent': 'Mozilla/5.0'})\n",
    "        soup = bs4.BeautifulSoup(response.text,'lxml')\n",
    "        print(url, end=\"\\r\", flush=True)\n",
    "        return soup.body.get_text(' ', strip=True)\n",
    "    except:\n",
    "        return \"\""
   ]
  },
  {
   "cell_type": "code",
   "execution_count": 4,
   "id": "4c1e9106",
   "metadata": {},
   "outputs": [],
   "source": [
    "def longtext_parser(text, news_portal=None):\n",
    "    try:\n",
    "        if news_portal == \"coindesk\":\n",
    "            text = str(text).lower()\n",
    "            text = text.split(\"% crypto prices coindesk\")[1]\n",
    "            text = text.split(\"view all prices sign up for crypto long & short\")[0]\n",
    "            return text\n",
    "        else:\n",
    "            text = str(text).lower()\n",
    "            text = text.split(\"markets pro\")[1]\n",
    "            text = text.split(\"related news\")[0]\n",
    "            return text\n",
    "    except:\n",
    "        return text"
   ]
  },
  {
   "cell_type": "code",
   "execution_count": 5,
   "id": "2aa48995",
   "metadata": {},
   "outputs": [],
   "source": [
    "def merge_csv_files(folder_path, date=None):\n",
    "    if date == None:\n",
    "        bad_files = []\n",
    "        # Get a list of all CSV files in the folder\n",
    "        csv_files = [f for f in os.listdir(folder_path) if f.endswith('.csv')]\n",
    "        # Create an empty dataframe to store the merged data\n",
    "        merged_df = pd.DataFrame()\n",
    "\n",
    "        # Loop through each CSV file and append its data to the merged dataframe\n",
    "        for file in csv_files:\n",
    "            file_path = os.path.join(folder_path, file)\n",
    "            if os.path.getsize(file_path) > 0:\n",
    "                print(file_path, end=\"\\r\", flush=True)\n",
    "                try:\n",
    "                    df = pd.read_csv(file_path, encoding=\"utf-8\", sep=\",\")\n",
    "                    merged_df = pd.concat([merged_df, df], ignore_index=True)\n",
    "                except:\n",
    "                    bad_files.append(file_path)\n",
    "                    pass\n",
    "\n",
    "        # Reset the index of the merged dataframe\n",
    "        merged_df = merged_df.reset_index(drop=True)\n",
    "        print(len(bad_files))\n",
    "        return merged_df\n",
    "    else:\n",
    "        bad_files = []\n",
    "        # Get a list of all CSV files in the folder\n",
    "        csv_files = [f for f in os.listdir(folder_path) if f.endswith('.csv')]\n",
    "        # Create an empty dataframe to store the merged data\n",
    "        merged_df = pd.DataFrame()\n",
    "\n",
    "        # Loop through each CSV file and append its data to the merged dataframe\n",
    "        for file in csv_files:\n",
    "            if date in file:\n",
    "                file_path = os.path.join(folder_path, file)\n",
    "                if os.path.getsize(file_path) > 0:\n",
    "                    print(file_path, end=\"\\r\", flush=True)\n",
    "                    try:\n",
    "                        df = pd.read_csv(file_path, encoding=\"utf-8\", sep=\",\")\n",
    "                        merged_df = pd.concat([merged_df, df], ignore_index=True)\n",
    "                    except:\n",
    "                        bad_files.append(file_path)\n",
    "                        pass\n",
    "                else:\n",
    "                    break\n",
    "\n",
    "        # Reset the index of the merged dataframe\n",
    "        merged_df.reset_index(drop=True, inplace=True)\n",
    "        merged_df.drop(\"Unnamed: 0\", axis=1, inplace=True)\n",
    "        print(len(bad_files))\n",
    "        return merged_df"
   ]
  },
  {
   "cell_type": "markdown",
   "id": "a69de7f2",
   "metadata": {},
   "source": [
    "### Flair Sentiment Analyser Module\n",
    "Details: https://github.com/flairNLP/flair/blob/master/resources/docs/TUTORIAL_TAGGING_SENTIMENT.md"
   ]
  },
  {
   "cell_type": "code",
   "execution_count": 6,
   "id": "d2b3c6be",
   "metadata": {},
   "outputs": [],
   "source": [
    "from flair.models import TextClassifier\n",
    "from flair.data import Sentence"
   ]
  },
  {
   "cell_type": "code",
   "execution_count": 7,
   "id": "60f4ea43",
   "metadata": {},
   "outputs": [],
   "source": [
    "## Setting max rows, widths, columns in this Notebook\n",
    "pd.set_option('display.max_rows', 500)\n",
    "pd.set_option('display.max_columns', 500)\n",
    "pd.set_option('display.max_colwidth', 500)"
   ]
  },
  {
   "cell_type": "code",
   "execution_count": 8,
   "id": "6f178bba",
   "metadata": {},
   "outputs": [],
   "source": [
    "## Load text classifier model (flair)\n",
    "classifier = TextClassifier.load('sentiment')"
   ]
  },
  {
   "cell_type": "code",
   "execution_count": 9,
   "id": "2627743c",
   "metadata": {
    "scrolled": true
   },
   "outputs": [],
   "source": [
    "def flair_sentiment(text):\n",
    "    \"\"\" Predict text sentiment and return its value and score\"\"\"\n",
    "    try:\n",
    "        sentence = Sentence(text)\n",
    "        classifier.predict(sentence)\n",
    "        if sentence.labels[0].value.upper() == \"NEGATIVE\":\n",
    "            return -np.round(sentence.labels[0].score, 4)\n",
    "        else:\n",
    "            return np.round(sentence.labels[0].score, 4)\n",
    "    except:\n",
    "        return np.nan"
   ]
  },
  {
   "cell_type": "code",
   "execution_count": 10,
   "id": "f197799e",
   "metadata": {
    "scrolled": true
   },
   "outputs": [
    {
     "data": {
      "text/plain": [
       "-0.9999"
      ]
     },
     "execution_count": 10,
     "metadata": {},
     "output_type": "execute_result"
    },
    {
     "data": {
      "text/plain": [
       "-0.9999"
      ]
     },
     "execution_count": 10,
     "metadata": {},
     "output_type": "execute_result"
    }
   ],
   "source": [
    "#Example\n",
    "flair_sentiment(\"The price of ether has fallen 30% in the last week\")"
   ]
  },
  {
   "cell_type": "code",
   "execution_count": null,
   "id": "037edd86",
   "metadata": {},
   "outputs": [],
   "source": []
  },
  {
   "cell_type": "markdown",
   "id": "cabbd4d0",
   "metadata": {},
   "source": [
    "### TextBlob\n",
    "Details: https://textblob.readthedocs.io/en/dev/quickstart.html"
   ]
  },
  {
   "cell_type": "code",
   "execution_count": 11,
   "id": "07715b59",
   "metadata": {},
   "outputs": [],
   "source": [
    "from textblob import TextBlob"
   ]
  },
  {
   "cell_type": "code",
   "execution_count": 12,
   "id": "31fa80b3",
   "metadata": {},
   "outputs": [],
   "source": [
    "def textblob_sentiment(text):\n",
    "    try:\n",
    "        t = TextBlob(text)\n",
    "        return t.sentiment.polarity\n",
    "    except:\n",
    "        return np.nan"
   ]
  },
  {
   "cell_type": "code",
   "execution_count": 13,
   "id": "a6accd30",
   "metadata": {},
   "outputs": [
    {
     "data": {
      "text/plain": [
       "0.0"
      ]
     },
     "execution_count": 13,
     "metadata": {},
     "output_type": "execute_result"
    },
    {
     "data": {
      "text/plain": [
       "0.0"
      ]
     },
     "execution_count": 13,
     "metadata": {},
     "output_type": "execute_result"
    }
   ],
   "source": [
    "#Example\n",
    "textblob_sentiment(\"The price of ether has fallen 30% in the last week\")"
   ]
  },
  {
   "cell_type": "code",
   "execution_count": null,
   "id": "951f54ac",
   "metadata": {},
   "outputs": [],
   "source": []
  },
  {
   "cell_type": "markdown",
   "id": "04f18bf9",
   "metadata": {},
   "source": [
    "### Vader Sentiment module\n",
    "Details: https://github.com/cjhutto/vaderSentiment"
   ]
  },
  {
   "cell_type": "code",
   "execution_count": 14,
   "id": "334a0af8",
   "metadata": {},
   "outputs": [],
   "source": [
    "from vaderSentiment.vaderSentiment import SentimentIntensityAnalyzer"
   ]
  },
  {
   "cell_type": "code",
   "execution_count": 15,
   "id": "c9366a93",
   "metadata": {},
   "outputs": [],
   "source": [
    "def vader_sentiment(sentence):\n",
    " \n",
    "    # Create a SentimentIntensityAnalyzer object.\n",
    "    sid_obj = SentimentIntensityAnalyzer()\n",
    " \n",
    "    # polarity_scores method of SentimentIntensityAnalyzer\n",
    "    # object gives a sentiment dictionary.\n",
    "    # which contains pos, neg, neu, and compound scores.\n",
    "    sentiment_dict = sid_obj.polarity_scores(sentence)\n",
    "    #print(sentiment_dict[\"compound\"], end=\"\\r\", flush=True)\n",
    "    return sentiment_dict[\"compound\"]\n"
   ]
  },
  {
   "cell_type": "code",
   "execution_count": 16,
   "id": "36d2c33a",
   "metadata": {
    "scrolled": false
   },
   "outputs": [
    {
     "data": {
      "text/plain": [
       "-0.3612"
      ]
     },
     "execution_count": 16,
     "metadata": {},
     "output_type": "execute_result"
    },
    {
     "data": {
      "text/plain": [
       "-0.3612"
      ]
     },
     "execution_count": 16,
     "metadata": {},
     "output_type": "execute_result"
    }
   ],
   "source": [
    "#Example\n",
    "vader_sentiment(\"The price of ether has fallen 30% in the last week\")"
   ]
  },
  {
   "cell_type": "code",
   "execution_count": null,
   "id": "8b6297c5",
   "metadata": {},
   "outputs": [],
   "source": []
  },
  {
   "cell_type": "code",
   "execution_count": null,
   "id": "5f77cdb1",
   "metadata": {},
   "outputs": [],
   "source": [
    "df_coindesk = pd.read_excel(\"../src/section2/eth_news/eth_results_coindesk.xlsx\")"
   ]
  },
  {
   "cell_type": "code",
   "execution_count": null,
   "id": "89a50776",
   "metadata": {},
   "outputs": [],
   "source": [
    "df_coindesk = df_coindesk.sample(100)"
   ]
  },
  {
   "cell_type": "markdown",
   "id": "62e97879",
   "metadata": {},
   "source": [
    "### Long text test"
   ]
  },
  {
   "cell_type": "code",
   "execution_count": null,
   "id": "6d27e61f",
   "metadata": {},
   "outputs": [],
   "source": [
    "df_coindesk[\"sentiment_textblob\"] = df_coindesk.long_text.progress_apply(lambda x: flair_sentiment(x))"
   ]
  },
  {
   "cell_type": "code",
   "execution_count": null,
   "id": "2ccd29f1",
   "metadata": {},
   "outputs": [],
   "source": [
    "df_coindesk[\"sentiment_flair\"] = df_coindesk.long_text.progress_apply(lambda x: textblob_sentiment(x))"
   ]
  },
  {
   "cell_type": "code",
   "execution_count": null,
   "id": "30b75955",
   "metadata": {},
   "outputs": [],
   "source": [
    "df_coindesk[\"sentiment_vader\"] = df_coindesk.long_text.progress_apply(lambda x: vader_sentiment(x))"
   ]
  },
  {
   "cell_type": "code",
   "execution_count": null,
   "id": "4d5da6fb",
   "metadata": {
    "scrolled": true
   },
   "outputs": [],
   "source": [
    "df_coindesk[[\"headline\", \"sentiment_textblob\", \"sentiment_flair\", \"sentiment_vader\"]].sort_values(by=\"sentiment_textblob\")"
   ]
  },
  {
   "cell_type": "code",
   "execution_count": null,
   "id": "16588345",
   "metadata": {},
   "outputs": [],
   "source": [
    "df_coindesk[[\"headline\", \"sentiment_textblob\", \"sentiment_flair\", \"sentiment_vader\"]].sort_values(by=\"sentiment_vader\").to_csv(\"headline_test.csv\")"
   ]
  },
  {
   "cell_type": "markdown",
   "id": "70ef9269",
   "metadata": {},
   "source": [
    "# Findings\n",
    "### Textblob worked best with long_text"
   ]
  },
  {
   "cell_type": "markdown",
   "id": "08e5b9b3",
   "metadata": {},
   "source": [
    "### Headline test"
   ]
  },
  {
   "cell_type": "code",
   "execution_count": null,
   "id": "628f04ec",
   "metadata": {},
   "outputs": [],
   "source": [
    "df_coindesk[\"sentiment_textblob\"] = df_coindesk.headline.progress_apply(lambda x: flair_sentiment(x))"
   ]
  },
  {
   "cell_type": "code",
   "execution_count": null,
   "id": "01c2b125",
   "metadata": {},
   "outputs": [],
   "source": [
    "df_coindesk[\"sentiment_flair\"] = df_coindesk.headline.progress_apply(lambda x: textblob_sentiment(x))"
   ]
  },
  {
   "cell_type": "code",
   "execution_count": null,
   "id": "e9687fb1",
   "metadata": {},
   "outputs": [],
   "source": [
    "df_coindesk[\"sentiment_vader\"] = df_coindesk.headline.progress_apply(lambda x: vader_sentiment(x))"
   ]
  },
  {
   "cell_type": "code",
   "execution_count": null,
   "id": "39a6981d",
   "metadata": {},
   "outputs": [],
   "source": [
    "df_coindesk[[\"headline\", \"sentiment_textblob\", \"sentiment_flair\", \"sentiment_vader\"]].sort_values(by=\"sentiment_vader\")"
   ]
  },
  {
   "cell_type": "code",
   "execution_count": null,
   "id": "3110ab92",
   "metadata": {},
   "outputs": [],
   "source": []
  },
  {
   "cell_type": "code",
   "execution_count": null,
   "id": "2e2bb8bc",
   "metadata": {},
   "outputs": [],
   "source": []
  },
  {
   "cell_type": "code",
   "execution_count": null,
   "id": "b05a8bdd",
   "metadata": {},
   "outputs": [],
   "source": []
  },
  {
   "cell_type": "markdown",
   "id": "fb187262",
   "metadata": {},
   "source": [
    "## ETH news (ETH related)\n",
    "\n",
    "### - Coindesk (biggest news site)\n",
    "\n",
    "### - Cointelegraph\n",
    "\n",
    "### - Google News"
   ]
  },
  {
   "cell_type": "code",
   "execution_count": null,
   "id": "2deb2f33",
   "metadata": {},
   "outputs": [],
   "source": [
    "## Reading excel files\n",
    "df_coindesk = pd.read_excel(\"../src/section2/eth_news/eth_results_coindesk.xlsx\")\n",
    "df_cointelegraph = pd.read_excel(\"../src/section2/eth_news/eth_results_cointelegraph.xlsx\")\n",
    "df_googlenews = pd.read_excel(\"../src/section2/google_news/ethereum_result.xlsx\")"
   ]
  },
  {
   "cell_type": "code",
   "execution_count": null,
   "id": "3a0e244d",
   "metadata": {
    "scrolled": true
   },
   "outputs": [],
   "source": [
    "## Apply getting longtext function on datasets\n",
    "#df_coindesk.long_text = df_coindesk.link.progress_apply(lambda x: getting_longtext(\"https://www.coindesk.com\"+ x))\n",
    "#df_cointelegraph.long_text = df_cointelegraph.link.progress_apply(lambda x: getting_longtext(\"https://www.cointelegraph.com\"+ x))\n",
    "#df_googlenews[\"long_text\"] = df_googlenews.link.progress_apply(lambda x: getting_longtext(x))"
   ]
  },
  {
   "cell_type": "code",
   "execution_count": null,
   "id": "4d133685",
   "metadata": {},
   "outputs": [],
   "source": [
    "df_coindesk.head()"
   ]
  },
  {
   "cell_type": "code",
   "execution_count": null,
   "id": "d0233554",
   "metadata": {
    "scrolled": true
   },
   "outputs": [],
   "source": [
    "df_cointelegraph.head()"
   ]
  },
  {
   "cell_type": "code",
   "execution_count": null,
   "id": "5e4ba720",
   "metadata": {},
   "outputs": [],
   "source": [
    "df_googlenews.head()"
   ]
  },
  {
   "cell_type": "code",
   "execution_count": null,
   "id": "5df3d597",
   "metadata": {},
   "outputs": [],
   "source": [
    "#df_coindesk.long_text = df_coindesk.long_text.progress_apply(lambda x: longtext_parser(x, news_portal=\"coindesk\"))\n",
    "#df_cointelegraph.long_text = df_cointelegraph.long_text.progress_apply(lambda x: longtext_parser(x, news_portal=\"cointelegraph\"))"
   ]
  },
  {
   "cell_type": "code",
   "execution_count": null,
   "id": "cd8379e4",
   "metadata": {},
   "outputs": [],
   "source": [
    "## Applying sentiment text function\n",
    "df_coindesk[\"final_sentiment\"] = df_coindesk.headline.progress_apply(lambda x: vader_sentiment(x))\n",
    "df_cointelegraph[\"final_sentiment\"] = df_cointelegraph.headline.progress_apply(lambda x: vader_sentiment(x))\n",
    "df_googlenews[\"final_sentiment\"] = df_googlenews.post_header.progress_apply(lambda x: vader_sentiment(x))"
   ]
  },
  {
   "cell_type": "code",
   "execution_count": null,
   "id": "0dd9cbd6",
   "metadata": {
    "scrolled": true
   },
   "outputs": [],
   "source": [
    "print(f\"Length of Coindesk dataframe: {len(df_coindesk)}\")\n",
    "print(f\"Length of CoinTelegraph dataframe: {len(df_cointelegraph)}\")\n",
    "print(f\"Length of Google News dataframe: {len(df_googlenews)}\")"
   ]
  },
  {
   "cell_type": "code",
   "execution_count": null,
   "id": "c7285e4b",
   "metadata": {},
   "outputs": [],
   "source": [
    "df_coindesk.to_csv(\"../src/section2/final_dataframes/df_coindesk.csv\", index=False)\n",
    "df_cointelegraph.to_csv(\"../src/section2/final_dataframes/df_cointelegraph.csv\", index=False)\n",
    "df_googlenews.to_csv(\"../src/section2/final_dataframes/df_googlenews.csv\", index=False)"
   ]
  },
  {
   "cell_type": "code",
   "execution_count": null,
   "id": "355696af",
   "metadata": {},
   "outputs": [],
   "source": []
  },
  {
   "cell_type": "markdown",
   "id": "3154c583",
   "metadata": {},
   "source": [
    "## Google Trends"
   ]
  },
  {
   "cell_type": "code",
   "execution_count": null,
   "id": "0122b3e0",
   "metadata": {},
   "outputs": [],
   "source": [
    "df_googletrends = pd.read_csv(\"src/section2/google_trends/google_trends.csv\")"
   ]
  },
  {
   "cell_type": "code",
   "execution_count": null,
   "id": "e7544f30",
   "metadata": {},
   "outputs": [],
   "source": [
    "df_googletrends.rename(columns={\"Hónap\": \"month\", \"Ethereum: (Világszerte)\": \"ethereum_search_trend\"}, inplace=True)"
   ]
  },
  {
   "cell_type": "code",
   "execution_count": null,
   "id": "0e1c639b",
   "metadata": {},
   "outputs": [],
   "source": [
    "df_googletrends.to_csv(\"src/section2/final_dataframes/df_google_trends.csv\", index=False)"
   ]
  },
  {
   "cell_type": "code",
   "execution_count": null,
   "id": "3cb41280",
   "metadata": {},
   "outputs": [],
   "source": []
  },
  {
   "cell_type": "markdown",
   "id": "fbb3e086",
   "metadata": {},
   "source": [
    "## Reddit comments (ETH related)"
   ]
  },
  {
   "cell_type": "code",
   "execution_count": null,
   "id": "81fb05cb",
   "metadata": {
    "scrolled": true
   },
   "outputs": [],
   "source": [
    "folder_path = '../src/section2/reddit/scrapes/comments'\n",
    "df_reddit = merge_csv_files(folder_path)"
   ]
  },
  {
   "cell_type": "code",
   "execution_count": null,
   "id": "d43e8395",
   "metadata": {
    "scrolled": true
   },
   "outputs": [],
   "source": [
    "df_reddit.shape"
   ]
  },
  {
   "cell_type": "code",
   "execution_count": null,
   "id": "1c066435",
   "metadata": {},
   "outputs": [],
   "source": [
    "df_reddit.body = df_reddit.body.progress_apply(lambda x: x.replace(\"&gt;\", \"\"))\n",
    "df_reddit.body = df_reddit.body.progress_apply(lambda x: x.replace(\"\\n\", \"\"))\n",
    "df_reddit.body = df_reddit.body.progress_apply(lambda x: x.replace(\"\\n;\", \"\"))\n",
    "df_reddit.body = df_reddit.body.progress_apply(lambda x: x.replace(\"\\t\", \"\"))\n",
    "df_reddit.body = df_reddit.body.progress_apply(lambda x: x.replace(\"--------\", \"\"))"
   ]
  },
  {
   "cell_type": "code",
   "execution_count": null,
   "id": "73d96e8a",
   "metadata": {},
   "outputs": [],
   "source": [
    "df_reddit.body = df_reddit.body.progress_apply(lambda x: re.sub('\\s+',' ', x))"
   ]
  },
  {
   "cell_type": "code",
   "execution_count": null,
   "id": "3a5af9d1",
   "metadata": {},
   "outputs": [],
   "source": [
    "df_reddit = df_reddit[[\"created_utc\", \"subreddit\", \"body\", \"score\",\"stickied\"]]"
   ]
  },
  {
   "cell_type": "code",
   "execution_count": null,
   "id": "8153e2d5",
   "metadata": {},
   "outputs": [],
   "source": [
    "df_reddit.head()"
   ]
  },
  {
   "cell_type": "code",
   "execution_count": null,
   "id": "e2363c3c",
   "metadata": {},
   "outputs": [],
   "source": [
    "df_reddit[\"created_date\"] = df_reddit.created_utc.progress_apply(lambda x: datetime.datetime.utcfromtimestamp(x))"
   ]
  },
  {
   "cell_type": "code",
   "execution_count": null,
   "id": "5f6e7fb6",
   "metadata": {
    "scrolled": true
   },
   "outputs": [],
   "source": [
    "df_reddit.sort_values(by=\"created_date\", inplace=True)"
   ]
  },
  {
   "cell_type": "code",
   "execution_count": null,
   "id": "09880a99",
   "metadata": {},
   "outputs": [],
   "source": [
    "df_reddit.drop(columns=[\"created_utc\"], inplace=True)"
   ]
  },
  {
   "cell_type": "code",
   "execution_count": null,
   "id": "1927868a",
   "metadata": {},
   "outputs": [],
   "source": [
    "df_reddit.head()"
   ]
  },
  {
   "cell_type": "code",
   "execution_count": null,
   "id": "88660b42",
   "metadata": {},
   "outputs": [],
   "source": [
    "df_reddit.created_date = df_reddit.created_date.progress_apply(lambda x: x.date())"
   ]
  },
  {
   "cell_type": "code",
   "execution_count": null,
   "id": "7ae3aab5",
   "metadata": {},
   "outputs": [],
   "source": [
    "df_reddit = df_reddit[[\"created_date\"]+[i for i in df_reddit if i != \"created_date\"]]"
   ]
  },
  {
   "cell_type": "code",
   "execution_count": null,
   "id": "2cbb6772",
   "metadata": {
    "scrolled": true
   },
   "outputs": [],
   "source": [
    "df_reddit[\"final_sentiment\"] = df_reddit.body.progress_apply(lambda x: vader_sentiment(x))"
   ]
  },
  {
   "cell_type": "code",
   "execution_count": null,
   "id": "709d035a",
   "metadata": {
    "scrolled": true
   },
   "outputs": [],
   "source": [
    "df_reddit.set_index(\"created_date\", drop=True, inplace=True)"
   ]
  },
  {
   "cell_type": "code",
   "execution_count": null,
   "id": "9000b043",
   "metadata": {},
   "outputs": [],
   "source": [
    "df_reddit.index.freq=\"D\""
   ]
  },
  {
   "cell_type": "code",
   "execution_count": null,
   "id": "9c7a2905",
   "metadata": {},
   "outputs": [],
   "source": [
    "df_reddit.index = pd.to_datetime(df_reddit.index)"
   ]
  },
  {
   "cell_type": "code",
   "execution_count": null,
   "id": "41a9ae6a",
   "metadata": {},
   "outputs": [],
   "source": [
    "daily_total_scores = df_reddit.copy()\n",
    "daily_total_scores.score = abs(daily_total_scores.score)"
   ]
  },
  {
   "cell_type": "code",
   "execution_count": null,
   "id": "3b477612",
   "metadata": {},
   "outputs": [],
   "source": [
    "daily_total_scores = pd.DataFrame(daily_total_scores.groupby(daily_total_scores.index)[\"score\"].sum())"
   ]
  },
  {
   "cell_type": "code",
   "execution_count": null,
   "id": "e335751b",
   "metadata": {},
   "outputs": [],
   "source": [
    "daily_total_scores.columns=[\"total_score\"]"
   ]
  },
  {
   "cell_type": "code",
   "execution_count": null,
   "id": "a3236fd7",
   "metadata": {},
   "outputs": [],
   "source": [
    "df_reddit = pd.merge(df_reddit, daily_total_scores, how=\"left\", left_index=True, right_index=True)"
   ]
  },
  {
   "cell_type": "code",
   "execution_count": null,
   "id": "c7b61551",
   "metadata": {},
   "outputs": [],
   "source": [
    "#df_reddit.loc[pd.to_datetime(\"2017-11-29\")]"
   ]
  },
  {
   "cell_type": "code",
   "execution_count": null,
   "id": "c7fddebc",
   "metadata": {},
   "outputs": [],
   "source": [
    "### Weight by daily total score of reddit comments\n",
    "df_reddit['final_sentiment'] = (df_reddit[\"score\"] / df_reddit[\"total_score\"]) * df_reddit[\"final_sentiment\"]"
   ]
  },
  {
   "cell_type": "code",
   "execution_count": null,
   "id": "047a83ff",
   "metadata": {},
   "outputs": [],
   "source": [
    "df_reddit['final_sentiment'].plot()"
   ]
  },
  {
   "cell_type": "code",
   "execution_count": null,
   "id": "143b1605",
   "metadata": {},
   "outputs": [],
   "source": [
    "df_reddit.to_csv(\"../src/section2/final_dataframes/df_reddit.csv\", index=True)"
   ]
  },
  {
   "cell_type": "code",
   "execution_count": null,
   "id": "ed9c4a3b",
   "metadata": {},
   "outputs": [],
   "source": []
  },
  {
   "cell_type": "code",
   "execution_count": null,
   "id": "0c2e282d",
   "metadata": {},
   "outputs": [],
   "source": []
  },
  {
   "cell_type": "markdown",
   "id": "a6b66c7d",
   "metadata": {},
   "source": [
    "## Twitter tweets (about Ethereum or ETH or ether)"
   ]
  },
  {
   "cell_type": "markdown",
   "id": "1b8c07b9",
   "metadata": {},
   "source": [
    "### 2017"
   ]
  },
  {
   "cell_type": "code",
   "execution_count": null,
   "id": "ec78c65c",
   "metadata": {
    "scrolled": true
   },
   "outputs": [],
   "source": [
    "folder_path = '../src/section2/twitter/scrapes'\n",
    "df_twitter17 = merge_csv_files(folder_path, date=\"2017\")"
   ]
  },
  {
   "cell_type": "code",
   "execution_count": null,
   "id": "d5dcf8e1",
   "metadata": {},
   "outputs": [],
   "source": [
    "df_twitter17[\"date\"] = df_twitter17.datetime.progress_apply(lambda x: x.split(\" \")[0])"
   ]
  },
  {
   "cell_type": "code",
   "execution_count": null,
   "id": "df5c91e4",
   "metadata": {},
   "outputs": [],
   "source": [
    "df_twitter17.set_index(\"date\", inplace=True)"
   ]
  },
  {
   "cell_type": "code",
   "execution_count": null,
   "id": "2da9e787",
   "metadata": {},
   "outputs": [],
   "source": [
    "df_twitter17.index = pd.to_datetime(df_twitter17.index)"
   ]
  },
  {
   "cell_type": "code",
   "execution_count": null,
   "id": "21c7323c",
   "metadata": {},
   "outputs": [],
   "source": [
    "df_twitter17.index"
   ]
  },
  {
   "cell_type": "code",
   "execution_count": null,
   "id": "5d2e0f31",
   "metadata": {},
   "outputs": [],
   "source": [
    "df_twitter17.head()"
   ]
  },
  {
   "cell_type": "code",
   "execution_count": null,
   "id": "4e44fbd6",
   "metadata": {},
   "outputs": [],
   "source": [
    "df_twitter17.info()"
   ]
  },
  {
   "cell_type": "code",
   "execution_count": null,
   "id": "1901e663",
   "metadata": {},
   "outputs": [],
   "source": [
    "df_twitter17.shape"
   ]
  },
  {
   "cell_type": "code",
   "execution_count": null,
   "id": "bafa96a7",
   "metadata": {},
   "outputs": [],
   "source": [
    "df_twitter17.iloc[0].text"
   ]
  },
  {
   "cell_type": "code",
   "execution_count": null,
   "id": "e14a05e0",
   "metadata": {},
   "outputs": [],
   "source": [
    "df_twitter17.text = df_twitter17.text.progress_apply(lambda x: re.sub('\\s+',' ', x))"
   ]
  },
  {
   "cell_type": "code",
   "execution_count": null,
   "id": "67244e85",
   "metadata": {
    "scrolled": true
   },
   "outputs": [],
   "source": [
    "df_twitter17[\"final_sentiment_test\"] = df_twitter17.text.progress_apply(lambda x: vader_sentiment(x))"
   ]
  },
  {
   "cell_type": "code",
   "execution_count": null,
   "id": "476b2559",
   "metadata": {},
   "outputs": [],
   "source": [
    "df_twitter17.head(50)"
   ]
  },
  {
   "cell_type": "code",
   "execution_count": null,
   "id": "8eb622d1",
   "metadata": {},
   "outputs": [],
   "source": [
    "df_twitter17.to_csv(\"twitter_data/twitter_2017.csv\", index=True)"
   ]
  },
  {
   "cell_type": "code",
   "execution_count": null,
   "id": "b4831d81",
   "metadata": {},
   "outputs": [],
   "source": [
    "del df_twitter17"
   ]
  },
  {
   "cell_type": "markdown",
   "id": "0170e384",
   "metadata": {},
   "source": [
    "### 2018"
   ]
  },
  {
   "cell_type": "code",
   "execution_count": null,
   "id": "2c52d953",
   "metadata": {
    "scrolled": true
   },
   "outputs": [],
   "source": [
    "folder_path = '../src/section2/twitter/scrapes'\n",
    "df_twitter18 = merge_csv_files(folder_path, date=\"2018\")"
   ]
  },
  {
   "cell_type": "code",
   "execution_count": null,
   "id": "c204e236",
   "metadata": {},
   "outputs": [],
   "source": [
    "df_twitter18.shape"
   ]
  },
  {
   "cell_type": "code",
   "execution_count": null,
   "id": "93cfc14e",
   "metadata": {},
   "outputs": [],
   "source": [
    "df_twitter18[\"date\"] = df_twitter18.datetime.progress_apply(lambda x: x.split(\" \")[0])"
   ]
  },
  {
   "cell_type": "code",
   "execution_count": null,
   "id": "8b08edb6",
   "metadata": {},
   "outputs": [],
   "source": [
    "df_twitter18.set_index(\"date\", inplace=True)"
   ]
  },
  {
   "cell_type": "code",
   "execution_count": null,
   "id": "a57a4c10",
   "metadata": {},
   "outputs": [],
   "source": [
    "df_twitter18.index = pd.to_datetime(df_twitter18.index)"
   ]
  },
  {
   "cell_type": "code",
   "execution_count": null,
   "id": "d1dde1fc",
   "metadata": {},
   "outputs": [],
   "source": [
    "df_twitter18.index"
   ]
  },
  {
   "cell_type": "code",
   "execution_count": null,
   "id": "49d2bc92",
   "metadata": {},
   "outputs": [],
   "source": [
    "df_twitter18.head()"
   ]
  },
  {
   "cell_type": "code",
   "execution_count": null,
   "id": "eaa3b079",
   "metadata": {},
   "outputs": [],
   "source": [
    "df_twitter18.info()"
   ]
  },
  {
   "cell_type": "code",
   "execution_count": null,
   "id": "f041c1b7",
   "metadata": {},
   "outputs": [],
   "source": [
    "df_twitter18.shape"
   ]
  },
  {
   "cell_type": "code",
   "execution_count": null,
   "id": "cf0cbc7a",
   "metadata": {},
   "outputs": [],
   "source": [
    "df_twitter18.iloc[0].text"
   ]
  },
  {
   "cell_type": "code",
   "execution_count": null,
   "id": "a5fef3ef",
   "metadata": {},
   "outputs": [],
   "source": [
    "df_twitter18.text = df_twitter18.text.progress_apply(lambda x: re.sub('\\s+',' ', x))"
   ]
  },
  {
   "cell_type": "code",
   "execution_count": null,
   "id": "87651a3d",
   "metadata": {
    "scrolled": true
   },
   "outputs": [],
   "source": [
    "df_twitter18[\"final_sentiment_test\"] = df_twitter18.text.progress_apply(lambda x: vader_sentiment(x))"
   ]
  },
  {
   "cell_type": "code",
   "execution_count": null,
   "id": "1a35ef3d",
   "metadata": {},
   "outputs": [],
   "source": [
    "df_twitter18.head(50)"
   ]
  },
  {
   "cell_type": "code",
   "execution_count": null,
   "id": "741d1239",
   "metadata": {},
   "outputs": [],
   "source": [
    "df_twitter18.to_csv(\"twitter_data/twitter_2018.csv\", index=True)"
   ]
  },
  {
   "cell_type": "code",
   "execution_count": null,
   "id": "17ff09d8",
   "metadata": {},
   "outputs": [],
   "source": [
    "del df_twitter18"
   ]
  },
  {
   "cell_type": "markdown",
   "id": "57b166f9",
   "metadata": {},
   "source": [
    "### 2019"
   ]
  },
  {
   "cell_type": "code",
   "execution_count": null,
   "id": "817e712f",
   "metadata": {
    "scrolled": true
   },
   "outputs": [],
   "source": [
    "folder_path = '../src/section2/twitter/scrapes'\n",
    "df_twitter19 = merge_csv_files(folder_path, date=\"2019\")"
   ]
  },
  {
   "cell_type": "code",
   "execution_count": null,
   "id": "47f0167b",
   "metadata": {},
   "outputs": [],
   "source": [
    "df_twitter19.shape"
   ]
  },
  {
   "cell_type": "code",
   "execution_count": null,
   "id": "5fa5ed73",
   "metadata": {},
   "outputs": [],
   "source": [
    "df_twitter19[\"date\"] = df_twitter19.datetime.progress_apply(lambda x: x.split(\" \")[0])"
   ]
  },
  {
   "cell_type": "code",
   "execution_count": null,
   "id": "919d5aa8",
   "metadata": {},
   "outputs": [],
   "source": [
    "df_twitter19.set_index(\"date\", inplace=True)"
   ]
  },
  {
   "cell_type": "code",
   "execution_count": null,
   "id": "69fd6b7e",
   "metadata": {},
   "outputs": [],
   "source": [
    "df_twitter19.index = pd.to_datetime(df_twitter19.index)"
   ]
  },
  {
   "cell_type": "code",
   "execution_count": null,
   "id": "8c952044",
   "metadata": {},
   "outputs": [],
   "source": [
    "df_twitter19.index"
   ]
  },
  {
   "cell_type": "code",
   "execution_count": null,
   "id": "36641900",
   "metadata": {},
   "outputs": [],
   "source": [
    "df_twitter19.head()"
   ]
  },
  {
   "cell_type": "code",
   "execution_count": null,
   "id": "1c67aab7",
   "metadata": {},
   "outputs": [],
   "source": [
    "df_twitter19.info()"
   ]
  },
  {
   "cell_type": "code",
   "execution_count": null,
   "id": "d1f863f2",
   "metadata": {},
   "outputs": [],
   "source": [
    "df_twitter19.shape"
   ]
  },
  {
   "cell_type": "code",
   "execution_count": null,
   "id": "619edcf4",
   "metadata": {},
   "outputs": [],
   "source": [
    "df_twitter19.iloc[0].text"
   ]
  },
  {
   "cell_type": "code",
   "execution_count": null,
   "id": "3a3d7945",
   "metadata": {},
   "outputs": [],
   "source": [
    "df_twitter19.text = df_twitter19.text.progress_apply(lambda x: re.sub('\\s+',' ', x))"
   ]
  },
  {
   "cell_type": "code",
   "execution_count": null,
   "id": "8b4a7eba",
   "metadata": {
    "scrolled": true
   },
   "outputs": [],
   "source": [
    "df_twitter19[\"final_sentiment_test\"] = df_twitter19.text.progress_apply(lambda x: vader_sentiment(x))"
   ]
  },
  {
   "cell_type": "code",
   "execution_count": null,
   "id": "2be6fa1a",
   "metadata": {},
   "outputs": [],
   "source": [
    "df_twitter19.head(50)"
   ]
  },
  {
   "cell_type": "code",
   "execution_count": null,
   "id": "c1e022df",
   "metadata": {},
   "outputs": [],
   "source": [
    "df_twitter19.to_csv(\"twitter_data/twitter_2019.csv\", index=True)"
   ]
  },
  {
   "cell_type": "code",
   "execution_count": null,
   "id": "fdfc9bcd",
   "metadata": {},
   "outputs": [],
   "source": [
    "del df_twitter19"
   ]
  },
  {
   "cell_type": "code",
   "execution_count": null,
   "id": "63bceae9",
   "metadata": {},
   "outputs": [],
   "source": []
  },
  {
   "cell_type": "markdown",
   "id": "94a4dc91",
   "metadata": {},
   "source": [
    "### 2020"
   ]
  },
  {
   "cell_type": "code",
   "execution_count": null,
   "id": "630728fe",
   "metadata": {
    "scrolled": false
   },
   "outputs": [],
   "source": [
    "folder_path = '../src/section2/twitter/scrapes'\n",
    "df_twitter20 = merge_csv_files(folder_path, date=\"2020\")"
   ]
  },
  {
   "cell_type": "code",
   "execution_count": null,
   "id": "f640af22",
   "metadata": {},
   "outputs": [],
   "source": [
    "df_twitter20.shape"
   ]
  },
  {
   "cell_type": "code",
   "execution_count": null,
   "id": "3713af26",
   "metadata": {},
   "outputs": [],
   "source": [
    "df_twitter20[\"date\"] = df_twitter20.datetime.progress_apply(lambda x: x.split(\" \")[0])"
   ]
  },
  {
   "cell_type": "code",
   "execution_count": null,
   "id": "47b82cdd",
   "metadata": {},
   "outputs": [],
   "source": [
    "df_twitter20.set_index(\"date\", inplace=True)"
   ]
  },
  {
   "cell_type": "code",
   "execution_count": null,
   "id": "e79c9052",
   "metadata": {},
   "outputs": [],
   "source": [
    "df_twitter20.index = pd.to_datetime(df_twitter20.index)"
   ]
  },
  {
   "cell_type": "code",
   "execution_count": null,
   "id": "a93e64e2",
   "metadata": {},
   "outputs": [],
   "source": [
    "df_twitter20.index"
   ]
  },
  {
   "cell_type": "code",
   "execution_count": null,
   "id": "48c9654c",
   "metadata": {},
   "outputs": [],
   "source": [
    "df_twitter20.head()"
   ]
  },
  {
   "cell_type": "code",
   "execution_count": null,
   "id": "9bcb4b5b",
   "metadata": {},
   "outputs": [],
   "source": [
    "df_twitter20.info()"
   ]
  },
  {
   "cell_type": "code",
   "execution_count": null,
   "id": "683bbc6e",
   "metadata": {},
   "outputs": [],
   "source": [
    "df_twitter20.shape"
   ]
  },
  {
   "cell_type": "code",
   "execution_count": null,
   "id": "473603e3",
   "metadata": {},
   "outputs": [],
   "source": [
    "df_twitter20.iloc[0].text"
   ]
  },
  {
   "cell_type": "code",
   "execution_count": null,
   "id": "f1cb6ab4",
   "metadata": {},
   "outputs": [],
   "source": [
    "df_twitter20.text = df_twitter20.text.progress_apply(lambda x: re.sub('\\s+',' ', x))"
   ]
  },
  {
   "cell_type": "code",
   "execution_count": null,
   "id": "5c22de26",
   "metadata": {
    "scrolled": true
   },
   "outputs": [],
   "source": [
    "df_twitter20[\"final_sentiment_test\"] = df_twitter20.text.progress_apply(lambda x: vader_sentiment(x))"
   ]
  },
  {
   "cell_type": "code",
   "execution_count": null,
   "id": "6fe4a176",
   "metadata": {},
   "outputs": [],
   "source": [
    "df_twitter20.head(50)"
   ]
  },
  {
   "cell_type": "code",
   "execution_count": null,
   "id": "2adbb58b",
   "metadata": {},
   "outputs": [],
   "source": [
    "df_twitter20.to_csv(\"twitter_data/twitter_2020.csv\", index=True)"
   ]
  },
  {
   "cell_type": "code",
   "execution_count": null,
   "id": "07806a34",
   "metadata": {},
   "outputs": [],
   "source": [
    "del df_twitter20"
   ]
  },
  {
   "cell_type": "markdown",
   "id": "0642bf9f",
   "metadata": {},
   "source": [
    "### 2021"
   ]
  },
  {
   "cell_type": "code",
   "execution_count": null,
   "id": "2722e85a",
   "metadata": {
    "scrolled": false
   },
   "outputs": [],
   "source": [
    "folder_path = '../src/section2/twitter/scrapes'\n",
    "df_twitter21 = merge_csv_files(folder_path, date=\"2021\")"
   ]
  },
  {
   "cell_type": "code",
   "execution_count": null,
   "id": "db41971e",
   "metadata": {},
   "outputs": [],
   "source": [
    "df_twitter21.shape"
   ]
  },
  {
   "cell_type": "code",
   "execution_count": null,
   "id": "c15ab4c7",
   "metadata": {},
   "outputs": [],
   "source": [
    "df_twitter21[\"date\"] = df_twitter21.datetime.progress_apply(lambda x: x.split(\" \")[0])"
   ]
  },
  {
   "cell_type": "code",
   "execution_count": null,
   "id": "2d2a71cb",
   "metadata": {},
   "outputs": [],
   "source": [
    "df_twitter21.set_index(\"date\", inplace=True)"
   ]
  },
  {
   "cell_type": "code",
   "execution_count": null,
   "id": "dc24437c",
   "metadata": {},
   "outputs": [],
   "source": [
    "df_twitter21.index = pd.to_datetime(df_twitter21.index)"
   ]
  },
  {
   "cell_type": "code",
   "execution_count": null,
   "id": "fe36ab5d",
   "metadata": {},
   "outputs": [],
   "source": [
    "df_twitter21.index"
   ]
  },
  {
   "cell_type": "code",
   "execution_count": null,
   "id": "1a0cc208",
   "metadata": {},
   "outputs": [],
   "source": [
    "df_twitter21.head()"
   ]
  },
  {
   "cell_type": "code",
   "execution_count": null,
   "id": "79ae14f1",
   "metadata": {},
   "outputs": [],
   "source": [
    "df_twitter21.info()"
   ]
  },
  {
   "cell_type": "code",
   "execution_count": null,
   "id": "3886e609",
   "metadata": {},
   "outputs": [],
   "source": [
    "df_twitter21.shape"
   ]
  },
  {
   "cell_type": "code",
   "execution_count": null,
   "id": "58307718",
   "metadata": {},
   "outputs": [],
   "source": [
    "df_twitter21.iloc[0].text"
   ]
  },
  {
   "cell_type": "code",
   "execution_count": null,
   "id": "a8ae7866",
   "metadata": {},
   "outputs": [],
   "source": [
    "df_twitter21.text = df_twitter21.text.progress_apply(lambda x: re.sub('\\s+',' ', x))"
   ]
  },
  {
   "cell_type": "code",
   "execution_count": null,
   "id": "d20142fe",
   "metadata": {
    "scrolled": true
   },
   "outputs": [],
   "source": [
    "df_twitter21[\"final_sentiment_test\"] = df_twitter21.text.progress_apply(lambda x: vader_sentiment(x))"
   ]
  },
  {
   "cell_type": "code",
   "execution_count": null,
   "id": "c026e7a7",
   "metadata": {},
   "outputs": [],
   "source": [
    "df_twitter21.head(50)"
   ]
  },
  {
   "cell_type": "code",
   "execution_count": null,
   "id": "2df264ba",
   "metadata": {},
   "outputs": [],
   "source": [
    "df_twitter21.to_csv(\"twitter_data/twitter_2021.csv\", index=True)"
   ]
  },
  {
   "cell_type": "code",
   "execution_count": null,
   "id": "99c7356b",
   "metadata": {},
   "outputs": [],
   "source": [
    "del df_twitter21"
   ]
  },
  {
   "cell_type": "markdown",
   "id": "b925d41c",
   "metadata": {},
   "source": [
    "### 2022"
   ]
  },
  {
   "cell_type": "code",
   "execution_count": null,
   "id": "039accea",
   "metadata": {
    "scrolled": false
   },
   "outputs": [],
   "source": [
    "folder_path = '../src/section2/twitter/scrapes'\n",
    "df_twitter22 = merge_csv_files(folder_path, date=\"2022\")"
   ]
  },
  {
   "cell_type": "code",
   "execution_count": null,
   "id": "2147a4e7",
   "metadata": {},
   "outputs": [],
   "source": [
    "df_twitter22.shape"
   ]
  },
  {
   "cell_type": "code",
   "execution_count": null,
   "id": "1afaa7e3",
   "metadata": {},
   "outputs": [],
   "source": [
    "df_twitter22[\"date\"] = df_twitter22.datetime.progress_apply(lambda x: x.split(\" \")[0])"
   ]
  },
  {
   "cell_type": "code",
   "execution_count": null,
   "id": "57f85d37",
   "metadata": {},
   "outputs": [],
   "source": [
    "df_twitter22.set_index(\"date\", inplace=True)"
   ]
  },
  {
   "cell_type": "code",
   "execution_count": null,
   "id": "74139527",
   "metadata": {},
   "outputs": [],
   "source": [
    "df_twitter22.index = pd.to_datetime(df_twitter22.index)"
   ]
  },
  {
   "cell_type": "code",
   "execution_count": null,
   "id": "52192283",
   "metadata": {},
   "outputs": [],
   "source": [
    "df_twitter22.index"
   ]
  },
  {
   "cell_type": "code",
   "execution_count": null,
   "id": "12707ebf",
   "metadata": {},
   "outputs": [],
   "source": [
    "df_twitter22.head()"
   ]
  },
  {
   "cell_type": "code",
   "execution_count": null,
   "id": "2fb6263a",
   "metadata": {},
   "outputs": [],
   "source": [
    "df_twitter22.info()"
   ]
  },
  {
   "cell_type": "code",
   "execution_count": null,
   "id": "043d243b",
   "metadata": {},
   "outputs": [],
   "source": [
    "df_twitter22.shape"
   ]
  },
  {
   "cell_type": "code",
   "execution_count": null,
   "id": "91a38bb2",
   "metadata": {},
   "outputs": [],
   "source": [
    "df_twitter22.iloc[0].text"
   ]
  },
  {
   "cell_type": "code",
   "execution_count": null,
   "id": "e4aeab22",
   "metadata": {},
   "outputs": [],
   "source": [
    "df_twitter22.text = df_twitter22.text.progress_apply(lambda x: re.sub('\\s+',' ', x))"
   ]
  },
  {
   "cell_type": "code",
   "execution_count": null,
   "id": "ca2787c3",
   "metadata": {
    "scrolled": true
   },
   "outputs": [],
   "source": [
    "df_twitter22[\"final_sentiment_test\"] = df_twitter22.text.progress_apply(lambda x: vader_sentiment(x))"
   ]
  },
  {
   "cell_type": "code",
   "execution_count": null,
   "id": "1b870353",
   "metadata": {},
   "outputs": [],
   "source": [
    "df_twitter22.head(50)"
   ]
  },
  {
   "cell_type": "code",
   "execution_count": null,
   "id": "4d6cd66c",
   "metadata": {},
   "outputs": [],
   "source": [
    "df_twitter22.to_csv(\"twitter_data/twitter_2022.csv\", index=True)"
   ]
  },
  {
   "cell_type": "code",
   "execution_count": null,
   "id": "b70aaff1",
   "metadata": {},
   "outputs": [],
   "source": [
    "del df_twitter22"
   ]
  },
  {
   "cell_type": "code",
   "execution_count": null,
   "id": "5eef00a5",
   "metadata": {},
   "outputs": [],
   "source": []
  }
 ],
 "metadata": {
  "kernelspec": {
   "display_name": "Python 3 (ipykernel)",
   "language": "python",
   "name": "python3"
  },
  "language_info": {
   "codemirror_mode": {
    "name": "ipython",
    "version": 3
   },
   "file_extension": ".py",
   "mimetype": "text/x-python",
   "name": "python",
   "nbconvert_exporter": "python",
   "pygments_lexer": "ipython3",
   "version": "3.10.7"
  }
 },
 "nbformat": 4,
 "nbformat_minor": 5
}
