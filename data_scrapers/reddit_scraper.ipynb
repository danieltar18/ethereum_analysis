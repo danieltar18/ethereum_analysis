{
 "cells": [
  {
   "cell_type": "code",
   "execution_count": null,
   "id": "30c59548",
   "metadata": {},
   "outputs": [],
   "source": [
    "import datetime as dt\n",
    "import logging\n",
    "import random\n",
    "import pandas as pd\n",
    "import time\n",
    "import datetime as dt\n",
    "from pmaw import PushshiftAPI\n",
    "\n",
    "api = PushshiftAPI()\n",
    "\n",
    "e = 0"
   ]
  },
  {
   "cell_type": "code",
   "execution_count": null,
   "id": "dfec810e",
   "metadata": {},
   "outputs": [],
   "source": [
    "pd.set_option('display.max_rows', 500)\n",
    "pd.set_option('display.max_columns', 500)\n",
    "pd.set_option('display.width', 1000)"
   ]
  },
  {
   "cell_type": "code",
   "execution_count": null,
   "id": "54b45161",
   "metadata": {},
   "outputs": [],
   "source": [
    "dates = pd.DataFrame()"
   ]
  },
  {
   "cell_type": "code",
   "execution_count": null,
   "id": "4a0c67ea",
   "metadata": {},
   "outputs": [],
   "source": [
    "dates[\"start_date\"] = pd.date_range(start='9/1/2017', end='3/8/2023')\n",
    "dates[\"end_date\"] = pd.date_range(start='9/2/2017', end='3/9/2023')"
   ]
  },
  {
   "cell_type": "code",
   "execution_count": null,
   "id": "02b1af03",
   "metadata": {},
   "outputs": [],
   "source": [
    "## Manual runs\n",
    "\n",
    "#dates = dates[dates.start_date > dt.datetime(2018, 5, 31)]"
   ]
  },
  {
   "cell_type": "code",
   "execution_count": null,
   "id": "3d7ebc83",
   "metadata": {},
   "outputs": [],
   "source": [
    "dates = dates.astype(\"str\")"
   ]
  },
  {
   "cell_type": "markdown",
   "id": "989459e6",
   "metadata": {},
   "source": [
    "### Posts"
   ]
  },
  {
   "cell_type": "code",
   "execution_count": null,
   "id": "a590f361",
   "metadata": {},
   "outputs": [],
   "source": [
    "for index, row in dates.iterrows():\n",
    "    e += 1\n",
    "    naming = row[\"start_date\"]\n",
    "    start_epoch = str(int(time.mktime(dt.datetime.strptime(row[\"start_date\"], \"%Y-%m-%d\").timetuple())))\n",
    "    end_epoch = str(int(time.mktime(dt.datetime.strptime(row[\"end_date\"], \"%Y-%m-%d\").timetuple())))\n",
    "    term = 'ethereum OR eth OR ether'\n",
    "    api_request_generator_posts = api.search_submissions(q=f\"{term}\", before=end_epoch, after=start_epoch, search_window=1, score=1, limit=1000, sort_type=\"score\", sort=\"desc\")\n",
    "    df_reddit = pd.DataFrame.from_dict(api_request_generator_posts)\n",
    "    print(\"Current scrape index: {0} [%d%%]\\r\".format(e), end=\"\")\n",
    "    #df_reddit = df_reddit[['author', 'date', 'title', 'selftext', 'url', 'subreddit', 'score', 'num_comments', 'num_crossposts']]\n",
    "    \n",
    "    df_reddit.to_csv(f\"src/section2/reddit/scrapes/posts/{naming}.csv\", index=False)\n",
    "    del df_reddit"
   ]
  },
  {
   "cell_type": "code",
   "execution_count": null,
   "id": "18c76ee2",
   "metadata": {},
   "outputs": [],
   "source": [
    "for index, row in dates.iterrows():\n",
    "    e += 1\n",
    "    naming = row[\"start_date\"]\n",
    "    start_epoch = str(int(time.mktime(dt.datetime.strptime(row[\"start_date\"], \"%Y-%m-%d\").timetuple())))\n",
    "    end_epoch = str(int(time.mktime(dt.datetime.strptime(row[\"end_date\"], \"%Y-%m-%d\").timetuple())))\n",
    "    api_request_generator_posts = api.search_submissions(q=\".\", sub=\"ethereum\", after=start_epoch, search_window=2048, limit=1000, sort_type=\"score\", sort=\"desc\")\n",
    "    df_reddit = pd.DataFrame.from_dict(api_request_generator_posts)\n",
    "    print(\"Current scrape index: {0} [%d%%]\\r\".format(e), end=\"\")\n",
    "    #df_reddit = df_reddit[['author', 'date', 'title', 'selftext', 'url', 'subreddit', 'score', 'num_comments', 'num_crossposts']]\n",
    "    \n",
    "    df_reddit.to_csv(f\"src/section2/reddit/scrapes/posts/{naming}.csv\", index=False)\n",
    "    del df_reddit"
   ]
  },
  {
   "cell_type": "markdown",
   "id": "4c0cd3f7",
   "metadata": {},
   "source": [
    "### Comments"
   ]
  },
  {
   "cell_type": "code",
   "execution_count": null,
   "id": "d511be05",
   "metadata": {},
   "outputs": [],
   "source": [
    "for index, row in dates.iterrows():\n",
    "    e += 1\n",
    "    naming = row[\"start_date\"]\n",
    "    start_epoch = str(int(time.mktime(dt.datetime.strptime(row[\"start_date\"], \"%Y-%m-%d\").timetuple())))\n",
    "    end_epoch = str(int(time.mktime(dt.datetime.strptime(row[\"end_date\"], \"%Y-%m-%d\").timetuple())))\n",
    "    term = 'ethereum OR eth OR ether OR ETH OR ETHEREUM OR ETHER'\n",
    "    api_request_generator_comments = api.search_comments(q=f\"{term}\", before=end_epoch, after=start_epoch, search_window=1, score=1, limit=1000, sort_type=\"score\", sort=\"desc\")\n",
    "    df_reddit = pd.DataFrame.from_dict(api_request_generator_comments)\n",
    "    print(\"Current scrape index: {0} [%d%%]\\r\".format(e), end=\"\")\n",
    "    #df_reddit = df_reddit[['author', 'date', 'title', 'selftext', 'url', 'subreddit', 'score', 'num_comments', 'num_crossposts']]\n",
    "    \n",
    "    df_reddit.to_csv(f\"src/section2/reddit/scrapes/comments/{naming}.csv\", index=False)\n",
    "    del df_reddit"
   ]
  },
  {
   "cell_type": "code",
   "execution_count": null,
   "id": "aaee0716",
   "metadata": {},
   "outputs": [],
   "source": [
    "df_reddit.sort_values(by=\"date\")"
   ]
  },
  {
   "cell_type": "code",
   "execution_count": null,
   "id": "db22b179",
   "metadata": {},
   "outputs": [],
   "source": [
    "df_reddit[\"iso_date\"] = df_reddit.date.apply(lambda x: x.date())"
   ]
  },
  {
   "cell_type": "code",
   "execution_count": null,
   "id": "a1ad7838",
   "metadata": {},
   "outputs": [],
   "source": [
    "df_reddit[df_reddit.iso_date > dt.datetime.strptime(\"2017-09-01\", \"%Y-%m-%d\").date()].sort_values(by=\"iso_date\").to_csv(\"testeles.csv\")"
   ]
  },
  {
   "cell_type": "code",
   "execution_count": null,
   "id": "bf8616ac",
   "metadata": {},
   "outputs": [],
   "source": []
  },
  {
   "cell_type": "code",
   "execution_count": null,
   "id": "66d0ea7d",
   "metadata": {},
   "outputs": [],
   "source": []
  },
  {
   "cell_type": "code",
   "execution_count": null,
   "id": "aacbe036",
   "metadata": {},
   "outputs": [],
   "source": []
  }
 ],
 "metadata": {
  "kernelspec": {
   "display_name": "Python 3 (ipykernel)",
   "language": "python",
   "name": "python3"
  },
  "language_info": {
   "codemirror_mode": {
    "name": "ipython",
    "version": 3
   },
   "file_extension": ".py",
   "mimetype": "text/x-python",
   "name": "python",
   "nbconvert_exporter": "python",
   "pygments_lexer": "ipython3",
   "version": "3.10.7"
  }
 },
 "nbformat": 4,
 "nbformat_minor": 5
}
