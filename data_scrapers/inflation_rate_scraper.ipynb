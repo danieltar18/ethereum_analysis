{
 "cells": [
  {
   "cell_type": "code",
   "execution_count": 1,
   "id": "50ea55ee",
   "metadata": {},
   "outputs": [],
   "source": [
    "import pandas as pd\n",
    "import datetime"
   ]
  },
  {
   "cell_type": "markdown",
   "id": "6f906234",
   "metadata": {},
   "source": [
    "### Scraping US inflation rate monthly"
   ]
  },
  {
   "cell_type": "code",
   "execution_count": 2,
   "id": "79a7c5da",
   "metadata": {},
   "outputs": [],
   "source": [
    "inflation_rates_us = pd.read_html('https://www.rateinflation.com/inflation-rate/usa-historical-inflation-rate/')[0]"
   ]
  },
  {
   "cell_type": "code",
   "execution_count": 3,
   "id": "7ed5eb44",
   "metadata": {},
   "outputs": [
    {
     "data": {
      "text/html": [
       "<div>\n",
       "<style scoped>\n",
       "    .dataframe tbody tr th:only-of-type {\n",
       "        vertical-align: middle;\n",
       "    }\n",
       "\n",
       "    .dataframe tbody tr th {\n",
       "        vertical-align: top;\n",
       "    }\n",
       "\n",
       "    .dataframe thead th {\n",
       "        text-align: right;\n",
       "    }\n",
       "</style>\n",
       "<table border=\"1\" class=\"dataframe\">\n",
       "  <thead>\n",
       "    <tr style=\"text-align: right;\">\n",
       "      <th></th>\n",
       "      <th>Year</th>\n",
       "      <th>jan</th>\n",
       "      <th>feb</th>\n",
       "      <th>mar</th>\n",
       "      <th>apr</th>\n",
       "      <th>may</th>\n",
       "      <th>jun</th>\n",
       "      <th>jul</th>\n",
       "      <th>aug</th>\n",
       "      <th>sep</th>\n",
       "      <th>oct</th>\n",
       "      <th>nov</th>\n",
       "      <th>dec</th>\n",
       "      <th>Annual</th>\n",
       "    </tr>\n",
       "  </thead>\n",
       "  <tbody>\n",
       "    <tr>\n",
       "      <th>0</th>\n",
       "      <td>2023</td>\n",
       "      <td>6.410%</td>\n",
       "      <td>NaN</td>\n",
       "      <td>NaN</td>\n",
       "      <td>NaN</td>\n",
       "      <td>NaN</td>\n",
       "      <td>NaN</td>\n",
       "      <td>NaN</td>\n",
       "      <td>NaN</td>\n",
       "      <td>NaN</td>\n",
       "      <td>NaN</td>\n",
       "      <td>NaN</td>\n",
       "      <td>NaN</td>\n",
       "      <td>NaN</td>\n",
       "    </tr>\n",
       "    <tr>\n",
       "      <th>1</th>\n",
       "      <td>2022</td>\n",
       "      <td>7.480%</td>\n",
       "      <td>7.871%</td>\n",
       "      <td>8.542%</td>\n",
       "      <td>8.259%</td>\n",
       "      <td>8.582%</td>\n",
       "      <td>9.060%</td>\n",
       "      <td>8.525%</td>\n",
       "      <td>8.263%</td>\n",
       "      <td>8.202%</td>\n",
       "      <td>7.745%</td>\n",
       "      <td>7.110%</td>\n",
       "      <td>6.454%</td>\n",
       "      <td>8.003%</td>\n",
       "    </tr>\n",
       "    <tr>\n",
       "      <th>2</th>\n",
       "      <td>2021</td>\n",
       "      <td>1.400%</td>\n",
       "      <td>1.676%</td>\n",
       "      <td>2.620%</td>\n",
       "      <td>4.160%</td>\n",
       "      <td>4.993%</td>\n",
       "      <td>5.391%</td>\n",
       "      <td>5.365%</td>\n",
       "      <td>5.251%</td>\n",
       "      <td>5.390%</td>\n",
       "      <td>6.222%</td>\n",
       "      <td>6.809%</td>\n",
       "      <td>7.036%</td>\n",
       "      <td>4.698%</td>\n",
       "    </tr>\n",
       "  </tbody>\n",
       "</table>\n",
       "</div>"
      ],
      "text/plain": [
       "   Year     jan     feb     mar     apr     may     jun     jul     aug  \\\n",
       "0  2023  6.410%     NaN     NaN     NaN     NaN     NaN     NaN     NaN   \n",
       "1  2022  7.480%  7.871%  8.542%  8.259%  8.582%  9.060%  8.525%  8.263%   \n",
       "2  2021  1.400%  1.676%  2.620%  4.160%  4.993%  5.391%  5.365%  5.251%   \n",
       "\n",
       "      sep     oct     nov     dec  Annual  \n",
       "0     NaN     NaN     NaN     NaN     NaN  \n",
       "1  8.202%  7.745%  7.110%  6.454%  8.003%  \n",
       "2  5.390%  6.222%  6.809%  7.036%  4.698%  "
      ]
     },
     "execution_count": 3,
     "metadata": {},
     "output_type": "execute_result"
    }
   ],
   "source": [
    "inflation_rates_us.head(3)"
   ]
  },
  {
   "cell_type": "code",
   "execution_count": 4,
   "id": "041c384c",
   "metadata": {},
   "outputs": [],
   "source": [
    "inflation_rates_us = pd.melt(inflation_rates_us, id_vars=\"Year\", value_vars=[i for i in inflation_rates_us if i != \"Annual\" ])"
   ]
  },
  {
   "cell_type": "code",
   "execution_count": 5,
   "id": "f68f628d",
   "metadata": {
    "scrolled": true
   },
   "outputs": [],
   "source": [
    "inflation_rates_us.value = inflation_rates_us.value.str.replace(\"%\", \"\")"
   ]
  },
  {
   "cell_type": "code",
   "execution_count": 6,
   "id": "7b8a7057",
   "metadata": {},
   "outputs": [],
   "source": [
    "inflation_rates_us.rename(columns={\"Year\":\"year\", \"variable\": \"month\", \"value\": \"inflation_rate\"}, inplace=True)"
   ]
  },
  {
   "cell_type": "code",
   "execution_count": 7,
   "id": "b0bb9045",
   "metadata": {},
   "outputs": [],
   "source": [
    "inflation_rates_us.inflation_rate = inflation_rates_us.inflation_rate.astype(\"float16\")"
   ]
  },
  {
   "cell_type": "code",
   "execution_count": 8,
   "id": "ec2c4ecc",
   "metadata": {
    "scrolled": true
   },
   "outputs": [],
   "source": [
    "inflation_rates_us.month = inflation_rates_us.month.apply(lambda x: datetime.datetime.strptime(x, \"%b\").month)"
   ]
  },
  {
   "cell_type": "code",
   "execution_count": 9,
   "id": "a3735a9f",
   "metadata": {},
   "outputs": [],
   "source": [
    "inflation_rates_us.sort_values(by=[\"year\", \"month\"], inplace=True)"
   ]
  },
  {
   "cell_type": "code",
   "execution_count": 10,
   "id": "7f049e42",
   "metadata": {},
   "outputs": [],
   "source": [
    "inflation_rates_us.dropna(subset=[\"inflation_rate\"], inplace=True)"
   ]
  },
  {
   "cell_type": "code",
   "execution_count": 11,
   "id": "cf3904b6",
   "metadata": {},
   "outputs": [],
   "source": [
    "inflation_rates_us.reset_index(inplace=True, drop=True)"
   ]
  },
  {
   "cell_type": "code",
   "execution_count": 12,
   "id": "07de5b05",
   "metadata": {},
   "outputs": [
    {
     "data": {
      "text/html": [
       "<div>\n",
       "<style scoped>\n",
       "    .dataframe tbody tr th:only-of-type {\n",
       "        vertical-align: middle;\n",
       "    }\n",
       "\n",
       "    .dataframe tbody tr th {\n",
       "        vertical-align: top;\n",
       "    }\n",
       "\n",
       "    .dataframe thead th {\n",
       "        text-align: right;\n",
       "    }\n",
       "</style>\n",
       "<table border=\"1\" class=\"dataframe\">\n",
       "  <thead>\n",
       "    <tr style=\"text-align: right;\">\n",
       "      <th></th>\n",
       "      <th>year</th>\n",
       "      <th>month</th>\n",
       "      <th>inflation_rate</th>\n",
       "    </tr>\n",
       "  </thead>\n",
       "  <tbody>\n",
       "    <tr>\n",
       "      <th>0</th>\n",
       "      <td>1914</td>\n",
       "      <td>1</td>\n",
       "      <td>2.041016</td>\n",
       "    </tr>\n",
       "    <tr>\n",
       "      <th>1</th>\n",
       "      <td>1914</td>\n",
       "      <td>2</td>\n",
       "      <td>1.019531</td>\n",
       "    </tr>\n",
       "    <tr>\n",
       "      <th>2</th>\n",
       "      <td>1914</td>\n",
       "      <td>3</td>\n",
       "      <td>1.019531</td>\n",
       "    </tr>\n",
       "    <tr>\n",
       "      <th>3</th>\n",
       "      <td>1914</td>\n",
       "      <td>4</td>\n",
       "      <td>0.000000</td>\n",
       "    </tr>\n",
       "    <tr>\n",
       "      <th>4</th>\n",
       "      <td>1914</td>\n",
       "      <td>5</td>\n",
       "      <td>2.062500</td>\n",
       "    </tr>\n",
       "  </tbody>\n",
       "</table>\n",
       "</div>"
      ],
      "text/plain": [
       "   year  month  inflation_rate\n",
       "0  1914      1        2.041016\n",
       "1  1914      2        1.019531\n",
       "2  1914      3        1.019531\n",
       "3  1914      4        0.000000\n",
       "4  1914      5        2.062500"
      ]
     },
     "execution_count": 12,
     "metadata": {},
     "output_type": "execute_result"
    }
   ],
   "source": [
    "inflation_rates_us.head()"
   ]
  },
  {
   "cell_type": "code",
   "execution_count": 13,
   "id": "a24f5bd3",
   "metadata": {},
   "outputs": [],
   "source": [
    "inflation_rates_us.to_csv(\"src/monthly/inflation_rates/us_inflation_rate_monthly.csv\", index=False)"
   ]
  },
  {
   "cell_type": "code",
   "execution_count": null,
   "id": "7c0632cc",
   "metadata": {},
   "outputs": [],
   "source": []
  },
  {
   "cell_type": "markdown",
   "id": "d306f8f5",
   "metadata": {},
   "source": [
    "### Scraping Euro Zone inflation rate monthly"
   ]
  },
  {
   "cell_type": "code",
   "execution_count": 14,
   "id": "029142fc",
   "metadata": {},
   "outputs": [],
   "source": [
    "inflation_rates_eu = pd.read_html('https://www.rateinflation.com/inflation-rate/euro-area-historical-inflation-rate/')[0]"
   ]
  },
  {
   "cell_type": "code",
   "execution_count": 15,
   "id": "6fa7f1a6",
   "metadata": {},
   "outputs": [
    {
     "data": {
      "text/html": [
       "<div>\n",
       "<style scoped>\n",
       "    .dataframe tbody tr th:only-of-type {\n",
       "        vertical-align: middle;\n",
       "    }\n",
       "\n",
       "    .dataframe tbody tr th {\n",
       "        vertical-align: top;\n",
       "    }\n",
       "\n",
       "    .dataframe thead th {\n",
       "        text-align: right;\n",
       "    }\n",
       "</style>\n",
       "<table border=\"1\" class=\"dataframe\">\n",
       "  <thead>\n",
       "    <tr style=\"text-align: right;\">\n",
       "      <th></th>\n",
       "      <th>Year</th>\n",
       "      <th>jan</th>\n",
       "      <th>feb</th>\n",
       "      <th>mar</th>\n",
       "      <th>apr</th>\n",
       "      <th>may</th>\n",
       "      <th>jun</th>\n",
       "      <th>jul</th>\n",
       "      <th>aug</th>\n",
       "      <th>sep</th>\n",
       "      <th>oct</th>\n",
       "      <th>nov</th>\n",
       "      <th>dec</th>\n",
       "      <th>Annual</th>\n",
       "    </tr>\n",
       "  </thead>\n",
       "  <tbody>\n",
       "    <tr>\n",
       "      <th>0</th>\n",
       "      <td>2023</td>\n",
       "      <td>8.64%</td>\n",
       "      <td>NaN</td>\n",
       "      <td>NaN</td>\n",
       "      <td>NaN</td>\n",
       "      <td>NaN</td>\n",
       "      <td>NaN</td>\n",
       "      <td>NaN</td>\n",
       "      <td>NaN</td>\n",
       "      <td>NaN</td>\n",
       "      <td>NaN</td>\n",
       "      <td>NaN</td>\n",
       "      <td>NaN</td>\n",
       "      <td>NaN</td>\n",
       "    </tr>\n",
       "    <tr>\n",
       "      <th>1</th>\n",
       "      <td>2022</td>\n",
       "      <td>5.11%</td>\n",
       "      <td>5.87%</td>\n",
       "      <td>7.44%</td>\n",
       "      <td>7.44%</td>\n",
       "      <td>8.05%</td>\n",
       "      <td>8.64%</td>\n",
       "      <td>8.87%</td>\n",
       "      <td>9.14%</td>\n",
       "      <td>9.93%</td>\n",
       "      <td>10.62%</td>\n",
       "      <td>10.05%</td>\n",
       "      <td>9.20%</td>\n",
       "      <td>8.38%</td>\n",
       "    </tr>\n",
       "    <tr>\n",
       "      <th>2</th>\n",
       "      <td>2021</td>\n",
       "      <td>0.91%</td>\n",
       "      <td>0.94%</td>\n",
       "      <td>1.33%</td>\n",
       "      <td>1.62%</td>\n",
       "      <td>1.98%</td>\n",
       "      <td>1.90%</td>\n",
       "      <td>2.16%</td>\n",
       "      <td>2.96%</td>\n",
       "      <td>3.36%</td>\n",
       "      <td>4.05%</td>\n",
       "      <td>4.87%</td>\n",
       "      <td>4.96%</td>\n",
       "      <td>2.59%</td>\n",
       "    </tr>\n",
       "  </tbody>\n",
       "</table>\n",
       "</div>"
      ],
      "text/plain": [
       "   Year    jan    feb    mar    apr    may    jun    jul    aug    sep  \\\n",
       "0  2023  8.64%    NaN    NaN    NaN    NaN    NaN    NaN    NaN    NaN   \n",
       "1  2022  5.11%  5.87%  7.44%  7.44%  8.05%  8.64%  8.87%  9.14%  9.93%   \n",
       "2  2021  0.91%  0.94%  1.33%  1.62%  1.98%  1.90%  2.16%  2.96%  3.36%   \n",
       "\n",
       "      oct     nov    dec Annual  \n",
       "0     NaN     NaN    NaN    NaN  \n",
       "1  10.62%  10.05%  9.20%  8.38%  \n",
       "2   4.05%   4.87%  4.96%  2.59%  "
      ]
     },
     "execution_count": 15,
     "metadata": {},
     "output_type": "execute_result"
    }
   ],
   "source": [
    "inflation_rates_eu.head(3)"
   ]
  },
  {
   "cell_type": "code",
   "execution_count": 16,
   "id": "bafac86c",
   "metadata": {},
   "outputs": [],
   "source": [
    "inflation_rates_eu = pd.melt(inflation_rates_eu, id_vars=\"Year\", value_vars=[i for i in inflation_rates_eu if i != \"Annual\" ])"
   ]
  },
  {
   "cell_type": "code",
   "execution_count": 17,
   "id": "cf9a7054",
   "metadata": {
    "scrolled": true
   },
   "outputs": [],
   "source": [
    "inflation_rates_eu.value = inflation_rates_eu.value.str.replace(\"%\", \"\")"
   ]
  },
  {
   "cell_type": "code",
   "execution_count": 18,
   "id": "7982b686",
   "metadata": {},
   "outputs": [],
   "source": [
    "inflation_rates_eu.rename(columns={\"Year\":\"year\", \"variable\": \"month\", \"value\": \"inflation_rate\"}, inplace=True)"
   ]
  },
  {
   "cell_type": "code",
   "execution_count": 19,
   "id": "6cba5f22",
   "metadata": {},
   "outputs": [],
   "source": [
    "inflation_rates_eu.inflation_rate = inflation_rates_eu.inflation_rate.astype(\"float16\")"
   ]
  },
  {
   "cell_type": "code",
   "execution_count": 20,
   "id": "cbca405a",
   "metadata": {
    "scrolled": true
   },
   "outputs": [],
   "source": [
    "inflation_rates_eu.month = inflation_rates_eu.month.apply(lambda x: datetime.datetime.strptime(x, \"%b\").month)"
   ]
  },
  {
   "cell_type": "code",
   "execution_count": 21,
   "id": "a021950f",
   "metadata": {},
   "outputs": [],
   "source": [
    "inflation_rates_eu.sort_values(by=[\"year\", \"month\"], inplace=True)"
   ]
  },
  {
   "cell_type": "code",
   "execution_count": 22,
   "id": "83b216ea",
   "metadata": {},
   "outputs": [],
   "source": [
    "inflation_rates_eu.dropna(subset=[\"inflation_rate\"], inplace=True)"
   ]
  },
  {
   "cell_type": "code",
   "execution_count": 23,
   "id": "76e0ae62",
   "metadata": {},
   "outputs": [],
   "source": [
    "inflation_rates_eu.reset_index(inplace=True, drop=True)"
   ]
  },
  {
   "cell_type": "code",
   "execution_count": 24,
   "id": "0f6b5497",
   "metadata": {
    "scrolled": true
   },
   "outputs": [
    {
     "data": {
      "text/html": [
       "<div>\n",
       "<style scoped>\n",
       "    .dataframe tbody tr th:only-of-type {\n",
       "        vertical-align: middle;\n",
       "    }\n",
       "\n",
       "    .dataframe tbody tr th {\n",
       "        vertical-align: top;\n",
       "    }\n",
       "\n",
       "    .dataframe thead th {\n",
       "        text-align: right;\n",
       "    }\n",
       "</style>\n",
       "<table border=\"1\" class=\"dataframe\">\n",
       "  <thead>\n",
       "    <tr style=\"text-align: right;\">\n",
       "      <th></th>\n",
       "      <th>year</th>\n",
       "      <th>month</th>\n",
       "      <th>inflation_rate</th>\n",
       "    </tr>\n",
       "  </thead>\n",
       "  <tbody>\n",
       "    <tr>\n",
       "      <th>0</th>\n",
       "      <td>1997</td>\n",
       "      <td>1</td>\n",
       "      <td>2.050781</td>\n",
       "    </tr>\n",
       "    <tr>\n",
       "      <th>1</th>\n",
       "      <td>1997</td>\n",
       "      <td>2</td>\n",
       "      <td>1.820312</td>\n",
       "    </tr>\n",
       "    <tr>\n",
       "      <th>2</th>\n",
       "      <td>1997</td>\n",
       "      <td>3</td>\n",
       "      <td>1.540039</td>\n",
       "    </tr>\n",
       "    <tr>\n",
       "      <th>3</th>\n",
       "      <td>1997</td>\n",
       "      <td>4</td>\n",
       "      <td>1.320312</td>\n",
       "    </tr>\n",
       "    <tr>\n",
       "      <th>4</th>\n",
       "      <td>1997</td>\n",
       "      <td>5</td>\n",
       "      <td>1.360352</td>\n",
       "    </tr>\n",
       "  </tbody>\n",
       "</table>\n",
       "</div>"
      ],
      "text/plain": [
       "   year  month  inflation_rate\n",
       "0  1997      1        2.050781\n",
       "1  1997      2        1.820312\n",
       "2  1997      3        1.540039\n",
       "3  1997      4        1.320312\n",
       "4  1997      5        1.360352"
      ]
     },
     "execution_count": 24,
     "metadata": {},
     "output_type": "execute_result"
    }
   ],
   "source": [
    "inflation_rates_eu.head()"
   ]
  },
  {
   "cell_type": "code",
   "execution_count": 25,
   "id": "cf3a54a4",
   "metadata": {},
   "outputs": [],
   "source": [
    "inflation_rates_eu.to_csv(\"src/monthly/inflation_rates/eu_inflation_rate_monthly.csv\", index=False)"
   ]
  },
  {
   "cell_type": "code",
   "execution_count": null,
   "id": "ccf48c87",
   "metadata": {},
   "outputs": [],
   "source": []
  },
  {
   "cell_type": "code",
   "execution_count": null,
   "id": "65dee123",
   "metadata": {},
   "outputs": [],
   "source": []
  }
 ],
 "metadata": {
  "kernelspec": {
   "display_name": "Python 3 (ipykernel)",
   "language": "python",
   "name": "python3"
  },
  "language_info": {
   "codemirror_mode": {
    "name": "ipython",
    "version": 3
   },
   "file_extension": ".py",
   "mimetype": "text/x-python",
   "name": "python",
   "nbconvert_exporter": "python",
   "pygments_lexer": "ipython3",
   "version": "3.10.7"
  }
 },
 "nbformat": 4,
 "nbformat_minor": 5
}
