{
 "cells": [
  {
   "cell_type": "code",
   "execution_count": 1,
   "id": "c5b779f0",
   "metadata": {},
   "outputs": [],
   "source": [
    "import pandas as pd\n",
    "import numpy as np\n",
    "import matplotlib.pyplot as plt\n",
    "import binance\n",
    "import yfinance as yf\n",
    "import seaborn as sns\n",
    "from binance.client import Client\n",
    "import datetime as dt\n",
    "import os\n",
    "import json\n",
    "import requests\n",
    "from datetime import datetime, timedelta\n",
    "import pandas as pd"
   ]
  },
  {
   "cell_type": "code",
   "execution_count": 2,
   "id": "009274c6",
   "metadata": {},
   "outputs": [],
   "source": [
    "# client configuration\n",
    "api_key = os.environ[\"BINANCE_API_KEY\"]\n",
    "api_secret = os.environ[\"BINANCE_API_SECRET\"]  ## put your secrets in enviroment variables\n",
    "client = Client(api_key, api_secret)"
   ]
  },
  {
   "cell_type": "markdown",
   "id": "c24bbb84",
   "metadata": {},
   "source": [
    " ## Binance official api"
   ]
  },
  {
   "cell_type": "markdown",
   "id": "3a01fd40",
   "metadata": {},
   "source": [
    "#### Data information: \n",
    "    1499040000000,      // Open time\n",
    "    \"0.01634790\",       // Open\n",
    "    \"0.80000000\",       // High\n",
    "    \"0.01575800\",       // Low\n",
    "    \"0.01577100\",       // Close\n",
    "    \"148976.11427815\",  // Volume (in base asset ETH)\n",
    "    1499644799999,      // Close time\n",
    "    \"2434.19055334\",    // Quote asset volume (in quote asset USDT)\n",
    "    308,                // Number of trades\n",
    "    \"1756.87402397\",    // Taker buy base asset volume\n",
    "    \"28.46694368\",      // Taker buy quote asset volume\n",
    "    \"17928899.62484339\" // Ignore"
   ]
  },
  {
   "cell_type": "markdown",
   "id": "78d60554",
   "metadata": {},
   "source": [
    "### Getting 1 minutes chart for short term investigation"
   ]
  },
  {
   "cell_type": "code",
   "execution_count": null,
   "id": "a64c7daf",
   "metadata": {
    "scrolled": true
   },
   "outputs": [],
   "source": [
    "start_time = datetime.strptime('2017-09-01 00:00:00', '%Y-%m-%d %H:%M:%S') ## first timestamp available on Binance"
   ]
  },
  {
   "cell_type": "code",
   "execution_count": null,
   "id": "fdf6acac",
   "metadata": {},
   "outputs": [],
   "source": [
    "list_of_millisecs =[]\n",
    "now = datetime.now()"
   ]
  },
  {
   "cell_type": "code",
   "execution_count": null,
   "id": "03575948",
   "metadata": {},
   "outputs": [],
   "source": [
    "while start_time < now:\n",
    "    millisec = start_time.timestamp() * 1000\n",
    "    list_of_millisecs.append(str(int(millisec)))\n",
    "    start_time = start_time + timedelta(hours=12)"
   ]
  },
  {
   "cell_type": "code",
   "execution_count": null,
   "id": "4512f258",
   "metadata": {},
   "outputs": [],
   "source": [
    "df = pd.DataFrame()"
   ]
  },
  {
   "cell_type": "code",
   "execution_count": null,
   "id": "4d53d45d",
   "metadata": {},
   "outputs": [],
   "source": [
    "for i in range(0, len(list_of_millisecs)):\n",
    "    try:\n",
    "        url = 'https://api.binance.com/api/v3/klines'\n",
    "        symbol = 'ETHUSDT'\n",
    "        interval = '1m'\n",
    "        start = list_of_millisecs[i]\n",
    "        if i+1 == len(list_of_millisecs):\n",
    "            end = str(int(datetime.now().timestamp() * 1000))\n",
    "        else:\n",
    "            end = list_of_millisecs[i+1]\n",
    "\n",
    "        par = {'symbol': symbol, 'interval': interval, 'startTime': start, 'endTime': end, 'limit': 1000}\n",
    "        data = pd.DataFrame(json.loads(requests.get(url, params= par).text))\n",
    "\n",
    "        #format columns name\n",
    "        data.columns = ['datetime', 'open', 'high', 'low', 'close', 'volume','close_time', 'qav', 'num_trades','taker_base_vol', 'taker_quote_vol', 'ignore']\n",
    "        data.index = [dt.datetime.fromtimestamp(x/1000.0) for x in data.datetime]\n",
    "        data=data.astype(float)\n",
    "        \n",
    "    except:\n",
    "        pass\n",
    "    \n",
    "    \n",
    "    df = pd.concat([df, data])"
   ]
  },
  {
   "cell_type": "code",
   "execution_count": null,
   "id": "e6a57db7",
   "metadata": {},
   "outputs": [],
   "source": [
    "df.drop_duplicates(keep=\"first\", inplace=True)"
   ]
  },
  {
   "cell_type": "code",
   "execution_count": null,
   "id": "b86350c9",
   "metadata": {},
   "outputs": [],
   "source": [
    "df.to_csv(\"dataframes/minute/ethereum_1_min_df.csv\", index=False)"
   ]
  },
  {
   "cell_type": "code",
   "execution_count": null,
   "id": "67e31f00",
   "metadata": {
    "scrolled": false
   },
   "outputs": [],
   "source": [
    "df.tail()"
   ]
  },
  {
   "cell_type": "code",
   "execution_count": null,
   "id": "522a70e3",
   "metadata": {},
   "outputs": [],
   "source": []
  },
  {
   "cell_type": "markdown",
   "id": "0010ca8f",
   "metadata": {},
   "source": [
    "### Getting daily chart for short-mid term investigation"
   ]
  },
  {
   "cell_type": "code",
   "execution_count": 3,
   "id": "48e5fd05",
   "metadata": {
    "scrolled": true
   },
   "outputs": [],
   "source": [
    "start_time = datetime.strptime('2016-06-30 00:00:00', '%Y-%m-%d %H:%M:%S') ## first timestamp available on Binance"
   ]
  },
  {
   "cell_type": "code",
   "execution_count": 4,
   "id": "727137ae",
   "metadata": {},
   "outputs": [],
   "source": [
    "list_of_millisecs =[]\n",
    "now = datetime.now()"
   ]
  },
  {
   "cell_type": "code",
   "execution_count": 5,
   "id": "b9f2c3af",
   "metadata": {},
   "outputs": [],
   "source": [
    "while start_time < dt.datetime(2017, 9, 1, 22, 9, 2):\n",
    "    millisec = start_time.timestamp() * 1000\n",
    "    list_of_millisecs.append(str(int(millisec)))\n",
    "    start_time = start_time + timedelta(hours=12)"
   ]
  },
  {
   "cell_type": "code",
   "execution_count": 6,
   "id": "10ffc894",
   "metadata": {},
   "outputs": [],
   "source": [
    "df = pd.DataFrame()"
   ]
  },
  {
   "cell_type": "code",
   "execution_count": 7,
   "id": "4bd78d27",
   "metadata": {},
   "outputs": [],
   "source": [
    "for i in range(0, len(list_of_millisecs)):\n",
    "    try:\n",
    "        url = 'https://api.binance.com/api/v3/klines'\n",
    "        symbol = 'ETHUSDT'\n",
    "        interval = '1d'\n",
    "        start = list_of_millisecs[i]\n",
    "        if i+1 == len(list_of_millisecs):\n",
    "            end = str(int(datetime.now().timestamp() * 1000))\n",
    "        else:\n",
    "            end = list_of_millisecs[i+1]\n",
    "\n",
    "        par = {'symbol': symbol, 'interval': interval, 'startTime': start, 'endTime': end, 'limit': 1000}\n",
    "        data = pd.DataFrame(json.loads(requests.get(url, params= par).text))\n",
    "\n",
    "        #format columns name\n",
    "        data.columns = ['datetime', 'open', 'high', 'low', 'close', 'volume','close_time', 'qav', 'num_trades','taker_base_vol', 'taker_quote_vol', 'ignore']\n",
    "        data.index = [dt.datetime.fromtimestamp(x/1000.0) for x in data.datetime]\n",
    "        data=data.astype(float)\n",
    "        \n",
    "    except:\n",
    "        pass\n",
    "    \n",
    "    \n",
    "    df = pd.concat([df, data])"
   ]
  },
  {
   "cell_type": "code",
   "execution_count": 14,
   "id": "7e5ecc96",
   "metadata": {},
   "outputs": [],
   "source": [
    "df.to_csv(\"src/section1/daily/eth/ethereum_daily_df.csv\", index=False)"
   ]
  },
  {
   "cell_type": "code",
   "execution_count": null,
   "id": "fdffaeb5",
   "metadata": {},
   "outputs": [],
   "source": []
  },
  {
   "cell_type": "markdown",
   "id": "97b5a11b",
   "metadata": {},
   "source": [
    "### Getting weekly chart for mid-long term investigation"
   ]
  },
  {
   "cell_type": "code",
   "execution_count": null,
   "id": "29c2d5c6",
   "metadata": {},
   "outputs": [],
   "source": [
    "df = pd.DataFrame()"
   ]
  },
  {
   "cell_type": "code",
   "execution_count": null,
   "id": "0b51e626",
   "metadata": {},
   "outputs": [],
   "source": [
    "for i in range(0, len(list_of_millisecs)):\n",
    "    try:\n",
    "        url = 'https://api.binance.com/api/v3/klines'\n",
    "        symbol = 'ETHUSDT'\n",
    "        interval = '1w'\n",
    "        start = list_of_millisecs[i]\n",
    "        if i+1 == len(list_of_millisecs):\n",
    "            end = str(int(datetime.now().timestamp() * 1000))\n",
    "        else:\n",
    "            end = list_of_millisecs[i+1]\n",
    "\n",
    "        par = {'symbol': symbol, 'interval': interval, 'startTime': start, 'endTime': end, 'limit': 1000}\n",
    "        data = pd.DataFrame(json.loads(requests.get(url, params= par).text))\n",
    "\n",
    "        #format columns name\n",
    "        data.columns = ['datetime', 'open', 'high', 'low', 'close', 'volume','close_time', 'qav', 'num_trades','taker_base_vol', 'taker_quote_vol', 'ignore']\n",
    "        data.index = [dt.datetime.fromtimestamp(x/1000.0) for x in data.datetime]\n",
    "        data=data.astype(float)\n",
    "        \n",
    "    except:\n",
    "        pass\n",
    "    \n",
    "    \n",
    "    df = pd.concat([df, data])"
   ]
  },
  {
   "cell_type": "code",
   "execution_count": null,
   "id": "68d24d69",
   "metadata": {},
   "outputs": [],
   "source": [
    "df.tail()"
   ]
  },
  {
   "cell_type": "code",
   "execution_count": null,
   "id": "63d6da24",
   "metadata": {},
   "outputs": [],
   "source": [
    "df.drop_duplicates(keep=\"first\")"
   ]
  },
  {
   "cell_type": "code",
   "execution_count": null,
   "id": "5758ccb8",
   "metadata": {},
   "outputs": [],
   "source": [
    "df.to_csv(\"dataframes/weekly/ethereum_weekly_df.csv\", index=False)"
   ]
  },
  {
   "cell_type": "code",
   "execution_count": null,
   "id": "c3b9c2de",
   "metadata": {},
   "outputs": [],
   "source": []
  },
  {
   "cell_type": "code",
   "execution_count": null,
   "id": "de4d4e7d",
   "metadata": {},
   "outputs": [],
   "source": []
  }
 ],
 "metadata": {
  "kernelspec": {
   "display_name": "Python 3 (ipykernel)",
   "language": "python",
   "name": "python3"
  },
  "language_info": {
   "codemirror_mode": {
    "name": "ipython",
    "version": 3
   },
   "file_extension": ".py",
   "mimetype": "text/x-python",
   "name": "python",
   "nbconvert_exporter": "python",
   "pygments_lexer": "ipython3",
   "version": "3.10.7"
  }
 },
 "nbformat": 4,
 "nbformat_minor": 5
}
