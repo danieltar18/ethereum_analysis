{
 "cells": [
  {
   "cell_type": "code",
   "execution_count": 15,
   "id": "21800522",
   "metadata": {},
   "outputs": [],
   "source": [
    "import numpy as np\n",
    "import pandas as pd\n",
    "from sklearn.metrics import mean_absolute_percentage_error, mean_absolute_error, mean_squared_error\n",
    "import matplotlib.pyplot as plt"
   ]
  },
  {
   "cell_type": "code",
   "execution_count": 16,
   "id": "123863dd",
   "metadata": {},
   "outputs": [],
   "source": [
    "df = pd.read_csv(\"training_dataset.csv\", index_col=\"date\", parse_dates=True)"
   ]
  },
  {
   "cell_type": "code",
   "execution_count": 17,
   "id": "e69b70f0",
   "metadata": {},
   "outputs": [
    {
     "data": {
      "text/html": [
       "<div>\n",
       "<style scoped>\n",
       "    .dataframe tbody tr th:only-of-type {\n",
       "        vertical-align: middle;\n",
       "    }\n",
       "\n",
       "    .dataframe tbody tr th {\n",
       "        vertical-align: top;\n",
       "    }\n",
       "\n",
       "    .dataframe thead th {\n",
       "        text-align: right;\n",
       "    }\n",
       "</style>\n",
       "<table border=\"1\" class=\"dataframe\">\n",
       "  <thead>\n",
       "    <tr style=\"text-align: right;\">\n",
       "      <th></th>\n",
       "      <th>eth_low</th>\n",
       "      <th>eth_high</th>\n",
       "      <th>eth_open</th>\n",
       "      <th>eth_close</th>\n",
       "      <th>eth_volume</th>\n",
       "      <th>month</th>\n",
       "      <th>eth_qav</th>\n",
       "      <th>eth_num_trades</th>\n",
       "      <th>eth_taker_base_vol</th>\n",
       "      <th>eth_taker_quote_vol</th>\n",
       "      <th>...</th>\n",
       "      <th>stochastic_oscillator</th>\n",
       "      <th>ma_12</th>\n",
       "      <th>ma_26</th>\n",
       "      <th>ema_12</th>\n",
       "      <th>ema_26</th>\n",
       "      <th>obv</th>\n",
       "      <th>mfi</th>\n",
       "      <th>upper_band</th>\n",
       "      <th>middle_band</th>\n",
       "      <th>lower_band</th>\n",
       "    </tr>\n",
       "    <tr>\n",
       "      <th>date</th>\n",
       "      <th></th>\n",
       "      <th></th>\n",
       "      <th></th>\n",
       "      <th></th>\n",
       "      <th></th>\n",
       "      <th></th>\n",
       "      <th></th>\n",
       "      <th></th>\n",
       "      <th></th>\n",
       "      <th></th>\n",
       "      <th></th>\n",
       "      <th></th>\n",
       "      <th></th>\n",
       "      <th></th>\n",
       "      <th></th>\n",
       "      <th></th>\n",
       "      <th></th>\n",
       "      <th></th>\n",
       "      <th></th>\n",
       "      <th></th>\n",
       "      <th></th>\n",
       "    </tr>\n",
       "  </thead>\n",
       "  <tbody>\n",
       "    <tr>\n",
       "      <th>2017-09-01</th>\n",
       "      <td>383.18</td>\n",
       "      <td>394.39</td>\n",
       "      <td>386.44</td>\n",
       "      <td>388.46</td>\n",
       "      <td>4198.68434</td>\n",
       "      <td>2017-09-01</td>\n",
       "      <td>1.635228e+06</td>\n",
       "      <td>4124.0</td>\n",
       "      <td>1564.05531</td>\n",
       "      <td>6.096309e+05</td>\n",
       "      <td>...</td>\n",
       "      <td>96.424850</td>\n",
       "      <td>346.524167</td>\n",
       "      <td>338.660000</td>\n",
       "      <td>346.524167</td>\n",
       "      <td>338.660000</td>\n",
       "      <td>1.378006e+06</td>\n",
       "      <td>88.346876</td>\n",
       "      <td>411.653941</td>\n",
       "      <td>341.8790</td>\n",
       "      <td>272.104059</td>\n",
       "    </tr>\n",
       "    <tr>\n",
       "      <th>2017-09-02</th>\n",
       "      <td>320.08</td>\n",
       "      <td>394.32</td>\n",
       "      <td>388.58</td>\n",
       "      <td>343.14</td>\n",
       "      <td>8240.32724</td>\n",
       "      <td>2017-09-01</td>\n",
       "      <td>2.904008e+06</td>\n",
       "      <td>8217.0</td>\n",
       "      <td>2460.66776</td>\n",
       "      <td>8.684873e+05</td>\n",
       "      <td>...</td>\n",
       "      <td>97.629707</td>\n",
       "      <td>348.178333</td>\n",
       "      <td>339.773462</td>\n",
       "      <td>348.178333</td>\n",
       "      <td>339.773462</td>\n",
       "      <td>1.369766e+06</td>\n",
       "      <td>80.426793</td>\n",
       "      <td>411.386517</td>\n",
       "      <td>341.6590</td>\n",
       "      <td>271.931483</td>\n",
       "    </tr>\n",
       "    <tr>\n",
       "      <th>2017-09-03</th>\n",
       "      <td>320.08</td>\n",
       "      <td>367.28</td>\n",
       "      <td>343.56</td>\n",
       "      <td>341.77</td>\n",
       "      <td>5253.62211</td>\n",
       "      <td>2017-09-01</td>\n",
       "      <td>1.801703e+06</td>\n",
       "      <td>6153.0</td>\n",
       "      <td>2240.91753</td>\n",
       "      <td>7.679383e+05</td>\n",
       "      <td>...</td>\n",
       "      <td>79.514749</td>\n",
       "      <td>350.842500</td>\n",
       "      <td>340.706923</td>\n",
       "      <td>350.842500</td>\n",
       "      <td>340.706923</td>\n",
       "      <td>1.364512e+06</td>\n",
       "      <td>74.419284</td>\n",
       "      <td>408.329187</td>\n",
       "      <td>340.1235</td>\n",
       "      <td>271.917813</td>\n",
       "    </tr>\n",
       "    <tr>\n",
       "      <th>2017-09-04</th>\n",
       "      <td>267.94</td>\n",
       "      <td>344.55</td>\n",
       "      <td>339.29</td>\n",
       "      <td>283.77</td>\n",
       "      <td>6737.81061</td>\n",
       "      <td>2017-09-01</td>\n",
       "      <td>2.002446e+06</td>\n",
       "      <td>7403.0</td>\n",
       "      <td>2954.16805</td>\n",
       "      <td>8.770111e+05</td>\n",
       "      <td>...</td>\n",
       "      <td>78.967144</td>\n",
       "      <td>348.178333</td>\n",
       "      <td>339.138077</td>\n",
       "      <td>348.178333</td>\n",
       "      <td>339.138077</td>\n",
       "      <td>1.357774e+06</td>\n",
       "      <td>67.246410</td>\n",
       "      <td>404.443029</td>\n",
       "      <td>335.1070</td>\n",
       "      <td>265.770971</td>\n",
       "    </tr>\n",
       "    <tr>\n",
       "      <th>2017-09-05</th>\n",
       "      <td>235.55</td>\n",
       "      <td>321.52</td>\n",
       "      <td>286.81</td>\n",
       "      <td>312.09</td>\n",
       "      <td>8344.41924</td>\n",
       "      <td>2017-09-01</td>\n",
       "      <td>2.397491e+06</td>\n",
       "      <td>8999.0</td>\n",
       "      <td>4312.97282</td>\n",
       "      <td>1.251959e+06</td>\n",
       "      <td>...</td>\n",
       "      <td>55.783836</td>\n",
       "      <td>347.234167</td>\n",
       "      <td>338.443846</td>\n",
       "      <td>347.234167</td>\n",
       "      <td>338.443846</td>\n",
       "      <td>1.366118e+06</td>\n",
       "      <td>66.412993</td>\n",
       "      <td>396.369992</td>\n",
       "      <td>331.2515</td>\n",
       "      <td>266.133008</td>\n",
       "    </tr>\n",
       "  </tbody>\n",
       "</table>\n",
       "<p>5 rows × 46 columns</p>\n",
       "</div>"
      ],
      "text/plain": [
       "            eth_low  eth_high  eth_open  eth_close  eth_volume       month  \\\n",
       "date                                                                         \n",
       "2017-09-01   383.18    394.39    386.44     388.46  4198.68434  2017-09-01   \n",
       "2017-09-02   320.08    394.32    388.58     343.14  8240.32724  2017-09-01   \n",
       "2017-09-03   320.08    367.28    343.56     341.77  5253.62211  2017-09-01   \n",
       "2017-09-04   267.94    344.55    339.29     283.77  6737.81061  2017-09-01   \n",
       "2017-09-05   235.55    321.52    286.81     312.09  8344.41924  2017-09-01   \n",
       "\n",
       "                 eth_qav  eth_num_trades  eth_taker_base_vol  \\\n",
       "date                                                           \n",
       "2017-09-01  1.635228e+06          4124.0          1564.05531   \n",
       "2017-09-02  2.904008e+06          8217.0          2460.66776   \n",
       "2017-09-03  1.801703e+06          6153.0          2240.91753   \n",
       "2017-09-04  2.002446e+06          7403.0          2954.16805   \n",
       "2017-09-05  2.397491e+06          8999.0          4312.97282   \n",
       "\n",
       "            eth_taker_quote_vol  ...  stochastic_oscillator       ma_12  \\\n",
       "date                             ...                                      \n",
       "2017-09-01         6.096309e+05  ...              96.424850  346.524167   \n",
       "2017-09-02         8.684873e+05  ...              97.629707  348.178333   \n",
       "2017-09-03         7.679383e+05  ...              79.514749  350.842500   \n",
       "2017-09-04         8.770111e+05  ...              78.967144  348.178333   \n",
       "2017-09-05         1.251959e+06  ...              55.783836  347.234167   \n",
       "\n",
       "                 ma_26      ema_12      ema_26           obv        mfi  \\\n",
       "date                                                                      \n",
       "2017-09-01  338.660000  346.524167  338.660000  1.378006e+06  88.346876   \n",
       "2017-09-02  339.773462  348.178333  339.773462  1.369766e+06  80.426793   \n",
       "2017-09-03  340.706923  350.842500  340.706923  1.364512e+06  74.419284   \n",
       "2017-09-04  339.138077  348.178333  339.138077  1.357774e+06  67.246410   \n",
       "2017-09-05  338.443846  347.234167  338.443846  1.366118e+06  66.412993   \n",
       "\n",
       "            upper_band  middle_band  lower_band  \n",
       "date                                             \n",
       "2017-09-01  411.653941     341.8790  272.104059  \n",
       "2017-09-02  411.386517     341.6590  271.931483  \n",
       "2017-09-03  408.329187     340.1235  271.917813  \n",
       "2017-09-04  404.443029     335.1070  265.770971  \n",
       "2017-09-05  396.369992     331.2515  266.133008  \n",
       "\n",
       "[5 rows x 46 columns]"
      ]
     },
     "execution_count": 17,
     "metadata": {},
     "output_type": "execute_result"
    }
   ],
   "source": [
    "df.head()"
   ]
  },
  {
   "cell_type": "code",
   "execution_count": 18,
   "id": "0b7c332d",
   "metadata": {},
   "outputs": [],
   "source": [
    "df[\"prediction\"] = df[\"eth_close\"].shift(1)"
   ]
  },
  {
   "cell_type": "code",
   "execution_count": 19,
   "id": "6b100e82",
   "metadata": {
    "scrolled": true
   },
   "outputs": [
    {
     "data": {
      "text/html": [
       "<div>\n",
       "<style scoped>\n",
       "    .dataframe tbody tr th:only-of-type {\n",
       "        vertical-align: middle;\n",
       "    }\n",
       "\n",
       "    .dataframe tbody tr th {\n",
       "        vertical-align: top;\n",
       "    }\n",
       "\n",
       "    .dataframe thead th {\n",
       "        text-align: right;\n",
       "    }\n",
       "</style>\n",
       "<table border=\"1\" class=\"dataframe\">\n",
       "  <thead>\n",
       "    <tr style=\"text-align: right;\">\n",
       "      <th></th>\n",
       "      <th>eth_close</th>\n",
       "      <th>prediction</th>\n",
       "    </tr>\n",
       "    <tr>\n",
       "      <th>date</th>\n",
       "      <th></th>\n",
       "      <th></th>\n",
       "    </tr>\n",
       "  </thead>\n",
       "  <tbody>\n",
       "    <tr>\n",
       "      <th>2017-09-01</th>\n",
       "      <td>388.46</td>\n",
       "      <td>NaN</td>\n",
       "    </tr>\n",
       "    <tr>\n",
       "      <th>2017-09-02</th>\n",
       "      <td>343.14</td>\n",
       "      <td>388.46</td>\n",
       "    </tr>\n",
       "    <tr>\n",
       "      <th>2017-09-03</th>\n",
       "      <td>341.77</td>\n",
       "      <td>343.14</td>\n",
       "    </tr>\n",
       "    <tr>\n",
       "      <th>2017-09-04</th>\n",
       "      <td>283.77</td>\n",
       "      <td>341.77</td>\n",
       "    </tr>\n",
       "    <tr>\n",
       "      <th>2017-09-05</th>\n",
       "      <td>312.09</td>\n",
       "      <td>283.77</td>\n",
       "    </tr>\n",
       "  </tbody>\n",
       "</table>\n",
       "</div>"
      ],
      "text/plain": [
       "            eth_close  prediction\n",
       "date                             \n",
       "2017-09-01     388.46         NaN\n",
       "2017-09-02     343.14      388.46\n",
       "2017-09-03     341.77      343.14\n",
       "2017-09-04     283.77      341.77\n",
       "2017-09-05     312.09      283.77"
      ]
     },
     "execution_count": 19,
     "metadata": {},
     "output_type": "execute_result"
    }
   ],
   "source": [
    "df[[\"eth_close\", \"prediction\"]].head()"
   ]
  },
  {
   "cell_type": "code",
   "execution_count": 20,
   "id": "8677ac66",
   "metadata": {},
   "outputs": [],
   "source": [
    "df = df[[\"eth_close\", \"prediction\"]].dropna()"
   ]
  },
  {
   "cell_type": "markdown",
   "id": "8937b5e3",
   "metadata": {},
   "source": [
    "## 1 DAY"
   ]
  },
  {
   "cell_type": "code",
   "execution_count": 21,
   "id": "43360c35",
   "metadata": {},
   "outputs": [],
   "source": [
    "from sklearn.model_selection import TimeSeriesSplit\n",
    "\n",
    "tss = TimeSeriesSplit(n_splits=10, test_size=1, gap=0)\n",
    "df = df.sort_index()"
   ]
  },
  {
   "cell_type": "code",
   "execution_count": 22,
   "id": "f930f8aa",
   "metadata": {},
   "outputs": [
    {
     "name": "stdout",
     "output_type": "stream",
     "text": [
      "Tesztelve 5 különböző tanulási/tesztelési adatszetten - 1 napos predikció\n",
      "RMSE: 24.868\n",
      "MSE: 1312.4266\n",
      "MAE: 24.868\n",
      "MAPE: 1.5384%\n"
     ]
    }
   ],
   "source": [
    "root_mean_squared_errors = []\n",
    "mean_squared_errors = []\n",
    "mean_absolute_errors = []\n",
    "mean_absolute_percentage_errors = []\n",
    "\n",
    "\n",
    "for train_idx, val_idx in tss.split(df):\n",
    "    train = df.iloc[train_idx]\n",
    "    test = df.iloc[val_idx]\n",
    "    y_true = test[\"eth_close\"]\n",
    "    y_pred = test[\"prediction\"]\n",
    "    rmse = mean_squared_error(y_true, y_pred, squared=False)\n",
    "    root_mean_squared_errors.append(rmse)\n",
    "    mse = mean_squared_error(y_true, y_pred, squared=True)\n",
    "    mean_squared_errors.append(mse)\n",
    "    mae = mean_absolute_error(y_true, y_pred)\n",
    "    mean_absolute_errors.append(mae)\n",
    "    mape = mean_absolute_percentage_error(y_true, y_pred)\n",
    "    mean_absolute_percentage_errors.append(mape)\n",
    "\n",
    "plt.show()\n",
    "    \n",
    "print(\"Tesztelve 5 különböző tanulási/tesztelési adatszetten - 1 napos predikció\")\n",
    "print(f\"RMSE: {round(np.mean(root_mean_squared_errors), 4)}\")\n",
    "print(f\"MSE: {round(np.mean(mean_squared_errors), 4)}\")\n",
    "print(f\"MAE: {round(np.mean(mean_absolute_errors), 4)}\")\n",
    "print(f\"MAPE: {str(round(np.mean(mean_absolute_percentage_errors)*100, 4))}%\")"
   ]
  },
  {
   "cell_type": "code",
   "execution_count": 23,
   "id": "f3d1874f",
   "metadata": {},
   "outputs": [
    {
     "data": {
      "text/plain": [
       "date\n",
       "2023-03-07    1561.96\n",
       "Name: eth_close, dtype: float64"
      ]
     },
     "execution_count": 23,
     "metadata": {},
     "output_type": "execute_result"
    }
   ],
   "source": [
    "y_true"
   ]
  },
  {
   "cell_type": "code",
   "execution_count": 24,
   "id": "184be7b2",
   "metadata": {},
   "outputs": [
    {
     "data": {
      "text/plain": [
       "date\n",
       "2023-03-07    1565.84\n",
       "Name: prediction, dtype: float64"
      ]
     },
     "execution_count": 24,
     "metadata": {},
     "output_type": "execute_result"
    }
   ],
   "source": [
    "y_pred"
   ]
  },
  {
   "cell_type": "markdown",
   "id": "dba8b33d",
   "metadata": {},
   "source": [
    "## 3 DAY"
   ]
  },
  {
   "cell_type": "code",
   "execution_count": 25,
   "id": "fbb367d4",
   "metadata": {},
   "outputs": [],
   "source": [
    "from sklearn.model_selection import TimeSeriesSplit\n",
    "\n",
    "tss = TimeSeriesSplit(n_splits=10, test_size=3, gap=0)\n",
    "df = df.sort_index()"
   ]
  },
  {
   "cell_type": "code",
   "execution_count": 26,
   "id": "e60f01ad",
   "metadata": {},
   "outputs": [
    {
     "name": "stdout",
     "output_type": "stream",
     "text": [
      "Tesztelve 5 különböző tanulási/tesztelési adatszetten - 3 napos predikció\n",
      "RMSE: 38.0148\n",
      "MSE: 1885.5383\n",
      "MAE: 32.0247\n",
      "MAPE: 1.9817%\n"
     ]
    }
   ],
   "source": [
    "root_mean_squared_errors = []\n",
    "mean_squared_errors = []\n",
    "mean_absolute_errors = []\n",
    "mean_absolute_percentage_errors = []\n",
    "\n",
    "\n",
    "for train_idx, val_idx in tss.split(df):\n",
    "    train = df.iloc[train_idx]\n",
    "    test = df.iloc[val_idx]\n",
    "    y_true = test[\"eth_close\"]\n",
    "    y_pred = test[\"prediction\"]\n",
    "    rmse = mean_squared_error(y_true, y_pred, squared=False)\n",
    "    root_mean_squared_errors.append(rmse)\n",
    "    mse = mean_squared_error(y_true, y_pred, squared=True)\n",
    "    mean_squared_errors.append(mse)\n",
    "    mae = mean_absolute_error(y_true, y_pred)\n",
    "    mean_absolute_errors.append(mae)\n",
    "    mape = mean_absolute_percentage_error(y_true, y_pred)\n",
    "    mean_absolute_percentage_errors.append(mape)\n",
    "\n",
    "plt.show()\n",
    "    \n",
    "print(\"Tesztelve 5 különböző tanulási/tesztelési adatszetten - 3 napos predikció\")\n",
    "print(f\"RMSE: {round(np.mean(root_mean_squared_errors), 4)}\")\n",
    "print(f\"MSE: {round(np.mean(mean_squared_errors), 4)}\")\n",
    "print(f\"MAE: {round(np.mean(mean_absolute_errors), 4)}\")\n",
    "print(f\"MAPE: {str(round(np.mean(mean_absolute_percentage_errors)*100, 4))}%\")"
   ]
  },
  {
   "cell_type": "code",
   "execution_count": 27,
   "id": "fe661097",
   "metadata": {},
   "outputs": [
    {
     "data": {
      "text/plain": [
       "date\n",
       "2023-03-05    1564.58\n",
       "2023-03-06    1565.84\n",
       "2023-03-07    1561.96\n",
       "Name: eth_close, dtype: float64"
      ]
     },
     "execution_count": 27,
     "metadata": {},
     "output_type": "execute_result"
    }
   ],
   "source": [
    "y_true"
   ]
  },
  {
   "cell_type": "code",
   "execution_count": 28,
   "id": "78aad3fc",
   "metadata": {},
   "outputs": [
    {
     "data": {
      "text/plain": [
       "date\n",
       "2023-03-05    1566.73\n",
       "2023-03-06    1564.58\n",
       "2023-03-07    1565.84\n",
       "Name: prediction, dtype: float64"
      ]
     },
     "execution_count": 28,
     "metadata": {},
     "output_type": "execute_result"
    }
   ],
   "source": [
    "y_pred"
   ]
  },
  {
   "cell_type": "markdown",
   "id": "a9842b04",
   "metadata": {},
   "source": [
    "## 7 DAY"
   ]
  },
  {
   "cell_type": "code",
   "execution_count": 29,
   "id": "407df5d1",
   "metadata": {},
   "outputs": [],
   "source": [
    "from sklearn.model_selection import TimeSeriesSplit\n",
    "\n",
    "tss = TimeSeriesSplit(n_splits=10, test_size=7, gap=0)\n",
    "df = df.sort_index()"
   ]
  },
  {
   "cell_type": "code",
   "execution_count": 31,
   "id": "c0cd3f8b",
   "metadata": {},
   "outputs": [
    {
     "name": "stdout",
     "output_type": "stream",
     "text": [
      "Tesztelve 5 különböző tanulási/tesztelési adatszetten - 7 napos predikció\n",
      "RMSE: 38.8613\n",
      "MSE: 1705.5173\n",
      "MAE: 30.0044\n",
      "MAPE: 1.9302%\n"
     ]
    }
   ],
   "source": [
    "root_mean_squared_errors = []\n",
    "mean_squared_errors = []\n",
    "mean_absolute_errors = []\n",
    "mean_absolute_percentage_errors = []\n",
    "\n",
    "\n",
    "for train_idx, val_idx in tss.split(df):\n",
    "    train = df.iloc[train_idx]\n",
    "    test = df.iloc[val_idx]\n",
    "    y_true = test[\"eth_close\"]\n",
    "    y_pred = test[\"prediction\"]\n",
    "    rmse = mean_squared_error(y_true, y_pred, squared=False)\n",
    "    root_mean_squared_errors.append(rmse)\n",
    "    mse = mean_squared_error(y_true, y_pred, squared=True)\n",
    "    mean_squared_errors.append(mse)\n",
    "    mae = mean_absolute_error(y_true, y_pred)\n",
    "    mean_absolute_errors.append(mae)\n",
    "    mape = mean_absolute_percentage_error(y_true, y_pred)\n",
    "    mean_absolute_percentage_errors.append(mape)\n",
    "\n",
    "plt.show()\n",
    "    \n",
    "print(\"Tesztelve 5 különböző tanulási/tesztelési adatszetten - 7 napos predikció\")\n",
    "print(f\"RMSE: {round(np.mean(root_mean_squared_errors), 4)}\")\n",
    "print(f\"MSE: {round(np.mean(mean_squared_errors), 4)}\")\n",
    "print(f\"MAE: {round(np.mean(mean_absolute_errors), 4)}\")\n",
    "print(f\"MAPE: {str(round(np.mean(mean_absolute_percentage_errors)*100, 4))}%\")"
   ]
  },
  {
   "cell_type": "code",
   "execution_count": 32,
   "id": "098004b7",
   "metadata": {},
   "outputs": [
    {
     "data": {
      "text/plain": [
       "date\n",
       "2023-03-01    1665.22\n",
       "2023-03-02    1647.86\n",
       "2023-03-03    1569.45\n",
       "2023-03-04    1566.73\n",
       "2023-03-05    1564.58\n",
       "2023-03-06    1565.84\n",
       "2023-03-07    1561.96\n",
       "Name: eth_close, dtype: float64"
      ]
     },
     "execution_count": 32,
     "metadata": {},
     "output_type": "execute_result"
    }
   ],
   "source": [
    "y_true"
   ]
  },
  {
   "cell_type": "code",
   "execution_count": 33,
   "id": "0b1d5177",
   "metadata": {},
   "outputs": [
    {
     "data": {
      "text/plain": [
       "date\n",
       "2023-03-01    1605.23\n",
       "2023-03-02    1665.22\n",
       "2023-03-03    1647.86\n",
       "2023-03-04    1569.45\n",
       "2023-03-05    1566.73\n",
       "2023-03-06    1564.58\n",
       "2023-03-07    1565.84\n",
       "Name: prediction, dtype: float64"
      ]
     },
     "execution_count": 33,
     "metadata": {},
     "output_type": "execute_result"
    }
   ],
   "source": [
    "y_pred"
   ]
  },
  {
   "cell_type": "markdown",
   "id": "372856a5",
   "metadata": {},
   "source": [
    "## 14 DAY"
   ]
  },
  {
   "cell_type": "code",
   "execution_count": 34,
   "id": "2721c802",
   "metadata": {},
   "outputs": [],
   "source": [
    "from sklearn.model_selection import TimeSeriesSplit\n",
    "\n",
    "tss = TimeSeriesSplit(n_splits=10, test_size=14, gap=0)\n",
    "df = df.sort_index()"
   ]
  },
  {
   "cell_type": "code",
   "execution_count": 35,
   "id": "cd1de882",
   "metadata": {},
   "outputs": [
    {
     "name": "stdout",
     "output_type": "stream",
     "text": [
      "Tesztelve 5 különböző tanulási/tesztelési adatszetten - 14 napos predikció\n",
      "RMSE: 46.2068\n",
      "MSE: 2696.5481\n",
      "MAE: 34.0299\n",
      "MAPE: 2.425%\n"
     ]
    }
   ],
   "source": [
    "root_mean_squared_errors = []\n",
    "mean_squared_errors = []\n",
    "mean_absolute_errors = []\n",
    "mean_absolute_percentage_errors = []\n",
    "\n",
    "\n",
    "for train_idx, val_idx in tss.split(df):\n",
    "    train = df.iloc[train_idx]\n",
    "    test = df.iloc[val_idx]\n",
    "    y_true = test[\"eth_close\"]\n",
    "    y_pred = test[\"prediction\"]\n",
    "    rmse = mean_squared_error(y_true, y_pred, squared=False)\n",
    "    root_mean_squared_errors.append(rmse)\n",
    "    mse = mean_squared_error(y_true, y_pred, squared=True)\n",
    "    mean_squared_errors.append(mse)\n",
    "    mae = mean_absolute_error(y_true, y_pred)\n",
    "    mean_absolute_errors.append(mae)\n",
    "    mape = mean_absolute_percentage_error(y_true, y_pred)\n",
    "    mean_absolute_percentage_errors.append(mape)\n",
    "\n",
    "plt.show()\n",
    "    \n",
    "print(\"Tesztelve 5 különböző tanulási/tesztelési adatszetten - 14 napos predikció\")\n",
    "print(f\"RMSE: {round(np.mean(root_mean_squared_errors), 4)}\")\n",
    "print(f\"MSE: {round(np.mean(mean_squared_errors), 4)}\")\n",
    "print(f\"MAE: {round(np.mean(mean_absolute_errors), 4)}\")\n",
    "print(f\"MAPE: {str(round(np.mean(mean_absolute_percentage_errors)*100, 4))}%\")"
   ]
  },
  {
   "cell_type": "code",
   "execution_count": 36,
   "id": "dcb88404",
   "metadata": {},
   "outputs": [
    {
     "name": "stdout",
     "output_type": "stream",
     "text": [
      "An example of Naive Prediction\n"
     ]
    },
    {
     "data": {
      "image/png": "[encoded data removed]",
      "text/plain": [
       "<Figure size 1000x500 with 1 Axes>"
      ]
     },
     "metadata": {},
     "output_type": "display_data"
    }
   ],
   "source": [
    "fig, ax = plt.subplots(figsize=(10, 5))\n",
    "font = {'fontname':'Times New Roman', 'size': 13, 'weight' : 'bold'}\n",
    "print(\"An example of Naive Prediction\")\n",
    "ax.plot(y_true, label=\"ETH valós értékei\")\n",
    "ax.plot(y_pred, label=\"ETH prediktált értékei\")\n",
    "ax.legend()\n",
    "ax.yaxis.set_major_formatter(\"${x:,.0f}\")\n",
    "ax.set_ylabel(\"ETH napi árfolyama ($)\", **font)\n",
    "ax.set_xlabel(\"dátum\", **font)\n",
    "plt.tight_layout()\n",
    "ax.set_title(\"Naív Előrejelzés - ETH árfolyamára - Validation Set - 14 napos predikció\", **font)\n",
    "plt.savefig(\"charts/forecast/naive_forecast_example.png\")\n",
    "plt.show()"
   ]
  },
  {
   "cell_type": "code",
   "execution_count": 37,
   "id": "34f508a4",
   "metadata": {},
   "outputs": [
    {
     "data": {
      "text/plain": [
       "date\n",
       "2023-02-22    1643.14\n",
       "2023-02-23    1650.53\n",
       "2023-02-24    1607.80\n",
       "2023-02-25    1594.58\n",
       "2023-02-26    1641.36\n",
       "2023-02-27    1633.45\n",
       "2023-02-28    1605.23\n",
       "2023-03-01    1665.22\n",
       "2023-03-02    1647.86\n",
       "2023-03-03    1569.45\n",
       "2023-03-04    1566.73\n",
       "2023-03-05    1564.58\n",
       "2023-03-06    1565.84\n",
       "2023-03-07    1561.96\n",
       "Name: eth_close, dtype: float64"
      ]
     },
     "execution_count": 37,
     "metadata": {},
     "output_type": "execute_result"
    }
   ],
   "source": [
    "y_true"
   ]
  },
  {
   "cell_type": "code",
   "execution_count": 38,
   "id": "49824b3d",
   "metadata": {},
   "outputs": [
    {
     "data": {
      "text/plain": [
       "date\n",
       "2023-02-22    1659.76\n",
       "2023-02-23    1643.14\n",
       "2023-02-24    1650.53\n",
       "2023-02-25    1607.80\n",
       "2023-02-26    1594.58\n",
       "2023-02-27    1641.36\n",
       "2023-02-28    1633.45\n",
       "2023-03-01    1605.23\n",
       "2023-03-02    1665.22\n",
       "2023-03-03    1647.86\n",
       "2023-03-04    1569.45\n",
       "2023-03-05    1566.73\n",
       "2023-03-06    1564.58\n",
       "2023-03-07    1565.84\n",
       "Name: prediction, dtype: float64"
      ]
     },
     "execution_count": 38,
     "metadata": {},
     "output_type": "execute_result"
    }
   ],
   "source": [
    "y_pred"
   ]
  },
  {
   "cell_type": "markdown",
   "id": "96652452",
   "metadata": {},
   "source": [
    "## Test on Real-World dataset"
   ]
  },
  {
   "cell_type": "code",
   "execution_count": 39,
   "id": "890dfa6f",
   "metadata": {},
   "outputs": [],
   "source": [
    "import yfinance as yf\n",
    "\n",
    "# Define the ticker symbol\n",
    "tickerSymbol = 'ETH-USD'\n",
    "\n",
    "# Get data for this ticker\n",
    "tickerData = yf.Ticker(tickerSymbol)\n",
    "\n",
    "# Get the historical prices for this ticker\n",
    "tickerDf = tickerData.history(period='1d', start='2023-03-07', end='2023-03-24')\n",
    "\n",
    "eth_current_price = pd.DataFrame(tickerDf)\n"
   ]
  },
  {
   "cell_type": "code",
   "execution_count": 40,
   "id": "1080af8d",
   "metadata": {},
   "outputs": [],
   "source": [
    "eth_current_price.index = pd.to_datetime(eth_current_price.index)"
   ]
  },
  {
   "cell_type": "markdown",
   "id": "40fde283",
   "metadata": {},
   "source": [
    "## 1 day real world prediction"
   ]
  },
  {
   "cell_type": "code",
   "execution_count": 41,
   "id": "f213dfd1",
   "metadata": {},
   "outputs": [],
   "source": [
    "eth_current_price = eth_current_price[pd.to_datetime(\"2023-03-08\"):pd.to_datetime(\"2023-03-08\") + pd.Timedelta(days=1)] ## 1 day"
   ]
  },
  {
   "cell_type": "code",
   "execution_count": 42,
   "id": "fda90722",
   "metadata": {},
   "outputs": [],
   "source": [
    "eth_current_price = eth_current_price[[\"Close\"]]"
   ]
  },
  {
   "cell_type": "code",
   "execution_count": 43,
   "id": "8900384e",
   "metadata": {},
   "outputs": [],
   "source": [
    "eth_current_price[\"prediction\"] = eth_current_price[\"Close\"].shift(1)"
   ]
  },
  {
   "cell_type": "code",
   "execution_count": 44,
   "id": "84ccd171",
   "metadata": {},
   "outputs": [],
   "source": [
    "y_true = eth_current_price[\"Close\"][1:]\n",
    "y_pred = eth_current_price[\"prediction\"][1:]"
   ]
  },
  {
   "cell_type": "code",
   "execution_count": 45,
   "id": "fec9e7f6",
   "metadata": {},
   "outputs": [
    {
     "name": "stdout",
     "output_type": "stream",
     "text": [
      "RMSE: 95.427490234375\n",
      "MSE: 9106.405892431736\n",
      "MAE: 95.427490234375\n",
      "MAPE: 6.633%\n"
     ]
    }
   ],
   "source": [
    "rmse = mean_squared_error(y_true, y_pred, squared=False)\n",
    "mse = mean_squared_error(y_true, y_pred, squared=True)\n",
    "mae = mean_absolute_error(y_true, y_pred)\n",
    "mape = mean_absolute_percentage_error(y_true, y_pred)\n",
    "\n",
    "\n",
    "print(f\"RMSE: {rmse}\")\n",
    "print(f\"MSE: {mse}\")\n",
    "print(f\"MAE: {mae}\")\n",
    "print(f\"MAPE: {str(round(mape*100, 3))}%\")\n",
    "\n"
   ]
  },
  {
   "cell_type": "code",
   "execution_count": null,
   "id": "89dbe737",
   "metadata": {},
   "outputs": [],
   "source": []
  },
  {
   "cell_type": "markdown",
   "id": "3421b98b",
   "metadata": {},
   "source": [
    "## 3 day real world prediction"
   ]
  },
  {
   "cell_type": "code",
   "execution_count": 46,
   "id": "c12e127c",
   "metadata": {},
   "outputs": [],
   "source": [
    "import yfinance as yf\n",
    "\n",
    "# Define the ticker symbol\n",
    "tickerSymbol = 'ETH-USD'\n",
    "\n",
    "# Get data for this ticker\n",
    "tickerData = yf.Ticker(tickerSymbol)\n",
    "\n",
    "# Get the historical prices for this ticker\n",
    "tickerDf = tickerData.history(period='1d', start='2023-03-07', end='2023-03-24')\n",
    "\n",
    "eth_current_price = pd.DataFrame(tickerDf)\n"
   ]
  },
  {
   "cell_type": "code",
   "execution_count": 47,
   "id": "7d4e0359",
   "metadata": {},
   "outputs": [],
   "source": [
    "eth_current_price.index = pd.to_datetime(eth_current_price.index)"
   ]
  },
  {
   "cell_type": "code",
   "execution_count": 48,
   "id": "013c771a",
   "metadata": {},
   "outputs": [],
   "source": [
    "eth_current_price = eth_current_price[pd.to_datetime(\"2023-03-08\"):pd.to_datetime(\"2023-03-08\") + pd.Timedelta(days=3)] ## 3 day"
   ]
  },
  {
   "cell_type": "code",
   "execution_count": 49,
   "id": "cfe1c9ce",
   "metadata": {},
   "outputs": [],
   "source": [
    "eth_current_price = eth_current_price[[\"Close\"]]"
   ]
  },
  {
   "cell_type": "code",
   "execution_count": 50,
   "id": "d38331cc",
   "metadata": {},
   "outputs": [],
   "source": [
    "eth_current_price[\"prediction\"] = eth_current_price[\"Close\"].shift(1)"
   ]
  },
  {
   "cell_type": "code",
   "execution_count": 51,
   "id": "5838e828",
   "metadata": {},
   "outputs": [],
   "source": [
    "y_true = eth_current_price[\"Close\"][1:]\n",
    "y_pred = eth_current_price[\"prediction\"][1:]"
   ]
  },
  {
   "cell_type": "code",
   "execution_count": 52,
   "id": "dbd30e06",
   "metadata": {
    "scrolled": true
   },
   "outputs": [
    {
     "name": "stdout",
     "output_type": "stream",
     "text": [
      "RMSE: 63.38909154590548\n",
      "MSE: 4018.1769270151854\n",
      "MAE: 52.7962646484375\n",
      "MAPE: 3.635%\n"
     ]
    }
   ],
   "source": [
    "rmse = mean_squared_error(y_true, y_pred, squared=False)\n",
    "mse = mean_squared_error(y_true, y_pred, squared=True)\n",
    "mae = mean_absolute_error(y_true, y_pred)\n",
    "mape = mean_absolute_percentage_error(y_true, y_pred)\n",
    "\n",
    "\n",
    "print(f\"RMSE: {rmse}\")\n",
    "print(f\"MSE: {mse}\")\n",
    "print(f\"MAE: {mae}\")\n",
    "print(f\"MAPE: {str(round(mape*100, 3))}%\")\n",
    "\n"
   ]
  },
  {
   "cell_type": "code",
   "execution_count": null,
   "id": "49c247e2",
   "metadata": {},
   "outputs": [],
   "source": []
  },
  {
   "cell_type": "markdown",
   "id": "43df4541",
   "metadata": {},
   "source": [
    "## 7 day real world prediction"
   ]
  },
  {
   "cell_type": "code",
   "execution_count": 53,
   "id": "40bd2cb8",
   "metadata": {},
   "outputs": [],
   "source": [
    "import yfinance as yf\n",
    "\n",
    "# Define the ticker symbol\n",
    "tickerSymbol = 'ETH-USD'\n",
    "\n",
    "# Get data for this ticker\n",
    "tickerData = yf.Ticker(tickerSymbol)\n",
    "\n",
    "# Get the historical prices for this ticker\n",
    "tickerDf = tickerData.history(period='1d', start='2023-03-07', end='2023-03-24')\n",
    "\n",
    "eth_current_price = pd.DataFrame(tickerDf)\n"
   ]
  },
  {
   "cell_type": "code",
   "execution_count": 54,
   "id": "d40eda8a",
   "metadata": {},
   "outputs": [],
   "source": [
    "eth_current_price.index = pd.to_datetime(eth_current_price.index)"
   ]
  },
  {
   "cell_type": "code",
   "execution_count": 55,
   "id": "b9c55ab4",
   "metadata": {},
   "outputs": [],
   "source": [
    "eth_current_price = eth_current_price[pd.to_datetime(\"2023-03-08\"):pd.to_datetime(\"2023-03-08\") + pd.Timedelta(days=7)] ## 7 day"
   ]
  },
  {
   "cell_type": "code",
   "execution_count": 56,
   "id": "cb728fe4",
   "metadata": {},
   "outputs": [],
   "source": [
    "eth_current_price = eth_current_price[[\"Close\"]]"
   ]
  },
  {
   "cell_type": "code",
   "execution_count": 57,
   "id": "521f6283",
   "metadata": {},
   "outputs": [],
   "source": [
    "eth_current_price[\"prediction\"] = eth_current_price[\"Close\"].shift(1)"
   ]
  },
  {
   "cell_type": "code",
   "execution_count": 58,
   "id": "fa9d17f6",
   "metadata": {},
   "outputs": [],
   "source": [
    "y_true = eth_current_price[\"Close\"][1:]\n",
    "y_pred = eth_current_price[\"prediction\"][1:]"
   ]
  },
  {
   "cell_type": "code",
   "execution_count": 59,
   "id": "29f7bc00",
   "metadata": {},
   "outputs": [
    {
     "name": "stdout",
     "output_type": "stream",
     "text": [
      "RMSE: 70.2338364313615\n",
      "MSE: 4932.791779867241\n",
      "MAE: 60.943673270089285\n",
      "MAPE: 3.893%\n"
     ]
    }
   ],
   "source": [
    "rmse = mean_squared_error(y_true, y_pred, squared=False)\n",
    "mse = mean_squared_error(y_true, y_pred, squared=True)\n",
    "mae = mean_absolute_error(y_true, y_pred)\n",
    "mape = mean_absolute_percentage_error(y_true, y_pred)\n",
    "\n",
    "\n",
    "print(f\"RMSE: {rmse}\")\n",
    "print(f\"MSE: {mse}\")\n",
    "print(f\"MAE: {mae}\")\n",
    "print(f\"MAPE: {str(round(mape*100, 3))}%\")\n",
    "\n"
   ]
  },
  {
   "cell_type": "code",
   "execution_count": null,
   "id": "f980fa70",
   "metadata": {},
   "outputs": [],
   "source": []
  },
  {
   "cell_type": "markdown",
   "id": "d3f34623",
   "metadata": {},
   "source": [
    "## 14 day real world prediction\n"
   ]
  },
  {
   "cell_type": "code",
   "execution_count": 60,
   "id": "66880d19",
   "metadata": {},
   "outputs": [],
   "source": [
    "import yfinance as yf\n",
    "\n",
    "# Define the ticker symbol\n",
    "tickerSymbol = 'ETH-USD'\n",
    "\n",
    "# Get data for this ticker\n",
    "tickerData = yf.Ticker(tickerSymbol)\n",
    "\n",
    "# Get the historical prices for this ticker\n",
    "tickerDf = tickerData.history(period='1d', start='2023-03-07', end='2023-03-24')\n",
    "\n",
    "eth_current_price = pd.DataFrame(tickerDf)\n"
   ]
  },
  {
   "cell_type": "code",
   "execution_count": 61,
   "id": "a81c791e",
   "metadata": {},
   "outputs": [],
   "source": [
    "eth_current_price.index = pd.to_datetime(eth_current_price.index)"
   ]
  },
  {
   "cell_type": "code",
   "execution_count": 62,
   "id": "9feb8867",
   "metadata": {},
   "outputs": [],
   "source": [
    "eth_current_price = eth_current_price[pd.to_datetime(\"2023-03-08\"):pd.to_datetime(\"2023-03-08\") + pd.Timedelta(days=14)] ## 14 day"
   ]
  },
  {
   "cell_type": "code",
   "execution_count": 63,
   "id": "bdaf01be",
   "metadata": {},
   "outputs": [],
   "source": [
    "eth_current_price = eth_current_price[[\"Close\"]]"
   ]
  },
  {
   "cell_type": "code",
   "execution_count": 64,
   "id": "03145d1e",
   "metadata": {},
   "outputs": [],
   "source": [
    "eth_current_price[\"prediction\"] = eth_current_price[\"Close\"].shift(1)"
   ]
  },
  {
   "cell_type": "code",
   "execution_count": 65,
   "id": "641bb33c",
   "metadata": {},
   "outputs": [],
   "source": [
    "y_true = eth_current_price[\"Close\"][1:]\n",
    "y_pred = eth_current_price[\"prediction\"][1:]"
   ]
  },
  {
   "cell_type": "code",
   "execution_count": 66,
   "id": "887f0c79",
   "metadata": {},
   "outputs": [
    {
     "name": "stdout",
     "output_type": "stream",
     "text": [
      "RMSE: 66.64272843491817\n",
      "MSE: 4441.25325325025\n",
      "MAE: 57.742213657924104\n",
      "MAPE: 3.489%\n"
     ]
    }
   ],
   "source": [
    "rmse = mean_squared_error(y_true, y_pred, squared=False)\n",
    "mse = mean_squared_error(y_true, y_pred, squared=True)\n",
    "mae = mean_absolute_error(y_true, y_pred)\n",
    "mape = mean_absolute_percentage_error(y_true, y_pred)\n",
    "\n",
    "\n",
    "print(f\"RMSE: {rmse}\")\n",
    "print(f\"MSE: {mse}\")\n",
    "print(f\"MAE: {mae}\")\n",
    "print(f\"MAPE: {str(round(mape*100, 3))}%\")\n",
    "\n"
   ]
  },
  {
   "cell_type": "code",
   "execution_count": 67,
   "id": "baea6b18",
   "metadata": {},
   "outputs": [
    {
     "name": "stdout",
     "output_type": "stream",
     "text": [
      "An example of Naive Prediction\n"
     ]
    },
    {
     "data": {
      "image/png": "[encoded data removed]",
      "text/plain": [
       "<Figure size 1000x500 with 1 Axes>"
      ]
     },
     "metadata": {},
     "output_type": "display_data"
    }
   ],
   "source": [
    "fig, ax = plt.subplots(figsize=(10, 5))\n",
    "font = {'fontname':'Times New Roman', 'size': 13, 'weight' : 'bold'}\n",
    "print(\"An example of Naive Prediction\")\n",
    "ax.plot(y_true, label=\"ETH valós értékei\")\n",
    "ax.plot(y_pred, label=\"ETH prediktált értékei\")\n",
    "ax.legend()\n",
    "ax.yaxis.set_major_formatter(\"${x:,.0f}\")\n",
    "ax.set_ylabel(\"ETH napi árfolyama ($)\", **font)\n",
    "ax.set_xlabel(\"dátum\", **font)\n",
    "plt.tight_layout()\n",
    "ax.set_title(\"Naív Előrejelzés - ETH árfolyamára - Test Set - 14 napos\", **font)\n",
    "plt.savefig(\"charts/forecast/naive_forecast_realword_example.png\")\n",
    "plt.show()"
   ]
  },
  {
   "cell_type": "code",
   "execution_count": null,
   "id": "cd0f847a",
   "metadata": {},
   "outputs": [],
   "source": []
  }
 ],
 "metadata": {
  "kernelspec": {
   "display_name": "Python 3 (ipykernel)",
   "language": "python",
   "name": "python3"
  },
  "language_info": {
   "codemirror_mode": {
    "name": "ipython",
    "version": 3
   },
   "file_extension": ".py",
   "mimetype": "text/x-python",
   "name": "python",
   "nbconvert_exporter": "python",
   "pygments_lexer": "ipython3",
   "version": "3.10.7"
  }
 },
 "nbformat": 4,
 "nbformat_minor": 5
}
