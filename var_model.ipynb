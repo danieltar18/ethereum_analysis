{
 "cells": [
  {
   "cell_type": "code",
   "execution_count": 1,
   "id": "605ba64d",
   "metadata": {},
   "outputs": [],
   "source": [
    "import pandas as pd\n",
    "import numpy as np\n",
    "import matplotlib.pyplot as plt\n",
    "\n",
    "from datetime import datetime\n",
    "\n",
    "from statsmodels.graphics.tsaplots import plot_acf, plot_pacf\n",
    "from statsmodels.tsa.statespace.varmax import VARMAX\n",
    "from statsmodels.tsa.api import VAR\n",
    "from statsmodels.tsa.stattools import adfuller, grangercausalitytests\n",
    "from statsmodels.tsa.arima.model import ARIMA\n",
    "\n",
    "from sklearn.metrics import mean_absolute_percentage_error, mean_absolute_error, mean_squared_error\n",
    "from sklearn.preprocessing import StandardScaler\n",
    "from sklearn.model_selection import TimeSeriesSplit"
   ]
  },
  {
   "cell_type": "code",
   "execution_count": 2,
   "id": "c455bfe2",
   "metadata": {},
   "outputs": [],
   "source": [
    "import warnings\n",
    "warnings.filterwarnings('ignore')"
   ]
  },
  {
   "cell_type": "code",
   "execution_count": 3,
   "id": "50b9f9af",
   "metadata": {},
   "outputs": [],
   "source": [
    "def gridsearch_timeseriessplit(dataframe, original_df, columns=[], test_size=1, maxlags=14):\n",
    "    \n",
    "    tss = TimeSeriesSplit(n_splits=10, test_size=test_size, gap=0)\n",
    "    \n",
    "    root_mean_squared_errors = []\n",
    "    mean_squared_errors = []\n",
    "    mean_absolute_errors = []\n",
    "    mean_absolute_percentage_errors = []\n",
    "\n",
    "    df_log = np.log(original_df[1:])\n",
    "    cols = columns\n",
    "    \n",
    "    for train_idx, val_idx in tss.split(dataframe):\n",
    "        scaler = StandardScaler()\n",
    "        train = dataframe.iloc[train_idx]\n",
    "        test = dataframe.iloc[val_idx]\n",
    "\n",
    "        ## Original LOG values\n",
    "\n",
    "        original_logs = pd.DataFrame()\n",
    "        original_logs = pd.concat([df_log.iloc[train_idx].iloc[-1:], df_log.iloc[val_idx]])\n",
    "        original_logs = original_logs[[\"eth_close\"]]    \n",
    "\n",
    "        ##SCALING\n",
    "        scaler.fit(train[cols])\n",
    "        train[cols] = scaler.transform(train[cols])\n",
    "        test[cols]= scaler.transform(test[cols])\n",
    "        \n",
    "        train = pd.DataFrame(train, columns=cols)\n",
    "        test = pd.DataFrame(test, columns=cols)\n",
    "\n",
    "        #Model Fit\n",
    "        model = VAR(train)\n",
    "        results = model.fit(maxlags=maxlags)\n",
    "        lag_order = results.k_ar\n",
    "\n",
    "        prior = train.iloc[-lag_order:][cols].to_numpy()\n",
    "        fcast = results.forecast(prior, len(test))\n",
    "\n",
    "        prediction = pd.DataFrame(fcast[:,-1]) ##last column contains eth_close\n",
    "        prediction.index = test.index\n",
    "        prediction.columns = [\"scaled_prediction\"]\n",
    "        backscaled_fcast = scaler.inverse_transform(pd.DataFrame(fcast))\n",
    "        prediction[\"unscaled_predictions\"] = backscaled_fcast[:, -1]\n",
    "\n",
    "        evaluation_df = pd.merge(original_logs[[\"eth_close\"]], prediction, how=\"left\", left_index=True, right_index=True)    \n",
    "        \n",
    "        ##UN-DIFFERENCING\n",
    "        x, x_diff = evaluation_df['eth_close'].iloc[0], evaluation_df['unscaled_predictions'].iloc[1:]\n",
    "        evaluation_df[\"log_prediction\"] = np.r_[x, x_diff].cumsum().astype('float64') ## credit to: https://stackoverflow.com/questions/49903037/pandas-reverse-of-diff\n",
    "        \n",
    "        ##EXP\n",
    "        evaluation_df[\"true_values\"] = np.exp(evaluation_df.eth_close)\n",
    "        evaluation_df[\"predicted_values\"] = np.exp(evaluation_df.log_prediction)\n",
    "        evaluation_df = evaluation_df[1:]\n",
    "        \n",
    "    try:\n",
    "        rmse = mean_squared_error(evaluation_df['true_values'], evaluation_df[\"predicted_values\"], squared=False)\n",
    "        root_mean_squared_errors.append(rmse)\n",
    "        mse = mean_squared_error(evaluation_df['true_values'], evaluation_df[\"predicted_values\"], squared=True)\n",
    "        mean_squared_errors.append(mse)        \n",
    "        mae = mean_absolute_error(evaluation_df['true_values'], evaluation_df[\"predicted_values\"])\n",
    "        mean_absolute_errors.append(mae)\n",
    "        mape = mean_absolute_percentage_error(evaluation_df['true_values'], evaluation_df[\"predicted_values\"])\n",
    "        mean_absolute_percentage_errors.append(mape)\n",
    "    except:\n",
    "        rmse = np.nan\n",
    "        results = np.nan\n",
    "        mse = np.nan\n",
    "        mae = np.nan\n",
    "        mape = np.nan\n",
    "\n",
    "    #print(\"Tesztelve 5 különböző tanulási/tesztelési adatszetten\")\n",
    "    #print(f\"RMSE: {round(np.mean(root_mean_squared_errors), 4)}\")\n",
    "    #print(f\"MSE: {round(np.mean(mean_squared_errors), 4)}\")\n",
    "    #print(f\"MAE: {round(np.mean(mean_absolute_errors), 4)}\")\n",
    "    #print(f\"MAPE: {str(round(np.mean(mean_absolute_percentage_errors)*100, 4))}%\")\n",
    "    return results, evaluation_df, rmse, mse, mae, mape"
   ]
  },
  {
   "cell_type": "code",
   "execution_count": 4,
   "id": "944f26ec",
   "metadata": {},
   "outputs": [],
   "source": [
    "## Check for stationarity\n",
    "\n",
    "def is_stationary(timeseries):\n",
    "    \"\"\"\n",
    "    Determines if a time series is stationary using the Augmented Dickey-Fuller (ADF) test.\n",
    "\n",
    "    Parameters:\n",
    "    timeseries (pandas.Series): The time series to test for stationarity.\n",
    "    significance_level (float): The significance level used to determine the critical value for the test.\n",
    "\n",
    "    Returns:\n",
    "    bool: True if the time series is stationary, False otherwise.\n",
    "    \"\"\"\n",
    "\n",
    "    # Perform ADF test\n",
    "    adf_result = adfuller(timeseries)\n",
    "\n",
    "    # Get test statistic and critical values\n",
    "    test_statistic = adf_result[0]\n",
    "    critical_values = adf_result[4]\n",
    "    #print(\"Result of Dickey-Fuller test:\")\n",
    "    df_output = pd.Series(adf_result[0:4], index=[\"Test Statistic\", \"p-value\", \"#Lags Used\", \"Number of Observations Used\"])\n",
    "    \n",
    "    for key, value in adf_result[4].items():\n",
    "        df_output[\"Critical Value (%s)\"%key] = value\n",
    "    #print(df_output)\n",
    "        \n",
    "        \n",
    "    # Compare test statistic to critical values to determine stationarity\n",
    "    if test_statistic < critical_values['5%']:  ## 5% significance level\n",
    "        print(True)\n",
    "        return True\n",
    "    else:\n",
    "        print(False)\n",
    "        return False\n",
    "    \n"
   ]
  },
  {
   "cell_type": "code",
   "execution_count": 5,
   "id": "b82114f9",
   "metadata": {},
   "outputs": [],
   "source": [
    "df = pd.read_csv('training_dataset.csv', index_col=\"date\")"
   ]
  },
  {
   "cell_type": "code",
   "execution_count": 6,
   "id": "f15ce0ab",
   "metadata": {},
   "outputs": [
    {
     "data": {
      "text/html": [
       "<div>\n",
       "<style scoped>\n",
       "    .dataframe tbody tr th:only-of-type {\n",
       "        vertical-align: middle;\n",
       "    }\n",
       "\n",
       "    .dataframe tbody tr th {\n",
       "        vertical-align: top;\n",
       "    }\n",
       "\n",
       "    .dataframe thead th {\n",
       "        text-align: right;\n",
       "    }\n",
       "</style>\n",
       "<table border=\"1\" class=\"dataframe\">\n",
       "  <thead>\n",
       "    <tr style=\"text-align: right;\">\n",
       "      <th></th>\n",
       "      <th>eth_low</th>\n",
       "      <th>eth_high</th>\n",
       "      <th>eth_open</th>\n",
       "      <th>eth_close</th>\n",
       "      <th>eth_volume</th>\n",
       "      <th>month</th>\n",
       "      <th>eth_qav</th>\n",
       "      <th>eth_num_trades</th>\n",
       "      <th>eth_taker_base_vol</th>\n",
       "      <th>eth_taker_quote_vol</th>\n",
       "      <th>...</th>\n",
       "      <th>stochastic_oscillator</th>\n",
       "      <th>ma_12</th>\n",
       "      <th>ma_26</th>\n",
       "      <th>ema_12</th>\n",
       "      <th>ema_26</th>\n",
       "      <th>obv</th>\n",
       "      <th>mfi</th>\n",
       "      <th>upper_band</th>\n",
       "      <th>middle_band</th>\n",
       "      <th>lower_band</th>\n",
       "    </tr>\n",
       "    <tr>\n",
       "      <th>date</th>\n",
       "      <th></th>\n",
       "      <th></th>\n",
       "      <th></th>\n",
       "      <th></th>\n",
       "      <th></th>\n",
       "      <th></th>\n",
       "      <th></th>\n",
       "      <th></th>\n",
       "      <th></th>\n",
       "      <th></th>\n",
       "      <th></th>\n",
       "      <th></th>\n",
       "      <th></th>\n",
       "      <th></th>\n",
       "      <th></th>\n",
       "      <th></th>\n",
       "      <th></th>\n",
       "      <th></th>\n",
       "      <th></th>\n",
       "      <th></th>\n",
       "      <th></th>\n",
       "    </tr>\n",
       "  </thead>\n",
       "  <tbody>\n",
       "    <tr>\n",
       "      <th>2017-09-01</th>\n",
       "      <td>383.18</td>\n",
       "      <td>394.39</td>\n",
       "      <td>386.44</td>\n",
       "      <td>388.46</td>\n",
       "      <td>4198.68434</td>\n",
       "      <td>2017-09-01</td>\n",
       "      <td>1.635228e+06</td>\n",
       "      <td>4124.0</td>\n",
       "      <td>1564.05531</td>\n",
       "      <td>6.096309e+05</td>\n",
       "      <td>...</td>\n",
       "      <td>96.424850</td>\n",
       "      <td>346.524167</td>\n",
       "      <td>338.660000</td>\n",
       "      <td>346.524167</td>\n",
       "      <td>338.660000</td>\n",
       "      <td>1.378006e+06</td>\n",
       "      <td>88.346876</td>\n",
       "      <td>411.653941</td>\n",
       "      <td>341.8790</td>\n",
       "      <td>272.104059</td>\n",
       "    </tr>\n",
       "    <tr>\n",
       "      <th>2017-09-02</th>\n",
       "      <td>320.08</td>\n",
       "      <td>394.32</td>\n",
       "      <td>388.58</td>\n",
       "      <td>343.14</td>\n",
       "      <td>8240.32724</td>\n",
       "      <td>2017-09-01</td>\n",
       "      <td>2.904008e+06</td>\n",
       "      <td>8217.0</td>\n",
       "      <td>2460.66776</td>\n",
       "      <td>8.684873e+05</td>\n",
       "      <td>...</td>\n",
       "      <td>97.629707</td>\n",
       "      <td>348.178333</td>\n",
       "      <td>339.773462</td>\n",
       "      <td>348.178333</td>\n",
       "      <td>339.773462</td>\n",
       "      <td>1.369766e+06</td>\n",
       "      <td>80.426793</td>\n",
       "      <td>411.386517</td>\n",
       "      <td>341.6590</td>\n",
       "      <td>271.931483</td>\n",
       "    </tr>\n",
       "    <tr>\n",
       "      <th>2017-09-03</th>\n",
       "      <td>320.08</td>\n",
       "      <td>367.28</td>\n",
       "      <td>343.56</td>\n",
       "      <td>341.77</td>\n",
       "      <td>5253.62211</td>\n",
       "      <td>2017-09-01</td>\n",
       "      <td>1.801703e+06</td>\n",
       "      <td>6153.0</td>\n",
       "      <td>2240.91753</td>\n",
       "      <td>7.679383e+05</td>\n",
       "      <td>...</td>\n",
       "      <td>79.514749</td>\n",
       "      <td>350.842500</td>\n",
       "      <td>340.706923</td>\n",
       "      <td>350.842500</td>\n",
       "      <td>340.706923</td>\n",
       "      <td>1.364512e+06</td>\n",
       "      <td>74.419284</td>\n",
       "      <td>408.329187</td>\n",
       "      <td>340.1235</td>\n",
       "      <td>271.917813</td>\n",
       "    </tr>\n",
       "    <tr>\n",
       "      <th>2017-09-04</th>\n",
       "      <td>267.94</td>\n",
       "      <td>344.55</td>\n",
       "      <td>339.29</td>\n",
       "      <td>283.77</td>\n",
       "      <td>6737.81061</td>\n",
       "      <td>2017-09-01</td>\n",
       "      <td>2.002446e+06</td>\n",
       "      <td>7403.0</td>\n",
       "      <td>2954.16805</td>\n",
       "      <td>8.770111e+05</td>\n",
       "      <td>...</td>\n",
       "      <td>78.967144</td>\n",
       "      <td>348.178333</td>\n",
       "      <td>339.138077</td>\n",
       "      <td>348.178333</td>\n",
       "      <td>339.138077</td>\n",
       "      <td>1.357774e+06</td>\n",
       "      <td>67.246410</td>\n",
       "      <td>404.443029</td>\n",
       "      <td>335.1070</td>\n",
       "      <td>265.770971</td>\n",
       "    </tr>\n",
       "    <tr>\n",
       "      <th>2017-09-05</th>\n",
       "      <td>235.55</td>\n",
       "      <td>321.52</td>\n",
       "      <td>286.81</td>\n",
       "      <td>312.09</td>\n",
       "      <td>8344.41924</td>\n",
       "      <td>2017-09-01</td>\n",
       "      <td>2.397491e+06</td>\n",
       "      <td>8999.0</td>\n",
       "      <td>4312.97282</td>\n",
       "      <td>1.251959e+06</td>\n",
       "      <td>...</td>\n",
       "      <td>55.783836</td>\n",
       "      <td>347.234167</td>\n",
       "      <td>338.443846</td>\n",
       "      <td>347.234167</td>\n",
       "      <td>338.443846</td>\n",
       "      <td>1.366118e+06</td>\n",
       "      <td>66.412993</td>\n",
       "      <td>396.369992</td>\n",
       "      <td>331.2515</td>\n",
       "      <td>266.133008</td>\n",
       "    </tr>\n",
       "  </tbody>\n",
       "</table>\n",
       "<p>5 rows × 46 columns</p>\n",
       "</div>"
      ],
      "text/plain": [
       "            eth_low  eth_high  eth_open  eth_close  eth_volume       month  \\\n",
       "date                                                                         \n",
       "2017-09-01   383.18    394.39    386.44     388.46  4198.68434  2017-09-01   \n",
       "2017-09-02   320.08    394.32    388.58     343.14  8240.32724  2017-09-01   \n",
       "2017-09-03   320.08    367.28    343.56     341.77  5253.62211  2017-09-01   \n",
       "2017-09-04   267.94    344.55    339.29     283.77  6737.81061  2017-09-01   \n",
       "2017-09-05   235.55    321.52    286.81     312.09  8344.41924  2017-09-01   \n",
       "\n",
       "                 eth_qav  eth_num_trades  eth_taker_base_vol  \\\n",
       "date                                                           \n",
       "2017-09-01  1.635228e+06          4124.0          1564.05531   \n",
       "2017-09-02  2.904008e+06          8217.0          2460.66776   \n",
       "2017-09-03  1.801703e+06          6153.0          2240.91753   \n",
       "2017-09-04  2.002446e+06          7403.0          2954.16805   \n",
       "2017-09-05  2.397491e+06          8999.0          4312.97282   \n",
       "\n",
       "            eth_taker_quote_vol  ...  stochastic_oscillator       ma_12  \\\n",
       "date                             ...                                      \n",
       "2017-09-01         6.096309e+05  ...              96.424850  346.524167   \n",
       "2017-09-02         8.684873e+05  ...              97.629707  348.178333   \n",
       "2017-09-03         7.679383e+05  ...              79.514749  350.842500   \n",
       "2017-09-04         8.770111e+05  ...              78.967144  348.178333   \n",
       "2017-09-05         1.251959e+06  ...              55.783836  347.234167   \n",
       "\n",
       "                 ma_26      ema_12      ema_26           obv        mfi  \\\n",
       "date                                                                      \n",
       "2017-09-01  338.660000  346.524167  338.660000  1.378006e+06  88.346876   \n",
       "2017-09-02  339.773462  348.178333  339.773462  1.369766e+06  80.426793   \n",
       "2017-09-03  340.706923  350.842500  340.706923  1.364512e+06  74.419284   \n",
       "2017-09-04  339.138077  348.178333  339.138077  1.357774e+06  67.246410   \n",
       "2017-09-05  338.443846  347.234167  338.443846  1.366118e+06  66.412993   \n",
       "\n",
       "            upper_band  middle_band  lower_band  \n",
       "date                                             \n",
       "2017-09-01  411.653941     341.8790  272.104059  \n",
       "2017-09-02  411.386517     341.6590  271.931483  \n",
       "2017-09-03  408.329187     340.1235  271.917813  \n",
       "2017-09-04  404.443029     335.1070  265.770971  \n",
       "2017-09-05  396.369992     331.2515  266.133008  \n",
       "\n",
       "[5 rows x 46 columns]"
      ]
     },
     "execution_count": 6,
     "metadata": {},
     "output_type": "execute_result"
    }
   ],
   "source": [
    "df.head()"
   ]
  },
  {
   "cell_type": "code",
   "execution_count": 7,
   "id": "2de197f9",
   "metadata": {},
   "outputs": [],
   "source": [
    "df.index.freq = 'D'"
   ]
  },
  {
   "cell_type": "code",
   "execution_count": 8,
   "id": "41582493",
   "metadata": {},
   "outputs": [],
   "source": [
    "df.drop(\"month\", axis=1, inplace=True)"
   ]
  },
  {
   "cell_type": "code",
   "execution_count": 9,
   "id": "6d1dda6d",
   "metadata": {},
   "outputs": [],
   "source": [
    "df.index = pd.to_datetime(df.index)"
   ]
  },
  {
   "cell_type": "code",
   "execution_count": 10,
   "id": "3427d368",
   "metadata": {},
   "outputs": [
    {
     "name": "stdout",
     "output_type": "stream",
     "text": [
      "Index(['us_treasury_10yt2y_diff', 'us_treasury_10yt3m_diff', 'news_sentiment',\n",
      "       'reddit_sentiment', 'twitter_sentiment', 'macd', 'signal', 'hist',\n",
      "       'obv'],\n",
      "      dtype='object')\n"
     ]
    }
   ],
   "source": [
    "# Find columns that contain negative values\n",
    "cols_with_negatives = df.columns[df.lt(0).any()]\n",
    "\n",
    "# Print the column names\n",
    "print(cols_with_negatives)"
   ]
  },
  {
   "cell_type": "code",
   "execution_count": 11,
   "id": "a46118c0",
   "metadata": {},
   "outputs": [],
   "source": [
    "df_stationary = np.log(df.drop(columns=cols_with_negatives)).diff()"
   ]
  },
  {
   "cell_type": "code",
   "execution_count": 12,
   "id": "3db13f96",
   "metadata": {},
   "outputs": [],
   "source": [
    "df_stationary[cols_with_negatives] = df[cols_with_negatives].diff()"
   ]
  },
  {
   "cell_type": "code",
   "execution_count": 13,
   "id": "889f607a",
   "metadata": {},
   "outputs": [],
   "source": [
    "df_stationary.dropna(inplace=True)"
   ]
  },
  {
   "cell_type": "code",
   "execution_count": 14,
   "id": "9344e855",
   "metadata": {},
   "outputs": [
    {
     "name": "stdout",
     "output_type": "stream",
     "text": [
      "eth_low\n",
      "True\n",
      "eth_high\n",
      "True\n",
      "eth_open\n",
      "True\n",
      "eth_close\n",
      "True\n",
      "eth_volume\n",
      "True\n",
      "eth_qav\n",
      "True\n",
      "eth_num_trades\n",
      "True\n",
      "eth_taker_base_vol\n",
      "True\n",
      "eth_taker_quote_vol\n",
      "True\n",
      "btc_close\n",
      "True\n",
      "btc_volume\n",
      "True\n",
      "btc_num_trades\n",
      "True\n",
      "btc_qav\n",
      "True\n",
      "fed_eff_funds_rate_close\n",
      "True\n",
      "nasdaq_close\n",
      "True\n",
      "real_estate_index_close\n",
      "True\n",
      "sp500_close\n",
      "True\n",
      "silver_value\n",
      "True\n",
      "us_breake_inf_rate_5y\n",
      "True\n",
      "us_breake_inf_rate_10y\n",
      "True\n",
      "us_treasury_total_vol\n",
      "True\n",
      "gold_value\n",
      "True\n",
      "ethereum_search_trend\n",
      "True\n",
      "unique_whales\n",
      "True\n",
      "whales_tx_number\n",
      "True\n",
      "whales_tx_total_value\n",
      "True\n",
      "rsi\n",
      "True\n",
      "stochastic_oscillator\n",
      "True\n",
      "ma_12\n",
      "True\n",
      "ma_26\n",
      "True\n",
      "ema_12\n",
      "True\n",
      "ema_26\n",
      "True\n",
      "mfi\n",
      "True\n",
      "upper_band\n",
      "True\n",
      "middle_band\n",
      "True\n",
      "lower_band\n",
      "True\n",
      "us_treasury_10yt2y_diff\n",
      "True\n",
      "us_treasury_10yt3m_diff\n",
      "True\n",
      "news_sentiment\n",
      "True\n",
      "reddit_sentiment\n",
      "True\n",
      "twitter_sentiment\n",
      "True\n",
      "macd\n",
      "True\n",
      "signal\n",
      "True\n",
      "hist\n",
      "True\n",
      "obv\n",
      "True\n"
     ]
    }
   ],
   "source": [
    "for col in df_stationary:\n",
    "    df_stationary[col]\n",
    "    print(col)\n",
    "    is_stationary(df_stationary[col])"
   ]
  },
  {
   "cell_type": "code",
   "execution_count": 15,
   "id": "4353c497",
   "metadata": {},
   "outputs": [],
   "source": [
    "df_stationary = df_stationary[[col for col in df_stationary if \"eth_close\" != col] + [\"eth_close\"]]"
   ]
  },
  {
   "cell_type": "code",
   "execution_count": 16,
   "id": "e7eb58c4",
   "metadata": {},
   "outputs": [],
   "source": [
    "df_stationary.index.freq = \"D\""
   ]
  },
  {
   "cell_type": "markdown",
   "id": "9ded21a1",
   "metadata": {},
   "source": [
    "## VAR"
   ]
  },
  {
   "cell_type": "markdown",
   "id": "af80b2dc",
   "metadata": {},
   "source": [
    "## 1 DAY "
   ]
  },
  {
   "cell_type": "code",
   "execution_count": 17,
   "id": "7d523d20",
   "metadata": {},
   "outputs": [
    {
     "data": {
      "text/plain": [
       "'import itertools\\n\\n# Get a list of all column names except \"eth_close\"\\ncols = list(df.columns)\\ncols.remove(\"eth_close\")\\n# Generate all combinations of the remaining columns\\ncombinations = []\\nfor r in range(1, 7):\\n    for combination in itertools.combinations(cols, r):\\n        combinations.append(combination + (\"eth_close\",))'"
      ]
     },
     "execution_count": 17,
     "metadata": {},
     "output_type": "execute_result"
    }
   ],
   "source": [
    "\"\"\"import itertools\n",
    "\n",
    "# Get a list of all column names except \"eth_close\"\n",
    "cols = list(df.columns)\n",
    "cols.remove(\"eth_close\")\n",
    "# Generate all combinations of the remaining columns\n",
    "combinations = []\n",
    "for r in range(1, 7):\n",
    "    for combination in itertools.combinations(cols, r):\n",
    "        combinations.append(combination + (\"eth_close\",))\"\"\""
   ]
  },
  {
   "cell_type": "code",
   "execution_count": 18,
   "id": "567484f7",
   "metadata": {},
   "outputs": [],
   "source": [
    "#print(len(combinations))"
   ]
  },
  {
   "cell_type": "code",
   "execution_count": 19,
   "id": "2c272d83",
   "metadata": {},
   "outputs": [
    {
     "data": {
      "text/plain": [
       "'%%time\\nbest_rmse = float(\\'inf\\')\\nbest_options = None\\ni = 0\\n\\nfor c in combinations:\\n    model, evaluation_df, rmse, mse, mae, mape = gridsearch_timeseriessplit(df_stationary, df, columns=list(c), test_size=1, maxlags=14)\\n    i += 1\\n    print(f\"Index: {i}\", end=\"\\r\", flush=True)\\n    if rmse < best_rmse: ## ha kisebb, akkor jobb az rmse\\n        print(f\"Best RMSE so far: {rmse}, Best options for it: {list(c)}\" )\\n        best_rmse = rmse\\n        best_mse = mse\\n        best_mae = mae\\n        best_mape = mape\\n        best_options = list(c)\\n        \\nprint(best_rmse)\\nprint(best_mse)\\nprint(best_mae)\\nprint(best_mape)\\nprint(best_options)'"
      ]
     },
     "execution_count": 19,
     "metadata": {},
     "output_type": "execute_result"
    }
   ],
   "source": [
    "\"\"\"%%time\n",
    "best_rmse = float('inf')\n",
    "best_options = None\n",
    "i = 0\n",
    "\n",
    "for c in combinations:\n",
    "    model, evaluation_df, rmse, mse, mae, mape = gridsearch_timeseriessplit(df_stationary, df, columns=list(c), test_size=1, maxlags=14)\n",
    "    i += 1\n",
    "    print(f\"Index: {i}\", end=\"\\r\", flush=True)\n",
    "    if rmse < best_rmse: ## ha kisebb, akkor jobb az rmse\n",
    "        print(f\"Best RMSE so far: {rmse}, Best options for it: {list(c)}\" )\n",
    "        best_rmse = rmse\n",
    "        best_mse = mse\n",
    "        best_mae = mae\n",
    "        best_mape = mape\n",
    "        best_options = list(c)\n",
    "        \n",
    "print(best_rmse)\n",
    "print(best_mse)\n",
    "print(best_mae)\n",
    "print(best_mape)\n",
    "print(best_options)\"\"\"\n"
   ]
  },
  {
   "cell_type": "code",
   "execution_count": 20,
   "id": "db111562",
   "metadata": {},
   "outputs": [],
   "source": [
    "#evaluation_df"
   ]
  },
  {
   "cell_type": "code",
   "execution_count": 21,
   "id": "d0c39056",
   "metadata": {},
   "outputs": [],
   "source": [
    "#model.summary()"
   ]
  },
  {
   "cell_type": "markdown",
   "id": "20ff1b71",
   "metadata": {},
   "source": [
    "# TOO MUCH TIME - I WILL DEVELOP IT IN THE FUTURE"
   ]
  },
  {
   "cell_type": "markdown",
   "id": "5abd1e77",
   "metadata": {},
   "source": [
    "### USING INTUITION FOR CHOOSING FEATURES"
   ]
  },
  {
   "cell_type": "markdown",
   "id": "7abe48d2",
   "metadata": {},
   "source": [
    "## 1 DAY"
   ]
  },
  {
   "cell_type": "code",
   "execution_count": 22,
   "id": "653c5579",
   "metadata": {},
   "outputs": [],
   "source": [
    "columns = ['eth_taker_base_vol', 'eth_taker_quote_vol', 'sp500_close', 'us_breake_inf_rate_5y',\n",
    "       'unique_whales', 'rsi', 'ma_12', 'ma_26',\n",
    "       'upper_band', 'middle_band', 'lower_band',\n",
    "       'macd', 'signal', 'hist', 'obv',\n",
    "       'eth_close']\n",
    "test_size = 1\n",
    "original_df = df\n",
    "dataframe = df_stationary\n",
    "maxlags = 14"
   ]
  },
  {
   "cell_type": "code",
   "execution_count": 23,
   "id": "0d897471",
   "metadata": {},
   "outputs": [
    {
     "name": "stdout",
     "output_type": "stream",
     "text": [
      "Tesztelve 5 különböző tanulási/tesztelési adatszetten\n",
      "RMSE: 8.3536395441\n",
      "MSE: 69.7832936328\n",
      "MAE: 8.3536395441\n",
      "MAPE: 0.5348177638%\n"
     ]
    }
   ],
   "source": [
    "tss = TimeSeriesSplit(n_splits=10, test_size=test_size, gap=0)\n",
    "\n",
    "root_mean_squared_errors = []\n",
    "mean_squared_errors = []\n",
    "mean_absolute_errors = []\n",
    "mean_absolute_percentage_errors = []\n",
    "\n",
    "df_log = np.log(original_df[1:])\n",
    "cols = columns\n",
    "\n",
    "for train_idx, val_idx in tss.split(dataframe):\n",
    "    scaler = StandardScaler()\n",
    "    train = dataframe.iloc[train_idx]\n",
    "    test = dataframe.iloc[val_idx]\n",
    "\n",
    "    ## Original LOG values\n",
    "\n",
    "    original_logs = pd.DataFrame()\n",
    "    original_logs = pd.concat([df_log.iloc[train_idx].iloc[-1:], df_log.iloc[val_idx]])\n",
    "    original_logs = original_logs[[\"eth_close\"]]    \n",
    "\n",
    "    ##SCALING\n",
    "    scaler.fit(train[cols])\n",
    "    train[cols] = scaler.transform(train[cols])\n",
    "    test[cols]= scaler.transform(test[cols])\n",
    "    \n",
    "    train = pd.DataFrame(train, columns=cols)\n",
    "    test = pd.DataFrame(test, columns=cols)\n",
    "\n",
    "    #Model Fit\n",
    "    model = VAR(train)\n",
    "    results = model.fit(maxlags=maxlags)\n",
    "    lag_order = results.k_ar\n",
    "\n",
    "    prior = train.iloc[-lag_order:][cols].to_numpy()\n",
    "    fcast = results.forecast(prior, len(test))\n",
    "\n",
    "    prediction = pd.DataFrame(fcast[:,-1]) ##last column contains eth_close\n",
    "    prediction.index = test.index\n",
    "    prediction.columns = [\"scaled_prediction\"]\n",
    "    backscaled_fcast = scaler.inverse_transform(pd.DataFrame(fcast))\n",
    "    prediction[\"unscaled_predictions\"] = backscaled_fcast[:, -1]\n",
    "\n",
    "    evaluation_df = pd.merge(original_logs[[\"eth_close\"]], prediction, how=\"left\", left_index=True, right_index=True)    \n",
    "    \n",
    "    ##UN-DIFFERENCING\n",
    "    x, x_diff = evaluation_df['eth_close'].iloc[0], evaluation_df['unscaled_predictions'].iloc[1:]\n",
    "    evaluation_df[\"log_prediction\"] = np.r_[x, x_diff].cumsum().astype('float64') ## credit to: https://stackoverflow.com/questions/49903037/pandas-reverse-of-diff\n",
    "    \n",
    "    ##EXP\n",
    "    evaluation_df[\"true_values\"] = np.exp(evaluation_df.eth_close)\n",
    "    evaluation_df[\"predicted_values\"] = np.exp(evaluation_df.log_prediction)\n",
    "    evaluation_df = evaluation_df[1:]\n",
    "    \n",
    "try:\n",
    "    rmse = mean_squared_error(evaluation_df['true_values'], evaluation_df[\"predicted_values\"], squared=False)\n",
    "    root_mean_squared_errors.append(rmse)\n",
    "    mse = mean_squared_error(evaluation_df['true_values'], evaluation_df[\"predicted_values\"], squared=True)\n",
    "    mean_squared_errors.append(mse)        \n",
    "    mae = mean_absolute_error(evaluation_df['true_values'], evaluation_df[\"predicted_values\"])\n",
    "    mean_absolute_errors.append(mae)\n",
    "    mape = mean_absolute_percentage_error(evaluation_df['true_values'], evaluation_df[\"predicted_values\"])\n",
    "    mean_absolute_percentage_errors.append(mape)\n",
    "except:\n",
    "    pass\n",
    "\n",
    "print(\"Tesztelve 5 különböző tanulási/tesztelési adatszetten\")\n",
    "print(f\"RMSE: {round(np.mean(root_mean_squared_errors), 10)}\")\n",
    "print(f\"MSE: {round(np.mean(mean_squared_errors), 10)}\")\n",
    "print(f\"MAE: {round(np.mean(mean_absolute_errors), 10)}\")\n",
    "print(f\"MAPE: {str(round(np.mean(mean_absolute_percentage_errors)*100, 10))}%\")"
   ]
  },
  {
   "cell_type": "code",
   "execution_count": 24,
   "id": "dda84d06",
   "metadata": {},
   "outputs": [
    {
     "data": {
      "text/html": [
       "<div>\n",
       "<style scoped>\n",
       "    .dataframe tbody tr th:only-of-type {\n",
       "        vertical-align: middle;\n",
       "    }\n",
       "\n",
       "    .dataframe tbody tr th {\n",
       "        vertical-align: top;\n",
       "    }\n",
       "\n",
       "    .dataframe thead th {\n",
       "        text-align: right;\n",
       "    }\n",
       "</style>\n",
       "<table border=\"1\" class=\"dataframe\">\n",
       "  <thead>\n",
       "    <tr style=\"text-align: right;\">\n",
       "      <th></th>\n",
       "      <th>eth_close</th>\n",
       "      <th>scaled_prediction</th>\n",
       "      <th>unscaled_predictions</th>\n",
       "      <th>log_prediction</th>\n",
       "      <th>true_values</th>\n",
       "      <th>predicted_values</th>\n",
       "    </tr>\n",
       "    <tr>\n",
       "      <th>date</th>\n",
       "      <th></th>\n",
       "      <th></th>\n",
       "      <th></th>\n",
       "      <th></th>\n",
       "      <th></th>\n",
       "      <th></th>\n",
       "    </tr>\n",
       "  </thead>\n",
       "  <tbody>\n",
       "    <tr>\n",
       "      <th>2023-03-07</th>\n",
       "      <td>7.353697</td>\n",
       "      <td>-0.163116</td>\n",
       "      <td>-0.007844</td>\n",
       "      <td>7.348334</td>\n",
       "      <td>1561.96</td>\n",
       "      <td>1553.60636</td>\n",
       "    </tr>\n",
       "  </tbody>\n",
       "</table>\n",
       "</div>"
      ],
      "text/plain": [
       "            eth_close  scaled_prediction  unscaled_predictions  \\\n",
       "date                                                             \n",
       "2023-03-07   7.353697          -0.163116             -0.007844   \n",
       "\n",
       "            log_prediction  true_values  predicted_values  \n",
       "date                                                       \n",
       "2023-03-07        7.348334      1561.96        1553.60636  "
      ]
     },
     "execution_count": 24,
     "metadata": {},
     "output_type": "execute_result"
    }
   ],
   "source": [
    "evaluation_df"
   ]
  },
  {
   "cell_type": "markdown",
   "id": "5a06b6ab",
   "metadata": {},
   "source": [
    "## 3 day"
   ]
  },
  {
   "cell_type": "code",
   "execution_count": 25,
   "id": "7b58c1fc",
   "metadata": {},
   "outputs": [],
   "source": [
    "columns = ['eth_open', 'eth_qav', 'btc_close', \n",
    "           'us_treasury_10yt3m_diff', 'news_sentiment',\n",
    "           'sp500_close', 'unique_whales',\n",
    "           'twitter_sentiment','nasdaq_close', 'gold_value', 'whales_tx_number',\n",
    "           'macd', 'ma_26', 'eth_close']\n",
    "\n",
    "test_size = 3\n",
    "original_df = df\n",
    "dataframe = df_stationary\n",
    "maxlags = 14"
   ]
  },
  {
   "cell_type": "code",
   "execution_count": 26,
   "id": "e7c1fd01",
   "metadata": {
    "scrolled": true
   },
   "outputs": [
    {
     "name": "stdout",
     "output_type": "stream",
     "text": [
      "Tesztelve 5 különböző tanulási/tesztelési adatszetten\n",
      "RMSE: 11.5543\n",
      "MSE: 133.502\n",
      "MAE: 11.4322\n",
      "MAPE: 0.7309%\n"
     ]
    }
   ],
   "source": [
    "tss = TimeSeriesSplit(n_splits=10, test_size=test_size, gap=0)\n",
    "\n",
    "root_mean_squared_errors = []\n",
    "mean_squared_errors = []\n",
    "mean_absolute_errors = []\n",
    "mean_absolute_percentage_errors = []\n",
    "\n",
    "df_log = np.log(original_df[1:])\n",
    "cols = columns\n",
    "dataframe = dataframe[cols]\n",
    "\n",
    "for train_idx, val_idx in tss.split(dataframe):\n",
    "    scaler = StandardScaler()\n",
    "    train = dataframe.iloc[train_idx]\n",
    "    test = dataframe.iloc[val_idx]\n",
    "\n",
    "    ## Original LOG values\n",
    "\n",
    "    original_logs = pd.DataFrame()\n",
    "    original_logs = pd.concat([df_log.iloc[train_idx].iloc[-1:], df_log.iloc[val_idx]])\n",
    "    original_logs = original_logs[[\"eth_close\"]]    \n",
    "\n",
    "    ##SCALING\n",
    "    scaler.fit(train)\n",
    "    train[cols] = scaler.transform(train[cols])\n",
    "    test[cols]= scaler.transform(test[cols])\n",
    "\n",
    "    train = pd.DataFrame(train, columns=cols)\n",
    "    test = pd.DataFrame(test, columns=cols)\n",
    "\n",
    "    #Model Fit\n",
    "    model = VAR(train)\n",
    "    results = model.fit(maxlags=maxlags)\n",
    "    lag_order = results.k_ar\n",
    "\n",
    "    prior = train.iloc[-lag_order:][cols].to_numpy()\n",
    "    fcast = results.forecast(prior, len(test))\n",
    "\n",
    "    prediction = pd.DataFrame(fcast[:,-1]) ##last column contains eth_close\n",
    "    prediction.index = test.index\n",
    "    prediction.columns = [\"scaled_prediction\"]\n",
    "    backscaled_fcast = scaler.inverse_transform(pd.DataFrame(fcast))\n",
    "    prediction[\"unscaled_predictions\"] = backscaled_fcast[:, -1]\n",
    "\n",
    "    evaluation_df = pd.merge(original_logs[[\"eth_close\"]], prediction, how=\"left\", left_index=True, right_index=True)    \n",
    "    \n",
    "    ##UN-DIFFERENCING\n",
    "    x, x_diff = evaluation_df['eth_close'].iloc[0], evaluation_df['unscaled_predictions'].iloc[1:]\n",
    "    evaluation_df[\"log_prediction\"] = np.r_[x, x_diff].cumsum().astype('float64') ## credit to: https://stackoverflow.com/questions/49903037/pandas-reverse-of-diff\n",
    "    \n",
    "    ##EXP\n",
    "    evaluation_df[\"true_values\"] = np.exp(evaluation_df.eth_close)\n",
    "    evaluation_df[\"predicted_values\"] = np.exp(evaluation_df.log_prediction)\n",
    "    evaluation_df = evaluation_df[1:]\n",
    "    \n",
    "try:\n",
    "    rmse = mean_squared_error(evaluation_df['true_values'], evaluation_df[\"predicted_values\"], squared=False)\n",
    "    root_mean_squared_errors.append(rmse)\n",
    "    mse = mean_squared_error(evaluation_df['true_values'], evaluation_df[\"predicted_values\"], squared=True)\n",
    "    mean_squared_errors.append(mse)        \n",
    "    mae = mean_absolute_error(evaluation_df['true_values'], evaluation_df[\"predicted_values\"])\n",
    "    mean_absolute_errors.append(mae)\n",
    "    mape = mean_absolute_percentage_error(evaluation_df['true_values'], evaluation_df[\"predicted_values\"])\n",
    "    mean_absolute_percentage_errors.append(mape)\n",
    "except:\n",
    "    pass\n",
    "\n",
    "print(\"Tesztelve 5 különböző tanulási/tesztelési adatszetten\")\n",
    "print(f\"RMSE: {round(np.mean(root_mean_squared_errors), 4)}\")\n",
    "print(f\"MSE: {round(np.mean(mean_squared_errors), 4)}\")\n",
    "print(f\"MAE: {round(np.mean(mean_absolute_errors), 4)}\")\n",
    "print(f\"MAPE: {str(round(np.mean(mean_absolute_percentage_errors)*100, 4))}%\")"
   ]
  },
  {
   "cell_type": "markdown",
   "id": "ccba2ebd",
   "metadata": {},
   "source": [
    "## 7 day"
   ]
  },
  {
   "cell_type": "code",
   "execution_count": 27,
   "id": "ee8919b2",
   "metadata": {
    "scrolled": true
   },
   "outputs": [
    {
     "name": "stdout",
     "output_type": "stream",
     "text": [
      "<class 'pandas.core.frame.DataFrame'>\n",
      "DatetimeIndex: 2014 entries, 2017-09-01 to 2023-03-07\n",
      "Data columns (total 45 columns):\n",
      " #   Column                    Non-Null Count  Dtype  \n",
      "---  ------                    --------------  -----  \n",
      " 0   eth_low                   2014 non-null   float64\n",
      " 1   eth_high                  2014 non-null   float64\n",
      " 2   eth_open                  2014 non-null   float64\n",
      " 3   eth_close                 2014 non-null   float64\n",
      " 4   eth_volume                2014 non-null   float64\n",
      " 5   eth_qav                   2014 non-null   float64\n",
      " 6   eth_num_trades            2014 non-null   float64\n",
      " 7   eth_taker_base_vol        2014 non-null   float64\n",
      " 8   eth_taker_quote_vol       2014 non-null   float64\n",
      " 9   btc_close                 2014 non-null   float64\n",
      " 10  btc_volume                2014 non-null   float64\n",
      " 11  btc_num_trades            2014 non-null   float64\n",
      " 12  btc_qav                   2014 non-null   float64\n",
      " 13  fed_eff_funds_rate_close  2014 non-null   float64\n",
      " 14  nasdaq_close              2014 non-null   float64\n",
      " 15  real_estate_index_close   2014 non-null   float64\n",
      " 16  sp500_close               2014 non-null   float64\n",
      " 17  silver_value              2014 non-null   float64\n",
      " 18  us_breake_inf_rate_5y     2014 non-null   float64\n",
      " 19  us_breake_inf_rate_10y    2014 non-null   float64\n",
      " 20  us_treasury_10yt2y_diff   2014 non-null   float64\n",
      " 21  us_treasury_10yt3m_diff   2014 non-null   float64\n",
      " 22  us_treasury_total_vol     2014 non-null   float64\n",
      " 23  gold_value                2014 non-null   float64\n",
      " 24  news_sentiment            2014 non-null   float64\n",
      " 25  ethereum_search_trend     2014 non-null   float64\n",
      " 26  reddit_sentiment          2014 non-null   float64\n",
      " 27  twitter_sentiment         2014 non-null   float64\n",
      " 28  unique_whales             2014 non-null   float64\n",
      " 29  whales_tx_number          2014 non-null   float64\n",
      " 30  whales_tx_total_value     2014 non-null   float64\n",
      " 31  macd                      2014 non-null   float64\n",
      " 32  signal                    2014 non-null   float64\n",
      " 33  hist                      2014 non-null   float64\n",
      " 34  rsi                       2014 non-null   float64\n",
      " 35  stochastic_oscillator     2014 non-null   float64\n",
      " 36  ma_12                     2014 non-null   float64\n",
      " 37  ma_26                     2014 non-null   float64\n",
      " 38  ema_12                    2014 non-null   float64\n",
      " 39  ema_26                    2014 non-null   float64\n",
      " 40  obv                       2014 non-null   float64\n",
      " 41  mfi                       2014 non-null   float64\n",
      " 42  upper_band                2014 non-null   float64\n",
      " 43  middle_band               2014 non-null   float64\n",
      " 44  lower_band                2014 non-null   float64\n",
      "dtypes: float64(45)\n",
      "memory usage: 723.8 KB\n"
     ]
    }
   ],
   "source": [
    "df.info()"
   ]
  },
  {
   "cell_type": "code",
   "execution_count": 28,
   "id": "00ff415b",
   "metadata": {},
   "outputs": [],
   "source": [
    "columns = ['eth_open', 'eth_qav', 'btc_close', \n",
    "           'us_treasury_10yt3m_diff', 'news_sentiment',\n",
    "           'sp500_close', 'unique_whales',\n",
    "           'twitter_sentiment','nasdaq_close', 'gold_value', 'whales_tx_number',\n",
    "           'macd', 'ma_26', 'eth_close']\n",
    "\n",
    "test_size = 7\n",
    "original_df = df\n",
    "dataframe = df_stationary\n",
    "maxlags = 14"
   ]
  },
  {
   "cell_type": "code",
   "execution_count": 29,
   "id": "58396018",
   "metadata": {},
   "outputs": [
    {
     "name": "stdout",
     "output_type": "stream",
     "text": [
      "Tesztelve 5 különböző tanulási/tesztelési adatszetten\n",
      "RMSE: 44.6529\n",
      "MSE: 1993.8837\n",
      "MAE: 43.4764\n",
      "MAPE: 2.7217%\n"
     ]
    }
   ],
   "source": [
    "tss = TimeSeriesSplit(n_splits=10, test_size=test_size, gap=0)\n",
    "\n",
    "root_mean_squared_errors = []\n",
    "mean_squared_errors = []\n",
    "mean_absolute_errors = []\n",
    "mean_absolute_percentage_errors = []\n",
    "\n",
    "df_log = np.log(original_df[1:])\n",
    "cols = columns\n",
    "dataframe = dataframe[cols]\n",
    "\n",
    "for train_idx, val_idx in tss.split(dataframe):\n",
    "    scaler = StandardScaler()\n",
    "    train = dataframe.iloc[train_idx]\n",
    "    test = dataframe.iloc[val_idx]\n",
    "\n",
    "    ## Original LOG values\n",
    "\n",
    "    original_logs = pd.DataFrame()\n",
    "    original_logs = pd.concat([df_log.iloc[train_idx].iloc[-1:], df_log.iloc[val_idx]])\n",
    "    original_logs = original_logs[[\"eth_close\"]]    \n",
    "\n",
    "    ##SCALING\n",
    "    scaler.fit(train[cols])\n",
    "    train[cols] = scaler.transform(train[cols])\n",
    "    test[cols]= scaler.transform(test[cols])\n",
    "    \n",
    "    train = pd.DataFrame(train, columns=cols)\n",
    "    test = pd.DataFrame(test, columns=cols)\n",
    "\n",
    "    #Model Fit\n",
    "    model = VAR(train)\n",
    "    results = model.fit(maxlags=maxlags)\n",
    "    lag_order = results.k_ar\n",
    "\n",
    "    prior = train.iloc[-lag_order:][cols].to_numpy()\n",
    "    fcast = results.forecast(prior, len(test))\n",
    "\n",
    "    prediction = pd.DataFrame(fcast[:,-1]) ##last column contains eth_close\n",
    "    prediction.index = test.index\n",
    "    prediction.columns = [\"scaled_prediction\"]\n",
    "    backscaled_fcast = scaler.inverse_transform(pd.DataFrame(fcast))\n",
    "    prediction[\"unscaled_predictions\"] = backscaled_fcast[:, -1]\n",
    "\n",
    "    evaluation_df = pd.merge(original_logs[[\"eth_close\"]], prediction, how=\"left\", left_index=True, right_index=True)    \n",
    "    \n",
    "    ##UN-DIFFERENCING\n",
    "    x, x_diff = evaluation_df['eth_close'].iloc[0], evaluation_df['unscaled_predictions'].iloc[1:]\n",
    "    evaluation_df[\"log_prediction\"] = np.r_[x, x_diff].cumsum().astype('float64') ## credit to: https://stackoverflow.com/questions/49903037/pandas-reverse-of-diff\n",
    "    \n",
    "    ##EXP\n",
    "    evaluation_df[\"true_values\"] = np.exp(evaluation_df.eth_close)\n",
    "    evaluation_df[\"predicted_values\"] = np.exp(evaluation_df.log_prediction)\n",
    "    evaluation_df = evaluation_df[1:]\n",
    "    \n",
    "try:\n",
    "    rmse = mean_squared_error(evaluation_df['true_values'], evaluation_df[\"predicted_values\"], squared=False)\n",
    "    root_mean_squared_errors.append(rmse)\n",
    "    mse = mean_squared_error(evaluation_df['true_values'], evaluation_df[\"predicted_values\"], squared=True)\n",
    "    mean_squared_errors.append(mse)        \n",
    "    mae = mean_absolute_error(evaluation_df['true_values'], evaluation_df[\"predicted_values\"])\n",
    "    mean_absolute_errors.append(mae)\n",
    "    mape = mean_absolute_percentage_error(evaluation_df['true_values'], evaluation_df[\"predicted_values\"])\n",
    "    mean_absolute_percentage_errors.append(mape)\n",
    "except:\n",
    "    pass\n",
    "\n",
    "print(\"Tesztelve 5 különböző tanulási/tesztelési adatszetten\")\n",
    "print(f\"RMSE: {round(np.mean(root_mean_squared_errors), 4)}\")\n",
    "print(f\"MSE: {round(np.mean(mean_squared_errors), 4)}\")\n",
    "print(f\"MAE: {round(np.mean(mean_absolute_errors), 4)}\")\n",
    "print(f\"MAPE: {str(round(np.mean(mean_absolute_percentage_errors)*100, 4))}%\")"
   ]
  },
  {
   "cell_type": "code",
   "execution_count": 30,
   "id": "fd3f99f8",
   "metadata": {},
   "outputs": [
    {
     "data": {
      "image/png": "[encoded data removed]",
      "text/plain": [
       "<Figure size 1000x500 with 1 Axes>"
      ]
     },
     "metadata": {},
     "output_type": "display_data"
    }
   ],
   "source": [
    "fig, ax = plt.subplots(figsize=(10, 5))\n",
    "font = {'fontname':'Times New Roman', 'size': 13, 'weight' : 'bold'}\n",
    "ax.plot(evaluation_df[\"true_values\"], label=\"ETH valós értékei\")\n",
    "ax.plot(evaluation_df[\"predicted_values\"], label=\"ETH prediktált értékei\")\n",
    "ax.legend()\n",
    "ax.yaxis.set_major_formatter(\"${x:,.0f}\")\n",
    "ax.set_ylabel(\"ETH napi árfolyama ($)\", **font)\n",
    "ax.set_xlabel(\"dátum\", **font)\n",
    "plt.tight_layout()\n",
    "ax.set_title(\"VAR model Előrejelzés - ETH árfolyamára - Validation Set - 7 napos predikció\", **font)\n",
    "plt.savefig(\"charts/forecast/var_forecast_example7day.png\")\n",
    "plt.show()"
   ]
  },
  {
   "cell_type": "code",
   "execution_count": null,
   "id": "b25dcce3",
   "metadata": {},
   "outputs": [],
   "source": []
  },
  {
   "cell_type": "markdown",
   "id": "c8a7d4fe",
   "metadata": {},
   "source": [
    "## 14 DAY "
   ]
  },
  {
   "cell_type": "code",
   "execution_count": 31,
   "id": "df6cbfd3",
   "metadata": {
    "scrolled": true
   },
   "outputs": [
    {
     "name": "stdout",
     "output_type": "stream",
     "text": [
      "<class 'pandas.core.frame.DataFrame'>\n",
      "DatetimeIndex: 2014 entries, 2017-09-01 to 2023-03-07\n",
      "Data columns (total 45 columns):\n",
      " #   Column                    Non-Null Count  Dtype  \n",
      "---  ------                    --------------  -----  \n",
      " 0   eth_low                   2014 non-null   float64\n",
      " 1   eth_high                  2014 non-null   float64\n",
      " 2   eth_open                  2014 non-null   float64\n",
      " 3   eth_close                 2014 non-null   float64\n",
      " 4   eth_volume                2014 non-null   float64\n",
      " 5   eth_qav                   2014 non-null   float64\n",
      " 6   eth_num_trades            2014 non-null   float64\n",
      " 7   eth_taker_base_vol        2014 non-null   float64\n",
      " 8   eth_taker_quote_vol       2014 non-null   float64\n",
      " 9   btc_close                 2014 non-null   float64\n",
      " 10  btc_volume                2014 non-null   float64\n",
      " 11  btc_num_trades            2014 non-null   float64\n",
      " 12  btc_qav                   2014 non-null   float64\n",
      " 13  fed_eff_funds_rate_close  2014 non-null   float64\n",
      " 14  nasdaq_close              2014 non-null   float64\n",
      " 15  real_estate_index_close   2014 non-null   float64\n",
      " 16  sp500_close               2014 non-null   float64\n",
      " 17  silver_value              2014 non-null   float64\n",
      " 18  us_breake_inf_rate_5y     2014 non-null   float64\n",
      " 19  us_breake_inf_rate_10y    2014 non-null   float64\n",
      " 20  us_treasury_10yt2y_diff   2014 non-null   float64\n",
      " 21  us_treasury_10yt3m_diff   2014 non-null   float64\n",
      " 22  us_treasury_total_vol     2014 non-null   float64\n",
      " 23  gold_value                2014 non-null   float64\n",
      " 24  news_sentiment            2014 non-null   float64\n",
      " 25  ethereum_search_trend     2014 non-null   float64\n",
      " 26  reddit_sentiment          2014 non-null   float64\n",
      " 27  twitter_sentiment         2014 non-null   float64\n",
      " 28  unique_whales             2014 non-null   float64\n",
      " 29  whales_tx_number          2014 non-null   float64\n",
      " 30  whales_tx_total_value     2014 non-null   float64\n",
      " 31  macd                      2014 non-null   float64\n",
      " 32  signal                    2014 non-null   float64\n",
      " 33  hist                      2014 non-null   float64\n",
      " 34  rsi                       2014 non-null   float64\n",
      " 35  stochastic_oscillator     2014 non-null   float64\n",
      " 36  ma_12                     2014 non-null   float64\n",
      " 37  ma_26                     2014 non-null   float64\n",
      " 38  ema_12                    2014 non-null   float64\n",
      " 39  ema_26                    2014 non-null   float64\n",
      " 40  obv                       2014 non-null   float64\n",
      " 41  mfi                       2014 non-null   float64\n",
      " 42  upper_band                2014 non-null   float64\n",
      " 43  middle_band               2014 non-null   float64\n",
      " 44  lower_band                2014 non-null   float64\n",
      "dtypes: float64(45)\n",
      "memory usage: 723.8 KB\n"
     ]
    }
   ],
   "source": [
    "df.info()"
   ]
  },
  {
   "cell_type": "code",
   "execution_count": 32,
   "id": "e322af40",
   "metadata": {},
   "outputs": [],
   "source": [
    "columns = ['eth_open', 'eth_qav', 'btc_close', \n",
    "           'us_treasury_10yt3m_diff', 'news_sentiment',\n",
    "           'sp500_close', 'unique_whales',\n",
    "           'twitter_sentiment','nasdaq_close', 'gold_value', 'whales_tx_number',\n",
    "           'macd', 'ma_26', 'eth_close']\n",
    "\n",
    "test_size = 14\n",
    "original_df = df\n",
    "dataframe = df_stationary\n",
    "maxlags = 14"
   ]
  },
  {
   "cell_type": "code",
   "execution_count": 33,
   "id": "36368705",
   "metadata": {},
   "outputs": [
    {
     "name": "stdout",
     "output_type": "stream",
     "text": [
      "Tesztelve 5 különböző tanulási/tesztelési adatszetten\n",
      "RMSE: 39.5418\n",
      "MSE: 1563.5552\n",
      "MAE: 34.9909\n",
      "MAPE: 2.1999%\n"
     ]
    }
   ],
   "source": [
    "tss = TimeSeriesSplit(n_splits=10, test_size=test_size, gap=0)\n",
    "\n",
    "root_mean_squared_errors = []\n",
    "mean_squared_errors = []\n",
    "mean_absolute_errors = []\n",
    "mean_absolute_percentage_errors = []\n",
    "\n",
    "df_log = np.log(original_df[1:])\n",
    "cols = columns\n",
    "dataframe = dataframe[cols]\n",
    "\n",
    "for train_idx, val_idx in tss.split(dataframe):\n",
    "    scaler = StandardScaler()\n",
    "    train = dataframe.iloc[train_idx]\n",
    "    test = dataframe.iloc[val_idx]\n",
    "\n",
    "    ## Original LOG values\n",
    "\n",
    "    original_logs = pd.DataFrame()\n",
    "    original_logs = pd.concat([df_log.iloc[train_idx].iloc[-1:], df_log.iloc[val_idx]])\n",
    "    original_logs = original_logs[[\"eth_close\"]]    \n",
    "\n",
    "    ##SCALING\n",
    "    scaler.fit(train[cols])\n",
    "    train[cols] = scaler.transform(train[cols])\n",
    "    test[cols]= scaler.transform(test[cols])\n",
    "    \n",
    "    train = pd.DataFrame(train, columns=cols)\n",
    "    test = pd.DataFrame(test, columns=cols)\n",
    "\n",
    "    #Model Fit\n",
    "    model = VAR(train)\n",
    "    results = model.fit(maxlags=maxlags)\n",
    "    lag_order = results.k_ar\n",
    "\n",
    "    prior = train.iloc[-lag_order:][cols].to_numpy()\n",
    "    fcast = results.forecast(prior, len(test))\n",
    "\n",
    "    prediction = pd.DataFrame(fcast[:,-1]) ##last column contains eth_close\n",
    "    prediction.index = test.index\n",
    "    prediction.columns = [\"scaled_prediction\"]\n",
    "    backscaled_fcast = scaler.inverse_transform(pd.DataFrame(fcast))\n",
    "    prediction[\"unscaled_predictions\"] = backscaled_fcast[:, -1]\n",
    "\n",
    "    evaluation_df = pd.merge(original_logs[[\"eth_close\"]], prediction, how=\"left\", left_index=True, right_index=True)    \n",
    "    \n",
    "    ##UN-DIFFERENCING\n",
    "    x, x_diff = evaluation_df['eth_close'].iloc[0], evaluation_df['unscaled_predictions'].iloc[1:]\n",
    "    evaluation_df[\"log_prediction\"] = np.r_[x, x_diff].cumsum().astype('float64') ## credit to: https://stackoverflow.com/questions/49903037/pandas-reverse-of-diff\n",
    "    \n",
    "    ##EXP\n",
    "    evaluation_df[\"true_values\"] = np.exp(evaluation_df.eth_close)\n",
    "    evaluation_df[\"predicted_values\"] = np.exp(evaluation_df.log_prediction)\n",
    "    evaluation_df = evaluation_df[1:]\n",
    "    \n",
    "try:\n",
    "    rmse = mean_squared_error(evaluation_df['true_values'], evaluation_df[\"predicted_values\"], squared=False)\n",
    "    root_mean_squared_errors.append(rmse)\n",
    "    mse = mean_squared_error(evaluation_df['true_values'], evaluation_df[\"predicted_values\"], squared=True)\n",
    "    mean_squared_errors.append(mse)        \n",
    "    mae = mean_absolute_error(evaluation_df['true_values'], evaluation_df[\"predicted_values\"])\n",
    "    mean_absolute_errors.append(mae)\n",
    "    mape = mean_absolute_percentage_error(evaluation_df['true_values'], evaluation_df[\"predicted_values\"])\n",
    "    mean_absolute_percentage_errors.append(mape)\n",
    "except:\n",
    "    pass\n",
    "\n",
    "print(\"Tesztelve 5 különböző tanulási/tesztelési adatszetten\")\n",
    "print(f\"RMSE: {round(np.mean(root_mean_squared_errors), 4)}\")\n",
    "print(f\"MSE: {round(np.mean(mean_squared_errors), 4)}\")\n",
    "print(f\"MAE: {round(np.mean(mean_absolute_errors), 4)}\")\n",
    "print(f\"MAPE: {str(round(np.mean(mean_absolute_percentage_errors)*100, 4))}%\")"
   ]
  },
  {
   "cell_type": "code",
   "execution_count": 34,
   "id": "94b4348b",
   "metadata": {},
   "outputs": [
    {
     "data": {
      "image/png": "[encoded data removed]",
      "text/plain": [
       "<Figure size 1000x500 with 1 Axes>"
      ]
     },
     "metadata": {},
     "output_type": "display_data"
    }
   ],
   "source": [
    "fig, ax = plt.subplots(figsize=(10, 5))\n",
    "font = {'fontname':'Times New Roman', 'size': 13, 'weight' : 'bold'}\n",
    "ax.plot(evaluation_df[\"true_values\"], label=\"ETH valós értékei\")\n",
    "ax.plot(evaluation_df[\"predicted_values\"], label=\"ETH prediktált értékei\")\n",
    "ax.legend()\n",
    "ax.yaxis.set_major_formatter(\"${x:,.0f}\")\n",
    "ax.set_ylabel(\"ETH napi árfolyama ($)\", **font)\n",
    "ax.set_xlabel(\"dátum\", **font)\n",
    "plt.tight_layout()\n",
    "ax.set_title(\"VAR model Előrejelzés - ETH árfolyamára - Validation Set - 14 napos predikció\", **font)\n",
    "plt.savefig(\"charts/forecast/var_forecast_example.png\")\n",
    "plt.show()"
   ]
  },
  {
   "cell_type": "code",
   "execution_count": null,
   "id": "5f59ca9d",
   "metadata": {},
   "outputs": [],
   "source": []
  },
  {
   "cell_type": "code",
   "execution_count": null,
   "id": "50f078f3",
   "metadata": {},
   "outputs": [],
   "source": []
  },
  {
   "cell_type": "markdown",
   "id": "c06294ce",
   "metadata": {},
   "source": [
    "## Test on Real-World dataset\n"
   ]
  },
  {
   "cell_type": "markdown",
   "id": "4472f4f8",
   "metadata": {},
   "source": [
    "## 1 DAY"
   ]
  },
  {
   "cell_type": "code",
   "execution_count": 35,
   "id": "20fc15b3",
   "metadata": {},
   "outputs": [],
   "source": [
    "import yfinance as yf\n",
    "\n",
    "# Define the ticker symbol\n",
    "tickerSymbol = 'ETH-USD'\n",
    "\n",
    "# Get data for this ticker\n",
    "tickerData = yf.Ticker(tickerSymbol)\n",
    "\n",
    "# Get the historical prices for this ticker\n",
    "tickerDf = tickerData.history(period='1d', start='2023-03-07', end='2023-03-24')\n",
    "\n",
    "eth_current_price = pd.DataFrame(tickerDf)\n"
   ]
  },
  {
   "cell_type": "code",
   "execution_count": 36,
   "id": "265a549b",
   "metadata": {},
   "outputs": [],
   "source": [
    "eth_current_price.index = pd.to_datetime(eth_current_price.index)"
   ]
  },
  {
   "cell_type": "code",
   "execution_count": 37,
   "id": "57eb0bf4",
   "metadata": {},
   "outputs": [],
   "source": [
    "eth_current_price = eth_current_price[pd.to_datetime(\"2023-03-08\"):pd.to_datetime(\"2023-03-08\") + pd.Timedelta(days=0)] ## 1 day"
   ]
  },
  {
   "cell_type": "code",
   "execution_count": 38,
   "id": "4137729a",
   "metadata": {},
   "outputs": [],
   "source": [
    "eth_current_price = eth_current_price[[\"Close\"]]"
   ]
  },
  {
   "cell_type": "code",
   "execution_count": 39,
   "id": "d084cf9c",
   "metadata": {},
   "outputs": [],
   "source": [
    "eth_current_price.index.freq=\"D\""
   ]
  },
  {
   "cell_type": "code",
   "execution_count": 40,
   "id": "9881c4d2",
   "metadata": {},
   "outputs": [],
   "source": [
    "columns = ['eth_taker_base_vol', 'eth_taker_quote_vol', 'sp500_close', 'us_breake_inf_rate_5y',\n",
    "       'unique_whales', 'rsi', 'ma_12', 'ma_26',\n",
    "       'upper_band', 'middle_band', 'lower_band',\n",
    "       'macd', 'signal', 'hist', 'obv',\n",
    "       'eth_close']\n",
    "\n",
    "original_df = df\n",
    "maxlags = 14"
   ]
  },
  {
   "cell_type": "code",
   "execution_count": 41,
   "id": "19c00629",
   "metadata": {
    "scrolled": true
   },
   "outputs": [],
   "source": [
    "scaler = StandardScaler()\n",
    "train = df_stationary[columns]\n",
    "train = pd.DataFrame(scaler.fit_transform(train), columns=train.columns)"
   ]
  },
  {
   "cell_type": "code",
   "execution_count": 42,
   "id": "66fe5859",
   "metadata": {},
   "outputs": [
    {
     "data": {
      "text/html": [
       "<div>\n",
       "<style scoped>\n",
       "    .dataframe tbody tr th:only-of-type {\n",
       "        vertical-align: middle;\n",
       "    }\n",
       "\n",
       "    .dataframe tbody tr th {\n",
       "        vertical-align: top;\n",
       "    }\n",
       "\n",
       "    .dataframe thead th {\n",
       "        text-align: right;\n",
       "    }\n",
       "</style>\n",
       "<table border=\"1\" class=\"dataframe\">\n",
       "  <thead>\n",
       "    <tr style=\"text-align: right;\">\n",
       "      <th></th>\n",
       "      <th>eth_taker_base_vol</th>\n",
       "      <th>eth_taker_quote_vol</th>\n",
       "      <th>sp500_close</th>\n",
       "      <th>us_breake_inf_rate_5y</th>\n",
       "      <th>unique_whales</th>\n",
       "      <th>rsi</th>\n",
       "      <th>ma_12</th>\n",
       "      <th>ma_26</th>\n",
       "      <th>upper_band</th>\n",
       "      <th>middle_band</th>\n",
       "      <th>lower_band</th>\n",
       "      <th>macd</th>\n",
       "      <th>signal</th>\n",
       "      <th>hist</th>\n",
       "      <th>obv</th>\n",
       "      <th>eth_close</th>\n",
       "    </tr>\n",
       "  </thead>\n",
       "  <tbody>\n",
       "    <tr>\n",
       "      <th>0</th>\n",
       "      <td>1.057912</td>\n",
       "      <td>0.828082</td>\n",
       "      <td>-0.021376</td>\n",
       "      <td>-0.006037</td>\n",
       "      <td>-2.014157</td>\n",
       "      <td>-2.891105</td>\n",
       "      <td>0.258859</td>\n",
       "      <td>0.228984</td>\n",
       "      <td>-0.071636</td>\n",
       "      <td>-0.115513</td>\n",
       "      <td>-0.058756</td>\n",
       "      <td>-0.253863</td>\n",
       "      <td>0.091231</td>\n",
       "      <td>-0.465200</td>\n",
       "      <td>-0.034374</td>\n",
       "      <td>-2.384236</td>\n",
       "    </tr>\n",
       "    <tr>\n",
       "      <th>1</th>\n",
       "      <td>-0.225370</td>\n",
       "      <td>-0.297937</td>\n",
       "      <td>-0.021376</td>\n",
       "      <td>-0.006037</td>\n",
       "      <td>-0.723173</td>\n",
       "      <td>-0.079506</td>\n",
       "      <td>0.443890</td>\n",
       "      <td>0.179774</td>\n",
       "      <td>-0.430036</td>\n",
       "      <td>-0.429710</td>\n",
       "      <td>-0.035781</td>\n",
       "      <td>-0.229630</td>\n",
       "      <td>0.002763</td>\n",
       "      <td>-0.343144</td>\n",
       "      <td>-0.030472</td>\n",
       "      <td>-0.089675</td>\n",
       "    </tr>\n",
       "    <tr>\n",
       "      <th>2</th>\n",
       "      <td>0.642859</td>\n",
       "      <td>0.306111</td>\n",
       "      <td>-0.021376</td>\n",
       "      <td>-0.006037</td>\n",
       "      <td>1.905666</td>\n",
       "      <td>-3.167671</td>\n",
       "      <td>-0.542291</td>\n",
       "      <td>-0.492185</td>\n",
       "      <td>-0.540733</td>\n",
       "      <td>-1.272404</td>\n",
       "      <td>-0.933064</td>\n",
       "      <td>-0.674758</td>\n",
       "      <td>-0.203590</td>\n",
       "      <td>-0.802206</td>\n",
       "      <td>-0.032411</td>\n",
       "      <td>-3.567769</td>\n",
       "    </tr>\n",
       "    <tr>\n",
       "      <th>3</th>\n",
       "      <td>0.882472</td>\n",
       "      <td>0.832912</td>\n",
       "      <td>-0.706544</td>\n",
       "      <td>-0.859510</td>\n",
       "      <td>0.338250</td>\n",
       "      <td>1.883719</td>\n",
       "      <td>-0.224855</td>\n",
       "      <td>-0.257860</td>\n",
       "      <td>-1.098620</td>\n",
       "      <td>-1.004900</td>\n",
       "      <td>0.019734</td>\n",
       "      <td>-0.304348</td>\n",
       "      <td>-0.255852</td>\n",
       "      <td>-0.202150</td>\n",
       "      <td>-0.012705</td>\n",
       "      <td>1.804979</td>\n",
       "    </tr>\n",
       "    <tr>\n",
       "      <th>4</th>\n",
       "      <td>-1.603442</td>\n",
       "      <td>-1.336178</td>\n",
       "      <td>0.261014</td>\n",
       "      <td>0.338550</td>\n",
       "      <td>-0.714888</td>\n",
       "      <td>1.126161</td>\n",
       "      <td>0.071158</td>\n",
       "      <td>-0.049891</td>\n",
       "      <td>-0.012866</td>\n",
       "      <td>0.341251</td>\n",
       "      <td>0.423848</td>\n",
       "      <td>-0.055247</td>\n",
       "      <td>-0.221790</td>\n",
       "      <td>0.134012</td>\n",
       "      <td>-0.016439</td>\n",
       "      <td>1.340746</td>\n",
       "    </tr>\n",
       "  </tbody>\n",
       "</table>\n",
       "</div>"
      ],
      "text/plain": [
       "   eth_taker_base_vol  eth_taker_quote_vol  sp500_close  \\\n",
       "0            1.057912             0.828082    -0.021376   \n",
       "1           -0.225370            -0.297937    -0.021376   \n",
       "2            0.642859             0.306111    -0.021376   \n",
       "3            0.882472             0.832912    -0.706544   \n",
       "4           -1.603442            -1.336178     0.261014   \n",
       "\n",
       "   us_breake_inf_rate_5y  unique_whales       rsi     ma_12     ma_26  \\\n",
       "0              -0.006037      -2.014157 -2.891105  0.258859  0.228984   \n",
       "1              -0.006037      -0.723173 -0.079506  0.443890  0.179774   \n",
       "2              -0.006037       1.905666 -3.167671 -0.542291 -0.492185   \n",
       "3              -0.859510       0.338250  1.883719 -0.224855 -0.257860   \n",
       "4               0.338550      -0.714888  1.126161  0.071158 -0.049891   \n",
       "\n",
       "   upper_band  middle_band  lower_band      macd    signal      hist  \\\n",
       "0   -0.071636    -0.115513   -0.058756 -0.253863  0.091231 -0.465200   \n",
       "1   -0.430036    -0.429710   -0.035781 -0.229630  0.002763 -0.343144   \n",
       "2   -0.540733    -1.272404   -0.933064 -0.674758 -0.203590 -0.802206   \n",
       "3   -1.098620    -1.004900    0.019734 -0.304348 -0.255852 -0.202150   \n",
       "4   -0.012866     0.341251    0.423848 -0.055247 -0.221790  0.134012   \n",
       "\n",
       "        obv  eth_close  \n",
       "0 -0.034374  -2.384236  \n",
       "1 -0.030472  -0.089675  \n",
       "2 -0.032411  -3.567769  \n",
       "3 -0.012705   1.804979  \n",
       "4 -0.016439   1.340746  "
      ]
     },
     "execution_count": 42,
     "metadata": {},
     "output_type": "execute_result"
    }
   ],
   "source": [
    "train.head()"
   ]
  },
  {
   "cell_type": "code",
   "execution_count": 43,
   "id": "4449f452",
   "metadata": {},
   "outputs": [],
   "source": [
    "## Original LOG values\n",
    "df_log = np.log(original_df[1:])\n",
    "df_log = pd.concat([df_log.iloc[-1:], eth_current_price])\n",
    "df_log.index.freq=\"D\"\n",
    "df_log.rename(columns={\"eth_close\": \"log_close\"}, inplace=True)\n",
    "df_log.rename(columns={\"Close\": \"eth_close\"}, inplace=True)"
   ]
  },
  {
   "cell_type": "code",
   "execution_count": 44,
   "id": "7832c23a",
   "metadata": {},
   "outputs": [],
   "source": [
    "model = VAR(train)\n",
    "results = model.fit(maxlags=maxlags)\n",
    "lag_order = results.k_ar"
   ]
  },
  {
   "cell_type": "code",
   "execution_count": 45,
   "id": "386f0f0e",
   "metadata": {},
   "outputs": [],
   "source": [
    "prior = train.iloc[-lag_order:][columns].to_numpy()\n",
    "fcast = results.forecast(prior, len(eth_current_price))"
   ]
  },
  {
   "cell_type": "code",
   "execution_count": 46,
   "id": "a0902c57",
   "metadata": {},
   "outputs": [],
   "source": [
    "prediction = pd.DataFrame(fcast[:,-1]) ##last column contains eth_close\n",
    "prediction.index = eth_current_price.index\n",
    "prediction.columns = [\"scaled_prediction\"]\n",
    "backscaled_fcast = scaler.inverse_transform(pd.DataFrame(fcast))\n",
    "prediction[\"unscaled_predictions\"] = backscaled_fcast[:, -1]"
   ]
  },
  {
   "cell_type": "code",
   "execution_count": 47,
   "id": "90a59d12",
   "metadata": {},
   "outputs": [],
   "source": [
    "evaluation_df = pd.merge(df_log[[\"log_close\", \"eth_close\"]], prediction, how=\"left\", left_index=True, right_index=True)   "
   ]
  },
  {
   "cell_type": "code",
   "execution_count": 48,
   "id": "4784e141",
   "metadata": {},
   "outputs": [],
   "source": [
    "x, x_diff = evaluation_df['log_close'].iloc[0], evaluation_df['unscaled_predictions'].iloc[1:]\n",
    "evaluation_df[\"log_prediction\"] = np.r_[x, x_diff].cumsum().astype('float64') "
   ]
  },
  {
   "cell_type": "code",
   "execution_count": 49,
   "id": "3d4b3876",
   "metadata": {},
   "outputs": [],
   "source": [
    "evaluation_df = evaluation_df.iloc[1:]\n",
    "evaluation_df = evaluation_df[[\"eth_close\", \"log_prediction\"]]\n",
    "evaluation_df.rename(columns={\"eth_close\": \"true_values\"}, inplace=True)"
   ]
  },
  {
   "cell_type": "code",
   "execution_count": 50,
   "id": "5cbfe7cc",
   "metadata": {},
   "outputs": [
    {
     "name": "stdout",
     "output_type": "stream",
     "text": [
      "RMSE: 4.3075\n",
      "MSE: 18.555\n",
      "MAE: 4.3075\n",
      "MAPE: 0.2808%\n"
     ]
    }
   ],
   "source": [
    "##EXP\n",
    "evaluation_df[\"predicted_values\"] = np.exp(evaluation_df.log_prediction)\n",
    "    \n",
    "try:\n",
    "    rmse = mean_squared_error(evaluation_df['true_values'], evaluation_df[\"predicted_values\"], squared=False)\n",
    "    mse = mean_squared_error(evaluation_df['true_values'], evaluation_df[\"predicted_values\"], squared=True)\n",
    "    mae = mean_absolute_error(evaluation_df['true_values'], evaluation_df[\"predicted_values\"])\n",
    "    mape = mean_absolute_percentage_error(evaluation_df['true_values'], evaluation_df[\"predicted_values\"])\n",
    "except:\n",
    "    pass\n",
    "\n",
    "print(f\"RMSE: {round(rmse, 4)}\")\n",
    "print(f\"MSE: {round(mse, 4)}\")\n",
    "print(f\"MAE: {round(mae, 4)}\")\n",
    "print(f\"MAPE: {str(round(mape*100, 4))}%\")"
   ]
  },
  {
   "cell_type": "code",
   "execution_count": null,
   "id": "cbd7726f",
   "metadata": {},
   "outputs": [],
   "source": []
  },
  {
   "cell_type": "code",
   "execution_count": null,
   "id": "ab82e48c",
   "metadata": {},
   "outputs": [],
   "source": []
  },
  {
   "cell_type": "markdown",
   "id": "1fa5e59c",
   "metadata": {},
   "source": [
    "## 3 DAY"
   ]
  },
  {
   "cell_type": "code",
   "execution_count": 51,
   "id": "1503b263",
   "metadata": {},
   "outputs": [],
   "source": [
    "import yfinance as yf\n",
    "\n",
    "# Define the ticker symbol\n",
    "tickerSymbol = 'ETH-USD'\n",
    "\n",
    "# Get data for this ticker\n",
    "tickerData = yf.Ticker(tickerSymbol)\n",
    "\n",
    "# Get the historical prices for this ticker\n",
    "tickerDf = tickerData.history(period='1d', start='2023-03-07', end='2023-03-24')\n",
    "\n",
    "eth_current_price = pd.DataFrame(tickerDf)\n"
   ]
  },
  {
   "cell_type": "code",
   "execution_count": 52,
   "id": "6a80fced",
   "metadata": {},
   "outputs": [],
   "source": [
    "eth_current_price.index = pd.to_datetime(eth_current_price.index)"
   ]
  },
  {
   "cell_type": "code",
   "execution_count": 53,
   "id": "6f38ccea",
   "metadata": {},
   "outputs": [],
   "source": [
    "eth_current_price = eth_current_price[pd.to_datetime(\"2023-03-08\"):pd.to_datetime(\"2023-03-08\") + pd.Timedelta(days=2)] ## 3 day"
   ]
  },
  {
   "cell_type": "code",
   "execution_count": 54,
   "id": "7838ef07",
   "metadata": {},
   "outputs": [],
   "source": [
    "eth_current_price = eth_current_price[[\"Close\"]]"
   ]
  },
  {
   "cell_type": "code",
   "execution_count": 55,
   "id": "b2cfacb1",
   "metadata": {},
   "outputs": [],
   "source": [
    "eth_current_price.index.freq=\"D\""
   ]
  },
  {
   "cell_type": "code",
   "execution_count": 56,
   "id": "bc8316c0",
   "metadata": {},
   "outputs": [],
   "source": [
    "columns = ['eth_open', 'eth_qav', 'btc_close', \n",
    "           'us_treasury_10yt3m_diff', 'news_sentiment',\n",
    "           'sp500_close', 'unique_whales',\n",
    "           'twitter_sentiment','nasdaq_close', 'gold_value', 'whales_tx_number',\n",
    "           'macd', 'ma_26', 'eth_close']\n",
    "\n",
    "\n",
    "\n",
    "original_df = df\n",
    "maxlags = 14"
   ]
  },
  {
   "cell_type": "code",
   "execution_count": 57,
   "id": "da46a90d",
   "metadata": {
    "scrolled": true
   },
   "outputs": [],
   "source": [
    "scaler = StandardScaler()\n",
    "train = df_stationary[columns]\n",
    "train = pd.DataFrame(scaler.fit_transform(train), columns=train.columns)"
   ]
  },
  {
   "cell_type": "code",
   "execution_count": 58,
   "id": "99465d67",
   "metadata": {},
   "outputs": [
    {
     "data": {
      "text/html": [
       "<div>\n",
       "<style scoped>\n",
       "    .dataframe tbody tr th:only-of-type {\n",
       "        vertical-align: middle;\n",
       "    }\n",
       "\n",
       "    .dataframe tbody tr th {\n",
       "        vertical-align: top;\n",
       "    }\n",
       "\n",
       "    .dataframe thead th {\n",
       "        text-align: right;\n",
       "    }\n",
       "</style>\n",
       "<table border=\"1\" class=\"dataframe\">\n",
       "  <thead>\n",
       "    <tr style=\"text-align: right;\">\n",
       "      <th></th>\n",
       "      <th>eth_open</th>\n",
       "      <th>eth_qav</th>\n",
       "      <th>btc_close</th>\n",
       "      <th>us_treasury_10yt3m_diff</th>\n",
       "      <th>news_sentiment</th>\n",
       "      <th>sp500_close</th>\n",
       "      <th>unique_whales</th>\n",
       "      <th>twitter_sentiment</th>\n",
       "      <th>nasdaq_close</th>\n",
       "      <th>gold_value</th>\n",
       "      <th>whales_tx_number</th>\n",
       "      <th>macd</th>\n",
       "      <th>ma_26</th>\n",
       "      <th>eth_close</th>\n",
       "    </tr>\n",
       "  </thead>\n",
       "  <tbody>\n",
       "    <tr>\n",
       "      <th>0</th>\n",
       "      <td>0.092322</td>\n",
       "      <td>1.353227</td>\n",
       "      <td>-1.918937</td>\n",
       "      <td>0.024136</td>\n",
       "      <td>-0.000150</td>\n",
       "      <td>-0.021376</td>\n",
       "      <td>-2.014157</td>\n",
       "      <td>-0.499635</td>\n",
       "      <td>-0.026076</td>\n",
       "      <td>0.458633</td>\n",
       "      <td>-1.504819</td>\n",
       "      <td>-0.253863</td>\n",
       "      <td>0.228984</td>\n",
       "      <td>-2.384236</td>\n",
       "    </tr>\n",
       "    <tr>\n",
       "      <th>1</th>\n",
       "      <td>-2.368262</td>\n",
       "      <td>-1.137789</td>\n",
       "      <td>0.181993</td>\n",
       "      <td>0.024136</td>\n",
       "      <td>-0.000150</td>\n",
       "      <td>-0.021376</td>\n",
       "      <td>-0.723173</td>\n",
       "      <td>1.165077</td>\n",
       "      <td>-0.026076</td>\n",
       "      <td>-0.021764</td>\n",
       "      <td>-1.098007</td>\n",
       "      <td>-0.229630</td>\n",
       "      <td>0.179774</td>\n",
       "      <td>-0.089675</td>\n",
       "    </tr>\n",
       "    <tr>\n",
       "      <th>2</th>\n",
       "      <td>-0.252478</td>\n",
       "      <td>0.243115</td>\n",
       "      <td>-2.335214</td>\n",
       "      <td>0.024136</td>\n",
       "      <td>-0.000150</td>\n",
       "      <td>-0.021376</td>\n",
       "      <td>1.905666</td>\n",
       "      <td>-2.058867</td>\n",
       "      <td>-0.026076</td>\n",
       "      <td>0.971313</td>\n",
       "      <td>2.487770</td>\n",
       "      <td>-0.674758</td>\n",
       "      <td>-0.492185</td>\n",
       "      <td>-3.567769</td>\n",
       "    </tr>\n",
       "    <tr>\n",
       "      <th>3</th>\n",
       "      <td>-3.226923</td>\n",
       "      <td>0.419379</td>\n",
       "      <td>1.515214</td>\n",
       "      <td>-2.174336</td>\n",
       "      <td>-0.893981</td>\n",
       "      <td>-0.706544</td>\n",
       "      <td>0.338250</td>\n",
       "      <td>0.843398</td>\n",
       "      <td>-0.712563</td>\n",
       "      <td>-0.051784</td>\n",
       "      <td>-0.029339</td>\n",
       "      <td>-0.304348</td>\n",
       "      <td>-0.257860</td>\n",
       "      <td>1.804979</td>\n",
       "    </tr>\n",
       "    <tr>\n",
       "      <th>4</th>\n",
       "      <td>1.675599</td>\n",
       "      <td>-0.693993</td>\n",
       "      <td>1.355587</td>\n",
       "      <td>-0.195711</td>\n",
       "      <td>-0.000150</td>\n",
       "      <td>0.261014</td>\n",
       "      <td>-0.714888</td>\n",
       "      <td>1.140331</td>\n",
       "      <td>0.203584</td>\n",
       "      <td>0.434043</td>\n",
       "      <td>-0.343514</td>\n",
       "      <td>-0.055247</td>\n",
       "      <td>-0.049891</td>\n",
       "      <td>1.340746</td>\n",
       "    </tr>\n",
       "  </tbody>\n",
       "</table>\n",
       "</div>"
      ],
      "text/plain": [
       "   eth_open   eth_qav  btc_close  us_treasury_10yt3m_diff  news_sentiment  \\\n",
       "0  0.092322  1.353227  -1.918937                 0.024136       -0.000150   \n",
       "1 -2.368262 -1.137789   0.181993                 0.024136       -0.000150   \n",
       "2 -0.252478  0.243115  -2.335214                 0.024136       -0.000150   \n",
       "3 -3.226923  0.419379   1.515214                -2.174336       -0.893981   \n",
       "4  1.675599 -0.693993   1.355587                -0.195711       -0.000150   \n",
       "\n",
       "   sp500_close  unique_whales  twitter_sentiment  nasdaq_close  gold_value  \\\n",
       "0    -0.021376      -2.014157          -0.499635     -0.026076    0.458633   \n",
       "1    -0.021376      -0.723173           1.165077     -0.026076   -0.021764   \n",
       "2    -0.021376       1.905666          -2.058867     -0.026076    0.971313   \n",
       "3    -0.706544       0.338250           0.843398     -0.712563   -0.051784   \n",
       "4     0.261014      -0.714888           1.140331      0.203584    0.434043   \n",
       "\n",
       "   whales_tx_number      macd     ma_26  eth_close  \n",
       "0         -1.504819 -0.253863  0.228984  -2.384236  \n",
       "1         -1.098007 -0.229630  0.179774  -0.089675  \n",
       "2          2.487770 -0.674758 -0.492185  -3.567769  \n",
       "3         -0.029339 -0.304348 -0.257860   1.804979  \n",
       "4         -0.343514 -0.055247 -0.049891   1.340746  "
      ]
     },
     "execution_count": 58,
     "metadata": {},
     "output_type": "execute_result"
    }
   ],
   "source": [
    "train.head()"
   ]
  },
  {
   "cell_type": "code",
   "execution_count": 59,
   "id": "5e529491",
   "metadata": {},
   "outputs": [],
   "source": [
    "## Original LOG values\n",
    "df_log = np.log(original_df[1:])\n",
    "df_log = pd.concat([df_log.iloc[-1:], eth_current_price])\n",
    "df_log.index.freq=\"D\"\n",
    "df_log.rename(columns={\"eth_close\": \"log_close\"}, inplace=True)\n",
    "df_log.rename(columns={\"Close\": \"eth_close\"}, inplace=True)"
   ]
  },
  {
   "cell_type": "code",
   "execution_count": 60,
   "id": "8b4afbf9",
   "metadata": {},
   "outputs": [],
   "source": [
    "model = VAR(train)\n",
    "results = model.fit(maxlags=maxlags)\n",
    "lag_order = results.k_ar"
   ]
  },
  {
   "cell_type": "code",
   "execution_count": 61,
   "id": "dccc1594",
   "metadata": {},
   "outputs": [],
   "source": [
    "prior = train.iloc[-lag_order:][columns].to_numpy()\n",
    "fcast = results.forecast(prior, len(eth_current_price))"
   ]
  },
  {
   "cell_type": "code",
   "execution_count": 62,
   "id": "bbbdac60",
   "metadata": {},
   "outputs": [],
   "source": [
    "prediction = pd.DataFrame(fcast[:,-1]) ##last column contains eth_close\n",
    "prediction.index = eth_current_price.index\n",
    "prediction.columns = [\"scaled_prediction\"]\n",
    "backscaled_fcast = scaler.inverse_transform(pd.DataFrame(fcast))\n",
    "prediction[\"unscaled_predictions\"] = backscaled_fcast[:, -1]"
   ]
  },
  {
   "cell_type": "code",
   "execution_count": 63,
   "id": "b04a814d",
   "metadata": {},
   "outputs": [],
   "source": [
    "evaluation_df = pd.merge(df_log[[\"log_close\", \"eth_close\"]], prediction, how=\"left\", left_index=True, right_index=True)   "
   ]
  },
  {
   "cell_type": "code",
   "execution_count": 64,
   "id": "378e3d90",
   "metadata": {},
   "outputs": [],
   "source": [
    "x, x_diff = evaluation_df['log_close'].iloc[0], evaluation_df['unscaled_predictions'].iloc[1:]\n",
    "evaluation_df[\"log_prediction\"] = np.r_[x, x_diff].cumsum().astype('float64') "
   ]
  },
  {
   "cell_type": "code",
   "execution_count": 65,
   "id": "93f0caae",
   "metadata": {},
   "outputs": [],
   "source": [
    "evaluation_df = evaluation_df.iloc[1:]\n",
    "evaluation_df = evaluation_df[[\"eth_close\", \"log_prediction\"]]\n",
    "evaluation_df.rename(columns={\"eth_close\": \"true_values\"}, inplace=True)"
   ]
  },
  {
   "cell_type": "code",
   "execution_count": 66,
   "id": "5585e7cb",
   "metadata": {},
   "outputs": [
    {
     "name": "stdout",
     "output_type": "stream",
     "text": [
      "RMSE: 98.9691\n",
      "MSE: 9794.8838\n",
      "MAE: 91.7504\n",
      "MAPE: 6.3393%\n"
     ]
    }
   ],
   "source": [
    "##EXP\n",
    "evaluation_df[\"predicted_values\"] = np.exp(evaluation_df.log_prediction)\n",
    "    \n",
    "try:\n",
    "    rmse = mean_squared_error(evaluation_df['true_values'], evaluation_df[\"predicted_values\"], squared=False)\n",
    "    mse = mean_squared_error(evaluation_df['true_values'], evaluation_df[\"predicted_values\"], squared=True)\n",
    "    mae = mean_absolute_error(evaluation_df['true_values'], evaluation_df[\"predicted_values\"])\n",
    "    mape = mean_absolute_percentage_error(evaluation_df['true_values'], evaluation_df[\"predicted_values\"])\n",
    "except:\n",
    "    pass\n",
    "\n",
    "print(f\"RMSE: {round(rmse, 4)}\")\n",
    "print(f\"MSE: {round(mse, 4)}\")\n",
    "print(f\"MAE: {round(mae, 4)}\")\n",
    "print(f\"MAPE: {str(round(mape*100, 4))}%\")"
   ]
  },
  {
   "cell_type": "code",
   "execution_count": 67,
   "id": "2f35fe2c",
   "metadata": {},
   "outputs": [
    {
     "data": {
      "text/html": [
       "<div>\n",
       "<style scoped>\n",
       "    .dataframe tbody tr th:only-of-type {\n",
       "        vertical-align: middle;\n",
       "    }\n",
       "\n",
       "    .dataframe tbody tr th {\n",
       "        vertical-align: top;\n",
       "    }\n",
       "\n",
       "    .dataframe thead th {\n",
       "        text-align: right;\n",
       "    }\n",
       "</style>\n",
       "<table border=\"1\" class=\"dataframe\">\n",
       "  <thead>\n",
       "    <tr style=\"text-align: right;\">\n",
       "      <th></th>\n",
       "      <th>true_values</th>\n",
       "      <th>log_prediction</th>\n",
       "      <th>predicted_values</th>\n",
       "    </tr>\n",
       "  </thead>\n",
       "  <tbody>\n",
       "    <tr>\n",
       "      <th>2023-03-08</th>\n",
       "      <td>1534.088257</td>\n",
       "      <td>7.360996</td>\n",
       "      <td>1573.402344</td>\n",
       "    </tr>\n",
       "    <tr>\n",
       "      <th>2023-03-09</th>\n",
       "      <td>1438.660767</td>\n",
       "      <td>7.349177</td>\n",
       "      <td>1554.915717</td>\n",
       "    </tr>\n",
       "    <tr>\n",
       "      <th>2023-03-10</th>\n",
       "      <td>1429.158081</td>\n",
       "      <td>7.345262</td>\n",
       "      <td>1548.840329</td>\n",
       "    </tr>\n",
       "  </tbody>\n",
       "</table>\n",
       "</div>"
      ],
      "text/plain": [
       "            true_values  log_prediction  predicted_values\n",
       "2023-03-08  1534.088257        7.360996       1573.402344\n",
       "2023-03-09  1438.660767        7.349177       1554.915717\n",
       "2023-03-10  1429.158081        7.345262       1548.840329"
      ]
     },
     "execution_count": 67,
     "metadata": {},
     "output_type": "execute_result"
    }
   ],
   "source": [
    "evaluation_df"
   ]
  },
  {
   "cell_type": "code",
   "execution_count": null,
   "id": "6a7186b0",
   "metadata": {},
   "outputs": [],
   "source": []
  },
  {
   "cell_type": "code",
   "execution_count": null,
   "id": "ec790cc1",
   "metadata": {},
   "outputs": [],
   "source": []
  },
  {
   "cell_type": "markdown",
   "id": "3f4a39d3",
   "metadata": {},
   "source": [
    "## 7 DAY"
   ]
  },
  {
   "cell_type": "code",
   "execution_count": 68,
   "id": "efed28e7",
   "metadata": {},
   "outputs": [],
   "source": [
    "import yfinance as yf\n",
    "\n",
    "# Define the ticker symbol\n",
    "tickerSymbol = 'ETH-USD'\n",
    "\n",
    "# Get data for this ticker\n",
    "tickerData = yf.Ticker(tickerSymbol)\n",
    "\n",
    "# Get the historical prices for this ticker\n",
    "tickerDf = tickerData.history(period='1d', start='2023-03-07', end='2023-03-24')\n",
    "\n",
    "eth_current_price = pd.DataFrame(tickerDf)\n"
   ]
  },
  {
   "cell_type": "code",
   "execution_count": 69,
   "id": "e5a24a8d",
   "metadata": {},
   "outputs": [],
   "source": [
    "eth_current_price.index = pd.to_datetime(eth_current_price.index)"
   ]
  },
  {
   "cell_type": "code",
   "execution_count": 70,
   "id": "e39dc9ee",
   "metadata": {},
   "outputs": [],
   "source": [
    "eth_current_price = eth_current_price[pd.to_datetime(\"2023-03-08\"):pd.to_datetime(\"2023-03-08\") + pd.Timedelta(days=6)] ## 1 day"
   ]
  },
  {
   "cell_type": "code",
   "execution_count": 71,
   "id": "e5f0fcb8",
   "metadata": {},
   "outputs": [],
   "source": [
    "eth_current_price = eth_current_price[[\"Close\"]]"
   ]
  },
  {
   "cell_type": "code",
   "execution_count": 72,
   "id": "87361506",
   "metadata": {},
   "outputs": [],
   "source": [
    "eth_current_price.index.freq=\"D\""
   ]
  },
  {
   "cell_type": "code",
   "execution_count": 73,
   "id": "b65946eb",
   "metadata": {},
   "outputs": [],
   "source": [
    "columns = ['btc_close', 'news_sentiment',\n",
    "           'unique_whales', 'signal',\n",
    "           'us_treasury_10yt3m_diff','sp500_close',\n",
    "           'nasdaq_close', 'gold_value', 'whales_tx_number',\n",
    "           'macd', 'eth_close']\n",
    "\n",
    "\n",
    "original_df = df\n",
    "maxlags = 14"
   ]
  },
  {
   "cell_type": "code",
   "execution_count": 74,
   "id": "afd05de7",
   "metadata": {
    "scrolled": true
   },
   "outputs": [],
   "source": [
    "scaler = StandardScaler()\n",
    "train = df_stationary[columns]\n",
    "train = pd.DataFrame(scaler.fit_transform(train), columns=train.columns)"
   ]
  },
  {
   "cell_type": "code",
   "execution_count": 75,
   "id": "76f1d15d",
   "metadata": {},
   "outputs": [
    {
     "data": {
      "text/html": [
       "<div>\n",
       "<style scoped>\n",
       "    .dataframe tbody tr th:only-of-type {\n",
       "        vertical-align: middle;\n",
       "    }\n",
       "\n",
       "    .dataframe tbody tr th {\n",
       "        vertical-align: top;\n",
       "    }\n",
       "\n",
       "    .dataframe thead th {\n",
       "        text-align: right;\n",
       "    }\n",
       "</style>\n",
       "<table border=\"1\" class=\"dataframe\">\n",
       "  <thead>\n",
       "    <tr style=\"text-align: right;\">\n",
       "      <th></th>\n",
       "      <th>btc_close</th>\n",
       "      <th>news_sentiment</th>\n",
       "      <th>unique_whales</th>\n",
       "      <th>signal</th>\n",
       "      <th>us_treasury_10yt3m_diff</th>\n",
       "      <th>sp500_close</th>\n",
       "      <th>nasdaq_close</th>\n",
       "      <th>gold_value</th>\n",
       "      <th>whales_tx_number</th>\n",
       "      <th>macd</th>\n",
       "      <th>eth_close</th>\n",
       "    </tr>\n",
       "  </thead>\n",
       "  <tbody>\n",
       "    <tr>\n",
       "      <th>0</th>\n",
       "      <td>-1.918937</td>\n",
       "      <td>-0.000150</td>\n",
       "      <td>-2.014157</td>\n",
       "      <td>0.091231</td>\n",
       "      <td>0.024136</td>\n",
       "      <td>-0.021376</td>\n",
       "      <td>-0.026076</td>\n",
       "      <td>0.458633</td>\n",
       "      <td>-1.504819</td>\n",
       "      <td>-0.253863</td>\n",
       "      <td>-2.384236</td>\n",
       "    </tr>\n",
       "    <tr>\n",
       "      <th>1</th>\n",
       "      <td>0.181993</td>\n",
       "      <td>-0.000150</td>\n",
       "      <td>-0.723173</td>\n",
       "      <td>0.002763</td>\n",
       "      <td>0.024136</td>\n",
       "      <td>-0.021376</td>\n",
       "      <td>-0.026076</td>\n",
       "      <td>-0.021764</td>\n",
       "      <td>-1.098007</td>\n",
       "      <td>-0.229630</td>\n",
       "      <td>-0.089675</td>\n",
       "    </tr>\n",
       "    <tr>\n",
       "      <th>2</th>\n",
       "      <td>-2.335214</td>\n",
       "      <td>-0.000150</td>\n",
       "      <td>1.905666</td>\n",
       "      <td>-0.203590</td>\n",
       "      <td>0.024136</td>\n",
       "      <td>-0.021376</td>\n",
       "      <td>-0.026076</td>\n",
       "      <td>0.971313</td>\n",
       "      <td>2.487770</td>\n",
       "      <td>-0.674758</td>\n",
       "      <td>-3.567769</td>\n",
       "    </tr>\n",
       "    <tr>\n",
       "      <th>3</th>\n",
       "      <td>1.515214</td>\n",
       "      <td>-0.893981</td>\n",
       "      <td>0.338250</td>\n",
       "      <td>-0.255852</td>\n",
       "      <td>-2.174336</td>\n",
       "      <td>-0.706544</td>\n",
       "      <td>-0.712563</td>\n",
       "      <td>-0.051784</td>\n",
       "      <td>-0.029339</td>\n",
       "      <td>-0.304348</td>\n",
       "      <td>1.804979</td>\n",
       "    </tr>\n",
       "    <tr>\n",
       "      <th>4</th>\n",
       "      <td>1.355587</td>\n",
       "      <td>-0.000150</td>\n",
       "      <td>-0.714888</td>\n",
       "      <td>-0.221790</td>\n",
       "      <td>-0.195711</td>\n",
       "      <td>0.261014</td>\n",
       "      <td>0.203584</td>\n",
       "      <td>0.434043</td>\n",
       "      <td>-0.343514</td>\n",
       "      <td>-0.055247</td>\n",
       "      <td>1.340746</td>\n",
       "    </tr>\n",
       "  </tbody>\n",
       "</table>\n",
       "</div>"
      ],
      "text/plain": [
       "   btc_close  news_sentiment  unique_whales    signal  \\\n",
       "0  -1.918937       -0.000150      -2.014157  0.091231   \n",
       "1   0.181993       -0.000150      -0.723173  0.002763   \n",
       "2  -2.335214       -0.000150       1.905666 -0.203590   \n",
       "3   1.515214       -0.893981       0.338250 -0.255852   \n",
       "4   1.355587       -0.000150      -0.714888 -0.221790   \n",
       "\n",
       "   us_treasury_10yt3m_diff  sp500_close  nasdaq_close  gold_value  \\\n",
       "0                 0.024136    -0.021376     -0.026076    0.458633   \n",
       "1                 0.024136    -0.021376     -0.026076   -0.021764   \n",
       "2                 0.024136    -0.021376     -0.026076    0.971313   \n",
       "3                -2.174336    -0.706544     -0.712563   -0.051784   \n",
       "4                -0.195711     0.261014      0.203584    0.434043   \n",
       "\n",
       "   whales_tx_number      macd  eth_close  \n",
       "0         -1.504819 -0.253863  -2.384236  \n",
       "1         -1.098007 -0.229630  -0.089675  \n",
       "2          2.487770 -0.674758  -3.567769  \n",
       "3         -0.029339 -0.304348   1.804979  \n",
       "4         -0.343514 -0.055247   1.340746  "
      ]
     },
     "execution_count": 75,
     "metadata": {},
     "output_type": "execute_result"
    }
   ],
   "source": [
    "train.head()"
   ]
  },
  {
   "cell_type": "code",
   "execution_count": 76,
   "id": "cd496ffa",
   "metadata": {},
   "outputs": [],
   "source": [
    "## Original LOG values\n",
    "df_log = np.log(original_df[1:])\n",
    "df_log = pd.concat([df_log.iloc[-1:], eth_current_price])\n",
    "df_log.index.freq=\"D\"\n",
    "df_log.rename(columns={\"eth_close\": \"log_close\"}, inplace=True)\n",
    "df_log.rename(columns={\"Close\": \"eth_close\"}, inplace=True)"
   ]
  },
  {
   "cell_type": "code",
   "execution_count": 77,
   "id": "a784fc54",
   "metadata": {},
   "outputs": [],
   "source": [
    "model = VAR(train)\n",
    "results = model.fit(maxlags=maxlags)\n",
    "lag_order = results.k_ar"
   ]
  },
  {
   "cell_type": "code",
   "execution_count": 78,
   "id": "b22b6453",
   "metadata": {},
   "outputs": [],
   "source": [
    "prior = train.iloc[-lag_order:][columns].to_numpy()\n",
    "fcast = results.forecast(prior, len(eth_current_price))"
   ]
  },
  {
   "cell_type": "code",
   "execution_count": 79,
   "id": "dd45b9c7",
   "metadata": {},
   "outputs": [],
   "source": [
    "prediction = pd.DataFrame(fcast[:,-1]) ##last column contains eth_close\n",
    "prediction.index = eth_current_price.index\n",
    "prediction.columns = [\"scaled_prediction\"]\n",
    "backscaled_fcast = scaler.inverse_transform(pd.DataFrame(fcast))\n",
    "prediction[\"unscaled_predictions\"] = backscaled_fcast[:, -1]"
   ]
  },
  {
   "cell_type": "code",
   "execution_count": 80,
   "id": "86c78746",
   "metadata": {},
   "outputs": [],
   "source": [
    "evaluation_df = pd.merge(df_log[[\"log_close\", \"eth_close\"]], prediction, how=\"left\", left_index=True, right_index=True)   "
   ]
  },
  {
   "cell_type": "code",
   "execution_count": 81,
   "id": "69b5e604",
   "metadata": {},
   "outputs": [],
   "source": [
    "x, x_diff = evaluation_df['log_close'].iloc[0], evaluation_df['unscaled_predictions'].iloc[1:]\n",
    "evaluation_df[\"log_prediction\"] = np.r_[x, x_diff].cumsum().astype('float64') "
   ]
  },
  {
   "cell_type": "code",
   "execution_count": 82,
   "id": "97b72b05",
   "metadata": {},
   "outputs": [],
   "source": [
    "evaluation_df = evaluation_df.iloc[1:]\n",
    "evaluation_df = evaluation_df[[\"eth_close\", \"log_prediction\"]]\n",
    "evaluation_df.rename(columns={\"eth_close\": \"true_values\"}, inplace=True)"
   ]
  },
  {
   "cell_type": "code",
   "execution_count": 83,
   "id": "f06252b6",
   "metadata": {
    "scrolled": true
   },
   "outputs": [
    {
     "name": "stdout",
     "output_type": "stream",
     "text": [
      "RMSE: 90.0202\n",
      "MSE: 8103.6359\n",
      "MAE: 79.6972\n",
      "MAPE: 5.2523%\n"
     ]
    }
   ],
   "source": [
    "##EXP\n",
    "evaluation_df[\"predicted_values\"] = np.exp(evaluation_df.log_prediction)\n",
    "    \n",
    "try:\n",
    "    rmse = mean_squared_error(evaluation_df['true_values'], evaluation_df[\"predicted_values\"], squared=False)\n",
    "    mse = mean_squared_error(evaluation_df['true_values'], evaluation_df[\"predicted_values\"], squared=True)\n",
    "    mae = mean_absolute_error(evaluation_df['true_values'], evaluation_df[\"predicted_values\"])\n",
    "    mape = mean_absolute_percentage_error(evaluation_df['true_values'], evaluation_df[\"predicted_values\"])\n",
    "except:\n",
    "    pass\n",
    "\n",
    "print(f\"RMSE: {round(rmse, 4)}\")\n",
    "print(f\"MSE: {round(mse, 4)}\")\n",
    "print(f\"MAE: {round(mae, 4)}\")\n",
    "print(f\"MAPE: {str(round(mape*100, 4))}%\")"
   ]
  },
  {
   "cell_type": "code",
   "execution_count": null,
   "id": "5a3275b0",
   "metadata": {},
   "outputs": [],
   "source": []
  },
  {
   "cell_type": "code",
   "execution_count": null,
   "id": "87df3832",
   "metadata": {},
   "outputs": [],
   "source": []
  },
  {
   "cell_type": "markdown",
   "id": "78cc0f4f",
   "metadata": {},
   "source": [
    "## 14 DAY"
   ]
  },
  {
   "cell_type": "code",
   "execution_count": 84,
   "id": "eb4878c9",
   "metadata": {},
   "outputs": [],
   "source": [
    "import yfinance as yf\n",
    "\n",
    "# Define the ticker symbol\n",
    "tickerSymbol = 'ETH-USD'\n",
    "\n",
    "# Get data for this ticker\n",
    "tickerData = yf.Ticker(tickerSymbol)\n",
    "\n",
    "# Get the historical prices for this ticker\n",
    "tickerDf = tickerData.history(period='1d', start='2023-03-07', end='2023-03-24')\n",
    "\n",
    "eth_current_price = pd.DataFrame(tickerDf)\n"
   ]
  },
  {
   "cell_type": "code",
   "execution_count": 85,
   "id": "bb9c747c",
   "metadata": {},
   "outputs": [],
   "source": [
    "eth_current_price.index = pd.to_datetime(eth_current_price.index)"
   ]
  },
  {
   "cell_type": "code",
   "execution_count": 86,
   "id": "38d6127e",
   "metadata": {},
   "outputs": [],
   "source": [
    "eth_current_price = eth_current_price[pd.to_datetime(\"2023-03-08\"):pd.to_datetime(\"2023-03-08\") + pd.Timedelta(days=13)] ## 14 day"
   ]
  },
  {
   "cell_type": "code",
   "execution_count": 87,
   "id": "2e933c77",
   "metadata": {},
   "outputs": [],
   "source": [
    "eth_current_price = eth_current_price[[\"Close\"]]"
   ]
  },
  {
   "cell_type": "code",
   "execution_count": 88,
   "id": "fa92b30a",
   "metadata": {},
   "outputs": [],
   "source": [
    "eth_current_price.index.freq=\"D\""
   ]
  },
  {
   "cell_type": "code",
   "execution_count": 89,
   "id": "6256539e",
   "metadata": {},
   "outputs": [],
   "source": [
    "columns = ['eth_open', 'eth_qav', 'btc_close', \n",
    "           'us_treasury_10yt3m_diff', 'news_sentiment',\n",
    "           'sp500_close', 'unique_whales',\n",
    "           'twitter_sentiment','nasdaq_close', 'gold_value', 'whales_tx_number',\n",
    "           'macd', 'ma_26', 'eth_close']\n",
    "\n",
    "\n",
    "original_df = df\n",
    "maxlags = 14"
   ]
  },
  {
   "cell_type": "code",
   "execution_count": 90,
   "id": "2fa445da",
   "metadata": {
    "scrolled": true
   },
   "outputs": [],
   "source": [
    "scaler = StandardScaler()\n",
    "train = df_stationary[columns]\n",
    "train = pd.DataFrame(scaler.fit_transform(train), columns=train.columns)"
   ]
  },
  {
   "cell_type": "code",
   "execution_count": 91,
   "id": "f318fb91",
   "metadata": {},
   "outputs": [],
   "source": [
    "## Original LOG values\n",
    "df_log = np.log(original_df[1:])\n",
    "df_log = pd.concat([df_log.iloc[-1:], eth_current_price])\n",
    "df_log.index.freq=\"D\"\n",
    "df_log.rename(columns={\"eth_close\": \"log_close\"}, inplace=True)\n",
    "df_log.rename(columns={\"Close\": \"eth_close\"}, inplace=True)"
   ]
  },
  {
   "cell_type": "code",
   "execution_count": 92,
   "id": "860d7208",
   "metadata": {},
   "outputs": [],
   "source": [
    "model = VAR(train)\n",
    "results = model.fit(maxlags=maxlags)\n",
    "lag_order = results.k_ar"
   ]
  },
  {
   "cell_type": "code",
   "execution_count": 93,
   "id": "00e00967",
   "metadata": {},
   "outputs": [],
   "source": [
    "prior = train.iloc[-lag_order:][columns].to_numpy()\n",
    "fcast = results.forecast(prior, len(eth_current_price))"
   ]
  },
  {
   "cell_type": "code",
   "execution_count": 94,
   "id": "17c9da5d",
   "metadata": {},
   "outputs": [],
   "source": [
    "prediction = pd.DataFrame(fcast[:,-1]) ##last column contains eth_close\n",
    "prediction.index = eth_current_price.index\n",
    "prediction.columns = [\"scaled_prediction\"]\n",
    "backscaled_fcast = scaler.inverse_transform(pd.DataFrame(fcast))\n",
    "prediction[\"unscaled_predictions\"] = backscaled_fcast[:, -1]"
   ]
  },
  {
   "cell_type": "code",
   "execution_count": 95,
   "id": "2975f5fe",
   "metadata": {},
   "outputs": [],
   "source": [
    "evaluation_df = pd.merge(df_log[[\"log_close\", \"eth_close\"]], prediction, how=\"left\", left_index=True, right_index=True)   "
   ]
  },
  {
   "cell_type": "code",
   "execution_count": 96,
   "id": "7b33cc74",
   "metadata": {},
   "outputs": [],
   "source": [
    "x, x_diff = evaluation_df['log_close'].iloc[0], evaluation_df['unscaled_predictions'].iloc[1:]\n",
    "evaluation_df[\"log_prediction\"] = np.r_[x, x_diff].cumsum().astype('float64') "
   ]
  },
  {
   "cell_type": "code",
   "execution_count": 97,
   "id": "f2d1f6d5",
   "metadata": {},
   "outputs": [],
   "source": [
    "evaluation_df = evaluation_df.iloc[1:]\n",
    "evaluation_df = evaluation_df[[\"eth_close\", \"log_prediction\"]]\n",
    "evaluation_df.rename(columns={\"eth_close\": \"true_values\"}, inplace=True)"
   ]
  },
  {
   "cell_type": "code",
   "execution_count": 98,
   "id": "7997ea6d",
   "metadata": {},
   "outputs": [
    {
     "name": "stdout",
     "output_type": "stream",
     "text": [
      "RMSE: 114.0517\n",
      "MSE: 13007.799\n",
      "MAE: 102.6807\n",
      "MAPE: 6.157%\n"
     ]
    }
   ],
   "source": [
    "##EXP\n",
    "evaluation_df[\"predicted_values\"] = np.exp(evaluation_df.log_prediction)\n",
    "    \n",
    "try:\n",
    "    rmse = mean_squared_error(evaluation_df['true_values'], evaluation_df[\"predicted_values\"], squared=False)\n",
    "    mse = mean_squared_error(evaluation_df['true_values'], evaluation_df[\"predicted_values\"], squared=True)\n",
    "    mae = mean_absolute_error(evaluation_df['true_values'], evaluation_df[\"predicted_values\"])\n",
    "    mape = mean_absolute_percentage_error(evaluation_df['true_values'], evaluation_df[\"predicted_values\"])\n",
    "except:\n",
    "    pass\n",
    "\n",
    "print(f\"RMSE: {round(rmse, 4)}\")\n",
    "print(f\"MSE: {round(mse, 4)}\")\n",
    "print(f\"MAE: {round(mae, 4)}\")\n",
    "print(f\"MAPE: {str(round(mape*100, 4))}%\")"
   ]
  },
  {
   "cell_type": "code",
   "execution_count": 99,
   "id": "f9034def",
   "metadata": {},
   "outputs": [
    {
     "data": {
      "text/html": [
       "<div>\n",
       "<style scoped>\n",
       "    .dataframe tbody tr th:only-of-type {\n",
       "        vertical-align: middle;\n",
       "    }\n",
       "\n",
       "    .dataframe tbody tr th {\n",
       "        vertical-align: top;\n",
       "    }\n",
       "\n",
       "    .dataframe thead th {\n",
       "        text-align: right;\n",
       "    }\n",
       "</style>\n",
       "<table border=\"1\" class=\"dataframe\">\n",
       "  <thead>\n",
       "    <tr style=\"text-align: right;\">\n",
       "      <th></th>\n",
       "      <th>true_values</th>\n",
       "      <th>log_prediction</th>\n",
       "      <th>predicted_values</th>\n",
       "    </tr>\n",
       "  </thead>\n",
       "  <tbody>\n",
       "    <tr>\n",
       "      <th>2023-03-08</th>\n",
       "      <td>1534.088257</td>\n",
       "      <td>7.360996</td>\n",
       "      <td>1573.402344</td>\n",
       "    </tr>\n",
       "    <tr>\n",
       "      <th>2023-03-09</th>\n",
       "      <td>1438.660767</td>\n",
       "      <td>7.349177</td>\n",
       "      <td>1554.915717</td>\n",
       "    </tr>\n",
       "    <tr>\n",
       "      <th>2023-03-10</th>\n",
       "      <td>1429.158081</td>\n",
       "      <td>7.345262</td>\n",
       "      <td>1548.840329</td>\n",
       "    </tr>\n",
       "    <tr>\n",
       "      <th>2023-03-11</th>\n",
       "      <td>1482.616699</td>\n",
       "      <td>7.347547</td>\n",
       "      <td>1552.383908</td>\n",
       "    </tr>\n",
       "    <tr>\n",
       "      <th>2023-03-12</th>\n",
       "      <td>1590.292969</td>\n",
       "      <td>7.356553</td>\n",
       "      <td>1566.428431</td>\n",
       "    </tr>\n",
       "    <tr>\n",
       "      <th>2023-03-13</th>\n",
       "      <td>1680.308960</td>\n",
       "      <td>7.370528</td>\n",
       "      <td>1588.472312</td>\n",
       "    </tr>\n",
       "    <tr>\n",
       "      <th>2023-03-14</th>\n",
       "      <td>1703.507080</td>\n",
       "      <td>7.378380</td>\n",
       "      <td>1600.993284</td>\n",
       "    </tr>\n",
       "    <tr>\n",
       "      <th>2023-03-15</th>\n",
       "      <td>1656.180542</td>\n",
       "      <td>7.386609</td>\n",
       "      <td>1614.222339</td>\n",
       "    </tr>\n",
       "    <tr>\n",
       "      <th>2023-03-16</th>\n",
       "      <td>1677.215454</td>\n",
       "      <td>7.391475</td>\n",
       "      <td>1622.096371</td>\n",
       "    </tr>\n",
       "    <tr>\n",
       "      <th>2023-03-17</th>\n",
       "      <td>1792.485107</td>\n",
       "      <td>7.386895</td>\n",
       "      <td>1614.684124</td>\n",
       "    </tr>\n",
       "    <tr>\n",
       "      <th>2023-03-18</th>\n",
       "      <td>1761.659668</td>\n",
       "      <td>7.390909</td>\n",
       "      <td>1621.179875</td>\n",
       "    </tr>\n",
       "    <tr>\n",
       "      <th>2023-03-19</th>\n",
       "      <td>1785.576538</td>\n",
       "      <td>7.395280</td>\n",
       "      <td>1628.280426</td>\n",
       "    </tr>\n",
       "    <tr>\n",
       "      <th>2023-03-20</th>\n",
       "      <td>1735.321289</td>\n",
       "      <td>7.387599</td>\n",
       "      <td>1615.822667</td>\n",
       "    </tr>\n",
       "    <tr>\n",
       "      <th>2023-03-21</th>\n",
       "      <td>1806.760742</td>\n",
       "      <td>7.393028</td>\n",
       "      <td>1624.617520</td>\n",
       "    </tr>\n",
       "  </tbody>\n",
       "</table>\n",
       "</div>"
      ],
      "text/plain": [
       "            true_values  log_prediction  predicted_values\n",
       "2023-03-08  1534.088257        7.360996       1573.402344\n",
       "2023-03-09  1438.660767        7.349177       1554.915717\n",
       "2023-03-10  1429.158081        7.345262       1548.840329\n",
       "2023-03-11  1482.616699        7.347547       1552.383908\n",
       "2023-03-12  1590.292969        7.356553       1566.428431\n",
       "2023-03-13  1680.308960        7.370528       1588.472312\n",
       "2023-03-14  1703.507080        7.378380       1600.993284\n",
       "2023-03-15  1656.180542        7.386609       1614.222339\n",
       "2023-03-16  1677.215454        7.391475       1622.096371\n",
       "2023-03-17  1792.485107        7.386895       1614.684124\n",
       "2023-03-18  1761.659668        7.390909       1621.179875\n",
       "2023-03-19  1785.576538        7.395280       1628.280426\n",
       "2023-03-20  1735.321289        7.387599       1615.822667\n",
       "2023-03-21  1806.760742        7.393028       1624.617520"
      ]
     },
     "execution_count": 99,
     "metadata": {},
     "output_type": "execute_result"
    }
   ],
   "source": [
    "evaluation_df"
   ]
  },
  {
   "cell_type": "code",
   "execution_count": 100,
   "id": "87f0a2a7",
   "metadata": {},
   "outputs": [
    {
     "data": {
      "image/png": "[encoded data removed]",
      "text/plain": [
       "<Figure size 1000x500 with 1 Axes>"
      ]
     },
     "metadata": {},
     "output_type": "display_data"
    }
   ],
   "source": [
    "fig, ax = plt.subplots(figsize=(10, 5))\n",
    "font = {'fontname':'Times New Roman', 'size': 13, 'weight' : 'bold'}\n",
    "ax.plot(evaluation_df[\"true_values\"], label=\"ETH valós értékei\")\n",
    "ax.plot(evaluation_df[\"predicted_values\"], label=\"ETH prediktált értékei\")\n",
    "ax.legend()\n",
    "ax.yaxis.set_major_formatter(\"${x:,.0f}\")\n",
    "ax.set_ylabel(\"ETH napi árfolyama ($)\", **font)\n",
    "ax.set_xlabel(\"dátum\", **font)\n",
    "plt.tight_layout()\n",
    "ax.set_title(\"VAR model Előrejelzés - ETH árfolyamára - Validation Set - 14 napos predikció\", **font)\n",
    "plt.savefig(\"charts/forecast/var_forecast_realworld_example.png\")\n",
    "plt.show()"
   ]
  },
  {
   "cell_type": "code",
   "execution_count": null,
   "id": "30f73e36",
   "metadata": {},
   "outputs": [],
   "source": []
  },
  {
   "cell_type": "code",
   "execution_count": null,
   "id": "9a5aa980",
   "metadata": {},
   "outputs": [],
   "source": []
  },
  {
   "cell_type": "code",
   "execution_count": null,
   "id": "9893f6ef",
   "metadata": {},
   "outputs": [],
   "source": []
  },
  {
   "cell_type": "code",
   "execution_count": null,
   "id": "1a37a065",
   "metadata": {},
   "outputs": [],
   "source": []
  },
  {
   "cell_type": "markdown",
   "id": "11bc310f",
   "metadata": {},
   "source": [
    "## BACKUP"
   ]
  },
  {
   "cell_type": "code",
   "execution_count": 101,
   "id": "c92d2719",
   "metadata": {},
   "outputs": [],
   "source": [
    "def gridsearch_timeseriessplit(dataframe, original_df, test_size=1, maxlags=14):\n",
    "    \n",
    "    tss = TimeSeriesSplit(n_splits=5, test_size=test_size, gap=0)\n",
    "\n",
    "    root_mean_squared_errors = []\n",
    "    mean_squared_errors = []\n",
    "    mean_absolute_errors = []\n",
    "    mean_absolute_percentage_errors = []\n",
    "\n",
    "    df_log = np.log(original_df[1:])\n",
    "    cols = dataframe.columns.tolist()\n",
    "\n",
    "    for train_idx, val_idx in tss.split(dataframe):\n",
    "        #scaler = StandardScaler()\n",
    "        train = dataframe.iloc[train_idx]\n",
    "        test = dataframe.iloc[val_idx]\n",
    "\n",
    "        ## Original LOG values\n",
    "\n",
    "        original_logs = pd.concat([df_log.iloc[train_idx].iloc[-1:], df_log.iloc[val_idx]])\n",
    "        original_logs = original_logs[[\"eth_close\"]]    \n",
    "\n",
    "        ##SCALING\n",
    "        #train[cols] = scaler.fit_transform(train)\n",
    "        #test[cols] = scaler.transform(test)\n",
    "\n",
    "        \n",
    "        train = dataframe.iloc[train_idx]\n",
    "        test = dataframe.iloc[val_idx]\n",
    "        \n",
    "        #Model Fit\n",
    "        model = VAR(train)\n",
    "        results = model.fit(maxlags=maxlags)\n",
    "        lag_order = results.k_ar\n",
    "\n",
    "        prior = train.iloc[-lag_order:][cols].to_numpy()\n",
    "        fcast = results.forecast(prior, len(test))\n",
    "\n",
    "        prediction = pd.DataFrame(fcast[:,-1]) ##last column contains eth_close\n",
    "        prediction.index = test.index\n",
    "        prediction.columns = [\"difference_prediction\"]\n",
    "\n",
    "        evaluation_df = pd.merge(original_logs[[\"eth_close\"]], prediction, how=\"left\", left_index=True, right_index=True)    \n",
    "        \n",
    "        ##UN-DIFFERENCING\n",
    "        x, x_diff = evaluation_df['eth_close'].iloc[0], evaluation_df['difference_prediction'].iloc[1:]\n",
    "        evaluation_df[\"log_prediction\"] = np.r_[x, x_diff].cumsum().astype('float64') ## credit to: https://stackoverflow.com/questions/49903037/pandas-reverse-of-diff\n",
    "        \n",
    "        print(evaluation_df[\"log_prediction\"])\n",
    "        ##EXP\n",
    "        evaluation_df[\"true_values\"] = np.exp(evaluation_df.eth_close)\n",
    "        evaluation_df[\"predicted_values\"] = np.exp(evaluation_df.log_prediction)\n",
    "        evaluation_df = evaluation_df[1:]\n",
    "    \n",
    "    rmse = mean_squared_error(evaluation_df['true_values'], evaluation_df[\"predicted_values\"], squared=False)\n",
    "    root_mean_squared_errors.append(rmse)\n",
    "    mse = mean_squared_error(evaluation_df['true_values'], evaluation_df[\"predicted_values\"], squared=True)\n",
    "    mean_squared_errors.append(mse)        \n",
    "    mae = mean_absolute_error(evaluation_df['true_values'], evaluation_df[\"predicted_values\"])\n",
    "    mean_absolute_errors.append(mae)\n",
    "    mape = mean_absolute_percentage_error(evaluation_df['true_values'], evaluation_df[\"predicted_values\"])\n",
    "    mean_absolute_percentage_errors.append(mape)\n",
    "\n",
    "\n",
    "    print(\"Tesztelve 5 különböző tanulási/tesztelési adatszetten\")\n",
    "    print(f\"RMSE: {round(np.mean(root_mean_squared_errors), 4)}\")\n",
    "    print(f\"MSE: {round(np.mean(mean_squared_errors), 4)}\")\n",
    "    print(f\"MAE: {round(np.mean(mean_absolute_errors), 4)}\")\n",
    "    print(f\"MAPE: {str(round(np.mean(mean_absolute_percentage_errors)*100, 4))}%\")\n",
    "    return evaluation_df"
   ]
  },
  {
   "cell_type": "code",
   "execution_count": 102,
   "id": "d1f1d361",
   "metadata": {},
   "outputs": [],
   "source": [
    "dataframe = df_stationary\n",
    "original_df = df\n",
    "test_size=14\n",
    "maxlags=14"
   ]
  },
  {
   "cell_type": "code",
   "execution_count": 103,
   "id": "0a73c028",
   "metadata": {
    "scrolled": true
   },
   "outputs": [
    {
     "name": "stdout",
     "output_type": "stream",
     "text": [
      "[-0.4149017   0.28921593  0.13512549  0.24132738 -0.44542816 -0.4701006\n",
      "  0.4118654  -0.21085157  0.44142211 -0.48717615 -0.48490521  0.13370355\n",
      "  0.1208274  -0.55829666]\n",
      "[ 2.41157532e-01  8.41827750e+06 -3.07666334e+06  1.37729355e+14\n",
      "  1.52503421e+14  2.22550452e+21  5.98494371e+21  3.32838471e+28\n",
      "  1.48208249e+29  4.89879360e+35  3.45251436e+36  7.82130879e+42\n",
      "  6.62857053e+43  1.16702004e+50]\n"
     ]
    },
    {
     "data": {
      "text/plain": [
       "'\\n    print(test[\"eth_close\"])\\n    print(fcast[:, -1])\\n    prediction = pd.DataFrame(fcast[:,-1]) ##last column contains eth_close\\n    prediction.index = test.index\\n    prediction.columns = [\"scaled_prediction\"]\\n    backscaled_fcast = scaler.inverse_transform(pd.DataFrame(fcast))\\n    prediction[\"unscaled_predictions\"] = backscaled_fcast[:, -1]\\n    \\n    \\n    evaluation_df = pd.merge(original_logs[[\"eth_close\"]], prediction, how=\"left\", left_index=True, right_index=True)    \\n\\n    ##UN-DIFFERENCING\\n    #x, x_diff = evaluation_df[\\'eth_close\\'].iloc[0], evaluation_df[\\'unscaled_predictions\\'].iloc[1:]\\n    evaluation_df[\"log_prediction\"] = evaluation_df[\\'eth_close\\'].shift(1) + evaluation_df[\\'unscaled_predictions\\']\\n    \\n\\n    ##EXP\\n    evaluation_df[\"true_values\"] = np.exp(evaluation_df.eth_close)\\n    evaluation_df[\"predicted_values\"] = np.exp(evaluation_df.log_prediction)\\n    evaluation_df = evaluation_df[1:]\\n\\nrmse = mean_squared_error(evaluation_df[\\'true_values\\'], evaluation_df[\"predicted_values\"], squared=False)\\nroot_mean_squared_errors.append(rmse)\\nmse = mean_squared_error(evaluation_df[\\'true_values\\'], evaluation_df[\"predicted_values\"], squared=True)\\nmean_squared_errors.append(mse)        \\nmae = mean_absolute_error(evaluation_df[\\'true_values\\'], evaluation_df[\"predicted_values\"])\\nmean_absolute_errors.append(mae)\\nmape = mean_absolute_percentage_error(evaluation_df[\\'true_values\\'], evaluation_df[\"predicted_values\"])\\nmean_absolute_percentage_errors.append(mape)\\n\\n\\nprint(\"Tesztelve 5 különböző tanulási/tesztelési adatszetten\")\\nprint(f\"RMSE: {round(np.mean(root_mean_squared_errors), 4)}\")\\nprint(f\"MSE: {round(np.mean(mean_squared_errors), 4)}\")\\nprint(f\"MAE: {round(np.mean(mean_absolute_errors), 4)}\")\\nprint(f\"MAPE: {str(round(np.mean(mean_absolute_percentage_errors)*100, 4))}%\")\\nreturn evaluation_df\\n\\n'"
      ]
     },
     "execution_count": 103,
     "metadata": {},
     "output_type": "execute_result"
    }
   ],
   "source": [
    "tss = TimeSeriesSplit(n_splits=2, test_size=test_size, gap=0)\n",
    "\n",
    "root_mean_squared_errors = []\n",
    "mean_squared_errors = []\n",
    "mean_absolute_errors = []\n",
    "mean_absolute_percentage_errors = []\n",
    "\n",
    "df_log = np.log(original_df[1:]) ## direkt első index nélkül\n",
    "cols = dataframe.columns.tolist()\n",
    "\n",
    "for train_idx, val_idx in tss.split(dataframe):\n",
    "    scaler = StandardScaler()\n",
    "    train = dataframe.iloc[train_idx]\n",
    "    test = dataframe.iloc[val_idx]\n",
    "\n",
    "    ## Original LOG values\n",
    "    original_logs = pd.DataFrame()\n",
    "    original_logs = pd.concat([df_log.iloc[train_idx].iloc[-1:], df_log.iloc[val_idx]])\n",
    "    original_logs = original_logs[[\"eth_close\"]]    \n",
    "\n",
    "    ##SCALING\n",
    "    \n",
    "    scaler.fit(train[cols])\n",
    "    train[cols] = scaler.transform(train[cols])\n",
    "    test[cols] = scaler.transform(test[cols])\n",
    "    \n",
    "    #Model Fit\n",
    "    model = VAR(train)\n",
    "    results = model.fit(maxlags=maxlags)\n",
    "    lag_order = results.k_ar\n",
    "    \n",
    "    prior = train.iloc[-lag_order:][cols].to_numpy()\n",
    "    fcast = results.forecast(prior, len(test))\n",
    "    print(fcast[:, -1])\n",
    "    \n",
    "    \n",
    "\"\"\"\n",
    "    print(test[\"eth_close\"])\n",
    "    print(fcast[:, -1])\n",
    "    prediction = pd.DataFrame(fcast[:,-1]) ##last column contains eth_close\n",
    "    prediction.index = test.index\n",
    "    prediction.columns = [\"scaled_prediction\"]\n",
    "    backscaled_fcast = scaler.inverse_transform(pd.DataFrame(fcast))\n",
    "    prediction[\"unscaled_predictions\"] = backscaled_fcast[:, -1]\n",
    "    \n",
    "    \n",
    "    evaluation_df = pd.merge(original_logs[[\"eth_close\"]], prediction, how=\"left\", left_index=True, right_index=True)    \n",
    "\n",
    "    ##UN-DIFFERENCING\n",
    "    #x, x_diff = evaluation_df['eth_close'].iloc[0], evaluation_df['unscaled_predictions'].iloc[1:]\n",
    "    evaluation_df[\"log_prediction\"] = evaluation_df['eth_close'].shift(1) + evaluation_df['unscaled_predictions']\n",
    "    \n",
    "\n",
    "    ##EXP\n",
    "    evaluation_df[\"true_values\"] = np.exp(evaluation_df.eth_close)\n",
    "    evaluation_df[\"predicted_values\"] = np.exp(evaluation_df.log_prediction)\n",
    "    evaluation_df = evaluation_df[1:]\n",
    "\n",
    "rmse = mean_squared_error(evaluation_df['true_values'], evaluation_df[\"predicted_values\"], squared=False)\n",
    "root_mean_squared_errors.append(rmse)\n",
    "mse = mean_squared_error(evaluation_df['true_values'], evaluation_df[\"predicted_values\"], squared=True)\n",
    "mean_squared_errors.append(mse)        \n",
    "mae = mean_absolute_error(evaluation_df['true_values'], evaluation_df[\"predicted_values\"])\n",
    "mean_absolute_errors.append(mae)\n",
    "mape = mean_absolute_percentage_error(evaluation_df['true_values'], evaluation_df[\"predicted_values\"])\n",
    "mean_absolute_percentage_errors.append(mape)\n",
    "\n",
    "\n",
    "print(\"Tesztelve 5 különböző tanulási/tesztelési adatszetten\")\n",
    "print(f\"RMSE: {round(np.mean(root_mean_squared_errors), 4)}\")\n",
    "print(f\"MSE: {round(np.mean(mean_squared_errors), 4)}\")\n",
    "print(f\"MAE: {round(np.mean(mean_absolute_errors), 4)}\")\n",
    "print(f\"MAPE: {str(round(np.mean(mean_absolute_percentage_errors)*100, 4))}%\")\n",
    "return evaluation_df\n",
    "\n",
    "\"\"\""
   ]
  },
  {
   "cell_type": "code",
   "execution_count": null,
   "id": "0cfadb36",
   "metadata": {},
   "outputs": [],
   "source": []
  },
  {
   "cell_type": "code",
   "execution_count": null,
   "id": "e9627c4c",
   "metadata": {},
   "outputs": [],
   "source": []
  },
  {
   "cell_type": "code",
   "execution_count": null,
   "id": "56747d7d",
   "metadata": {},
   "outputs": [],
   "source": []
  },
  {
   "cell_type": "code",
   "execution_count": null,
   "id": "fa4a6cde",
   "metadata": {},
   "outputs": [],
   "source": []
  },
  {
   "cell_type": "code",
   "execution_count": null,
   "id": "c994806f",
   "metadata": {},
   "outputs": [],
   "source": []
  },
  {
   "cell_type": "code",
   "execution_count": 104,
   "id": "c9c108bf",
   "metadata": {},
   "outputs": [],
   "source": [
    "dataframe = df_stationary\n",
    "original_df = df\n",
    "test_size=14\n",
    "maxlags=14"
   ]
  },
  {
   "cell_type": "code",
   "execution_count": 105,
   "id": "a3035052",
   "metadata": {},
   "outputs": [],
   "source": [
    "tss = TimeSeriesSplit(n_splits=2, test_size=test_size, gap=0)\n",
    "\n",
    "root_mean_squared_errors = []\n",
    "mean_squared_errors = []\n",
    "mean_absolute_errors = []\n",
    "mean_absolute_percentage_errors = []\n",
    "\n",
    "df_log = np.log(original_df[1:]) ## direkt első index nélkül\n",
    "cols = [\"btc_close\",\"eth_close\", \"silver_value\"]"
   ]
  },
  {
   "cell_type": "code",
   "execution_count": 106,
   "id": "8e555176",
   "metadata": {},
   "outputs": [
    {
     "name": "stdout",
     "output_type": "stream",
     "text": [
      "[ 0.08096263  0.05616419  0.07180229  0.03250505 -0.1368086  -0.02374753\n",
      " -0.24544973 -0.10134118  0.04220029 -0.11125189  0.01673217  0.03036529\n",
      "  0.01159193  0.02318664]\n"
     ]
    },
    {
     "ename": "ValueError",
     "evalue": "Expected 2D array, got 1D array instead:\narray=[ 0.08096263  0.05616419  0.07180229  0.03250505 -0.1368086  -0.02374753\n -0.24544973 -0.10134118  0.04220029 -0.11125189  0.01673217  0.03036529\n  0.01159193  0.02318664].\nReshape your data either using array.reshape(-1, 1) if your data has a single feature or array.reshape(1, -1) if it contains a single sample.",
     "output_type": "error",
     "traceback": [
      "\u001b[1;31m---------------------------------------------------------------------------\u001b[0m",
      "\u001b[1;31mValueError\u001b[0m                                Traceback (most recent call last)",
      "Cell \u001b[1;32mIn [106], line 26\u001b[0m\n\u001b[0;32m     24\u001b[0m fcast \u001b[38;5;241m=\u001b[39m results\u001b[38;5;241m.\u001b[39mforecast(prior, \u001b[38;5;28mlen\u001b[39m(test))\n\u001b[0;32m     25\u001b[0m \u001b[38;5;28mprint\u001b[39m(fcast[:,\u001b[38;5;241m-\u001b[39m\u001b[38;5;241m1\u001b[39m])\n\u001b[1;32m---> 26\u001b[0m \u001b[38;5;28mprint\u001b[39m(\u001b[43mscaler\u001b[49m\u001b[38;5;241;43m.\u001b[39;49m\u001b[43minverse_transform\u001b[49m\u001b[43m(\u001b[49m\u001b[43mfcast\u001b[49m\u001b[43m[\u001b[49m\u001b[43m:\u001b[49m\u001b[43m,\u001b[49m\u001b[43m \u001b[49m\u001b[38;5;241;43m-\u001b[39;49m\u001b[38;5;241;43m1\u001b[39;49m\u001b[43m]\u001b[49m\u001b[43m)\u001b[49m)\n",
      "File \u001b[1;32m~\\AppData\\Local\\Programs\\Python\\Python310\\lib\\site-packages\\sklearn\\preprocessing\\_data.py:1017\u001b[0m, in \u001b[0;36mStandardScaler.inverse_transform\u001b[1;34m(self, X, copy)\u001b[0m\n\u001b[0;32m   1014\u001b[0m check_is_fitted(\u001b[38;5;28mself\u001b[39m)\n\u001b[0;32m   1016\u001b[0m copy \u001b[38;5;241m=\u001b[39m copy \u001b[38;5;28;01mif\u001b[39;00m copy \u001b[38;5;129;01mis\u001b[39;00m \u001b[38;5;129;01mnot\u001b[39;00m \u001b[38;5;28;01mNone\u001b[39;00m \u001b[38;5;28;01melse\u001b[39;00m \u001b[38;5;28mself\u001b[39m\u001b[38;5;241m.\u001b[39mcopy\n\u001b[1;32m-> 1017\u001b[0m X \u001b[38;5;241m=\u001b[39m \u001b[43mcheck_array\u001b[49m\u001b[43m(\u001b[49m\n\u001b[0;32m   1018\u001b[0m \u001b[43m    \u001b[49m\u001b[43mX\u001b[49m\u001b[43m,\u001b[49m\n\u001b[0;32m   1019\u001b[0m \u001b[43m    \u001b[49m\u001b[43maccept_sparse\u001b[49m\u001b[38;5;241;43m=\u001b[39;49m\u001b[38;5;124;43m\"\u001b[39;49m\u001b[38;5;124;43mcsr\u001b[39;49m\u001b[38;5;124;43m\"\u001b[39;49m\u001b[43m,\u001b[49m\n\u001b[0;32m   1020\u001b[0m \u001b[43m    \u001b[49m\u001b[43mcopy\u001b[49m\u001b[38;5;241;43m=\u001b[39;49m\u001b[43mcopy\u001b[49m\u001b[43m,\u001b[49m\n\u001b[0;32m   1021\u001b[0m \u001b[43m    \u001b[49m\u001b[43mdtype\u001b[49m\u001b[38;5;241;43m=\u001b[39;49m\u001b[43mFLOAT_DTYPES\u001b[49m\u001b[43m,\u001b[49m\n\u001b[0;32m   1022\u001b[0m \u001b[43m    \u001b[49m\u001b[43mforce_all_finite\u001b[49m\u001b[38;5;241;43m=\u001b[39;49m\u001b[38;5;124;43m\"\u001b[39;49m\u001b[38;5;124;43mallow-nan\u001b[39;49m\u001b[38;5;124;43m\"\u001b[39;49m\u001b[43m,\u001b[49m\n\u001b[0;32m   1023\u001b[0m \u001b[43m\u001b[49m\u001b[43m)\u001b[49m\n\u001b[0;32m   1025\u001b[0m \u001b[38;5;28;01mif\u001b[39;00m sparse\u001b[38;5;241m.\u001b[39missparse(X):\n\u001b[0;32m   1026\u001b[0m     \u001b[38;5;28;01mif\u001b[39;00m \u001b[38;5;28mself\u001b[39m\u001b[38;5;241m.\u001b[39mwith_mean:\n",
      "File \u001b[1;32m~\\AppData\\Local\\Programs\\Python\\Python310\\lib\\site-packages\\sklearn\\utils\\validation.py:879\u001b[0m, in \u001b[0;36mcheck_array\u001b[1;34m(array, accept_sparse, accept_large_sparse, dtype, order, copy, force_all_finite, ensure_2d, allow_nd, ensure_min_samples, ensure_min_features, estimator, input_name)\u001b[0m\n\u001b[0;32m    877\u001b[0m     \u001b[38;5;66;03m# If input is 1D raise error\u001b[39;00m\n\u001b[0;32m    878\u001b[0m     \u001b[38;5;28;01mif\u001b[39;00m array\u001b[38;5;241m.\u001b[39mndim \u001b[38;5;241m==\u001b[39m \u001b[38;5;241m1\u001b[39m:\n\u001b[1;32m--> 879\u001b[0m         \u001b[38;5;28;01mraise\u001b[39;00m \u001b[38;5;167;01mValueError\u001b[39;00m(\n\u001b[0;32m    880\u001b[0m             \u001b[38;5;124m\"\u001b[39m\u001b[38;5;124mExpected 2D array, got 1D array instead:\u001b[39m\u001b[38;5;130;01m\\n\u001b[39;00m\u001b[38;5;124marray=\u001b[39m\u001b[38;5;132;01m{}\u001b[39;00m\u001b[38;5;124m.\u001b[39m\u001b[38;5;130;01m\\n\u001b[39;00m\u001b[38;5;124m\"\u001b[39m\n\u001b[0;32m    881\u001b[0m             \u001b[38;5;124m\"\u001b[39m\u001b[38;5;124mReshape your data either using array.reshape(-1, 1) if \u001b[39m\u001b[38;5;124m\"\u001b[39m\n\u001b[0;32m    882\u001b[0m             \u001b[38;5;124m\"\u001b[39m\u001b[38;5;124myour data has a single feature or array.reshape(1, -1) \u001b[39m\u001b[38;5;124m\"\u001b[39m\n\u001b[0;32m    883\u001b[0m             \u001b[38;5;124m\"\u001b[39m\u001b[38;5;124mif it contains a single sample.\u001b[39m\u001b[38;5;124m\"\u001b[39m\u001b[38;5;241m.\u001b[39mformat(array)\n\u001b[0;32m    884\u001b[0m         )\n\u001b[0;32m    886\u001b[0m \u001b[38;5;28;01mif\u001b[39;00m dtype_numeric \u001b[38;5;129;01mand\u001b[39;00m array\u001b[38;5;241m.\u001b[39mdtype\u001b[38;5;241m.\u001b[39mkind \u001b[38;5;129;01min\u001b[39;00m \u001b[38;5;124m\"\u001b[39m\u001b[38;5;124mUSV\u001b[39m\u001b[38;5;124m\"\u001b[39m:\n\u001b[0;32m    887\u001b[0m     \u001b[38;5;28;01mraise\u001b[39;00m \u001b[38;5;167;01mValueError\u001b[39;00m(\n\u001b[0;32m    888\u001b[0m         \u001b[38;5;124m\"\u001b[39m\u001b[38;5;124mdtype=\u001b[39m\u001b[38;5;124m'\u001b[39m\u001b[38;5;124mnumeric\u001b[39m\u001b[38;5;124m'\u001b[39m\u001b[38;5;124m is not compatible with arrays of bytes/strings.\u001b[39m\u001b[38;5;124m\"\u001b[39m\n\u001b[0;32m    889\u001b[0m         \u001b[38;5;124m\"\u001b[39m\u001b[38;5;124mConvert your data to numeric values explicitly instead.\u001b[39m\u001b[38;5;124m\"\u001b[39m\n\u001b[0;32m    890\u001b[0m     )\n",
      "\u001b[1;31mValueError\u001b[0m: Expected 2D array, got 1D array instead:\narray=[ 0.08096263  0.05616419  0.07180229  0.03250505 -0.1368086  -0.02374753\n -0.24544973 -0.10134118  0.04220029 -0.11125189  0.01673217  0.03036529\n  0.01159193  0.02318664].\nReshape your data either using array.reshape(-1, 1) if your data has a single feature or array.reshape(1, -1) if it contains a single sample."
     ]
    }
   ],
   "source": [
    "scaler = StandardScaler()\n",
    "train = dataframe.iloc[train_idx]\n",
    "test = dataframe.iloc[val_idx]\n",
    "\n",
    "## Original LOG values\n",
    "original_logs = pd.DataFrame()\n",
    "original_logs = pd.concat([df_log.iloc[train_idx].iloc[-1:], df_log.iloc[val_idx]])\n",
    "original_logs = original_logs[[\"eth_close\"]]    \n",
    "\n",
    "##SCALING\n",
    "\n",
    "scaler.fit(train[cols])\n",
    "train[cols] = scaler.transform(train[cols])\n",
    "test[cols]= scaler.transform(test[cols])\n",
    "\n",
    "train = pd.DataFrame(train, columns=cols)\n",
    "\n",
    "#Model Fit\n",
    "model = VAR(train)\n",
    "results = model.fit(maxlags=maxlags)\n",
    "lag_order = results.k_ar\n",
    "\n",
    "prior = train.iloc[-lag_order:][cols].to_numpy()\n",
    "fcast = results.forecast(prior, len(test))\n",
    "print(fcast[:,-1])\n",
    "print(scaler.inverse_transform(fcast[:, -1]))"
   ]
  },
  {
   "cell_type": "code",
   "execution_count": null,
   "id": "8d5f96db",
   "metadata": {},
   "outputs": [],
   "source": []
  },
  {
   "cell_type": "code",
   "execution_count": null,
   "id": "b6b85beb",
   "metadata": {},
   "outputs": [],
   "source": []
  },
  {
   "cell_type": "code",
   "execution_count": null,
   "id": "8f6ee682",
   "metadata": {},
   "outputs": [],
   "source": []
  },
  {
   "cell_type": "code",
   "execution_count": null,
   "id": "938ebebe",
   "metadata": {},
   "outputs": [],
   "source": []
  },
  {
   "cell_type": "code",
   "execution_count": null,
   "id": "6b4c8479",
   "metadata": {},
   "outputs": [],
   "source": []
  },
  {
   "cell_type": "code",
   "execution_count": null,
   "id": "9253ca92",
   "metadata": {},
   "outputs": [],
   "source": []
  },
  {
   "cell_type": "code",
   "execution_count": null,
   "id": "f8fa01cb",
   "metadata": {
    "scrolled": true
   },
   "outputs": [],
   "source": [
    "dataframe = df_stationary\n",
    "test_size = 25\n",
    "original_df = df\n",
    "\n",
    "\n",
    "tss = TimeSeriesSplit(n_splits=5, test_size=test_size, gap=0)\n",
    "\n",
    "scaler = StandardScaler()\n",
    "root_mean_squared_errors = []\n",
    "mean_squared_errors = []\n",
    "mean_absolute_errors = []\n",
    "mean_absolute_percentage_errors = []\n",
    "\n",
    "df_log = np.log(original_df[1:])\n",
    "cols = dataframe.columns.tolist()\n",
    "\n",
    "for train_idx, val_idx in tss.split(dataframe):\n",
    "    train = dataframe.iloc[train_idx]\n",
    "    test = dataframe.iloc[val_idx]\n",
    "    \n",
    "    ## Original LOG values\n",
    "    \n",
    "    original_logs = pd.concat([df_log.iloc[train_idx].iloc[-1:], df_log.iloc[val_idx]])\n",
    "    original_logs = original_logs[[\"eth_close\"]]    \n",
    "    \n",
    "    ##SCALING\n",
    "    train[cols] = scaler.fit_transform(train)\n",
    "    test[cols] = scaler.transform(test)\n",
    "\n",
    "    #Model Fit\n",
    "    model = VAR(train)\n",
    "    results = model.fit(maxlags=21)\n",
    "    lag_order = results.k_ar\n",
    "    \n",
    "    prior = train.iloc[-lag_order:][cols].to_numpy()\n",
    "    fcast = results.forecast(prior, len(test))\n",
    "    \n",
    "    prediction = pd.DataFrame(fcast[:,-1]) ##last column contains eth_close\n",
    "    prediction.index = test.index\n",
    "    prediction.columns = [\"scaled_prediction\"]\n",
    "    backscaled_fcast = scaler.inverse_transform(pd.DataFrame(fcast))\n",
    "    prediction[\"unscaled_predictions\"] = backscaled_fcast[:, -1]\n",
    "    \n",
    "    evaluation_df = pd.merge(original_logs[[\"eth_close\"]], prediction, how=\"left\", left_index=True, right_index=True)    \n",
    "            \n",
    "    x, x_diff = evaluation_df['eth_close'].iloc[0], evaluation_df['unscaled_predictions'].iloc[1:]\n",
    "    evaluation_df[\"log_prediction\"] = np.r_[x, x_diff].cumsum() ## credit to: https://stackoverflow.com/questions/49903037/pandas-reverse-of-diff\n",
    "    \n",
    "    evaluation_df[\"true_values\"] = np.exp(evaluation_df.eth_close)\n",
    "    evaluation_df[\"predicted_values\"] = np.exp(evaluation_df.log_prediction)\n",
    "    evaluation_df = evaluation_df[1:]\n",
    "\n",
    "rmse = mean_squared_error(test['eth_close'], scaler.inverse_transform(prediction.prediction), squared=False)\n",
    "root_mean_squared_errors.append(rmse)\n",
    "mse = mean_squared_error(test['eth_close'], scaler.inverse_transform(prediction.prediction), squared=True)\n",
    "mean_squared_errors.append(mse)        \n",
    "mae = mean_absolute_error(test['eth_close'],scaler.inverse_transform(prediction.prediction))\n",
    "mean_absolute_errors.append(mae)\n",
    "mape = mean_absolute_percentage_error(test['eth_close'],scaler.inverse_transform(prediction.prediction))\n",
    "mean_absolute_percentage_errors.append(mape)\n",
    "\n",
    "\n",
    "print(\"Tesztelve 5 különböző tanulási/tesztelési adatszetten\")\n",
    "print(f\"RMSE: {round(np.mean(root_mean_squared_errors), 4)}\")\n",
    "print(f\"MSE: {round(np.mean(mean_squared_errors), 4)}\")\n",
    "print(f\"MAE: {round(np.mean(mean_absolute_errors), 4)}\")\n",
    "print(f\"MAPE: {str(round(np.mean(mean_absolute_percentage_errors)*100, 4))}%\")\n",
    "return train_pred, test[column], fcast, confint"
   ]
  },
  {
   "cell_type": "code",
   "execution_count": null,
   "id": "6d7f2180",
   "metadata": {},
   "outputs": [],
   "source": []
  },
  {
   "cell_type": "code",
   "execution_count": null,
   "id": "6e31b4c0",
   "metadata": {},
   "outputs": [],
   "source": [
    "df[-1:]"
   ]
  },
  {
   "cell_type": "code",
   "execution_count": null,
   "id": "f1d5bbb1",
   "metadata": {},
   "outputs": [],
   "source": [
    "df_log.iloc[train_idx].iloc[-1:]"
   ]
  },
  {
   "cell_type": "code",
   "execution_count": null,
   "id": "b7f9180b",
   "metadata": {},
   "outputs": [],
   "source": [
    "pd.concat([pd.DataFrame(df_log.iloc[train_idx].iloc[-1]), df_log.iloc[val_idx]])"
   ]
  }
 ],
 "metadata": {
  "kernelspec": {
   "display_name": "Python 3 (ipykernel)",
   "language": "python",
   "name": "python3"
  },
  "language_info": {
   "codemirror_mode": {
    "name": "ipython",
    "version": 3
   },
   "file_extension": ".py",
   "mimetype": "text/x-python",
   "name": "python",
   "nbconvert_exporter": "python",
   "pygments_lexer": "ipython3",
   "version": "3.10.7"
  }
 },
 "nbformat": 4,
 "nbformat_minor": 5
}
